{
 "cells": [
  {
   "cell_type": "code",
   "execution_count": 1,
   "id": "a4b4d1f8-5083-4339-a54f-da75078b36ba",
   "metadata": {},
   "outputs": [],
   "source": [
    "import pandas as pd \n",
    "import requests\n",
    "import os\n",
    "import json\n",
    "import numpy as np"
   ]
  },
  {
   "cell_type": "code",
   "execution_count": 11,
   "id": "82914903-4008-46d7-84e9-00596961ac21",
   "metadata": {},
   "outputs": [],
   "source": [
    "import json\n",
    "\n",
    "# Open and read the JSON file\n",
    "with open('C:/Users/akobe/OneDrive/Desktop/Lighthouse/After/NHL-Stats/Reg_Season_23_24/Data/game_data_all.json') as file:\n",
    "    data = json.load(file)"
   ]
  },
  {
   "cell_type": "code",
   "execution_count": null,
   "id": "d85afbce-1860-4335-9540-2d641fa89f16",
   "metadata": {},
   "outputs": [],
   "source": [
    "from IPython.display import JSON\n",
    "JSON(data)"
   ]
  }
 ],
 "metadata": {
  "kernelspec": {
   "display_name": "Python 3 (ipykernel)",
   "language": "python",
   "name": "python3"
  },
  "language_info": {
   "codemirror_mode": {
    "name": "ipython",
    "version": 3
   },
   "file_extension": ".py",
   "mimetype": "text/x-python",
   "name": "python",
   "nbconvert_exporter": "python",
   "pygments_lexer": "ipython3",
   "version": "3.9.13"
  }
 },
 "nbformat": 4,
 "nbformat_minor": 5
}
