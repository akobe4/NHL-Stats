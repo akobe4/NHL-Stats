{
 "cells": [
  {
   "cell_type": "code",
   "execution_count": 1,
   "id": "e4a21e6d-6133-440e-814f-c4c0fb0a2cca",
   "metadata": {},
   "outputs": [],
   "source": [
    "import pandas as pd \n",
    "import requests\n",
    "import os\n",
    "import json\n",
    "import numpy as np"
   ]
  },
  {
   "cell_type": "code",
   "execution_count": 2,
   "id": "15d7b2f8-6acb-41d7-8aac-56de783b9f8d",
   "metadata": {},
   "outputs": [],
   "source": [
    "#create game number list \n",
    "#game numbers range from 0001-1353\n",
    "\n",
    "game_number_list = list(range(1,1354))"
   ]
  },
  {
   "cell_type": "code",
   "execution_count": 3,
   "id": "08f8f747-1763-426e-bdd5-0e4ca284ed40",
   "metadata": {},
   "outputs": [],
   "source": [
    "#pad the game number list with leading zeros to create a number that's 4 digits \n",
    "game_number_list_pad = [str(number).zfill(4) for number in game_number_list]"
   ]
  },
  {
   "cell_type": "code",
   "execution_count": 4,
   "id": "eb34a921-9cf9-4894-a9e9-f658fd76c2e9",
   "metadata": {},
   "outputs": [],
   "source": [
    "#create lists in smaller sections \n",
    "game_number_list_pad_1 = game_number_list_pad[:500]\n",
    "game_number_list_pad_2 = game_number_list_pad[500:1000]\n",
    "game_number_list_pad_3 = game_number_list_pad[1000:]"
   ]
  },
  {
   "cell_type": "markdown",
   "id": "980b534b-845e-480b-b768-ae84e829c60a",
   "metadata": {},
   "source": [
    "## pull game data game #'s 2023020001 - 2023020500"
   ]
  },
  {
   "cell_type": "code",
   "execution_count": 9,
   "id": "3af3006d-d4ce-4cf7-9087-cb40e9bf7e0d",
   "metadata": {},
   "outputs": [],
   "source": [
    "#create the url's for each game number - 1 \n",
    "all_url_1 = []\n",
    "\n",
    "for i in range(len(game_number_list_pad_1)):\n",
    "    game_number_1 = game_number_list_pad_1[i]\n",
    "    game_number_url_1 = 'https://api-web.nhle.com/v1/gamecenter/202302'+str(game_number_1)+'/play-by-play'\n",
    "    all_url_1.append(game_number_url_1)"
   ]
  },
  {
   "cell_type": "code",
   "execution_count": 10,
   "id": "e7dd05ad-666b-420e-ad9f-decf3608750a",
   "metadata": {},
   "outputs": [],
   "source": [
    "#pull the game data from NHL url 1 \n",
    "game_data_1 = []\n",
    "\n",
    "for i in range(len(all_url_1)):\n",
    "    response_1 = requests.get(all_url_1[i])\n",
    "    game_data_1.append(response_1.json())"
   ]
  },
  {
   "cell_type": "code",
   "execution_count": 14,
   "id": "71cb4ae4-d3a7-4937-ad06-5fd8c48e8aa3",
   "metadata": {},
   "outputs": [],
   "source": [
    "#from IPython.display import JSON\n",
    "#JSON(game_data_1)"
   ]
  },
  {
   "cell_type": "code",
   "execution_count": 15,
   "id": "c10d8e0b-5f0a-4012-beb3-30344aca1178",
   "metadata": {},
   "outputs": [],
   "source": [
    "#Store the JSON data in a file\n",
    "#with open(\"game_data_1.json\", \"w\") as file:\n",
    "#    json.dump(game_data_1, file)"
   ]
  }
 ],
 "metadata": {
  "kernelspec": {
   "display_name": "lighthouse",
   "language": "python",
   "name": "lighthouse"
  },
  "language_info": {
   "codemirror_mode": {
    "name": "ipython",
    "version": 3
   },
   "file_extension": ".py",
   "mimetype": "text/x-python",
   "name": "python",
   "nbconvert_exporter": "python",
   "pygments_lexer": "ipython3",
   "version": "3.9.13"
  }
 },
 "nbformat": 4,
 "nbformat_minor": 5
}
