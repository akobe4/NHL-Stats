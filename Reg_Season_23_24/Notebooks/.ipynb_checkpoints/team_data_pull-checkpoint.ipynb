{
 "cells": [
  {
   "cell_type": "code",
   "execution_count": 1,
   "id": "aa58aa4c-05a5-4cf5-b2ed-3afbe187267a",
   "metadata": {},
   "outputs": [],
   "source": [
    "import pandas as pd \n",
    "import requests\n",
    "import os\n",
    "import json\n",
    "import numpy as np"
   ]
  },
  {
   "cell_type": "code",
   "execution_count": 2,
   "id": "451ef4e7-8673-4025-8af4-ed26d471d4b7",
   "metadata": {},
   "outputs": [],
   "source": [
    "#pull standings data 2023-2024 regular season \n",
    "standings_data = []\n",
    "\n",
    "response = requests.get('https://api-web.nhle.com/v1/standings/2024-04-18')\n",
    "standings_data = response.json()"
   ]
  },
  {
   "cell_type": "code",
   "execution_count": 70,
   "id": "8c56a070-5848-4211-9a19-5c01abd4905c",
   "metadata": {},
   "outputs": [],
   "source": [
    "#view JSON file \n",
    "#from IPython.display import JSON\n",
    "#JSON(standings_data)"
   ]
  },
  {
   "cell_type": "code",
   "execution_count": 10,
   "id": "ed8058bb-a01f-40d6-afaf-ec00e6c467ee",
   "metadata": {},
   "outputs": [],
   "source": [
    "#save json file \n",
    "#with open('standings_data.json', 'w') as file:\n",
    "#    json.dump(standings_data, file)"
   ]
  },
  {
   "cell_type": "code",
   "execution_count": 64,
   "id": "23087695-812b-4d0e-ab5b-7b7e910732f7",
   "metadata": {},
   "outputs": [],
   "source": [
    "#create empty lists to create dataframe for standings \n",
    "season_id = []\n",
    "game_type_id = []\n",
    "team = []\n",
    "conference = []\n",
    "division = []\n",
    "league_standing = []\n",
    "conf_standing = []\n",
    "div_standing = []\n",
    "games_played = []\n",
    "goal_diff = []\n",
    "goal_diff_pctg = []\n",
    "goals_against = []\n",
    "goals_for = []\n",
    "goals_for_pctg = []\n",
    "losses = []\n",
    "ot_losses = []\n",
    "points_pctg = []\n",
    "points = [] \n",
    "reg_wins = []\n",
    "reg_ot_wins = []\n",
    "reg_win_pctg = []\n",
    "so_losses = []\n",
    "so_wins = []\n",
    "win_pctg = []\n",
    "wins = []\n",
    "\n",
    "#home stats \n",
    "home_goal_diff = []\n",
    "home_goals_against = []\n",
    "home_goals_for = []\n",
    "home_losses = []\n",
    "home_ot_losses = []\n",
    "home_points = []\n",
    "home_reg_wins = []\n",
    "home_reg_ot_wins = []\n",
    "home_wins = []\n",
    "\n",
    "#road stats \n",
    "road_goal_diff = []\n",
    "road_goals_against = []\n",
    "road_goals_for = []\n",
    "road_losses = []\n",
    "road_ot_losses = []\n",
    "road_points = []\n",
    "road_reg_wins = []\n",
    "road_reg_ot_wins = []\n",
    "road_wins = []"
   ]
  },
  {
   "cell_type": "code",
   "execution_count": 65,
   "id": "f7ec135b-b725-4963-8923-ae70b5bd3889",
   "metadata": {},
   "outputs": [],
   "source": [
    "for i in standings_data['standings']:\n",
    "    #general stats\n",
    "    season_id.append(i['seasonId'])\n",
    "    game_type_id.append(i['gameTypeId'])\n",
    "    team.append(i['teamAbbrev']['default'])\n",
    "    conference.append(i['conferenceName'])\n",
    "    division.append(i['divisionName'])\n",
    "    league_standing.append(i['leagueSequence'])\n",
    "    conf_standing.append(i['conferenceSequence'])\n",
    "    div_standing.append(i['divisionSequence'])\n",
    "    games_played.append(i['gamesPlayed'])\n",
    "    goal_diff.append(i['goalDifferential'])\n",
    "    goal_diff_pctg.append(i['goalDifferentialPctg'])\n",
    "    goals_against.append(i['goalAgainst'])\n",
    "    goals_for.append(i['goalFor'])\n",
    "    goals_for_pctg.append(i['goalsForPctg'])\n",
    "    losses.append(i['losses'])\n",
    "    ot_losses.append(i['otLosses'])\n",
    "    points_pctg.append(i['pointPctg'])\n",
    "    points.append(i['points'])\n",
    "    reg_wins.append(i['regulationWins'])\n",
    "    reg_ot_wins.append(i['regulationPlusOtWins'])\n",
    "    reg_win_pctg.append(i['regulationWinPctg'])\n",
    "    so_losses.append(i['shootoutLosses'])\n",
    "    so_wins.append(i['shootoutWins'])\n",
    "    win_pctg.append(i['winPctg'])\n",
    "    wins.append(i['wins'])\n",
    "\n",
    "    #home stats \n",
    "    home_goal_diff.append(i['homeGoalDifferential'])\n",
    "    home_goals_against.append(i['homeGoalsAgainst'])\n",
    "    home_goals_for.append(i['homeGoalsFor'])\n",
    "    home_losses.append(i['homeLosses'])\n",
    "    home_ot_losses.append(i['homeOtLosses'])\n",
    "    home_points.append(i['homePoints'])\n",
    "    home_reg_wins.append(i['homeRegulationWins'])\n",
    "    home_reg_ot_wins.append(i['homeRegulationPlusOtWins'])\n",
    "    home_wins.append(i['homeWins'])\n",
    "    \n",
    "    #road stats\n",
    "    road_goal_diff.append(i['roadGoalDifferential'])\n",
    "    road_goals_against.append(i['roadGoalsAgainst'])\n",
    "    road_goals_for.append(i['roadGoalsFor'])\n",
    "    road_losses.append(i['roadLosses'])\n",
    "    road_ot_losses.append(i['roadOtLosses'])\n",
    "    road_points.append(i['roadPoints'])\n",
    "    road_reg_wins.append(i['roadRegulationWins'])\n",
    "    road_reg_ot_wins.append(i['roadRegulationPlusOtWins'])\n",
    "    road_wins.append(i['roadWins'])"
   ]
  },
  {
   "cell_type": "code",
   "execution_count": 67,
   "id": "88ccfe06-c106-4704-8c1e-297f34417c3a",
   "metadata": {},
   "outputs": [],
   "source": [
    "#create dataframe\n",
    "standings_data = pd.DataFrame(list(zip(season_id, game_type_id, team, conference, division, league_standing, conf_standing, div_standing, \n",
    "                                  games_played, goal_diff, goal_diff_pctg, goals_against, goals_for, goals_for_pctg, losses, ot_losses,\n",
    "                                  points_pctg, points, reg_wins, reg_ot_wins, reg_win_pctg, so_losses, so_wins, win_pctg, wins,\n",
    "                                  home_goal_diff, home_goals_against, home_goals_for, home_losses, home_ot_losses, home_points,\n",
    "                                  home_reg_wins, home_reg_ot_wins, home_wins, road_goal_diff, road_goals_against, road_goals_for, \n",
    "                                  road_losses, road_ot_losses, road_points, road_reg_wins, road_reg_ot_wins, road_wins)),\n",
    "               columns =['season_id', 'game_type_id', 'team', 'conference', 'division', 'league_standing', 'conf_standing', 'div_standing', \n",
    "                            'games_played', 'goal_diff', 'goal_diff_pctg', 'goals_against', 'goals_for', 'goals_for_pctg', 'losses', 'ot_losses',\n",
    "                            'points_pctg', 'points', 'reg_wins', 'reg_ot_wins', 'reg_win_pctg', 'so_losses', 'so_wins', 'win_pctg', 'wins',\n",
    "                            'home_goal_diff', 'home_goals_against', 'home_goals_for', 'home_losses', 'home_ot_losses', 'home_points',\n",
    "                            'home_reg_wins', 'home_reg_ot_wins', 'home_wins', 'road_goal_diff', 'road_goals_against', 'road_goals_for', \n",
    "                            'road_losses', 'road_ot_losses', 'road_points', 'road_reg_wins', 'road_reg_ot_wins', 'road_wins'])"
   ]
  },
  {
   "cell_type": "code",
   "execution_count": 71,
   "id": "f3ec3898-beac-4aec-97db-472643b69930",
   "metadata": {},
   "outputs": [],
   "source": [
    "#create a csv of the standings info\n",
    "#standings_data.to_csv('standings_data.csv')"
   ]
  }
 ],
 "metadata": {
  "kernelspec": {
   "display_name": "Python 3 (ipykernel)",
   "language": "python",
   "name": "python3"
  },
  "language_info": {
   "codemirror_mode": {
    "name": "ipython",
    "version": 3
   },
   "file_extension": ".py",
   "mimetype": "text/x-python",
   "name": "python",
   "nbconvert_exporter": "python",
   "pygments_lexer": "ipython3",
   "version": "3.9.13"
  }
 },
 "nbformat": 4,
 "nbformat_minor": 5
}
