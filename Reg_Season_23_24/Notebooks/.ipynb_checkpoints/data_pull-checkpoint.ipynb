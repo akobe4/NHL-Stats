{
 "cells": [
  {
   "cell_type": "code",
   "execution_count": 1,
   "id": "e4a21e6d-6133-440e-814f-c4c0fb0a2cca",
   "metadata": {},
   "outputs": [],
   "source": [
    "import pandas as pd \n",
    "import requests\n",
    "import os\n",
    "import json\n",
    "import numpy as np"
   ]
  },
  {
   "cell_type": "code",
   "execution_count": 2,
   "id": "15d7b2f8-6acb-41d7-8aac-56de783b9f8d",
   "metadata": {},
   "outputs": [],
   "source": [
    "#create game number list \n",
    "#game numbers range from 0001-1353\n",
    "\n",
    "game_number_list = list(range(1,1313))"
   ]
  },
  {
   "cell_type": "code",
   "execution_count": 3,
   "id": "08f8f747-1763-426e-bdd5-0e4ca284ed40",
   "metadata": {},
   "outputs": [],
   "source": [
    "#pad the game number list with leading zeros to create a number that's 4 digits \n",
    "game_number_list_pad = [str(number).zfill(4) for number in game_number_list]"
   ]
  },
  {
   "cell_type": "code",
   "execution_count": 4,
   "id": "eb34a921-9cf9-4894-a9e9-f658fd76c2e9",
   "metadata": {},
   "outputs": [],
   "source": [
    "#create lists in smaller sections \n",
    "game_number_list_pad_1 = game_number_list_pad[:500]\n",
    "game_number_list_pad_2 = game_number_list_pad[500:1000]\n",
    "game_number_list_pad_3 = game_number_list_pad[1000:]"
   ]
  },
  {
   "cell_type": "markdown",
   "id": "980b534b-845e-480b-b768-ae84e829c60a",
   "metadata": {},
   "source": [
    "## pull game data game #'s 2023020001 - 2023020500"
   ]
  },
  {
   "cell_type": "code",
   "execution_count": 9,
   "id": "3af3006d-d4ce-4cf7-9087-cb40e9bf7e0d",
   "metadata": {},
   "outputs": [],
   "source": [
    "#create the url's for each game number - 1 \n",
    "all_url_1 = []\n",
    "\n",
    "for i in range(len(game_number_list_pad_1)):\n",
    "    game_number_1 = game_number_list_pad_1[i]\n",
    "    game_number_url_1 = 'https://api-web.nhle.com/v1/gamecenter/202302'+str(game_number_1)+'/play-by-play'\n",
    "    all_url_1.append(game_number_url_1)"
   ]
  },
  {
   "cell_type": "code",
   "execution_count": 10,
   "id": "e7dd05ad-666b-420e-ad9f-decf3608750a",
   "metadata": {},
   "outputs": [],
   "source": [
    "#pull the game data from NHL url 1 \n",
    "game_data_1 = []\n",
    "\n",
    "for i in range(len(all_url_1)):\n",
    "    response_1 = requests.get(all_url_1[i])\n",
    "    game_data_1.append(response_1.json())"
   ]
  },
  {
   "cell_type": "code",
   "execution_count": 11,
   "id": "f8964714-7b0f-48c1-b5d3-11603db36073",
   "metadata": {},
   "outputs": [],
   "source": [
    "# Opening JSON file\n",
    "f = open(r'C:\\Users\\akobe\\OneDrive\\Desktop\\Lighthouse\\After\\NHL-Stats\\Reg_Season_23_24\\Data\\game_data_1.json')\n",
    "game_data_1 = json.load(f)"
   ]
  },
  {
   "cell_type": "code",
   "execution_count": 45,
   "id": "71cb4ae4-d3a7-4937-ad06-5fd8c48e8aa3",
   "metadata": {},
   "outputs": [],
   "source": [
    "#from IPython.display import JSON\n",
    "#JSON(game_data_1)"
   ]
  },
  {
   "cell_type": "code",
   "execution_count": 15,
   "id": "c10d8e0b-5f0a-4012-beb3-30344aca1178",
   "metadata": {},
   "outputs": [],
   "source": [
    "#Store the JSON data in a file\n",
    "#with open(\"game_data_1.json\", \"w\") as file:\n",
    "#    json.dump(game_data_1, file)"
   ]
  },
  {
   "cell_type": "markdown",
   "id": "046d374c-c780-4de7-b5c9-e4c81e81f899",
   "metadata": {},
   "source": [
    "#### create dataframe"
   ]
  },
  {
   "cell_type": "code",
   "execution_count": 25,
   "id": "410b7253-c0b6-46e5-8fbd-fa4b0b68bbd3",
   "metadata": {},
   "outputs": [],
   "source": [
    "#empty lists to create a home team info dataframe \n",
    "team_id = []\n",
    "team_code = []\n",
    "game_num = []\n",
    "game_date = []\n",
    "location = []\n",
    "goals = []\n",
    "shots = []\n",
    "pim = []\n",
    "pp_perc = []\n",
    "ppg = []\n",
    "pp_opp = []\n",
    "fo_win = []\n",
    "blocked = []\n",
    "takeaways = []\n",
    "giveaways = []\n",
    "hits = []\n",
    "ref_1 = []\n",
    "ref_2 = []\n",
    "lines_1 = []\n",
    "lines_2 = []\n",
    "goals_p1 = []\n",
    "goals_p2 = []\n",
    "goals_p3 = []\n",
    "goals_p4 = []\n",
    "shots_p1 = []\n",
    "shots_p2 = []\n",
    "shots_p3 = []\n",
    "shots_p4 = []"
   ]
  },
  {
   "cell_type": "code",
   "execution_count": 26,
   "id": "4fdb5510-99ae-4092-a338-eb3ebc460e5f",
   "metadata": {},
   "outputs": [],
   "source": [
    "#pull data from JSON into a list - for home team info \n",
    "for i in range(len(game_data_1)):\n",
    "    team_id.append(game_data_1[i]['homeTeam']['id'])\n",
    "    team_code.append(game_data_1[i]['homeTeam']['abbrev'])\n",
    "    game_num.append(game_data_1[i]['id'])\n",
    "    game_date.append(game_data_1[i]['gameDate'])\n",
    "    location.append(game_data_1[i]['venue']['default'])\n",
    "    goals.append(game_data_1[i]['homeTeam']['score'])\n",
    "    shots.append(game_data_1[i]['summary']['teamGameStats'][0]['homeValue'])\n",
    "    pim.append(game_data_1[i]['summary']['teamGameStats'][4]['homeValue'])\n",
    "    pp_perc.append(game_data_1[i]['summary']['teamGameStats'][3]['homeValue'])\n",
    "    ppg.append(game_data_1[i]['summary']['teamGameStats'][2]['homeValue'])\n",
    "    pp_opp.append(game_data_1[i]['summary']['teamGameStats'][2]['homeValue'])\n",
    "    fo_win.append(game_data_1[i]['summary']['teamGameStats'][1]['homeValue'])\n",
    "    blocked.append(game_data_1[i]['summary']['teamGameStats'][6]['homeValue'])\n",
    "    takeaways.append(game_data_1[i]['summary']['teamGameStats'][8]['homeValue'])\n",
    "    giveaways.append(game_data_1[i]['summary']['teamGameStats'][7]['homeValue'])\n",
    "    hits.append(game_data_1[i]['summary']['teamGameStats'][5]['homeValue'])\n",
    "    ref_1.append(game_data_1[i]['summary']['gameInfo']['referees'][0]['default'])\n",
    "    ref_2.append(game_data_1[i]['summary']['gameInfo']['referees'][1]['default'])\n",
    "    lines_1.append(game_data_1[i]['summary']['gameInfo']['linesmen'][0]['default'])\n",
    "    lines_2.append(game_data_1[i]['summary']['gameInfo']['linesmen'][1]['default'])\n",
    "    goals_p1.append(game_data_1[i]['summary']['linescore']['byPeriod'][0]['home'])\n",
    "    goals_p2.append(game_data_1[i]['summary']['linescore']['byPeriod'][1]['home'])\n",
    "    goals_p3.append(game_data_1[i]['summary']['linescore']['byPeriod'][2]['home'])\n",
    "    shots_p1.append(game_data_1[i]['summary']['shotsByPeriod'][0]['home'])\n",
    "    shots_p2.append(game_data_1[i]['summary']['shotsByPeriod'][1]['home'])\n",
    "    shots_p3.append(game_data_1[i]['summary']['shotsByPeriod'][2]['home'])\n",
    "    #if there was not OT - placeholder will be NAN\n",
    "    try:\n",
    "        goals_p4.append(game_data_1[i]['summary']['linescore']['byPeriod'][3]['home'])\n",
    "        shots_p4.append(game_data_1[i]['summary']['shotsByPeriod'][3]['home'])\n",
    "    except IndexError:\n",
    "        goals_p4.append('NaN')\n",
    "        shots_p4.append('NaN')"
   ]
  },
  {
   "cell_type": "code",
   "execution_count": 30,
   "id": "af704383-445f-4e09-a45a-c4af4e527442",
   "metadata": {},
   "outputs": [],
   "source": [
    "#create a data frame with the prospect information \n",
    "game_data_h = pd.DataFrame(list(zip(team_id, team_code, game_num, game_date, location, goals, shots, pim, pp_perc, ppg,\n",
    "                                        pp_opp, fo_win, blocked, takeaways, giveaways, hits, ref_1, ref_2, lines_1, lines_2,\n",
    "                                        goals_p1, goals_p2, goals_p3, goals_p4, shots_p1, shots_p2, shots_p3, shots_p4)),\n",
    "               columns =['team_id', 'team_code', 'game_num', 'game_date', 'location', 'goals', 'shots', 'pim', 'pp_perc', 'ppg',\n",
    "                                        'pp_opp', 'fo_win', 'blocked', 'takeaways', 'giveaways', 'hits', 'ref_1', 'ref_2', 'lines_1', 'lines_2',\n",
    "                                        'goals_p1', 'goals_p2', 'goals_p3', 'goals_p4', 'shots_p1', 'shots_p2', 'shots_p3', 'shots_p4'])"
   ]
  },
  {
   "cell_type": "code",
   "execution_count": 33,
   "id": "4862e9b1-2f87-4f14-ad5e-2792cb41fb1d",
   "metadata": {},
   "outputs": [],
   "source": [
    "game_data_h['home_away'] = 'home'"
   ]
  },
  {
   "cell_type": "code",
   "execution_count": 36,
   "id": "9e07a649-44e3-4bf5-91c8-e115fdd340a0",
   "metadata": {},
   "outputs": [],
   "source": [
    "#empty lists to create a away team info dataframe \n",
    "team_id = []\n",
    "team_code = []\n",
    "game_num = []\n",
    "game_date = []\n",
    "location = []\n",
    "goals = []\n",
    "shots = []\n",
    "pim = []\n",
    "pp_perc = []\n",
    "ppg = []\n",
    "pp_opp = []\n",
    "fo_win = []\n",
    "blocked = []\n",
    "takeaways = []\n",
    "giveaways = []\n",
    "hits = []\n",
    "ref_1 = []\n",
    "ref_2 = []\n",
    "lines_1 = []\n",
    "lines_2 = []\n",
    "goals_p1 = []\n",
    "goals_p2 = []\n",
    "goals_p3 = []\n",
    "goals_p4 = []\n",
    "shots_p1 = []\n",
    "shots_p2 = []\n",
    "shots_p3 = []\n",
    "shots_p4 = []"
   ]
  },
  {
   "cell_type": "code",
   "execution_count": 37,
   "id": "e029f477-5c29-43d3-845c-3f74e0366e48",
   "metadata": {},
   "outputs": [],
   "source": [
    "#pull data from JSON into a list - for away team info \n",
    "for i in range(len(game_data_1)):\n",
    "    team_id.append(game_data_1[i]['awayTeam']['id'])\n",
    "    team_code.append(game_data_1[i]['awayTeam']['abbrev'])\n",
    "    game_num.append(game_data_1[i]['id'])\n",
    "    game_date.append(game_data_1[i]['gameDate'])\n",
    "    location.append(game_data_1[i]['venue']['default'])\n",
    "    goals.append(game_data_1[i]['awayTeam']['score'])\n",
    "    shots.append(game_data_1[i]['summary']['teamGameStats'][0]['awayValue'])\n",
    "    pim.append(game_data_1[i]['summary']['teamGameStats'][4]['awayValue'])\n",
    "    pp_perc.append(game_data_1[i]['summary']['teamGameStats'][3]['awayValue'])\n",
    "    ppg.append(game_data_1[i]['summary']['teamGameStats'][2]['awayValue'])\n",
    "    pp_opp.append(game_data_1[i]['summary']['teamGameStats'][2]['awayValue'])\n",
    "    fo_win.append(game_data_1[i]['summary']['teamGameStats'][1]['awayValue'])\n",
    "    blocked.append(game_data_1[i]['summary']['teamGameStats'][6]['awayValue'])\n",
    "    takeaways.append(game_data_1[i]['summary']['teamGameStats'][8]['awayValue'])\n",
    "    giveaways.append(game_data_1[i]['summary']['teamGameStats'][7]['awayValue'])\n",
    "    hits.append(game_data_1[i]['summary']['teamGameStats'][5]['awayValue'])\n",
    "    ref_1.append(game_data_1[i]['summary']['gameInfo']['referees'][0]['default'])\n",
    "    ref_2.append(game_data_1[i]['summary']['gameInfo']['referees'][1]['default'])\n",
    "    lines_1.append(game_data_1[i]['summary']['gameInfo']['linesmen'][0]['default'])\n",
    "    lines_2.append(game_data_1[i]['summary']['gameInfo']['linesmen'][1]['default'])\n",
    "    goals_p1.append(game_data_1[i]['summary']['linescore']['byPeriod'][0]['away'])\n",
    "    goals_p2.append(game_data_1[i]['summary']['linescore']['byPeriod'][1]['away'])\n",
    "    goals_p3.append(game_data_1[i]['summary']['linescore']['byPeriod'][2]['away'])\n",
    "    shots_p1.append(game_data_1[i]['summary']['shotsByPeriod'][0]['away'])\n",
    "    shots_p2.append(game_data_1[i]['summary']['shotsByPeriod'][1]['away'])\n",
    "    shots_p3.append(game_data_1[i]['summary']['shotsByPeriod'][2]['away'])\n",
    "    #if there was not OT - placeholder will be NAN\n",
    "    try:\n",
    "        goals_p4.append(game_data_1[i]['summary']['linescore']['byPeriod'][3]['away'])\n",
    "        shots_p4.append(game_data_1[i]['summary']['shotsByPeriod'][3]['away'])\n",
    "    except IndexError:\n",
    "        goals_p4.append('NaN')\n",
    "        shots_p4.append('NaN')"
   ]
  },
  {
   "cell_type": "code",
   "execution_count": 38,
   "id": "ba244998-0c8b-4d6d-a867-b808f769cb63",
   "metadata": {},
   "outputs": [],
   "source": [
    "game_data_a = pd.DataFrame(list(zip(team_id, team_code, game_num, game_date, location, goals, shots, pim, pp_perc, ppg,\n",
    "                                        pp_opp, fo_win, blocked, takeaways, giveaways, hits, ref_1, ref_2, lines_1, lines_2,\n",
    "                                        goals_p1, goals_p2, goals_p3, goals_p4, shots_p1, shots_p2, shots_p3, shots_p4)),\n",
    "               columns =['team_id', 'team_code', 'game_num', 'game_date', 'location', 'goals', 'shots', 'pim', 'pp_perc', 'ppg',\n",
    "                                        'pp_opp', 'fo_win', 'blocked', 'takeaways', 'giveaways', 'hits', 'ref_1', 'ref_2', 'lines_1', 'lines_2',\n",
    "                                        'goals_p1', 'goals_p2', 'goals_p3', 'goals_p4', 'shots_p1', 'shots_p2', 'shots_p3', 'shots_p4'])"
   ]
  },
  {
   "cell_type": "code",
   "execution_count": 39,
   "id": "b35e9cab-fb21-439f-a140-a1c0a60764a3",
   "metadata": {},
   "outputs": [],
   "source": [
    "game_data_a['home_away'] = 'away'"
   ]
  },
  {
   "cell_type": "code",
   "execution_count": 41,
   "id": "2ef62435-35ca-408b-9dad-55e391f7c17a",
   "metadata": {},
   "outputs": [],
   "source": [
    "#combine home and away dataframes \n",
    "frames = [game_data_h, game_data_a]\n",
    "\n",
    "game_data = pd.concat(frames)"
   ]
  },
  {
   "cell_type": "code",
   "execution_count": 44,
   "id": "fed26b74-9510-44ca-8442-ba4af6a5d07e",
   "metadata": {},
   "outputs": [],
   "source": [
    "#create a csv of the game info 0001-0500\n",
    "#game_data.to_csv('game_data_500.csv')"
   ]
  },
  {
   "cell_type": "markdown",
   "id": "a0beb6a1-0d68-4f15-aa53-b97cb161cfab",
   "metadata": {},
   "source": [
    "## pull game data game #'s 2023020501 - 202302100"
   ]
  },
  {
   "cell_type": "code",
   "execution_count": 5,
   "id": "541b1da1-1050-4da3-9ab3-41afc12005fe",
   "metadata": {},
   "outputs": [],
   "source": [
    "#create the url's for each game number - 2\n",
    "all_url_2 = []\n",
    "\n",
    "for i in range(len(game_number_list_pad_2)):\n",
    "    game_number_2 = game_number_list_pad_2[i]\n",
    "    game_number_url_2 =  'https://api-web.nhle.com/v1/gamecenter/202302'+str(game_number_2)+'/play-by-play'\n",
    "    all_url_2.append(game_number_url_2)"
   ]
  },
  {
   "cell_type": "code",
   "execution_count": 6,
   "id": "16c8df21-2ee7-48c9-92dc-23019579c03d",
   "metadata": {},
   "outputs": [],
   "source": [
    "#pull the game data from NHL url 2\n",
    "game_data_2 = []\n",
    "\n",
    "for i in range(len(all_url_2)):\n",
    "    response_2 = requests.get(all_url_2[i])\n",
    "    game_data_2.append(response_2.json())"
   ]
  },
  {
   "cell_type": "code",
   "execution_count": 8,
   "id": "25f06894-b9c9-4435-8c38-47d0a8125e32",
   "metadata": {},
   "outputs": [],
   "source": [
    "#Store the JSON data in a file\n",
    "#with open(\"game_data_2.json\", \"w\") as file:\n",
    " #   json.dump(game_data_2, file)"
   ]
  },
  {
   "cell_type": "code",
   "execution_count": 11,
   "id": "c2af6cf4-a205-473b-b47b-3bf1fd1aa572",
   "metadata": {},
   "outputs": [],
   "source": [
    "#from IPython.display import JSON\n",
    "#JSON(game_data_2)"
   ]
  },
  {
   "cell_type": "markdown",
   "id": "e1063d1e-ad1d-48f3-8a70-39063e595aaf",
   "metadata": {},
   "source": [
    "#### create dataframe"
   ]
  },
  {
   "cell_type": "code",
   "execution_count": 13,
   "id": "3e744221-4c02-4147-af6d-e09c34a86fcb",
   "metadata": {},
   "outputs": [],
   "source": [
    "#empty lists to create a home team info dataframe \n",
    "team_id = []\n",
    "team_code = []\n",
    "game_num = []\n",
    "game_date = []\n",
    "location = []\n",
    "goals = []\n",
    "shots = []\n",
    "pim = []\n",
    "pp_perc = []\n",
    "ppg = []\n",
    "pp_opp = []\n",
    "fo_win = []\n",
    "blocked = []\n",
    "takeaways = []\n",
    "giveaways = []\n",
    "hits = []\n",
    "ref_1 = []\n",
    "ref_2 = []\n",
    "lines_1 = []\n",
    "lines_2 = []\n",
    "goals_p1 = []\n",
    "goals_p2 = []\n",
    "goals_p3 = []\n",
    "goals_p4 = []\n",
    "shots_p1 = []\n",
    "shots_p2 = []\n",
    "shots_p3 = []\n",
    "shots_p4 = []"
   ]
  },
  {
   "cell_type": "code",
   "execution_count": 14,
   "id": "276e3472-9864-4477-94df-7822cad6c8d3",
   "metadata": {},
   "outputs": [],
   "source": [
    "#pull data from JSON into a list - for home team info \n",
    "for i in range(len(game_data_2)):\n",
    "    team_id.append(game_data_2[i]['homeTeam']['id'])\n",
    "    team_code.append(game_data_2[i]['homeTeam']['abbrev'])\n",
    "    game_num.append(game_data_2[i]['id'])\n",
    "    game_date.append(game_data_2[i]['gameDate'])\n",
    "    location.append(game_data_2[i]['venue']['default'])\n",
    "    goals.append(game_data_2[i]['homeTeam']['score'])\n",
    "    shots.append(game_data_2[i]['summary']['teamGameStats'][0]['homeValue'])\n",
    "    pim.append(game_data_2[i]['summary']['teamGameStats'][4]['homeValue'])\n",
    "    pp_perc.append(game_data_2[i]['summary']['teamGameStats'][3]['homeValue'])\n",
    "    ppg.append(game_data_2[i]['summary']['teamGameStats'][2]['homeValue'])\n",
    "    pp_opp.append(game_data_2[i]['summary']['teamGameStats'][2]['homeValue'])\n",
    "    fo_win.append(game_data_2[i]['summary']['teamGameStats'][1]['homeValue'])\n",
    "    blocked.append(game_data_2[i]['summary']['teamGameStats'][6]['homeValue'])\n",
    "    takeaways.append(game_data_2[i]['summary']['teamGameStats'][8]['homeValue'])\n",
    "    giveaways.append(game_data_2[i]['summary']['teamGameStats'][7]['homeValue'])\n",
    "    hits.append(game_data_2[i]['summary']['teamGameStats'][5]['homeValue'])\n",
    "    ref_1.append(game_data_2[i]['summary']['gameInfo']['referees'][0]['default'])\n",
    "    ref_2.append(game_data_2[i]['summary']['gameInfo']['referees'][1]['default'])\n",
    "    lines_1.append(game_data_2[i]['summary']['gameInfo']['linesmen'][0]['default'])\n",
    "    lines_2.append(game_data_2[i]['summary']['gameInfo']['linesmen'][1]['default'])\n",
    "    goals_p1.append(game_data_2[i]['summary']['linescore']['byPeriod'][0]['home'])\n",
    "    goals_p2.append(game_data_2[i]['summary']['linescore']['byPeriod'][1]['home'])\n",
    "    goals_p3.append(game_data_2[i]['summary']['linescore']['byPeriod'][2]['home'])\n",
    "    shots_p1.append(game_data_2[i]['summary']['shotsByPeriod'][0]['home'])\n",
    "    shots_p2.append(game_data_2[i]['summary']['shotsByPeriod'][1]['home'])\n",
    "    shots_p3.append(game_data_2[i]['summary']['shotsByPeriod'][2]['home'])\n",
    "    #if there was not OT - placeholder will be NAN\n",
    "    try:\n",
    "        goals_p4.append(game_data_2[i]['summary']['linescore']['byPeriod'][3]['home'])\n",
    "        shots_p4.append(game_data_2[i]['summary']['shotsByPeriod'][3]['home'])\n",
    "    except IndexError:\n",
    "        goals_p4.append('NaN')\n",
    "        shots_p4.append('NaN')"
   ]
  },
  {
   "cell_type": "code",
   "execution_count": 15,
   "id": "db7b542f-bceb-400c-82db-a11eab7c20aa",
   "metadata": {},
   "outputs": [],
   "source": [
    "#create a data frame with the prospect information \n",
    "game_data_h = pd.DataFrame(list(zip(team_id, team_code, game_num, game_date, location, goals, shots, pim, pp_perc, ppg,\n",
    "                                        pp_opp, fo_win, blocked, takeaways, giveaways, hits, ref_1, ref_2, lines_1, lines_2,\n",
    "                                        goals_p1, goals_p2, goals_p3, goals_p4, shots_p1, shots_p2, shots_p3, shots_p4)),\n",
    "               columns =['team_id', 'team_code', 'game_num', 'game_date', 'location', 'goals', 'shots', 'pim', 'pp_perc', 'ppg',\n",
    "                                        'pp_opp', 'fo_win', 'blocked', 'takeaways', 'giveaways', 'hits', 'ref_1', 'ref_2', 'lines_1', 'lines_2',\n",
    "                                        'goals_p1', 'goals_p2', 'goals_p3', 'goals_p4', 'shots_p1', 'shots_p2', 'shots_p3', 'shots_p4'])"
   ]
  },
  {
   "cell_type": "code",
   "execution_count": 16,
   "id": "2b8de8db-8719-4fa8-a232-7030bb544d9d",
   "metadata": {},
   "outputs": [],
   "source": [
    "game_data_h['home_away'] = 'home'"
   ]
  },
  {
   "cell_type": "code",
   "execution_count": 17,
   "id": "54d41639-f242-4e85-8489-a9ac4d6929f8",
   "metadata": {},
   "outputs": [],
   "source": [
    "#empty lists to create a away team info dataframe \n",
    "team_id = []\n",
    "team_code = []\n",
    "game_num = []\n",
    "game_date = []\n",
    "location = []\n",
    "goals = []\n",
    "shots = []\n",
    "pim = []\n",
    "pp_perc = []\n",
    "ppg = []\n",
    "pp_opp = []\n",
    "fo_win = []\n",
    "blocked = []\n",
    "takeaways = []\n",
    "giveaways = []\n",
    "hits = []\n",
    "ref_1 = []\n",
    "ref_2 = []\n",
    "lines_1 = []\n",
    "lines_2 = []\n",
    "goals_p1 = []\n",
    "goals_p2 = []\n",
    "goals_p3 = []\n",
    "goals_p4 = []\n",
    "shots_p1 = []\n",
    "shots_p2 = []\n",
    "shots_p3 = []\n",
    "shots_p4 = []"
   ]
  },
  {
   "cell_type": "code",
   "execution_count": 18,
   "id": "a5133070-f828-41db-9e2f-ba10de208a3c",
   "metadata": {},
   "outputs": [],
   "source": [
    "#pull data from JSON into a list - for away team info \n",
    "for i in range(len(game_data_2)):\n",
    "    team_id.append(game_data_2[i]['awayTeam']['id'])\n",
    "    team_code.append(game_data_2[i]['awayTeam']['abbrev'])\n",
    "    game_num.append(game_data_2[i]['id'])\n",
    "    game_date.append(game_data_2[i]['gameDate'])\n",
    "    location.append(game_data_2[i]['venue']['default'])\n",
    "    goals.append(game_data_2[i]['awayTeam']['score'])\n",
    "    shots.append(game_data_2[i]['summary']['teamGameStats'][0]['awayValue'])\n",
    "    pim.append(game_data_2[i]['summary']['teamGameStats'][4]['awayValue'])\n",
    "    pp_perc.append(game_data_2[i]['summary']['teamGameStats'][3]['awayValue'])\n",
    "    ppg.append(game_data_2[i]['summary']['teamGameStats'][2]['awayValue'])\n",
    "    pp_opp.append(game_data_2[i]['summary']['teamGameStats'][2]['awayValue'])\n",
    "    fo_win.append(game_data_2[i]['summary']['teamGameStats'][1]['awayValue'])\n",
    "    blocked.append(game_data_2[i]['summary']['teamGameStats'][6]['awayValue'])\n",
    "    takeaways.append(game_data_2[i]['summary']['teamGameStats'][8]['awayValue'])\n",
    "    giveaways.append(game_data_2[i]['summary']['teamGameStats'][7]['awayValue'])\n",
    "    hits.append(game_data_2[i]['summary']['teamGameStats'][5]['awayValue'])\n",
    "    ref_1.append(game_data_2[i]['summary']['gameInfo']['referees'][0]['default'])\n",
    "    ref_2.append(game_data_2[i]['summary']['gameInfo']['referees'][1]['default'])\n",
    "    lines_1.append(game_data_2[i]['summary']['gameInfo']['linesmen'][0]['default'])\n",
    "    lines_2.append(game_data_2[i]['summary']['gameInfo']['linesmen'][1]['default'])\n",
    "    goals_p1.append(game_data_2[i]['summary']['linescore']['byPeriod'][0]['away'])\n",
    "    goals_p2.append(game_data_2[i]['summary']['linescore']['byPeriod'][1]['away'])\n",
    "    goals_p3.append(game_data_2[i]['summary']['linescore']['byPeriod'][2]['away'])\n",
    "    shots_p1.append(game_data_2[i]['summary']['shotsByPeriod'][0]['away'])\n",
    "    shots_p2.append(game_data_2[i]['summary']['shotsByPeriod'][1]['away'])\n",
    "    shots_p3.append(game_data_2[i]['summary']['shotsByPeriod'][2]['away'])\n",
    "    #if there was not OT - placeholder will be NAN\n",
    "    try:\n",
    "        goals_p4.append(game_data_2[i]['summary']['linescore']['byPeriod'][3]['away'])\n",
    "        shots_p4.append(game_data_2[i]['summary']['shotsByPeriod'][3]['away'])\n",
    "    except IndexError:\n",
    "        goals_p4.append('NaN')\n",
    "        shots_p4.append('NaN')"
   ]
  },
  {
   "cell_type": "code",
   "execution_count": 19,
   "id": "da65f4fb-acc0-4879-9405-dd277ea564fe",
   "metadata": {},
   "outputs": [],
   "source": [
    "game_data_a = pd.DataFrame(list(zip(team_id, team_code, game_num, game_date, location, goals, shots, pim, pp_perc, ppg,\n",
    "                                        pp_opp, fo_win, blocked, takeaways, giveaways, hits, ref_1, ref_2, lines_1, lines_2,\n",
    "                                        goals_p1, goals_p2, goals_p3, goals_p4, shots_p1, shots_p2, shots_p3, shots_p4)),\n",
    "               columns =['team_id', 'team_code', 'game_num', 'game_date', 'location', 'goals', 'shots', 'pim', 'pp_perc', 'ppg',\n",
    "                                        'pp_opp', 'fo_win', 'blocked', 'takeaways', 'giveaways', 'hits', 'ref_1', 'ref_2', 'lines_1', 'lines_2',\n",
    "                                        'goals_p1', 'goals_p2', 'goals_p3', 'goals_p4', 'shots_p1', 'shots_p2', 'shots_p3', 'shots_p4'])"
   ]
  },
  {
   "cell_type": "code",
   "execution_count": 20,
   "id": "1cc828ed-4678-4ff2-9ac1-ec6e6e84952d",
   "metadata": {},
   "outputs": [],
   "source": [
    "game_data_a['home_away'] = 'away'"
   ]
  },
  {
   "cell_type": "code",
   "execution_count": 23,
   "id": "2c97a849-5e59-4af4-8f8c-e1745aac341a",
   "metadata": {},
   "outputs": [],
   "source": [
    "#combine home and away dataframes \n",
    "frames = [game_data_h, game_data_a]\n",
    "\n",
    "game_data = pd.concat(frames)"
   ]
  },
  {
   "cell_type": "code",
   "execution_count": 27,
   "id": "aab55f43-6611-4db5-a3f2-62df95afd91a",
   "metadata": {},
   "outputs": [],
   "source": [
    "#create a csv of the game info 0501-1000\n",
    "#game_data.to_csv('game_data_1000.csv')"
   ]
  },
  {
   "cell_type": "markdown",
   "id": "52586b01-6f1f-41b5-9390-23ceb74f7cff",
   "metadata": {},
   "source": [
    "## pull game data game #'s 2023020501 - 202302100"
   ]
  },
  {
   "cell_type": "code",
   "execution_count": 5,
   "id": "9143530a-f1a2-482b-8d32-61a0ae5f912b",
   "metadata": {},
   "outputs": [],
   "source": [
    "#create the url's for each game number - 1 \n",
    "all_url_3 = []\n",
    "\n",
    "for i in range(len(game_number_list_pad_3)):\n",
    "    game_number_3 = game_number_list_pad_3[i]\n",
    "    game_number_url_3 = 'https://api-web.nhle.com/v1/gamecenter/202302'+str(game_number_3)+'/play-by-play'\n",
    "    all_url_3.append(game_number_url_3)"
   ]
  },
  {
   "cell_type": "code",
   "execution_count": 6,
   "id": "dcf54802-daa0-4414-9af4-7743b019c8b3",
   "metadata": {},
   "outputs": [],
   "source": [
    "#pull the game data from NHL url 1 \n",
    "game_data_3 = []\n",
    "\n",
    "for i in range(len(all_url_3)):\n",
    "    response_3 = requests.get(all_url_3[i])\n",
    "    game_data_3.append(response_3.json())"
   ]
  },
  {
   "cell_type": "code",
   "execution_count": 8,
   "id": "8a56db83-4eaf-42f1-800c-48388dbc7763",
   "metadata": {},
   "outputs": [],
   "source": [
    "#Store the JSON data in a file\n",
    "#with open(\"game_data_3.json\", \"w\") as file:\n",
    " #   json.dump(game_data_3, file)"
   ]
  },
  {
   "cell_type": "code",
   "execution_count": 9,
   "id": "91ec6aeb-af68-46b2-8c0d-e6e860631eef",
   "metadata": {},
   "outputs": [],
   "source": [
    "#from IPython.display import JSON\n",
    "#JSON(game_data_3)"
   ]
  },
  {
   "cell_type": "markdown",
   "id": "21534119-77b0-416c-b7bd-d89c4b40f4bf",
   "metadata": {},
   "source": [
    "#### create dataframe"
   ]
  },
  {
   "cell_type": "code",
   "execution_count": 10,
   "id": "155cf681-8aba-471d-9504-233b4ef102ac",
   "metadata": {},
   "outputs": [],
   "source": [
    "#empty lists to create a home team info dataframe \n",
    "team_id = []\n",
    "team_code = []\n",
    "game_num = []\n",
    "game_date = []\n",
    "location = []\n",
    "goals = []\n",
    "shots = []\n",
    "pim = []\n",
    "pp_perc = []\n",
    "ppg = []\n",
    "pp_opp = []\n",
    "fo_win = []\n",
    "blocked = []\n",
    "takeaways = []\n",
    "giveaways = []\n",
    "hits = []\n",
    "ref_1 = []\n",
    "ref_2 = []\n",
    "lines_1 = []\n",
    "lines_2 = []\n",
    "goals_p1 = []\n",
    "goals_p2 = []\n",
    "goals_p3 = []\n",
    "goals_p4 = []\n",
    "shots_p1 = []\n",
    "shots_p2 = []\n",
    "shots_p3 = []\n",
    "shots_p4 = []"
   ]
  },
  {
   "cell_type": "code",
   "execution_count": 11,
   "id": "e14106fb-8995-4bbe-bc16-c205248ea19f",
   "metadata": {},
   "outputs": [],
   "source": [
    "#pull data from JSON into a list - for home team info \n",
    "for i in range(len(game_data_3)):\n",
    "    team_id.append(game_data_3[i]['homeTeam']['id'])\n",
    "    team_code.append(game_data_3[i]['homeTeam']['abbrev'])\n",
    "    game_num.append(game_data_3[i]['id'])\n",
    "    game_date.append(game_data_3[i]['gameDate'])\n",
    "    location.append(game_data_3[i]['venue']['default'])\n",
    "    goals.append(game_data_3[i]['homeTeam']['score'])\n",
    "    shots.append(game_data_3[i]['summary']['teamGameStats'][0]['homeValue'])\n",
    "    pim.append(game_data_3[i]['summary']['teamGameStats'][4]['homeValue'])\n",
    "    pp_perc.append(game_data_3[i]['summary']['teamGameStats'][3]['homeValue'])\n",
    "    ppg.append(game_data_3[i]['summary']['teamGameStats'][2]['homeValue'])\n",
    "    pp_opp.append(game_data_3[i]['summary']['teamGameStats'][2]['homeValue'])\n",
    "    fo_win.append(game_data_3[i]['summary']['teamGameStats'][1]['homeValue'])\n",
    "    blocked.append(game_data_3[i]['summary']['teamGameStats'][6]['homeValue'])\n",
    "    takeaways.append(game_data_3[i]['summary']['teamGameStats'][8]['homeValue'])\n",
    "    giveaways.append(game_data_3[i]['summary']['teamGameStats'][7]['homeValue'])\n",
    "    hits.append(game_data_3[i]['summary']['teamGameStats'][5]['homeValue'])\n",
    "    ref_1.append(game_data_3[i]['summary']['gameInfo']['referees'][0]['default'])\n",
    "    ref_2.append(game_data_3[i]['summary']['gameInfo']['referees'][1]['default'])\n",
    "    lines_1.append(game_data_3[i]['summary']['gameInfo']['linesmen'][0]['default'])\n",
    "    lines_2.append(game_data_3[i]['summary']['gameInfo']['linesmen'][1]['default'])\n",
    "    goals_p1.append(game_data_3[i]['summary']['linescore']['byPeriod'][0]['home'])\n",
    "    goals_p2.append(game_data_3[i]['summary']['linescore']['byPeriod'][1]['home'])\n",
    "    goals_p3.append(game_data_3[i]['summary']['linescore']['byPeriod'][2]['home'])\n",
    "    shots_p1.append(game_data_3[i]['summary']['shotsByPeriod'][0]['home'])\n",
    "    shots_p2.append(game_data_3[i]['summary']['shotsByPeriod'][1]['home'])\n",
    "    shots_p3.append(game_data_3[i]['summary']['shotsByPeriod'][2]['home'])\n",
    "    #if there was not OT - placeholder will be NAN\n",
    "    try:\n",
    "        goals_p4.append(game_data_3[i]['summary']['linescore']['byPeriod'][3]['home'])\n",
    "        shots_p4.append(game_data_3[i]['summary']['shotsByPeriod'][3]['home'])\n",
    "    except IndexError:\n",
    "        goals_p4.append('NaN')\n",
    "        shots_p4.append('NaN')"
   ]
  },
  {
   "cell_type": "code",
   "execution_count": 12,
   "id": "252e601d-13cc-4cb7-b8ec-5a2ef8ccaa6e",
   "metadata": {},
   "outputs": [],
   "source": [
    "#create a data frame with the prospect information \n",
    "game_data_h = pd.DataFrame(list(zip(team_id, team_code, game_num, game_date, location, goals, shots, pim, pp_perc, ppg,\n",
    "                                        pp_opp, fo_win, blocked, takeaways, giveaways, hits, ref_1, ref_2, lines_1, lines_2,\n",
    "                                        goals_p1, goals_p2, goals_p3, goals_p4, shots_p1, shots_p2, shots_p3, shots_p4)),\n",
    "               columns =['team_id', 'team_code', 'game_num', 'game_date', 'location', 'goals', 'shots', 'pim', 'pp_perc', 'ppg',\n",
    "                                        'pp_opp', 'fo_win', 'blocked', 'takeaways', 'giveaways', 'hits', 'ref_1', 'ref_2', 'lines_1', 'lines_2',\n",
    "                                        'goals_p1', 'goals_p2', 'goals_p3', 'goals_p4', 'shots_p1', 'shots_p2', 'shots_p3', 'shots_p4'])"
   ]
  },
  {
   "cell_type": "code",
   "execution_count": 13,
   "id": "4b276d88-8e03-47f3-aa99-97f1b4e9a26e",
   "metadata": {},
   "outputs": [],
   "source": [
    "game_data_h['home_away'] = 'home'"
   ]
  },
  {
   "cell_type": "code",
   "execution_count": 14,
   "id": "373f3fe3-2de4-4fb5-b8e4-4778375841d7",
   "metadata": {},
   "outputs": [],
   "source": [
    "#empty lists to create a away team info dataframe \n",
    "team_id = []\n",
    "team_code = []\n",
    "game_num = []\n",
    "game_date = []\n",
    "location = []\n",
    "goals = []\n",
    "shots = []\n",
    "pim = []\n",
    "pp_perc = []\n",
    "ppg = []\n",
    "pp_opp = []\n",
    "fo_win = []\n",
    "blocked = []\n",
    "takeaways = []\n",
    "giveaways = []\n",
    "hits = []\n",
    "ref_1 = []\n",
    "ref_2 = []\n",
    "lines_1 = []\n",
    "lines_2 = []\n",
    "goals_p1 = []\n",
    "goals_p2 = []\n",
    "goals_p3 = []\n",
    "goals_p4 = []\n",
    "shots_p1 = []\n",
    "shots_p2 = []\n",
    "shots_p3 = []\n",
    "shots_p4 = []"
   ]
  },
  {
   "cell_type": "code",
   "execution_count": 15,
   "id": "f120ecb2-6e92-49e4-be17-87f120f7dd96",
   "metadata": {},
   "outputs": [],
   "source": [
    "#pull data from JSON into a list - for away team info \n",
    "for i in range(len(game_data_3)):\n",
    "    team_id.append(game_data_3[i]['awayTeam']['id'])\n",
    "    team_code.append(game_data_3[i]['awayTeam']['abbrev'])\n",
    "    game_num.append(game_data_3[i]['id'])\n",
    "    game_date.append(game_data_3[i]['gameDate'])\n",
    "    location.append(game_data_3[i]['venue']['default'])\n",
    "    goals.append(game_data_3[i]['awayTeam']['score'])\n",
    "    shots.append(game_data_3[i]['summary']['teamGameStats'][0]['awayValue'])\n",
    "    pim.append(game_data_3[i]['summary']['teamGameStats'][4]['awayValue'])\n",
    "    pp_perc.append(game_data_3[i]['summary']['teamGameStats'][3]['awayValue'])\n",
    "    ppg.append(game_data_3[i]['summary']['teamGameStats'][2]['awayValue'])\n",
    "    pp_opp.append(game_data_3[i]['summary']['teamGameStats'][2]['awayValue'])\n",
    "    fo_win.append(game_data_3[i]['summary']['teamGameStats'][1]['awayValue'])\n",
    "    blocked.append(game_data_3[i]['summary']['teamGameStats'][6]['awayValue'])\n",
    "    takeaways.append(game_data_3[i]['summary']['teamGameStats'][8]['awayValue'])\n",
    "    giveaways.append(game_data_3[i]['summary']['teamGameStats'][7]['awayValue'])\n",
    "    hits.append(game_data_3[i]['summary']['teamGameStats'][5]['awayValue'])\n",
    "    ref_1.append(game_data_3[i]['summary']['gameInfo']['referees'][0]['default'])\n",
    "    ref_2.append(game_data_3[i]['summary']['gameInfo']['referees'][1]['default'])\n",
    "    lines_1.append(game_data_3[i]['summary']['gameInfo']['linesmen'][0]['default'])\n",
    "    lines_2.append(game_data_3[i]['summary']['gameInfo']['linesmen'][1]['default'])\n",
    "    goals_p1.append(game_data_3[i]['summary']['linescore']['byPeriod'][0]['away'])\n",
    "    goals_p2.append(game_data_3[i]['summary']['linescore']['byPeriod'][1]['away'])\n",
    "    goals_p3.append(game_data_3[i]['summary']['linescore']['byPeriod'][2]['away'])\n",
    "    shots_p1.append(game_data_3[i]['summary']['shotsByPeriod'][0]['away'])\n",
    "    shots_p2.append(game_data_3[i]['summary']['shotsByPeriod'][1]['away'])\n",
    "    shots_p3.append(game_data_3[i]['summary']['shotsByPeriod'][2]['away'])\n",
    "    #if there was not OT - placeholder will be NAN\n",
    "    try:\n",
    "        goals_p4.append(game_data_3[i]['summary']['linescore']['byPeriod'][3]['away'])\n",
    "        shots_p4.append(game_data_3[i]['summary']['shotsByPeriod'][3]['away'])\n",
    "    except IndexError:\n",
    "        goals_p4.append('NaN')\n",
    "        shots_p4.append('NaN')"
   ]
  },
  {
   "cell_type": "code",
   "execution_count": 16,
   "id": "4681c9c1-684b-4b1f-a202-77780b29ec18",
   "metadata": {},
   "outputs": [],
   "source": [
    "game_data_a = pd.DataFrame(list(zip(team_id, team_code, game_num, game_date, location, goals, shots, pim, pp_perc, ppg,\n",
    "                                        pp_opp, fo_win, blocked, takeaways, giveaways, hits, ref_1, ref_2, lines_1, lines_2,\n",
    "                                        goals_p1, goals_p2, goals_p3, goals_p4, shots_p1, shots_p2, shots_p3, shots_p4)),\n",
    "               columns =['team_id', 'team_code', 'game_num', 'game_date', 'location', 'goals', 'shots', 'pim', 'pp_perc', 'ppg',\n",
    "                                        'pp_opp', 'fo_win', 'blocked', 'takeaways', 'giveaways', 'hits', 'ref_1', 'ref_2', 'lines_1', 'lines_2',\n",
    "                                        'goals_p1', 'goals_p2', 'goals_p3', 'goals_p4', 'shots_p1', 'shots_p2', 'shots_p3', 'shots_p4'])"
   ]
  },
  {
   "cell_type": "code",
   "execution_count": 17,
   "id": "c61c4aa4-e092-4535-9475-a8710ad8d2fa",
   "metadata": {},
   "outputs": [],
   "source": [
    "game_data_a['home_away'] = 'away'"
   ]
  },
  {
   "cell_type": "code",
   "execution_count": 18,
   "id": "59cdaa76-ce34-41bb-ae29-4b045eff7689",
   "metadata": {},
   "outputs": [],
   "source": [
    "#combine home and away dataframes \n",
    "frames = [game_data_h, game_data_a]\n",
    "\n",
    "game_data = pd.concat(frames)"
   ]
  },
  {
   "cell_type": "code",
   "execution_count": 20,
   "id": "f71d671c-eb97-409d-9c4e-13cbfafb2f6a",
   "metadata": {},
   "outputs": [],
   "source": [
    "#create a csv of the game info 1001-1312\n",
    "#game_data.to_csv('game_data_1312.csv')"
   ]
  },
  {
   "cell_type": "markdown",
   "id": "577b5b09-4651-4962-8ac1-503c45050f0a",
   "metadata": {},
   "source": [
    "## Create a single df/csv file"
   ]
  },
  {
   "cell_type": "code",
   "execution_count": 2,
   "id": "cb2805fb-b2e8-4e14-b857-7f1ff123eb82",
   "metadata": {},
   "outputs": [],
   "source": [
    "#import all data\n",
    "game_data_1 = pd.read_csv(r'C:\\Users\\akobe\\OneDrive\\Desktop\\Lighthouse\\After\\NHL-Stats\\Reg_Season_23_24\\Data\\game_data_500.csv', index_col = [0]) #index col makes sures another index column is not needed\n",
    "game_data_2 = pd.read_csv(r'C:\\Users\\akobe\\OneDrive\\Desktop\\Lighthouse\\After\\NHL-Stats\\Reg_Season_23_24\\Data\\game_data_1000.csv', index_col = [0])\n",
    "game_data_3 = pd.read_csv(r'C:\\Users\\akobe\\OneDrive\\Desktop\\Lighthouse\\After\\NHL-Stats\\Reg_Season_23_24\\Data\\game_data_1312.csv', index_col = [0])"
   ]
  },
  {
   "cell_type": "code",
   "execution_count": 3,
   "id": "55651f7b-30dc-41a0-90b1-f16382eeb808",
   "metadata": {},
   "outputs": [],
   "source": [
    "#combine all the data into one file \n",
    "frames = [game_data_1, game_data_2, game_data_3]\n",
    "\n",
    "game_data = pd.concat(frames)"
   ]
  },
  {
   "cell_type": "code",
   "execution_count": 11,
   "id": "27b4a316-e8d9-4711-9211-8d9aef9e24ea",
   "metadata": {},
   "outputs": [],
   "source": [
    "#create a csv of all game info\n",
    "#game_data.to_csv('game_data.csv')"
   ]
  }
 ],
 "metadata": {
  "kernelspec": {
   "display_name": "lighthouse",
   "language": "python",
   "name": "lighthouse"
  },
  "language_info": {
   "codemirror_mode": {
    "name": "ipython",
    "version": 3
   },
   "file_extension": ".py",
   "mimetype": "text/x-python",
   "name": "python",
   "nbconvert_exporter": "python",
   "pygments_lexer": "ipython3",
   "version": "3.9.13"
  }
 },
 "nbformat": 4,
 "nbformat_minor": 5
}
