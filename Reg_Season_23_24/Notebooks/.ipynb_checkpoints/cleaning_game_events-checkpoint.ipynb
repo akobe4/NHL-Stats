{
 "cells": [
  {
   "cell_type": "code",
   "execution_count": 1,
   "id": "1dfe0f0d-0394-4110-b23b-428afaf5b33d",
   "metadata": {},
   "outputs": [],
   "source": [
    "import pandas as pd\n",
    "import numpy as np"
   ]
  },
  {
   "cell_type": "code",
   "execution_count": 2,
   "id": "30949d75-4e28-48b4-b348-378ae77d074e",
   "metadata": {},
   "outputs": [],
   "source": [
    "#import data\n",
    "#all_shots = pd.read_csv(r'C:\\Users\\akobe\\OneDrive\\Desktop\\Lighthouse\\After\\NHL-Stats\\Reg_Season_23_24\\Data\\all_shots.csv', index_col = [0]) #index col makes sures another index column is not needed\n",
    "faceoffs = pd.read_csv(r'C:\\Users\\akobe\\OneDrive\\Desktop\\Lighthouse\\After\\NHL-Stats\\Reg_Season_23_24\\Data\\faceoffs.csv', index_col = [0])\n",
    "game_data = pd.read_csv(r'C:\\Users\\akobe\\OneDrive\\Desktop\\Lighthouse\\After\\NHL-Stats\\Reg_Season_23_24\\Data\\game_data.csv', index_col = [0])\n",
    "giveaways = pd.read_csv(r'C:\\Users\\akobe\\OneDrive\\Desktop\\Lighthouse\\After\\NHL-Stats\\Reg_Season_23_24\\Data\\giveaways.csv', index_col = [0])\n",
    "goals = pd.read_csv(r'C:\\Users\\akobe\\OneDrive\\Desktop\\Lighthouse\\After\\NHL-Stats\\Reg_Season_23_24\\Data\\goals.csv')\n",
    "hits = pd.read_csv(r'C:\\Users\\akobe\\OneDrive\\Desktop\\Lighthouse\\After\\NHL-Stats\\Reg_Season_23_24\\Data\\hits.csv', index_col = [0])\n",
    "penalties = pd.read_csv(r'C:\\Users\\akobe\\OneDrive\\Desktop\\Lighthouse\\After\\NHL-Stats\\Reg_Season_23_24\\Data\\penalties.csv', index_col = [0])\n",
    "takeaways = pd.read_csv(r'C:\\Users\\akobe\\OneDrive\\Desktop\\Lighthouse\\After\\NHL-Stats\\Reg_Season_23_24\\Data\\takeaways.csv', index_col = [0])"
   ]
  },
  {
   "cell_type": "markdown",
   "id": "5408eacb-00df-4afe-ae34-aeb3eee09f36",
   "metadata": {},
   "source": [
    "## Clean data for import in SQL "
   ]
  },
  {
   "cell_type": "markdown",
   "id": "fbf16c2b-715c-4bfc-a29b-b77dc974bdc4",
   "metadata": {},
   "source": [
    "##### need to remove NaN's"
   ]
  },
  {
   "cell_type": "code",
   "execution_count": 3,
   "id": "0e828997-3211-4610-98b3-2c97f01e6b03",
   "metadata": {},
   "outputs": [],
   "source": [
    "# replace NaN's with a blank space \n",
    "\n",
    "faceoffs = faceoffs.replace(np.nan, '')\n",
    "game_data = game_data.replace(np.nan, '')\n",
    "giveaways = giveaways.replace(np.nan, '')\n",
    "goals = goals.replace(np.nan, '')\n",
    "hits = hits.replace(np.nan, '')\n",
    "penalties = penalties.replace(np.nan, '')\n",
    "takeaways = takeaways.replace(np.nan, '')"
   ]
  },
  {
   "cell_type": "code",
   "execution_count": 4,
   "id": "0397199f-951b-43a2-b962-ac74651b5fd5",
   "metadata": {},
   "outputs": [],
   "source": [
    "#save df with the NaN's removed \n",
    "faceoffs.to_csv('faceoffs_clean_sql.csv', index=False)\n",
    "game_data.to_csv('game_data_clean_sql.csv', index=False)\n",
    "giveaways.to_csv('giveaways_clean_sql.csv', index=False)\n",
    "goals.to_csv('goals_clean_sql.csv', index=False)\n",
    "hits.to_csv('hits_clean_sql.csv', index=False)\n",
    "penalties.to_csv('penalties_clean_sql.csv', index=False)\n",
    "takeaways.to_csv('takeaways_clean_sql.csv', index=False)"
   ]
  }
 ],
 "metadata": {
  "kernelspec": {
   "display_name": "lighthouse",
   "language": "python",
   "name": "lighthouse"
  },
  "language_info": {
   "codemirror_mode": {
    "name": "ipython",
    "version": 3
   },
   "file_extension": ".py",
   "mimetype": "text/x-python",
   "name": "python",
   "nbconvert_exporter": "python",
   "pygments_lexer": "ipython3",
   "version": "3.9.13"
  }
 },
 "nbformat": 4,
 "nbformat_minor": 5
}
