{
 "cells": [
  {
   "cell_type": "code",
   "execution_count": 1,
   "id": "73f49b9a-11f2-43a3-9a26-263b599330e3",
   "metadata": {},
   "outputs": [],
   "source": [
    "import pandas as pd \n",
    "import requests\n",
    "import os\n",
    "import json\n",
    "import numpy as np"
   ]
  },
  {
   "cell_type": "code",
   "execution_count": null,
   "id": "774a4937-864d-4b04-945d-de61eac85820",
   "metadata": {},
   "outputs": [],
   "source": [
    "#endpoint\n",
    "#https://api-web.nhle.com/v1/player/"
   ]
  },
  {
   "cell_type": "code",
   "execution_count": 2,
   "id": "77f6f3fd-e4de-4aca-bd6a-eb54d5a1242f",
   "metadata": {},
   "outputs": [],
   "source": [
    "#list of all the team's 3-letter codes\n",
    "team_code_list = ['ANA', 'ARI', 'BOS', 'BUF', 'CAR', 'CBJ', 'CGY', 'CHI', 'COL', 'DAL', 'DET', 'EDM', 'FLA', 'LAK', 'MIN', 'MTL', 'NJD', 'NSH', 'NYI',\n",
    "             'NYR', 'OTT', 'PHI', 'PIT', 'SEA', 'SJS', 'STL', 'TBL', 'TOR', 'VAN', 'VGK', 'WPG', 'WSH']"
   ]
  },
  {
   "cell_type": "code",
   "execution_count": 3,
   "id": "65e2c61c-bccd-41a7-8207-89ce9a15efe2",
   "metadata": {},
   "outputs": [],
   "source": [
    "#getting url's for all team rosters in the 2023-2024 season\n",
    "all_url = []\n",
    "for i in range(len(team_code_list)):\n",
    "    team_code = team_code_list[i]\n",
    "    team_url = 'https://api-web.nhle.com/v1/roster/'+(team_code)+'/20232024'\n",
    "    all_url.append(team_url)"
   ]
  },
  {
   "cell_type": "code",
   "execution_count": 4,
   "id": "6f3d4c85-bb0e-4cb4-b5c8-1fb17e8c41ed",
   "metadata": {},
   "outputs": [],
   "source": [
    "#pull the roster data \n",
    "roster_data = []\n",
    "\n",
    "for i in range(len(all_url)):\n",
    "    response = requests.get(all_url[i])\n",
    "    roster_data.append(response.json())"
   ]
  },
  {
   "cell_type": "code",
   "execution_count": 49,
   "id": "7efbac37-743a-4735-8134-088cb4ce3dab",
   "metadata": {},
   "outputs": [],
   "source": [
    "#from IPython.display import JSON\n",
    "#JSON(roster_data)"
   ]
  },
  {
   "cell_type": "code",
   "execution_count": 5,
   "id": "11909fa4-7fc2-478f-9fa4-50df9f6717da",
   "metadata": {},
   "outputs": [],
   "source": [
    "#save a JSON file\n",
    "with open(\"roster_data.json\", \"w\") as file:\n",
    "    json.dump(roster_data, file)"
   ]
  },
  {
   "cell_type": "markdown",
   "id": "df094f65-9778-49da-91e1-8fcced5477ee",
   "metadata": {},
   "source": [
    "#### Forwards"
   ]
  },
  {
   "cell_type": "code",
   "execution_count": 6,
   "id": "223a8ba5-8433-42ea-abf0-3897cd541af3",
   "metadata": {},
   "outputs": [],
   "source": [
    "#empty lists to put data in (forwards)\n",
    "player_id = []\n",
    "first_name = []\n",
    "last_name = []\n",
    "sweater_number = []\n",
    "position = []\n",
    "shoots_catches = []\n",
    "birthdate = []\n",
    "birth_city = []\n",
    "birth_country = []\n",
    "weight = []\n",
    "height = []"
   ]
  },
  {
   "cell_type": "code",
   "execution_count": 7,
   "id": "b3a3296e-861b-4b8c-8fcf-1aa835288e1e",
   "metadata": {},
   "outputs": [],
   "source": [
    "# pull data into lists - forwards \n",
    "for i in range(len(roster_data)):\n",
    "    for j in roster_data[i]['forwards']:\n",
    "        player_id.append(j['id'])\n",
    "        first_name.append(j['firstName']['default'])\n",
    "        last_name.append(j['lastName']['default'])\n",
    "        position.append(j['positionCode'])\n",
    "        shoots_catches.append(j['shootsCatches'])\n",
    "        birthdate.append(j['birthDate'])\n",
    "        birth_city.append(j['birthCity']['default'])\n",
    "        birth_country.append(j['birthCountry'])\n",
    "        weight.append(j['weightInPounds'])\n",
    "        height.append(j['heightInInches'])\n",
    "        try:\n",
    "            sweater_number.append(j['sweaterNumber'])\n",
    "        except KeyError:\n",
    "            sweater_number.append('NaN')       "
   ]
  },
  {
   "cell_type": "code",
   "execution_count": 8,
   "id": "0b788e26-5816-478e-a7c1-456e9ae48646",
   "metadata": {},
   "outputs": [],
   "source": [
    "#create a data frame with forwards info\n",
    "player_data_forwards = pd.DataFrame(list(zip(player_id, first_name, last_name, sweater_number, position, shoots_catches, \n",
    "                                                birthdate, birth_city, birth_country, weight, height)),\n",
    "               columns =['player_id', 'first_name', 'last_name', 'sweater_number', 'position', 'shoots_catches', \n",
    "                            'birthdate', 'birth_city', 'birth_country', 'weight', 'height'])"
   ]
  },
  {
   "cell_type": "markdown",
   "id": "e5ec32b7-eefb-4cd1-9513-7efd61b27b8c",
   "metadata": {
    "tags": []
   },
   "source": [
    "#### Defensemen"
   ]
  },
  {
   "cell_type": "code",
   "execution_count": 9,
   "id": "00c311f5-559e-460e-8a9c-7c17f9081a84",
   "metadata": {},
   "outputs": [],
   "source": [
    "#empty lists to put data in (defensemen)\n",
    "player_id = []\n",
    "first_name = []\n",
    "last_name = []\n",
    "sweater_number = []\n",
    "position = []\n",
    "shoots_catches = []\n",
    "birthdate = []\n",
    "birth_city = []\n",
    "birth_country = []\n",
    "weight = []\n",
    "height = []"
   ]
  },
  {
   "cell_type": "code",
   "execution_count": 10,
   "id": "1f159941-5281-476e-a63b-fb35f0e40c28",
   "metadata": {},
   "outputs": [],
   "source": [
    "# pull data into lists - defensemen\n",
    "for i in range(len(roster_data)):\n",
    "    for j in roster_data[i]['defensemen']:\n",
    "        player_id.append(j['id'])\n",
    "        first_name.append(j['firstName']['default'])\n",
    "        last_name.append(j['lastName']['default'])\n",
    "        position.append(j['positionCode'])\n",
    "        shoots_catches.append(j['shootsCatches'])\n",
    "        birthdate.append(j['birthDate'])\n",
    "        birth_city.append(j['birthCity']['default'])\n",
    "        birth_country.append(j['birthCountry'])\n",
    "        weight.append(j['weightInPounds'])\n",
    "        height.append(j['heightInInches'])\n",
    "        try:\n",
    "            sweater_number.append(j['sweaterNumber'])\n",
    "        except KeyError:\n",
    "            sweater_number.append('NaN')       "
   ]
  },
  {
   "cell_type": "code",
   "execution_count": 11,
   "id": "46e1ef66-57ca-4d22-b0f4-12953c0bcc26",
   "metadata": {},
   "outputs": [],
   "source": [
    "#create a data frame with the defense info\n",
    "player_data_defense = pd.DataFrame(list(zip(player_id, first_name, last_name, sweater_number, position, shoots_catches, \n",
    "                                                birthdate, birth_city, birth_country, weight, height)),\n",
    "               columns =['player_id', 'first_name', 'last_name', 'sweater_number', 'position', 'shoots_catches', \n",
    "                            'birthdate', 'birth_city', 'birth_country', 'weight', 'height'])"
   ]
  },
  {
   "cell_type": "markdown",
   "id": "de62eb60-e895-4842-bd28-b1c9f493eae0",
   "metadata": {},
   "source": [
    "#### Goalies"
   ]
  },
  {
   "cell_type": "code",
   "execution_count": 12,
   "id": "73b6fae4-35ce-43e2-9c1a-608f77759161",
   "metadata": {},
   "outputs": [],
   "source": [
    "#empty lists to put data in (goalies)\n",
    "player_id = []\n",
    "first_name = []\n",
    "last_name = []\n",
    "sweater_number = []\n",
    "position = []\n",
    "shoots_catches = []\n",
    "birthdate = []\n",
    "birth_city = []\n",
    "birth_country = []\n",
    "weight = []\n",
    "height = []"
   ]
  },
  {
   "cell_type": "code",
   "execution_count": 13,
   "id": "7d849a46-f006-4be7-ae3c-618dfe42cd31",
   "metadata": {},
   "outputs": [],
   "source": [
    "# pull data into lists - goalies \n",
    "for i in range(len(roster_data)):\n",
    "    for j in roster_data[i]['goalies']:\n",
    "        player_id.append(j['id'])\n",
    "        first_name.append(j['firstName']['default'])\n",
    "        last_name.append(j['lastName']['default'])\n",
    "        position.append(j['positionCode'])\n",
    "        shoots_catches.append(j['shootsCatches'])\n",
    "        birthdate.append(j['birthDate'])\n",
    "        birth_country.append(j['birthCountry'])\n",
    "        weight.append(j['weightInPounds'])\n",
    "        height.append(j['heightInInches'])\n",
    "        try:\n",
    "            sweater_number.append(j['sweaterNumber'])\n",
    "            birth_city.append(j['birthCity']['default'])\n",
    "        except KeyError:\n",
    "            sweater_number.append('NaN') \n",
    "            birth_city.append('NaN')"
   ]
  },
  {
   "cell_type": "code",
   "execution_count": 14,
   "id": "f86a8db5-6d29-4195-bf16-095e1d7bf493",
   "metadata": {},
   "outputs": [],
   "source": [
    "#create a data frame with goalie ifo\n",
    "player_data_goalies = pd.DataFrame(list(zip(player_id, first_name, last_name, sweater_number, position, shoots_catches, \n",
    "                                                birthdate, birth_city, birth_country, weight, height)),\n",
    "               columns =['player_id', 'first_name', 'last_name', 'sweater_number', 'position', 'shoots_catches', \n",
    "                            'birthdate', 'birth_city', 'birth_country', 'weight', 'height'])"
   ]
  },
  {
   "cell_type": "markdown",
   "id": "bb4a0263-d401-4cf0-beb9-85c821a6e04b",
   "metadata": {},
   "source": [
    "#### Combine dataframes"
   ]
  },
  {
   "cell_type": "code",
   "execution_count": 15,
   "id": "8f256d3d-9f75-4207-9601-d8605b68eb8f",
   "metadata": {},
   "outputs": [],
   "source": [
    "#combine forwards, defense, goalie dataframes \n",
    "frames = [player_data_forwards, player_data_defense, player_data_goalies]\n",
    "\n",
    "player_data = pd.concat(frames)"
   ]
  },
  {
   "cell_type": "code",
   "execution_count": 16,
   "id": "35e4fee6-e293-4176-b73e-a3186a87263f",
   "metadata": {},
   "outputs": [],
   "source": [
    "#create a csv of player info\n",
    "player_data.to_csv('player_data.csv')"
   ]
  }
 ],
 "metadata": {
  "kernelspec": {
   "display_name": "lighthouse",
   "language": "python",
   "name": "lighthouse"
  },
  "language_info": {
   "codemirror_mode": {
    "name": "ipython",
    "version": 3
   },
   "file_extension": ".py",
   "mimetype": "text/x-python",
   "name": "python",
   "nbconvert_exporter": "python",
   "pygments_lexer": "ipython3",
   "version": "3.9.13"
  }
 },
 "nbformat": 4,
 "nbformat_minor": 5
}
