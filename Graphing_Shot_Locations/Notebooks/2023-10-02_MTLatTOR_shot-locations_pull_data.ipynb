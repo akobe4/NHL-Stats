{
 "cells": [
  {
   "cell_type": "code",
   "execution_count": 2,
   "id": "87758cd4-dcd3-4eb4-a5df-b3827759bcfc",
   "metadata": {},
   "outputs": [],
   "source": [
    "import pandas as pd \n",
    "import requests\n",
    "import os\n",
    "import json\n",
    "import numpy as np"
   ]
  },
  {
   "cell_type": "code",
   "execution_count": 3,
   "id": "28cbd959-225b-445a-8ffb-a1009c568c02",
   "metadata": {},
   "outputs": [],
   "source": [
    "#pull data from NHL API\n",
    "game_url = 'https://statsapi.web.nhl.com/api/v1/game/2023010071/feed/live'\n",
    "response = requests.get(game_url)\n",
    "game_info = response.json()"
   ]
  },
  {
   "cell_type": "code",
   "execution_count": 4,
   "id": "60d8657c-5224-40b3-9cf1-976fff9853de",
   "metadata": {},
   "outputs": [
    {
     "data": {
      "application/json": {
       "copyright": "NHL and the NHL Shield are registered trademarks of the National Hockey League. NHL and NHL team marks are the property of the NHL and its teams. © NHL 2023. All Rights Reserved.",
       "gameData": {
        "datetime": {
         "dateTime": "2023-10-02T23:00:00Z",
         "endDateTime": "2023-10-03T01:35:32Z"
        },
        "game": {
         "pk": 2023010071,
         "season": "20232024",
         "type": "PR"
        },
        "players": {
         "ID8470966": {
          "active": true,
          "alternateCaptain": false,
          "birthCity": "Toronto",
          "birthCountry": "CAN",
          "birthDate": "1983-10-03",
          "birthStateProvince": "ON",
          "captain": false,
          "currentAge": 40,
          "currentTeam": {
           "id": 10,
           "link": "/api/v1/teams/10",
           "name": "Toronto Maple Leafs",
           "triCode": "TOR"
          },
          "firstName": "Mark",
          "fullName": "Mark Giordano",
          "height": "6' 0\"",
          "id": 8470966,
          "lastName": "Giordano",
          "link": "/api/v1/people/8470966",
          "nationality": "CAN",
          "primaryNumber": "55",
          "primaryPosition": {
           "abbreviation": "D",
           "code": "D",
           "name": "Defenseman",
           "type": "Defenseman"
          },
          "rookie": false,
          "rosterStatus": "Y",
          "shootsCatches": "L",
          "weight": 202
         },
         "ID8471679": {
          "active": true,
          "alternateCaptain": false,
          "birthCity": "Anahim Lake",
          "birthCountry": "CAN",
          "birthDate": "1987-08-16",
          "birthStateProvince": "BC",
          "captain": false,
          "currentAge": 36,
          "currentTeam": {
           "id": 8,
           "link": "/api/v1/teams/8",
           "name": "Montréal Canadiens",
           "triCode": "MTL"
          },
          "firstName": "Carey",
          "fullName": "Carey Price",
          "height": "6' 3\"",
          "id": 8471679,
          "lastName": "Price",
          "link": "/api/v1/people/8471679",
          "nationality": "CAN",
          "primaryNumber": "31",
          "primaryPosition": {
           "abbreviation": "G",
           "code": "G",
           "name": "Goalie",
           "type": "Goalie"
          },
          "rookie": false,
          "rosterStatus": "N",
          "shootsCatches": "L",
          "weight": 217
         },
         "ID8471817": {
          "active": true,
          "alternateCaptain": false,
          "birthCity": "Winnipeg",
          "birthCountry": "CAN",
          "birthDate": "1987-01-20",
          "birthStateProvince": "MB",
          "captain": false,
          "currentAge": 36,
          "currentTeam": {
           "id": 10,
           "link": "/api/v1/teams/10",
           "name": "Toronto Maple Leafs",
           "triCode": "TOR"
          },
          "firstName": "Ryan",
          "fullName": "Ryan Reaves",
          "height": "6' 2\"",
          "id": 8471817,
          "lastName": "Reaves",
          "link": "/api/v1/people/8471817",
          "nationality": "CAN",
          "primaryNumber": "75",
          "primaryPosition": {
           "abbreviation": "RW",
           "code": "R",
           "name": "Right Wing",
           "type": "Forward"
          },
          "rookie": false,
          "rosterStatus": "Y",
          "shootsCatches": "R",
          "weight": 226
         },
         "ID8474162": {
          "active": true,
          "alternateCaptain": true,
          "birthCity": "Woodstock",
          "birthCountry": "CAN",
          "birthDate": "1989-02-21",
          "birthStateProvince": "ON",
          "captain": false,
          "currentAge": 34,
          "currentTeam": {
           "id": 10,
           "link": "/api/v1/teams/10",
           "name": "Toronto Maple Leafs",
           "triCode": "TOR"
          },
          "firstName": "Jake",
          "fullName": "Jake Muzzin",
          "height": "6' 3\"",
          "id": 8474162,
          "lastName": "Muzzin",
          "link": "/api/v1/people/8474162",
          "nationality": "CAN",
          "primaryNumber": "8",
          "primaryPosition": {
           "abbreviation": "D",
           "code": "D",
           "name": "Defenseman",
           "type": "Defenseman"
          },
          "rookie": false,
          "rosterStatus": "I",
          "shootsCatches": "L",
          "weight": 227
         },
         "ID8474596": {
          "active": true,
          "alternateCaptain": false,
          "birthCity": "Fredericton",
          "birthCountry": "CAN",
          "birthDate": "1990-08-07",
          "birthStateProvince": "NB",
          "captain": false,
          "currentAge": 33,
          "currentTeam": {
           "id": 8,
           "link": "/api/v1/teams/8",
           "name": "Montréal Canadiens",
           "triCode": "MTL"
          },
          "firstName": "Jake",
          "fullName": "Jake Allen",
          "height": "6' 2\"",
          "id": 8474596,
          "lastName": "Allen",
          "link": "/api/v1/people/8474596",
          "nationality": "CAN",
          "primaryNumber": "34",
          "primaryPosition": {
           "abbreviation": "G",
           "code": "G",
           "name": "Goalie",
           "type": "Goalie"
          },
          "rookie": false,
          "rosterStatus": "Y",
          "shootsCatches": "L",
          "weight": 197
         },
         "ID8474673": {
          "active": true,
          "alternateCaptain": false,
          "birthCity": "Chatham",
          "birthCountry": "CAN",
          "birthDate": "1990-06-07",
          "birthStateProvince": "ON",
          "captain": false,
          "currentAge": 33,
          "currentTeam": {
           "id": 10,
           "link": "/api/v1/teams/10",
           "name": "Toronto Maple Leafs",
           "triCode": "TOR"
          },
          "firstName": "TJ",
          "fullName": "TJ Brodie",
          "height": "6' 2\"",
          "id": 8474673,
          "lastName": "Brodie",
          "link": "/api/v1/people/8474673",
          "nationality": "CAN",
          "primaryNumber": "78",
          "primaryPosition": {
           "abbreviation": "D",
           "code": "D",
           "name": "Defenseman",
           "type": "Defenseman"
          },
          "rookie": false,
          "rosterStatus": "Y",
          "shootsCatches": "L",
          "weight": 187
         },
         "ID8474889": {
          "active": true,
          "alternateCaptain": false,
          "birthCity": "North Vancouver",
          "birthCountry": "CAN",
          "birthDate": "1990-01-10",
          "birthStateProvince": "BC",
          "captain": false,
          "currentAge": 33,
          "currentTeam": {
           "id": 10,
           "link": "/api/v1/teams/10",
           "name": "Toronto Maple Leafs",
           "triCode": "TOR"
          },
          "firstName": "Martin",
          "fullName": "Martin Jones",
          "height": "6' 5\"",
          "id": 8474889,
          "lastName": "Jones",
          "link": "/api/v1/people/8474889",
          "nationality": "CAN",
          "primaryNumber": "31",
          "primaryPosition": {
           "abbreviation": "G",
           "code": "G",
           "name": "Goalie",
           "type": "Goalie"
          },
          "rookie": false,
          "rosterStatus": "Y",
          "shootsCatches": "L",
          "weight": 203
         },
         "ID8475160": {
          "active": true,
          "alternateCaptain": false,
          "birthCity": "Ayr",
          "birthCountry": "CAN",
          "birthDate": "1991-01-13",
          "birthStateProvince": "ON",
          "captain": false,
          "currentAge": 32,
          "currentTeam": {
           "id": 10,
           "link": "/api/v1/teams/10",
           "name": "Toronto Maple Leafs",
           "triCode": "TOR"
          },
          "firstName": "Kyle",
          "fullName": "Kyle Clifford",
          "height": "6' 2\"",
          "id": 8475160,
          "lastName": "Clifford",
          "link": "/api/v1/people/8475160",
          "nationality": "CAN",
          "primaryNumber": "43",
          "primaryPosition": {
           "abbreviation": "LW",
           "code": "L",
           "name": "Left Wing",
           "type": "Forward"
          },
          "rookie": false,
          "rosterStatus": "Y",
          "shootsCatches": "L",
          "weight": 218
         },
         "ID8475166": {
          "active": true,
          "alternateCaptain": false,
          "birthCity": "Mississauga",
          "birthCountry": "CAN",
          "birthDate": "1990-09-20",
          "birthStateProvince": "ON",
          "captain": true,
          "currentAge": 33,
          "currentTeam": {
           "id": 10,
           "link": "/api/v1/teams/10",
           "name": "Toronto Maple Leafs",
           "triCode": "TOR"
          },
          "firstName": "John",
          "fullName": "John Tavares",
          "height": "6' 1\"",
          "id": 8475166,
          "lastName": "Tavares",
          "link": "/api/v1/people/8475166",
          "nationality": "CAN",
          "primaryNumber": "91",
          "primaryPosition": {
           "abbreviation": "C",
           "code": "C",
           "name": "Center",
           "type": "Forward"
          },
          "rookie": false,
          "rosterStatus": "Y",
          "shootsCatches": "L",
          "weight": 211
         },
         "ID8475227": {
          "active": true,
          "alternateCaptain": false,
          "birthCity": "St. Louis",
          "birthCountry": "USA",
          "birthDate": "1990-01-07",
          "birthStateProvince": "MO",
          "captain": false,
          "currentAge": 33,
          "currentTeam": {
           "id": 8,
           "link": "/api/v1/teams/8",
           "name": "Montréal Canadiens",
           "triCode": "MTL"
          },
          "firstName": "Chris",
          "fullName": "Chris Wideman",
          "height": "5' 10\"",
          "id": 8475227,
          "lastName": "Wideman",
          "link": "/api/v1/people/8475227",
          "nationality": "USA",
          "primaryNumber": "6",
          "primaryPosition": {
           "abbreviation": "D",
           "code": "D",
           "name": "Defenseman",
           "type": "Defenseman"
          },
          "rookie": false,
          "rosterStatus": "N",
          "shootsCatches": "R",
          "weight": 180
         },
         "ID8475233": {
          "active": true,
          "alternateCaptain": false,
          "birthCity": "St-Hyacinthe",
          "birthCountry": "CAN",
          "birthDate": "1990-10-22",
          "birthStateProvince": "QC",
          "captain": false,
          "currentAge": 32,
          "currentTeam": {
           "id": 8,
           "link": "/api/v1/teams/8",
           "name": "Montréal Canadiens",
           "triCode": "MTL"
          },
          "firstName": "David",
          "fullName": "David Savard",
          "height": "6' 1\"",
          "id": 8475233,
          "lastName": "Savard",
          "link": "/api/v1/people/8475233",
          "nationality": "CAN",
          "primaryNumber": "58",
          "primaryPosition": {
           "abbreviation": "D",
           "code": "D",
           "name": "Defenseman",
           "type": "Defenseman"
          },
          "rookie": false,
          "rosterStatus": "Y",
          "shootsCatches": "R",
          "weight": 238
         },
         "ID8475714": {
          "active": true,
          "alternateCaptain": false,
          "birthCity": "Gavle",
          "birthCountry": "SWE",
          "birthDate": "1991-09-25",
          "captain": false,
          "currentAge": 32,
          "currentTeam": {
           "id": 10,
           "link": "/api/v1/teams/10",
           "name": "Toronto Maple Leafs",
           "triCode": "TOR"
          },
          "firstName": "Calle",
          "fullName": "Calle Jarnkrok",
          "height": "6' 0\"",
          "id": 8475714,
          "lastName": "Jarnkrok",
          "link": "/api/v1/people/8475714",
          "nationality": "SWE",
          "primaryNumber": "19",
          "primaryPosition": {
           "abbreviation": "C",
           "code": "C",
           "name": "Center",
           "type": "Forward"
          },
          "rookie": false,
          "rosterStatus": "Y",
          "shootsCatches": "R",
          "weight": 190
         },
         "ID8475848": {
          "active": true,
          "alternateCaptain": true,
          "birthCity": "Edmonton",
          "birthCountry": "CAN",
          "birthDate": "1992-05-06",
          "birthStateProvince": "AB",
          "captain": false,
          "currentAge": 31,
          "currentTeam": {
           "id": 8,
           "link": "/api/v1/teams/8",
           "name": "Montréal Canadiens",
           "triCode": "MTL"
          },
          "firstName": "Brendan",
          "fullName": "Brendan Gallagher",
          "height": "5' 9\"",
          "id": 8475848,
          "lastName": "Gallagher",
          "link": "/api/v1/people/8475848",
          "nationality": "CAN",
          "primaryNumber": "11",
          "primaryPosition": {
           "abbreviation": "RW",
           "code": "R",
           "name": "Right Wing",
           "type": "Forward"
          },
          "rookie": false,
          "rosterStatus": "Y",
          "shootsCatches": "R",
          "weight": 183
         },
         "ID8475906": {
          "active": true,
          "alternateCaptain": false,
          "birthCity": "Gothenburg",
          "birthCountry": "SWE",
          "birthDate": "1992-08-14",
          "captain": false,
          "currentAge": 31,
          "currentTeam": {
           "id": 10,
           "link": "/api/v1/teams/10",
           "name": "Toronto Maple Leafs",
           "triCode": "TOR"
          },
          "firstName": "John",
          "fullName": "John Klingberg",
          "height": "6' 2\"",
          "id": 8475906,
          "lastName": "Klingberg",
          "link": "/api/v1/people/8475906",
          "nationality": "SWE",
          "primaryNumber": "3",
          "primaryPosition": {
           "abbreviation": "D",
           "code": "D",
           "name": "Defenseman",
           "type": "Defenseman"
          },
          "rookie": false,
          "rosterStatus": "Y",
          "shootsCatches": "R",
          "weight": 185
         },
         "ID8476469": {
          "active": true,
          "alternateCaptain": false,
          "birthCity": "Pori",
          "birthCountry": "FIN",
          "birthDate": "1993-05-31",
          "captain": false,
          "currentAge": 30,
          "currentTeam": {
           "id": 8,
           "link": "/api/v1/teams/8",
           "name": "Montréal Canadiens",
           "triCode": "MTL"
          },
          "firstName": "Joel",
          "fullName": "Joel Armia",
          "height": "6' 3\"",
          "id": 8476469,
          "lastName": "Armia",
          "link": "/api/v1/people/8476469",
          "nationality": "FIN",
          "primaryNumber": "40",
          "primaryPosition": {
           "abbreviation": "RW",
           "code": "R",
           "name": "Right Wing",
           "type": "Forward"
          },
          "rookie": false,
          "rosterStatus": "Y",
          "shootsCatches": "R",
          "weight": 216
         },
         "ID8476853": {
          "active": true,
          "alternateCaptain": true,
          "birthCity": "Vancouver",
          "birthCountry": "CAN",
          "birthDate": "1994-03-09",
          "birthStateProvince": "BC",
          "captain": false,
          "currentAge": 29,
          "currentTeam": {
           "id": 10,
           "link": "/api/v1/teams/10",
           "name": "Toronto Maple Leafs",
           "triCode": "TOR"
          },
          "firstName": "Morgan",
          "fullName": "Morgan Rielly",
          "height": "6' 1\"",
          "id": 8476853,
          "lastName": "Rielly",
          "link": "/api/v1/people/8476853",
          "nationality": "CAN",
          "primaryNumber": "44",
          "primaryPosition": {
           "abbreviation": "D",
           "code": "D",
           "name": "Defenseman",
           "type": "Defenseman"
          },
          "rookie": false,
          "rosterStatus": "Y",
          "shootsCatches": "L",
          "weight": 225
         },
         "ID8476871": {
          "active": true,
          "alternateCaptain": false,
          "birthCity": "Kitchener",
          "birthCountry": "CAN",
          "birthDate": "1992-08-10",
          "birthStateProvince": "ON",
          "captain": false,
          "currentAge": 31,
          "currentTeam": {
           "id": 8,
           "link": "/api/v1/teams/8",
           "name": "Montréal Canadiens",
           "triCode": "MTL"
          },
          "firstName": "Tanner",
          "fullName": "Tanner Pearson",
          "height": "6' 1\"",
          "id": 8476871,
          "lastName": "Pearson",
          "link": "/api/v1/people/8476871",
          "nationality": "CAN",
          "primaryNumber": "70",
          "primaryPosition": {
           "abbreviation": "LW",
           "code": "L",
           "name": "Left Wing",
           "type": "Forward"
          },
          "rookie": false,
          "rosterStatus": "Y",
          "shootsCatches": "L",
          "weight": 207
         },
         "ID8476875": {
          "active": true,
          "alternateCaptain": false,
          "birthCity": "Pointe-Claire",
          "birthCountry": "CAN",
          "birthDate": "1994-02-27",
          "birthStateProvince": "QC",
          "captain": false,
          "currentAge": 29,
          "currentTeam": {
           "id": 8,
           "link": "/api/v1/teams/8",
           "name": "Montréal Canadiens",
           "triCode": "MTL"
          },
          "firstName": "Mike",
          "fullName": "Mike Matheson",
          "height": "6' 2\"",
          "id": 8476875,
          "lastName": "Matheson",
          "link": "/api/v1/people/8476875",
          "nationality": "CAN",
          "primaryNumber": "8",
          "primaryPosition": {
           "abbreviation": "D",
           "code": "D",
           "name": "Defenseman",
           "type": "Defenseman"
          },
          "rookie": false,
          "rosterStatus": "Y",
          "shootsCatches": "L",
          "weight": 196
         },
         "ID8476899": {
          "active": true,
          "alternateCaptain": false,
          "birthCity": "Thunder Bay",
          "birthCountry": "CAN",
          "birthDate": "1994-05-25",
          "birthStateProvince": "ON",
          "captain": false,
          "currentAge": 29,
          "currentTeam": {
           "id": 10,
           "link": "/api/v1/teams/10",
           "name": "Toronto Maple Leafs",
           "triCode": "TOR"
          },
          "firstName": "Matt",
          "fullName": "Matt Murray",
          "height": "6' 5\"",
          "id": 8476899,
          "lastName": "Murray",
          "link": "/api/v1/people/8476899",
          "nationality": "CAN",
          "primaryNumber": "30",
          "primaryPosition": {
           "abbreviation": "G",
           "code": "G",
           "name": "Goalie",
           "type": "Goalie"
          },
          "rookie": false,
          "rosterStatus": "N",
          "shootsCatches": "L",
          "weight": 203
         },
         "ID8476931": {
          "active": true,
          "alternateCaptain": false,
          "birthCity": "Eau Claire",
          "birthCountry": "USA",
          "birthDate": "1993-10-12",
          "birthStateProvince": "WI",
          "captain": false,
          "currentAge": 29,
          "currentTeam": {
           "id": 10,
           "link": "/api/v1/teams/10",
           "name": "Toronto Maple Leafs",
           "triCode": "TOR"
          },
          "firstName": "Jake",
          "fullName": "Jake McCabe",
          "height": "6' 1\"",
          "id": 8476931,
          "lastName": "McCabe",
          "link": "/api/v1/people/8476931",
          "nationality": "USA",
          "primaryNumber": "22",
          "primaryPosition": {
           "abbreviation": "D",
           "code": "D",
           "name": "Defenseman",
           "type": "Defenseman"
          },
          "rookie": false,
          "rosterStatus": "Y",
          "shootsCatches": "L",
          "weight": 211
         },
         "ID8476981": {
          "active": true,
          "alternateCaptain": false,
          "birthCity": "Burlington",
          "birthCountry": "CAN",
          "birthDate": "1994-05-07",
          "birthStateProvince": "ON",
          "captain": false,
          "currentAge": 29,
          "currentTeam": {
           "id": 8,
           "link": "/api/v1/teams/8",
           "name": "Montréal Canadiens",
           "triCode": "MTL"
          },
          "firstName": "Josh",
          "fullName": "Josh Anderson",
          "height": "6' 3\"",
          "id": 8476981,
          "lastName": "Anderson",
          "link": "/api/v1/people/8476981",
          "nationality": "CAN",
          "primaryNumber": "17",
          "primaryPosition": {
           "abbreviation": "RW",
           "code": "R",
           "name": "Right Wing",
           "type": "Forward"
          },
          "rookie": false,
          "rosterStatus": "Y",
          "shootsCatches": "R",
          "weight": 224
         },
         "ID8477374": {
          "active": true,
          "alternateCaptain": false,
          "birthCity": "Frauenfeld",
          "birthCountry": "CHE",
          "birthDate": "1994-12-09",
          "captain": false,
          "currentAge": 28,
          "currentTeam": {
           "id": 10,
           "link": "/api/v1/teams/10",
           "name": "Toronto Maple Leafs",
           "triCode": "TOR"
          },
          "firstName": "Fabrice",
          "fullName": "Fabrice Herzog",
          "height": "6' 2\"",
          "id": 8477374,
          "lastName": "Herzog",
          "link": "/api/v1/people/8477374",
          "nationality": "CHE",
          "primaryNumber": "94",
          "primaryPosition": {
           "abbreviation": "RW",
           "code": "R",
           "name": "Right Wing",
           "type": "Forward"
          },
          "rookie": false,
          "rosterStatus": "N",
          "shootsCatches": "L",
          "weight": 176
         },
         "ID8477479": {
          "active": true,
          "alternateCaptain": false,
          "birthCity": "Sudbury",
          "birthCountry": "CAN",
          "birthDate": "1995-02-24",
          "birthStateProvince": "ON",
          "captain": false,
          "currentAge": 28,
          "currentTeam": {
           "id": 10,
           "link": "/api/v1/teams/10",
           "name": "Toronto Maple Leafs",
           "triCode": "TOR"
          },
          "firstName": "Tyler",
          "fullName": "Tyler Bertuzzi",
          "height": "6' 2\"",
          "id": 8477479,
          "lastName": "Bertuzzi",
          "link": "/api/v1/people/8477479",
          "nationality": "CAN",
          "primaryNumber": "59",
          "primaryPosition": {
           "abbreviation": "LW",
           "code": "L",
           "name": "Left Wing",
           "type": "Forward"
          },
          "rookie": false,
          "rosterStatus": "Y",
          "shootsCatches": "L",
          "weight": 200
         },
         "ID8477497": {
          "active": true,
          "alternateCaptain": false,
          "birthCity": "Brampton",
          "birthCountry": "CAN",
          "birthDate": "1994-10-12",
          "birthStateProvince": "ON",
          "captain": false,
          "currentAge": 28,
          "currentTeam": {
           "id": 8,
           "link": "/api/v1/teams/8",
           "name": "Montréal Canadiens",
           "triCode": "MTL"
          },
          "firstName": "Sean",
          "fullName": "Sean Monahan",
          "height": "6' 2\"",
          "id": 8477497,
          "lastName": "Monahan",
          "link": "/api/v1/people/8477497",
          "nationality": "CAN",
          "primaryNumber": "91",
          "primaryPosition": {
           "abbreviation": "C",
           "code": "C",
           "name": "Center",
           "type": "Forward"
          },
          "rookie": false,
          "rosterStatus": "Y",
          "shootsCatches": "L",
          "weight": 202
         },
         "ID8477503": {
          "active": true,
          "alternateCaptain": false,
          "birthCity": "Winnipeg",
          "birthCountry": "CAN",
          "birthDate": "1995-03-02",
          "birthStateProvince": "MB",
          "captain": false,
          "currentAge": 28,
          "currentTeam": {
           "id": 10,
           "link": "/api/v1/teams/10",
           "name": "Toronto Maple Leafs",
           "triCode": "TOR"
          },
          "firstName": "Max",
          "fullName": "Max Domi",
          "height": "5' 10\"",
          "id": 8477503,
          "lastName": "Domi",
          "link": "/api/v1/people/8477503",
          "nationality": "CAN",
          "primaryNumber": "11",
          "primaryPosition": {
           "abbreviation": "C",
           "code": "C",
           "name": "Center",
           "type": "Forward"
          },
          "rookie": false,
          "rosterStatus": "Y",
          "shootsCatches": "L",
          "weight": 208
         },
         "ID8477544": {
          "active": true,
          "alternateCaptain": false,
          "birthCity": "Lachenaie",
          "birthCountry": "CAN",
          "birthDate": "1992-11-07",
          "birthStateProvince": "QC",
          "captain": false,
          "currentAge": 30,
          "currentTeam": {
           "id": 8,
           "link": "/api/v1/teams/8",
           "name": "Montréal Canadiens",
           "triCode": "MTL"
          },
          "firstName": "Philippe",
          "fullName": "Philippe Maillet",
          "height": "5' 10\"",
          "id": 8477544,
          "lastName": "Maillet",
          "link": "/api/v1/people/8477544",
          "nationality": "CAN",
          "primaryNumber": "61",
          "primaryPosition": {
           "abbreviation": "C",
           "code": "C",
           "name": "Center",
           "type": "Forward"
          },
          "rookie": false,
          "rosterStatus": "N",
          "shootsCatches": "L",
          "weight": 182
         },
         "ID8477939": {
          "active": true,
          "alternateCaptain": false,
          "birthCity": "Calgary",
          "birthCountry": "CAN",
          "birthDate": "1996-05-01",
          "birthStateProvince": "AB",
          "captain": false,
          "currentAge": 27,
          "currentTeam": {
           "id": 10,
           "link": "/api/v1/teams/10",
           "name": "Toronto Maple Leafs",
           "triCode": "TOR"
          },
          "firstName": "William",
          "fullName": "William Nylander",
          "height": "6' 0\"",
          "id": 8477939,
          "lastName": "Nylander",
          "link": "/api/v1/people/8477939",
          "nationality": "SWE",
          "primaryNumber": "88",
          "primaryPosition": {
           "abbreviation": "RW",
           "code": "R",
           "name": "Right Wing",
           "type": "Forward"
          },
          "rookie": false,
          "rosterStatus": "Y",
          "shootsCatches": "R",
          "weight": 202
         },
         "ID8477989": {
          "active": true,
          "alternateCaptain": false,
          "birthCity": "Palos",
          "birthCountry": "USA",
          "birthDate": "1996-02-02",
          "birthStateProvince": "IL",
          "captain": false,
          "currentAge": 27,
          "currentTeam": {
           "id": 8,
           "link": "/api/v1/teams/8",
           "name": "Montréal Canadiens",
           "triCode": "MTL"
          },
          "firstName": "Christian",
          "fullName": "Christian Dvorak",
          "height": "6' 1\"",
          "id": 8477989,
          "lastName": "Dvorak",
          "link": "/api/v1/people/8477989",
          "nationality": "USA",
          "primaryNumber": "28",
          "primaryPosition": {
           "abbreviation": "C",
           "code": "C",
           "name": "Center",
           "type": "Forward"
          },
          "rookie": false,
          "rosterStatus": "N",
          "shootsCatches": "L",
          "weight": 192
         },
         "ID8478021": {
          "active": true,
          "alternateCaptain": false,
          "birthCity": "Gothenburg",
          "birthCountry": "SWE",
          "birthDate": "1996-02-22",
          "captain": false,
          "currentAge": 27,
          "currentTeam": {
           "id": 10,
           "link": "/api/v1/teams/10",
           "name": "Toronto Maple Leafs",
           "triCode": "TOR"
          },
          "firstName": "William",
          "fullName": "William Lagesson",
          "height": "6' 2\"",
          "id": 8478021,
          "lastName": "Lagesson",
          "link": "/api/v1/people/8478021",
          "nationality": "SWE",
          "primaryNumber": "85",
          "primaryPosition": {
           "abbreviation": "D",
           "code": "D",
           "name": "Defenseman",
           "type": "Defenseman"
          },
          "rookie": false,
          "rosterStatus": "Y",
          "shootsCatches": "L",
          "weight": 211
         },
         "ID8478043": {
          "active": true,
          "alternateCaptain": false,
          "birthCity": "Hollidaysburg",
          "birthCountry": "USA",
          "birthDate": "1995-03-06",
          "birthStateProvince": "PA",
          "captain": false,
          "currentAge": 28,
          "currentTeam": {
           "id": 10,
           "link": "/api/v1/teams/10",
           "name": "Toronto Maple Leafs",
           "triCode": "TOR"
          },
          "firstName": "Sam",
          "fullName": "Sam Lafferty",
          "height": "6' 2\"",
          "id": 8478043,
          "lastName": "Lafferty",
          "link": "/api/v1/people/8478043",
          "nationality": "USA",
          "primaryNumber": "28",
          "primaryPosition": {
           "abbreviation": "C",
           "code": "C",
           "name": "Center",
           "type": "Forward"
          },
          "rookie": false,
          "rosterStatus": "Y",
          "shootsCatches": "R",
          "weight": 205
         },
         "ID8478133": {
          "active": true,
          "alternateCaptain": false,
          "birthCity": "Toronto",
          "birthCountry": "CAN",
          "birthDate": "1996-06-02",
          "birthStateProvince": "ON",
          "captain": false,
          "currentAge": 27,
          "currentTeam": {
           "id": 8,
           "link": "/api/v1/teams/8",
           "name": "Montréal Canadiens",
           "triCode": "MTL"
          },
          "firstName": "Jake",
          "fullName": "Jake Evans",
          "height": "6' 1\"",
          "id": 8478133,
          "lastName": "Evans",
          "link": "/api/v1/people/8478133",
          "nationality": "CAN",
          "primaryNumber": "71",
          "primaryPosition": {
           "abbreviation": "C",
           "code": "C",
           "name": "Center",
           "type": "Forward"
          },
          "rookie": false,
          "rosterStatus": "Y",
          "shootsCatches": "R",
          "weight": 187
         },
         "ID8478470": {
          "active": true,
          "alternateCaptain": false,
          "birthCity": "Becancour",
          "birthCountry": "CAN",
          "birthDate": "1996-10-30",
          "birthStateProvince": "QC",
          "captain": false,
          "currentAge": 26,
          "currentTeam": {
           "id": 8,
           "link": "/api/v1/teams/8",
           "name": "Montréal Canadiens",
           "triCode": "MTL"
          },
          "firstName": "Sam",
          "fullName": "Sam Montembeault",
          "height": "6' 3\"",
          "id": 8478470,
          "lastName": "Montembeault",
          "link": "/api/v1/people/8478470",
          "nationality": "CAN",
          "primaryNumber": "35",
          "primaryPosition": {
           "abbreviation": "G",
           "code": "G",
           "name": "Goalie",
           "type": "Goalie"
          },
          "rookie": false,
          "rosterStatus": "Y",
          "shootsCatches": "L",
          "weight": 222
         },
         "ID8478477": {
          "active": true,
          "alternateCaptain": false,
          "birthCity": "Peterborough",
          "birthCountry": "CAN",
          "birthDate": "1997-02-05",
          "birthStateProvince": "ON",
          "captain": false,
          "currentAge": 26,
          "currentTeam": {
           "id": 8,
           "link": "/api/v1/teams/8",
           "name": "Montréal Canadiens",
           "triCode": "MTL"
          },
          "firstName": "Mitchell",
          "fullName": "Mitchell Stephens",
          "height": "6' 0\"",
          "id": 8478477,
          "lastName": "Stephens",
          "link": "/api/v1/people/8478477",
          "nationality": "CAN",
          "primaryNumber": "13",
          "primaryPosition": {
           "abbreviation": "C",
           "code": "C",
           "name": "Center",
           "type": "Forward"
          },
          "rookie": false,
          "rosterStatus": "N",
          "shootsCatches": "R",
          "weight": 203
         },
         "ID8478483": {
          "active": true,
          "alternateCaptain": true,
          "birthCity": "Markham",
          "birthCountry": "CAN",
          "birthDate": "1997-05-05",
          "birthStateProvince": "ON",
          "captain": false,
          "currentAge": 26,
          "currentTeam": {
           "id": 10,
           "link": "/api/v1/teams/10",
           "name": "Toronto Maple Leafs",
           "triCode": "TOR"
          },
          "firstName": "Mitchell",
          "fullName": "Mitchell Marner",
          "height": "6' 0\"",
          "id": 8478483,
          "lastName": "Marner",
          "link": "/api/v1/people/8478483",
          "nationality": "CAN",
          "primaryNumber": "16",
          "primaryPosition": {
           "abbreviation": "RW",
           "code": "R",
           "name": "Right Wing",
           "type": "Forward"
          },
          "rookie": false,
          "rosterStatus": "Y",
          "shootsCatches": "R",
          "weight": 180
         },
         "ID8478492": {
          "active": true,
          "alternateCaptain": false,
          "birthCity": "Magnitogorsk",
          "birthCountry": "RUS",
          "birthDate": "1997-02-22",
          "captain": false,
          "currentAge": 26,
          "currentTeam": {
           "id": 10,
           "link": "/api/v1/teams/10",
           "name": "Toronto Maple Leafs",
           "triCode": "TOR"
          },
          "firstName": "Ilya",
          "fullName": "Ilya Samsonov",
          "height": "6' 3\"",
          "id": 8478492,
          "lastName": "Samsonov",
          "link": "/api/v1/people/8478492",
          "nationality": "RUS",
          "primaryNumber": "35",
          "primaryPosition": {
           "abbreviation": "G",
           "code": "G",
           "name": "Goalie",
           "type": "Goalie"
          },
          "rookie": false,
          "rosterStatus": "Y",
          "shootsCatches": "L",
          "weight": 217
         },
         "ID8479318": {
          "active": true,
          "alternateCaptain": true,
          "birthCity": "San Ramon",
          "birthCountry": "USA",
          "birthDate": "1997-09-17",
          "birthStateProvince": "CA",
          "captain": false,
          "currentAge": 26,
          "currentTeam": {
           "id": 10,
           "link": "/api/v1/teams/10",
           "name": "Toronto Maple Leafs",
           "triCode": "TOR"
          },
          "firstName": "Auston",
          "fullName": "Auston Matthews",
          "height": "6' 3\"",
          "id": 8479318,
          "lastName": "Matthews",
          "link": "/api/v1/people/8479318",
          "nationality": "USA",
          "primaryNumber": "34",
          "primaryPosition": {
           "abbreviation": "C",
           "code": "C",
           "name": "Center",
           "type": "Forward"
          },
          "rookie": false,
          "rosterStatus": "Y",
          "shootsCatches": "L",
          "weight": 215
         },
         "ID8479320": {
          "active": true,
          "alternateCaptain": false,
          "birthCity": "Quebec City",
          "birthCountry": "CAN",
          "birthDate": "1997-11-05",
          "birthStateProvince": "QC",
          "captain": false,
          "currentAge": 25,
          "currentTeam": {
           "id": 10,
           "link": "/api/v1/teams/10",
           "name": "Toronto Maple Leafs",
           "triCode": "TOR"
          },
          "firstName": "Max",
          "fullName": "Max Lajoie",
          "height": "6' 1\"",
          "id": 8479320,
          "lastName": "Lajoie",
          "link": "/api/v1/people/8479320",
          "nationality": "CAN",
          "primaryNumber": "48",
          "primaryPosition": {
           "abbreviation": "D",
           "code": "D",
           "name": "Defenseman",
           "type": "Defenseman"
          },
          "rookie": false,
          "rosterStatus": "Y",
          "shootsCatches": "L",
          "weight": 191
         },
         "ID8479361": {
          "active": true,
          "alternateCaptain": false,
          "birthCity": "Dardenne Prairie",
          "birthCountry": "USA",
          "birthDate": "1998-07-12",
          "birthStateProvince": "MO",
          "captain": false,
          "currentAge": 25,
          "currentTeam": {
           "id": 10,
           "link": "/api/v1/teams/10",
           "name": "Toronto Maple Leafs",
           "triCode": "TOR"
          },
          "firstName": "Joseph",
          "fullName": "Joseph Woll",
          "height": "6' 3\"",
          "id": 8479361,
          "lastName": "Woll",
          "link": "/api/v1/people/8479361",
          "nationality": "USA",
          "primaryNumber": "60",
          "primaryPosition": {
           "abbreviation": "G",
           "code": "G",
           "name": "Goalie",
           "type": "Goalie"
          },
          "rookie": true,
          "rosterStatus": "Y",
          "shootsCatches": "L",
          "weight": 202
         },
         "ID8479393": {
          "active": false,
          "birthCity": "Beaumont",
          "birthCountry": "CAN",
          "birthDate": "1998-07-28",
          "birthStateProvince": "AB",
          "firstName": "Noah",
          "fullName": "Noah Gregor",
          "height": "6' 0\"",
          "id": 8479393,
          "lastName": "Gregor",
          "link": "/api/v1/people/8479393",
          "nationality": "CAN",
          "primaryNumber": "73",
          "primaryPosition": {
           "abbreviation": "C",
           "code": "C",
           "name": "Center",
           "type": "Forward"
          },
          "rookie": false,
          "rosterStatus": "N",
          "shootsCatches": "L",
          "weight": 190
         },
         "ID8479528": {
          "active": true,
          "alternateCaptain": false,
          "birthCity": "Lipetsk",
          "birthCountry": "RUS",
          "birthDate": "1997-04-18",
          "captain": false,
          "currentAge": 26,
          "currentTeam": {
           "id": 10,
           "link": "/api/v1/teams/10",
           "name": "Toronto Maple Leafs",
           "triCode": "TOR"
          },
          "firstName": "Vladimir",
          "fullName": "Vladimir Bobylev",
          "height": "6' 2\"",
          "id": 8479528,
          "lastName": "Bobylev",
          "link": "/api/v1/people/8479528",
          "nationality": "RUS",
          "primaryPosition": {
           "abbreviation": "LW",
           "code": "L",
           "name": "Left Wing",
           "type": "Forward"
          },
          "rookie": false,
          "rosterStatus": "N",
          "shootsCatches": "L",
          "weight": 202
         },
         "ID8479543": {
          "active": true,
          "alternateCaptain": false,
          "birthCity": "Toronto",
          "birthCountry": "CAN",
          "birthDate": "1998-03-13",
          "birthStateProvince": "ON",
          "captain": false,
          "currentAge": 25,
          "currentTeam": {
           "id": 8,
           "link": "/api/v1/teams/8",
           "name": "Montréal Canadiens",
           "triCode": "MTL"
          },
          "firstName": "Michael",
          "fullName": "Michael Pezzetta",
          "height": "6' 1\"",
          "id": 8479543,
          "lastName": "Pezzetta",
          "link": "/api/v1/people/8479543",
          "nationality": "CAN",
          "primaryNumber": "55",
          "primaryPosition": {
           "abbreviation": "LW",
           "code": "L",
           "name": "Left Wing",
           "type": "Forward"
          },
          "rookie": false,
          "rosterStatus": "Y",
          "shootsCatches": "L",
          "weight": 217
         },
         "ID8479580": {
          "active": true,
          "alternateCaptain": false,
          "birthCity": "Bonney Lake",
          "birthCountry": "USA",
          "birthDate": "1996-08-26",
          "birthStateProvince": "WA",
          "captain": false,
          "currentAge": 27,
          "currentTeam": {
           "id": 10,
           "link": "/api/v1/teams/10",
           "name": "Toronto Maple Leafs",
           "triCode": "TOR"
          },
          "firstName": "Dylan",
          "fullName": "Dylan Gambrell",
          "height": "6' 0\"",
          "id": 8479580,
          "lastName": "Gambrell",
          "link": "/api/v1/people/8479580",
          "nationality": "USA",
          "primaryNumber": "57",
          "primaryPosition": {
           "abbreviation": "C",
           "code": "C",
           "name": "Center",
           "type": "Forward"
          },
          "rookie": false,
          "rosterStatus": "Y",
          "shootsCatches": "R",
          "weight": 190
         },
         "ID8479599": {
          "active": true,
          "alternateCaptain": false,
          "birthCity": "Moscow",
          "birthCountry": "RUS",
          "birthDate": "1997-08-01",
          "captain": false,
          "currentAge": 26,
          "currentTeam": {
           "id": 10,
           "link": "/api/v1/teams/10",
           "name": "Toronto Maple Leafs",
           "triCode": "TOR"
          },
          "firstName": "Nikolai",
          "fullName": "Nikolai Chebykin",
          "height": "6' 4\"",
          "id": 8479599,
          "lastName": "Chebykin",
          "link": "/api/v1/people/8479599",
          "nationality": "RUS",
          "primaryPosition": {
           "abbreviation": "LW",
           "code": "L",
           "name": "Left Wing",
           "type": "Forward"
          },
          "rookie": false,
          "rosterStatus": "N",
          "shootsCatches": "L",
          "weight": 223
         },
         "ID8479975": {
          "active": true,
          "alternateCaptain": false,
          "birthCity": "Wilbraham",
          "birthCountry": "USA",
          "birthDate": "1999-02-09",
          "birthStateProvince": "MA",
          "captain": false,
          "currentAge": 24,
          "currentTeam": {
           "id": 10,
           "link": "/api/v1/teams/10",
           "name": "Toronto Maple Leafs",
           "triCode": "TOR"
          },
          "firstName": "Keith",
          "fullName": "Keith Petruzzelli",
          "height": "6' 5\"",
          "id": 8479975,
          "lastName": "Petruzzelli",
          "link": "/api/v1/people/8479975",
          "nationality": "USA",
          "primaryNumber": "80",
          "primaryPosition": {
           "abbreviation": "G",
           "code": "G",
           "name": "Goalie",
           "type": "Goalie"
          },
          "rookie": true,
          "rosterStatus": "Y",
          "shootsCatches": "L",
          "weight": 185
         },
         "ID8479982": {
          "active": true,
          "alternateCaptain": false,
          "birthCity": "St. Catharines",
          "birthCountry": "CAN",
          "birthDate": "1998-09-18",
          "birthStateProvince": "ON",
          "captain": false,
          "currentAge": 25,
          "currentTeam": {
           "id": 10,
           "link": "/api/v1/teams/10",
           "name": "Toronto Maple Leafs",
           "triCode": "TOR"
          },
          "firstName": "Conor",
          "fullName": "Conor Timmins",
          "height": "6' 2\"",
          "id": 8479982,
          "lastName": "Timmins",
          "link": "/api/v1/people/8479982",
          "nationality": "CAN",
          "primaryNumber": "25",
          "primaryPosition": {
           "abbreviation": "D",
           "code": "D",
           "name": "Defenseman",
           "type": "Defenseman"
          },
          "rookie": false,
          "rosterStatus": "Y",
          "shootsCatches": "R",
          "weight": 206
         },
         "ID8480018": {
          "active": true,
          "alternateCaptain": false,
          "birthCity": "London",
          "birthCountry": "CAN",
          "birthDate": "1999-08-10",
          "birthStateProvince": "ON",
          "captain": true,
          "currentAge": 24,
          "currentTeam": {
           "id": 8,
           "link": "/api/v1/teams/8",
           "name": "Montréal Canadiens",
           "triCode": "MTL"
          },
          "firstName": "Nick",
          "fullName": "Nick Suzuki",
          "height": "5' 11\"",
          "id": 8480018,
          "lastName": "Suzuki",
          "link": "/api/v1/people/8480018",
          "nationality": "CAN",
          "primaryNumber": "14",
          "primaryPosition": {
           "abbreviation": "C",
           "code": "C",
           "name": "Center",
           "type": "Forward"
          },
          "rookie": false,
          "rosterStatus": "Y",
          "shootsCatches": "R",
          "weight": 212
         },
         "ID8480043": {
          "active": true,
          "alternateCaptain": false,
          "birthCity": "Kristianstad",
          "birthCountry": "SWE",
          "birthDate": "1999-04-30",
          "captain": false,
          "currentAge": 24,
          "currentTeam": {
           "id": 10,
           "link": "/api/v1/teams/10",
           "name": "Toronto Maple Leafs",
           "triCode": "TOR"
          },
          "firstName": "Timothy",
          "fullName": "Timothy Liljegren",
          "height": "6' 1\"",
          "id": 8480043,
          "lastName": "Liljegren",
          "link": "/api/v1/people/8480043",
          "nationality": "SWE",
          "primaryNumber": "37",
          "primaryPosition": {
           "abbreviation": "D",
           "code": "D",
           "name": "Defenseman",
           "type": "Defenseman"
          },
          "rookie": false,
          "rosterStatus": "Y",
          "shootsCatches": "R",
          "weight": 190
         },
         "ID8480051": {
          "active": true,
          "alternateCaptain": false,
          "birthCity": "Farmington Hills",
          "birthCountry": "USA",
          "birthDate": "1999-08-11",
          "birthStateProvince": "MI",
          "captain": false,
          "currentAge": 24,
          "currentTeam": {
           "id": 8,
           "link": "/api/v1/teams/8",
           "name": "Montréal Canadiens",
           "triCode": "MTL"
          },
          "firstName": "Cayden",
          "fullName": "Cayden Primeau",
          "height": "6' 3\"",
          "id": 8480051,
          "lastName": "Primeau",
          "link": "/api/v1/people/8480051",
          "nationality": "USA",
          "primaryNumber": "30",
          "primaryPosition": {
           "abbreviation": "G",
           "code": "G",
           "name": "Goalie",
           "type": "Goalie"
          },
          "rookie": true,
          "rosterStatus": "Y",
          "shootsCatches": "L",
          "weight": 207
         },
         "ID8480072": {
          "active": true,
          "alternateCaptain": false,
          "birthCity": "Smogen",
          "birthCountry": "SWE",
          "birthDate": "1998-10-13",
          "captain": false,
          "currentAge": 24,
          "currentTeam": {
           "id": 8,
           "link": "/api/v1/teams/8",
           "name": "Montréal Canadiens",
           "triCode": "MTL"
          },
          "firstName": "Lias",
          "fullName": "Lias Andersson",
          "height": "6' 0\"",
          "id": 8480072,
          "lastName": "Andersson",
          "link": "/api/v1/people/8480072",
          "nationality": "SWE",
          "primaryNumber": "24",
          "primaryPosition": {
           "abbreviation": "C",
           "code": "C",
           "name": "Center",
           "type": "Forward"
          },
          "rookie": false,
          "rosterStatus": "N",
          "shootsCatches": "L",
          "weight": 185
         },
         "ID8480144": {
          "active": true,
          "alternateCaptain": false,
          "birthCity": "Chomutov",
          "birthCountry": "CZE",
          "birthDate": "1995-01-12",
          "captain": false,
          "currentAge": 28,
          "currentTeam": {
           "id": 10,
           "link": "/api/v1/teams/10",
           "name": "Toronto Maple Leafs",
           "triCode": "TOR"
          },
          "firstName": "David",
          "fullName": "David Kampf",
          "height": "6' 2\"",
          "id": 8480144,
          "lastName": "Kampf",
          "link": "/api/v1/people/8480144",
          "nationality": "CZE",
          "primaryNumber": "64",
          "primaryPosition": {
           "abbreviation": "C",
           "code": "C",
           "name": "Center",
           "type": "Forward"
          },
          "rookie": false,
          "rosterStatus": "Y",
          "shootsCatches": "L",
          "weight": 190
         },
         "ID8480184": {
          "active": true,
          "alternateCaptain": false,
          "birthCity": "Ostervala",
          "birthCountry": "SWE",
          "birthDate": "1998-10-20",
          "captain": false,
          "currentAge": 24,
          "currentTeam": {
           "id": 8,
           "link": "/api/v1/teams/8",
           "name": "Montréal Canadiens",
           "triCode": "MTL"
          },
          "firstName": "Gustav",
          "fullName": "Gustav Lindström",
          "height": "6' 2\"",
          "id": 8480184,
          "lastName": "Lindström",
          "link": "/api/v1/people/8480184",
          "nationality": "SWE",
          "primaryNumber": "27",
          "primaryPosition": {
           "abbreviation": "D",
           "code": "D",
           "name": "Defenseman",
           "type": "Defenseman"
          },
          "rookie": false,
          "rosterStatus": "Y",
          "shootsCatches": "R",
          "weight": 194
         },
         "ID8480192": {
          "active": true,
          "alternateCaptain": false,
          "birthCity": "Hamilton",
          "birthCountry": "CAN",
          "birthDate": "1997-07-12",
          "birthStateProvince": "ON",
          "captain": false,
          "currentAge": 26,
          "currentTeam": {
           "id": 8,
           "link": "/api/v1/teams/8",
           "name": "Montréal Canadiens",
           "triCode": "MTL"
          },
          "firstName": "Johnathan",
          "fullName": "Johnathan Kovacevic",
          "height": "6' 5\"",
          "id": 8480192,
          "lastName": "Kovacevic",
          "link": "/api/v1/people/8480192",
          "nationality": "CAN",
          "primaryNumber": "26",
          "primaryPosition": {
           "abbreviation": "D",
           "code": "D",
           "name": "Defenseman",
           "type": "Defenseman"
          },
          "rookie": false,
          "rosterStatus": "Y",
          "shootsCatches": "R",
          "weight": 223
         },
         "ID8480284": {
          "active": true,
          "alternateCaptain": false,
          "birthCity": "Salekhard",
          "birthCountry": "RUS",
          "birthDate": "1998-04-20",
          "captain": false,
          "currentAge": 25,
          "currentTeam": {
           "id": 10,
           "link": "/api/v1/teams/10",
           "name": "Toronto Maple Leafs",
           "triCode": "TOR"
          },
          "firstName": "Vladislav",
          "fullName": "Vladislav Kara",
          "height": "6' 1\"",
          "id": 8480284,
          "lastName": "Kara",
          "link": "/api/v1/people/8480284",
          "nationality": "RUS",
          "primaryPosition": {
           "abbreviation": "LW",
           "code": "L",
           "name": "Left Wing",
           "type": "Forward"
          },
          "rookie": true,
          "rosterStatus": "N",
          "shootsCatches": "L",
          "weight": 187
         },
         "ID8480814": {
          "active": true,
          "alternateCaptain": false,
          "birthCity": "Chateauguay",
          "birthCountry": "CAN",
          "birthDate": "1999-10-07",
          "birthStateProvince": "QC",
          "captain": false,
          "currentAge": 24,
          "currentTeam": {
           "id": 8,
           "link": "/api/v1/teams/8",
           "name": "Montréal Canadiens",
           "triCode": "MTL"
          },
          "firstName": "Nicolas",
          "fullName": "Nicolas Beaudin",
          "height": "5' 11\"",
          "id": 8480814,
          "lastName": "Beaudin",
          "link": "/api/v1/people/8480814",
          "nationality": "CAN",
          "primaryNumber": "92",
          "primaryPosition": {
           "abbreviation": "D",
           "code": "D",
           "name": "Defenseman",
           "type": "Defenseman"
          },
          "rookie": true,
          "rosterStatus": "N",
          "shootsCatches": "L",
          "weight": 185
         },
         "ID8480887": {
          "active": true,
          "alternateCaptain": false,
          "birthCity": "Haverhill",
          "birthCountry": "USA",
          "birthDate": "2000-07-07",
          "birthStateProvince": "MA",
          "captain": false,
          "currentAge": 23,
          "currentTeam": {
           "id": 8,
           "link": "/api/v1/teams/8",
           "name": "Montréal Canadiens",
           "triCode": "MTL"
          },
          "firstName": "Jordan",
          "fullName": "Jordan Harris",
          "height": "5' 11\"",
          "id": 8480887,
          "lastName": "Harris",
          "link": "/api/v1/people/8480887",
          "nationality": "USA",
          "primaryNumber": "54",
          "primaryPosition": {
           "abbreviation": "D",
           "code": "D",
           "name": "Defenseman",
           "type": "Defenseman"
          },
          "rookie": false,
          "rosterStatus": "Y",
          "shootsCatches": "L",
          "weight": 189
         },
         "ID8480995": {
          "active": true,
          "alternateCaptain": false,
          "birthCity": "Vasteras",
          "birthCountry": "SWE",
          "birthDate": "1999-03-09",
          "captain": false,
          "currentAge": 24,
          "currentTeam": {
           "id": 10,
           "link": "/api/v1/teams/10",
           "name": "Toronto Maple Leafs",
           "triCode": "TOR"
          },
          "firstName": "Pontus",
          "fullName": "Pontus Holmberg",
          "height": "6' 0\"",
          "id": 8480995,
          "lastName": "Holmberg",
          "link": "/api/v1/people/8480995",
          "nationality": "SWE",
          "primaryNumber": "29",
          "primaryPosition": {
           "abbreviation": "RW",
           "code": "R",
           "name": "Right Wing",
           "type": "Forward"
          },
          "rookie": false,
          "rosterStatus": "Y",
          "shootsCatches": "L",
          "weight": 188
         },
         "ID8481054": {
          "active": true,
          "alternateCaptain": false,
          "birthCity": "Togliatti",
          "birthCountry": "RUS",
          "birthDate": "2000-01-19",
          "captain": false,
          "currentAge": 23,
          "currentTeam": {
           "id": 10,
           "link": "/api/v1/teams/10",
           "name": "Toronto Maple Leafs",
           "triCode": "TOR"
          },
          "firstName": "Semyon",
          "fullName": "Semyon Kizimov",
          "height": "6' 0\"",
          "id": 8481054,
          "lastName": "Kizimov",
          "link": "/api/v1/people/8481054",
          "nationality": "RUS",
          "primaryPosition": {
           "abbreviation": "RW",
           "code": "R",
           "name": "Right Wing",
           "type": "Forward"
          },
          "rookie": true,
          "rosterStatus": "N",
          "shootsCatches": "L",
          "weight": 176
         },
         "ID8481058": {
          "active": true,
          "alternateCaptain": false,
          "birthCity": "Scottsdale",
          "birthCountry": "USA",
          "birthDate": "1999-10-03",
          "birthStateProvince": "AZ",
          "captain": false,
          "currentAge": 24,
          "currentTeam": {
           "id": 8,
           "link": "/api/v1/teams/8",
           "name": "Montréal Canadiens",
           "triCode": "MTL"
          },
          "firstName": "Jesse",
          "fullName": "Jesse Ylönen",
          "height": "6' 1\"",
          "id": 8481058,
          "lastName": "Ylönen",
          "link": "/api/v1/people/8481058",
          "nationality": "FIN",
          "primaryNumber": "56",
          "primaryPosition": {
           "abbreviation": "RW",
           "code": "R",
           "name": "Right Wing",
           "type": "Forward"
          },
          "rookie": false,
          "rosterStatus": "Y",
          "shootsCatches": "R",
          "weight": 200
         },
         "ID8481078": {
          "active": true,
          "alternateCaptain": false,
          "birthCity": "Windsor",
          "birthCountry": "CAN",
          "birthDate": "1998-10-22",
          "birthStateProvince": "ON",
          "captain": false,
          "currentAge": 24,
          "currentTeam": {
           "id": 8,
           "link": "/api/v1/teams/8",
           "name": "Montréal Canadiens",
           "triCode": "MTL"
          },
          "firstName": "Jakov",
          "fullName": "Jakov Novak",
          "height": "6' 3\"",
          "id": 8481078,
          "lastName": "Novak",
          "link": "/api/v1/people/8481078",
          "nationality": "CAN",
          "primaryPosition": {
           "abbreviation": "LW",
           "code": "L",
           "name": "Left Wing",
           "type": "Forward"
          },
          "rookie": true,
          "rosterStatus": "N",
          "shootsCatches": "L",
          "weight": 202
         },
         "ID8481093": {
          "active": true,
          "alternateCaptain": false,
          "birthCity": "Saguenay",
          "birthCountry": "CAN",
          "birthDate": "1999-01-06",
          "birthStateProvince": "QC",
          "captain": false,
          "currentAge": 24,
          "currentTeam": {
           "id": 8,
           "link": "/api/v1/teams/8",
           "name": "Montréal Canadiens",
           "triCode": "MTL"
          },
          "firstName": "Rafael",
          "fullName": "Rafael Harvey-Pinard",
          "height": "5' 9\"",
          "id": 8481093,
          "lastName": "Harvey-Pinard",
          "link": "/api/v1/people/8481093",
          "nationality": "CAN",
          "primaryNumber": "49",
          "primaryPosition": {
           "abbreviation": "LW",
           "code": "L",
           "name": "Left Wing",
           "type": "Forward"
          },
          "rookie": false,
          "rosterStatus": "Y",
          "shootsCatches": "L",
          "weight": 184
         },
         "ID8481122": {
          "active": true,
          "alternateCaptain": false,
          "birthCity": "Laval",
          "birthCountry": "CAN",
          "birthDate": "1998-09-19",
          "birthStateProvince": "QC",
          "captain": false,
          "currentAge": 25,
          "currentTeam": {
           "id": 10,
           "link": "/api/v1/teams/10",
           "name": "Toronto Maple Leafs",
           "triCode": "TOR"
          },
          "firstName": "Simon",
          "fullName": "Simon Benoit",
          "height": "6' 4\"",
          "id": 8481122,
          "lastName": "Benoit",
          "link": "/api/v1/people/8481122",
          "nationality": "CAN",
          "primaryNumber": "2",
          "primaryPosition": {
           "abbreviation": "D",
           "code": "D",
           "name": "Defenseman",
           "type": "Defenseman"
          },
          "rookie": false,
          "rosterStatus": "Y",
          "shootsCatches": "L",
          "weight": 205
         },
         "ID8481442": {
          "active": true,
          "alternateCaptain": false,
          "birthCity": "Cross Lake",
          "birthCountry": "CAN",
          "birthDate": "1996-06-05",
          "birthStateProvince": "MB",
          "captain": false,
          "currentAge": 27,
          "currentTeam": {
           "id": 8,
           "link": "/api/v1/teams/8",
           "name": "Montréal Canadiens",
           "triCode": "MTL"
          },
          "firstName": "Brady",
          "fullName": "Brady Keeper",
          "height": "6' 0\"",
          "id": 8481442,
          "lastName": "Keeper",
          "link": "/api/v1/people/8481442",
          "nationality": "CAN",
          "primaryNumber": "36",
          "primaryPosition": {
           "abbreviation": "D",
           "code": "D",
           "name": "Defenseman",
           "type": "Defenseman"
          },
          "rookie": false,
          "rosterStatus": "N",
          "shootsCatches": "R",
          "weight": 203
         },
         "ID8481523": {
          "active": true,
          "alternateCaptain": false,
          "birthCity": "Fort Saskatchewan",
          "birthCountry": "CAN",
          "birthDate": "2001-01-21",
          "birthStateProvince": "AB",
          "captain": false,
          "currentAge": 22,
          "currentTeam": {
           "id": 8,
           "link": "/api/v1/teams/8",
           "name": "Montréal Canadiens",
           "triCode": "MTL"
          },
          "firstName": "Kirby",
          "fullName": "Kirby Dach",
          "height": "6' 4\"",
          "id": 8481523,
          "lastName": "Dach",
          "link": "/api/v1/people/8481523",
          "nationality": "CAN",
          "primaryNumber": "77",
          "primaryPosition": {
           "abbreviation": "C",
           "code": "C",
           "name": "Center",
           "type": "Forward"
          },
          "rookie": false,
          "rosterStatus": "Y",
          "shootsCatches": "R",
          "weight": 217
         },
         "ID8481540": {
          "active": true,
          "alternateCaptain": false,
          "birthCity": "Mosinee",
          "birthCountry": "USA",
          "birthDate": "2001-01-02",
          "birthStateProvince": "WI",
          "captain": false,
          "currentAge": 22,
          "currentTeam": {
           "id": 8,
           "link": "/api/v1/teams/8",
           "name": "Montréal Canadiens",
           "triCode": "MTL"
          },
          "firstName": "Cole",
          "fullName": "Cole Caufield",
          "height": "5' 8\"",
          "id": 8481540,
          "lastName": "Caufield",
          "link": "/api/v1/people/8481540",
          "nationality": "USA",
          "primaryNumber": "22",
          "primaryPosition": {
           "abbreviation": "RW",
           "code": "R",
           "name": "Right Wing",
           "type": "Forward"
          },
          "rookie": false,
          "rosterStatus": "Y",
          "shootsCatches": "R",
          "weight": 175
         },
         "ID8481555": {
          "active": true,
          "alternateCaptain": false,
          "birthCity": "Kramfors",
          "birthCountry": "SWE",
          "birthDate": "2000-04-12",
          "captain": false,
          "currentAge": 23,
          "currentTeam": {
           "id": 8,
           "link": "/api/v1/teams/8",
           "name": "Montréal Canadiens",
           "triCode": "MTL"
          },
          "firstName": "Mattias",
          "fullName": "Mattias Norlinder",
          "height": "6' 0\"",
          "id": 8481555,
          "lastName": "Norlinder",
          "link": "/api/v1/people/8481555",
          "nationality": "SWE",
          "primaryNumber": "59",
          "primaryPosition": {
           "abbreviation": "D",
           "code": "D",
           "name": "Defenseman",
           "type": "Defenseman"
          },
          "rookie": true,
          "rosterStatus": "Y",
          "shootsCatches": "L",
          "weight": 191
         },
         "ID8481565": {
          "active": true,
          "alternateCaptain": false,
          "birthCity": "Marshall",
          "birthCountry": "USA",
          "birthDate": "2001-04-13",
          "birthStateProvince": "MN",
          "captain": false,
          "currentAge": 22,
          "currentTeam": {
           "id": 10,
           "link": "/api/v1/teams/10",
           "name": "Toronto Maple Leafs",
           "triCode": "TOR"
          },
          "firstName": "Michael",
          "fullName": "Michael Koster",
          "height": "5' 9\"",
          "id": 8481565,
          "lastName": "Koster",
          "link": "/api/v1/people/8481565",
          "nationality": "USA",
          "primaryPosition": {
           "abbreviation": "D",
           "code": "D",
           "name": "Defenseman",
           "type": "Defenseman"
          },
          "rookie": true,
          "rosterStatus": "N",
          "shootsCatches": "L",
          "weight": 171
         },
         "ID8481582": {
          "active": true,
          "alternateCaptain": false,
          "birthCity": "Pasadena",
          "birthCountry": "USA",
          "birthDate": "2001-09-11",
          "birthStateProvince": "CA",
          "captain": false,
          "currentAge": 22,
          "currentTeam": {
           "id": 10,
           "link": "/api/v1/teams/10",
           "name": "Toronto Maple Leafs",
           "triCode": "TOR"
          },
          "firstName": "Nicholas",
          "fullName": "Nicholas Robertson",
          "height": "5' 9\"",
          "id": 8481582,
          "lastName": "Robertson",
          "link": "/api/v1/people/8481582",
          "nationality": "USA",
          "primaryNumber": "89",
          "primaryPosition": {
           "abbreviation": "LW",
           "code": "L",
           "name": "Left Wing",
           "type": "Forward"
          },
          "rookie": false,
          "rosterStatus": "I",
          "shootsCatches": "L",
          "weight": 178
         },
         "ID8481593": {
          "active": true,
          "alternateCaptain": false,
          "birthCity": "Cumberland",
          "birthCountry": "USA",
          "birthDate": "2001-09-08",
          "birthStateProvince": "RI",
          "captain": false,
          "currentAge": 22,
          "currentTeam": {
           "id": 8,
           "link": "/api/v1/teams/8",
           "name": "Montréal Canadiens",
           "triCode": "MTL"
          },
          "firstName": "Jayden",
          "fullName": "Jayden Struble",
          "height": "6' 0\"",
          "id": 8481593,
          "lastName": "Struble",
          "link": "/api/v1/people/8481593",
          "nationality": "USA",
          "primaryNumber": "47",
          "primaryPosition": {
           "abbreviation": "D",
           "code": "D",
           "name": "Defenseman",
           "type": "Defenseman"
          },
          "rookie": true,
          "rosterStatus": "N",
          "shootsCatches": "L",
          "weight": 202
         },
         "ID8481594": {
          "active": true,
          "alternateCaptain": false,
          "birthCity": "Montréal",
          "birthCountry": "CAN",
          "birthDate": "2001-01-11",
          "birthStateProvince": "QC",
          "captain": false,
          "currentAge": 22,
          "currentTeam": {
           "id": 8,
           "link": "/api/v1/teams/8",
           "name": "Montréal Canadiens",
           "triCode": "MTL"
          },
          "firstName": "Nathan",
          "fullName": "Nathan Légaré",
          "height": "6' 0\"",
          "id": 8481594,
          "lastName": "Légaré",
          "link": "/api/v1/people/8481594",
          "nationality": "CAN",
          "primaryNumber": "32",
          "primaryPosition": {
           "abbreviation": "RW",
           "code": "R",
           "name": "Right Wing",
           "type": "Forward"
          },
          "rookie": true,
          "rosterStatus": "N",
          "shootsCatches": "R",
          "weight": 200
         },
         "ID8481614": {
          "active": true,
          "alternateCaptain": false,
          "birthCity": "Mikkeli",
          "birthCountry": "FIN",
          "birthDate": "2001-01-18",
          "captain": false,
          "currentAge": 22,
          "currentTeam": {
           "id": 10,
           "link": "/api/v1/teams/10",
           "name": "Toronto Maple Leafs",
           "triCode": "TOR"
          },
          "firstName": "Mikko",
          "fullName": "Mikko Kokkonen",
          "height": "6' 0\"",
          "id": 8481614,
          "lastName": "Kokkonen",
          "link": "/api/v1/people/8481614",
          "nationality": "FIN",
          "primaryNumber": "84",
          "primaryPosition": {
           "abbreviation": "D",
           "code": "D",
           "name": "Defenseman",
           "type": "Defenseman"
          },
          "rookie": true,
          "rosterStatus": "Y",
          "shootsCatches": "L",
          "weight": 200
         },
         "ID8481618": {
          "active": true,
          "alternateCaptain": false,
          "birthCity": "St. John's",
          "birthCountry": "CAN",
          "birthDate": "2001-01-28",
          "birthStateProvince": "NL",
          "captain": false,
          "currentAge": 22,
          "currentTeam": {
           "id": 8,
           "link": "/api/v1/teams/8",
           "name": "Montréal Canadiens",
           "triCode": "MTL"
          },
          "firstName": "Alex",
          "fullName": "Alex Newhook",
          "height": "5' 11\"",
          "id": 8481618,
          "lastName": "Newhook",
          "link": "/api/v1/people/8481618",
          "nationality": "CAN",
          "primaryNumber": "15",
          "primaryPosition": {
           "abbreviation": "C",
           "code": "C",
           "name": "Center",
           "type": "Forward"
          },
          "rookie": false,
          "rosterStatus": "Y",
          "shootsCatches": "L",
          "weight": 199
         },
         "ID8481720": {
          "active": true,
          "alternateCaptain": false,
          "birthCity": "Slate Hill",
          "birthCountry": "USA",
          "birthDate": "1999-06-04",
          "birthStateProvince": "NY",
          "captain": false,
          "currentAge": 24,
          "currentTeam": {
           "id": 10,
           "link": "/api/v1/teams/10",
           "name": "Toronto Maple Leafs",
           "triCode": "TOR"
          },
          "firstName": "Nick",
          "fullName": "Nick Abruzzese",
          "height": "5' 11\"",
          "id": 8481720,
          "lastName": "Abruzzese",
          "link": "/api/v1/people/8481720",
          "nationality": "USA",
          "primaryNumber": "26",
          "primaryPosition": {
           "abbreviation": "C",
           "code": "C",
           "name": "Center",
           "type": "Forward"
          },
          "rookie": true,
          "rosterStatus": "Y",
          "shootsCatches": "L",
          "weight": 180
         },
         "ID8481746": {
          "active": true,
          "alternateCaptain": false,
          "birthCity": "Coral Springs",
          "birthCountry": "USA",
          "birthDate": "2001-02-07",
          "birthStateProvince": "FL",
          "captain": false,
          "currentAge": 22,
          "currentTeam": {
           "id": 8,
           "link": "/api/v1/teams/8",
           "name": "Montréal Canadiens",
           "triCode": "MTL"
          },
          "firstName": "Rhett",
          "fullName": "Rhett Pitlick",
          "height": "5' 10\"",
          "id": 8481746,
          "lastName": "Pitlick",
          "link": "/api/v1/people/8481746",
          "nationality": "USA",
          "primaryPosition": {
           "abbreviation": "LW",
           "code": "L",
           "name": "Left Wing",
           "type": "Forward"
          },
          "rookie": true,
          "rosterStatus": "N",
          "shootsCatches": "L",
          "weight": 170
         },
         "ID8481794": {
          "active": true,
          "alternateCaptain": false,
          "birthCity": "Gatineau",
          "birthCountry": "CAN",
          "birthDate": "2001-05-19",
          "birthStateProvince": "QC",
          "captain": false,
          "currentAge": 22,
          "currentTeam": {
           "id": 8,
           "link": "/api/v1/teams/8",
           "name": "Montréal Canadiens",
           "triCode": "MTL"
          },
          "firstName": "Xavier",
          "fullName": "Xavier Simoneau",
          "height": "5' 7\"",
          "id": 8481794,
          "lastName": "Simoneau",
          "link": "/api/v1/people/8481794",
          "nationality": "CAN",
          "primaryNumber": "43",
          "primaryPosition": {
           "abbreviation": "C",
           "code": "C",
           "name": "Center",
           "type": "Forward"
          },
          "rookie": true,
          "rosterStatus": "N",
          "shootsCatches": "L",
          "weight": 178
         },
         "ID8482081": {
          "active": true,
          "alternateCaptain": false,
          "birthCity": "Milford",
          "birthCountry": "USA",
          "birthDate": "2001-11-02",
          "birthStateProvince": "MA",
          "captain": false,
          "currentAge": 21,
          "currentTeam": {
           "id": 8,
           "link": "/api/v1/teams/8",
           "name": "Montréal Canadiens",
           "triCode": "MTL"
          },
          "firstName": "Sean",
          "fullName": "Sean Farrell",
          "height": "5' 9\"",
          "id": 8482081,
          "lastName": "Farrell",
          "link": "/api/v1/people/8482081",
          "nationality": "USA",
          "primaryNumber": "57",
          "primaryPosition": {
           "abbreviation": "C",
           "code": "C",
           "name": "Center",
           "type": "Forward"
          },
          "rookie": true,
          "rosterStatus": "N",
          "shootsCatches": "L",
          "weight": 181
         },
         "ID8482087": {
          "active": true,
          "alternateCaptain": false,
          "birthCity": "Edmonton",
          "birthCountry": "CAN",
          "birthDate": "2002-01-18",
          "birthStateProvince": "AB",
          "captain": false,
          "currentAge": 21,
          "currentTeam": {
           "id": 8,
           "link": "/api/v1/teams/8",
           "name": "Montréal Canadiens",
           "triCode": "MTL"
          },
          "firstName": "Kaiden",
          "fullName": "Kaiden Guhle",
          "height": "6' 3\"",
          "id": 8482087,
          "lastName": "Guhle",
          "link": "/api/v1/people/8482087",
          "nationality": "CAN",
          "primaryNumber": "21",
          "primaryPosition": {
           "abbreviation": "D",
           "code": "D",
           "name": "Defenseman",
           "type": "Defenseman"
          },
          "rookie": false,
          "rosterStatus": "Y",
          "shootsCatches": "L",
          "weight": 201
         },
         "ID8482104": {
          "active": true,
          "alternateCaptain": false,
          "birthCity": "Elizabeth",
          "birthCountry": "USA",
          "birthDate": "2002-01-20",
          "birthStateProvince": "CO",
          "captain": false,
          "currentAge": 21,
          "currentTeam": {
           "id": 8,
           "link": "/api/v1/teams/8",
           "name": "Montréal Canadiens",
           "triCode": "MTL"
          },
          "firstName": "Ty",
          "fullName": "Ty Smilanic",
          "height": "6' 0\"",
          "id": 8482104,
          "lastName": "Smilanic",
          "link": "/api/v1/people/8482104",
          "nationality": "USA",
          "primaryNumber": "83",
          "primaryPosition": {
           "abbreviation": "C",
           "code": "C",
           "name": "Center",
           "type": "Forward"
          },
          "rookie": true,
          "rosterStatus": "N",
          "shootsCatches": "L",
          "weight": 171
         },
         "ID8482111": {
          "active": true,
          "alternateCaptain": false,
          "birthCity": "Halifax",
          "birthCountry": "CAN",
          "birthDate": "2001-11-15",
          "birthStateProvince": "NS",
          "captain": false,
          "currentAge": 21,
          "currentTeam": {
           "id": 8,
           "link": "/api/v1/teams/8",
           "name": "Montréal Canadiens",
           "triCode": "MTL"
          },
          "firstName": "Justin",
          "fullName": "Justin Barron",
          "height": "6' 2\"",
          "id": 8482111,
          "lastName": "Barron",
          "link": "/api/v1/people/8482111",
          "nationality": "CAN",
          "primaryNumber": "52",
          "primaryPosition": {
           "abbreviation": "D",
           "code": "D",
           "name": "Defenseman",
           "type": "Defenseman"
          },
          "rookie": false,
          "rosterStatus": "Y",
          "shootsCatches": "R",
          "weight": 202
         },
         "ID8482114": {
          "active": true,
          "alternateCaptain": false,
          "birthCity": "Duluth",
          "birthCountry": "USA",
          "birthDate": "2002-04-24",
          "birthStateProvince": "MN",
          "captain": false,
          "currentAge": 21,
          "currentTeam": {
           "id": 8,
           "link": "/api/v1/teams/8",
           "name": "Montréal Canadiens",
           "triCode": "MTL"
          },
          "firstName": "Blake",
          "fullName": "Blake Biondi",
          "height": "6' 0\"",
          "id": 8482114,
          "lastName": "Biondi",
          "link": "/api/v1/people/8482114",
          "nationality": "USA",
          "primaryPosition": {
           "abbreviation": "C",
           "code": "C",
           "name": "Center",
           "type": "Forward"
          },
          "rookie": true,
          "rosterStatus": "N",
          "shootsCatches": "R",
          "weight": 197
         },
         "ID8482130": {
          "active": true,
          "alternateCaptain": false,
          "birthCity": "Espoo",
          "birthCountry": "FIN",
          "birthDate": "2002-01-10",
          "captain": false,
          "currentAge": 21,
          "currentTeam": {
           "id": 10,
           "link": "/api/v1/teams/10",
           "name": "Toronto Maple Leafs",
           "triCode": "TOR"
          },
          "firstName": "Roni",
          "fullName": "Roni Hirvonen",
          "height": "5' 10\"",
          "id": 8482130,
          "lastName": "Hirvonen",
          "link": "/api/v1/people/8482130",
          "nationality": "FIN",
          "primaryNumber": "33",
          "primaryPosition": {
           "abbreviation": "C",
           "code": "C",
           "name": "Center",
           "type": "Forward"
          },
          "rookie": true,
          "rosterStatus": "Y",
          "shootsCatches": "L",
          "weight": 178
         },
         "ID8482134": {
          "active": true,
          "alternateCaptain": false,
          "birthCity": "Syracuse",
          "birthCountry": "USA",
          "birthDate": "2002-03-07",
          "birthStateProvince": "NY",
          "captain": false,
          "currentAge": 21,
          "currentTeam": {
           "id": 8,
           "link": "/api/v1/teams/8",
           "name": "Montréal Canadiens",
           "triCode": "MTL"
          },
          "firstName": "Luke",
          "fullName": "Luke Tuch",
          "height": "6' 3\"",
          "id": 8482134,
          "lastName": "Tuch",
          "link": "/api/v1/people/8482134",
          "nationality": "USA",
          "primaryPosition": {
           "abbreviation": "LW",
           "code": "L",
           "name": "Left Wing",
           "type": "Forward"
          },
          "rookie": true,
          "rosterStatus": "N",
          "shootsCatches": "L",
          "weight": 209
         },
         "ID8482136": {
          "active": true,
          "alternateCaptain": false,
          "birthCity": "Litvinov",
          "birthCountry": "CZE",
          "birthDate": "2002-06-24",
          "captain": false,
          "currentAge": 21,
          "currentTeam": {
           "id": 8,
           "link": "/api/v1/teams/8",
           "name": "Montréal Canadiens",
           "triCode": "MTL"
          },
          "firstName": "Jan",
          "fullName": "Jan Mysak",
          "height": "5' 11\"",
          "id": 8482136,
          "lastName": "Mysak",
          "link": "/api/v1/people/8482136",
          "nationality": "CZE",
          "primaryNumber": "53",
          "primaryPosition": {
           "abbreviation": "C",
           "code": "C",
           "name": "Center",
           "type": "Forward"
          },
          "rookie": true,
          "rosterStatus": "N",
          "shootsCatches": "L",
          "weight": 190
         },
         "ID8482158": {
          "active": true,
          "alternateCaptain": false,
          "birthCity": "Oulu",
          "birthCountry": "FIN",
          "birthDate": "2002-03-25",
          "captain": false,
          "currentAge": 21,
          "currentTeam": {
           "id": 10,
           "link": "/api/v1/teams/10",
           "name": "Toronto Maple Leafs",
           "triCode": "TOR"
          },
          "firstName": "Topi",
          "fullName": "Topi Niemela",
          "height": "6' 0\"",
          "id": 8482158,
          "lastName": "Niemela",
          "link": "/api/v1/people/8482158",
          "nationality": "FIN",
          "primaryNumber": "47",
          "primaryPosition": {
           "abbreviation": "D",
           "code": "D",
           "name": "Defenseman",
           "type": "Defenseman"
          },
          "rookie": true,
          "rosterStatus": "N",
          "shootsCatches": "R",
          "weight": 179
         },
         "ID8482174": {
          "active": true,
          "alternateCaptain": false,
          "birthCity": "Sherbrooke",
          "birthCountry": "CAN",
          "birthDate": "2002-03-20",
          "birthStateProvince": "QC",
          "captain": false,
          "currentAge": 21,
          "currentTeam": {
           "id": 10,
           "link": "/api/v1/teams/10",
           "name": "Toronto Maple Leafs",
           "triCode": "TOR"
          },
          "firstName": "William",
          "fullName": "William Villeneuve",
          "height": "6' 2\"",
          "id": 8482174,
          "lastName": "Villeneuve",
          "link": "/api/v1/people/8482174",
          "nationality": "CAN",
          "primaryNumber": "76",
          "primaryPosition": {
           "abbreviation": "D",
           "code": "D",
           "name": "Defenseman",
           "type": "Defenseman"
          },
          "rookie": true,
          "rosterStatus": "N",
          "shootsCatches": "R",
          "weight": 183
         },
         "ID8482200": {
          "active": true,
          "alternateCaptain": false,
          "birthCity": "Algonquin",
          "birthCountry": "USA",
          "birthDate": "2002-08-03",
          "birthStateProvince": "IL",
          "captain": false,
          "currentAge": 21,
          "currentTeam": {
           "id": 10,
           "link": "/api/v1/teams/10",
           "name": "Toronto Maple Leafs",
           "triCode": "TOR"
          },
          "firstName": "Wyatt",
          "fullName": "Wyatt Schingoethe",
          "height": "5' 10\"",
          "id": 8482200,
          "lastName": "Schingoethe",
          "link": "/api/v1/people/8482200",
          "nationality": "USA",
          "primaryPosition": {
           "abbreviation": "C",
           "code": "C",
           "name": "Center",
           "type": "Forward"
          },
          "rookie": true,
          "rosterStatus": "N",
          "shootsCatches": "L",
          "weight": 200
         },
         "ID8482259": {
          "active": true,
          "alternateCaptain": false,
          "birthCity": "Wainwright",
          "birthCountry": "CAN",
          "birthDate": "1996-06-15",
          "birthStateProvince": "AB",
          "captain": false,
          "currentAge": 27,
          "currentTeam": {
           "id": 10,
           "link": "/api/v1/teams/10",
           "name": "Toronto Maple Leafs",
           "triCode": "TOR"
          },
          "firstName": "Bobby",
          "fullName": "Bobby McMann",
          "height": "6' 2\"",
          "id": 8482259,
          "lastName": "McMann",
          "link": "/api/v1/people/8482259",
          "nationality": "CAN",
          "primaryNumber": "74",
          "primaryPosition": {
           "abbreviation": "C",
           "code": "C",
           "name": "Center",
           "type": "Forward"
          },
          "rookie": false,
          "rosterStatus": "Y",
          "shootsCatches": "L",
          "weight": 210
         },
         "ID8482476": {
          "active": true,
          "alternateCaptain": false,
          "birthCity": "Leksand",
          "birthCountry": "SWE",
          "birthDate": "2001-11-16",
          "captain": false,
          "currentAge": 21,
          "currentTeam": {
           "id": 8,
           "link": "/api/v1/teams/8",
           "name": "Montréal Canadiens",
           "triCode": "MTL"
          },
          "firstName": "Emil",
          "fullName": "Emil Heineman",
          "height": "6' 0\"",
          "id": 8482476,
          "lastName": "Heineman",
          "link": "/api/v1/people/8482476",
          "nationality": "SWE",
          "primaryNumber": "51",
          "primaryPosition": {
           "abbreviation": "LW",
           "code": "L",
           "name": "Left Wing",
           "type": "Forward"
          },
          "rookie": true,
          "rosterStatus": "Y",
          "shootsCatches": "L",
          "weight": 202
         },
         "ID8482487": {
          "active": true,
          "alternateCaptain": false,
          "birthCity": "Ostrava",
          "birthCountry": "CZE",
          "birthDate": "2001-05-27",
          "captain": false,
          "currentAge": 22,
          "currentTeam": {
           "id": 8,
           "link": "/api/v1/teams/8",
           "name": "Montréal Canadiens",
           "triCode": "MTL"
          },
          "firstName": "Jakub",
          "fullName": "Jakub Dobes",
          "height": "6' 4\"",
          "id": 8482487,
          "lastName": "Dobes",
          "link": "/api/v1/people/8482487",
          "nationality": "CZE",
          "primaryNumber": "75",
          "primaryPosition": {
           "abbreviation": "G",
           "code": "G",
           "name": "Goalie",
           "type": "Goalie"
          },
          "rookie": true,
          "rosterStatus": "N",
          "shootsCatches": "L",
          "weight": 205
         },
         "ID8482488": {
          "active": true,
          "alternateCaptain": false,
          "birthCity": "Chita",
          "birthCountry": "RUS",
          "birthDate": "2002-08-19",
          "captain": false,
          "currentAge": 21,
          "currentTeam": {
           "id": 10,
           "link": "/api/v1/teams/10",
           "name": "Toronto Maple Leafs",
           "triCode": "TOR"
          },
          "firstName": "Dmitry",
          "fullName": "Dmitry Ovchinnikov",
          "height": "5' 11\"",
          "id": 8482488,
          "lastName": "Ovchinnikov",
          "link": "/api/v1/people/8482488",
          "nationality": "RUS",
          "primaryNumber": "97",
          "primaryPosition": {
           "abbreviation": "C",
           "code": "C",
           "name": "Center",
           "type": "Forward"
          },
          "rookie": true,
          "rosterStatus": "N",
          "shootsCatches": "L",
          "weight": 166
         },
         "ID8482497": {
          "active": true,
          "alternateCaptain": false,
          "birthCity": "St. Petersburg",
          "birthCountry": "RUS",
          "birthDate": "2001-07-31",
          "captain": false,
          "currentAge": 22,
          "currentTeam": {
           "id": 8,
           "link": "/api/v1/teams/8",
           "name": "Montréal Canadiens",
           "triCode": "MTL"
          },
          "firstName": "Alexander",
          "fullName": "Alexander Gordin",
          "height": "6' 1\"",
          "id": 8482497,
          "lastName": "Gordin",
          "link": "/api/v1/people/8482497",
          "nationality": "RUS",
          "primaryPosition": {
           "abbreviation": "RW",
           "code": "R",
           "name": "Right Wing",
           "type": "Forward"
          },
          "rookie": true,
          "rosterStatus": "N",
          "shootsCatches": "L",
          "weight": 194
         },
         "ID8482514": {
          "active": true,
          "alternateCaptain": false,
          "birthCity": "St. Cloud",
          "birthCountry": "USA",
          "birthDate": "2002-07-06",
          "birthStateProvince": "MN",
          "captain": false,
          "currentAge": 21,
          "currentTeam": {
           "id": 8,
           "link": "/api/v1/teams/8",
           "name": "Montréal Canadiens",
           "triCode": "MTL"
          },
          "firstName": "Jack",
          "fullName": "Jack Smith",
          "height": "6' 0\"",
          "id": 8482514,
          "lastName": "Smith",
          "link": "/api/v1/people/8482514",
          "nationality": "USA",
          "primaryPosition": {
           "abbreviation": "C",
           "code": "C",
           "name": "Center",
           "type": "Forward"
          },
          "rookie": true,
          "rosterStatus": "N",
          "shootsCatches": "L",
          "weight": 185
         },
         "ID8482515": {
          "active": true,
          "alternateCaptain": false,
          "birthCity": "Kazan",
          "birthCountry": "RUS",
          "birthDate": "2001-10-31",
          "captain": false,
          "currentAge": 21,
          "currentTeam": {
           "id": 10,
           "link": "/api/v1/teams/10",
           "name": "Toronto Maple Leafs",
           "triCode": "TOR"
          },
          "firstName": "Artur",
          "fullName": "Artur Akhtyamov",
          "height": "6' 1\"",
          "id": 8482515,
          "lastName": "Akhtyamov",
          "link": "/api/v1/people/8482515",
          "nationality": "RUS",
          "primaryPosition": {
           "abbreviation": "G",
           "code": "G",
           "name": "Goalie",
           "type": "Goalie"
          },
          "rookie": true,
          "rosterStatus": "N",
          "shootsCatches": "L",
          "weight": 167
         },
         "ID8482519": {
          "active": true,
          "alternateCaptain": false,
          "birthCity": "Espoo",
          "birthCountry": "FIN",
          "birthDate": "2001-09-20",
          "captain": false,
          "currentAge": 22,
          "currentTeam": {
           "id": 10,
           "link": "/api/v1/teams/10",
           "name": "Toronto Maple Leafs",
           "triCode": "TOR"
          },
          "firstName": "Veeti",
          "fullName": "Veeti Miettinen",
          "height": "5' 9\"",
          "id": 8482519,
          "lastName": "Miettinen",
          "link": "/api/v1/people/8482519",
          "nationality": "FIN",
          "primaryPosition": {
           "abbreviation": "RW",
           "code": "R",
           "name": "Right Wing",
           "type": "Forward"
          },
          "rookie": true,
          "rosterStatus": "N",
          "shootsCatches": "L",
          "weight": 161
         },
         "ID8482520": {
          "active": true,
          "alternateCaptain": false,
          "birthCity": "Minneapolis",
          "birthCountry": "USA",
          "birthDate": "2002-09-15",
          "birthStateProvince": "MN",
          "captain": false,
          "currentAge": 21,
          "currentTeam": {
           "id": 10,
           "link": "/api/v1/teams/10",
           "name": "Toronto Maple Leafs",
           "triCode": "TOR"
          },
          "firstName": "Joe",
          "fullName": "Joe Miller",
          "height": "5' 8\"",
          "id": 8482520,
          "lastName": "Miller",
          "link": "/api/v1/people/8482520",
          "nationality": "USA",
          "primaryPosition": {
           "abbreviation": "C",
           "code": "C",
           "name": "Center",
           "type": "Forward"
          },
          "rookie": true,
          "rosterStatus": "N",
          "shootsCatches": "R",
          "weight": 147
         },
         "ID8482522": {
          "active": true,
          "alternateCaptain": false,
          "birthCity": "Boston",
          "birthCountry": "USA",
          "birthDate": "2001-06-13",
          "birthStateProvince": "MA",
          "captain": false,
          "currentAge": 22,
          "currentTeam": {
           "id": 10,
           "link": "/api/v1/teams/10",
           "name": "Toronto Maple Leafs",
           "triCode": "TOR"
          },
          "firstName": "John",
          "fullName": "John Fusco",
          "height": "5' 9\"",
          "id": 8482522,
          "lastName": "Fusco",
          "link": "/api/v1/people/8482522",
          "nationality": "USA",
          "primaryPosition": {
           "abbreviation": "D",
           "code": "D",
           "name": "Defenseman",
           "type": "Defenseman"
          },
          "rookie": true,
          "rosterStatus": "N",
          "shootsCatches": "R",
          "weight": 174
         },
         "ID8482525": {
          "active": true,
          "alternateCaptain": false,
          "birthCity": "Richmond Hill",
          "birthCountry": "CAN",
          "birthDate": "2002-01-30",
          "birthStateProvince": "ON",
          "captain": false,
          "currentAge": 21,
          "currentTeam": {
           "id": 10,
           "link": "/api/v1/teams/10",
           "name": "Toronto Maple Leafs",
           "triCode": "TOR"
          },
          "firstName": "Ryan",
          "fullName": "Ryan Tverberg",
          "height": "5' 11\"",
          "id": 8482525,
          "lastName": "Tverberg",
          "link": "/api/v1/people/8482525",
          "nationality": "CAN",
          "primaryNumber": "77",
          "primaryPosition": {
           "abbreviation": "C",
           "code": "C",
           "name": "Center",
           "type": "Forward"
          },
          "rookie": true,
          "rosterStatus": "Y",
          "shootsCatches": "R",
          "weight": 187
         },
         "ID8482634": {
          "active": true,
          "alternateCaptain": false,
          "birthCity": "Saint Paul",
          "birthCountry": "USA",
          "birthDate": "1999-12-10",
          "birthStateProvince": "MN",
          "captain": false,
          "currentAge": 23,
          "currentTeam": {
           "id": 10,
           "link": "/api/v1/teams/10",
           "name": "Toronto Maple Leafs",
           "triCode": "TOR"
          },
          "firstName": "Alex",
          "fullName": "Alex Steeves",
          "height": "6' 0\"",
          "id": 8482634,
          "lastName": "Steeves",
          "link": "/api/v1/people/8482634",
          "nationality": "USA",
          "primaryNumber": "46",
          "primaryPosition": {
           "abbreviation": "C",
           "code": "C",
           "name": "Center",
           "type": "Forward"
          },
          "rookie": true,
          "rosterStatus": "Y",
          "shootsCatches": "L",
          "weight": 196
         },
         "ID8482669": {
          "active": true,
          "alternateCaptain": false,
          "birthCity": "Hamilton",
          "birthCountry": "CAN",
          "birthDate": "2002-10-24",
          "birthStateProvince": "ON",
          "captain": false,
          "currentAge": 20,
          "currentTeam": {
           "id": 8,
           "link": "/api/v1/teams/8",
           "name": "Montréal Canadiens",
           "triCode": "MTL"
          },
          "firstName": "Joe",
          "fullName": "Joe Vrbetic",
          "height": "6' 6\"",
          "id": 8482669,
          "lastName": "Vrbetic",
          "link": "/api/v1/people/8482669",
          "nationality": "CAN",
          "primaryNumber": "39",
          "primaryPosition": {
           "abbreviation": "G",
           "code": "G",
           "name": "Goalie",
           "type": "Goalie"
          },
          "rookie": true,
          "rosterStatus": "N",
          "shootsCatches": "L",
          "weight": 198
         },
         "ID8482687": {
          "active": true,
          "alternateCaptain": false,
          "birthCity": "Eden Prairie",
          "birthCountry": "USA",
          "birthDate": "2003-01-22",
          "birthStateProvince": "MN",
          "captain": false,
          "currentAge": 20,
          "currentTeam": {
           "id": 8,
           "link": "/api/v1/teams/8",
           "name": "Montréal Canadiens",
           "triCode": "MTL"
          },
          "firstName": "Luke",
          "fullName": "Luke Mittelstadt",
          "height": "5' 11\"",
          "id": 8482687,
          "lastName": "Mittelstadt",
          "link": "/api/v1/people/8482687",
          "nationality": "USA",
          "primaryPosition": {
           "abbreviation": "D",
           "code": "D",
           "name": "Defenseman",
           "type": "Defenseman"
          },
          "rookie": true,
          "rosterStatus": "N",
          "shootsCatches": "L",
          "weight": 178
         },
         "ID8482710": {
          "active": true,
          "alternateCaptain": false,
          "birthCity": "Togliatti",
          "birthCountry": "RUS",
          "birthDate": "2002-09-25",
          "captain": false,
          "currentAge": 21,
          "currentTeam": {
           "id": 8,
           "link": "/api/v1/teams/8",
           "name": "Montréal Canadiens",
           "triCode": "MTL"
          },
          "firstName": "Dmitri",
          "fullName": "Dmitri Kostenko",
          "height": "6' 1\"",
          "id": 8482710,
          "lastName": "Kostenko",
          "link": "/api/v1/people/8482710",
          "nationality": "RUS",
          "primaryPosition": {
           "abbreviation": "D",
           "code": "D",
           "name": "Defenseman",
           "type": "Defenseman"
          },
          "rookie": true,
          "rosterStatus": "N",
          "shootsCatches": "R",
          "weight": 187
         },
         "ID8482717": {
          "active": true,
          "alternateCaptain": false,
          "birthCity": "St. Petersburg",
          "birthCountry": "RUS",
          "birthDate": "2003-03-03",
          "captain": false,
          "currentAge": 20,
          "currentTeam": {
           "id": 8,
           "link": "/api/v1/teams/8",
           "name": "Montréal Canadiens",
           "triCode": "MTL"
          },
          "firstName": "Daniil",
          "fullName": "Daniil Sobolev",
          "height": "6' 0\"",
          "id": 8482717,
          "lastName": "Sobolev",
          "link": "/api/v1/people/8482717",
          "nationality": "RUS",
          "primaryNumber": "51",
          "primaryPosition": {
           "abbreviation": "D",
           "code": "D",
           "name": "Defenseman",
           "type": "Defenseman"
          },
          "rookie": true,
          "rosterStatus": "N",
          "shootsCatches": "R",
          "weight": 208
         },
         "ID8482720": {
          "active": true,
          "alternateCaptain": false,
          "birthCity": "Phoenix",
          "birthCountry": "USA",
          "birthDate": "2002-10-17",
          "birthStateProvince": "AZ",
          "captain": false,
          "currentAge": 20,
          "currentTeam": {
           "id": 10,
           "link": "/api/v1/teams/10",
           "name": "Toronto Maple Leafs",
           "triCode": "TOR"
          },
          "firstName": "Matthew",
          "fullName": "Matthew Knies",
          "height": "6' 3\"",
          "id": 8482720,
          "lastName": "Knies",
          "link": "/api/v1/people/8482720",
          "nationality": "USA",
          "primaryNumber": "23",
          "primaryPosition": {
           "abbreviation": "LW",
           "code": "L",
           "name": "Left Wing",
           "type": "Forward"
          },
          "rookie": true,
          "rosterStatus": "Y",
          "shootsCatches": "L",
          "weight": 217
         },
         "ID8482733": {
          "active": true,
          "alternateCaptain": false,
          "birthCity": "Belle River",
          "birthCountry": "CAN",
          "birthDate": "2003-04-15",
          "birthStateProvince": "ON",
          "captain": false,
          "currentAge": 20,
          "currentTeam": {
           "id": 8,
           "link": "/api/v1/teams/8",
           "name": "Montréal Canadiens",
           "triCode": "MTL"
          },
          "firstName": "Logan",
          "fullName": "Logan Mailloux",
          "height": "6' 3\"",
          "id": 8482733,
          "lastName": "Mailloux",
          "link": "/api/v1/people/8482733",
          "nationality": "CAN",
          "primaryNumber": "94",
          "primaryPosition": {
           "abbreviation": "D",
           "code": "D",
           "name": "Defenseman",
           "type": "Defenseman"
          },
          "rookie": true,
          "rosterStatus": "N",
          "shootsCatches": "R",
          "weight": 220
         },
         "ID8482741": {
          "active": true,
          "alternateCaptain": false,
          "birthCity": "Kitchener",
          "birthCountry": "CAN",
          "birthDate": "2003-01-05",
          "birthStateProvince": "ON",
          "captain": false,
          "currentAge": 20,
          "currentTeam": {
           "id": 10,
           "link": "/api/v1/teams/10",
           "name": "Toronto Maple Leafs",
           "triCode": "TOR"
          },
          "firstName": "Braeden",
          "fullName": "Braeden Kressler",
          "height": "5' 9\"",
          "id": 8482741,
          "lastName": "Kressler",
          "link": "/api/v1/people/8482741",
          "nationality": "CAN",
          "primaryNumber": "63",
          "primaryPosition": {
           "abbreviation": "C",
           "code": "C",
           "name": "Center",
           "type": "Forward"
          },
          "rookie": true,
          "rosterStatus": "N",
          "shootsCatches": "R",
          "weight": 169
         },
         "ID8482749": {
          "active": true,
          "alternateCaptain": false,
          "birthCity": "Saint-Georges-De-Beauce",
          "birthCountry": "CAN",
          "birthDate": "2003-08-06",
          "birthStateProvince": "QC",
          "captain": false,
          "currentAge": 20,
          "currentTeam": {
           "id": 8,
           "link": "/api/v1/teams/8",
           "name": "Montréal Canadiens",
           "triCode": "MTL"
          },
          "firstName": "Joshua",
          "fullName": "Joshua Roy",
          "height": "6' 0\"",
          "id": 8482749,
          "lastName": "Roy",
          "link": "/api/v1/people/8482749",
          "nationality": "CAN",
          "primaryNumber": "97",
          "primaryPosition": {
           "abbreviation": "RW",
           "code": "R",
           "name": "Right Wing",
           "type": "Forward"
          },
          "rookie": true,
          "rosterStatus": "N",
          "shootsCatches": "L",
          "weight": 192
         },
         "ID8482775": {
          "active": true,
          "alternateCaptain": false,
          "birthCity": "Timra",
          "birthCountry": "SWE",
          "birthDate": "2003-07-29",
          "captain": false,
          "currentAge": 20,
          "currentTeam": {
           "id": 8,
           "link": "/api/v1/teams/8",
           "name": "Montréal Canadiens",
           "triCode": "MTL"
          },
          "firstName": "Oliver",
          "fullName": "Oliver Kapanen",
          "height": "6' 0\"",
          "id": 8482775,
          "lastName": "Kapanen",
          "link": "/api/v1/people/8482775",
          "nationality": "SWE",
          "primaryPosition": {
           "abbreviation": "C",
           "code": "C",
           "name": "Center",
           "type": "Forward"
          },
          "rookie": true,
          "rosterStatus": "N",
          "shootsCatches": "R",
          "weight": 166
         },
         "ID8482806": {
          "active": true,
          "alternateCaptain": false,
          "birthCity": "Varennes",
          "birthCountry": "CAN",
          "birthDate": "2002-10-11",
          "birthStateProvince": "QC",
          "captain": false,
          "currentAge": 20,
          "currentTeam": {
           "id": 8,
           "link": "/api/v1/teams/8",
           "name": "Montréal Canadiens",
           "triCode": "MTL"
          },
          "firstName": "William",
          "fullName": "William Trudeau",
          "height": "6' 0\"",
          "id": 8482806,
          "lastName": "Trudeau",
          "link": "/api/v1/people/8482806",
          "nationality": "CAN",
          "primaryNumber": "84",
          "primaryPosition": {
           "abbreviation": "D",
           "code": "D",
           "name": "Defenseman",
           "type": "Defenseman"
          },
          "rookie": true,
          "rosterStatus": "N",
          "shootsCatches": "L",
          "weight": 196
         },
         "ID8482828": {
          "active": true,
          "alternateCaptain": false,
          "birthCity": "Halifax",
          "birthCountry": "CAN",
          "birthDate": "2003-03-25",
          "birthStateProvince": "NS",
          "captain": false,
          "currentAge": 20,
          "currentTeam": {
           "id": 8,
           "link": "/api/v1/teams/8",
           "name": "Montréal Canadiens",
           "triCode": "MTL"
          },
          "firstName": "Riley",
          "fullName": "Riley Kidney",
          "height": "5' 11\"",
          "id": 8482828,
          "lastName": "Kidney",
          "link": "/api/v1/people/8482828",
          "nationality": "CAN",
          "primaryNumber": "86",
          "primaryPosition": {
           "abbreviation": "C",
           "code": "C",
           "name": "Center",
           "type": "Forward"
          },
          "rookie": true,
          "rosterStatus": "N",
          "shootsCatches": "L",
          "weight": 181
         },
         "ID8482880": {
          "active": true,
          "alternateCaptain": false,
          "birthCity": "Pittsburgh",
          "birthCountry": "USA",
          "birthDate": "2003-06-10",
          "birthStateProvince": "PA",
          "captain": false,
          "currentAge": 20,
          "currentTeam": {
           "id": 10,
           "link": "/api/v1/teams/10",
           "name": "Toronto Maple Leafs",
           "triCode": "TOR"
          },
          "firstName": "Ty",
          "fullName": "Ty Voit",
          "height": "5' 10\"",
          "id": 8482880,
          "lastName": "Voit",
          "link": "/api/v1/people/8482880",
          "nationality": "USA",
          "primaryNumber": "49",
          "primaryPosition": {
           "abbreviation": "LW",
           "code": "L",
           "name": "Left Wing",
           "type": "Forward"
          },
          "rookie": true,
          "rosterStatus": "N",
          "shootsCatches": "R",
          "weight": 157
         },
         "ID8482940": {
          "active": true,
          "alternateCaptain": false,
          "birthCity": "Magnitogorsk",
          "birthCountry": "RUS",
          "birthDate": "2002-08-27",
          "captain": false,
          "currentAge": 21,
          "currentTeam": {
           "id": 10,
           "link": "/api/v1/teams/10",
           "name": "Toronto Maple Leafs",
           "triCode": "TOR"
          },
          "firstName": "Vyacheslav",
          "fullName": "Vyacheslav Peksa",
          "height": "6' 3\"",
          "id": 8482940,
          "lastName": "Peksa",
          "link": "/api/v1/people/8482940",
          "nationality": "RUS",
          "primaryNumber": "50",
          "primaryPosition": {
           "abbreviation": "G",
           "code": "G",
           "name": "Goalie",
           "type": "Goalie"
          },
          "rookie": true,
          "rosterStatus": "N",
          "shootsCatches": "L",
          "weight": 181
         },
         "ID8482964": {
          "active": true,
          "alternateCaptain": false,
          "birthCity": "Hamilton",
          "birthCountry": "CAN",
          "birthDate": "2001-01-30",
          "birthStateProvince": "ON",
          "captain": false,
          "currentAge": 22,
          "currentTeam": {
           "id": 8,
           "link": "/api/v1/teams/8",
           "name": "Montréal Canadiens",
           "triCode": "MTL"
          },
          "firstName": "Arber",
          "fullName": "Arber Xhekaj",
          "height": "6' 4\"",
          "id": 8482964,
          "lastName": "Xhekaj",
          "link": "/api/v1/people/8482964",
          "nationality": "CAN",
          "primaryNumber": "72",
          "primaryPosition": {
           "abbreviation": "D",
           "code": "D",
           "name": "Defenseman",
           "type": "Defenseman"
          },
          "rookie": false,
          "rosterStatus": "Y",
          "shootsCatches": "L",
          "weight": 240
         },
         "ID8483006": {
          "active": true,
          "alternateCaptain": false,
          "birthCity": "Brantford",
          "birthCountry": "CAN",
          "birthDate": "2003-09-05",
          "birthStateProvince": "ON",
          "captain": false,
          "currentAge": 20,
          "currentTeam": {
           "id": 10,
           "link": "/api/v1/teams/10",
           "name": "Toronto Maple Leafs",
           "triCode": "TOR"
          },
          "firstName": "Landon",
          "fullName": "Landon McCallum",
          "height": "5' 11\"",
          "id": 8483006,
          "lastName": "McCallum",
          "link": "/api/v1/people/8483006",
          "nationality": "CAN",
          "primaryPosition": {
           "abbreviation": "C",
           "code": "C",
           "name": "Center",
           "type": "Forward"
          },
          "rookie": true,
          "rosterStatus": "N",
          "shootsCatches": "R",
          "weight": 166
         },
         "ID8483092": {
          "active": true,
          "alternateCaptain": false,
          "birthCity": "Victoriaville",
          "birthCountry": "CAN",
          "birthDate": "2002-02-09",
          "birthStateProvince": "QC",
          "captain": false,
          "currentAge": 21,
          "currentTeam": {
           "id": 8,
           "link": "/api/v1/teams/8",
           "name": "Montréal Canadiens",
           "triCode": "MTL"
          },
          "firstName": "Miguël",
          "fullName": "Miguël Tourigny",
          "height": "5' 8\"",
          "id": 8483092,
          "lastName": "Tourigny",
          "link": "/api/v1/people/8483092",
          "nationality": "CAN",
          "primaryNumber": "93",
          "primaryPosition": {
           "abbreviation": "D",
           "code": "D",
           "name": "Defenseman",
           "type": "Defenseman"
          },
          "rookie": true,
          "rosterStatus": "N",
          "shootsCatches": "R",
          "weight": 186
         },
         "ID8483107": {
          "active": true,
          "alternateCaptain": false,
          "birthCity": "Brampton",
          "birthCountry": "CAN",
          "birthDate": "2003-03-19",
          "birthStateProvince": "ON",
          "captain": false,
          "currentAge": 20,
          "currentTeam": {
           "id": 10,
           "link": "/api/v1/teams/10",
           "name": "Toronto Maple Leafs",
           "triCode": "TOR"
          },
          "firstName": "Jacob",
          "fullName": "Jacob Frasca",
          "height": "6' 4\"",
          "id": 8483107,
          "lastName": "Frasca",
          "link": "/api/v1/people/8483107",
          "nationality": "CAN",
          "primaryPosition": {
           "abbreviation": "C",
           "code": "C",
           "name": "Center",
           "type": "Forward"
          },
          "rookie": true,
          "rosterStatus": "N",
          "shootsCatches": "R",
          "weight": 215
         },
         "ID8483424": {
          "active": true,
          "alternateCaptain": false,
          "birthCity": "Peterborough",
          "birthCountry": "CAN",
          "birthDate": "2004-02-03",
          "birthStateProvince": "ON",
          "captain": false,
          "currentAge": 19,
          "currentTeam": {
           "id": 8,
           "link": "/api/v1/teams/8",
           "name": "Montréal Canadiens",
           "triCode": "MTL"
          },
          "firstName": "Owen",
          "fullName": "Owen Beck",
          "height": "6' 0\"",
          "id": 8483424,
          "lastName": "Beck",
          "link": "/api/v1/people/8483424",
          "nationality": "CAN",
          "primaryNumber": "62",
          "primaryPosition": {
           "abbreviation": "C",
           "code": "C",
           "name": "Center",
           "type": "Forward"
          },
          "rookie": true,
          "rosterStatus": "N",
          "shootsCatches": "R",
          "weight": 190
         },
         "ID8483457": {
          "active": true,
          "alternateCaptain": false,
          "birthCity": "Holland",
          "birthCountry": "USA",
          "birthDate": "2004-02-14",
          "birthStateProvince": "MI",
          "captain": false,
          "currentAge": 19,
          "currentTeam": {
           "id": 8,
           "link": "/api/v1/teams/8",
           "name": "Montréal Canadiens",
           "triCode": "MTL"
          },
          "firstName": "Lane",
          "fullName": "Lane Hutson",
          "height": "5' 9\"",
          "id": 8483457,
          "lastName": "Hutson",
          "link": "/api/v1/people/8483457",
          "nationality": "USA",
          "primaryPosition": {
           "abbreviation": "D",
           "code": "D",
           "name": "Defenseman",
           "type": "Defenseman"
          },
          "rookie": true,
          "rosterStatus": "N",
          "shootsCatches": "L",
          "weight": 158
         },
         "ID8483488": {
          "active": true,
          "alternateCaptain": false,
          "birthCity": "Kezmarok",
          "birthCountry": "SVK",
          "birthDate": "2004-01-03",
          "captain": false,
          "currentAge": 19,
          "currentTeam": {
           "id": 8,
           "link": "/api/v1/teams/8",
           "name": "Montréal Canadiens",
           "triCode": "MTL"
          },
          "firstName": "Filip",
          "fullName": "Filip Mesar",
          "height": "5' 10\"",
          "id": 8483488,
          "lastName": "Mesar",
          "link": "/api/v1/people/8483488",
          "nationality": "SVK",
          "primaryNumber": "48",
          "primaryPosition": {
           "abbreviation": "RW",
           "code": "R",
           "name": "Right Wing",
           "type": "Forward"
          },
          "rookie": true,
          "rosterStatus": "N",
          "shootsCatches": "R",
          "weight": 179
         },
         "ID8483489": {
          "active": true,
          "alternateCaptain": false,
          "birthCity": "Vancouver",
          "birthCountry": "CAN",
          "birthDate": "2004-07-05",
          "birthStateProvince": "BC",
          "captain": false,
          "currentAge": 19,
          "currentTeam": {
           "id": 10,
           "link": "/api/v1/teams/10",
           "name": "Toronto Maple Leafs",
           "triCode": "TOR"
          },
          "firstName": "Fraser",
          "fullName": "Fraser Minten",
          "height": "6' 2\"",
          "id": 8483489,
          "lastName": "Minten",
          "link": "/api/v1/people/8483489",
          "nationality": "CAN",
          "primaryNumber": "39",
          "primaryPosition": {
           "abbreviation": "C",
           "code": "C",
           "name": "Center",
           "type": "Forward"
          },
          "rookie": true,
          "rosterStatus": "Y",
          "shootsCatches": "L",
          "weight": 192
         },
         "ID8483492": {
          "active": true,
          "alternateCaptain": false,
          "birthCity": "Oakville",
          "birthCountry": "CAN",
          "birthDate": "2004-05-25",
          "birthStateProvince": "ON",
          "captain": false,
          "currentAge": 19,
          "currentTeam": {
           "id": 10,
           "link": "/api/v1/teams/10",
           "name": "Toronto Maple Leafs",
           "triCode": "TOR"
          },
          "firstName": "Nicholas",
          "fullName": "Nicholas Moldenhauer",
          "height": "5' 10\"",
          "id": 8483492,
          "lastName": "Moldenhauer",
          "link": "/api/v1/people/8483492",
          "nationality": "CAN",
          "primaryPosition": {
           "abbreviation": "RW",
           "code": "R",
           "name": "Right Wing",
           "type": "Forward"
          },
          "rookie": true,
          "rosterStatus": "N",
          "shootsCatches": "R",
          "weight": 170
         },
         "ID8483507": {
          "active": true,
          "alternateCaptain": false,
          "birthCity": "Rankweil",
          "birthCountry": "AUT",
          "birthDate": "2004-09-09",
          "captain": false,
          "currentAge": 19,
          "currentTeam": {
           "id": 8,
           "link": "/api/v1/teams/8",
           "name": "Montréal Canadiens",
           "triCode": "MTL"
          },
          "firstName": "Vinzenz",
          "fullName": "Vinzenz Rohrer",
          "height": "5' 11\"",
          "id": 8483507,
          "lastName": "Rohrer",
          "link": "/api/v1/people/8483507",
          "nationality": "AUT",
          "primaryPosition": {
           "abbreviation": "C",
           "code": "C",
           "name": "Center",
           "type": "Forward"
          },
          "rookie": true,
          "rosterStatus": "N",
          "shootsCatches": "R",
          "weight": 173
         },
         "ID8483515": {
          "active": true,
          "alternateCaptain": false,
          "birthCity": "Kosice",
          "birthCountry": "SVK",
          "birthDate": "2004-03-30",
          "captain": false,
          "currentAge": 19,
          "currentTeam": {
           "id": 8,
           "link": "/api/v1/teams/8",
           "name": "Montréal Canadiens",
           "triCode": "MTL"
          },
          "firstName": "Juraj",
          "fullName": "Juraj Slafkovsky",
          "height": "6' 3\"",
          "id": 8483515,
          "lastName": "Slafkovsky",
          "link": "/api/v1/people/8483515",
          "nationality": "SVK",
          "primaryNumber": "20",
          "primaryPosition": {
           "abbreviation": "LW",
           "code": "L",
           "name": "Left Wing",
           "type": "Forward"
          },
          "rookie": false,
          "rosterStatus": "Y",
          "shootsCatches": "L",
          "weight": 230
         },
         "ID8483546": {
          "active": true,
          "alternateCaptain": false,
          "birthCity": "Beaconsfield",
          "birthCountry": "CAN",
          "birthDate": "1998-03-16",
          "birthStateProvince": "QC",
          "captain": false,
          "currentAge": 25,
          "currentTeam": {
           "id": 10,
           "link": "/api/v1/teams/10",
           "name": "Toronto Maple Leafs",
           "triCode": "TOR"
          },
          "firstName": "Marshall",
          "fullName": "Marshall Rifai",
          "height": "6' 0\"",
          "id": 8483546,
          "lastName": "Rifai",
          "link": "/api/v1/people/8483546",
          "nationality": "CAN",
          "primaryNumber": "83",
          "primaryPosition": {
           "abbreviation": "D",
           "code": "D",
           "name": "Defenseman",
           "type": "Defenseman"
          },
          "rookie": true,
          "rosterStatus": "Y",
          "shootsCatches": "L",
          "weight": 185
         },
         "ID8483549": {
          "active": true,
          "alternateCaptain": false,
          "birthCity": "Georgetown",
          "birthCountry": "CAN",
          "birthDate": "1997-06-19",
          "birthStateProvince": "ON",
          "captain": false,
          "currentAge": 26,
          "currentTeam": {
           "id": 8,
           "link": "/api/v1/teams/8",
           "name": "Montréal Canadiens",
           "triCode": "MTL"
          },
          "firstName": "Lucas",
          "fullName": "Lucas Condotta",
          "height": "6' 1\"",
          "id": 8483549,
          "lastName": "Condotta",
          "link": "/api/v1/people/8483549",
          "nationality": "CAN",
          "primaryNumber": "82",
          "primaryPosition": {
           "abbreviation": "LW",
           "code": "L",
           "name": "Left Wing",
           "type": "Forward"
          },
          "rookie": false,
          "rosterStatus": "N",
          "shootsCatches": "L",
          "weight": 217
         },
         "ID8483566": {
          "active": true,
          "alternateCaptain": false,
          "birthCity": "Plymouth",
          "birthCountry": "USA",
          "birthDate": "2000-01-18",
          "birthStateProvince": "MI",
          "captain": false,
          "currentAge": 23,
          "currentTeam": {
           "id": 10,
           "link": "/api/v1/teams/10",
           "name": "Toronto Maple Leafs",
           "triCode": "TOR"
          },
          "firstName": "Max",
          "fullName": "Max Ellis",
          "height": "5' 9\"",
          "id": 8483566,
          "lastName": "Ellis",
          "link": "/api/v1/people/8483566",
          "nationality": "USA",
          "primaryNumber": "90",
          "primaryPosition": {
           "abbreviation": "RW",
           "code": "R",
           "name": "Right Wing",
           "type": "Forward"
          },
          "rookie": true,
          "rosterStatus": "Y",
          "shootsCatches": "R",
          "weight": 166
         },
         "ID8483686": {
          "active": true,
          "alternateCaptain": false,
          "birthCity": "Jarna",
          "birthCountry": "SWE",
          "birthDate": "2003-11-17",
          "captain": false,
          "currentAge": 19,
          "currentTeam": {
           "id": 8,
           "link": "/api/v1/teams/8",
           "name": "Montréal Canadiens",
           "triCode": "MTL"
          },
          "firstName": "Adam",
          "fullName": "Adam Engstrom",
          "height": "6' 2\"",
          "id": 8483686,
          "lastName": "Engstrom",
          "link": "/api/v1/people/8483686",
          "nationality": "SWE",
          "primaryPosition": {
           "abbreviation": "D",
           "code": "D",
           "name": "Defenseman",
           "type": "Defenseman"
          },
          "rookie": true,
          "rosterStatus": "N",
          "shootsCatches": "L",
          "weight": 193
         },
         "ID8483700": {
          "active": true,
          "alternateCaptain": false,
          "birthCity": "Port Coquitlam",
          "birthCountry": "CAN",
          "birthDate": "2004-04-13",
          "birthStateProvince": "BC",
          "captain": false,
          "currentAge": 19,
          "currentTeam": {
           "id": 10,
           "link": "/api/v1/teams/10",
           "name": "Toronto Maple Leafs",
           "triCode": "TOR"
          },
          "firstName": "Brandon",
          "fullName": "Brandon Lisowsky",
          "height": "5' 8\"",
          "id": 8483700,
          "lastName": "Lisowsky",
          "link": "/api/v1/people/8483700",
          "nationality": "CAN",
          "primaryPosition": {
           "abbreviation": "LW",
           "code": "L",
           "name": "Left Wing",
           "type": "Forward"
          },
          "rookie": true,
          "rosterStatus": "N",
          "shootsCatches": "L",
          "weight": 171
         },
         "ID8483710": {
          "active": true,
          "alternateCaptain": false,
          "birthCity": "Jarfalla",
          "birthCountry": "SWE",
          "birthDate": "2001-08-19",
          "captain": false,
          "currentAge": 22,
          "currentTeam": {
           "id": 10,
           "link": "/api/v1/teams/10",
           "name": "Toronto Maple Leafs",
           "triCode": "TOR"
          },
          "firstName": "Dennis",
          "fullName": "Dennis Hildeby",
          "height": "6' 7\"",
          "id": 8483710,
          "lastName": "Hildeby",
          "link": "/api/v1/people/8483710",
          "nationality": "SWE",
          "primaryNumber": "41",
          "primaryPosition": {
           "abbreviation": "G",
           "code": "G",
           "name": "Goalie",
           "type": "Goalie"
          },
          "rookie": true,
          "rosterStatus": "N",
          "shootsCatches": "L",
          "weight": 222
         },
         "ID8483723": {
          "active": true,
          "alternateCaptain": false,
          "birthCity": "Rockland",
          "birthCountry": "CAN",
          "birthDate": "2004-04-21",
          "birthStateProvince": "ON",
          "captain": false,
          "currentAge": 19,
          "currentTeam": {
           "id": 8,
           "link": "/api/v1/teams/8",
           "name": "Montréal Canadiens",
           "triCode": "MTL"
          },
          "firstName": "Cedrick",
          "fullName": "Cedrick Guindon",
          "height": "5' 11\"",
          "id": 8483723,
          "lastName": "Guindon",
          "link": "/api/v1/people/8483723",
          "primaryNumber": "89",
          "primaryPosition": {
           "abbreviation": "LW",
           "code": "L",
           "name": "Left Wing",
           "type": "Forward"
          },
          "rookie": true,
          "rosterStatus": "N",
          "shootsCatches": "L",
          "weight": 179
         },
         "ID8483724": {
          "active": true,
          "alternateCaptain": false,
          "birthCity": "Helsinki",
          "birthCountry": "FIN",
          "birthDate": "2002-01-12",
          "captain": false,
          "currentAge": 21,
          "currentTeam": {
           "id": 8,
           "link": "/api/v1/teams/8",
           "name": "Montréal Canadiens",
           "triCode": "MTL"
          },
          "firstName": "Petteri",
          "fullName": "Petteri Nurmi",
          "height": "5' 11\"",
          "id": 8483724,
          "lastName": "Nurmi",
          "link": "/api/v1/people/8483724",
          "nationality": "FIN",
          "primaryPosition": {
           "abbreviation": "D",
           "code": "D",
           "name": "Defenseman",
           "type": "Defenseman"
          },
          "rookie": true,
          "rosterStatus": "N",
          "shootsCatches": "L",
          "weight": 186
         },
         "ID8483728": {
          "active": true,
          "alternateCaptain": false,
          "birthCity": "Edmonton",
          "birthCountry": "CAN",
          "birthDate": "2002-07-07",
          "birthStateProvince": "AB",
          "captain": false,
          "currentAge": 21,
          "currentTeam": {
           "id": 8,
           "link": "/api/v1/teams/8",
           "name": "Montréal Canadiens",
           "triCode": "MTL"
          },
          "firstName": "Jared",
          "fullName": "Jared Davidson",
          "height": "5' 11\"",
          "id": 8483728,
          "lastName": "Davidson",
          "link": "/api/v1/people/8483728",
          "nationality": "CAN",
          "primaryNumber": "76",
          "primaryPosition": {
           "abbreviation": "C",
           "code": "C",
           "name": "Center",
           "type": "Forward"
          },
          "rookie": true,
          "rosterStatus": "N",
          "shootsCatches": "L",
          "weight": 188
         },
         "ID8483733": {
          "active": true,
          "alternateCaptain": false,
          "birthCity": "Serov",
          "birthCountry": "RUS",
          "birthDate": "2003-05-02",
          "captain": false,
          "currentAge": 20,
          "currentTeam": {
           "id": 10,
           "link": "/api/v1/teams/10",
           "name": "Toronto Maple Leafs",
           "triCode": "TOR"
          },
          "firstName": "Nikita",
          "fullName": "Nikita Grebenkin",
          "height": "6' 2\"",
          "id": 8483733,
          "lastName": "Grebenkin",
          "link": "/api/v1/people/8483733",
          "nationality": "RUS",
          "primaryPosition": {
           "abbreviation": "RW",
           "code": "R",
           "name": "Right Wing",
           "type": "Forward"
          },
          "rookie": true,
          "rosterStatus": "N",
          "shootsCatches": "L",
          "weight": 183
         },
         "ID8483765": {
          "active": true,
          "alternateCaptain": false,
          "birthCity": "Bonnyville",
          "birthCountry": "CAN",
          "birthDate": "2003-12-07",
          "birthStateProvince": "AB",
          "captain": false,
          "currentAge": 19,
          "currentTeam": {
           "id": 8,
           "link": "/api/v1/teams/8",
           "name": "Montréal Canadiens",
           "triCode": "MTL"
          },
          "firstName": "Emmett",
          "fullName": "Emmett Croteau",
          "height": "6' 3\"",
          "id": 8483765,
          "lastName": "Croteau",
          "link": "/api/v1/people/8483765",
          "nationality": "CAN",
          "primaryPosition": {
           "abbreviation": "G",
           "code": "G",
           "name": "Goalie",
           "type": "Goalie"
          },
          "rookie": true,
          "rosterStatus": "N",
          "shootsCatches": "L",
          "weight": 220
         },
         "ID8483811": {
          "active": true,
          "alternateCaptain": false,
          "birthCity": "Windsor",
          "birthCountry": "CAN",
          "birthDate": "2004-01-10",
          "birthStateProvince": "ON",
          "captain": false,
          "currentAge": 19,
          "currentTeam": {
           "id": 10,
           "link": "/api/v1/teams/10",
           "name": "Toronto Maple Leafs",
           "triCode": "TOR"
          },
          "firstName": "Spencer",
          "fullName": "Spencer Sova",
          "height": "6' 1\"",
          "id": 8483811,
          "lastName": "Sova",
          "link": "/api/v1/people/8483811",
          "nationality": "CAN",
          "primaryPosition": {
           "abbreviation": "D",
           "code": "D",
           "name": "Defenseman",
           "type": "Defenseman"
          },
          "rookie": true,
          "rosterStatus": "N",
          "shootsCatches": "L",
          "weight": 185
         },
         "ID8484158": {
          "active": true,
          "alternateCaptain": false,
          "birthCity": "Mount Brydges",
          "birthCountry": "CAN",
          "birthDate": "2005-05-20",
          "birthStateProvince": "ON",
          "captain": false,
          "currentAge": 18,
          "currentTeam": {
           "id": 10,
           "link": "/api/v1/teams/10",
           "name": "Toronto Maple Leafs",
           "triCode": "TOR"
          },
          "firstName": "Easton",
          "fullName": "Easton Cowan",
          "height": "5' 11\"",
          "id": 8484158,
          "lastName": "Cowan",
          "link": "/api/v1/people/8484158",
          "nationality": "CAN",
          "primaryNumber": "53",
          "primaryPosition": {
           "abbreviation": "RW",
           "code": "R",
           "name": "Right Wing",
           "type": "Forward"
          },
          "rookie": true,
          "rosterStatus": "Y",
          "shootsCatches": "L",
          "weight": 185
         },
         "ID8484170": {
          "active": true,
          "alternateCaptain": false,
          "birthCity": "Melbourne",
          "birthCountry": "USA",
          "birthDate": "2004-11-24",
          "birthStateProvince": "FL",
          "captain": false,
          "currentAge": 18,
          "currentTeam": {
           "id": 8,
           "link": "/api/v1/teams/8",
           "name": "Montréal Canadiens",
           "triCode": "MTL"
          },
          "firstName": "Jacob",
          "fullName": "Jacob Fowler",
          "height": "6' 1\"",
          "id": 8484170,
          "lastName": "Fowler",
          "link": "/api/v1/people/8484170",
          "nationality": "USA",
          "primaryPosition": {
           "abbreviation": "G",
           "code": "G",
           "name": "Goalie",
           "type": "Goalie"
          },
          "rookie": true,
          "rosterStatus": "N",
          "shootsCatches": "L",
          "weight": 223
         },
         "ID8484220": {
          "active": true,
          "alternateCaptain": false,
          "birthCity": "Hohenems",
          "birthCountry": "AUT",
          "birthDate": "2004-10-25",
          "captain": false,
          "currentAge": 18,
          "currentTeam": {
           "id": 8,
           "link": "/api/v1/teams/8",
           "name": "Montréal Canadiens",
           "triCode": "MTL"
          },
          "firstName": "David",
          "fullName": "David Reinbacher",
          "height": "6' 3\"",
          "id": 8484220,
          "lastName": "Reinbacher",
          "link": "/api/v1/people/8484220",
          "nationality": "AUT",
          "primaryNumber": "64",
          "primaryPosition": {
           "abbreviation": "D",
           "code": "D",
           "name": "Defenseman",
           "type": "Defenseman"
          },
          "rookie": true,
          "rosterStatus": "N",
          "shootsCatches": "R",
          "weight": 209
         },
         "ID8484403": {
          "active": true,
          "alternateCaptain": false,
          "birthCity": "Hamilton",
          "birthCountry": "CAN",
          "birthDate": "2004-06-27",
          "birthStateProvince": "ON",
          "captain": false,
          "currentAge": 19,
          "currentTeam": {
           "id": 8,
           "link": "/api/v1/teams/8",
           "name": "Montréal Canadiens",
           "triCode": "MTL"
          },
          "firstName": "Florian",
          "fullName": "Florian Xhekaj",
          "height": "6' 3\"",
          "id": 8484403,
          "lastName": "Xhekaj",
          "link": "/api/v1/people/8484403",
          "nationality": "CAN",
          "primaryNumber": "96",
          "primaryPosition": {
           "abbreviation": "LW",
           "code": "L",
           "name": "Left Wing",
           "type": "Forward"
          },
          "rookie": true,
          "rosterStatus": "N",
          "shootsCatches": "L",
          "weight": 188
         },
         "ID8484410": {
          "active": true,
          "alternateCaptain": false,
          "birthCity": "Penza",
          "birthCountry": "RUS",
          "birthDate": "2002-12-20",
          "captain": false,
          "currentAge": 20,
          "currentTeam": {
           "id": 8,
           "link": "/api/v1/teams/8",
           "name": "Montréal Canadiens",
           "triCode": "MTL"
          },
          "firstName": "Bogdan",
          "fullName": "Bogdan Konyushkov",
          "height": "5' 11\"",
          "id": 8484410,
          "lastName": "Konyushkov",
          "link": "/api/v1/people/8484410",
          "nationality": "RUS",
          "primaryPosition": {
           "abbreviation": "D",
           "code": "D",
           "name": "Defenseman",
           "type": "Defenseman"
          },
          "rookie": true,
          "rosterStatus": "N",
          "shootsCatches": "R",
          "weight": 176
         },
         "ID8484416": {
          "active": true,
          "alternateCaptain": false,
          "birthCity": "Montréal",
          "birthCountry": "CAN",
          "birthDate": "2004-12-23",
          "birthStateProvince": "QC",
          "captain": false,
          "currentAge": 18,
          "currentTeam": {
           "id": 8,
           "link": "/api/v1/teams/8",
           "name": "Montréal Canadiens",
           "triCode": "MTL"
          },
          "firstName": "Quentin",
          "fullName": "Quentin Miller",
          "height": "6' 3\"",
          "id": 8484416,
          "lastName": "Miller",
          "link": "/api/v1/people/8484416",
          "nationality": "CAN",
          "primaryPosition": {
           "abbreviation": "G",
           "code": "G",
           "name": "Goalie",
           "type": "Goalie"
          },
          "rookie": true,
          "rosterStatus": "N",
          "shootsCatches": "L",
          "weight": 185
         },
         "ID8484422": {
          "active": true,
          "alternateCaptain": false,
          "birthCity": "Carlsbad",
          "birthCountry": "USA",
          "birthDate": "2003-10-14",
          "birthStateProvince": "CA",
          "captain": false,
          "currentAge": 19,
          "currentTeam": {
           "id": 8,
           "link": "/api/v1/teams/8",
           "name": "Montréal Canadiens",
           "triCode": "MTL"
          },
          "firstName": "Sam",
          "fullName": "Sam Harris",
          "height": "5' 11\"",
          "id": 8484422,
          "lastName": "Harris",
          "link": "/api/v1/people/8484422",
          "nationality": "USA",
          "primaryPosition": {
           "abbreviation": "LW",
           "code": "L",
           "name": "Left Wing",
           "type": "Forward"
          },
          "rookie": true,
          "rosterStatus": "N",
          "shootsCatches": "L",
          "weight": 180
         },
         "ID8484424": {
          "active": true,
          "alternateCaptain": false,
          "birthCity": "Khanty-Mansiysk",
          "birthCountry": "RUS",
          "birthDate": "2005-04-06",
          "captain": false,
          "currentAge": 18,
          "currentTeam": {
           "id": 8,
           "link": "/api/v1/teams/8",
           "name": "Montréal Canadiens",
           "triCode": "MTL"
          },
          "firstName": "Yevgeni",
          "fullName": "Yevgeni Volokhin",
          "height": "6' 0\"",
          "id": 8484424,
          "lastName": "Volokhin",
          "link": "/api/v1/people/8484424",
          "nationality": "RUS",
          "primaryPosition": {
           "abbreviation": "G",
           "code": "G",
           "name": "Goalie",
           "type": "Goalie"
          },
          "rookie": true,
          "rosterStatus": "N",
          "shootsCatches": "L",
          "weight": 159
         },
         "ID8484438": {
          "active": true,
          "alternateCaptain": false,
          "birthCity": "Saskatoon",
          "birthCountry": "CAN",
          "birthDate": "2004-05-19",
          "birthStateProvince": "SK",
          "captain": false,
          "currentAge": 19,
          "currentTeam": {
           "id": 10,
           "link": "/api/v1/teams/10",
           "name": "Toronto Maple Leafs",
           "triCode": "TOR"
          },
          "firstName": "Hudson",
          "fullName": "Hudson Malinoski",
          "height": "6' 0\"",
          "id": 8484438,
          "lastName": "Malinoski",
          "link": "/api/v1/people/8484438",
          "nationality": "CAN",
          "primaryPosition": {
           "abbreviation": "C",
           "code": "C",
           "name": "Center",
           "type": "Forward"
          },
          "rookie": true,
          "rosterStatus": "N",
          "shootsCatches": "L",
          "weight": 175
         },
         "ID8484448": {
          "active": true,
          "alternateCaptain": false,
          "birthCity": "Ljungby",
          "birthCountry": "SWE",
          "birthDate": "2004-11-05",
          "captain": false,
          "currentAge": 18,
          "currentTeam": {
           "id": 8,
           "link": "/api/v1/teams/8",
           "name": "Montréal Canadiens",
           "triCode": "MTL"
          },
          "firstName": "Filip",
          "fullName": "Filip Eriksson",
          "height": "5' 11\"",
          "id": 8484448,
          "lastName": "Eriksson",
          "link": "/api/v1/people/8484448",
          "nationality": "SWE",
          "primaryPosition": {
           "abbreviation": "C",
           "code": "C",
           "name": "Center",
           "type": "Forward"
          },
          "rookie": true,
          "rosterStatus": "N",
          "shootsCatches": "L",
          "weight": 179
         },
         "ID8484464": {
          "active": true,
          "alternateCaptain": false,
          "birthCity": "Saskatoon",
          "birthCountry": "CAN",
          "birthDate": "2005-05-10",
          "birthStateProvince": "SK",
          "captain": false,
          "currentAge": 18,
          "currentTeam": {
           "id": 10,
           "link": "/api/v1/teams/10",
           "name": "Toronto Maple Leafs",
           "triCode": "TOR"
          },
          "firstName": "Noah",
          "fullName": "Noah Chadwick",
          "height": "6' 4\"",
          "id": 8484464,
          "lastName": "Chadwick",
          "link": "/api/v1/people/8484464",
          "nationality": "CAN",
          "primaryPosition": {
           "abbreviation": "D",
           "code": "D",
           "name": "Defenseman",
           "type": "Defenseman"
          },
          "rookie": true,
          "rosterStatus": "N",
          "shootsCatches": "L",
          "weight": 187
         },
         "ID8484503": {
          "active": true,
          "alternateCaptain": false,
          "birthCity": "Laval",
          "birthCountry": "CAN",
          "birthDate": "2003-03-13",
          "birthStateProvince": "QC",
          "captain": false,
          "currentAge": 20,
          "currentTeam": {
           "id": 8,
           "link": "/api/v1/teams/8",
           "name": "Montréal Canadiens",
           "triCode": "MTL"
          },
          "firstName": "Isaac",
          "fullName": "Isaac Dufort",
          "id": 8484503,
          "lastName": "Dufort",
          "link": "/api/v1/people/8484503",
          "nationality": "CAN",
          "primaryPosition": {
           "abbreviation": "LW",
           "code": "L",
           "name": "Left Wing",
           "type": "Forward"
          },
          "rookie": true,
          "rosterStatus": "N",
          "shootsCatches": "L"
         },
         "ID8484511": {
          "active": true,
          "alternateCaptain": false,
          "birthCity": "Kitchener",
          "birthCountry": "CAN",
          "birthDate": "2003-02-04",
          "birthStateProvince": "ON",
          "captain": false,
          "currentAge": 20,
          "currentTeam": {
           "id": 10,
           "link": "/api/v1/teams/10",
           "name": "Toronto Maple Leafs",
           "triCode": "TOR"
          },
          "firstName": "Matthew",
          "fullName": "Matthew Sop",
          "height": "6' 0\"",
          "id": 8484511,
          "lastName": "Sop",
          "link": "/api/v1/people/8484511",
          "nationality": "CAN",
          "primaryPosition": {
           "abbreviation": "LW",
           "code": "L",
           "name": "Left Wing",
           "type": "Forward"
          },
          "rookie": true,
          "rosterStatus": "N",
          "shootsCatches": "L",
          "weight": 185
         },
         "ID8484512": {
          "active": true,
          "alternateCaptain": false,
          "birthCity": "Quebec",
          "birthCountry": "CAN",
          "birthDate": "2004-03-05",
          "birthStateProvince": "QC",
          "captain": false,
          "currentAge": 19,
          "currentTeam": {
           "id": 10,
           "link": "/api/v1/teams/10",
           "name": "Toronto Maple Leafs",
           "triCode": "TOR"
          },
          "firstName": "Pier-Olivier",
          "fullName": "Pier-Olivier Roy",
          "height": "5' 10\"",
          "id": 8484512,
          "lastName": "Roy",
          "link": "/api/v1/people/8484512",
          "nationality": "CAN",
          "primaryPosition": {
           "abbreviation": "D",
           "code": "D",
           "name": "Defenseman",
           "type": "Defenseman"
          },
          "rookie": true,
          "rosterStatus": "N",
          "shootsCatches": "L",
          "weight": 172
         },
         "ID8484513": {
          "active": true,
          "alternateCaptain": false,
          "birthCity": "Peterborough",
          "birthCountry": "CAN",
          "birthDate": "2005-06-07",
          "birthStateProvince": "ON",
          "captain": false,
          "currentAge": 18,
          "currentTeam": {
           "id": 10,
           "link": "/api/v1/teams/10",
           "name": "Toronto Maple Leafs",
           "triCode": "TOR"
          },
          "firstName": "Lucas",
          "fullName": "Lucas Moore",
          "height": "5' 10\"",
          "id": 8484513,
          "lastName": "Moore",
          "link": "/api/v1/people/8484513",
          "nationality": "CAN",
          "primaryPosition": {
           "abbreviation": "D",
           "code": "D",
           "name": "Defenseman",
           "type": "Defenseman"
          },
          "rookie": true,
          "rosterStatus": "N",
          "shootsCatches": "R",
          "weight": 185
         },
         "ID8484514": {
          "active": true,
          "alternateCaptain": false,
          "birthCity": "Toronto",
          "birthCountry": "CAN",
          "birthDate": "2005-04-13",
          "birthStateProvince": "ON",
          "captain": false,
          "currentAge": 18,
          "currentTeam": {
           "id": 10,
           "link": "/api/v1/teams/10",
           "name": "Toronto Maple Leafs",
           "triCode": "TOR"
          },
          "firstName": "Marco",
          "fullName": "Marco Mignosa",
          "height": "6' 0\"",
          "id": 8484514,
          "lastName": "Mignosa",
          "link": "/api/v1/people/8484514",
          "nationality": "CAN",
          "primaryPosition": {
           "abbreviation": "RW",
           "code": "R",
           "name": "Right Wing",
           "type": "Forward"
          },
          "rookie": true,
          "rosterStatus": "N",
          "shootsCatches": "R",
          "weight": 158
         },
         "ID8484515": {
          "active": true,
          "alternateCaptain": false,
          "birthCity": "Vernon",
          "birthCountry": "CAN",
          "birthDate": "2005-01-21",
          "birthStateProvince": "BC",
          "captain": false,
          "currentAge": 18,
          "currentTeam": {
           "id": 10,
           "link": "/api/v1/teams/10",
           "name": "Toronto Maple Leafs",
           "triCode": "TOR"
          },
          "firstName": "Deagan",
          "fullName": "Deagan McMillan",
          "height": "6' 2\"",
          "id": 8484515,
          "lastName": "McMillan",
          "link": "/api/v1/people/8484515",
          "nationality": "CAN",
          "primaryPosition": {
           "abbreviation": "RW",
           "code": "R",
           "name": "Right Wing",
           "type": "Forward"
          },
          "rookie": true,
          "rosterStatus": "N",
          "shootsCatches": "R",
          "weight": 191
         },
         "ID8484516": {
          "active": true,
          "alternateCaptain": false,
          "birthCity": "Edmonton",
          "birthCountry": "CAN",
          "birthDate": "2003-01-15",
          "birthStateProvince": "AB",
          "captain": false,
          "currentAge": 20,
          "currentTeam": {
           "id": 10,
           "link": "/api/v1/teams/10",
           "name": "Toronto Maple Leafs",
           "triCode": "TOR"
          },
          "firstName": "Tyson",
          "fullName": "Tyson Greenway",
          "height": "6' 1\"",
          "id": 8484516,
          "lastName": "Greenway",
          "link": "/api/v1/people/8484516",
          "nationality": "CAN",
          "primaryPosition": {
           "abbreviation": "C",
           "code": "C",
           "name": "Center",
           "type": "Forward"
          },
          "rookie": true,
          "rosterStatus": "N",
          "shootsCatches": "L",
          "weight": 196
         },
         "ID8484631": {
          "active": true,
          "alternateCaptain": false,
          "birthCity": "Lloydminster",
          "birthCountry": "CAN",
          "birthDate": "2005-04-15",
          "birthStateProvince": "AB",
          "captain": false,
          "currentAge": 18,
          "currentTeam": {
           "id": 10,
           "link": "/api/v1/teams/10",
           "name": "Toronto Maple Leafs",
           "triCode": "TOR"
          },
          "firstName": "Mazden",
          "fullName": "Mazden Leslie",
          "height": "6' 1\"",
          "id": 8484631,
          "lastName": "Leslie",
          "link": "/api/v1/people/8484631",
          "nationality": "CAN",
          "primaryPosition": {
           "abbreviation": "D",
           "code": "D",
           "name": "Defenseman",
           "type": "Defenseman"
          },
          "rookie": false,
          "rosterStatus": "N",
          "shootsCatches": "R",
          "weight": 197
         }
        },
        "status": {
         "abstractGameState": "Final",
         "codedGameState": "6",
         "detailedState": "Final",
         "startTimeTBD": false,
         "statusCode": "6"
        },
        "teams": {
         "away": {
          "abbreviation": "MTL",
          "active": true,
          "conference": {
           "id": 6,
           "link": "/api/v1/conferences/6",
           "name": "Eastern"
          },
          "division": {
           "abbreviation": "A",
           "id": 17,
           "link": "/api/v1/divisions/17",
           "name": "Atlantic",
           "nameShort": "ATL"
          },
          "firstYearOfPlay": "1917",
          "franchise": {
           "franchiseId": 1,
           "link": "/api/v1/franchises/1",
           "teamName": "Canadiens"
          },
          "franchiseId": 1,
          "id": 8,
          "link": "/api/v1/teams/8",
          "locationName": "Montréal",
          "name": "Montréal Canadiens",
          "officialSiteUrl": "http://www.canadiens.com/",
          "shortName": "Montréal",
          "teamName": "Canadiens",
          "triCode": "MTL",
          "venue": {
           "city": "Montréal",
           "id": 5028,
           "link": "/api/v1/venues/5028",
           "name": "Bell Centre",
           "timeZone": {
            "id": "America/Montreal",
            "offset": -4,
            "tz": "EDT"
           }
          }
         },
         "home": {
          "abbreviation": "TOR",
          "active": true,
          "conference": {
           "id": 6,
           "link": "/api/v1/conferences/6",
           "name": "Eastern"
          },
          "division": {
           "abbreviation": "A",
           "id": 17,
           "link": "/api/v1/divisions/17",
           "name": "Atlantic",
           "nameShort": "ATL"
          },
          "firstYearOfPlay": "1927",
          "franchise": {
           "franchiseId": 5,
           "link": "/api/v1/franchises/5",
           "teamName": "Maple Leafs"
          },
          "franchiseId": 5,
          "id": 10,
          "link": "/api/v1/teams/10",
          "locationName": "Toronto",
          "name": "Toronto Maple Leafs",
          "officialSiteUrl": "http://www.mapleleafs.com/",
          "shortName": "Toronto",
          "teamName": "Maple Leafs",
          "triCode": "TOR",
          "venue": {
           "city": "Toronto",
           "link": "/api/v1/venues/null",
           "name": "Scotiabank Arena",
           "timeZone": {
            "id": "America/Toronto",
            "offset": -4,
            "tz": "EDT"
           }
          }
         }
        },
        "venue": {
         "link": "/api/v1/venues/null",
         "name": "Scotiabank Arena"
        }
       },
       "gamePk": 2023010071,
       "link": "/api/v1/game/2023010071/feed/live",
       "liveData": {
        "boxscore": {
         "officials": [
          {
           "official": {
            "fullName": "Corey Syvret",
            "id": 7205,
            "link": "/api/v1/people/7205"
           },
           "officialType": "Referee"
          },
          {
           "official": {
            "fullName": "Pierre Lambert",
            "id": 6978,
            "link": "/api/v1/people/6978"
           },
           "officialType": "Referee"
          },
          {
           "official": {
            "fullName": "Shandor Alphonso",
            "id": 4694,
            "link": "/api/v1/people/4694"
           },
           "officialType": "Linesman"
          },
          {
           "official": {
            "fullName": "Steve Barton",
            "id": 2329,
            "link": "/api/v1/people/2329"
           },
           "officialType": "Linesman"
          }
         ],
         "teams": {
          "away": {
           "coaches": [
            {
             "person": {
              "fullName": "Martin St. Louis",
              "link": "/api/v1/people/null"
             },
             "position": {
              "abbreviation": "Head Coach",
              "code": "HC",
              "name": "Head Coach",
              "type": "Head Coach"
             }
            }
           ],
           "goalies": [
            8480051,
            8474596
           ],
           "onIce": [],
           "onIcePlus": [],
           "penaltyBox": [],
           "players": {
            "ID8471679": {
             "jerseyNumber": "31",
             "person": {
              "fullName": "Carey Price",
              "id": 8471679,
              "link": "/api/v1/people/8471679",
              "rosterStatus": "N",
              "shootsCatches": "L"
             },
             "position": {
              "abbreviation": "N/A",
              "code": "N/A",
              "name": "Unknown",
              "type": "Unknown"
             },
             "stats": {}
            },
            "ID8474596": {
             "jerseyNumber": "34",
             "person": {
              "fullName": "Jake Allen",
              "id": 8474596,
              "link": "/api/v1/people/8474596",
              "rosterStatus": "Y",
              "shootsCatches": "L"
             },
             "position": {
              "abbreviation": "G",
              "code": "G",
              "name": "Goalie",
              "type": "Goalie"
             },
             "stats": {
              "goalieStats": {
               "assists": 0,
               "evenSaves": 17,
               "evenShotsAgainst": 20,
               "evenStrengthSavePercentage": 85,
               "goals": 0,
               "pim": 0,
               "powerPlaySavePercentage": 87.5,
               "powerPlaySaves": 7,
               "powerPlayShotsAgainst": 8,
               "savePercentage": 86.20689655172413,
               "saves": 25,
               "shortHandedSavePercentage": 100,
               "shortHandedSaves": 1,
               "shortHandedShotsAgainst": 1,
               "shots": 29,
               "timeOnIce": "59:22"
              }
             }
            },
            "ID8475227": {
             "jerseyNumber": "6",
             "person": {
              "fullName": "Chris Wideman",
              "id": 8475227,
              "link": "/api/v1/people/8475227",
              "rosterStatus": "N",
              "shootsCatches": "R"
             },
             "position": {
              "abbreviation": "N/A",
              "code": "N/A",
              "name": "Unknown",
              "type": "Unknown"
             },
             "stats": {}
            },
            "ID8475233": {
             "jerseyNumber": "58",
             "person": {
              "fullName": "David Savard",
              "id": 8475233,
              "link": "/api/v1/people/8475233",
              "rosterStatus": "Y",
              "shootsCatches": "R"
             },
             "position": {
              "abbreviation": "D",
              "code": "D",
              "name": "Defenseman",
              "type": "Defenseman"
             },
             "stats": {
              "skaterStats": {
               "assists": 0,
               "blocked": 2,
               "evenTimeOnIce": "13:49",
               "faceOffWins": 0,
               "faceoffTaken": 0,
               "giveaways": 0,
               "goals": 0,
               "hits": 0,
               "penaltyMinutes": 0,
               "plusMinus": -1,
               "powerPlayAssists": 0,
               "powerPlayGoals": 0,
               "powerPlayTimeOnIce": "0:00",
               "shortHandedAssists": 0,
               "shortHandedGoals": 0,
               "shortHandedTimeOnIce": "7:05",
               "shots": 1,
               "takeaways": 0,
               "timeOnIce": "20:54"
              }
             }
            },
            "ID8475848": {
             "jerseyNumber": "11",
             "person": {
              "fullName": "Brendan Gallagher",
              "id": 8475848,
              "link": "/api/v1/people/8475848",
              "rosterStatus": "Y",
              "shootsCatches": "R"
             },
             "position": {
              "abbreviation": "RW",
              "code": "R",
              "name": "Right Wing",
              "type": "Forward"
             },
             "stats": {
              "skaterStats": {
               "assists": 0,
               "blocked": 0,
               "evenTimeOnIce": "11:21",
               "faceOffWins": 0,
               "faceoffTaken": 0,
               "giveaways": 0,
               "goals": 0,
               "hits": 1,
               "penaltyMinutes": 0,
               "plusMinus": 0,
               "powerPlayAssists": 0,
               "powerPlayGoals": 0,
               "powerPlayTimeOnIce": "1:57",
               "shortHandedAssists": 0,
               "shortHandedGoals": 0,
               "shortHandedTimeOnIce": "0:00",
               "shots": 0,
               "takeaways": 0,
               "timeOnIce": "13:18"
              }
             }
            },
            "ID8476469": {
             "jerseyNumber": "40",
             "person": {
              "fullName": "Joel Armia",
              "id": 8476469,
              "link": "/api/v1/people/8476469",
              "rosterStatus": "Y",
              "shootsCatches": "R"
             },
             "position": {
              "abbreviation": "N/A",
              "code": "N/A",
              "name": "Unknown",
              "type": "Unknown"
             },
             "stats": {}
            },
            "ID8476871": {
             "jerseyNumber": "70",
             "person": {
              "fullName": "Tanner Pearson",
              "id": 8476871,
              "link": "/api/v1/people/8476871",
              "rosterStatus": "Y",
              "shootsCatches": "L"
             },
             "position": {
              "abbreviation": "LW",
              "code": "L",
              "name": "Left Wing",
              "type": "Forward"
             },
             "stats": {
              "skaterStats": {
               "assists": 0,
               "blocked": 1,
               "evenTimeOnIce": "12:24",
               "faceOffWins": 0,
               "faceoffTaken": 0,
               "giveaways": 0,
               "goals": 0,
               "hits": 1,
               "penaltyMinutes": 0,
               "plusMinus": -2,
               "powerPlayAssists": 0,
               "powerPlayGoals": 0,
               "powerPlayTimeOnIce": "0:00",
               "shortHandedAssists": 0,
               "shortHandedGoals": 0,
               "shortHandedTimeOnIce": "2:35",
               "shots": 0,
               "takeaways": 0,
               "timeOnIce": "14:59"
              }
             }
            },
            "ID8476875": {
             "jerseyNumber": "8",
             "person": {
              "fullName": "Mike Matheson",
              "id": 8476875,
              "link": "/api/v1/people/8476875",
              "rosterStatus": "Y",
              "shootsCatches": "L"
             },
             "position": {
              "abbreviation": "N/A",
              "code": "N/A",
              "name": "Unknown",
              "type": "Unknown"
             },
             "stats": {}
            },
            "ID8476981": {
             "jerseyNumber": "17",
             "person": {
              "fullName": "Josh Anderson",
              "id": 8476981,
              "link": "/api/v1/people/8476981",
              "rosterStatus": "Y",
              "shootsCatches": "R"
             },
             "position": {
              "abbreviation": "RW",
              "code": "R",
              "name": "Right Wing",
              "type": "Forward"
             },
             "stats": {
              "skaterStats": {
               "assists": 0,
               "blocked": 0,
               "evenTimeOnIce": "13:40",
               "faceOffWins": 0,
               "faceoffTaken": 0,
               "giveaways": 0,
               "goals": 1,
               "hits": 2,
               "penaltyMinutes": 0,
               "plusMinus": 0,
               "powerPlayAssists": 0,
               "powerPlayGoals": 0,
               "powerPlayTimeOnIce": "2:01",
               "shortHandedAssists": 0,
               "shortHandedGoals": 0,
               "shortHandedTimeOnIce": "0:00",
               "shots": 3,
               "takeaways": 0,
               "timeOnIce": "15:41"
              }
             }
            },
            "ID8477497": {
             "jerseyNumber": "91",
             "person": {
              "fullName": "Sean Monahan",
              "id": 8477497,
              "link": "/api/v1/people/8477497",
              "rosterStatus": "Y",
              "shootsCatches": "L"
             },
             "position": {
              "abbreviation": "C",
              "code": "C",
              "name": "Center",
              "type": "Forward"
             },
             "stats": {
              "skaterStats": {
               "assists": 2,
               "blocked": 0,
               "evenTimeOnIce": "13:30",
               "faceOffPct": 81,
               "faceOffWins": 13,
               "faceoffTaken": 16,
               "giveaways": 0,
               "goals": 0,
               "hits": 0,
               "penaltyMinutes": 2,
               "plusMinus": 2,
               "powerPlayAssists": 1,
               "powerPlayGoals": 0,
               "powerPlayTimeOnIce": "2:08",
               "shortHandedAssists": 1,
               "shortHandedGoals": 0,
               "shortHandedTimeOnIce": "0:58",
               "shots": 2,
               "takeaways": 0,
               "timeOnIce": "16:36"
              }
             }
            },
            "ID8477544": {
             "jerseyNumber": "61",
             "person": {
              "fullName": "Philippe Maillet",
              "id": 8477544,
              "link": "/api/v1/people/8477544",
              "rosterStatus": "N",
              "shootsCatches": "L"
             },
             "position": {
              "abbreviation": "N/A",
              "code": "N/A",
              "name": "Unknown",
              "type": "Unknown"
             },
             "stats": {}
            },
            "ID8477989": {
             "jerseyNumber": "28",
             "person": {
              "fullName": "Christian Dvorak",
              "id": 8477989,
              "link": "/api/v1/people/8477989",
              "rosterStatus": "N",
              "shootsCatches": "L"
             },
             "position": {
              "abbreviation": "N/A",
              "code": "N/A",
              "name": "Unknown",
              "type": "Unknown"
             },
             "stats": {}
            },
            "ID8478133": {
             "jerseyNumber": "71",
             "person": {
              "fullName": "Jake Evans",
              "id": 8478133,
              "link": "/api/v1/people/8478133",
              "rosterStatus": "Y",
              "shootsCatches": "R"
             },
             "position": {
              "abbreviation": "C",
              "code": "C",
              "name": "Center",
              "type": "Forward"
             },
             "stats": {
              "skaterStats": {
               "assists": 0,
               "blocked": 0,
               "evenTimeOnIce": "9:45",
               "faceOffPct": 54,
               "faceOffWins": 7,
               "faceoffTaken": 13,
               "giveaways": 0,
               "goals": 0,
               "hits": 0,
               "penaltyMinutes": 2,
               "plusMinus": -2,
               "powerPlayAssists": 0,
               "powerPlayGoals": 0,
               "powerPlayTimeOnIce": "0:03",
               "shortHandedAssists": 0,
               "shortHandedGoals": 0,
               "shortHandedTimeOnIce": "2:39",
               "shots": 0,
               "takeaways": 0,
               "timeOnIce": "12:27"
              }
             }
            },
            "ID8478470": {
             "jerseyNumber": "35",
             "person": {
              "fullName": "Sam Montembeault",
              "id": 8478470,
              "link": "/api/v1/people/8478470",
              "rosterStatus": "Y",
              "shootsCatches": "L"
             },
             "position": {
              "abbreviation": "N/A",
              "code": "N/A",
              "name": "Unknown",
              "type": "Unknown"
             },
             "stats": {}
            },
            "ID8478477": {
             "jerseyNumber": "13",
             "person": {
              "fullName": "Mitchell Stephens",
              "id": 8478477,
              "link": "/api/v1/people/8478477",
              "rosterStatus": "N",
              "shootsCatches": "R"
             },
             "position": {
              "abbreviation": "N/A",
              "code": "N/A",
              "name": "Unknown",
              "type": "Unknown"
             },
             "stats": {}
            },
            "ID8479543": {
             "jerseyNumber": "55",
             "person": {
              "fullName": "Michael Pezzetta",
              "id": 8479543,
              "link": "/api/v1/people/8479543",
              "rosterStatus": "Y",
              "shootsCatches": "L"
             },
             "position": {
              "abbreviation": "N/A",
              "code": "N/A",
              "name": "Unknown",
              "type": "Unknown"
             },
             "stats": {}
            },
            "ID8480018": {
             "jerseyNumber": "14",
             "person": {
              "fullName": "Nick Suzuki",
              "id": 8480018,
              "link": "/api/v1/people/8480018",
              "rosterStatus": "Y",
              "shootsCatches": "R"
             },
             "position": {
              "abbreviation": "C",
              "code": "C",
              "name": "Center",
              "type": "Forward"
             },
             "stats": {
              "skaterStats": {
               "assists": 2,
               "blocked": 0,
               "evenTimeOnIce": "14:41",
               "faceOffPct": 54,
               "faceOffWins": 7,
               "faceoffTaken": 13,
               "giveaways": 0,
               "goals": 1,
               "hits": 3,
               "penaltyMinutes": 2,
               "plusMinus": 1,
               "powerPlayAssists": 1,
               "powerPlayGoals": 0,
               "powerPlayTimeOnIce": "2:25",
               "shortHandedAssists": 0,
               "shortHandedGoals": 0,
               "shortHandedTimeOnIce": "2:05",
               "shots": 1,
               "takeaways": 1,
               "timeOnIce": "19:11"
              }
             }
            },
            "ID8480051": {
             "jerseyNumber": "30",
             "person": {
              "fullName": "Cayden Primeau",
              "id": 8480051,
              "link": "/api/v1/people/8480051",
              "rosterStatus": "Y",
              "shootsCatches": "L"
             },
             "position": {
              "abbreviation": "G",
              "code": "G",
              "name": "Goalie",
              "type": "Goalie"
             },
             "stats": {
              "goalieStats": {
               "assists": 0,
               "evenSaves": 0,
               "evenShotsAgainst": 0,
               "goals": 0,
               "pim": 0,
               "powerPlaySaves": 0,
               "powerPlayShotsAgainst": 0,
               "saves": 0,
               "shortHandedSaves": 0,
               "shortHandedShotsAgainst": 0,
               "shots": 0,
               "timeOnIce": "0:00"
              }
             }
            },
            "ID8480072": {
             "jerseyNumber": "24",
             "person": {
              "fullName": "Lias Andersson",
              "id": 8480072,
              "link": "/api/v1/people/8480072",
              "rosterStatus": "N",
              "shootsCatches": "L"
             },
             "position": {
              "abbreviation": "N/A",
              "code": "N/A",
              "name": "Unknown",
              "type": "Unknown"
             },
             "stats": {}
            },
            "ID8480184": {
             "jerseyNumber": "27",
             "person": {
              "fullName": "Gustav Lindström",
              "id": 8480184,
              "link": "/api/v1/people/8480184",
              "rosterStatus": "Y",
              "shootsCatches": "R"
             },
             "position": {
              "abbreviation": "N/A",
              "code": "N/A",
              "name": "Unknown",
              "type": "Unknown"
             },
             "stats": {}
            },
            "ID8480192": {
             "jerseyNumber": "26",
             "person": {
              "fullName": "Johnathan Kovacevic",
              "id": 8480192,
              "link": "/api/v1/people/8480192",
              "rosterStatus": "Y",
              "shootsCatches": "R"
             },
             "position": {
              "abbreviation": "D",
              "code": "D",
              "name": "Defenseman",
              "type": "Defenseman"
             },
             "stats": {
              "skaterStats": {
               "assists": 1,
               "blocked": 0,
               "evenTimeOnIce": "13:24",
               "faceOffWins": 0,
               "faceoffTaken": 0,
               "giveaways": 0,
               "goals": 1,
               "hits": 2,
               "penaltyMinutes": 0,
               "plusMinus": 0,
               "powerPlayAssists": 0,
               "powerPlayGoals": 0,
               "powerPlayTimeOnIce": "0:08",
               "shortHandedAssists": 1,
               "shortHandedGoals": 0,
               "shortHandedTimeOnIce": "3:15",
               "shots": 2,
               "takeaways": 1,
               "timeOnIce": "16:47"
              }
             }
            },
            "ID8480814": {
             "jerseyNumber": "92",
             "person": {
              "fullName": "Nicolas Beaudin",
              "id": 8480814,
              "link": "/api/v1/people/8480814",
              "rosterStatus": "N",
              "shootsCatches": "L"
             },
             "position": {
              "abbreviation": "N/A",
              "code": "N/A",
              "name": "Unknown",
              "type": "Unknown"
             },
             "stats": {}
            },
            "ID8480887": {
             "jerseyNumber": "54",
             "person": {
              "fullName": "Jordan Harris",
              "id": 8480887,
              "link": "/api/v1/people/8480887",
              "rosterStatus": "Y",
              "shootsCatches": "L"
             },
             "position": {
              "abbreviation": "D",
              "code": "D",
              "name": "Defenseman",
              "type": "Defenseman"
             },
             "stats": {
              "skaterStats": {
               "assists": 1,
               "blocked": 2,
               "evenTimeOnIce": "17:49",
               "faceOffWins": 0,
               "faceoffTaken": 0,
               "giveaways": 0,
               "goals": 0,
               "hits": 2,
               "penaltyMinutes": 0,
               "plusMinus": 2,
               "powerPlayAssists": 0,
               "powerPlayGoals": 0,
               "powerPlayTimeOnIce": "0:00",
               "shortHandedAssists": 0,
               "shortHandedGoals": 0,
               "shortHandedTimeOnIce": "5:13",
               "shots": 0,
               "takeaways": 0,
               "timeOnIce": "23:02"
              }
             }
            },
            "ID8481058": {
             "jerseyNumber": "56",
             "person": {
              "fullName": "Jesse Ylönen",
              "id": 8481058,
              "link": "/api/v1/people/8481058",
              "rosterStatus": "Y",
              "shootsCatches": "R"
             },
             "position": {
              "abbreviation": "RW",
              "code": "R",
              "name": "Right Wing",
              "type": "Forward"
             },
             "stats": {
              "skaterStats": {
               "assists": 0,
               "blocked": 0,
               "evenTimeOnIce": "7:32",
               "faceOffWins": 0,
               "faceoffTaken": 0,
               "giveaways": 0,
               "goals": 0,
               "hits": 0,
               "penaltyMinutes": 0,
               "plusMinus": 0,
               "powerPlayAssists": 0,
               "powerPlayGoals": 0,
               "powerPlayTimeOnIce": "1:53",
               "shortHandedAssists": 0,
               "shortHandedGoals": 0,
               "shortHandedTimeOnIce": "3:38",
               "shots": 3,
               "takeaways": 0,
               "timeOnIce": "13:03"
              }
             }
            },
            "ID8481078": {
             "person": {
              "fullName": "Jakov Novak",
              "id": 8481078,
              "link": "/api/v1/people/8481078",
              "rosterStatus": "N",
              "shootsCatches": "L"
             },
             "position": {
              "abbreviation": "N/A",
              "code": "N/A",
              "name": "Unknown",
              "type": "Unknown"
             },
             "stats": {}
            },
            "ID8481093": {
             "jerseyNumber": "49",
             "person": {
              "fullName": "Rafael Harvey-Pinard",
              "id": 8481093,
              "link": "/api/v1/people/8481093",
              "rosterStatus": "Y",
              "shootsCatches": "L"
             },
             "position": {
              "abbreviation": "LW",
              "code": "L",
              "name": "Left Wing",
              "type": "Forward"
             },
             "stats": {
              "skaterStats": {
               "assists": 0,
               "blocked": 0,
               "evenTimeOnIce": "10:19",
               "faceOffWins": 0,
               "faceoffTaken": 0,
               "giveaways": 0,
               "goals": 0,
               "hits": 2,
               "penaltyMinutes": 0,
               "plusMinus": 1,
               "powerPlayAssists": 0,
               "powerPlayGoals": 0,
               "powerPlayTimeOnIce": "0:00",
               "shortHandedAssists": 0,
               "shortHandedGoals": 0,
               "shortHandedTimeOnIce": "2:53",
               "shots": 1,
               "takeaways": 0,
               "timeOnIce": "13:12"
              }
             }
            },
            "ID8481442": {
             "jerseyNumber": "36",
             "person": {
              "fullName": "Brady Keeper",
              "id": 8481442,
              "link": "/api/v1/people/8481442",
              "rosterStatus": "N",
              "shootsCatches": "R"
             },
             "position": {
              "abbreviation": "N/A",
              "code": "N/A",
              "name": "Unknown",
              "type": "Unknown"
             },
             "stats": {}
            },
            "ID8481523": {
             "jerseyNumber": "77",
             "person": {
              "fullName": "Kirby Dach",
              "id": 8481523,
              "link": "/api/v1/people/8481523",
              "rosterStatus": "Y",
              "shootsCatches": "R"
             },
             "position": {
              "abbreviation": "C",
              "code": "C",
              "name": "Center",
              "type": "Forward"
             },
             "stats": {
              "skaterStats": {
               "assists": 1,
               "blocked": 0,
               "evenTimeOnIce": "13:43",
               "faceOffPct": 30,
               "faceOffWins": 3,
               "faceoffTaken": 10,
               "giveaways": 0,
               "goals": 1,
               "hits": 1,
               "penaltyMinutes": 0,
               "plusMinus": 3,
               "powerPlayAssists": 0,
               "powerPlayGoals": 0,
               "powerPlayTimeOnIce": "2:22",
               "shortHandedAssists": 0,
               "shortHandedGoals": 1,
               "shortHandedTimeOnIce": "2:04",
               "shots": 3,
               "takeaways": 0,
               "timeOnIce": "18:09"
              }
             }
            },
            "ID8481540": {
             "jerseyNumber": "22",
             "person": {
              "fullName": "Cole Caufield",
              "id": 8481540,
              "link": "/api/v1/people/8481540",
              "rosterStatus": "Y",
              "shootsCatches": "R"
             },
             "position": {
              "abbreviation": "RW",
              "code": "R",
              "name": "Right Wing",
              "type": "Forward"
             },
             "stats": {
              "skaterStats": {
               "assists": 1,
               "blocked": 0,
               "evenTimeOnIce": "14:07",
               "faceOffWins": 0,
               "faceoffTaken": 0,
               "giveaways": 1,
               "goals": 0,
               "hits": 1,
               "penaltyMinutes": 0,
               "plusMinus": 1,
               "powerPlayAssists": 0,
               "powerPlayGoals": 0,
               "powerPlayTimeOnIce": "2:24",
               "shortHandedAssists": 0,
               "shortHandedGoals": 0,
               "shortHandedTimeOnIce": "0:00",
               "shots": 2,
               "takeaways": 0,
               "timeOnIce": "16:31"
              }
             }
            },
            "ID8481555": {
             "jerseyNumber": "59",
             "person": {
              "fullName": "Mattias Norlinder",
              "id": 8481555,
              "link": "/api/v1/people/8481555",
              "rosterStatus": "Y",
              "shootsCatches": "L"
             },
             "position": {
              "abbreviation": "D",
              "code": "D",
              "name": "Defenseman",
              "type": "Defenseman"
             },
             "stats": {
              "skaterStats": {
               "assists": 0,
               "blocked": 0,
               "evenTimeOnIce": "16:20",
               "faceOffWins": 0,
               "faceoffTaken": 0,
               "giveaways": 1,
               "goals": 1,
               "hits": 1,
               "penaltyMinutes": 0,
               "plusMinus": 0,
               "powerPlayAssists": 0,
               "powerPlayGoals": 1,
               "powerPlayTimeOnIce": "2:24",
               "shortHandedAssists": 0,
               "shortHandedGoals": 0,
               "shortHandedTimeOnIce": "0:13",
               "shots": 2,
               "takeaways": 0,
               "timeOnIce": "18:57"
              }
             }
            },
            "ID8481593": {
             "jerseyNumber": "47",
             "person": {
              "fullName": "Jayden Struble",
              "id": 8481593,
              "link": "/api/v1/people/8481593",
              "rosterStatus": "N",
              "shootsCatches": "L"
             },
             "position": {
              "abbreviation": "N/A",
              "code": "N/A",
              "name": "Unknown",
              "type": "Unknown"
             },
             "stats": {}
            },
            "ID8481594": {
             "jerseyNumber": "32",
             "person": {
              "fullName": "Nathan Légaré",
              "id": 8481594,
              "link": "/api/v1/people/8481594",
              "rosterStatus": "N",
              "shootsCatches": "R"
             },
             "position": {
              "abbreviation": "N/A",
              "code": "N/A",
              "name": "Unknown",
              "type": "Unknown"
             },
             "stats": {}
            },
            "ID8481618": {
             "jerseyNumber": "15",
             "person": {
              "fullName": "Alex Newhook",
              "id": 8481618,
              "link": "/api/v1/people/8481618",
              "rosterStatus": "Y",
              "shootsCatches": "L"
             },
             "position": {
              "abbreviation": "N/A",
              "code": "N/A",
              "name": "Unknown",
              "type": "Unknown"
             },
             "stats": {}
            },
            "ID8481746": {
             "person": {
              "fullName": "Rhett Pitlick",
              "id": 8481746,
              "link": "/api/v1/people/8481746",
              "rosterStatus": "N",
              "shootsCatches": "L"
             },
             "position": {
              "abbreviation": "N/A",
              "code": "N/A",
              "name": "Unknown",
              "type": "Unknown"
             },
             "stats": {}
            },
            "ID8481794": {
             "jerseyNumber": "43",
             "person": {
              "fullName": "Xavier Simoneau",
              "id": 8481794,
              "link": "/api/v1/people/8481794",
              "rosterStatus": "N",
              "shootsCatches": "L"
             },
             "position": {
              "abbreviation": "N/A",
              "code": "N/A",
              "name": "Unknown",
              "type": "Unknown"
             },
             "stats": {}
            },
            "ID8482081": {
             "jerseyNumber": "57",
             "person": {
              "fullName": "Sean Farrell",
              "id": 8482081,
              "link": "/api/v1/people/8482081",
              "rosterStatus": "N",
              "shootsCatches": "L"
             },
             "position": {
              "abbreviation": "N/A",
              "code": "N/A",
              "name": "Unknown",
              "type": "Unknown"
             },
             "stats": {}
            },
            "ID8482087": {
             "jerseyNumber": "21",
             "person": {
              "fullName": "Kaiden Guhle",
              "id": 8482087,
              "link": "/api/v1/people/8482087",
              "rosterStatus": "Y",
              "shootsCatches": "L"
             },
             "position": {
              "abbreviation": "N/A",
              "code": "N/A",
              "name": "Unknown",
              "type": "Unknown"
             },
             "stats": {}
            },
            "ID8482104": {
             "jerseyNumber": "83",
             "person": {
              "fullName": "Ty Smilanic",
              "id": 8482104,
              "link": "/api/v1/people/8482104",
              "rosterStatus": "N",
              "shootsCatches": "L"
             },
             "position": {
              "abbreviation": "N/A",
              "code": "N/A",
              "name": "Unknown",
              "type": "Unknown"
             },
             "stats": {}
            },
            "ID8482111": {
             "jerseyNumber": "52",
             "person": {
              "fullName": "Justin Barron",
              "id": 8482111,
              "link": "/api/v1/people/8482111",
              "rosterStatus": "Y",
              "shootsCatches": "R"
             },
             "position": {
              "abbreviation": "N/A",
              "code": "N/A",
              "name": "Unknown",
              "type": "Unknown"
             },
             "stats": {}
            },
            "ID8482114": {
             "person": {
              "fullName": "Blake Biondi",
              "id": 8482114,
              "link": "/api/v1/people/8482114",
              "rosterStatus": "N",
              "shootsCatches": "R"
             },
             "position": {
              "abbreviation": "N/A",
              "code": "N/A",
              "name": "Unknown",
              "type": "Unknown"
             },
             "stats": {}
            },
            "ID8482134": {
             "person": {
              "fullName": "Luke Tuch",
              "id": 8482134,
              "link": "/api/v1/people/8482134",
              "rosterStatus": "N",
              "shootsCatches": "L"
             },
             "position": {
              "abbreviation": "N/A",
              "code": "N/A",
              "name": "Unknown",
              "type": "Unknown"
             },
             "stats": {}
            },
            "ID8482136": {
             "jerseyNumber": "53",
             "person": {
              "fullName": "Jan Mysak",
              "id": 8482136,
              "link": "/api/v1/people/8482136",
              "rosterStatus": "N",
              "shootsCatches": "L"
             },
             "position": {
              "abbreviation": "N/A",
              "code": "N/A",
              "name": "Unknown",
              "type": "Unknown"
             },
             "stats": {}
            },
            "ID8482476": {
             "jerseyNumber": "51",
             "person": {
              "fullName": "Emil Heineman",
              "id": 8482476,
              "link": "/api/v1/people/8482476",
              "rosterStatus": "Y",
              "shootsCatches": "L"
             },
             "position": {
              "abbreviation": "LW",
              "code": "L",
              "name": "Left Wing",
              "type": "Forward"
             },
             "stats": {
              "skaterStats": {
               "assists": 0,
               "blocked": 0,
               "evenTimeOnIce": "9:23",
               "faceOffPct": 100,
               "faceOffWins": 1,
               "faceoffTaken": 1,
               "giveaways": 0,
               "goals": 0,
               "hits": 4,
               "penaltyMinutes": 0,
               "plusMinus": -2,
               "powerPlayAssists": 0,
               "powerPlayGoals": 0,
               "powerPlayTimeOnIce": "0:00",
               "shortHandedAssists": 0,
               "shortHandedGoals": 0,
               "shortHandedTimeOnIce": "2:02",
               "shots": 1,
               "takeaways": 0,
               "timeOnIce": "11:25"
              }
             }
            },
            "ID8482487": {
             "jerseyNumber": "75",
             "person": {
              "fullName": "Jakub Dobes",
              "id": 8482487,
              "link": "/api/v1/people/8482487",
              "rosterStatus": "N",
              "shootsCatches": "L"
             },
             "position": {
              "abbreviation": "N/A",
              "code": "N/A",
              "name": "Unknown",
              "type": "Unknown"
             },
             "stats": {}
            },
            "ID8482497": {
             "person": {
              "fullName": "Alexander Gordin",
              "id": 8482497,
              "link": "/api/v1/people/8482497",
              "rosterStatus": "N",
              "shootsCatches": "L"
             },
             "position": {
              "abbreviation": "N/A",
              "code": "N/A",
              "name": "Unknown",
              "type": "Unknown"
             },
             "stats": {}
            },
            "ID8482514": {
             "person": {
              "fullName": "Jack Smith",
              "id": 8482514,
              "link": "/api/v1/people/8482514",
              "rosterStatus": "N",
              "shootsCatches": "L"
             },
             "position": {
              "abbreviation": "N/A",
              "code": "N/A",
              "name": "Unknown",
              "type": "Unknown"
             },
             "stats": {}
            },
            "ID8482669": {
             "jerseyNumber": "39",
             "person": {
              "fullName": "Joe Vrbetic",
              "id": 8482669,
              "link": "/api/v1/people/8482669",
              "rosterStatus": "N",
              "shootsCatches": "L"
             },
             "position": {
              "abbreviation": "N/A",
              "code": "N/A",
              "name": "Unknown",
              "type": "Unknown"
             },
             "stats": {}
            },
            "ID8482687": {
             "person": {
              "fullName": "Luke Mittelstadt",
              "id": 8482687,
              "link": "/api/v1/people/8482687",
              "rosterStatus": "N",
              "shootsCatches": "L"
             },
             "position": {
              "abbreviation": "N/A",
              "code": "N/A",
              "name": "Unknown",
              "type": "Unknown"
             },
             "stats": {}
            },
            "ID8482710": {
             "person": {
              "fullName": "Dmitri Kostenko",
              "id": 8482710,
              "link": "/api/v1/people/8482710",
              "rosterStatus": "N",
              "shootsCatches": "R"
             },
             "position": {
              "abbreviation": "N/A",
              "code": "N/A",
              "name": "Unknown",
              "type": "Unknown"
             },
             "stats": {}
            },
            "ID8482717": {
             "jerseyNumber": "51",
             "person": {
              "fullName": "Daniil Sobolev",
              "id": 8482717,
              "link": "/api/v1/people/8482717",
              "rosterStatus": "N",
              "shootsCatches": "R"
             },
             "position": {
              "abbreviation": "N/A",
              "code": "N/A",
              "name": "Unknown",
              "type": "Unknown"
             },
             "stats": {}
            },
            "ID8482733": {
             "jerseyNumber": "94",
             "person": {
              "fullName": "Logan Mailloux",
              "id": 8482733,
              "link": "/api/v1/people/8482733",
              "rosterStatus": "N",
              "shootsCatches": "R"
             },
             "position": {
              "abbreviation": "D",
              "code": "D",
              "name": "Defenseman",
              "type": "Defenseman"
             },
             "stats": {
              "skaterStats": {
               "assists": 0,
               "blocked": 4,
               "evenTimeOnIce": "16:27",
               "faceOffWins": 0,
               "faceoffTaken": 0,
               "giveaways": 2,
               "goals": 0,
               "hits": 2,
               "penaltyMinutes": 2,
               "plusMinus": 0,
               "powerPlayAssists": 0,
               "powerPlayGoals": 0,
               "powerPlayTimeOnIce": "2:08",
               "shortHandedAssists": 0,
               "shortHandedGoals": 0,
               "shortHandedTimeOnIce": "0:15",
               "shots": 1,
               "takeaways": 0,
               "timeOnIce": "18:50"
              }
             }
            },
            "ID8482749": {
             "jerseyNumber": "97",
             "person": {
              "fullName": "Joshua Roy",
              "id": 8482749,
              "link": "/api/v1/people/8482749",
              "rosterStatus": "N",
              "shootsCatches": "L"
             },
             "position": {
              "abbreviation": "N/A",
              "code": "N/A",
              "name": "Unknown",
              "type": "Unknown"
             },
             "stats": {}
            },
            "ID8482775": {
             "person": {
              "fullName": "Oliver Kapanen",
              "id": 8482775,
              "link": "/api/v1/people/8482775",
              "rosterStatus": "N",
              "shootsCatches": "R"
             },
             "position": {
              "abbreviation": "N/A",
              "code": "N/A",
              "name": "Unknown",
              "type": "Unknown"
             },
             "stats": {}
            },
            "ID8482806": {
             "jerseyNumber": "84",
             "person": {
              "fullName": "William Trudeau",
              "id": 8482806,
              "link": "/api/v1/people/8482806",
              "rosterStatus": "N",
              "shootsCatches": "L"
             },
             "position": {
              "abbreviation": "N/A",
              "code": "N/A",
              "name": "Unknown",
              "type": "Unknown"
             },
             "stats": {}
            },
            "ID8482828": {
             "jerseyNumber": "86",
             "person": {
              "fullName": "Riley Kidney",
              "id": 8482828,
              "link": "/api/v1/people/8482828",
              "rosterStatus": "N",
              "shootsCatches": "L"
             },
             "position": {
              "abbreviation": "N/A",
              "code": "N/A",
              "name": "Unknown",
              "type": "Unknown"
             },
             "stats": {}
            },
            "ID8482964": {
             "jerseyNumber": "72",
             "person": {
              "fullName": "Arber Xhekaj",
              "id": 8482964,
              "link": "/api/v1/people/8482964",
              "rosterStatus": "Y",
              "shootsCatches": "L"
             },
             "position": {
              "abbreviation": "D",
              "code": "D",
              "name": "Defenseman",
              "type": "Defenseman"
             },
             "stats": {
              "skaterStats": {
               "assists": 1,
               "blocked": 0,
               "evenTimeOnIce": "13:31",
               "faceOffWins": 0,
               "faceoffTaken": 0,
               "giveaways": 0,
               "goals": 0,
               "hits": 3,
               "penaltyMinutes": 4,
               "plusMinus": -1,
               "powerPlayAssists": 0,
               "powerPlayGoals": 0,
               "powerPlayTimeOnIce": "0:10",
               "shortHandedAssists": 0,
               "shortHandedGoals": 0,
               "shortHandedTimeOnIce": "2:53",
               "shots": 4,
               "takeaways": 0,
               "timeOnIce": "16:34"
              }
             }
            },
            "ID8483092": {
             "jerseyNumber": "93",
             "person": {
              "fullName": "Miguël Tourigny",
              "id": 8483092,
              "link": "/api/v1/people/8483092",
              "rosterStatus": "N",
              "shootsCatches": "R"
             },
             "position": {
              "abbreviation": "N/A",
              "code": "N/A",
              "name": "Unknown",
              "type": "Unknown"
             },
             "stats": {}
            },
            "ID8483424": {
             "jerseyNumber": "62",
             "person": {
              "fullName": "Owen Beck",
              "id": 8483424,
              "link": "/api/v1/people/8483424",
              "rosterStatus": "N",
              "shootsCatches": "R"
             },
             "position": {
              "abbreviation": "N/A",
              "code": "N/A",
              "name": "Unknown",
              "type": "Unknown"
             },
             "stats": {}
            },
            "ID8483457": {
             "person": {
              "fullName": "Lane Hutson",
              "id": 8483457,
              "link": "/api/v1/people/8483457",
              "rosterStatus": "N",
              "shootsCatches": "L"
             },
             "position": {
              "abbreviation": "N/A",
              "code": "N/A",
              "name": "Unknown",
              "type": "Unknown"
             },
             "stats": {}
            },
            "ID8483488": {
             "jerseyNumber": "48",
             "person": {
              "fullName": "Filip Mesar",
              "id": 8483488,
              "link": "/api/v1/people/8483488",
              "rosterStatus": "N",
              "shootsCatches": "R"
             },
             "position": {
              "abbreviation": "N/A",
              "code": "N/A",
              "name": "Unknown",
              "type": "Unknown"
             },
             "stats": {}
            },
            "ID8483507": {
             "person": {
              "fullName": "Vinzenz Rohrer",
              "id": 8483507,
              "link": "/api/v1/people/8483507",
              "rosterStatus": "N",
              "shootsCatches": "R"
             },
             "position": {
              "abbreviation": "N/A",
              "code": "N/A",
              "name": "Unknown",
              "type": "Unknown"
             },
             "stats": {}
            },
            "ID8483515": {
             "jerseyNumber": "20",
             "person": {
              "fullName": "Juraj Slafkovsky",
              "id": 8483515,
              "link": "/api/v1/people/8483515",
              "rosterStatus": "Y",
              "shootsCatches": "L"
             },
             "position": {
              "abbreviation": "LW",
              "code": "L",
              "name": "Left Wing",
              "type": "Forward"
             },
             "stats": {
              "skaterStats": {
               "assists": 1,
               "blocked": 0,
               "evenTimeOnIce": "11:37",
               "faceOffPct": 0,
               "faceOffWins": 0,
               "faceoffTaken": 1,
               "giveaways": 1,
               "goals": 0,
               "hits": 0,
               "penaltyMinutes": 0,
               "plusMinus": 1,
               "powerPlayAssists": 0,
               "powerPlayGoals": 0,
               "powerPlayTimeOnIce": "2:02",
               "shortHandedAssists": 0,
               "shortHandedGoals": 0,
               "shortHandedTimeOnIce": "0:00",
               "shots": 0,
               "takeaways": 0,
               "timeOnIce": "13:39"
              }
             }
            },
            "ID8483549": {
             "jerseyNumber": "82",
             "person": {
              "fullName": "Lucas Condotta",
              "id": 8483549,
              "link": "/api/v1/people/8483549",
              "rosterStatus": "N",
              "shootsCatches": "L"
             },
             "position": {
              "abbreviation": "N/A",
              "code": "N/A",
              "name": "Unknown",
              "type": "Unknown"
             },
             "stats": {}
            },
            "ID8483686": {
             "person": {
              "fullName": "Adam Engstrom",
              "id": 8483686,
              "link": "/api/v1/people/8483686",
              "rosterStatus": "N",
              "shootsCatches": "L"
             },
             "position": {
              "abbreviation": "N/A",
              "code": "N/A",
              "name": "Unknown",
              "type": "Unknown"
             },
             "stats": {}
            },
            "ID8483723": {
             "jerseyNumber": "89",
             "person": {
              "fullName": "Cedrick Guindon",
              "id": 8483723,
              "link": "/api/v1/people/8483723",
              "rosterStatus": "N",
              "shootsCatches": "L"
             },
             "position": {
              "abbreviation": "N/A",
              "code": "N/A",
              "name": "Unknown",
              "type": "Unknown"
             },
             "stats": {}
            },
            "ID8483724": {
             "person": {
              "fullName": "Petteri Nurmi",
              "id": 8483724,
              "link": "/api/v1/people/8483724",
              "rosterStatus": "N",
              "shootsCatches": "L"
             },
             "position": {
              "abbreviation": "N/A",
              "code": "N/A",
              "name": "Unknown",
              "type": "Unknown"
             },
             "stats": {}
            },
            "ID8483728": {
             "jerseyNumber": "76",
             "person": {
              "fullName": "Jared Davidson",
              "id": 8483728,
              "link": "/api/v1/people/8483728",
              "rosterStatus": "N",
              "shootsCatches": "L"
             },
             "position": {
              "abbreviation": "N/A",
              "code": "N/A",
              "name": "Unknown",
              "type": "Unknown"
             },
             "stats": {}
            },
            "ID8483765": {
             "person": {
              "fullName": "Emmett Croteau",
              "id": 8483765,
              "link": "/api/v1/people/8483765",
              "rosterStatus": "N",
              "shootsCatches": "L"
             },
             "position": {
              "abbreviation": "N/A",
              "code": "N/A",
              "name": "Unknown",
              "type": "Unknown"
             },
             "stats": {}
            },
            "ID8484170": {
             "person": {
              "fullName": "Jacob Fowler",
              "id": 8484170,
              "link": "/api/v1/people/8484170",
              "rosterStatus": "N",
              "shootsCatches": "L"
             },
             "position": {
              "abbreviation": "N/A",
              "code": "N/A",
              "name": "Unknown",
              "type": "Unknown"
             },
             "stats": {}
            },
            "ID8484220": {
             "jerseyNumber": "64",
             "person": {
              "fullName": "David Reinbacher",
              "id": 8484220,
              "link": "/api/v1/people/8484220",
              "rosterStatus": "N",
              "shootsCatches": "R"
             },
             "position": {
              "abbreviation": "N/A",
              "code": "N/A",
              "name": "Unknown",
              "type": "Unknown"
             },
             "stats": {}
            },
            "ID8484403": {
             "jerseyNumber": "96",
             "person": {
              "fullName": "Florian Xhekaj",
              "id": 8484403,
              "link": "/api/v1/people/8484403",
              "rosterStatus": "N",
              "shootsCatches": "L"
             },
             "position": {
              "abbreviation": "N/A",
              "code": "N/A",
              "name": "Unknown",
              "type": "Unknown"
             },
             "stats": {}
            },
            "ID8484410": {
             "person": {
              "fullName": "Bogdan Konyushkov",
              "id": 8484410,
              "link": "/api/v1/people/8484410",
              "rosterStatus": "N",
              "shootsCatches": "R"
             },
             "position": {
              "abbreviation": "N/A",
              "code": "N/A",
              "name": "Unknown",
              "type": "Unknown"
             },
             "stats": {}
            },
            "ID8484416": {
             "person": {
              "fullName": "Quentin Miller",
              "id": 8484416,
              "link": "/api/v1/people/8484416",
              "rosterStatus": "N",
              "shootsCatches": "L"
             },
             "position": {
              "abbreviation": "N/A",
              "code": "N/A",
              "name": "Unknown",
              "type": "Unknown"
             },
             "stats": {}
            },
            "ID8484422": {
             "person": {
              "fullName": "Sam Harris",
              "id": 8484422,
              "link": "/api/v1/people/8484422",
              "rosterStatus": "N",
              "shootsCatches": "L"
             },
             "position": {
              "abbreviation": "N/A",
              "code": "N/A",
              "name": "Unknown",
              "type": "Unknown"
             },
             "stats": {}
            },
            "ID8484424": {
             "person": {
              "fullName": "Yevgeni Volokhin",
              "id": 8484424,
              "link": "/api/v1/people/8484424",
              "rosterStatus": "N",
              "shootsCatches": "L"
             },
             "position": {
              "abbreviation": "N/A",
              "code": "N/A",
              "name": "Unknown",
              "type": "Unknown"
             },
             "stats": {}
            },
            "ID8484448": {
             "person": {
              "fullName": "Filip Eriksson",
              "id": 8484448,
              "link": "/api/v1/people/8484448",
              "rosterStatus": "N",
              "shootsCatches": "L"
             },
             "position": {
              "abbreviation": "N/A",
              "code": "N/A",
              "name": "Unknown",
              "type": "Unknown"
             },
             "stats": {}
            },
            "ID8484503": {
             "person": {
              "fullName": "Isaac Dufort",
              "id": 8484503,
              "link": "/api/v1/people/8484503",
              "rosterStatus": "N",
              "shootsCatches": "L"
             },
             "position": {
              "abbreviation": "N/A",
              "code": "N/A",
              "name": "Unknown",
              "type": "Unknown"
             },
             "stats": {}
            }
           },
           "scratches": [
            8483686,
            8484410,
            8483724,
            8482710,
            8482775,
            8483457,
            8484422,
            8482497,
            8484170,
            8481746,
            8484448,
            8481078,
            8484503,
            8484416,
            8482134,
            8483765,
            8484424,
            8482114,
            8482687,
            8482514,
            8483507,
            8475227,
            8476875,
            8478477,
            8481618,
            8482087,
            8480072,
            8480184,
            8477989,
            8471679,
            8481594,
            8478470,
            8481442,
            8482669,
            8476469,
            8481794,
            8481593,
            8483488,
            8482717,
            8482111,
            8482136,
            8479543,
            8482081,
            8477544,
            8483424,
            8484220,
            8482487,
            8483728,
            8483549,
            8482104,
            8482806,
            8482828,
            8483723,
            8480814,
            8483092,
            8484403,
            8482749
           ],
           "skaters": [
            8475848,
            8480018,
            8476981,
            8483515,
            8481540,
            8480192,
            8481093,
            8482476,
            8480887,
            8481058,
            8475233,
            8481555,
            8476871,
            8478133,
            8482964,
            8481523,
            8477497,
            8482733,
            8483686,
            8484410,
            8483724,
            8482710,
            8482775,
            8483457,
            8484422,
            8482497,
            8484170,
            8481746,
            8484448,
            8481078,
            8484503,
            8484416,
            8482134,
            8483765,
            8484424,
            8482114,
            8482687,
            8482514,
            8483507,
            8475227,
            8476875,
            8478477,
            8481618,
            8482087,
            8480072,
            8480184,
            8477989,
            8471679,
            8481594,
            8478470,
            8481442,
            8482669,
            8476469,
            8481794,
            8481593,
            8483488,
            8482717,
            8482111,
            8482136,
            8479543,
            8482081,
            8477544,
            8483424,
            8484220,
            8482487,
            8483728,
            8483549,
            8482104,
            8482806,
            8482828,
            8483723,
            8480814,
            8483092,
            8484403,
            8482749
           ],
           "team": {
            "abbreviation": "MTL",
            "id": 8,
            "link": "/api/v1/teams/8",
            "name": "Montréal Canadiens",
            "triCode": "MTL"
           },
           "teamStats": {
            "teamSkaterStats": {
             "blocked": 9,
             "faceOffWinPercentage": "57.4",
             "giveaways": 8,
             "goals": 5,
             "hits": 25,
             "pim": 12,
             "powerPlayGoals": 1,
             "powerPlayOpportunities": 3,
             "powerPlayPercentage": "33.3",
             "shots": 26,
             "takeaways": 2
            }
           }
          },
          "home": {
           "coaches": [
            {
             "person": {
              "fullName": "Sheldon Keefe",
              "link": "/api/v1/people/null"
             },
             "position": {
              "abbreviation": "Head Coach",
              "code": "HC",
              "name": "Head Coach",
              "type": "Head Coach"
             }
            }
           ],
           "goalies": [
            8478492,
            8479975
           ],
           "onIce": [],
           "onIcePlus": [],
           "penaltyBox": [],
           "players": {
            "ID8470966": {
             "jerseyNumber": "55",
             "person": {
              "fullName": "Mark Giordano",
              "id": 8470966,
              "link": "/api/v1/people/8470966",
              "rosterStatus": "Y",
              "shootsCatches": "L"
             },
             "position": {
              "abbreviation": "N/A",
              "code": "N/A",
              "name": "Unknown",
              "type": "Unknown"
             },
             "stats": {}
            },
            "ID8471817": {
             "jerseyNumber": "75",
             "person": {
              "fullName": "Ryan Reaves",
              "id": 8471817,
              "link": "/api/v1/people/8471817",
              "rosterStatus": "Y",
              "shootsCatches": "R"
             },
             "position": {
              "abbreviation": "RW",
              "code": "R",
              "name": "Right Wing",
              "type": "Forward"
             },
             "stats": {
              "skaterStats": {
               "assists": 1,
               "blocked": 0,
               "evenTimeOnIce": "11:03",
               "faceOffWins": 0,
               "faceoffTaken": 0,
               "giveaways": 0,
               "goals": 0,
               "hits": 2,
               "penaltyMinutes": 0,
               "plusMinus": 1,
               "powerPlayAssists": 0,
               "powerPlayGoals": 0,
               "powerPlayTimeOnIce": "0:00",
               "shortHandedAssists": 0,
               "shortHandedGoals": 0,
               "shortHandedTimeOnIce": "0:00",
               "shots": 0,
               "takeaways": 0,
               "timeOnIce": "11:03"
              }
             }
            },
            "ID8474162": {
             "jerseyNumber": "8",
             "person": {
              "fullName": "Jake Muzzin",
              "id": 8474162,
              "link": "/api/v1/people/8474162",
              "rosterStatus": "I",
              "shootsCatches": "L"
             },
             "position": {
              "abbreviation": "N/A",
              "code": "N/A",
              "name": "Unknown",
              "type": "Unknown"
             },
             "stats": {}
            },
            "ID8474673": {
             "jerseyNumber": "78",
             "person": {
              "fullName": "TJ Brodie",
              "id": 8474673,
              "link": "/api/v1/people/8474673",
              "rosterStatus": "Y",
              "shootsCatches": "L"
             },
             "position": {
              "abbreviation": "D",
              "code": "D",
              "name": "Defenseman",
              "type": "Defenseman"
             },
             "stats": {
              "skaterStats": {
               "assists": 0,
               "blocked": 2,
               "evenTimeOnIce": "16:58",
               "faceOffWins": 0,
               "faceoffTaken": 0,
               "giveaways": 0,
               "goals": 0,
               "hits": 2,
               "penaltyMinutes": 0,
               "plusMinus": -1,
               "powerPlayAssists": 0,
               "powerPlayGoals": 0,
               "powerPlayTimeOnIce": "0:33",
               "shortHandedAssists": 0,
               "shortHandedGoals": 0,
               "shortHandedTimeOnIce": "2:04",
               "shots": 1,
               "takeaways": 0,
               "timeOnIce": "19:35"
              }
             }
            },
            "ID8474889": {
             "jerseyNumber": "31",
             "person": {
              "fullName": "Martin Jones",
              "id": 8474889,
              "link": "/api/v1/people/8474889",
              "rosterStatus": "Y",
              "shootsCatches": "L"
             },
             "position": {
              "abbreviation": "N/A",
              "code": "N/A",
              "name": "Unknown",
              "type": "Unknown"
             },
             "stats": {}
            },
            "ID8475160": {
             "jerseyNumber": "43",
             "person": {
              "fullName": "Kyle Clifford",
              "id": 8475160,
              "link": "/api/v1/people/8475160",
              "rosterStatus": "Y",
              "shootsCatches": "L"
             },
             "position": {
              "abbreviation": "N/A",
              "code": "N/A",
              "name": "Unknown",
              "type": "Unknown"
             },
             "stats": {}
            },
            "ID8475166": {
             "jerseyNumber": "91",
             "person": {
              "fullName": "John Tavares",
              "id": 8475166,
              "link": "/api/v1/people/8475166",
              "rosterStatus": "Y",
              "shootsCatches": "L"
             },
             "position": {
              "abbreviation": "C",
              "code": "C",
              "name": "Center",
              "type": "Forward"
             },
             "stats": {
              "skaterStats": {
               "assists": 0,
               "blocked": 1,
               "evenTimeOnIce": "11:44",
               "faceOffPct": 71,
               "faceOffWins": 12,
               "faceoffTaken": 17,
               "giveaways": 0,
               "goals": 2,
               "hits": 2,
               "penaltyMinutes": 2,
               "plusMinus": 0,
               "powerPlayAssists": 0,
               "powerPlayGoals": 1,
               "powerPlayTimeOnIce": "6:57",
               "shortHandedAssists": 0,
               "shortHandedGoals": 0,
               "shortHandedTimeOnIce": "0:00",
               "shots": 5,
               "takeaways": 0,
               "timeOnIce": "18:41"
              }
             }
            },
            "ID8475714": {
             "jerseyNumber": "19",
             "person": {
              "fullName": "Calle Jarnkrok",
              "id": 8475714,
              "link": "/api/v1/people/8475714",
              "rosterStatus": "Y",
              "shootsCatches": "R"
             },
             "position": {
              "abbreviation": "N/A",
              "code": "N/A",
              "name": "Unknown",
              "type": "Unknown"
             },
             "stats": {}
            },
            "ID8475906": {
             "jerseyNumber": "3",
             "person": {
              "fullName": "John Klingberg",
              "id": 8475906,
              "link": "/api/v1/people/8475906",
              "rosterStatus": "Y",
              "shootsCatches": "R"
             },
             "position": {
              "abbreviation": "N/A",
              "code": "N/A",
              "name": "Unknown",
              "type": "Unknown"
             },
             "stats": {}
            },
            "ID8476853": {
             "jerseyNumber": "44",
             "person": {
              "fullName": "Morgan Rielly",
              "id": 8476853,
              "link": "/api/v1/people/8476853",
              "rosterStatus": "Y",
              "shootsCatches": "L"
             },
             "position": {
              "abbreviation": "D",
              "code": "D",
              "name": "Defenseman",
              "type": "Defenseman"
             },
             "stats": {
              "skaterStats": {
               "assists": 0,
               "blocked": 0,
               "evenTimeOnIce": "15:22",
               "faceOffWins": 0,
               "faceoffTaken": 0,
               "giveaways": 0,
               "goals": 0,
               "hits": 2,
               "penaltyMinutes": 0,
               "plusMinus": -2,
               "powerPlayAssists": 0,
               "powerPlayGoals": 0,
               "powerPlayTimeOnIce": "6:17",
               "shortHandedAssists": 0,
               "shortHandedGoals": 0,
               "shortHandedTimeOnIce": "0:58",
               "shots": 1,
               "takeaways": 1,
               "timeOnIce": "22:37"
              }
             }
            },
            "ID8476899": {
             "jerseyNumber": "30",
             "person": {
              "fullName": "Matt Murray",
              "id": 8476899,
              "link": "/api/v1/people/8476899",
              "rosterStatus": "N",
              "shootsCatches": "L"
             },
             "position": {
              "abbreviation": "N/A",
              "code": "N/A",
              "name": "Unknown",
              "type": "Unknown"
             },
             "stats": {}
            },
            "ID8476931": {
             "jerseyNumber": "22",
             "person": {
              "fullName": "Jake McCabe",
              "id": 8476931,
              "link": "/api/v1/people/8476931",
              "rosterStatus": "Y",
              "shootsCatches": "L"
             },
             "position": {
              "abbreviation": "D",
              "code": "D",
              "name": "Defenseman",
              "type": "Defenseman"
             },
             "stats": {
              "skaterStats": {
               "assists": 0,
               "blocked": 2,
               "evenTimeOnIce": "16:52",
               "faceOffWins": 0,
               "faceoffTaken": 0,
               "giveaways": 0,
               "goals": 0,
               "hits": 1,
               "penaltyMinutes": 0,
               "plusMinus": 2,
               "powerPlayAssists": 0,
               "powerPlayGoals": 0,
               "powerPlayTimeOnIce": "0:18",
               "shortHandedAssists": 0,
               "shortHandedGoals": 0,
               "shortHandedTimeOnIce": "2:14",
               "shots": 1,
               "takeaways": 0,
               "timeOnIce": "19:24"
              }
             }
            },
            "ID8477374": {
             "jerseyNumber": "94",
             "person": {
              "fullName": "Fabrice Herzog",
              "id": 8477374,
              "link": "/api/v1/people/8477374",
              "rosterStatus": "N",
              "shootsCatches": "L"
             },
             "position": {
              "abbreviation": "N/A",
              "code": "N/A",
              "name": "Unknown",
              "type": "Unknown"
             },
             "stats": {}
            },
            "ID8477479": {
             "jerseyNumber": "59",
             "person": {
              "fullName": "Tyler Bertuzzi",
              "id": 8477479,
              "link": "/api/v1/people/8477479",
              "rosterStatus": "Y",
              "shootsCatches": "L"
             },
             "position": {
              "abbreviation": "LW",
              "code": "L",
              "name": "Left Wing",
              "type": "Forward"
             },
             "stats": {
              "skaterStats": {
               "assists": 0,
               "blocked": 0,
               "evenTimeOnIce": "12:54",
               "faceOffWins": 0,
               "faceoffTaken": 0,
               "giveaways": 0,
               "goals": 0,
               "hits": 0,
               "penaltyMinutes": 0,
               "plusMinus": -1,
               "powerPlayAssists": 0,
               "powerPlayGoals": 0,
               "powerPlayTimeOnIce": "2:23",
               "shortHandedAssists": 0,
               "shortHandedGoals": 0,
               "shortHandedTimeOnIce": "0:00",
               "shots": 3,
               "takeaways": 0,
               "timeOnIce": "15:17"
              }
             }
            },
            "ID8477503": {
             "jerseyNumber": "11",
             "person": {
              "fullName": "Max Domi",
              "id": 8477503,
              "link": "/api/v1/people/8477503",
              "rosterStatus": "Y",
              "shootsCatches": "L"
             },
             "position": {
              "abbreviation": "C",
              "code": "C",
              "name": "Center",
              "type": "Forward"
             },
             "stats": {
              "skaterStats": {
               "assists": 0,
               "blocked": 0,
               "evenTimeOnIce": "10:09",
               "faceOffPct": 29,
               "faceOffWins": 2,
               "faceoffTaken": 7,
               "giveaways": 1,
               "goals": 1,
               "hits": 2,
               "penaltyMinutes": 2,
               "plusMinus": 0,
               "powerPlayAssists": 0,
               "powerPlayGoals": 0,
               "powerPlayTimeOnIce": "1:19",
               "shortHandedAssists": 0,
               "shortHandedGoals": 0,
               "shortHandedTimeOnIce": "0:00",
               "shots": 1,
               "takeaways": 0,
               "timeOnIce": "11:28"
              }
             }
            },
            "ID8477939": {
             "jerseyNumber": "88",
             "person": {
              "fullName": "William Nylander",
              "id": 8477939,
              "link": "/api/v1/people/8477939",
              "rosterStatus": "Y",
              "shootsCatches": "R"
             },
             "position": {
              "abbreviation": "RW",
              "code": "R",
              "name": "Right Wing",
              "type": "Forward"
             },
             "stats": {
              "skaterStats": {
               "assists": 1,
               "blocked": 0,
               "evenTimeOnIce": "10:04",
               "faceOffPct": 25,
               "faceOffWins": 1,
               "faceoffTaken": 4,
               "giveaways": 0,
               "goals": 0,
               "hits": 0,
               "penaltyMinutes": 2,
               "plusMinus": 0,
               "powerPlayAssists": 0,
               "powerPlayGoals": 0,
               "powerPlayTimeOnIce": "7:14",
               "shortHandedAssists": 0,
               "shortHandedGoals": 0,
               "shortHandedTimeOnIce": "0:00",
               "shots": 1,
               "takeaways": 1,
               "timeOnIce": "17:18"
              }
             }
            },
            "ID8478021": {
             "jerseyNumber": "85",
             "person": {
              "fullName": "William Lagesson",
              "id": 8478021,
              "link": "/api/v1/people/8478021",
              "rosterStatus": "Y",
              "shootsCatches": "L"
             },
             "position": {
              "abbreviation": "N/A",
              "code": "N/A",
              "name": "Unknown",
              "type": "Unknown"
             },
             "stats": {}
            },
            "ID8478043": {
             "jerseyNumber": "28",
             "person": {
              "fullName": "Sam Lafferty",
              "id": 8478043,
              "link": "/api/v1/people/8478043",
              "rosterStatus": "Y",
              "shootsCatches": "R"
             },
             "position": {
              "abbreviation": "C",
              "code": "C",
              "name": "Center",
              "type": "Forward"
             },
             "stats": {
              "skaterStats": {
               "assists": 1,
               "blocked": 1,
               "evenTimeOnIce": "12:14",
               "faceOffPct": 0,
               "faceOffWins": 0,
               "faceoffTaken": 2,
               "giveaways": 0,
               "goals": 0,
               "hits": 3,
               "penaltyMinutes": 0,
               "plusMinus": 1,
               "powerPlayAssists": 0,
               "powerPlayGoals": 0,
               "powerPlayTimeOnIce": "0:00",
               "shortHandedAssists": 0,
               "shortHandedGoals": 0,
               "shortHandedTimeOnIce": "1:39",
               "shots": 2,
               "takeaways": 0,
               "timeOnIce": "13:53"
              }
             }
            },
            "ID8478483": {
             "jerseyNumber": "16",
             "person": {
              "fullName": "Mitchell Marner",
              "id": 8478483,
              "link": "/api/v1/people/8478483",
              "rosterStatus": "Y",
              "shootsCatches": "R"
             },
             "position": {
              "abbreviation": "RW",
              "code": "R",
              "name": "Right Wing",
              "type": "Forward"
             },
             "stats": {
              "skaterStats": {
               "assists": 0,
               "blocked": 0,
               "evenTimeOnIce": "12:24",
               "faceOffWins": 0,
               "faceoffTaken": 0,
               "giveaways": 1,
               "goals": 0,
               "hits": 1,
               "penaltyMinutes": 0,
               "plusMinus": -1,
               "powerPlayAssists": 0,
               "powerPlayGoals": 0,
               "powerPlayTimeOnIce": "7:23",
               "shortHandedAssists": 0,
               "shortHandedGoals": 0,
               "shortHandedTimeOnIce": "1:44",
               "shots": 1,
               "takeaways": 3,
               "timeOnIce": "21:31"
              }
             }
            },
            "ID8478492": {
             "jerseyNumber": "35",
             "person": {
              "fullName": "Ilya Samsonov",
              "id": 8478492,
              "link": "/api/v1/people/8478492",
              "rosterStatus": "Y",
              "shootsCatches": "L"
             },
             "position": {
              "abbreviation": "G",
              "code": "G",
              "name": "Goalie",
              "type": "Goalie"
             },
             "stats": {
              "goalieStats": {
               "assists": 0,
               "evenSaves": 18,
               "evenShotsAgainst": 21,
               "evenStrengthSavePercentage": 85.71428571428571,
               "goals": 0,
               "pim": 0,
               "powerPlaySavePercentage": 75,
               "powerPlaySaves": 3,
               "powerPlayShotsAgainst": 4,
               "savePercentage": 80.76923076923077,
               "saves": 21,
               "shortHandedSavePercentage": 0,
               "shortHandedSaves": 0,
               "shortHandedShotsAgainst": 1,
               "shots": 26,
               "timeOnIce": "60:29"
              }
             }
            },
            "ID8479318": {
             "jerseyNumber": "34",
             "person": {
              "fullName": "Auston Matthews",
              "id": 8479318,
              "link": "/api/v1/people/8479318",
              "rosterStatus": "Y",
              "shootsCatches": "L"
             },
             "position": {
              "abbreviation": "C",
              "code": "C",
              "name": "Center",
              "type": "Forward"
             },
             "stats": {
              "skaterStats": {
               "assists": 1,
               "blocked": 0,
               "evenTimeOnIce": "12:13",
               "faceOffPct": 31,
               "faceOffWins": 4,
               "faceoffTaken": 13,
               "giveaways": 2,
               "goals": 0,
               "hits": 0,
               "penaltyMinutes": 0,
               "plusMinus": -1,
               "powerPlayAssists": 1,
               "powerPlayGoals": 0,
               "powerPlayTimeOnIce": "7:59",
               "shortHandedAssists": 0,
               "shortHandedGoals": 0,
               "shortHandedTimeOnIce": "1:39",
               "shots": 8,
               "takeaways": 0,
               "timeOnIce": "21:51"
              }
             }
            },
            "ID8479320": {
             "jerseyNumber": "48",
             "person": {
              "fullName": "Max Lajoie",
              "id": 8479320,
              "link": "/api/v1/people/8479320",
              "rosterStatus": "Y",
              "shootsCatches": "L"
             },
             "position": {
              "abbreviation": "N/A",
              "code": "N/A",
              "name": "Unknown",
              "type": "Unknown"
             },
             "stats": {}
            },
            "ID8479361": {
             "jerseyNumber": "60",
             "person": {
              "fullName": "Joseph Woll",
              "id": 8479361,
              "link": "/api/v1/people/8479361",
              "rosterStatus": "Y",
              "shootsCatches": "L"
             },
             "position": {
              "abbreviation": "N/A",
              "code": "N/A",
              "name": "Unknown",
              "type": "Unknown"
             },
             "stats": {}
            },
            "ID8479393": {
             "jerseyNumber": "18",
             "person": {
              "fullName": "Noah Gregor",
              "id": 8479393,
              "link": "/api/v1/people/8479393",
              "rosterStatus": "N",
              "shootsCatches": "L"
             },
             "position": {
              "abbreviation": "C",
              "code": "C",
              "name": "Center",
              "type": "Forward"
             },
             "stats": {
              "skaterStats": {
               "assists": 0,
               "blocked": 1,
               "evenTimeOnIce": "12:01",
               "faceOffWins": 0,
               "faceoffTaken": 0,
               "giveaways": 1,
               "goals": 1,
               "hits": 1,
               "penaltyMinutes": 0,
               "plusMinus": 1,
               "powerPlayAssists": 0,
               "powerPlayGoals": 0,
               "powerPlayTimeOnIce": "0:00",
               "shortHandedAssists": 0,
               "shortHandedGoals": 0,
               "shortHandedTimeOnIce": "1:06",
               "shots": 1,
               "takeaways": 0,
               "timeOnIce": "13:07"
              }
             }
            },
            "ID8479528": {
             "person": {
              "fullName": "Vladimir Bobylev",
              "id": 8479528,
              "link": "/api/v1/people/8479528",
              "rosterStatus": "N",
              "shootsCatches": "L"
             },
             "position": {
              "abbreviation": "N/A",
              "code": "N/A",
              "name": "Unknown",
              "type": "Unknown"
             },
             "stats": {}
            },
            "ID8479580": {
             "jerseyNumber": "57",
             "person": {
              "fullName": "Dylan Gambrell",
              "id": 8479580,
              "link": "/api/v1/people/8479580",
              "rosterStatus": "Y",
              "shootsCatches": "R"
             },
             "position": {
              "abbreviation": "N/A",
              "code": "N/A",
              "name": "Unknown",
              "type": "Unknown"
             },
             "stats": {}
            },
            "ID8479599": {
             "person": {
              "fullName": "Nikolai Chebykin",
              "id": 8479599,
              "link": "/api/v1/people/8479599",
              "rosterStatus": "N",
              "shootsCatches": "L"
             },
             "position": {
              "abbreviation": "N/A",
              "code": "N/A",
              "name": "Unknown",
              "type": "Unknown"
             },
             "stats": {}
            },
            "ID8479975": {
             "jerseyNumber": "80",
             "person": {
              "fullName": "Keith Petruzzelli",
              "id": 8479975,
              "link": "/api/v1/people/8479975",
              "rosterStatus": "Y",
              "shootsCatches": "L"
             },
             "position": {
              "abbreviation": "G",
              "code": "G",
              "name": "Goalie",
              "type": "Goalie"
             },
             "stats": {
              "goalieStats": {
               "assists": 0,
               "evenSaves": 0,
               "evenShotsAgainst": 0,
               "goals": 0,
               "pim": 0,
               "powerPlaySaves": 0,
               "powerPlayShotsAgainst": 0,
               "saves": 0,
               "shortHandedSaves": 0,
               "shortHandedShotsAgainst": 0,
               "shots": 0,
               "timeOnIce": "0:00"
              }
             }
            },
            "ID8479982": {
             "jerseyNumber": "25",
             "person": {
              "fullName": "Conor Timmins",
              "id": 8479982,
              "link": "/api/v1/people/8479982",
              "rosterStatus": "Y",
              "shootsCatches": "R"
             },
             "position": {
              "abbreviation": "N/A",
              "code": "N/A",
              "name": "Unknown",
              "type": "Unknown"
             },
             "stats": {}
            },
            "ID8480043": {
             "jerseyNumber": "37",
             "person": {
              "fullName": "Timothy Liljegren",
              "id": 8480043,
              "link": "/api/v1/people/8480043",
              "rosterStatus": "Y",
              "shootsCatches": "R"
             },
             "position": {
              "abbreviation": "D",
              "code": "D",
              "name": "Defenseman",
              "type": "Defenseman"
             },
             "stats": {
              "skaterStats": {
               "assists": 2,
               "blocked": 1,
               "evenTimeOnIce": "17:29",
               "faceOffWins": 0,
               "faceoffTaken": 0,
               "giveaways": 1,
               "goals": 0,
               "hits": 2,
               "penaltyMinutes": 0,
               "plusMinus": 1,
               "powerPlayAssists": 1,
               "powerPlayGoals": 0,
               "powerPlayTimeOnIce": "3:10",
               "shortHandedAssists": 0,
               "shortHandedGoals": 0,
               "shortHandedTimeOnIce": "2:22",
               "shots": 1,
               "takeaways": 0,
               "timeOnIce": "23:01"
              }
             }
            },
            "ID8480144": {
             "jerseyNumber": "64",
             "person": {
              "fullName": "David Kampf",
              "id": 8480144,
              "link": "/api/v1/people/8480144",
              "rosterStatus": "Y",
              "shootsCatches": "L"
             },
             "position": {
              "abbreviation": "C",
              "code": "C",
              "name": "Center",
              "type": "Forward"
             },
             "stats": {
              "skaterStats": {
               "assists": 0,
               "blocked": 0,
               "evenTimeOnIce": "12:44",
               "faceOffPct": 36,
               "faceOffWins": 4,
               "faceoffTaken": 11,
               "giveaways": 0,
               "goals": 0,
               "hits": 4,
               "penaltyMinutes": 0,
               "plusMinus": 0,
               "powerPlayAssists": 0,
               "powerPlayGoals": 0,
               "powerPlayTimeOnIce": "0:12",
               "shortHandedAssists": 0,
               "shortHandedGoals": 0,
               "shortHandedTimeOnIce": "1:12",
               "shots": 1,
               "takeaways": 2,
               "timeOnIce": "14:08"
              }
             }
            },
            "ID8480284": {
             "person": {
              "fullName": "Vladislav Kara",
              "id": 8480284,
              "link": "/api/v1/people/8480284",
              "rosterStatus": "N",
              "shootsCatches": "L"
             },
             "position": {
              "abbreviation": "N/A",
              "code": "N/A",
              "name": "Unknown",
              "type": "Unknown"
             },
             "stats": {}
            },
            "ID8480995": {
             "jerseyNumber": "29",
             "person": {
              "fullName": "Pontus Holmberg",
              "id": 8480995,
              "link": "/api/v1/people/8480995",
              "rosterStatus": "Y",
              "shootsCatches": "L"
             },
             "position": {
              "abbreviation": "N/A",
              "code": "N/A",
              "name": "Unknown",
              "type": "Unknown"
             },
             "stats": {}
            },
            "ID8481054": {
             "person": {
              "fullName": "Semyon Kizimov",
              "id": 8481054,
              "link": "/api/v1/people/8481054",
              "rosterStatus": "N",
              "shootsCatches": "L"
             },
             "position": {
              "abbreviation": "N/A",
              "code": "N/A",
              "name": "Unknown",
              "type": "Unknown"
             },
             "stats": {}
            },
            "ID8481122": {
             "jerseyNumber": "2",
             "person": {
              "fullName": "Simon Benoit",
              "id": 8481122,
              "link": "/api/v1/people/8481122",
              "rosterStatus": "Y",
              "shootsCatches": "L"
             },
             "position": {
              "abbreviation": "D",
              "code": "D",
              "name": "Defenseman",
              "type": "Defenseman"
             },
             "stats": {
              "skaterStats": {
               "assists": 0,
               "blocked": 1,
               "evenTimeOnIce": "13:07",
               "faceOffWins": 0,
               "faceoffTaken": 0,
               "giveaways": 1,
               "goals": 0,
               "hits": 2,
               "penaltyMinutes": 0,
               "plusMinus": 0,
               "powerPlayAssists": 0,
               "powerPlayGoals": 0,
               "powerPlayTimeOnIce": "0:00",
               "shortHandedAssists": 0,
               "shortHandedGoals": 0,
               "shortHandedTimeOnIce": "1:13",
               "shots": 0,
               "takeaways": 0,
               "timeOnIce": "14:20"
              }
             }
            },
            "ID8481565": {
             "person": {
              "fullName": "Michael Koster",
              "id": 8481565,
              "link": "/api/v1/people/8481565",
              "rosterStatus": "N",
              "shootsCatches": "L"
             },
             "position": {
              "abbreviation": "N/A",
              "code": "N/A",
              "name": "Unknown",
              "type": "Unknown"
             },
             "stats": {}
            },
            "ID8481582": {
             "jerseyNumber": "89",
             "person": {
              "fullName": "Nicholas Robertson",
              "id": 8481582,
              "link": "/api/v1/people/8481582",
              "rosterStatus": "I",
              "shootsCatches": "L"
             },
             "position": {
              "abbreviation": "LW",
              "code": "L",
              "name": "Left Wing",
              "type": "Forward"
             },
             "stats": {
              "skaterStats": {
               "assists": 0,
               "blocked": 1,
               "evenTimeOnIce": "8:54",
               "faceOffWins": 0,
               "faceoffTaken": 0,
               "giveaways": 0,
               "goals": 0,
               "hits": 3,
               "penaltyMinutes": 2,
               "plusMinus": -1,
               "powerPlayAssists": 0,
               "powerPlayGoals": 0,
               "powerPlayTimeOnIce": "1:19",
               "shortHandedAssists": 0,
               "shortHandedGoals": 0,
               "shortHandedTimeOnIce": "0:00",
               "shots": 0,
               "takeaways": 0,
               "timeOnIce": "10:13"
              }
             }
            },
            "ID8481614": {
             "jerseyNumber": "84",
             "person": {
              "fullName": "Mikko Kokkonen",
              "id": 8481614,
              "link": "/api/v1/people/8481614",
              "rosterStatus": "Y",
              "shootsCatches": "L"
             },
             "position": {
              "abbreviation": "D",
              "code": "D",
              "name": "Defenseman",
              "type": "Defenseman"
             },
             "stats": {
              "skaterStats": {
               "assists": 0,
               "blocked": 2,
               "evenTimeOnIce": "12:46",
               "faceOffWins": 0,
               "faceoffTaken": 0,
               "giveaways": 0,
               "goals": 0,
               "hits": 3,
               "penaltyMinutes": 0,
               "plusMinus": 0,
               "powerPlayAssists": 0,
               "powerPlayGoals": 0,
               "powerPlayTimeOnIce": "0:00",
               "shortHandedAssists": 0,
               "shortHandedGoals": 0,
               "shortHandedTimeOnIce": "0:00",
               "shots": 0,
               "takeaways": 0,
               "timeOnIce": "12:46"
              }
             }
            },
            "ID8481720": {
             "jerseyNumber": "26",
             "person": {
              "fullName": "Nick Abruzzese",
              "id": 8481720,
              "link": "/api/v1/people/8481720",
              "rosterStatus": "Y",
              "shootsCatches": "L"
             },
             "position": {
              "abbreviation": "N/A",
              "code": "N/A",
              "name": "Unknown",
              "type": "Unknown"
             },
             "stats": {}
            },
            "ID8482130": {
             "jerseyNumber": "33",
             "person": {
              "fullName": "Roni Hirvonen",
              "id": 8482130,
              "link": "/api/v1/people/8482130",
              "rosterStatus": "Y",
              "shootsCatches": "L"
             },
             "position": {
              "abbreviation": "N/A",
              "code": "N/A",
              "name": "Unknown",
              "type": "Unknown"
             },
             "stats": {}
            },
            "ID8482158": {
             "jerseyNumber": "47",
             "person": {
              "fullName": "Topi Niemela",
              "id": 8482158,
              "link": "/api/v1/people/8482158",
              "rosterStatus": "N",
              "shootsCatches": "R"
             },
             "position": {
              "abbreviation": "N/A",
              "code": "N/A",
              "name": "Unknown",
              "type": "Unknown"
             },
             "stats": {}
            },
            "ID8482174": {
             "jerseyNumber": "76",
             "person": {
              "fullName": "William Villeneuve",
              "id": 8482174,
              "link": "/api/v1/people/8482174",
              "rosterStatus": "N",
              "shootsCatches": "R"
             },
             "position": {
              "abbreviation": "N/A",
              "code": "N/A",
              "name": "Unknown",
              "type": "Unknown"
             },
             "stats": {}
            },
            "ID8482200": {
             "person": {
              "fullName": "Wyatt Schingoethe",
              "id": 8482200,
              "link": "/api/v1/people/8482200",
              "rosterStatus": "N",
              "shootsCatches": "L"
             },
             "position": {
              "abbreviation": "N/A",
              "code": "N/A",
              "name": "Unknown",
              "type": "Unknown"
             },
             "stats": {}
            },
            "ID8482259": {
             "jerseyNumber": "74",
             "person": {
              "fullName": "Bobby McMann",
              "id": 8482259,
              "link": "/api/v1/people/8482259",
              "rosterStatus": "Y",
              "shootsCatches": "L"
             },
             "position": {
              "abbreviation": "N/A",
              "code": "N/A",
              "name": "Unknown",
              "type": "Unknown"
             },
             "stats": {}
            },
            "ID8482488": {
             "jerseyNumber": "97",
             "person": {
              "fullName": "Dmitry Ovchinnikov",
              "id": 8482488,
              "link": "/api/v1/people/8482488",
              "rosterStatus": "N",
              "shootsCatches": "L"
             },
             "position": {
              "abbreviation": "N/A",
              "code": "N/A",
              "name": "Unknown",
              "type": "Unknown"
             },
             "stats": {}
            },
            "ID8482515": {
             "person": {
              "fullName": "Artur Akhtyamov",
              "id": 8482515,
              "link": "/api/v1/people/8482515",
              "rosterStatus": "N",
              "shootsCatches": "L"
             },
             "position": {
              "abbreviation": "N/A",
              "code": "N/A",
              "name": "Unknown",
              "type": "Unknown"
             },
             "stats": {}
            },
            "ID8482519": {
             "person": {
              "fullName": "Veeti Miettinen",
              "id": 8482519,
              "link": "/api/v1/people/8482519",
              "rosterStatus": "N",
              "shootsCatches": "L"
             },
             "position": {
              "abbreviation": "N/A",
              "code": "N/A",
              "name": "Unknown",
              "type": "Unknown"
             },
             "stats": {}
            },
            "ID8482520": {
             "person": {
              "fullName": "Joe Miller",
              "id": 8482520,
              "link": "/api/v1/people/8482520",
              "rosterStatus": "N",
              "shootsCatches": "R"
             },
             "position": {
              "abbreviation": "N/A",
              "code": "N/A",
              "name": "Unknown",
              "type": "Unknown"
             },
             "stats": {}
            },
            "ID8482522": {
             "person": {
              "fullName": "John Fusco",
              "id": 8482522,
              "link": "/api/v1/people/8482522",
              "rosterStatus": "N",
              "shootsCatches": "R"
             },
             "position": {
              "abbreviation": "N/A",
              "code": "N/A",
              "name": "Unknown",
              "type": "Unknown"
             },
             "stats": {}
            },
            "ID8482525": {
             "jerseyNumber": "77",
             "person": {
              "fullName": "Ryan Tverberg",
              "id": 8482525,
              "link": "/api/v1/people/8482525",
              "rosterStatus": "Y",
              "shootsCatches": "R"
             },
             "position": {
              "abbreviation": "N/A",
              "code": "N/A",
              "name": "Unknown",
              "type": "Unknown"
             },
             "stats": {}
            },
            "ID8482634": {
             "jerseyNumber": "46",
             "person": {
              "fullName": "Alex Steeves",
              "id": 8482634,
              "link": "/api/v1/people/8482634",
              "rosterStatus": "Y",
              "shootsCatches": "L"
             },
             "position": {
              "abbreviation": "N/A",
              "code": "N/A",
              "name": "Unknown",
              "type": "Unknown"
             },
             "stats": {}
            },
            "ID8482720": {
             "jerseyNumber": "23",
             "person": {
              "fullName": "Matthew Knies",
              "id": 8482720,
              "link": "/api/v1/people/8482720",
              "rosterStatus": "Y",
              "shootsCatches": "L"
             },
             "position": {
              "abbreviation": "LW",
              "code": "L",
              "name": "Left Wing",
              "type": "Forward"
             },
             "stats": {
              "skaterStats": {
               "assists": 0,
               "blocked": 0,
               "evenTimeOnIce": "13:17",
               "faceOffWins": 0,
               "faceoffTaken": 0,
               "giveaways": 0,
               "goals": 0,
               "hits": 1,
               "penaltyMinutes": 0,
               "plusMinus": -1,
               "powerPlayAssists": 0,
               "powerPlayGoals": 0,
               "powerPlayTimeOnIce": "1:57",
               "shortHandedAssists": 0,
               "shortHandedGoals": 0,
               "shortHandedTimeOnIce": "1:29",
               "shots": 2,
               "takeaways": 1,
               "timeOnIce": "16:43"
              }
             }
            },
            "ID8482741": {
             "jerseyNumber": "63",
             "person": {
              "fullName": "Braeden Kressler",
              "id": 8482741,
              "link": "/api/v1/people/8482741",
              "rosterStatus": "N",
              "shootsCatches": "R"
             },
             "position": {
              "abbreviation": "N/A",
              "code": "N/A",
              "name": "Unknown",
              "type": "Unknown"
             },
             "stats": {}
            },
            "ID8482880": {
             "jerseyNumber": "49",
             "person": {
              "fullName": "Ty Voit",
              "id": 8482880,
              "link": "/api/v1/people/8482880",
              "rosterStatus": "N",
              "shootsCatches": "R"
             },
             "position": {
              "abbreviation": "N/A",
              "code": "N/A",
              "name": "Unknown",
              "type": "Unknown"
             },
             "stats": {}
            },
            "ID8482940": {
             "jerseyNumber": "50",
             "person": {
              "fullName": "Vyacheslav Peksa",
              "id": 8482940,
              "link": "/api/v1/people/8482940",
              "rosterStatus": "N",
              "shootsCatches": "L"
             },
             "position": {
              "abbreviation": "N/A",
              "code": "N/A",
              "name": "Unknown",
              "type": "Unknown"
             },
             "stats": {}
            },
            "ID8483006": {
             "person": {
              "fullName": "Landon McCallum",
              "id": 8483006,
              "link": "/api/v1/people/8483006",
              "rosterStatus": "N",
              "shootsCatches": "R"
             },
             "position": {
              "abbreviation": "N/A",
              "code": "N/A",
              "name": "Unknown",
              "type": "Unknown"
             },
             "stats": {}
            },
            "ID8483107": {
             "person": {
              "fullName": "Jacob Frasca",
              "id": 8483107,
              "link": "/api/v1/people/8483107",
              "rosterStatus": "N",
              "shootsCatches": "R"
             },
             "position": {
              "abbreviation": "N/A",
              "code": "N/A",
              "name": "Unknown",
              "type": "Unknown"
             },
             "stats": {}
            },
            "ID8483489": {
             "jerseyNumber": "39",
             "person": {
              "fullName": "Fraser Minten",
              "id": 8483489,
              "link": "/api/v1/people/8483489",
              "rosterStatus": "Y",
              "shootsCatches": "L"
             },
             "position": {
              "abbreviation": "N/A",
              "code": "N/A",
              "name": "Unknown",
              "type": "Unknown"
             },
             "stats": {}
            },
            "ID8483492": {
             "person": {
              "fullName": "Nicholas Moldenhauer",
              "id": 8483492,
              "link": "/api/v1/people/8483492",
              "rosterStatus": "N",
              "shootsCatches": "R"
             },
             "position": {
              "abbreviation": "N/A",
              "code": "N/A",
              "name": "Unknown",
              "type": "Unknown"
             },
             "stats": {}
            },
            "ID8483546": {
             "jerseyNumber": "83",
             "person": {
              "fullName": "Marshall Rifai",
              "id": 8483546,
              "link": "/api/v1/people/8483546",
              "rosterStatus": "Y",
              "shootsCatches": "L"
             },
             "position": {
              "abbreviation": "N/A",
              "code": "N/A",
              "name": "Unknown",
              "type": "Unknown"
             },
             "stats": {}
            },
            "ID8483566": {
             "jerseyNumber": "90",
             "person": {
              "fullName": "Max Ellis",
              "id": 8483566,
              "link": "/api/v1/people/8483566",
              "rosterStatus": "Y",
              "shootsCatches": "R"
             },
             "position": {
              "abbreviation": "N/A",
              "code": "N/A",
              "name": "Unknown",
              "type": "Unknown"
             },
             "stats": {}
            },
            "ID8483700": {
             "person": {
              "fullName": "Brandon Lisowsky",
              "id": 8483700,
              "link": "/api/v1/people/8483700",
              "rosterStatus": "N",
              "shootsCatches": "L"
             },
             "position": {
              "abbreviation": "N/A",
              "code": "N/A",
              "name": "Unknown",
              "type": "Unknown"
             },
             "stats": {}
            },
            "ID8483710": {
             "jerseyNumber": "41",
             "person": {
              "fullName": "Dennis Hildeby",
              "id": 8483710,
              "link": "/api/v1/people/8483710",
              "rosterStatus": "N",
              "shootsCatches": "L"
             },
             "position": {
              "abbreviation": "N/A",
              "code": "N/A",
              "name": "Unknown",
              "type": "Unknown"
             },
             "stats": {}
            },
            "ID8483733": {
             "person": {
              "fullName": "Nikita Grebenkin",
              "id": 8483733,
              "link": "/api/v1/people/8483733",
              "rosterStatus": "N",
              "shootsCatches": "L"
             },
             "position": {
              "abbreviation": "N/A",
              "code": "N/A",
              "name": "Unknown",
              "type": "Unknown"
             },
             "stats": {}
            },
            "ID8483811": {
             "person": {
              "fullName": "Spencer Sova",
              "id": 8483811,
              "link": "/api/v1/people/8483811",
              "rosterStatus": "N",
              "shootsCatches": "L"
             },
             "position": {
              "abbreviation": "N/A",
              "code": "N/A",
              "name": "Unknown",
              "type": "Unknown"
             },
             "stats": {}
            },
            "ID8484158": {
             "jerseyNumber": "53",
             "person": {
              "fullName": "Easton Cowan",
              "id": 8484158,
              "link": "/api/v1/people/8484158",
              "rosterStatus": "Y",
              "shootsCatches": "L"
             },
             "position": {
              "abbreviation": "N/A",
              "code": "N/A",
              "name": "Unknown",
              "type": "Unknown"
             },
             "stats": {}
            },
            "ID8484438": {
             "person": {
              "fullName": "Hudson Malinoski",
              "id": 8484438,
              "link": "/api/v1/people/8484438",
              "rosterStatus": "N",
              "shootsCatches": "L"
             },
             "position": {
              "abbreviation": "N/A",
              "code": "N/A",
              "name": "Unknown",
              "type": "Unknown"
             },
             "stats": {}
            },
            "ID8484464": {
             "person": {
              "fullName": "Noah Chadwick",
              "id": 8484464,
              "link": "/api/v1/people/8484464",
              "rosterStatus": "N",
              "shootsCatches": "L"
             },
             "position": {
              "abbreviation": "N/A",
              "code": "N/A",
              "name": "Unknown",
              "type": "Unknown"
             },
             "stats": {}
            },
            "ID8484511": {
             "person": {
              "fullName": "Matthew Sop",
              "id": 8484511,
              "link": "/api/v1/people/8484511",
              "rosterStatus": "N",
              "shootsCatches": "L"
             },
             "position": {
              "abbreviation": "N/A",
              "code": "N/A",
              "name": "Unknown",
              "type": "Unknown"
             },
             "stats": {}
            },
            "ID8484512": {
             "person": {
              "fullName": "Pier-Olivier Roy",
              "id": 8484512,
              "link": "/api/v1/people/8484512",
              "rosterStatus": "N",
              "shootsCatches": "L"
             },
             "position": {
              "abbreviation": "N/A",
              "code": "N/A",
              "name": "Unknown",
              "type": "Unknown"
             },
             "stats": {}
            },
            "ID8484513": {
             "person": {
              "fullName": "Lucas Moore",
              "id": 8484513,
              "link": "/api/v1/people/8484513",
              "rosterStatus": "N",
              "shootsCatches": "R"
             },
             "position": {
              "abbreviation": "N/A",
              "code": "N/A",
              "name": "Unknown",
              "type": "Unknown"
             },
             "stats": {}
            },
            "ID8484514": {
             "person": {
              "fullName": "Marco Mignosa",
              "id": 8484514,
              "link": "/api/v1/people/8484514",
              "rosterStatus": "N",
              "shootsCatches": "R"
             },
             "position": {
              "abbreviation": "N/A",
              "code": "N/A",
              "name": "Unknown",
              "type": "Unknown"
             },
             "stats": {}
            },
            "ID8484515": {
             "person": {
              "fullName": "Deagan McMillan",
              "id": 8484515,
              "link": "/api/v1/people/8484515",
              "rosterStatus": "N",
              "shootsCatches": "R"
             },
             "position": {
              "abbreviation": "N/A",
              "code": "N/A",
              "name": "Unknown",
              "type": "Unknown"
             },
             "stats": {}
            },
            "ID8484516": {
             "person": {
              "fullName": "Tyson Greenway",
              "id": 8484516,
              "link": "/api/v1/people/8484516",
              "rosterStatus": "N",
              "shootsCatches": "L"
             },
             "position": {
              "abbreviation": "N/A",
              "code": "N/A",
              "name": "Unknown",
              "type": "Unknown"
             },
             "stats": {}
            },
            "ID8484631": {
             "person": {
              "fullName": "Mazden Leslie",
              "id": 8484631,
              "link": "/api/v1/people/8484631",
              "rosterStatus": "N",
              "shootsCatches": "R"
             },
             "position": {
              "abbreviation": "N/A",
              "code": "N/A",
              "name": "Unknown",
              "type": "Unknown"
             },
             "stats": {}
            }
           },
           "scratches": [
            8482519,
            8480284,
            8481054,
            8481565,
            8484631,
            8483700,
            8484438,
            8483006,
            8484515,
            8482515,
            8484514,
            8482520,
            8483492,
            8484513,
            8484512,
            8482200,
            8484511,
            8483811,
            8484464,
            8483107,
            8482522,
            8483733,
            8484516,
            8479599,
            8479528,
            8475906,
            8474162,
            8475714,
            8479982,
            8481720,
            8480995,
            8476899,
            8474889,
            8482130,
            8483489,
            8483710,
            8475160,
            8482634,
            8482158,
            8479320,
            8482880,
            8482940,
            8484158,
            8470966,
            8479580,
            8479361,
            8482741,
            8482259,
            8482174,
            8482525,
            8483546,
            8478021,
            8483566,
            8477374,
            8482488
           ],
           "skaters": [
            8481122,
            8477503,
            8478483,
            8479393,
            8476931,
            8482720,
            8478043,
            8479318,
            8480043,
            8476853,
            8477479,
            8480144,
            8471817,
            8474673,
            8481614,
            8477939,
            8481582,
            8475166,
            8482519,
            8480284,
            8481054,
            8481565,
            8484631,
            8483700,
            8484438,
            8483006,
            8484515,
            8482515,
            8484514,
            8482520,
            8483492,
            8484513,
            8484512,
            8482200,
            8484511,
            8483811,
            8484464,
            8483107,
            8482522,
            8483733,
            8484516,
            8479599,
            8479528,
            8475906,
            8474162,
            8475714,
            8479982,
            8481720,
            8480995,
            8476899,
            8474889,
            8482130,
            8483489,
            8483710,
            8475160,
            8482634,
            8482158,
            8479320,
            8482880,
            8482940,
            8484158,
            8470966,
            8479580,
            8479361,
            8482741,
            8482259,
            8482174,
            8482525,
            8483546,
            8478021,
            8483566,
            8477374,
            8482488
           ],
           "team": {
            "abbreviation": "TOR",
            "id": 10,
            "link": "/api/v1/teams/10",
            "name": "Toronto Maple Leafs",
            "triCode": "TOR"
           },
           "teamStats": {
            "teamSkaterStats": {
             "blocked": 12,
             "faceOffWinPercentage": "42.6",
             "giveaways": 8,
             "goals": 4,
             "hits": 31,
             "pim": 8,
             "powerPlayGoals": 1,
             "powerPlayOpportunities": 5,
             "powerPlayPercentage": "20.0",
             "shots": 29,
             "takeaways": 8
            }
           }
          }
         }
        },
        "decisions": {
         "firstStar": {
          "fullName": "Kirby Dach",
          "id": 8481523,
          "link": "/api/v1/people/8481523"
         },
         "secondStar": {
          "fullName": "Nick Suzuki",
          "id": 8480018,
          "link": "/api/v1/people/8480018"
         },
         "thirdStar": {
          "fullName": "John Tavares",
          "id": 8475166,
          "link": "/api/v1/people/8475166"
         }
        },
        "linescore": {
         "currentPeriod": 4,
         "currentPeriodOrdinal": "OT",
         "currentPeriodTimeRemaining": "Final",
         "hasShootout": false,
         "intermissionInfo": {
          "inIntermission": false,
          "intermissionTimeElapsed": 0,
          "intermissionTimeRemaining": 0
         },
         "periods": [
          {
           "away": {
            "goals": 1,
            "rinkSide": "left",
            "shotsOnGoal": 8
           },
           "endTime": "2023-10-02T23:42:09Z",
           "home": {
            "goals": 2,
            "rinkSide": "right",
            "shotsOnGoal": 9
           },
           "num": 1,
           "ordinalNum": "1st",
           "periodType": "REGULAR",
           "startTime": "2023-10-02T23:08:08Z"
          },
          {
           "away": {
            "goals": 1,
            "rinkSide": "right",
            "shotsOnGoal": 6
           },
           "endTime": "2023-10-03T00:38:31Z",
           "home": {
            "goals": 1,
            "rinkSide": "left",
            "shotsOnGoal": 9
           },
           "num": 2,
           "ordinalNum": "2nd",
           "periodType": "REGULAR",
           "startTime": "2023-10-03T00:00:55Z"
          },
          {
           "away": {
            "goals": 2,
            "rinkSide": "left",
            "shotsOnGoal": 11
           },
           "endTime": "2023-10-03T01:32:39Z",
           "home": {
            "goals": 1,
            "rinkSide": "right",
            "shotsOnGoal": 11
           },
           "num": 3,
           "ordinalNum": "3rd",
           "periodType": "REGULAR",
           "startTime": "2023-10-03T00:57:52Z"
          },
          {
           "away": {
            "goals": 1,
            "rinkSide": "right",
            "shotsOnGoal": 1
           },
           "endTime": "2023-10-03T01:35:32Z",
           "home": {
            "goals": 0,
            "rinkSide": "left",
            "shotsOnGoal": 0
           },
           "num": 4,
           "ordinalNum": "OT",
           "periodType": "OVERTIME",
           "startTime": "2023-10-03T01:35:01Z"
          }
         ],
         "powerPlayStrength": "Even",
         "shootoutInfo": {
          "away": {
           "attempts": 0,
           "scores": 0
          },
          "home": {
           "attempts": 0,
           "scores": 0
          }
         },
         "teams": {
          "away": {
           "goaliePulled": false,
           "goals": 5,
           "numSkaters": 0,
           "powerPlay": false,
           "shotsOnGoal": 26,
           "team": {
            "abbreviation": "MTL",
            "id": 8,
            "link": "/api/v1/teams/8",
            "name": "Montréal Canadiens",
            "triCode": "MTL"
           }
          },
          "home": {
           "goaliePulled": false,
           "goals": 4,
           "numSkaters": 0,
           "powerPlay": false,
           "shotsOnGoal": 29,
           "team": {
            "abbreviation": "TOR",
            "id": 10,
            "link": "/api/v1/teams/10",
            "name": "Toronto Maple Leafs",
            "triCode": "TOR"
           }
          }
         }
        },
        "plays": {
         "allPlays": [
          {
           "about": {
            "dateTime": "2023-10-02T22:15:30Z",
            "eventId": 1,
            "eventIdx": 0,
            "goals": {
             "away": 0,
             "home": 0
            },
            "ordinalNum": "1st",
            "period": 1,
            "periodTime": "00:00",
            "periodTimeRemaining": "20:00",
            "periodType": "REGULAR"
           },
           "coordinates": {},
           "result": {
            "description": "Game Scheduled",
            "event": "Game Scheduled",
            "eventCode": "TOR1",
            "eventTypeId": "GAME_SCHEDULED"
           }
          },
          {
           "about": {
            "dateTime": "2023-10-02T23:05:53Z",
            "eventId": 5,
            "eventIdx": 1,
            "goals": {
             "away": 0,
             "home": 0
            },
            "ordinalNum": "1st",
            "period": 1,
            "periodTime": "00:00",
            "periodTimeRemaining": "20:00",
            "periodType": "REGULAR"
           },
           "coordinates": {},
           "result": {
            "description": "Period Ready",
            "event": "Period Ready",
            "eventCode": "TOR5",
            "eventTypeId": "PERIOD_READY"
           }
          },
          {
           "about": {
            "dateTime": "2023-10-02T23:08:08Z",
            "eventId": 101,
            "eventIdx": 3,
            "goals": {
             "away": 0,
             "home": 0
            },
            "ordinalNum": "1st",
            "period": 1,
            "periodTime": "00:00",
            "periodTimeRemaining": "20:00",
            "periodType": "REGULAR"
           },
           "coordinates": {
            "x": 0,
            "y": 0
           },
           "players": [
            {
             "player": {
              "fullName": "Nick Suzuki",
              "id": 8480018,
              "link": "/api/v1/people/8480018"
             },
             "playerType": "Winner"
            },
            {
             "player": {
              "fullName": "William Nylander",
              "id": 8477939,
              "link": "/api/v1/people/8477939"
             },
             "playerType": "Loser"
            }
           ],
           "result": {
            "description": "Nick Suzuki faceoff won against William Nylander",
            "event": "Faceoff",
            "eventCode": "TOR101",
            "eventTypeId": "FACEOFF"
           },
           "team": {
            "id": 8,
            "link": "/api/v1/teams/8",
            "name": "Montréal Canadiens",
            "triCode": "MTL"
           }
          },
          {
           "about": {
            "dateTime": "2023-10-02T23:08:08Z",
            "eventId": 102,
            "eventIdx": 2,
            "goals": {
             "away": 0,
             "home": 0
            },
            "ordinalNum": "1st",
            "period": 1,
            "periodTime": "00:00",
            "periodTimeRemaining": "20:00",
            "periodType": "REGULAR"
           },
           "coordinates": {},
           "result": {
            "description": "Period Start",
            "event": "Period Start",
            "eventCode": "TOR102",
            "eventTypeId": "PERIOD_START"
           }
          },
          {
           "about": {
            "dateTime": "2023-10-02T23:08:16Z",
            "eventId": 54,
            "eventIdx": 4,
            "goals": {
             "away": 0,
             "home": 0
            },
            "ordinalNum": "1st",
            "period": 1,
            "periodTime": "00:08",
            "periodTimeRemaining": "19:52",
            "periodType": "REGULAR"
           },
           "coordinates": {
            "x": 56,
            "y": 9
           },
           "players": [
            {
             "player": {
              "fullName": "Josh Anderson",
              "id": 8476981,
              "link": "/api/v1/people/8476981"
             },
             "playerType": "Shooter"
            },
            {
             "player": {
              "fullName": "Ilya Samsonov",
              "id": 8478492,
              "link": "/api/v1/people/8478492"
             },
             "playerType": "Goalie"
            }
           ],
           "result": {
            "description": "Josh Anderson Wrist Shot saved by Ilya Samsonov",
            "event": "Shot",
            "eventCode": "TOR54",
            "eventTypeId": "SHOT",
            "secondaryType": "Wrist Shot"
           },
           "team": {
            "id": 8,
            "link": "/api/v1/teams/8",
            "name": "Montréal Canadiens",
            "triCode": "MTL"
           }
          },
          {
           "about": {
            "dateTime": "2023-10-02T23:08:26Z",
            "eventId": 8,
            "eventIdx": 5,
            "goals": {
             "away": 0,
             "home": 0
            },
            "ordinalNum": "1st",
            "period": 1,
            "periodTime": "00:18",
            "periodTimeRemaining": "19:42",
            "periodType": "REGULAR"
           },
           "coordinates": {
            "x": 95,
            "y": -16
           },
           "players": [
            {
             "player": {
              "fullName": "Josh Anderson",
              "id": 8476981,
              "link": "/api/v1/people/8476981"
             },
             "playerType": "Hitter"
            },
            {
             "player": {
              "fullName": "Morgan Rielly",
              "id": 8476853,
              "link": "/api/v1/people/8476853"
             },
             "playerType": "Hittee"
            }
           ],
           "result": {
            "description": "Josh Anderson hit Morgan Rielly",
            "event": "Hit",
            "eventCode": "TOR8",
            "eventTypeId": "HIT"
           },
           "team": {
            "id": 8,
            "link": "/api/v1/teams/8",
            "name": "Montréal Canadiens",
            "triCode": "MTL"
           }
          },
          {
           "about": {
            "dateTime": "2023-10-02T23:08:33Z",
            "eventId": 55,
            "eventIdx": 6,
            "goals": {
             "away": 0,
             "home": 0
            },
            "ordinalNum": "1st",
            "period": 1,
            "periodTime": "00:25",
            "periodTimeRemaining": "19:35",
            "periodType": "REGULAR"
           },
           "coordinates": {
            "x": 95,
            "y": 21
           },
           "players": [
            {
             "player": {
              "fullName": "Cole Caufield",
              "id": 8481540,
              "link": "/api/v1/people/8481540"
             },
             "playerType": "Shooter"
            },
            {
             "player": {
              "fullName": "Ilya Samsonov",
              "id": 8478492,
              "link": "/api/v1/people/8478492"
             },
             "playerType": "Goalie"
            }
           ],
           "result": {
            "description": "Cole Caufield Wrist Shot saved by Ilya Samsonov",
            "event": "Shot",
            "eventCode": "TOR55",
            "eventTypeId": "SHOT",
            "secondaryType": "Wrist Shot"
           },
           "team": {
            "id": 8,
            "link": "/api/v1/teams/8",
            "name": "Montréal Canadiens",
            "triCode": "MTL"
           }
          },
          {
           "about": {
            "dateTime": "2023-10-02T23:08:37Z",
            "eventId": 9,
            "eventIdx": 8,
            "goals": {
             "away": 0,
             "home": 0
            },
            "ordinalNum": "1st",
            "period": 1,
            "periodTime": "00:29",
            "periodTimeRemaining": "19:31",
            "periodType": "REGULAR"
           },
           "coordinates": {
            "x": 92,
            "y": 29
           },
           "players": [
            {
             "player": {
              "fullName": "Nick Suzuki",
              "id": 8480018,
              "link": "/api/v1/people/8480018"
             },
             "playerType": "Hitter"
            },
            {
             "player": {
              "fullName": "TJ Brodie",
              "id": 8474673,
              "link": "/api/v1/people/8474673"
             },
             "playerType": "Hittee"
            }
           ],
           "result": {
            "description": "Nick Suzuki hit TJ Brodie",
            "event": "Hit",
            "eventCode": "TOR9",
            "eventTypeId": "HIT"
           },
           "team": {
            "id": 8,
            "link": "/api/v1/teams/8",
            "name": "Montréal Canadiens",
            "triCode": "MTL"
           }
          },
          {
           "about": {
            "dateTime": "2023-10-02T23:08:37Z",
            "eventId": 151,
            "eventIdx": 7,
            "goals": {
             "away": 0,
             "home": 0
            },
            "ordinalNum": "1st",
            "period": 1,
            "periodTime": "00:29",
            "periodTimeRemaining": "19:31",
            "periodType": "REGULAR"
           },
           "coordinates": {
            "x": 46,
            "y": -18
           },
           "players": [
            {
             "player": {
              "fullName": "Josh Anderson",
              "id": 8476981,
              "link": "/api/v1/people/8476981"
             },
             "playerType": "Shooter"
            },
            {
             "player": {
              "fullName": "Ilya Samsonov",
              "id": 8478492,
              "link": "/api/v1/people/8478492"
             },
             "playerType": "Goalie"
            }
           ],
           "result": {
            "description": "Josh Anderson Wrist Shot saved by Ilya Samsonov",
            "event": "Shot",
            "eventCode": "TOR151",
            "eventTypeId": "SHOT",
            "secondaryType": "Wrist Shot"
           },
           "team": {
            "id": 8,
            "link": "/api/v1/teams/8",
            "name": "Montréal Canadiens",
            "triCode": "MTL"
           }
          },
          {
           "about": {
            "dateTime": "2023-10-02T23:08:39Z",
            "eventId": 10,
            "eventIdx": 9,
            "goals": {
             "away": 0,
             "home": 0
            },
            "ordinalNum": "1st",
            "period": 1,
            "periodTime": "00:31",
            "periodTimeRemaining": "19:29",
            "periodType": "REGULAR"
           },
           "coordinates": {
            "x": 84,
            "y": 2
           },
           "result": {
            "description": "Goalie Stopped",
            "event": "Stoppage",
            "eventCode": "TOR10",
            "eventTypeId": "STOP"
           }
          },
          {
           "about": {
            "dateTime": "2023-10-02T23:09:10Z",
            "eventId": 103,
            "eventIdx": 10,
            "goals": {
             "away": 0,
             "home": 0
            },
            "ordinalNum": "1st",
            "period": 1,
            "periodTime": "00:31",
            "periodTimeRemaining": "19:29",
            "periodType": "REGULAR"
           },
           "coordinates": {
            "x": 69,
            "y": -22
           },
           "players": [
            {
             "player": {
              "fullName": "Kirby Dach",
              "id": 8481523,
              "link": "/api/v1/people/8481523"
             },
             "playerType": "Winner"
            },
            {
             "player": {
              "fullName": "Auston Matthews",
              "id": 8479318,
              "link": "/api/v1/people/8479318"
             },
             "playerType": "Loser"
            }
           ],
           "result": {
            "description": "Kirby Dach faceoff won against Auston Matthews",
            "event": "Faceoff",
            "eventCode": "TOR103",
            "eventTypeId": "FACEOFF"
           },
           "team": {
            "id": 8,
            "link": "/api/v1/teams/8",
            "name": "Montréal Canadiens",
            "triCode": "MTL"
           }
          },
          {
           "about": {
            "dateTime": "2023-10-02T23:10:03Z",
            "eventId": 104,
            "eventIdx": 11,
            "goals": {
             "away": 0,
             "home": 0
            },
            "ordinalNum": "1st",
            "period": 1,
            "periodTime": "01:24",
            "periodTimeRemaining": "18:36",
            "periodType": "REGULAR"
           },
           "coordinates": {
            "x": -99,
            "y": 1
           },
           "players": [
            {
             "player": {
              "fullName": "Jake Allen",
              "id": 8474596,
              "link": "/api/v1/people/8474596"
             },
             "playerType": "PlayerID"
            }
           ],
           "result": {
            "description": "Giveaway by Jake Allen",
            "event": "Giveaway",
            "eventCode": "TOR104",
            "eventTypeId": "GIVEAWAY"
           },
           "team": {
            "id": 8,
            "link": "/api/v1/teams/8",
            "name": "Montréal Canadiens",
            "triCode": "MTL"
           }
          },
          {
           "about": {
            "dateTime": "2023-10-02T23:10:34Z",
            "eventId": 11,
            "eventIdx": 12,
            "goals": {
             "away": 0,
             "home": 0
            },
            "ordinalNum": "1st",
            "period": 1,
            "periodTime": "01:55",
            "periodTimeRemaining": "18:05",
            "periodType": "REGULAR"
           },
           "coordinates": {
            "x": 96,
            "y": 10
           },
           "players": [
            {
             "player": {
              "fullName": "Brendan Gallagher",
              "id": 8475848,
              "link": "/api/v1/people/8475848"
             },
             "playerType": "Hitter"
            },
            {
             "player": {
              "fullName": "Simon Benoit",
              "id": 8481122,
              "link": "/api/v1/people/8481122"
             },
             "playerType": "Hittee"
            }
           ],
           "result": {
            "description": "Brendan Gallagher hit Simon Benoit",
            "event": "Hit",
            "eventCode": "TOR11",
            "eventTypeId": "HIT"
           },
           "team": {
            "id": 8,
            "link": "/api/v1/teams/8",
            "name": "Montréal Canadiens",
            "triCode": "MTL"
           }
          },
          {
           "about": {
            "dateTime": "2023-10-02T23:10:43Z",
            "eventId": 13,
            "eventIdx": 13,
            "goals": {
             "away": 0,
             "home": 0
            },
            "ordinalNum": "1st",
            "period": 1,
            "periodTime": "02:04",
            "periodTimeRemaining": "17:56",
            "periodType": "REGULAR"
           },
           "coordinates": {
            "x": -32,
            "y": -36
           },
           "players": [
            {
             "player": {
              "fullName": "Emil Heineman",
              "id": 8482476,
              "link": "/api/v1/people/8482476"
             },
             "playerType": "Hitter"
            },
            {
             "player": {
              "fullName": "Simon Benoit",
              "id": 8481122,
              "link": "/api/v1/people/8481122"
             },
             "playerType": "Hittee"
            }
           ],
           "result": {
            "description": "Emil Heineman hit Simon Benoit",
            "event": "Hit",
            "eventCode": "TOR13",
            "eventTypeId": "HIT"
           },
           "team": {
            "id": 8,
            "link": "/api/v1/teams/8",
            "name": "Montréal Canadiens",
            "triCode": "MTL"
           }
          },
          {
           "about": {
            "dateTime": "2023-10-02T23:10:52Z",
            "eventId": 14,
            "eventIdx": 14,
            "goals": {
             "away": 0,
             "home": 0
            },
            "ordinalNum": "1st",
            "period": 1,
            "periodTime": "02:13",
            "periodTimeRemaining": "17:47",
            "periodType": "REGULAR"
           },
           "coordinates": {
            "x": -88,
            "y": 34
           },
           "players": [
            {
             "player": {
              "fullName": "Ryan Reaves",
              "id": 8471817,
              "link": "/api/v1/people/8471817"
             },
             "playerType": "Hitter"
            },
            {
             "player": {
              "fullName": "Jordan Harris",
              "id": 8480887,
              "link": "/api/v1/people/8480887"
             },
             "playerType": "Hittee"
            }
           ],
           "result": {
            "description": "Ryan Reaves hit Jordan Harris",
            "event": "Hit",
            "eventCode": "TOR14",
            "eventTypeId": "HIT"
           },
           "team": {
            "id": 10,
            "link": "/api/v1/teams/10",
            "name": "Toronto Maple Leafs",
            "triCode": "TOR"
           }
          },
          {
           "about": {
            "dateTime": "2023-10-02T23:11:11Z",
            "eventId": 15,
            "eventIdx": 15,
            "goals": {
             "away": 0,
             "home": 0
            },
            "ordinalNum": "1st",
            "period": 1,
            "periodTime": "02:32",
            "periodTimeRemaining": "17:28",
            "periodType": "REGULAR"
           },
           "coordinates": {
            "x": 93,
            "y": 26
           },
           "players": [
            {
             "player": {
              "fullName": "Emil Heineman",
              "id": 8482476,
              "link": "/api/v1/people/8482476"
             },
             "playerType": "Hitter"
            },
            {
             "player": {
              "fullName": "TJ Brodie",
              "id": 8474673,
              "link": "/api/v1/people/8474673"
             },
             "playerType": "Hittee"
            }
           ],
           "result": {
            "description": "Emil Heineman hit TJ Brodie",
            "event": "Hit",
            "eventCode": "TOR15",
            "eventTypeId": "HIT"
           },
           "team": {
            "id": 8,
            "link": "/api/v1/teams/8",
            "name": "Montréal Canadiens",
            "triCode": "MTL"
           }
          },
          {
           "about": {
            "dateTime": "2023-10-02T23:11:27Z",
            "eventId": 105,
            "eventIdx": 16,
            "goals": {
             "away": 0,
             "home": 0
            },
            "ordinalNum": "1st",
            "period": 1,
            "periodTime": "02:48",
            "periodTimeRemaining": "17:12",
            "periodType": "REGULAR"
           },
           "coordinates": {
            "x": 59,
            "y": -38
           },
           "players": [
            {
             "player": {
              "fullName": "Logan Mailloux",
              "id": 8482733,
              "link": "/api/v1/people/8482733"
             },
             "playerType": "PlayerID"
            }
           ],
           "result": {
            "description": "Giveaway by Logan Mailloux",
            "event": "Giveaway",
            "eventCode": "TOR105",
            "eventTypeId": "GIVEAWAY"
           },
           "team": {
            "id": 8,
            "link": "/api/v1/teams/8",
            "name": "Montréal Canadiens",
            "triCode": "MTL"
           }
          },
          {
           "about": {
            "dateTime": "2023-10-02T23:11:39Z",
            "eventId": 89,
            "eventIdx": 17,
            "goals": {
             "away": 0,
             "home": 0
            },
            "ordinalNum": "1st",
            "period": 1,
            "periodTime": "02:59",
            "periodTimeRemaining": "17:01",
            "periodType": "REGULAR"
           },
           "coordinates": {
            "x": -45,
            "y": -37
           },
           "players": [
            {
             "player": {
              "fullName": "Max Domi",
              "id": 8477503,
              "link": "/api/v1/people/8477503"
             },
             "playerType": "PenaltyOn"
            },
            {
             "player": {
              "fullName": "Nick Suzuki",
              "id": 8480018,
              "link": "/api/v1/people/8480018"
             },
             "playerType": "DrewBy"
            }
           ],
           "result": {
            "description": "Max Domi Slashing against Nick Suzuki",
            "event": "Penalty",
            "eventCode": "TOR89",
            "eventTypeId": "PENALTY",
            "penaltyMinutes": 2,
            "penaltySeverity": "Minor",
            "secondaryType": "Slashing"
           },
           "team": {
            "id": 10,
            "link": "/api/v1/teams/10",
            "name": "Toronto Maple Leafs",
            "triCode": "TOR"
           }
          },
          {
           "about": {
            "dateTime": "2023-10-02T23:12:28Z",
            "eventId": 106,
            "eventIdx": 18,
            "goals": {
             "away": 0,
             "home": 0
            },
            "ordinalNum": "1st",
            "period": 1,
            "periodTime": "02:59",
            "periodTimeRemaining": "17:01",
            "periodType": "REGULAR"
           },
           "coordinates": {
            "x": 69,
            "y": 22
           },
           "players": [
            {
             "player": {
              "fullName": "Sean Monahan",
              "id": 8477497,
              "link": "/api/v1/people/8477497"
             },
             "playerType": "Winner"
            },
            {
             "player": {
              "fullName": "Auston Matthews",
              "id": 8479318,
              "link": "/api/v1/people/8479318"
             },
             "playerType": "Loser"
            }
           ],
           "result": {
            "description": "Sean Monahan faceoff won against Auston Matthews",
            "event": "Faceoff",
            "eventCode": "TOR106",
            "eventTypeId": "FACEOFF"
           },
           "team": {
            "id": 8,
            "link": "/api/v1/teams/8",
            "name": "Montréal Canadiens",
            "triCode": "MTL"
           }
          },
          {
           "about": {
            "dateTime": "2023-10-02T23:12:53Z",
            "eventId": 152,
            "eventIdx": 19,
            "goals": {
             "away": 1,
             "home": 0
            },
            "ordinalNum": "1st",
            "period": 1,
            "periodTime": "03:24",
            "periodTimeRemaining": "16:36",
            "periodType": "REGULAR"
           },
           "coordinates": {
            "x": 35,
            "y": -24
           },
           "players": [
            {
             "player": {
              "fullName": "Mattias Norlinder",
              "id": 8481555,
              "link": "/api/v1/people/8481555"
             },
             "playerType": "Scorer",
             "seasonTotal": 1
            },
            {
             "player": {
              "fullName": "Nick Suzuki",
              "id": 8480018,
              "link": "/api/v1/people/8480018"
             },
             "playerType": "Assist",
             "seasonTotal": 3
            },
            {
             "player": {
              "fullName": "Sean Monahan",
              "id": 8477497,
              "link": "/api/v1/people/8477497"
             },
             "playerType": "Assist",
             "seasonTotal": 2
            },
            {
             "player": {
              "fullName": "Ilya Samsonov",
              "id": 8478492,
              "link": "/api/v1/people/8478492"
             },
             "playerType": "Goalie"
            }
           ],
           "result": {
            "description": "Mattias Norlinder (1) Wrist Shot, assists: Nick Suzuki (3), Sean Monahan (2)",
            "emptyNet": false,
            "event": "Goal",
            "eventCode": "TOR152",
            "eventTypeId": "GOAL",
            "gameWinningGoal": false,
            "secondaryType": "Wrist Shot",
            "strength": {
             "code": "PPG",
             "name": "Power Play"
            }
           },
           "team": {
            "id": 8,
            "link": "/api/v1/teams/8",
            "name": "Montréal Canadiens",
            "triCode": "MTL"
           }
          },
          {
           "about": {
            "dateTime": "2023-10-02T23:13:41Z",
            "eventId": 107,
            "eventIdx": 20,
            "goals": {
             "away": 1,
             "home": 0
            },
            "ordinalNum": "1st",
            "period": 1,
            "periodTime": "03:24",
            "periodTimeRemaining": "16:36",
            "periodType": "REGULAR"
           },
           "coordinates": {
            "x": 0,
            "y": 0
           },
           "players": [
            {
             "player": {
              "fullName": "Auston Matthews",
              "id": 8479318,
              "link": "/api/v1/people/8479318"
             },
             "playerType": "Winner"
            },
            {
             "player": {
              "fullName": "Kirby Dach",
              "id": 8481523,
              "link": "/api/v1/people/8481523"
             },
             "playerType": "Loser"
            }
           ],
           "result": {
            "description": "Auston Matthews faceoff won against Kirby Dach",
            "event": "Faceoff",
            "eventCode": "TOR107",
            "eventTypeId": "FACEOFF"
           },
           "team": {
            "id": 10,
            "link": "/api/v1/teams/10",
            "name": "Toronto Maple Leafs",
            "triCode": "TOR"
           }
          },
          {
           "about": {
            "dateTime": "2023-10-02T23:14:19Z",
            "eventId": 17,
            "eventIdx": 21,
            "goals": {
             "away": 1,
             "home": 0
            },
            "ordinalNum": "1st",
            "period": 1,
            "periodTime": "04:02",
            "periodTimeRemaining": "15:58",
            "periodType": "REGULAR"
           },
           "coordinates": {
            "x": 97,
            "y": -13
           },
           "players": [
            {
             "player": {
              "fullName": "Rafael Harvey-Pinard",
              "id": 8481093,
              "link": "/api/v1/people/8481093"
             },
             "playerType": "Hitter"
            },
            {
             "player": {
              "fullName": "Timothy Liljegren",
              "id": 8480043,
              "link": "/api/v1/people/8480043"
             },
             "playerType": "Hittee"
            }
           ],
           "result": {
            "description": "Rafael Harvey-Pinard hit Timothy Liljegren",
            "event": "Hit",
            "eventCode": "TOR17",
            "eventTypeId": "HIT"
           },
           "team": {
            "id": 8,
            "link": "/api/v1/teams/8",
            "name": "Montréal Canadiens",
            "triCode": "MTL"
           }
          },
          {
           "about": {
            "dateTime": "2023-10-02T23:14:30Z",
            "eventId": 98,
            "eventIdx": 22,
            "goals": {
             "away": 1,
             "home": 0
            },
            "ordinalNum": "1st",
            "period": 1,
            "periodTime": "04:13",
            "periodTimeRemaining": "15:47",
            "periodType": "REGULAR"
           },
           "coordinates": {
            "x": 63,
            "y": -38
           },
           "players": [
            {
             "player": {
              "fullName": "Kirby Dach",
              "id": 8481523,
              "link": "/api/v1/people/8481523"
             },
             "playerType": "Shooter"
            },
            {
             "player": {
              "fullName": "Ilya Samsonov",
              "id": 8478492,
              "link": "/api/v1/people/8478492"
             },
             "playerType": "Unknown"
            }
           ],
           "result": {
            "description": "Kirby Dach Wide Right Ilya Samsonov",
            "event": "Missed Shot",
            "eventCode": "TOR98",
            "eventTypeId": "MISSED_SHOT"
           },
           "team": {
            "id": 8,
            "link": "/api/v1/teams/8",
            "name": "Montréal Canadiens",
            "triCode": "MTL"
           }
          },
          {
           "about": {
            "dateTime": "2023-10-02T23:14:33Z",
            "eventId": 18,
            "eventIdx": 23,
            "goals": {
             "away": 1,
             "home": 0
            },
            "ordinalNum": "1st",
            "period": 1,
            "periodTime": "04:16",
            "periodTimeRemaining": "15:44",
            "periodType": "REGULAR"
           },
           "coordinates": {
            "x": 90,
            "y": -4
           },
           "result": {
            "description": "Goalie Stopped",
            "event": "Stoppage",
            "eventCode": "TOR18",
            "eventTypeId": "STOP"
           }
          },
          {
           "about": {
            "dateTime": "2023-10-02T23:15:02Z",
            "eventId": 108,
            "eventIdx": 24,
            "goals": {
             "away": 1,
             "home": 0
            },
            "ordinalNum": "1st",
            "period": 1,
            "periodTime": "04:16",
            "periodTimeRemaining": "15:44",
            "periodType": "REGULAR"
           },
           "coordinates": {
            "x": 69,
            "y": -22
           },
           "players": [
            {
             "player": {
              "fullName": "John Tavares",
              "id": 8475166,
              "link": "/api/v1/people/8475166"
             },
             "playerType": "Winner"
            },
            {
             "player": {
              "fullName": "Jake Evans",
              "id": 8478133,
              "link": "/api/v1/people/8478133"
             },
             "playerType": "Loser"
            }
           ],
           "result": {
            "description": "John Tavares faceoff won against Jake Evans",
            "event": "Faceoff",
            "eventCode": "TOR108",
            "eventTypeId": "FACEOFF"
           },
           "team": {
            "id": 10,
            "link": "/api/v1/teams/10",
            "name": "Toronto Maple Leafs",
            "triCode": "TOR"
           }
          },
          {
           "about": {
            "dateTime": "2023-10-02T23:15:08Z",
            "eventId": 202,
            "eventIdx": 25,
            "goals": {
             "away": 1,
             "home": 0
            },
            "ordinalNum": "1st",
            "period": 1,
            "periodTime": "04:22",
            "periodTimeRemaining": "15:38",
            "periodType": "REGULAR"
           },
           "coordinates": {
            "x": 55,
            "y": -40
           },
           "players": [
            {
             "player": {
              "fullName": "Jesse Ylönen",
              "id": 8481058,
              "link": "/api/v1/people/8481058"
             },
             "playerType": "Shooter"
            },
            {
             "player": {
              "fullName": "Ilya Samsonov",
              "id": 8478492,
              "link": "/api/v1/people/8478492"
             },
             "playerType": "Goalie"
            }
           ],
           "result": {
            "description": "Jesse Ylönen Wrist Shot saved by Ilya Samsonov",
            "event": "Shot",
            "eventCode": "TOR202",
            "eventTypeId": "SHOT",
            "secondaryType": "Wrist Shot"
           },
           "team": {
            "id": 8,
            "link": "/api/v1/teams/8",
            "name": "Montréal Canadiens",
            "triCode": "MTL"
           }
          },
          {
           "about": {
            "dateTime": "2023-10-02T23:15:11Z",
            "eventId": 19,
            "eventIdx": 26,
            "goals": {
             "away": 1,
             "home": 0
            },
            "ordinalNum": "1st",
            "period": 1,
            "periodTime": "04:24",
            "periodTimeRemaining": "15:36",
            "periodType": "REGULAR"
           },
           "coordinates": {
            "x": 84,
            "y": -1
           },
           "result": {
            "description": "Goalie Stopped",
            "event": "Stoppage",
            "eventCode": "TOR19",
            "eventTypeId": "STOP"
           }
          },
          {
           "about": {
            "dateTime": "2023-10-02T23:15:28Z",
            "eventId": 109,
            "eventIdx": 27,
            "goals": {
             "away": 1,
             "home": 0
            },
            "ordinalNum": "1st",
            "period": 1,
            "periodTime": "04:24",
            "periodTimeRemaining": "15:36",
            "periodType": "REGULAR"
           },
           "coordinates": {
            "x": 69,
            "y": -22
           },
           "players": [
            {
             "player": {
              "fullName": "John Tavares",
              "id": 8475166,
              "link": "/api/v1/people/8475166"
             },
             "playerType": "Winner"
            },
            {
             "player": {
              "fullName": "Jake Evans",
              "id": 8478133,
              "link": "/api/v1/people/8478133"
             },
             "playerType": "Loser"
            }
           ],
           "result": {
            "description": "John Tavares faceoff won against Jake Evans",
            "event": "Faceoff",
            "eventCode": "TOR109",
            "eventTypeId": "FACEOFF"
           },
           "team": {
            "id": 10,
            "link": "/api/v1/teams/10",
            "name": "Toronto Maple Leafs",
            "triCode": "TOR"
           }
          },
          {
           "about": {
            "dateTime": "2023-10-02T23:15:34Z",
            "eventId": 20,
            "eventIdx": 28,
            "goals": {
             "away": 1,
             "home": 0
            },
            "ordinalNum": "1st",
            "period": 1,
            "periodTime": "04:30",
            "periodTimeRemaining": "15:30",
            "periodType": "REGULAR"
           },
           "coordinates": {
            "x": 93,
            "y": -30
           },
           "result": {
            "description": "Icing",
            "event": "Stoppage",
            "eventCode": "TOR20",
            "eventTypeId": "STOP"
           }
          },
          {
           "about": {
            "dateTime": "2023-10-02T23:15:54Z",
            "eventId": 110,
            "eventIdx": 29,
            "goals": {
             "away": 1,
             "home": 0
            },
            "ordinalNum": "1st",
            "period": 1,
            "periodTime": "04:30",
            "periodTimeRemaining": "15:30",
            "periodType": "REGULAR"
           },
           "coordinates": {
            "x": 69,
            "y": -22
           },
           "players": [
            {
             "player": {
              "fullName": "Jake Evans",
              "id": 8478133,
              "link": "/api/v1/people/8478133"
             },
             "playerType": "Winner"
            },
            {
             "player": {
              "fullName": "John Tavares",
              "id": 8475166,
              "link": "/api/v1/people/8475166"
             },
             "playerType": "Loser"
            }
           ],
           "result": {
            "description": "Jake Evans faceoff won against John Tavares",
            "event": "Faceoff",
            "eventCode": "TOR110",
            "eventTypeId": "FACEOFF"
           },
           "team": {
            "id": 8,
            "link": "/api/v1/teams/8",
            "name": "Montréal Canadiens",
            "triCode": "MTL"
           }
          },
          {
           "about": {
            "dateTime": "2023-10-02T23:16:16Z",
            "eventId": 254,
            "eventIdx": 30,
            "goals": {
             "away": 1,
             "home": 0
            },
            "ordinalNum": "1st",
            "period": 1,
            "periodTime": "04:52",
            "periodTimeRemaining": "15:08",
            "periodType": "REGULAR"
           },
           "coordinates": {
            "x": -44,
            "y": 16
           },
           "players": [
            {
             "player": {
              "fullName": "Jordan Harris",
              "id": 8480887,
              "link": "/api/v1/people/8480887"
             },
             "playerType": "Blocker"
            },
            {
             "player": {
              "fullName": "Sam Lafferty",
              "id": 8478043,
              "link": "/api/v1/people/8478043"
             },
             "playerType": "Shooter"
            }
           ],
           "result": {
            "description": "Sam Lafferty shot blocked shot by Jordan Harris",
            "event": "Blocked Shot",
            "eventCode": "TOR254",
            "eventTypeId": "BLOCKED_SHOT"
           },
           "team": {
            "id": 8,
            "link": "/api/v1/teams/8",
            "name": "Montréal Canadiens",
            "triCode": "MTL"
           }
          },
          {
           "about": {
            "dateTime": "2023-10-02T23:16:36Z",
            "eventId": 209,
            "eventIdx": 31,
            "goals": {
             "away": 1,
             "home": 0
            },
            "ordinalNum": "1st",
            "period": 1,
            "periodTime": "05:12",
            "periodTimeRemaining": "14:48",
            "periodType": "REGULAR"
           },
           "coordinates": {
            "x": 41,
            "y": -39
           },
           "players": [
            {
             "player": {
              "fullName": "Jesse Ylönen",
              "id": 8481058,
              "link": "/api/v1/people/8481058"
             },
             "playerType": "Shooter"
            },
            {
             "player": {
              "fullName": "Ilya Samsonov",
              "id": 8478492,
              "link": "/api/v1/people/8478492"
             },
             "playerType": "Goalie"
            }
           ],
           "result": {
            "description": "Jesse Ylönen Wrist Shot saved by Ilya Samsonov",
            "event": "Shot",
            "eventCode": "TOR209",
            "eventTypeId": "SHOT",
            "secondaryType": "Wrist Shot"
           },
           "team": {
            "id": 8,
            "link": "/api/v1/teams/8",
            "name": "Montréal Canadiens",
            "triCode": "MTL"
           }
          },
          {
           "about": {
            "dateTime": "2023-10-02T23:16:39Z",
            "eventId": 22,
            "eventIdx": 32,
            "goals": {
             "away": 1,
             "home": 0
            },
            "ordinalNum": "1st",
            "period": 1,
            "periodTime": "05:16",
            "periodTimeRemaining": "14:44",
            "periodType": "REGULAR"
           },
           "coordinates": {
            "x": 87,
            "y": -3
           },
           "result": {
            "description": "Clock Problem",
            "event": "Stoppage",
            "eventCode": "TOR22",
            "eventTypeId": "STOP"
           }
          },
          {
           "about": {
            "dateTime": "2023-10-02T23:17:13Z",
            "eventId": 111,
            "eventIdx": 33,
            "goals": {
             "away": 1,
             "home": 0
            },
            "ordinalNum": "1st",
            "period": 1,
            "periodTime": "05:16",
            "periodTimeRemaining": "14:44",
            "periodType": "REGULAR"
           },
           "coordinates": {
            "x": 69,
            "y": -22
           },
           "players": [
            {
             "player": {
              "fullName": "Sean Monahan",
              "id": 8477497,
              "link": "/api/v1/people/8477497"
             },
             "playerType": "Winner"
            },
            {
             "player": {
              "fullName": "Max Domi",
              "id": 8477503,
              "link": "/api/v1/people/8477503"
             },
             "playerType": "Loser"
            }
           ],
           "result": {
            "description": "Sean Monahan faceoff won against Max Domi",
            "event": "Faceoff",
            "eventCode": "TOR111",
            "eventTypeId": "FACEOFF"
           },
           "team": {
            "id": 8,
            "link": "/api/v1/teams/8",
            "name": "Montréal Canadiens",
            "triCode": "MTL"
           }
          },
          {
           "about": {
            "dateTime": "2023-10-02T23:17:40Z",
            "eventId": 215,
            "eventIdx": 34,
            "goals": {
             "away": 1,
             "home": 0
            },
            "ordinalNum": "1st",
            "period": 1,
            "periodTime": "05:43",
            "periodTimeRemaining": "14:17",
            "periodType": "REGULAR"
           },
           "coordinates": {
            "x": -75,
            "y": 15
           },
           "players": [
            {
             "player": {
              "fullName": "David Savard",
              "id": 8475233,
              "link": "/api/v1/people/8475233"
             },
             "playerType": "Blocker"
            },
            {
             "player": {
              "fullName": "TJ Brodie",
              "id": 8474673,
              "link": "/api/v1/people/8474673"
             },
             "playerType": "Shooter"
            }
           ],
           "result": {
            "description": "TJ Brodie shot blocked shot by David Savard",
            "event": "Blocked Shot",
            "eventCode": "TOR215",
            "eventTypeId": "BLOCKED_SHOT"
           },
           "team": {
            "id": 8,
            "link": "/api/v1/teams/8",
            "name": "Montréal Canadiens",
            "triCode": "MTL"
           }
          },
          {
           "about": {
            "dateTime": "2023-10-02T23:18:03Z",
            "eventId": 23,
            "eventIdx": 35,
            "goals": {
             "away": 1,
             "home": 0
            },
            "ordinalNum": "1st",
            "period": 1,
            "periodTime": "06:06",
            "periodTimeRemaining": "13:54",
            "periodType": "REGULAR"
           },
           "coordinates": {
            "x": 85,
            "y": -35
           },
           "players": [
            {
             "player": {
              "fullName": "Morgan Rielly",
              "id": 8476853,
              "link": "/api/v1/people/8476853"
             },
             "playerType": "Hitter"
            },
            {
             "player": {
              "fullName": "Tanner Pearson",
              "id": 8476871,
              "link": "/api/v1/people/8476871"
             },
             "playerType": "Hittee"
            }
           ],
           "result": {
            "description": "Morgan Rielly hit Tanner Pearson",
            "event": "Hit",
            "eventCode": "TOR23",
            "eventTypeId": "HIT"
           },
           "team": {
            "id": 10,
            "link": "/api/v1/teams/10",
            "name": "Toronto Maple Leafs",
            "triCode": "TOR"
           }
          },
          {
           "about": {
            "dateTime": "2023-10-02T23:18:49Z",
            "eventId": 24,
            "eventIdx": 36,
            "goals": {
             "away": 1,
             "home": 0
            },
            "ordinalNum": "1st",
            "period": 1,
            "periodTime": "06:52",
            "periodTimeRemaining": "13:08",
            "periodType": "REGULAR"
           },
           "coordinates": {
            "x": 42,
            "y": 40
           },
           "players": [
            {
             "player": {
              "fullName": "Morgan Rielly",
              "id": 8476853,
              "link": "/api/v1/people/8476853"
             },
             "playerType": "Hitter"
            },
            {
             "player": {
              "fullName": "Josh Anderson",
              "id": 8476981,
              "link": "/api/v1/people/8476981"
             },
             "playerType": "Hittee"
            }
           ],
           "result": {
            "description": "Morgan Rielly hit Josh Anderson",
            "event": "Hit",
            "eventCode": "TOR24",
            "eventTypeId": "HIT"
           },
           "team": {
            "id": 10,
            "link": "/api/v1/teams/10",
            "name": "Toronto Maple Leafs",
            "triCode": "TOR"
           }
          },
          {
           "about": {
            "dateTime": "2023-10-02T23:19:11Z",
            "eventId": 153,
            "eventIdx": 37,
            "goals": {
             "away": 1,
             "home": 1
            },
            "ordinalNum": "1st",
            "period": 1,
            "periodTime": "07:13",
            "periodTimeRemaining": "12:47",
            "periodType": "REGULAR"
           },
           "coordinates": {
            "x": -49,
            "y": -38
           },
           "players": [
            {
             "player": {
              "fullName": "Noah Gregor",
              "id": 8479393,
              "link": "/api/v1/people/8479393"
             },
             "playerType": "Scorer",
             "seasonTotal": 1
            },
            {
             "player": {
              "fullName": "Ryan Reaves",
              "id": 8471817,
              "link": "/api/v1/people/8471817"
             },
             "playerType": "Assist",
             "seasonTotal": 1
            },
            {
             "player": {
              "fullName": "Jake Allen",
              "id": 8474596,
              "link": "/api/v1/people/8474596"
             },
             "playerType": "Goalie"
            }
           ],
           "result": {
            "description": "Noah Gregor (1) Wrist Shot, assists: Ryan Reaves (1)",
            "emptyNet": false,
            "event": "Goal",
            "eventCode": "TOR153",
            "eventTypeId": "GOAL",
            "gameWinningGoal": false,
            "secondaryType": "Wrist Shot",
            "strength": {
             "code": "EVEN",
             "name": "Even"
            }
           },
           "team": {
            "id": 10,
            "link": "/api/v1/teams/10",
            "name": "Toronto Maple Leafs",
            "triCode": "TOR"
           }
          },
          {
           "about": {
            "dateTime": "2023-10-02T23:19:52Z",
            "eventId": 112,
            "eventIdx": 38,
            "goals": {
             "away": 1,
             "home": 1
            },
            "ordinalNum": "1st",
            "period": 1,
            "periodTime": "07:13",
            "periodTimeRemaining": "12:47",
            "periodType": "REGULAR"
           },
           "coordinates": {
            "x": 0,
            "y": 0
           },
           "players": [
            {
             "player": {
              "fullName": "Auston Matthews",
              "id": 8479318,
              "link": "/api/v1/people/8479318"
             },
             "playerType": "Winner"
            },
            {
             "player": {
              "fullName": "Kirby Dach",
              "id": 8481523,
              "link": "/api/v1/people/8481523"
             },
             "playerType": "Loser"
            }
           ],
           "result": {
            "description": "Auston Matthews faceoff won against Kirby Dach",
            "event": "Faceoff",
            "eventCode": "TOR112",
            "eventTypeId": "FACEOFF"
           },
           "team": {
            "id": 10,
            "link": "/api/v1/teams/10",
            "name": "Toronto Maple Leafs",
            "triCode": "TOR"
           }
          },
          {
           "about": {
            "dateTime": "2023-10-02T23:19:58Z",
            "eventId": 229,
            "eventIdx": 39,
            "goals": {
             "away": 1,
             "home": 1
            },
            "ordinalNum": "1st",
            "period": 1,
            "periodTime": "07:19",
            "periodTimeRemaining": "12:41",
            "periodType": "REGULAR"
           },
           "coordinates": {
            "x": -66,
            "y": -20
           },
           "players": [
            {
             "player": {
              "fullName": "Logan Mailloux",
              "id": 8482733,
              "link": "/api/v1/people/8482733"
             },
             "playerType": "Blocker"
            },
            {
             "player": {
              "fullName": "Tyler Bertuzzi",
              "id": 8477479,
              "link": "/api/v1/people/8477479"
             },
             "playerType": "Shooter"
            }
           ],
           "result": {
            "description": "Tyler Bertuzzi shot blocked shot by Logan Mailloux",
            "event": "Blocked Shot",
            "eventCode": "TOR229",
            "eventTypeId": "BLOCKED_SHOT"
           },
           "team": {
            "id": 8,
            "link": "/api/v1/teams/8",
            "name": "Montréal Canadiens",
            "triCode": "MTL"
           }
          },
          {
           "about": {
            "dateTime": "2023-10-02T23:20:35Z",
            "eventId": 25,
            "eventIdx": 40,
            "goals": {
             "away": 1,
             "home": 1
            },
            "ordinalNum": "1st",
            "period": 1,
            "periodTime": "07:56",
            "periodTimeRemaining": "12:04",
            "periodType": "REGULAR"
           },
           "coordinates": {
            "x": 93,
            "y": -30
           },
           "result": {
            "description": "Puck in Netting",
            "event": "Stoppage",
            "eventCode": "TOR25",
            "eventTypeId": "STOP"
           }
          },
          {
           "about": {
            "dateTime": "2023-10-02T23:22:57Z",
            "eventId": 114,
            "eventIdx": 41,
            "goals": {
             "away": 1,
             "home": 1
            },
            "ordinalNum": "1st",
            "period": 1,
            "periodTime": "07:56",
            "periodTimeRemaining": "12:04",
            "periodType": "REGULAR"
           },
           "coordinates": {
            "x": 20,
            "y": -22
           },
           "players": [
            {
             "player": {
              "fullName": "John Tavares",
              "id": 8475166,
              "link": "/api/v1/people/8475166"
             },
             "playerType": "Winner"
            },
            {
             "player": {
              "fullName": "Jake Evans",
              "id": 8478133,
              "link": "/api/v1/people/8478133"
             },
             "playerType": "Loser"
            }
           ],
           "result": {
            "description": "John Tavares faceoff won against Jake Evans",
            "event": "Faceoff",
            "eventCode": "TOR114",
            "eventTypeId": "FACEOFF"
           },
           "team": {
            "id": 10,
            "link": "/api/v1/teams/10",
            "name": "Toronto Maple Leafs",
            "triCode": "TOR"
           }
          },
          {
           "about": {
            "dateTime": "2023-10-02T23:23:04Z",
            "eventId": 26,
            "eventIdx": 42,
            "goals": {
             "away": 1,
             "home": 1
            },
            "ordinalNum": "1st",
            "period": 1,
            "periodTime": "08:03",
            "periodTimeRemaining": "11:57",
            "periodType": "REGULAR"
           },
           "coordinates": {
            "x": 35,
            "y": 30
           },
           "result": {
            "description": "Icing",
            "event": "Stoppage",
            "eventCode": "TOR26",
            "eventTypeId": "STOP"
           }
          },
          {
           "about": {
            "dateTime": "2023-10-02T23:23:27Z",
            "eventId": 115,
            "eventIdx": 43,
            "goals": {
             "away": 1,
             "home": 1
            },
            "ordinalNum": "1st",
            "period": 1,
            "periodTime": "08:03",
            "periodTimeRemaining": "11:57",
            "periodType": "REGULAR"
           },
           "coordinates": {
            "x": 69,
            "y": -22
           },
           "players": [
            {
             "player": {
              "fullName": "John Tavares",
              "id": 8475166,
              "link": "/api/v1/people/8475166"
             },
             "playerType": "Winner"
            },
            {
             "player": {
              "fullName": "Jake Evans",
              "id": 8478133,
              "link": "/api/v1/people/8478133"
             },
             "playerType": "Loser"
            }
           ],
           "result": {
            "description": "John Tavares faceoff won against Jake Evans",
            "event": "Faceoff",
            "eventCode": "TOR115",
            "eventTypeId": "FACEOFF"
           },
           "team": {
            "id": 10,
            "link": "/api/v1/teams/10",
            "name": "Toronto Maple Leafs",
            "triCode": "TOR"
           }
          },
          {
           "about": {
            "dateTime": "2023-10-02T23:23:45Z",
            "eventId": 27,
            "eventIdx": 44,
            "goals": {
             "away": 1,
             "home": 1
            },
            "ordinalNum": "1st",
            "period": 1,
            "periodTime": "08:21",
            "periodTimeRemaining": "11:39",
            "periodType": "REGULAR"
           },
           "coordinates": {
            "x": -82,
            "y": -34
           },
           "players": [
            {
             "player": {
              "fullName": "Emil Heineman",
              "id": 8482476,
              "link": "/api/v1/people/8482476"
             },
             "playerType": "Hitter"
            },
            {
             "player": {
              "fullName": "Mikko Kokkonen",
              "id": 8481614,
              "link": "/api/v1/people/8481614"
             },
             "playerType": "Hittee"
            }
           ],
           "result": {
            "description": "Emil Heineman hit Mikko Kokkonen",
            "event": "Hit",
            "eventCode": "TOR27",
            "eventTypeId": "HIT"
           },
           "team": {
            "id": 8,
            "link": "/api/v1/teams/8",
            "name": "Montréal Canadiens",
            "triCode": "MTL"
           }
          },
          {
           "about": {
            "dateTime": "2023-10-02T23:23:53Z",
            "eventId": 234,
            "eventIdx": 45,
            "goals": {
             "away": 1,
             "home": 1
            },
            "ordinalNum": "1st",
            "period": 1,
            "periodTime": "08:29",
            "periodTimeRemaining": "11:31",
            "periodType": "REGULAR"
           },
           "coordinates": {
            "x": -61,
            "y": -36
           },
           "players": [
            {
             "player": {
              "fullName": "John Tavares",
              "id": 8475166,
              "link": "/api/v1/people/8475166"
             },
             "playerType": "Shooter"
            },
            {
             "player": {
              "fullName": "Jake Allen",
              "id": 8474596,
              "link": "/api/v1/people/8474596"
             },
             "playerType": "Unknown"
            }
           ],
           "result": {
            "description": "John Tavares Wide Right Jake Allen",
            "event": "Missed Shot",
            "eventCode": "TOR234",
            "eventTypeId": "MISSED_SHOT"
           },
           "team": {
            "id": 10,
            "link": "/api/v1/teams/10",
            "name": "Toronto Maple Leafs",
            "triCode": "TOR"
           }
          },
          {
           "about": {
            "dateTime": "2023-10-02T23:23:56Z",
            "eventId": 28,
            "eventIdx": 46,
            "goals": {
             "away": 1,
             "home": 1
            },
            "ordinalNum": "1st",
            "period": 1,
            "periodTime": "08:32",
            "periodTimeRemaining": "11:28",
            "periodType": "REGULAR"
           },
           "coordinates": {
            "x": -86,
            "y": 6
           },
           "result": {
            "description": "Puck Frozen",
            "event": "Stoppage",
            "eventCode": "TOR28",
            "eventTypeId": "STOP"
           }
          },
          {
           "about": {
            "dateTime": "2023-10-02T23:24:27Z",
            "eventId": 116,
            "eventIdx": 47,
            "goals": {
             "away": 1,
             "home": 1
            },
            "ordinalNum": "1st",
            "period": 1,
            "periodTime": "08:32",
            "periodTimeRemaining": "11:28",
            "periodType": "REGULAR"
           },
           "coordinates": {
            "x": -69,
            "y": -22
           },
           "players": [
            {
             "player": {
              "fullName": "Sean Monahan",
              "id": 8477497,
              "link": "/api/v1/people/8477497"
             },
             "playerType": "Winner"
            },
            {
             "player": {
              "fullName": "Max Domi",
              "id": 8477503,
              "link": "/api/v1/people/8477503"
             },
             "playerType": "Loser"
            }
           ],
           "result": {
            "description": "Sean Monahan faceoff won against Max Domi",
            "event": "Faceoff",
            "eventCode": "TOR116",
            "eventTypeId": "FACEOFF"
           },
           "team": {
            "id": 8,
            "link": "/api/v1/teams/8",
            "name": "Montréal Canadiens",
            "triCode": "MTL"
           }
          },
          {
           "about": {
            "dateTime": "2023-10-02T23:25:03Z",
            "eventId": 239,
            "eventIdx": 48,
            "goals": {
             "away": 1,
             "home": 1
            },
            "ordinalNum": "1st",
            "period": 1,
            "periodTime": "09:08",
            "periodTimeRemaining": "10:52",
            "periodType": "REGULAR"
           },
           "coordinates": {
            "x": 41,
            "y": 21
           },
           "players": [
            {
             "player": {
              "fullName": "Arber Xhekaj",
              "id": 8482964,
              "link": "/api/v1/people/8482964"
             },
             "playerType": "Shooter"
            },
            {
             "player": {
              "fullName": "Ilya Samsonov",
              "id": 8478492,
              "link": "/api/v1/people/8478492"
             },
             "playerType": "Goalie"
            }
           ],
           "result": {
            "description": "Arber Xhekaj Wrist Shot saved by Ilya Samsonov",
            "event": "Shot",
            "eventCode": "TOR239",
            "eventTypeId": "SHOT",
            "secondaryType": "Wrist Shot"
           },
           "team": {
            "id": 8,
            "link": "/api/v1/teams/8",
            "name": "Montréal Canadiens",
            "triCode": "MTL"
           }
          },
          {
           "about": {
            "dateTime": "2023-10-02T23:25:10Z",
            "eventId": 29,
            "eventIdx": 49,
            "goals": {
             "away": 1,
             "home": 1
            },
            "ordinalNum": "1st",
            "period": 1,
            "periodTime": "09:15",
            "periodTimeRemaining": "10:45",
            "periodType": "REGULAR"
           },
           "coordinates": {
            "x": 93,
            "y": 30
           },
           "players": [
            {
             "player": {
              "fullName": "Nicholas Robertson",
              "id": 8481582,
              "link": "/api/v1/people/8481582"
             },
             "playerType": "Hitter"
            },
            {
             "player": {
              "fullName": "Tanner Pearson",
              "id": 8476871,
              "link": "/api/v1/people/8476871"
             },
             "playerType": "Hittee"
            }
           ],
           "result": {
            "description": "Nicholas Robertson hit Tanner Pearson",
            "event": "Hit",
            "eventCode": "TOR29",
            "eventTypeId": "HIT"
           },
           "team": {
            "id": 10,
            "link": "/api/v1/teams/10",
            "name": "Toronto Maple Leafs",
            "triCode": "TOR"
           }
          },
          {
           "about": {
            "dateTime": "2023-10-02T23:25:12Z",
            "eventId": 240,
            "eventIdx": 50,
            "goals": {
             "away": 1,
             "home": 1
            },
            "ordinalNum": "1st",
            "period": 1,
            "periodTime": "09:17",
            "periodTimeRemaining": "10:43",
            "periodType": "REGULAR"
           },
           "coordinates": {
            "x": 33,
            "y": -2
           },
           "players": [
            {
             "player": {
              "fullName": "Johnathan Kovacevic",
              "id": 8480192,
              "link": "/api/v1/people/8480192"
             },
             "playerType": "Shooter"
            },
            {
             "player": {
              "fullName": "Ilya Samsonov",
              "id": 8478492,
              "link": "/api/v1/people/8478492"
             },
             "playerType": "Goalie"
            }
           ],
           "result": {
            "description": "Johnathan Kovacevic Wrist Shot saved by Ilya Samsonov",
            "event": "Shot",
            "eventCode": "TOR240",
            "eventTypeId": "SHOT",
            "secondaryType": "Wrist Shot"
           },
           "team": {
            "id": 8,
            "link": "/api/v1/teams/8",
            "name": "Montréal Canadiens",
            "triCode": "MTL"
           }
          },
          {
           "about": {
            "dateTime": "2023-10-02T23:25:14Z",
            "eventId": 30,
            "eventIdx": 51,
            "goals": {
             "away": 1,
             "home": 1
            },
            "ordinalNum": "1st",
            "period": 1,
            "periodTime": "09:19",
            "periodTimeRemaining": "10:41",
            "periodType": "REGULAR"
           },
           "coordinates": {
            "x": 84,
            "y": 1
           },
           "result": {
            "description": "Goalie Stopped",
            "event": "Stoppage",
            "eventCode": "TOR30",
            "eventTypeId": "STOP"
           }
          },
          {
           "about": {
            "dateTime": "2023-10-02T23:25:49Z",
            "eventId": 117,
            "eventIdx": 52,
            "goals": {
             "away": 1,
             "home": 1
            },
            "ordinalNum": "1st",
            "period": 1,
            "periodTime": "09:19",
            "periodTimeRemaining": "10:41",
            "periodType": "REGULAR"
           },
           "coordinates": {
            "x": 69,
            "y": -22
           },
           "players": [
            {
             "player": {
              "fullName": "Nick Suzuki",
              "id": 8480018,
              "link": "/api/v1/people/8480018"
             },
             "playerType": "Winner"
            },
            {
             "player": {
              "fullName": "David Kampf",
              "id": 8480144,
              "link": "/api/v1/people/8480144"
             },
             "playerType": "Loser"
            }
           ],
           "result": {
            "description": "Nick Suzuki faceoff won against David Kampf",
            "event": "Faceoff",
            "eventCode": "TOR117",
            "eventTypeId": "FACEOFF"
           },
           "team": {
            "id": 8,
            "link": "/api/v1/teams/8",
            "name": "Montréal Canadiens",
            "triCode": "MTL"
           }
          },
          {
           "about": {
            "dateTime": "2023-10-02T23:26:11Z",
            "eventId": 31,
            "eventIdx": 53,
            "goals": {
             "away": 1,
             "home": 1
            },
            "ordinalNum": "1st",
            "period": 1,
            "periodTime": "09:41",
            "periodTimeRemaining": "10:19",
            "periodType": "REGULAR"
           },
           "coordinates": {
            "x": -96,
            "y": 18
           },
           "players": [
            {
             "player": {
              "fullName": "Arber Xhekaj",
              "id": 8482964,
              "link": "/api/v1/people/8482964"
             },
             "playerType": "Hitter"
            },
            {
             "player": {
              "fullName": "David Kampf",
              "id": 8480144,
              "link": "/api/v1/people/8480144"
             },
             "playerType": "Hittee"
            }
           ],
           "result": {
            "description": "Arber Xhekaj hit David Kampf",
            "event": "Hit",
            "eventCode": "TOR31",
            "eventTypeId": "HIT"
           },
           "team": {
            "id": 8,
            "link": "/api/v1/teams/8",
            "name": "Montréal Canadiens",
            "triCode": "MTL"
           }
          },
          {
           "about": {
            "dateTime": "2023-10-02T23:26:36Z",
            "eventId": 32,
            "eventIdx": 54,
            "goals": {
             "away": 1,
             "home": 1
            },
            "ordinalNum": "1st",
            "period": 1,
            "periodTime": "10:06",
            "periodTimeRemaining": "09:54",
            "periodType": "REGULAR"
           },
           "coordinates": {
            "x": -39,
            "y": -39
           },
           "players": [
            {
             "player": {
              "fullName": "Nick Suzuki",
              "id": 8480018,
              "link": "/api/v1/people/8480018"
             },
             "playerType": "Hitter"
            },
            {
             "player": {
              "fullName": "David Kampf",
              "id": 8480144,
              "link": "/api/v1/people/8480144"
             },
             "playerType": "Hittee"
            }
           ],
           "result": {
            "description": "Nick Suzuki hit David Kampf",
            "event": "Hit",
            "eventCode": "TOR32",
            "eventTypeId": "HIT"
           },
           "team": {
            "id": 8,
            "link": "/api/v1/teams/8",
            "name": "Montréal Canadiens",
            "triCode": "MTL"
           }
          },
          {
           "about": {
            "dateTime": "2023-10-02T23:26:40Z",
            "eventId": 247,
            "eventIdx": 55,
            "goals": {
             "away": 1,
             "home": 1
            },
            "ordinalNum": "1st",
            "period": 1,
            "periodTime": "10:10",
            "periodTimeRemaining": "09:50",
            "periodType": "REGULAR"
           },
           "coordinates": {
            "x": -98,
            "y": -18
           },
           "players": [
            {
             "player": {
              "fullName": "Mitchell Marner",
              "id": 8478483,
              "link": "/api/v1/people/8478483"
             },
             "playerType": "Shooter"
            },
            {
             "player": {
              "fullName": "Jake Allen",
              "id": 8474596,
              "link": "/api/v1/people/8474596"
             },
             "playerType": "Goalie"
            }
           ],
           "result": {
            "description": "Mitchell Marner Backhand saved by Jake Allen",
            "event": "Shot",
            "eventCode": "TOR247",
            "eventTypeId": "SHOT",
            "secondaryType": "Backhand"
           },
           "team": {
            "id": 10,
            "link": "/api/v1/teams/10",
            "name": "Toronto Maple Leafs",
            "triCode": "TOR"
           }
          },
          {
           "about": {
            "dateTime": "2023-10-02T23:26:43Z",
            "eventId": 118,
            "eventIdx": 56,
            "goals": {
             "away": 1,
             "home": 1
            },
            "ordinalNum": "1st",
            "period": 1,
            "periodTime": "10:13",
            "periodTimeRemaining": "09:47",
            "periodType": "REGULAR"
           },
           "coordinates": {
            "x": -96,
            "y": -20
           },
           "players": [
            {
             "player": {
              "fullName": "Mitchell Marner",
              "id": 8478483,
              "link": "/api/v1/people/8478483"
             },
             "playerType": "PlayerID"
            }
           ],
           "result": {
            "description": "Takeaway by Mitchell Marner",
            "event": "Takeaway",
            "eventCode": "TOR118",
            "eventTypeId": "TAKEAWAY"
           },
           "team": {
            "id": 10,
            "link": "/api/v1/teams/10",
            "name": "Toronto Maple Leafs",
            "triCode": "TOR"
           }
          },
          {
           "about": {
            "dateTime": "2023-10-02T23:27:06Z",
            "eventId": 33,
            "eventIdx": 57,
            "goals": {
             "away": 1,
             "home": 1
            },
            "ordinalNum": "1st",
            "period": 1,
            "periodTime": "10:36",
            "periodTimeRemaining": "09:24",
            "periodType": "REGULAR"
           },
           "coordinates": {
            "x": -92,
            "y": 30
           },
           "players": [
            {
             "player": {
              "fullName": "Logan Mailloux",
              "id": 8482733,
              "link": "/api/v1/people/8482733"
             },
             "playerType": "Hitter"
            },
            {
             "player": {
              "fullName": "Auston Matthews",
              "id": 8479318,
              "link": "/api/v1/people/8479318"
             },
             "playerType": "Hittee"
            }
           ],
           "result": {
            "description": "Logan Mailloux hit Auston Matthews",
            "event": "Hit",
            "eventCode": "TOR33",
            "eventTypeId": "HIT"
           },
           "team": {
            "id": 8,
            "link": "/api/v1/teams/8",
            "name": "Montréal Canadiens",
            "triCode": "MTL"
           }
          },
          {
           "about": {
            "dateTime": "2023-10-02T23:27:08Z",
            "eventId": 352,
            "eventIdx": 58,
            "goals": {
             "away": 1,
             "home": 1
            },
            "ordinalNum": "1st",
            "period": 1,
            "periodTime": "10:38",
            "periodTimeRemaining": "09:22",
            "periodType": "REGULAR"
           },
           "coordinates": {
            "x": -76,
            "y": -1
           },
           "players": [
            {
             "player": {
              "fullName": "Auston Matthews",
              "id": 8479318,
              "link": "/api/v1/people/8479318"
             },
             "playerType": "Shooter"
            },
            {
             "player": {
              "fullName": "Jake Allen",
              "id": 8474596,
              "link": "/api/v1/people/8474596"
             },
             "playerType": "Goalie"
            }
           ],
           "result": {
            "description": "Auston Matthews Snap Shot saved by Jake Allen",
            "event": "Shot",
            "eventCode": "TOR352",
            "eventTypeId": "SHOT",
            "secondaryType": "Snap Shot"
           },
           "team": {
            "id": 10,
            "link": "/api/v1/teams/10",
            "name": "Toronto Maple Leafs",
            "triCode": "TOR"
           }
          },
          {
           "about": {
            "dateTime": "2023-10-02T23:27:12Z",
            "eventId": 36,
            "eventIdx": 60,
            "goals": {
             "away": 1,
             "home": 1
            },
            "ordinalNum": "1st",
            "period": 1,
            "periodTime": "10:43",
            "periodTimeRemaining": "09:17",
            "periodType": "REGULAR"
           },
           "coordinates": {
            "x": -1,
            "y": -39
           },
           "result": {
            "description": "TV timeout",
            "event": "Stoppage",
            "eventCode": "TOR36",
            "eventTypeId": "STOP"
           }
          },
          {
           "about": {
            "dateTime": "2023-10-02T23:27:12Z",
            "eventId": 356,
            "eventIdx": 59,
            "goals": {
             "away": 1,
             "home": 1
            },
            "ordinalNum": "1st",
            "period": 1,
            "periodTime": "10:43",
            "periodTimeRemaining": "09:17",
            "periodType": "REGULAR"
           },
           "coordinates": {
            "x": -82,
            "y": 21
           },
           "players": [
            {
             "player": {
              "fullName": "Nick Suzuki",
              "id": 8480018,
              "link": "/api/v1/people/8480018"
             },
             "playerType": "PenaltyOn"
            },
            {
             "player": {
              "fullName": "Mitchell Marner",
              "id": 8478483,
              "link": "/api/v1/people/8478483"
             },
             "playerType": "DrewBy"
            }
           ],
           "result": {
            "description": "Nick Suzuki Hooking against Mitchell Marner",
            "event": "Penalty",
            "eventCode": "TOR356",
            "eventTypeId": "PENALTY",
            "penaltyMinutes": 2,
            "penaltySeverity": "Minor",
            "secondaryType": "Hooking"
           },
           "team": {
            "id": 8,
            "link": "/api/v1/teams/8",
            "name": "Montréal Canadiens",
            "triCode": "MTL"
           }
          },
          {
           "about": {
            "dateTime": "2023-10-02T23:29:38Z",
            "eventId": 119,
            "eventIdx": 61,
            "goals": {
             "away": 1,
             "home": 1
            },
            "ordinalNum": "1st",
            "period": 1,
            "periodTime": "10:43",
            "periodTimeRemaining": "09:17",
            "periodType": "REGULAR"
           },
           "coordinates": {
            "x": -69,
            "y": -22
           },
           "players": [
            {
             "player": {
              "fullName": "John Tavares",
              "id": 8475166,
              "link": "/api/v1/people/8475166"
             },
             "playerType": "Winner"
            },
            {
             "player": {
              "fullName": "Jake Evans",
              "id": 8478133,
              "link": "/api/v1/people/8478133"
             },
             "playerType": "Loser"
            }
           ],
           "result": {
            "description": "John Tavares faceoff won against Jake Evans",
            "event": "Faceoff",
            "eventCode": "TOR119",
            "eventTypeId": "FACEOFF"
           },
           "team": {
            "id": 10,
            "link": "/api/v1/teams/10",
            "name": "Toronto Maple Leafs",
            "triCode": "TOR"
           }
          },
          {
           "about": {
            "dateTime": "2023-10-02T23:30:14Z",
            "eventId": 361,
            "eventIdx": 62,
            "goals": {
             "away": 1,
             "home": 1
            },
            "ordinalNum": "1st",
            "period": 1,
            "periodTime": "11:19",
            "periodTimeRemaining": "08:41",
            "periodType": "REGULAR"
           },
           "coordinates": {
            "x": -69,
            "y": -24
           },
           "players": [
            {
             "player": {
              "fullName": "John Tavares",
              "id": 8475166,
              "link": "/api/v1/people/8475166"
             },
             "playerType": "Shooter"
            },
            {
             "player": {
              "fullName": "Jake Allen",
              "id": 8474596,
              "link": "/api/v1/people/8474596"
             },
             "playerType": "Goalie"
            }
           ],
           "result": {
            "description": "John Tavares Snap Shot saved by Jake Allen",
            "event": "Shot",
            "eventCode": "TOR361",
            "eventTypeId": "SHOT",
            "secondaryType": "Snap Shot"
           },
           "team": {
            "id": 10,
            "link": "/api/v1/teams/10",
            "name": "Toronto Maple Leafs",
            "triCode": "TOR"
           }
          },
          {
           "about": {
            "dateTime": "2023-10-02T23:30:18Z",
            "eventId": 37,
            "eventIdx": 63,
            "goals": {
             "away": 1,
             "home": 1
            },
            "ordinalNum": "1st",
            "period": 1,
            "periodTime": "11:22",
            "periodTimeRemaining": "08:38",
            "periodType": "REGULAR"
           },
           "coordinates": {
            "x": -83,
            "y": 0
           },
           "result": {
            "description": "Goalie Stopped",
            "event": "Stoppage",
            "eventCode": "TOR37",
            "eventTypeId": "STOP"
           }
          },
          {
           "about": {
            "dateTime": "2023-10-02T23:30:38Z",
            "eventId": 120,
            "eventIdx": 64,
            "goals": {
             "away": 1,
             "home": 1
            },
            "ordinalNum": "1st",
            "period": 1,
            "periodTime": "11:22",
            "periodTimeRemaining": "08:38",
            "periodType": "REGULAR"
           },
           "coordinates": {
            "x": -69,
            "y": -22
           },
           "players": [
            {
             "player": {
              "fullName": "John Tavares",
              "id": 8475166,
              "link": "/api/v1/people/8475166"
             },
             "playerType": "Winner"
            },
            {
             "player": {
              "fullName": "Kirby Dach",
              "id": 8481523,
              "link": "/api/v1/people/8481523"
             },
             "playerType": "Loser"
            }
           ],
           "result": {
            "description": "John Tavares faceoff won against Kirby Dach",
            "event": "Faceoff",
            "eventCode": "TOR120",
            "eventTypeId": "FACEOFF"
           },
           "team": {
            "id": 10,
            "link": "/api/v1/teams/10",
            "name": "Toronto Maple Leafs",
            "triCode": "TOR"
           }
          },
          {
           "about": {
            "dateTime": "2023-10-02T23:31:08Z",
            "eventId": 367,
            "eventIdx": 65,
            "goals": {
             "away": 1,
             "home": 1
            },
            "ordinalNum": "1st",
            "period": 1,
            "periodTime": "11:52",
            "periodTimeRemaining": "08:08",
            "periodType": "REGULAR"
           },
           "coordinates": {
            "x": -71,
            "y": -20
           },
           "players": [
            {
             "player": {
              "fullName": "John Tavares",
              "id": 8475166,
              "link": "/api/v1/people/8475166"
             },
             "playerType": "Shooter"
            },
            {
             "player": {
              "fullName": "Jake Allen",
              "id": 8474596,
              "link": "/api/v1/people/8474596"
             },
             "playerType": "Goalie"
            }
           ],
           "result": {
            "description": "John Tavares Wrist Shot saved by Jake Allen",
            "event": "Shot",
            "eventCode": "TOR367",
            "eventTypeId": "SHOT",
            "secondaryType": "Wrist Shot"
           },
           "team": {
            "id": 10,
            "link": "/api/v1/teams/10",
            "name": "Toronto Maple Leafs",
            "triCode": "TOR"
           }
          },
          {
           "about": {
            "dateTime": "2023-10-02T23:31:19Z",
            "eventId": 368,
            "eventIdx": 66,
            "goals": {
             "away": 1,
             "home": 1
            },
            "ordinalNum": "1st",
            "period": 1,
            "periodTime": "12:03",
            "periodTimeRemaining": "07:57",
            "periodType": "REGULAR"
           },
           "coordinates": {
            "x": -60,
            "y": 6
           },
           "players": [
            {
             "player": {
              "fullName": "Tanner Pearson",
              "id": 8476871,
              "link": "/api/v1/people/8476871"
             },
             "playerType": "Blocker"
            },
            {
             "player": {
              "fullName": "Auston Matthews",
              "id": 8479318,
              "link": "/api/v1/people/8479318"
             },
             "playerType": "Shooter"
            }
           ],
           "result": {
            "description": "Auston Matthews shot blocked shot by Tanner Pearson",
            "event": "Blocked Shot",
            "eventCode": "TOR368",
            "eventTypeId": "BLOCKED_SHOT"
           },
           "team": {
            "id": 8,
            "link": "/api/v1/teams/8",
            "name": "Montréal Canadiens",
            "triCode": "MTL"
           }
          },
          {
           "about": {
            "dateTime": "2023-10-02T23:31:25Z",
            "eventId": 154,
            "eventIdx": 67,
            "goals": {
             "away": 1,
             "home": 2
            },
            "ordinalNum": "1st",
            "period": 1,
            "periodTime": "12:10",
            "periodTimeRemaining": "07:50",
            "periodType": "REGULAR"
           },
           "coordinates": {
            "x": -81,
            "y": 3
           },
           "players": [
            {
             "player": {
              "fullName": "John Tavares",
              "id": 8475166,
              "link": "/api/v1/people/8475166"
             },
             "playerType": "Scorer",
             "seasonTotal": 1
            },
            {
             "player": {
              "fullName": "Auston Matthews",
              "id": 8479318,
              "link": "/api/v1/people/8479318"
             },
             "playerType": "Assist",
             "seasonTotal": 1
            },
            {
             "player": {
              "fullName": "Timothy Liljegren",
              "id": 8480043,
              "link": "/api/v1/people/8480043"
             },
             "playerType": "Assist",
             "seasonTotal": 1
            },
            {
             "player": {
              "fullName": "Jake Allen",
              "id": 8474596,
              "link": "/api/v1/people/8474596"
             },
             "playerType": "Goalie"
            }
           ],
           "result": {
            "description": "John Tavares (1) Wrist Shot, assists: Auston Matthews (1), Timothy Liljegren (1)",
            "emptyNet": false,
            "event": "Goal",
            "eventCode": "TOR154",
            "eventTypeId": "GOAL",
            "gameWinningGoal": false,
            "secondaryType": "Wrist Shot",
            "strength": {
             "code": "PPG",
             "name": "Power Play"
            }
           },
           "team": {
            "id": 10,
            "link": "/api/v1/teams/10",
            "name": "Toronto Maple Leafs",
            "triCode": "TOR"
           }
          },
          {
           "about": {
            "dateTime": "2023-10-02T23:32:16Z",
            "eventId": 121,
            "eventIdx": 68,
            "goals": {
             "away": 1,
             "home": 2
            },
            "ordinalNum": "1st",
            "period": 1,
            "periodTime": "12:10",
            "periodTimeRemaining": "07:50",
            "periodType": "REGULAR"
           },
           "coordinates": {
            "x": 0,
            "y": 0
           },
           "players": [
            {
             "player": {
              "fullName": "Sean Monahan",
              "id": 8477497,
              "link": "/api/v1/people/8477497"
             },
             "playerType": "Winner"
            },
            {
             "player": {
              "fullName": "David Kampf",
              "id": 8480144,
              "link": "/api/v1/people/8480144"
             },
             "playerType": "Loser"
            }
           ],
           "result": {
            "description": "Sean Monahan faceoff won against David Kampf",
            "event": "Faceoff",
            "eventCode": "TOR121",
            "eventTypeId": "FACEOFF"
           },
           "team": {
            "id": 8,
            "link": "/api/v1/teams/8",
            "name": "Montréal Canadiens",
            "triCode": "MTL"
           }
          },
          {
           "about": {
            "dateTime": "2023-10-02T23:32:21Z",
            "eventId": 38,
            "eventIdx": 69,
            "goals": {
             "away": 1,
             "home": 2
            },
            "ordinalNum": "1st",
            "period": 1,
            "periodTime": "12:15",
            "periodTimeRemaining": "07:45",
            "periodType": "REGULAR"
           },
           "coordinates": {
            "x": 2,
            "y": -22
           },
           "players": [
            {
             "player": {
              "fullName": "Simon Benoit",
              "id": 8481122,
              "link": "/api/v1/people/8481122"
             },
             "playerType": "Hitter"
            },
            {
             "player": {
              "fullName": "Brendan Gallagher",
              "id": 8475848,
              "link": "/api/v1/people/8475848"
             },
             "playerType": "Hittee"
            }
           ],
           "result": {
            "description": "Simon Benoit hit Brendan Gallagher",
            "event": "Hit",
            "eventCode": "TOR38",
            "eventTypeId": "HIT"
           },
           "team": {
            "id": 10,
            "link": "/api/v1/teams/10",
            "name": "Toronto Maple Leafs",
            "triCode": "TOR"
           }
          },
          {
           "about": {
            "dateTime": "2023-10-02T23:32:28Z",
            "eventId": 373,
            "eventIdx": 70,
            "goals": {
             "away": 1,
             "home": 2
            },
            "ordinalNum": "1st",
            "period": 1,
            "periodTime": "12:22",
            "periodTimeRemaining": "07:38",
            "periodType": "REGULAR"
           },
           "coordinates": {
            "x": -75,
            "y": -17
           },
           "players": [
            {
             "player": {
              "fullName": "David Kampf",
              "id": 8480144,
              "link": "/api/v1/people/8480144"
             },
             "playerType": "Shooter"
            },
            {
             "player": {
              "fullName": "Jake Allen",
              "id": 8474596,
              "link": "/api/v1/people/8474596"
             },
             "playerType": "Goalie"
            }
           ],
           "result": {
            "description": "David Kampf Wrist Shot saved by Jake Allen",
            "event": "Shot",
            "eventCode": "TOR373",
            "eventTypeId": "SHOT",
            "secondaryType": "Wrist Shot"
           },
           "team": {
            "id": 10,
            "link": "/api/v1/teams/10",
            "name": "Toronto Maple Leafs",
            "triCode": "TOR"
           }
          },
          {
           "about": {
            "dateTime": "2023-10-02T23:32:31Z",
            "eventId": 39,
            "eventIdx": 71,
            "goals": {
             "away": 1,
             "home": 2
            },
            "ordinalNum": "1st",
            "period": 1,
            "periodTime": "12:25",
            "periodTimeRemaining": "07:35",
            "periodType": "REGULAR"
           },
           "coordinates": {
            "x": -92,
            "y": 32
           },
           "result": {
            "description": "Puck in Netting",
            "event": "Stoppage",
            "eventCode": "TOR39",
            "eventTypeId": "STOP"
           }
          },
          {
           "about": {
            "dateTime": "2023-10-02T23:33:03Z",
            "eventId": 122,
            "eventIdx": 72,
            "goals": {
             "away": 1,
             "home": 2
            },
            "ordinalNum": "1st",
            "period": 1,
            "periodTime": "12:25",
            "periodTimeRemaining": "07:35",
            "periodType": "REGULAR"
           },
           "coordinates": {
            "x": -69,
            "y": -22
           },
           "players": [
            {
             "player": {
              "fullName": "Max Domi",
              "id": 8477503,
              "link": "/api/v1/people/8477503"
             },
             "playerType": "Winner"
            },
            {
             "player": {
              "fullName": "Sean Monahan",
              "id": 8477497,
              "link": "/api/v1/people/8477497"
             },
             "playerType": "Loser"
            }
           ],
           "result": {
            "description": "Max Domi faceoff won against Sean Monahan",
            "event": "Faceoff",
            "eventCode": "TOR122",
            "eventTypeId": "FACEOFF"
           },
           "team": {
            "id": 10,
            "link": "/api/v1/teams/10",
            "name": "Toronto Maple Leafs",
            "triCode": "TOR"
           }
          },
          {
           "about": {
            "dateTime": "2023-10-02T23:33:16Z",
            "eventId": 376,
            "eventIdx": 73,
            "goals": {
             "away": 1,
             "home": 2
            },
            "ordinalNum": "1st",
            "period": 1,
            "periodTime": "12:38",
            "periodTimeRemaining": "07:22",
            "periodType": "REGULAR"
           },
           "coordinates": {
            "x": -82,
            "y": -3
           },
           "players": [
            {
             "player": {
              "fullName": "TJ Brodie",
              "id": 8474673,
              "link": "/api/v1/people/8474673"
             },
             "playerType": "Shooter"
            },
            {
             "player": {
              "fullName": "Jake Allen",
              "id": 8474596,
              "link": "/api/v1/people/8474596"
             },
             "playerType": "Goalie"
            }
           ],
           "result": {
            "description": "TJ Brodie Wrist Shot saved by Jake Allen",
            "event": "Shot",
            "eventCode": "TOR376",
            "eventTypeId": "SHOT",
            "secondaryType": "Wrist Shot"
           },
           "team": {
            "id": 10,
            "link": "/api/v1/teams/10",
            "name": "Toronto Maple Leafs",
            "triCode": "TOR"
           }
          },
          {
           "about": {
            "dateTime": "2023-10-02T23:33:29Z",
            "eventId": 40,
            "eventIdx": 74,
            "goals": {
             "away": 1,
             "home": 2
            },
            "ordinalNum": "1st",
            "period": 1,
            "periodTime": "12:51",
            "periodTimeRemaining": "07:09",
            "periodType": "REGULAR"
           },
           "coordinates": {
            "x": 95,
            "y": -13
           },
           "players": [
            {
             "player": {
              "fullName": "Jake McCabe",
              "id": 8476931,
              "link": "/api/v1/people/8476931"
             },
             "playerType": "Hitter"
            },
            {
             "player": {
              "fullName": "Juraj Slafkovsky",
              "id": 8483515,
              "link": "/api/v1/people/8483515"
             },
             "playerType": "Hittee"
            }
           ],
           "result": {
            "description": "Jake McCabe hit Juraj Slafkovsky",
            "event": "Hit",
            "eventCode": "TOR40",
            "eventTypeId": "HIT"
           },
           "team": {
            "id": 10,
            "link": "/api/v1/teams/10",
            "name": "Toronto Maple Leafs",
            "triCode": "TOR"
           }
          },
          {
           "about": {
            "dateTime": "2023-10-02T23:34:19Z",
            "eventId": 389,
            "eventIdx": 75,
            "goals": {
             "away": 1,
             "home": 2
            },
            "ordinalNum": "1st",
            "period": 1,
            "periodTime": "13:40",
            "periodTimeRemaining": "06:20",
            "periodType": "REGULAR"
           },
           "coordinates": {
            "x": -67,
            "y": -39
           },
           "players": [
            {
             "player": {
              "fullName": "Logan Mailloux",
              "id": 8482733,
              "link": "/api/v1/people/8482733"
             },
             "playerType": "PenaltyOn"
            },
            {
             "player": {
              "fullName": "Matthew Knies",
              "id": 8482720,
              "link": "/api/v1/people/8482720"
             },
             "playerType": "DrewBy"
            }
           ],
           "result": {
            "description": "Logan Mailloux Roughing against Matthew Knies",
            "event": "Penalty",
            "eventCode": "TOR389",
            "eventTypeId": "PENALTY",
            "penaltyMinutes": 2,
            "penaltySeverity": "Minor",
            "secondaryType": "Roughing"
           },
           "team": {
            "id": 8,
            "link": "/api/v1/teams/8",
            "name": "Montréal Canadiens",
            "triCode": "MTL"
           }
          },
          {
           "about": {
            "dateTime": "2023-10-02T23:35:24Z",
            "eventId": 123,
            "eventIdx": 76,
            "goals": {
             "away": 1,
             "home": 2
            },
            "ordinalNum": "1st",
            "period": 1,
            "periodTime": "13:40",
            "periodTimeRemaining": "06:20",
            "periodType": "REGULAR"
           },
           "coordinates": {
            "x": -69,
            "y": -22
           },
           "players": [
            {
             "player": {
              "fullName": "Emil Heineman",
              "id": 8482476,
              "link": "/api/v1/people/8482476"
             },
             "playerType": "Winner"
            },
            {
             "player": {
              "fullName": "Auston Matthews",
              "id": 8479318,
              "link": "/api/v1/people/8479318"
             },
             "playerType": "Loser"
            }
           ],
           "result": {
            "description": "Emil Heineman faceoff won against Auston Matthews",
            "event": "Faceoff",
            "eventCode": "TOR123",
            "eventTypeId": "FACEOFF"
           },
           "team": {
            "id": 8,
            "link": "/api/v1/teams/8",
            "name": "Montréal Canadiens",
            "triCode": "MTL"
           }
          },
          {
           "about": {
            "dateTime": "2023-10-02T23:35:47Z",
            "eventId": 394,
            "eventIdx": 77,
            "goals": {
             "away": 1,
             "home": 2
            },
            "ordinalNum": "1st",
            "period": 1,
            "periodTime": "14:03",
            "periodTimeRemaining": "05:57",
            "periodType": "REGULAR"
           },
           "coordinates": {
            "x": -74,
            "y": 11
           },
           "players": [
            {
             "player": {
              "fullName": "William Nylander",
              "id": 8477939,
              "link": "/api/v1/people/8477939"
             },
             "playerType": "Shooter"
            },
            {
             "player": {
              "fullName": "Jake Allen",
              "id": 8474596,
              "link": "/api/v1/people/8474596"
             },
             "playerType": "Unknown"
            }
           ],
           "result": {
            "description": "William Nylander High and Wide Right Jake Allen",
            "event": "Missed Shot",
            "eventCode": "TOR394",
            "eventTypeId": "MISSED_SHOT"
           },
           "team": {
            "id": 10,
            "link": "/api/v1/teams/10",
            "name": "Toronto Maple Leafs",
            "triCode": "TOR"
           }
          },
          {
           "about": {
            "dateTime": "2023-10-02T23:36:16Z",
            "eventId": 397,
            "eventIdx": 78,
            "goals": {
             "away": 1,
             "home": 2
            },
            "ordinalNum": "1st",
            "period": 1,
            "periodTime": "14:32",
            "periodTimeRemaining": "05:28",
            "periodType": "REGULAR"
           },
           "coordinates": {
            "x": -78,
            "y": 13
           },
           "players": [
            {
             "player": {
              "fullName": "Auston Matthews",
              "id": 8479318,
              "link": "/api/v1/people/8479318"
             },
             "playerType": "Shooter"
            },
            {
             "player": {
              "fullName": "Jake Allen",
              "id": 8474596,
              "link": "/api/v1/people/8474596"
             },
             "playerType": "Goalie"
            }
           ],
           "result": {
            "description": "Auston Matthews Wrist Shot saved by Jake Allen",
            "event": "Shot",
            "eventCode": "TOR397",
            "eventTypeId": "SHOT",
            "secondaryType": "Wrist Shot"
           },
           "team": {
            "id": 10,
            "link": "/api/v1/teams/10",
            "name": "Toronto Maple Leafs",
            "triCode": "TOR"
           }
          },
          {
           "about": {
            "dateTime": "2023-10-02T23:36:17Z",
            "eventId": 398,
            "eventIdx": 79,
            "goals": {
             "away": 1,
             "home": 2
            },
            "ordinalNum": "1st",
            "period": 1,
            "periodTime": "14:33",
            "periodTimeRemaining": "05:27",
            "periodType": "REGULAR"
           },
           "coordinates": {
            "x": -87,
            "y": 6
           },
           "players": [
            {
             "player": {
              "fullName": "John Tavares",
              "id": 8475166,
              "link": "/api/v1/people/8475166"
             },
             "playerType": "Shooter"
            },
            {
             "player": {
              "fullName": "Jake Allen",
              "id": 8474596,
              "link": "/api/v1/people/8474596"
             },
             "playerType": "Unknown"
            }
           ],
           "result": {
            "description": "John Tavares Wide Right Jake Allen",
            "event": "Missed Shot",
            "eventCode": "TOR398",
            "eventTypeId": "MISSED_SHOT"
           },
           "team": {
            "id": 10,
            "link": "/api/v1/teams/10",
            "name": "Toronto Maple Leafs",
            "triCode": "TOR"
           }
          },
          {
           "about": {
            "dateTime": "2023-10-02T23:36:29Z",
            "eventId": 257,
            "eventIdx": 80,
            "goals": {
             "away": 1,
             "home": 2
            },
            "ordinalNum": "1st",
            "period": 1,
            "periodTime": "14:45",
            "periodTimeRemaining": "05:15",
            "periodType": "REGULAR"
           },
           "coordinates": {
            "x": -69,
            "y": 24
           },
           "players": [
            {
             "player": {
              "fullName": "Auston Matthews",
              "id": 8479318,
              "link": "/api/v1/people/8479318"
             },
             "playerType": "Shooter"
            },
            {
             "player": {
              "fullName": "Jake Allen",
              "id": 8474596,
              "link": "/api/v1/people/8474596"
             },
             "playerType": "Unknown"
            }
           ],
           "result": {
            "description": "Auston Matthews Short Jake Allen",
            "event": "Missed Shot",
            "eventCode": "TOR257",
            "eventTypeId": "MISSED_SHOT"
           },
           "team": {
            "id": 10,
            "link": "/api/v1/teams/10",
            "name": "Toronto Maple Leafs",
            "triCode": "TOR"
           }
          },
          {
           "about": {
            "dateTime": "2023-10-02T23:37:22Z",
            "eventId": 44,
            "eventIdx": 81,
            "goals": {
             "away": 1,
             "home": 2
            },
            "ordinalNum": "1st",
            "period": 1,
            "periodTime": "15:38",
            "periodTimeRemaining": "04:22",
            "periodType": "REGULAR"
           },
           "coordinates": {
            "x": -78,
            "y": -38
           },
           "players": [
            {
             "player": {
              "fullName": "Max Domi",
              "id": 8477503,
              "link": "/api/v1/people/8477503"
             },
             "playerType": "Hitter"
            },
            {
             "player": {
              "fullName": "Johnathan Kovacevic",
              "id": 8480192,
              "link": "/api/v1/people/8480192"
             },
             "playerType": "Hittee"
            }
           ],
           "result": {
            "description": "Max Domi hit Johnathan Kovacevic",
            "event": "Hit",
            "eventCode": "TOR44",
            "eventTypeId": "HIT"
           },
           "team": {
            "id": 10,
            "link": "/api/v1/teams/10",
            "name": "Toronto Maple Leafs",
            "triCode": "TOR"
           }
          },
          {
           "about": {
            "dateTime": "2023-10-02T23:37:41Z",
            "eventId": 124,
            "eventIdx": 82,
            "goals": {
             "away": 1,
             "home": 2
            },
            "ordinalNum": "1st",
            "period": 1,
            "periodTime": "15:57",
            "periodTimeRemaining": "04:03",
            "periodType": "REGULAR"
           },
           "coordinates": {
            "x": -32,
            "y": -27
           },
           "players": [
            {
             "player": {
              "fullName": "Johnathan Kovacevic",
              "id": 8480192,
              "link": "/api/v1/people/8480192"
             },
             "playerType": "PlayerID"
            }
           ],
           "result": {
            "description": "Takeaway by Johnathan Kovacevic",
            "event": "Takeaway",
            "eventCode": "TOR124",
            "eventTypeId": "TAKEAWAY"
           },
           "team": {
            "id": 8,
            "link": "/api/v1/teams/8",
            "name": "Montréal Canadiens",
            "triCode": "MTL"
           }
          },
          {
           "about": {
            "dateTime": "2023-10-02T23:37:46Z",
            "eventId": 45,
            "eventIdx": 83,
            "goals": {
             "away": 1,
             "home": 2
            },
            "ordinalNum": "1st",
            "period": 1,
            "periodTime": "16:02",
            "periodTimeRemaining": "03:58",
            "periodType": "REGULAR"
           },
           "coordinates": {
            "x": 15,
            "y": -39
           },
           "players": [
            {
             "player": {
              "fullName": "Max Domi",
              "id": 8477503,
              "link": "/api/v1/people/8477503"
             },
             "playerType": "Hitter"
            },
            {
             "player": {
              "fullName": "Jordan Harris",
              "id": 8480887,
              "link": "/api/v1/people/8480887"
             },
             "playerType": "Hittee"
            }
           ],
           "result": {
            "description": "Max Domi hit Jordan Harris",
            "event": "Hit",
            "eventCode": "TOR45",
            "eventTypeId": "HIT"
           },
           "team": {
            "id": 10,
            "link": "/api/v1/teams/10",
            "name": "Toronto Maple Leafs",
            "triCode": "TOR"
           }
          },
          {
           "about": {
            "dateTime": "2023-10-02T23:38:00Z",
            "eventId": 256,
            "eventIdx": 84,
            "goals": {
             "away": 1,
             "home": 2
            },
            "ordinalNum": "1st",
            "period": 1,
            "periodTime": "16:16",
            "periodTimeRemaining": "03:44",
            "periodType": "REGULAR"
           },
           "coordinates": {
            "x": 71,
            "y": -40
           },
           "players": [
            {
             "player": {
              "fullName": "Juraj Slafkovsky",
              "id": 8483515,
              "link": "/api/v1/people/8483515"
             },
             "playerType": "Blocker"
            },
            {
             "player": {
              "fullName": "Logan Mailloux",
              "id": 8482733,
              "link": "/api/v1/people/8482733"
             },
             "playerType": "Shooter"
            }
           ],
           "result": {
            "description": "Logan Mailloux shot blocked shot by Juraj Slafkovsky",
            "event": "Blocked Shot",
            "eventCode": "TOR256",
            "eventTypeId": "BLOCKED_SHOT"
           },
           "team": {
            "id": 8,
            "link": "/api/v1/teams/8",
            "name": "Montréal Canadiens",
            "triCode": "MTL"
           }
          },
          {
           "about": {
            "dateTime": "2023-10-02T23:38:12Z",
            "eventId": 464,
            "eventIdx": 85,
            "goals": {
             "away": 1,
             "home": 2
            },
            "ordinalNum": "1st",
            "period": 1,
            "periodTime": "16:28",
            "periodTimeRemaining": "03:32",
            "periodType": "REGULAR"
           },
           "coordinates": {
            "x": 75,
            "y": 4
           },
           "players": [
            {
             "player": {
              "fullName": "Simon Benoit",
              "id": 8481122,
              "link": "/api/v1/people/8481122"
             },
             "playerType": "Blocker"
            },
            {
             "player": {
              "fullName": "Juraj Slafkovsky",
              "id": 8483515,
              "link": "/api/v1/people/8483515"
             },
             "playerType": "Shooter"
            }
           ],
           "result": {
            "description": "Juraj Slafkovsky shot blocked shot by Simon Benoit",
            "event": "Blocked Shot",
            "eventCode": "TOR464",
            "eventTypeId": "BLOCKED_SHOT"
           },
           "team": {
            "id": 10,
            "link": "/api/v1/teams/10",
            "name": "Toronto Maple Leafs",
            "triCode": "TOR"
           }
          },
          {
           "about": {
            "dateTime": "2023-10-02T23:38:51Z",
            "eventId": 125,
            "eventIdx": 86,
            "goals": {
             "away": 1,
             "home": 2
            },
            "ordinalNum": "1st",
            "period": 1,
            "periodTime": "17:07",
            "periodTimeRemaining": "02:53",
            "periodType": "REGULAR"
           },
           "coordinates": {
            "x": -47,
            "y": 39
           },
           "players": [
            {
             "player": {
              "fullName": "Jake Allen",
              "id": 8474596,
              "link": "/api/v1/people/8474596"
             },
             "playerType": "PlayerID"
            }
           ],
           "result": {
            "description": "Giveaway by Jake Allen",
            "event": "Giveaway",
            "eventCode": "TOR125",
            "eventTypeId": "GIVEAWAY"
           },
           "team": {
            "id": 8,
            "link": "/api/v1/teams/8",
            "name": "Montréal Canadiens",
            "triCode": "MTL"
           }
          },
          {
           "about": {
            "dateTime": "2023-10-02T23:39:02Z",
            "eventId": 126,
            "eventIdx": 87,
            "goals": {
             "away": 1,
             "home": 2
            },
            "ordinalNum": "1st",
            "period": 1,
            "periodTime": "17:18",
            "periodTimeRemaining": "02:42",
            "periodType": "REGULAR"
           },
           "coordinates": {
            "x": -16,
            "y": 23
           },
           "players": [
            {
             "player": {
              "fullName": "Noah Gregor",
              "id": 8479393,
              "link": "/api/v1/people/8479393"
             },
             "playerType": "PlayerID"
            }
           ],
           "result": {
            "description": "Giveaway by Noah Gregor",
            "event": "Giveaway",
            "eventCode": "TOR126",
            "eventTypeId": "GIVEAWAY"
           },
           "team": {
            "id": 10,
            "link": "/api/v1/teams/10",
            "name": "Toronto Maple Leafs",
            "triCode": "TOR"
           }
          },
          {
           "about": {
            "dateTime": "2023-10-02T23:39:05Z",
            "eventId": 475,
            "eventIdx": 88,
            "goals": {
             "away": 1,
             "home": 2
            },
            "ordinalNum": "1st",
            "period": 1,
            "periodTime": "17:21",
            "periodTimeRemaining": "02:39",
            "periodType": "REGULAR"
           },
           "coordinates": {
            "x": 50,
            "y": 10
           },
           "players": [
            {
             "player": {
              "fullName": "Arber Xhekaj",
              "id": 8482964,
              "link": "/api/v1/people/8482964"
             },
             "playerType": "Shooter"
            },
            {
             "player": {
              "fullName": "Ilya Samsonov",
              "id": 8478492,
              "link": "/api/v1/people/8478492"
             },
             "playerType": "Unknown"
            }
           ],
           "result": {
            "description": "Arber Xhekaj Wide Right Ilya Samsonov",
            "event": "Missed Shot",
            "eventCode": "TOR475",
            "eventTypeId": "MISSED_SHOT"
           },
           "team": {
            "id": 8,
            "link": "/api/v1/teams/8",
            "name": "Montréal Canadiens",
            "triCode": "MTL"
           }
          },
          {
           "about": {
            "dateTime": "2023-10-02T23:39:36Z",
            "eventId": 127,
            "eventIdx": 89,
            "goals": {
             "away": 1,
             "home": 2
            },
            "ordinalNum": "1st",
            "period": 1,
            "periodTime": "17:52",
            "periodTimeRemaining": "02:08",
            "periodType": "REGULAR"
           },
           "coordinates": {
            "x": 95,
            "y": 25
           },
           "players": [
            {
             "player": {
              "fullName": "Morgan Rielly",
              "id": 8476853,
              "link": "/api/v1/people/8476853"
             },
             "playerType": "PlayerID"
            }
           ],
           "result": {
            "description": "Takeaway by Morgan Rielly",
            "event": "Takeaway",
            "eventCode": "TOR127",
            "eventTypeId": "TAKEAWAY"
           },
           "team": {
            "id": 10,
            "link": "/api/v1/teams/10",
            "name": "Toronto Maple Leafs",
            "triCode": "TOR"
           }
          },
          {
           "about": {
            "dateTime": "2023-10-02T23:40:10Z",
            "eventId": 46,
            "eventIdx": 90,
            "goals": {
             "away": 1,
             "home": 2
            },
            "ordinalNum": "1st",
            "period": 1,
            "periodTime": "18:26",
            "periodTimeRemaining": "01:34",
            "periodType": "REGULAR"
           },
           "coordinates": {
            "x": -27,
            "y": 40
           },
           "players": [
            {
             "player": {
              "fullName": "Mattias Norlinder",
              "id": 8481555,
              "link": "/api/v1/people/8481555"
             },
             "playerType": "Hitter"
            },
            {
             "player": {
              "fullName": "Tyler Bertuzzi",
              "id": 8477479,
              "link": "/api/v1/people/8477479"
             },
             "playerType": "Hittee"
            }
           ],
           "result": {
            "description": "Mattias Norlinder hit Tyler Bertuzzi",
            "event": "Hit",
            "eventCode": "TOR46",
            "eventTypeId": "HIT"
           },
           "team": {
            "id": 8,
            "link": "/api/v1/teams/8",
            "name": "Montréal Canadiens",
            "triCode": "MTL"
           }
          },
          {
           "about": {
            "dateTime": "2023-10-02T23:40:29Z",
            "eventId": 47,
            "eventIdx": 91,
            "goals": {
             "away": 1,
             "home": 2
            },
            "ordinalNum": "1st",
            "period": 1,
            "periodTime": "18:45",
            "periodTimeRemaining": "01:15",
            "periodType": "REGULAR"
           },
           "coordinates": {
            "x": -1,
            "y": 40
           },
           "players": [
            {
             "player": {
              "fullName": "Mikko Kokkonen",
              "id": 8481614,
              "link": "/api/v1/people/8481614"
             },
             "playerType": "Hitter"
            },
            {
             "player": {
              "fullName": "Emil Heineman",
              "id": 8482476,
              "link": "/api/v1/people/8482476"
             },
             "playerType": "Hittee"
            }
           ],
           "result": {
            "description": "Mikko Kokkonen hit Emil Heineman",
            "event": "Hit",
            "eventCode": "TOR47",
            "eventTypeId": "HIT"
           },
           "team": {
            "id": 10,
            "link": "/api/v1/teams/10",
            "name": "Toronto Maple Leafs",
            "triCode": "TOR"
           }
          },
          {
           "about": {
            "dateTime": "2023-10-02T23:40:50Z",
            "eventId": 128,
            "eventIdx": 92,
            "goals": {
             "away": 1,
             "home": 2
            },
            "ordinalNum": "1st",
            "period": 1,
            "periodTime": "19:06",
            "periodTimeRemaining": "00:54",
            "periodType": "REGULAR"
           },
           "coordinates": {
            "x": -45,
            "y": -17
           },
           "players": [
            {
             "player": {
              "fullName": "Logan Mailloux",
              "id": 8482733,
              "link": "/api/v1/people/8482733"
             },
             "playerType": "PlayerID"
            }
           ],
           "result": {
            "description": "Giveaway by Logan Mailloux",
            "event": "Giveaway",
            "eventCode": "TOR128",
            "eventTypeId": "GIVEAWAY"
           },
           "team": {
            "id": 8,
            "link": "/api/v1/teams/8",
            "name": "Montréal Canadiens",
            "triCode": "MTL"
           }
          },
          {
           "about": {
            "dateTime": "2023-10-02T23:41:15Z",
            "eventId": 48,
            "eventIdx": 93,
            "goals": {
             "away": 1,
             "home": 2
            },
            "ordinalNum": "1st",
            "period": 1,
            "periodTime": "19:31",
            "periodTimeRemaining": "00:29",
            "periodType": "REGULAR"
           },
           "coordinates": {
            "x": -9,
            "y": -40
           },
           "result": {
            "description": "Puck in Crowd",
            "event": "Stoppage",
            "eventCode": "TOR48",
            "eventTypeId": "STOP"
           }
          },
          {
           "about": {
            "dateTime": "2023-10-02T23:41:40Z",
            "eventId": 129,
            "eventIdx": 94,
            "goals": {
             "away": 1,
             "home": 2
            },
            "ordinalNum": "1st",
            "period": 1,
            "periodTime": "19:31",
            "periodTimeRemaining": "00:29",
            "periodType": "REGULAR"
           },
           "coordinates": {
            "x": -20,
            "y": -22
           },
           "players": [
            {
             "player": {
              "fullName": "William Nylander",
              "id": 8477939,
              "link": "/api/v1/people/8477939"
             },
             "playerType": "Winner"
            },
            {
             "player": {
              "fullName": "Kirby Dach",
              "id": 8481523,
              "link": "/api/v1/people/8481523"
             },
             "playerType": "Loser"
            }
           ],
           "result": {
            "description": "William Nylander faceoff won against Kirby Dach",
            "event": "Faceoff",
            "eventCode": "TOR129",
            "eventTypeId": "FACEOFF"
           },
           "team": {
            "id": 10,
            "link": "/api/v1/teams/10",
            "name": "Toronto Maple Leafs",
            "triCode": "TOR"
           }
          },
          {
           "about": {
            "dateTime": "2023-10-02T23:42:09Z",
            "eventId": 49,
            "eventIdx": 95,
            "goals": {
             "away": 1,
             "home": 2
            },
            "ordinalNum": "1st",
            "period": 1,
            "periodTime": "20:00",
            "periodTimeRemaining": "00:00",
            "periodType": "REGULAR"
           },
           "coordinates": {},
           "result": {
            "description": "End of 1st Period",
            "event": "Period End",
            "eventCode": "TOR49",
            "eventTypeId": "PERIOD_END"
           }
          },
          {
           "about": {
            "dateTime": "2023-10-02T23:59:19Z",
            "eventId": 302,
            "eventIdx": 96,
            "goals": {
             "away": 1,
             "home": 2
            },
            "ordinalNum": "1st",
            "period": 1,
            "periodTime": "20:00",
            "periodTimeRemaining": "00:00",
            "periodType": "REGULAR"
           },
           "coordinates": {},
           "result": {
            "description": "Period Official",
            "event": "Period Official",
            "eventCode": "TOR302",
            "eventTypeId": "PERIOD_OFFICIAL"
           }
          },
          {
           "about": {
            "dateTime": "2023-10-02T23:59:33Z",
            "eventId": 303,
            "eventIdx": 97,
            "goals": {
             "away": 1,
             "home": 2
            },
            "ordinalNum": "2nd",
            "period": 2,
            "periodTime": "00:00",
            "periodTimeRemaining": "20:00",
            "periodType": "REGULAR"
           },
           "coordinates": {},
           "result": {
            "description": "Period Ready",
            "event": "Period Ready",
            "eventCode": "TOR303",
            "eventTypeId": "PERIOD_READY"
           }
          },
          {
           "about": {
            "dateTime": "2023-10-03T00:00:55Z",
            "eventId": 130,
            "eventIdx": 99,
            "goals": {
             "away": 1,
             "home": 2
            },
            "ordinalNum": "2nd",
            "period": 2,
            "periodTime": "00:00",
            "periodTimeRemaining": "20:00",
            "periodType": "REGULAR"
           },
           "coordinates": {
            "x": 0,
            "y": 0
           },
           "players": [
            {
             "player": {
              "fullName": "Auston Matthews",
              "id": 8479318,
              "link": "/api/v1/people/8479318"
             },
             "playerType": "Winner"
            },
            {
             "player": {
              "fullName": "Nick Suzuki",
              "id": 8480018,
              "link": "/api/v1/people/8480018"
             },
             "playerType": "Loser"
            }
           ],
           "result": {
            "description": "Auston Matthews faceoff won against Nick Suzuki",
            "event": "Faceoff",
            "eventCode": "TOR130",
            "eventTypeId": "FACEOFF"
           },
           "team": {
            "id": 10,
            "link": "/api/v1/teams/10",
            "name": "Toronto Maple Leafs",
            "triCode": "TOR"
           }
          },
          {
           "about": {
            "dateTime": "2023-10-03T00:00:55Z",
            "eventId": 131,
            "eventIdx": 98,
            "goals": {
             "away": 1,
             "home": 2
            },
            "ordinalNum": "2nd",
            "period": 2,
            "periodTime": "00:00",
            "periodTimeRemaining": "20:00",
            "periodType": "REGULAR"
           },
           "coordinates": {},
           "result": {
            "description": "Period Start",
            "event": "Period Start",
            "eventCode": "TOR131",
            "eventTypeId": "PERIOD_START"
           }
          },
          {
           "about": {
            "dateTime": "2023-10-03T00:01:49Z",
            "eventId": 512,
            "eventIdx": 100,
            "goals": {
             "away": 1,
             "home": 2
            },
            "ordinalNum": "2nd",
            "period": 2,
            "periodTime": "00:54",
            "periodTimeRemaining": "19:06",
            "periodType": "REGULAR"
           },
           "coordinates": {
            "x": 84,
            "y": 2
           },
           "players": [
            {
             "player": {
              "fullName": "Tyler Bertuzzi",
              "id": 8477479,
              "link": "/api/v1/people/8477479"
             },
             "playerType": "Shooter"
            },
            {
             "player": {
              "fullName": "Jake Allen",
              "id": 8474596,
              "link": "/api/v1/people/8474596"
             },
             "playerType": "Goalie"
            }
           ],
           "result": {
            "description": "Tyler Bertuzzi Tip-In saved by Jake Allen",
            "event": "Shot",
            "eventCode": "TOR512",
            "eventTypeId": "SHOT",
            "secondaryType": "Tip-In"
           },
           "team": {
            "id": 10,
            "link": "/api/v1/teams/10",
            "name": "Toronto Maple Leafs",
            "triCode": "TOR"
           }
          },
          {
           "about": {
            "dateTime": "2023-10-03T00:01:52Z",
            "eventId": 304,
            "eventIdx": 101,
            "goals": {
             "away": 1,
             "home": 2
            },
            "ordinalNum": "2nd",
            "period": 2,
            "periodTime": "00:57",
            "periodTimeRemaining": "19:03",
            "periodType": "REGULAR"
           },
           "coordinates": {
            "x": 84,
            "y": 1
           },
           "result": {
            "description": "Goalie Stopped",
            "event": "Stoppage",
            "eventCode": "TOR304",
            "eventTypeId": "STOP"
           }
          },
          {
           "about": {
            "dateTime": "2023-10-03T00:02:27Z",
            "eventId": 132,
            "eventIdx": 102,
            "goals": {
             "away": 1,
             "home": 2
            },
            "ordinalNum": "2nd",
            "period": 2,
            "periodTime": "00:57",
            "periodTimeRemaining": "19:03",
            "periodType": "REGULAR"
           },
           "coordinates": {
            "x": 69,
            "y": 22
           },
           "players": [
            {
             "player": {
              "fullName": "Max Domi",
              "id": 8477503,
              "link": "/api/v1/people/8477503"
             },
             "playerType": "Winner"
            },
            {
             "player": {
              "fullName": "Kirby Dach",
              "id": 8481523,
              "link": "/api/v1/people/8481523"
             },
             "playerType": "Loser"
            }
           ],
           "result": {
            "description": "Max Domi faceoff won against Kirby Dach",
            "event": "Faceoff",
            "eventCode": "TOR132",
            "eventTypeId": "FACEOFF"
           },
           "team": {
            "id": 10,
            "link": "/api/v1/teams/10",
            "name": "Toronto Maple Leafs",
            "triCode": "TOR"
           }
          },
          {
           "about": {
            "dateTime": "2023-10-03T00:02:33Z",
            "eventId": 305,
            "eventIdx": 103,
            "goals": {
             "away": 1,
             "home": 2
            },
            "ordinalNum": "2nd",
            "period": 2,
            "periodTime": "01:03",
            "periodTimeRemaining": "18:57",
            "periodType": "REGULAR"
           },
           "coordinates": {
            "x": 83,
            "y": -19
           },
           "result": {
            "description": "Icing",
            "event": "Stoppage",
            "eventCode": "TOR305",
            "eventTypeId": "STOP"
           }
          },
          {
           "about": {
            "dateTime": "2023-10-03T00:03:02Z",
            "eventId": 133,
            "eventIdx": 104,
            "goals": {
             "away": 1,
             "home": 2
            },
            "ordinalNum": "2nd",
            "period": 2,
            "periodTime": "01:03",
            "periodTimeRemaining": "18:57",
            "periodType": "REGULAR"
           },
           "coordinates": {
            "x": 69,
            "y": -22
           },
           "players": [
            {
             "player": {
              "fullName": "Kirby Dach",
              "id": 8481523,
              "link": "/api/v1/people/8481523"
             },
             "playerType": "Winner"
            },
            {
             "player": {
              "fullName": "William Nylander",
              "id": 8477939,
              "link": "/api/v1/people/8477939"
             },
             "playerType": "Loser"
            }
           ],
           "result": {
            "description": "Kirby Dach faceoff won against William Nylander",
            "event": "Faceoff",
            "eventCode": "TOR133",
            "eventTypeId": "FACEOFF"
           },
           "team": {
            "id": 8,
            "link": "/api/v1/teams/8",
            "name": "Montréal Canadiens",
            "triCode": "MTL"
           }
          },
          {
           "about": {
            "dateTime": "2023-10-03T00:03:15Z",
            "eventId": 134,
            "eventIdx": 105,
            "goals": {
             "away": 1,
             "home": 2
            },
            "ordinalNum": "2nd",
            "period": 2,
            "periodTime": "01:16",
            "periodTimeRemaining": "18:44",
            "periodType": "REGULAR"
           },
           "coordinates": {
            "x": -99,
            "y": 7
           },
           "players": [
            {
             "player": {
              "fullName": "Ilya Samsonov",
              "id": 8478492,
              "link": "/api/v1/people/8478492"
             },
             "playerType": "PlayerID"
            }
           ],
           "result": {
            "description": "Giveaway by Ilya Samsonov",
            "event": "Giveaway",
            "eventCode": "TOR134",
            "eventTypeId": "GIVEAWAY"
           },
           "team": {
            "id": 10,
            "link": "/api/v1/teams/10",
            "name": "Toronto Maple Leafs",
            "triCode": "TOR"
           }
          },
          {
           "about": {
            "dateTime": "2023-10-03T00:03:22Z",
            "eventId": 306,
            "eventIdx": 106,
            "goals": {
             "away": 1,
             "home": 2
            },
            "ordinalNum": "2nd",
            "period": 2,
            "periodTime": "01:23",
            "periodTimeRemaining": "18:37",
            "periodType": "REGULAR"
           },
           "coordinates": {
            "x": -91,
            "y": 30
           },
           "players": [
            {
             "player": {
              "fullName": "Nicholas Robertson",
              "id": 8481582,
              "link": "/api/v1/people/8481582"
             },
             "playerType": "Hitter"
            },
            {
             "player": {
              "fullName": "Rafael Harvey-Pinard",
              "id": 8481093,
              "link": "/api/v1/people/8481093"
             },
             "playerType": "Hittee"
            }
           ],
           "result": {
            "description": "Nicholas Robertson hit Rafael Harvey-Pinard",
            "event": "Hit",
            "eventCode": "TOR306",
            "eventTypeId": "HIT"
           },
           "team": {
            "id": 10,
            "link": "/api/v1/teams/10",
            "name": "Toronto Maple Leafs",
            "triCode": "TOR"
           }
          },
          {
           "about": {
            "dateTime": "2023-10-03T00:03:23Z",
            "eventId": 517,
            "eventIdx": 107,
            "goals": {
             "away": 1,
             "home": 2
            },
            "ordinalNum": "2nd",
            "period": 2,
            "periodTime": "01:24",
            "periodTimeRemaining": "18:36",
            "periodType": "REGULAR"
           },
           "coordinates": {
            "x": -50,
            "y": -29
           },
           "players": [
            {
             "player": {
              "fullName": "Arber Xhekaj",
              "id": 8482964,
              "link": "/api/v1/people/8482964"
             },
             "playerType": "Shooter"
            },
            {
             "player": {
              "fullName": "Ilya Samsonov",
              "id": 8478492,
              "link": "/api/v1/people/8478492"
             },
             "playerType": "Goalie"
            }
           ],
           "result": {
            "description": "Arber Xhekaj Wrist Shot saved by Ilya Samsonov",
            "event": "Shot",
            "eventCode": "TOR517",
            "eventTypeId": "SHOT",
            "secondaryType": "Wrist Shot"
           },
           "team": {
            "id": 8,
            "link": "/api/v1/teams/8",
            "name": "Montréal Canadiens",
            "triCode": "MTL"
           }
          },
          {
           "about": {
            "dateTime": "2023-10-03T00:03:25Z",
            "eventId": 307,
            "eventIdx": 108,
            "goals": {
             "away": 1,
             "home": 2
            },
            "ordinalNum": "2nd",
            "period": 2,
            "periodTime": "01:26",
            "periodTimeRemaining": "18:34",
            "periodType": "REGULAR"
           },
           "coordinates": {
            "x": -84,
            "y": 0
           },
           "result": {
            "description": "Goalie Stopped",
            "event": "Stoppage",
            "eventCode": "TOR307",
            "eventTypeId": "STOP"
           }
          },
          {
           "about": {
            "dateTime": "2023-10-03T00:03:54Z",
            "eventId": 135,
            "eventIdx": 109,
            "goals": {
             "away": 1,
             "home": 2
            },
            "ordinalNum": "2nd",
            "period": 2,
            "periodTime": "01:26",
            "periodTimeRemaining": "18:34",
            "periodType": "REGULAR"
           },
           "coordinates": {
            "x": -69,
            "y": -22
           },
           "players": [
            {
             "player": {
              "fullName": "Sean Monahan",
              "id": 8477497,
              "link": "/api/v1/people/8477497"
             },
             "playerType": "Winner"
            },
            {
             "player": {
              "fullName": "John Tavares",
              "id": 8475166,
              "link": "/api/v1/people/8475166"
             },
             "playerType": "Loser"
            }
           ],
           "result": {
            "description": "Sean Monahan faceoff won against John Tavares",
            "event": "Faceoff",
            "eventCode": "TOR135",
            "eventTypeId": "FACEOFF"
           },
           "team": {
            "id": 8,
            "link": "/api/v1/teams/8",
            "name": "Montréal Canadiens",
            "triCode": "MTL"
           }
          },
          {
           "about": {
            "dateTime": "2023-10-03T00:03:58Z",
            "eventId": 308,
            "eventIdx": 110,
            "goals": {
             "away": 1,
             "home": 2
            },
            "ordinalNum": "2nd",
            "period": 2,
            "periodTime": "01:30",
            "periodTimeRemaining": "18:30",
            "periodType": "REGULAR"
           },
           "coordinates": {
            "x": -40,
            "y": -38
           },
           "players": [
            {
             "player": {
              "fullName": "Sam Lafferty",
              "id": 8478043,
              "link": "/api/v1/people/8478043"
             },
             "playerType": "Hitter"
            },
            {
             "player": {
              "fullName": "Arber Xhekaj",
              "id": 8482964,
              "link": "/api/v1/people/8482964"
             },
             "playerType": "Hittee"
            }
           ],
           "result": {
            "description": "Sam Lafferty hit Arber Xhekaj",
            "event": "Hit",
            "eventCode": "TOR308",
            "eventTypeId": "HIT"
           },
           "team": {
            "id": 10,
            "link": "/api/v1/teams/10",
            "name": "Toronto Maple Leafs",
            "triCode": "TOR"
           }
          },
          {
           "about": {
            "dateTime": "2023-10-03T00:04:03Z",
            "eventId": 521,
            "eventIdx": 111,
            "goals": {
             "away": 1,
             "home": 2
            },
            "ordinalNum": "2nd",
            "period": 2,
            "periodTime": "01:35",
            "periodTimeRemaining": "18:25",
            "periodType": "REGULAR"
           },
           "coordinates": {
            "x": -67,
            "y": 24
           },
           "players": [
            {
             "player": {
              "fullName": "Arber Xhekaj",
              "id": 8482964,
              "link": "/api/v1/people/8482964"
             },
             "playerType": "Shooter"
            },
            {
             "player": {
              "fullName": "Ilya Samsonov",
              "id": 8478492,
              "link": "/api/v1/people/8478492"
             },
             "playerType": "Goalie"
            }
           ],
           "result": {
            "description": "Arber Xhekaj Backhand saved by Ilya Samsonov",
            "event": "Shot",
            "eventCode": "TOR521",
            "eventTypeId": "SHOT",
            "secondaryType": "Backhand"
           },
           "team": {
            "id": 8,
            "link": "/api/v1/teams/8",
            "name": "Montréal Canadiens",
            "triCode": "MTL"
           }
          },
          {
           "about": {
            "dateTime": "2023-10-03T00:04:05Z",
            "eventId": 155,
            "eventIdx": 112,
            "goals": {
             "away": 1,
             "home": 2
            },
            "ordinalNum": "2nd",
            "period": 2,
            "periodTime": "01:37",
            "periodTimeRemaining": "18:23",
            "periodType": "REGULAR"
           },
           "coordinates": {
            "x": -65,
            "y": 12
           },
           "players": [
            {
             "player": {
              "fullName": "Tanner Pearson",
              "id": 8476871,
              "link": "/api/v1/people/8476871"
             },
             "playerType": "Blocker"
            },
            {
             "player": {
              "fullName": "Brendan Gallagher",
              "id": 8475848,
              "link": "/api/v1/people/8475848"
             },
             "playerType": "Shooter"
            }
           ],
           "result": {
            "description": "Brendan Gallagher shot blocked shot by Tanner Pearson",
            "event": "Blocked Shot",
            "eventCode": "TOR155",
            "eventTypeId": "BLOCKED_SHOT"
           },
           "team": {
            "id": 8,
            "link": "/api/v1/teams/8",
            "name": "Montréal Canadiens",
            "triCode": "MTL"
           }
          },
          {
           "about": {
            "dateTime": "2023-10-03T00:04:13Z",
            "eventId": 309,
            "eventIdx": 113,
            "goals": {
             "away": 1,
             "home": 2
            },
            "ordinalNum": "2nd",
            "period": 2,
            "periodTime": "01:45",
            "periodTimeRemaining": "18:15",
            "periodType": "REGULAR"
           },
           "coordinates": {
            "x": -86,
            "y": -35
           },
           "players": [
            {
             "player": {
              "fullName": "John Tavares",
              "id": 8475166,
              "link": "/api/v1/people/8475166"
             },
             "playerType": "Hitter"
            },
            {
             "player": {
              "fullName": "Sean Monahan",
              "id": 8477497,
              "link": "/api/v1/people/8477497"
             },
             "playerType": "Hittee"
            }
           ],
           "result": {
            "description": "John Tavares hit Sean Monahan",
            "event": "Hit",
            "eventCode": "TOR309",
            "eventTypeId": "HIT"
           },
           "team": {
            "id": 10,
            "link": "/api/v1/teams/10",
            "name": "Toronto Maple Leafs",
            "triCode": "TOR"
           }
          },
          {
           "about": {
            "dateTime": "2023-10-03T00:04:22Z",
            "eventId": 522,
            "eventIdx": 114,
            "goals": {
             "away": 1,
             "home": 2
            },
            "ordinalNum": "2nd",
            "period": 2,
            "periodTime": "01:54",
            "periodTimeRemaining": "18:06",
            "periodType": "REGULAR"
           },
           "coordinates": {
            "x": -67,
            "y": 6
           },
           "players": [
            {
             "player": {
              "fullName": "Tanner Pearson",
              "id": 8476871,
              "link": "/api/v1/people/8476871"
             },
             "playerType": "Shooter"
            },
            {
             "player": {
              "fullName": "Ilya Samsonov",
              "id": 8478492,
              "link": "/api/v1/people/8478492"
             },
             "playerType": "Unknown"
            }
           ],
           "result": {
            "description": "Tanner Pearson Wide Left Ilya Samsonov",
            "event": "Missed Shot",
            "eventCode": "TOR522",
            "eventTypeId": "MISSED_SHOT"
           },
           "team": {
            "id": 8,
            "link": "/api/v1/teams/8",
            "name": "Montréal Canadiens",
            "triCode": "MTL"
           }
          },
          {
           "about": {
            "dateTime": "2023-10-03T00:04:28Z",
            "eventId": 310,
            "eventIdx": 115,
            "goals": {
             "away": 1,
             "home": 2
            },
            "ordinalNum": "2nd",
            "period": 2,
            "periodTime": "02:00",
            "periodTimeRemaining": "18:00",
            "periodType": "REGULAR"
           },
           "coordinates": {
            "x": -70,
            "y": -39
           },
           "players": [
            {
             "player": {
              "fullName": "Arber Xhekaj",
              "id": 8482964,
              "link": "/api/v1/people/8482964"
             },
             "playerType": "Hitter"
            },
            {
             "player": {
              "fullName": "Sam Lafferty",
              "id": 8478043,
              "link": "/api/v1/people/8478043"
             },
             "playerType": "Hittee"
            }
           ],
           "result": {
            "description": "Arber Xhekaj hit Sam Lafferty",
            "event": "Hit",
            "eventCode": "TOR310",
            "eventTypeId": "HIT"
           },
           "team": {
            "id": 8,
            "link": "/api/v1/teams/8",
            "name": "Montréal Canadiens",
            "triCode": "MTL"
           }
          },
          {
           "about": {
            "dateTime": "2023-10-03T00:04:47Z",
            "eventId": 525,
            "eventIdx": 116,
            "goals": {
             "away": 1,
             "home": 2
            },
            "ordinalNum": "2nd",
            "period": 2,
            "periodTime": "02:19",
            "periodTimeRemaining": "17:41",
            "periodType": "REGULAR"
           },
           "coordinates": {
            "x": -84,
            "y": -1
           },
           "players": [
            {
             "player": {
              "fullName": "Mikko Kokkonen",
              "id": 8481614,
              "link": "/api/v1/people/8481614"
             },
             "playerType": "Blocker"
            },
            {
             "player": {
              "fullName": "Arber Xhekaj",
              "id": 8482964,
              "link": "/api/v1/people/8482964"
             },
             "playerType": "Shooter"
            }
           ],
           "result": {
            "description": "Arber Xhekaj shot blocked shot by Mikko Kokkonen",
            "event": "Blocked Shot",
            "eventCode": "TOR525",
            "eventTypeId": "BLOCKED_SHOT"
           },
           "team": {
            "id": 10,
            "link": "/api/v1/teams/10",
            "name": "Toronto Maple Leafs",
            "triCode": "TOR"
           }
          },
          {
           "about": {
            "dateTime": "2023-10-03T00:05:50Z",
            "eventId": 312,
            "eventIdx": 117,
            "goals": {
             "away": 1,
             "home": 2
            },
            "ordinalNum": "2nd",
            "period": 2,
            "periodTime": "03:22",
            "periodTimeRemaining": "16:38",
            "periodType": "REGULAR"
           },
           "coordinates": {
            "x": 98,
            "y": -1
           },
           "players": [
            {
             "player": {
              "fullName": "Jordan Harris",
              "id": 8480887,
              "link": "/api/v1/people/8480887"
             },
             "playerType": "Hitter"
            },
            {
             "player": {
              "fullName": "David Kampf",
              "id": 8480144,
              "link": "/api/v1/people/8480144"
             },
             "playerType": "Hittee"
            }
           ],
           "result": {
            "description": "Jordan Harris hit David Kampf",
            "event": "Hit",
            "eventCode": "TOR312",
            "eventTypeId": "HIT"
           },
           "team": {
            "id": 8,
            "link": "/api/v1/teams/8",
            "name": "Montréal Canadiens",
            "triCode": "MTL"
           }
          },
          {
           "about": {
            "dateTime": "2023-10-03T00:06:00Z",
            "eventId": 136,
            "eventIdx": 118,
            "goals": {
             "away": 1,
             "home": 2
            },
            "ordinalNum": "2nd",
            "period": 2,
            "periodTime": "03:32",
            "periodTimeRemaining": "16:28",
            "periodType": "REGULAR"
           },
           "coordinates": {
            "x": 31,
            "y": -11
           },
           "players": [
            {
             "player": {
              "fullName": "Auston Matthews",
              "id": 8479318,
              "link": "/api/v1/people/8479318"
             },
             "playerType": "PlayerID"
            }
           ],
           "result": {
            "description": "Giveaway by Auston Matthews",
            "event": "Giveaway",
            "eventCode": "TOR136",
            "eventTypeId": "GIVEAWAY"
           },
           "team": {
            "id": 10,
            "link": "/api/v1/teams/10",
            "name": "Toronto Maple Leafs",
            "triCode": "TOR"
           }
          },
          {
           "about": {
            "dateTime": "2023-10-03T00:06:13Z",
            "eventId": 137,
            "eventIdx": 119,
            "goals": {
             "away": 1,
             "home": 2
            },
            "ordinalNum": "2nd",
            "period": 2,
            "periodTime": "03:45",
            "periodTimeRemaining": "16:15",
            "periodType": "REGULAR"
           },
           "coordinates": {
            "x": -23,
            "y": -31
           },
           "players": [
            {
             "player": {
              "fullName": "Mattias Norlinder",
              "id": 8481555,
              "link": "/api/v1/people/8481555"
             },
             "playerType": "PlayerID"
            }
           ],
           "result": {
            "description": "Giveaway by Mattias Norlinder",
            "event": "Giveaway",
            "eventCode": "TOR137",
            "eventTypeId": "GIVEAWAY"
           },
           "team": {
            "id": 8,
            "link": "/api/v1/teams/8",
            "name": "Montréal Canadiens",
            "triCode": "MTL"
           }
          },
          {
           "about": {
            "dateTime": "2023-10-03T00:06:22Z",
            "eventId": 313,
            "eventIdx": 120,
            "goals": {
             "away": 1,
             "home": 2
            },
            "ordinalNum": "2nd",
            "period": 2,
            "periodTime": "03:55",
            "periodTimeRemaining": "16:05",
            "periodType": "REGULAR"
           },
           "coordinates": {
            "x": -5,
            "y": -31
           },
           "result": {
            "description": "Icing",
            "event": "Stoppage",
            "eventCode": "TOR313",
            "eventTypeId": "STOP"
           }
          },
          {
           "about": {
            "dateTime": "2023-10-03T00:06:46Z",
            "eventId": 138,
            "eventIdx": 121,
            "goals": {
             "away": 1,
             "home": 2
            },
            "ordinalNum": "2nd",
            "period": 2,
            "periodTime": "03:55",
            "periodTimeRemaining": "16:05",
            "periodType": "REGULAR"
           },
           "coordinates": {
            "x": -69,
            "y": 22
           },
           "players": [
            {
             "player": {
              "fullName": "Auston Matthews",
              "id": 8479318,
              "link": "/api/v1/people/8479318"
             },
             "playerType": "Winner"
            },
            {
             "player": {
              "fullName": "Nick Suzuki",
              "id": 8480018,
              "link": "/api/v1/people/8480018"
             },
             "playerType": "Loser"
            }
           ],
           "result": {
            "description": "Auston Matthews faceoff won against Nick Suzuki",
            "event": "Faceoff",
            "eventCode": "TOR138",
            "eventTypeId": "FACEOFF"
           },
           "team": {
            "id": 10,
            "link": "/api/v1/teams/10",
            "name": "Toronto Maple Leafs",
            "triCode": "TOR"
           }
          },
          {
           "about": {
            "dateTime": "2023-10-03T00:07:14Z",
            "eventId": 139,
            "eventIdx": 122,
            "goals": {
             "away": 1,
             "home": 2
            },
            "ordinalNum": "2nd",
            "period": 2,
            "periodTime": "04:23",
            "periodTimeRemaining": "15:37",
            "periodType": "REGULAR"
           },
           "coordinates": {
            "x": -43,
            "y": 39
           },
           "players": [
            {
             "player": {
              "fullName": "Timothy Liljegren",
              "id": 8480043,
              "link": "/api/v1/people/8480043"
             },
             "playerType": "PlayerID"
            }
           ],
           "result": {
            "description": "Giveaway by Timothy Liljegren",
            "event": "Giveaway",
            "eventCode": "TOR139",
            "eventTypeId": "GIVEAWAY"
           },
           "team": {
            "id": 10,
            "link": "/api/v1/teams/10",
            "name": "Toronto Maple Leafs",
            "triCode": "TOR"
           }
          },
          {
           "about": {
            "dateTime": "2023-10-03T00:07:48Z",
            "eventId": 314,
            "eventIdx": 123,
            "goals": {
             "away": 1,
             "home": 2
            },
            "ordinalNum": "2nd",
            "period": 2,
            "periodTime": "04:56",
            "periodTimeRemaining": "15:04",
            "periodType": "REGULAR"
           },
           "coordinates": {
            "x": 27,
            "y": 30
           },
           "result": {
            "description": "Offside",
            "event": "Stoppage",
            "eventCode": "TOR314",
            "eventTypeId": "STOP"
           }
          },
          {
           "about": {
            "dateTime": "2023-10-03T00:08:23Z",
            "eventId": 140,
            "eventIdx": 124,
            "goals": {
             "away": 1,
             "home": 2
            },
            "ordinalNum": "2nd",
            "period": 2,
            "periodTime": "04:56",
            "periodTimeRemaining": "15:04",
            "periodType": "REGULAR"
           },
           "coordinates": {
            "x": -20,
            "y": 22
           },
           "players": [
            {
             "player": {
              "fullName": "Kirby Dach",
              "id": 8481523,
              "link": "/api/v1/people/8481523"
             },
             "playerType": "Winner"
            },
            {
             "player": {
              "fullName": "Max Domi",
              "id": 8477503,
              "link": "/api/v1/people/8477503"
             },
             "playerType": "Loser"
            }
           ],
           "result": {
            "description": "Kirby Dach faceoff won against Max Domi",
            "event": "Faceoff",
            "eventCode": "TOR140",
            "eventTypeId": "FACEOFF"
           },
           "team": {
            "id": 8,
            "link": "/api/v1/teams/8",
            "name": "Montréal Canadiens",
            "triCode": "MTL"
           }
          },
          {
           "about": {
            "dateTime": "2023-10-03T00:08:44Z",
            "eventId": 553,
            "eventIdx": 125,
            "goals": {
             "away": 1,
             "home": 2
            },
            "ordinalNum": "2nd",
            "period": 2,
            "periodTime": "05:17",
            "periodTimeRemaining": "14:43",
            "periodType": "REGULAR"
           },
           "coordinates": {
            "x": 44,
            "y": -11
           },
           "players": [
            {
             "player": {
              "fullName": "William Nylander",
              "id": 8477939,
              "link": "/api/v1/people/8477939"
             },
             "playerType": "Shooter"
            },
            {
             "player": {
              "fullName": "Jake Allen",
              "id": 8474596,
              "link": "/api/v1/people/8474596"
             },
             "playerType": "Goalie"
            }
           ],
           "result": {
            "description": "William Nylander Wrist Shot saved by Jake Allen",
            "event": "Shot",
            "eventCode": "TOR553",
            "eventTypeId": "SHOT",
            "secondaryType": "Wrist Shot"
           },
           "team": {
            "id": 10,
            "link": "/api/v1/teams/10",
            "name": "Toronto Maple Leafs",
            "triCode": "TOR"
           }
          },
          {
           "about": {
            "dateTime": "2023-10-03T00:08:47Z",
            "eventId": 315,
            "eventIdx": 126,
            "goals": {
             "away": 1,
             "home": 2
            },
            "ordinalNum": "2nd",
            "period": 2,
            "periodTime": "05:20",
            "periodTimeRemaining": "14:40",
            "periodType": "REGULAR"
           },
           "coordinates": {
            "x": 86,
            "y": -4
           },
           "result": {
            "description": "Goalie Stopped",
            "event": "Stoppage",
            "eventCode": "TOR315",
            "eventTypeId": "STOP"
           }
          },
          {
           "about": {
            "dateTime": "2023-10-03T00:09:16Z",
            "eventId": 141,
            "eventIdx": 127,
            "goals": {
             "away": 1,
             "home": 2
            },
            "ordinalNum": "2nd",
            "period": 2,
            "periodTime": "05:20",
            "periodTimeRemaining": "14:40",
            "periodType": "REGULAR"
           },
           "coordinates": {
            "x": 69,
            "y": -22
           },
           "players": [
            {
             "player": {
              "fullName": "Sean Monahan",
              "id": 8477497,
              "link": "/api/v1/people/8477497"
             },
             "playerType": "Winner"
            },
            {
             "player": {
              "fullName": "William Nylander",
              "id": 8477939,
              "link": "/api/v1/people/8477939"
             },
             "playerType": "Loser"
            }
           ],
           "result": {
            "description": "Sean Monahan faceoff won against William Nylander",
            "event": "Faceoff",
            "eventCode": "TOR141",
            "eventTypeId": "FACEOFF"
           },
           "team": {
            "id": 8,
            "link": "/api/v1/teams/8",
            "name": "Montréal Canadiens",
            "triCode": "MTL"
           }
          },
          {
           "about": {
            "dateTime": "2023-10-03T00:09:30Z",
            "eventId": 142,
            "eventIdx": 128,
            "goals": {
             "away": 1,
             "home": 2
            },
            "ordinalNum": "2nd",
            "period": 2,
            "periodTime": "05:34",
            "periodTimeRemaining": "14:26",
            "periodType": "REGULAR"
           },
           "coordinates": {
            "x": 24,
            "y": -23
           },
           "players": [
            {
             "player": {
              "fullName": "Max Domi",
              "id": 8477503,
              "link": "/api/v1/people/8477503"
             },
             "playerType": "PlayerID"
            }
           ],
           "result": {
            "description": "Giveaway by Max Domi",
            "event": "Giveaway",
            "eventCode": "TOR142",
            "eventTypeId": "GIVEAWAY"
           },
           "team": {
            "id": 10,
            "link": "/api/v1/teams/10",
            "name": "Toronto Maple Leafs",
            "triCode": "TOR"
           }
          },
          {
           "about": {
            "dateTime": "2023-10-03T00:09:43Z",
            "eventId": 316,
            "eventIdx": 129,
            "goals": {
             "away": 1,
             "home": 2
            },
            "ordinalNum": "2nd",
            "period": 2,
            "periodTime": "05:47",
            "periodTimeRemaining": "14:13",
            "periodType": "REGULAR"
           },
           "coordinates": {
            "x": -25,
            "y": -32
           },
           "players": [
            {
             "player": {
              "fullName": "Simon Benoit",
              "id": 8481122,
              "link": "/api/v1/people/8481122"
             },
             "playerType": "Hitter"
            },
            {
             "player": {
              "fullName": "Sean Monahan",
              "id": 8477497,
              "link": "/api/v1/people/8477497"
             },
             "playerType": "Hittee"
            }
           ],
           "result": {
            "description": "Simon Benoit hit Sean Monahan",
            "event": "Hit",
            "eventCode": "TOR316",
            "eventTypeId": "HIT"
           },
           "team": {
            "id": 10,
            "link": "/api/v1/teams/10",
            "name": "Toronto Maple Leafs",
            "triCode": "TOR"
           }
          },
          {
           "about": {
            "dateTime": "2023-10-03T00:09:53Z",
            "eventId": 317,
            "eventIdx": 130,
            "goals": {
             "away": 1,
             "home": 2
            },
            "ordinalNum": "2nd",
            "period": 2,
            "periodTime": "05:57",
            "periodTimeRemaining": "14:03",
            "periodType": "REGULAR"
           },
           "coordinates": {
            "x": -91,
            "y": 32
           },
           "players": [
            {
             "player": {
              "fullName": "Nicholas Robertson",
              "id": 8481582,
              "link": "/api/v1/people/8481582"
             },
             "playerType": "Hitter"
            },
            {
             "player": {
              "fullName": "Brendan Gallagher",
              "id": 8475848,
              "link": "/api/v1/people/8475848"
             },
             "playerType": "Hittee"
            }
           ],
           "result": {
            "description": "Nicholas Robertson hit Brendan Gallagher",
            "event": "Hit",
            "eventCode": "TOR317",
            "eventTypeId": "HIT"
           },
           "team": {
            "id": 10,
            "link": "/api/v1/teams/10",
            "name": "Toronto Maple Leafs",
            "triCode": "TOR"
           }
          },
          {
           "about": {
            "dateTime": "2023-10-03T00:10:10Z",
            "eventId": 564,
            "eventIdx": 131,
            "goals": {
             "away": 1,
             "home": 2
            },
            "ordinalNum": "2nd",
            "period": 2,
            "periodTime": "06:14",
            "periodTimeRemaining": "13:46",
            "periodType": "REGULAR"
           },
           "coordinates": {
            "x": 72,
            "y": -1
           },
           "players": [
            {
             "player": {
              "fullName": "Logan Mailloux",
              "id": 8482733,
              "link": "/api/v1/people/8482733"
             },
             "playerType": "Blocker"
            },
            {
             "player": {
              "fullName": "Timothy Liljegren",
              "id": 8480043,
              "link": "/api/v1/people/8480043"
             },
             "playerType": "Shooter"
            }
           ],
           "result": {
            "description": "Timothy Liljegren shot blocked shot by Logan Mailloux",
            "event": "Blocked Shot",
            "eventCode": "TOR564",
            "eventTypeId": "BLOCKED_SHOT"
           },
           "team": {
            "id": 8,
            "link": "/api/v1/teams/8",
            "name": "Montréal Canadiens",
            "triCode": "MTL"
           }
          },
          {
           "about": {
            "dateTime": "2023-10-03T00:10:19Z",
            "eventId": 565,
            "eventIdx": 132,
            "goals": {
             "away": 1,
             "home": 2
            },
            "ordinalNum": "2nd",
            "period": 2,
            "periodTime": "06:23",
            "periodTimeRemaining": "13:37",
            "periodType": "REGULAR"
           },
           "coordinates": {
            "x": 61,
            "y": 0
           },
           "players": [
            {
             "player": {
              "fullName": "Matthew Knies",
              "id": 8482720,
              "link": "/api/v1/people/8482720"
             },
             "playerType": "Shooter"
            },
            {
             "player": {
              "fullName": "Jake Allen",
              "id": 8474596,
              "link": "/api/v1/people/8474596"
             },
             "playerType": "Goalie"
            }
           ],
           "result": {
            "description": "Matthew Knies Snap Shot saved by Jake Allen",
            "event": "Shot",
            "eventCode": "TOR565",
            "eventTypeId": "SHOT",
            "secondaryType": "Snap Shot"
           },
           "team": {
            "id": 10,
            "link": "/api/v1/teams/10",
            "name": "Toronto Maple Leafs",
            "triCode": "TOR"
           }
          },
          {
           "about": {
            "dateTime": "2023-10-03T00:10:25Z",
            "eventId": 318,
            "eventIdx": 133,
            "goals": {
             "away": 1,
             "home": 2
            },
            "ordinalNum": "2nd",
            "period": 2,
            "periodTime": "06:29",
            "periodTimeRemaining": "13:31",
            "periodType": "REGULAR"
           },
           "coordinates": {
            "x": 55,
            "y": 40
           },
           "players": [
            {
             "player": {
              "fullName": "Rafael Harvey-Pinard",
              "id": 8481093,
              "link": "/api/v1/people/8481093"
             },
             "playerType": "Hitter"
            },
            {
             "player": {
              "fullName": "Jake McCabe",
              "id": 8476931,
              "link": "/api/v1/people/8476931"
             },
             "playerType": "Hittee"
            }
           ],
           "result": {
            "description": "Rafael Harvey-Pinard hit Jake McCabe",
            "event": "Hit",
            "eventCode": "TOR318",
            "eventTypeId": "HIT"
           },
           "team": {
            "id": 8,
            "link": "/api/v1/teams/8",
            "name": "Montréal Canadiens",
            "triCode": "MTL"
           }
          },
          {
           "about": {
            "dateTime": "2023-10-03T00:10:50Z",
            "eventId": 319,
            "eventIdx": 134,
            "goals": {
             "away": 1,
             "home": 2
            },
            "ordinalNum": "2nd",
            "period": 2,
            "periodTime": "06:54",
            "periodTimeRemaining": "13:06",
            "periodType": "REGULAR"
           },
           "coordinates": {
            "x": 92,
            "y": 17
           },
           "players": [
            {
             "player": {
              "fullName": "David Kampf",
              "id": 8480144,
              "link": "/api/v1/people/8480144"
             },
             "playerType": "Hitter"
            },
            {
             "player": {
              "fullName": "Jordan Harris",
              "id": 8480887,
              "link": "/api/v1/people/8480887"
             },
             "playerType": "Hittee"
            }
           ],
           "result": {
            "description": "David Kampf hit Jordan Harris",
            "event": "Hit",
            "eventCode": "TOR319",
            "eventTypeId": "HIT"
           },
           "team": {
            "id": 10,
            "link": "/api/v1/teams/10",
            "name": "Toronto Maple Leafs",
            "triCode": "TOR"
           }
          },
          {
           "about": {
            "dateTime": "2023-10-03T00:11:05Z",
            "eventId": 320,
            "eventIdx": 135,
            "goals": {
             "away": 1,
             "home": 2
            },
            "ordinalNum": "2nd",
            "period": 2,
            "periodTime": "07:09",
            "periodTimeRemaining": "12:51",
            "periodType": "REGULAR"
           },
           "coordinates": {
            "x": 97,
            "y": 3
           },
           "players": [
            {
             "player": {
              "fullName": "David Kampf",
              "id": 8480144,
              "link": "/api/v1/people/8480144"
             },
             "playerType": "Hitter"
            },
            {
             "player": {
              "fullName": "Jordan Harris",
              "id": 8480887,
              "link": "/api/v1/people/8480887"
             },
             "playerType": "Hittee"
            }
           ],
           "result": {
            "description": "David Kampf hit Jordan Harris",
            "event": "Hit",
            "eventCode": "TOR320",
            "eventTypeId": "HIT"
           },
           "team": {
            "id": 10,
            "link": "/api/v1/teams/10",
            "name": "Toronto Maple Leafs",
            "triCode": "TOR"
           }
          },
          {
           "about": {
            "dateTime": "2023-10-03T00:11:09Z",
            "eventId": 571,
            "eventIdx": 136,
            "goals": {
             "away": 1,
             "home": 2
            },
            "ordinalNum": "2nd",
            "period": 2,
            "periodTime": "07:13",
            "periodTimeRemaining": "12:47",
            "periodType": "REGULAR"
           },
           "coordinates": {
            "x": 77,
            "y": -6
           },
           "players": [
            {
             "player": {
              "fullName": "Logan Mailloux",
              "id": 8482733,
              "link": "/api/v1/people/8482733"
             },
             "playerType": "Blocker"
            },
            {
             "player": {
              "fullName": "TJ Brodie",
              "id": 8474673,
              "link": "/api/v1/people/8474673"
             },
             "playerType": "Shooter"
            }
           ],
           "result": {
            "description": "TJ Brodie shot blocked shot by Logan Mailloux",
            "event": "Blocked Shot",
            "eventCode": "TOR571",
            "eventTypeId": "BLOCKED_SHOT"
           },
           "team": {
            "id": 8,
            "link": "/api/v1/teams/8",
            "name": "Montréal Canadiens",
            "triCode": "MTL"
           }
          },
          {
           "about": {
            "dateTime": "2023-10-03T00:11:12Z",
            "eventId": 321,
            "eventIdx": 137,
            "goals": {
             "away": 1,
             "home": 2
            },
            "ordinalNum": "2nd",
            "period": 2,
            "periodTime": "07:16",
            "periodTimeRemaining": "12:44",
            "periodType": "REGULAR"
           },
           "coordinates": {
            "x": 87,
            "y": -3
           },
           "result": {
            "description": "Puck Frozen",
            "event": "Stoppage",
            "eventCode": "TOR321",
            "eventTypeId": "STOP"
           }
          },
          {
           "about": {
            "dateTime": "2023-10-03T00:13:34Z",
            "eventId": 145,
            "eventIdx": 138,
            "goals": {
             "away": 1,
             "home": 2
            },
            "ordinalNum": "2nd",
            "period": 2,
            "periodTime": "07:16",
            "periodTimeRemaining": "12:44",
            "periodType": "REGULAR"
           },
           "coordinates": {
            "x": 69,
            "y": -22
           },
           "players": [
            {
             "player": {
              "fullName": "Jake Evans",
              "id": 8478133,
              "link": "/api/v1/people/8478133"
             },
             "playerType": "Winner"
            },
            {
             "player": {
              "fullName": "Auston Matthews",
              "id": 8479318,
              "link": "/api/v1/people/8479318"
             },
             "playerType": "Loser"
            }
           ],
           "result": {
            "description": "Jake Evans faceoff won against Auston Matthews",
            "event": "Faceoff",
            "eventCode": "TOR145",
            "eventTypeId": "FACEOFF"
           },
           "team": {
            "id": 8,
            "link": "/api/v1/teams/8",
            "name": "Montréal Canadiens",
            "triCode": "MTL"
           }
          },
          {
           "about": {
            "dateTime": "2023-10-03T00:13:44Z",
            "eventId": 579,
            "eventIdx": 139,
            "goals": {
             "away": 1,
             "home": 2
            },
            "ordinalNum": "2nd",
            "period": 2,
            "periodTime": "07:27",
            "periodTimeRemaining": "12:33",
            "periodType": "REGULAR"
           },
           "coordinates": {
            "x": 82,
            "y": 14
           },
           "players": [
            {
             "player": {
              "fullName": "Jake Evans",
              "id": 8478133,
              "link": "/api/v1/people/8478133"
             },
             "playerType": "PenaltyOn"
            },
            {
             "player": {
              "fullName": "Auston Matthews",
              "id": 8479318,
              "link": "/api/v1/people/8479318"
             },
             "playerType": "DrewBy"
            }
           ],
           "result": {
            "description": "Jake Evans Hooking against Auston Matthews",
            "event": "Penalty",
            "eventCode": "TOR579",
            "eventTypeId": "PENALTY",
            "penaltyMinutes": 2,
            "penaltySeverity": "Minor",
            "secondaryType": "Hooking"
           },
           "team": {
            "id": 8,
            "link": "/api/v1/teams/8",
            "name": "Montréal Canadiens",
            "triCode": "MTL"
           }
          },
          {
           "about": {
            "dateTime": "2023-10-03T00:14:26Z",
            "eventId": 146,
            "eventIdx": 140,
            "goals": {
             "away": 1,
             "home": 2
            },
            "ordinalNum": "2nd",
            "period": 2,
            "periodTime": "07:27",
            "periodTimeRemaining": "12:33",
            "periodType": "REGULAR"
           },
           "coordinates": {
            "x": 69,
            "y": 22
           },
           "players": [
            {
             "player": {
              "fullName": "Nick Suzuki",
              "id": 8480018,
              "link": "/api/v1/people/8480018"
             },
             "playerType": "Winner"
            },
            {
             "player": {
              "fullName": "John Tavares",
              "id": 8475166,
              "link": "/api/v1/people/8475166"
             },
             "playerType": "Loser"
            }
           ],
           "result": {
            "description": "Nick Suzuki faceoff won against John Tavares",
            "event": "Faceoff",
            "eventCode": "TOR146",
            "eventTypeId": "FACEOFF"
           },
           "team": {
            "id": 8,
            "link": "/api/v1/teams/8",
            "name": "Montréal Canadiens",
            "triCode": "MTL"
           }
          },
          {
           "about": {
            "dateTime": "2023-10-03T00:15:08Z",
            "eventId": 582,
            "eventIdx": 141,
            "goals": {
             "away": 1,
             "home": 2
            },
            "ordinalNum": "2nd",
            "period": 2,
            "periodTime": "08:09",
            "periodTimeRemaining": "11:51",
            "periodType": "REGULAR"
           },
           "coordinates": {
            "x": 70,
            "y": -9
           },
           "players": [
            {
             "player": {
              "fullName": "John Tavares",
              "id": 8475166,
              "link": "/api/v1/people/8475166"
             },
             "playerType": "Blocker"
            },
            {
             "player": {
              "fullName": "Mitchell Marner",
              "id": 8478483,
              "link": "/api/v1/people/8478483"
             },
             "playerType": "Shooter"
            }
           ],
           "result": {
            "description": "Mitchell Marner shot blocked shot by John Tavares",
            "event": "Blocked Shot",
            "eventCode": "TOR582",
            "eventTypeId": "BLOCKED_SHOT"
           },
           "team": {
            "id": 10,
            "link": "/api/v1/teams/10",
            "name": "Toronto Maple Leafs",
            "triCode": "TOR"
           }
          },
          {
           "about": {
            "dateTime": "2023-10-03T00:15:45Z",
            "eventId": 587,
            "eventIdx": 142,
            "goals": {
             "away": 1,
             "home": 2
            },
            "ordinalNum": "2nd",
            "period": 2,
            "periodTime": "08:46",
            "periodTimeRemaining": "11:14",
            "periodType": "REGULAR"
           },
           "coordinates": {
            "x": 82,
            "y": 1
           },
           "players": [
            {
             "player": {
              "fullName": "David Savard",
              "id": 8475233,
              "link": "/api/v1/people/8475233"
             },
             "playerType": "Blocker"
            },
            {
             "player": {
              "fullName": "Timothy Liljegren",
              "id": 8480043,
              "link": "/api/v1/people/8480043"
             },
             "playerType": "Shooter"
            }
           ],
           "result": {
            "description": "Timothy Liljegren shot blocked shot by David Savard",
            "event": "Blocked Shot",
            "eventCode": "TOR587",
            "eventTypeId": "BLOCKED_SHOT"
           },
           "team": {
            "id": 8,
            "link": "/api/v1/teams/8",
            "name": "Montréal Canadiens",
            "triCode": "MTL"
           }
          },
          {
           "about": {
            "dateTime": "2023-10-03T00:16:39Z",
            "eventId": 598,
            "eventIdx": 143,
            "goals": {
             "away": 1,
             "home": 2
            },
            "ordinalNum": "2nd",
            "period": 2,
            "periodTime": "09:40",
            "periodTimeRemaining": "10:20",
            "periodType": "REGULAR"
           },
           "coordinates": {
            "x": 13,
            "y": -25
           },
           "players": [
            {
             "player": {
              "fullName": "Tyler Bertuzzi",
              "id": 8477479,
              "link": "/api/v1/people/8477479"
             },
             "playerType": "Shooter"
            },
            {
             "player": {
              "fullName": "Jake Allen",
              "id": 8474596,
              "link": "/api/v1/people/8474596"
             },
             "playerType": "Goalie"
            }
           ],
           "result": {
            "description": "Tyler Bertuzzi Tip-In saved by Jake Allen",
            "event": "Shot",
            "eventCode": "TOR598",
            "eventTypeId": "SHOT",
            "secondaryType": "Tip-In"
           },
           "team": {
            "id": 10,
            "link": "/api/v1/teams/10",
            "name": "Toronto Maple Leafs",
            "triCode": "TOR"
           }
          },
          {
           "about": {
            "dateTime": "2023-10-03T00:16:59Z",
            "eventId": 323,
            "eventIdx": 144,
            "goals": {
             "away": 1,
             "home": 2
            },
            "ordinalNum": "2nd",
            "period": 2,
            "periodTime": "10:00",
            "periodTimeRemaining": "10:00",
            "periodType": "REGULAR"
           },
           "coordinates": {
            "x": -27,
            "y": 39
           },
           "players": [
            {
             "player": {
              "fullName": "Tanner Pearson",
              "id": 8476871,
              "link": "/api/v1/people/8476871"
             },
             "playerType": "Hitter"
            },
            {
             "player": {
              "fullName": "Tyler Bertuzzi",
              "id": 8477479,
              "link": "/api/v1/people/8477479"
             },
             "playerType": "Hittee"
            }
           ],
           "result": {
            "description": "Tanner Pearson hit Tyler Bertuzzi",
            "event": "Hit",
            "eventCode": "TOR323",
            "eventTypeId": "HIT"
           },
           "team": {
            "id": 8,
            "link": "/api/v1/teams/8",
            "name": "Montréal Canadiens",
            "triCode": "MTL"
           }
          },
          {
           "about": {
            "dateTime": "2023-10-03T00:17:13Z",
            "eventId": 324,
            "eventIdx": 145,
            "goals": {
             "away": 1,
             "home": 2
            },
            "ordinalNum": "2nd",
            "period": 2,
            "periodTime": "10:14",
            "periodTimeRemaining": "09:46",
            "periodType": "REGULAR"
           },
           "coordinates": {
            "x": -27,
            "y": -38
           },
           "players": [
            {
             "player": {
              "fullName": "Mikko Kokkonen",
              "id": 8481614,
              "link": "/api/v1/people/8481614"
             },
             "playerType": "Hitter"
            },
            {
             "player": {
              "fullName": "Brendan Gallagher",
              "id": 8475848,
              "link": "/api/v1/people/8475848"
             },
             "playerType": "Hittee"
            }
           ],
           "result": {
            "description": "Mikko Kokkonen hit Brendan Gallagher",
            "event": "Hit",
            "eventCode": "TOR324",
            "eventTypeId": "HIT"
           },
           "team": {
            "id": 10,
            "link": "/api/v1/teams/10",
            "name": "Toronto Maple Leafs",
            "triCode": "TOR"
           }
          },
          {
           "about": {
            "dateTime": "2023-10-03T00:17:19Z",
            "eventId": 608,
            "eventIdx": 146,
            "goals": {
             "away": 1,
             "home": 2
            },
            "ordinalNum": "2nd",
            "period": 2,
            "periodTime": "10:20",
            "periodTimeRemaining": "09:40",
            "periodType": "REGULAR"
           },
           "coordinates": {
            "x": 78,
            "y": 31
           },
           "players": [
            {
             "player": {
              "fullName": "Logan Mailloux",
              "id": 8482733,
              "link": "/api/v1/people/8482733"
             },
             "playerType": "Blocker"
            },
            {
             "player": {
              "fullName": "Noah Gregor",
              "id": 8479393,
              "link": "/api/v1/people/8479393"
             },
             "playerType": "Shooter"
            }
           ],
           "result": {
            "description": "Noah Gregor shot blocked shot by Logan Mailloux",
            "event": "Blocked Shot",
            "eventCode": "TOR608",
            "eventTypeId": "BLOCKED_SHOT"
           },
           "team": {
            "id": 8,
            "link": "/api/v1/teams/8",
            "name": "Montréal Canadiens",
            "triCode": "MTL"
           }
          },
          {
           "about": {
            "dateTime": "2023-10-03T00:17:44Z",
            "eventId": 325,
            "eventIdx": 147,
            "goals": {
             "away": 1,
             "home": 2
            },
            "ordinalNum": "2nd",
            "period": 2,
            "periodTime": "10:45",
            "periodTimeRemaining": "09:15",
            "periodType": "REGULAR"
           },
           "coordinates": {
            "x": -68,
            "y": -40
           },
           "players": [
            {
             "player": {
              "fullName": "Timothy Liljegren",
              "id": 8480043,
              "link": "/api/v1/people/8480043"
             },
             "playerType": "Hitter"
            },
            {
             "player": {
              "fullName": "Logan Mailloux",
              "id": 8482733,
              "link": "/api/v1/people/8482733"
             },
             "playerType": "Hittee"
            }
           ],
           "result": {
            "description": "Timothy Liljegren hit Logan Mailloux",
            "event": "Hit",
            "eventCode": "TOR325",
            "eventTypeId": "HIT"
           },
           "team": {
            "id": 10,
            "link": "/api/v1/teams/10",
            "name": "Toronto Maple Leafs",
            "triCode": "TOR"
           }
          },
          {
           "about": {
            "dateTime": "2023-10-03T00:17:48Z",
            "eventId": 610,
            "eventIdx": 148,
            "goals": {
             "away": 1,
             "home": 2
            },
            "ordinalNum": "2nd",
            "period": 2,
            "periodTime": "10:49",
            "periodTimeRemaining": "09:11",
            "periodType": "REGULAR"
           },
           "coordinates": {
            "x": -30,
            "y": 38
           },
           "players": [
            {
             "player": {
              "fullName": "Nick Suzuki",
              "id": 8480018,
              "link": "/api/v1/people/8480018"
             },
             "playerType": "Shooter"
            },
            {
             "player": {
              "fullName": "Ilya Samsonov",
              "id": 8478492,
              "link": "/api/v1/people/8478492"
             },
             "playerType": "Unknown"
            }
           ],
           "result": {
            "description": "Nick Suzuki Wide Left Ilya Samsonov",
            "event": "Missed Shot",
            "eventCode": "TOR610",
            "eventTypeId": "MISSED_SHOT"
           },
           "team": {
            "id": 8,
            "link": "/api/v1/teams/8",
            "name": "Montréal Canadiens",
            "triCode": "MTL"
           }
          },
          {
           "about": {
            "dateTime": "2023-10-03T00:18:27Z",
            "eventId": 157,
            "eventIdx": 149,
            "goals": {
             "away": 1,
             "home": 2
            },
            "ordinalNum": "2nd",
            "period": 2,
            "periodTime": "11:27",
            "periodTimeRemaining": "08:33",
            "periodType": "REGULAR"
           },
           "coordinates": {
            "x": -53,
            "y": 2
           },
           "players": [
            {
             "player": {
              "fullName": "Rafael Harvey-Pinard",
              "id": 8481093,
              "link": "/api/v1/people/8481093"
             },
             "playerType": "Shooter"
            },
            {
             "player": {
              "fullName": "Ilya Samsonov",
              "id": 8478492,
              "link": "/api/v1/people/8478492"
             },
             "playerType": "Goalie"
            }
           ],
           "result": {
            "description": "Rafael Harvey-Pinard Poke saved by Ilya Samsonov",
            "event": "Shot",
            "eventCode": "TOR157",
            "eventTypeId": "SHOT",
            "secondaryType": "Poke"
           },
           "team": {
            "id": 8,
            "link": "/api/v1/teams/8",
            "name": "Montréal Canadiens",
            "triCode": "MTL"
           }
          },
          {
           "about": {
            "dateTime": "2023-10-03T00:18:27Z",
            "eventId": 161,
            "eventIdx": 150,
            "goals": {
             "away": 1,
             "home": 2
            },
            "ordinalNum": "2nd",
            "period": 2,
            "periodTime": "11:27",
            "periodTimeRemaining": "08:33",
            "periodType": "REGULAR"
           },
           "coordinates": {
            "x": -85,
            "y": 0
           },
           "result": {
            "description": "Goalie Stopped",
            "event": "Stoppage",
            "eventCode": "TOR161",
            "eventTypeId": "STOP"
           }
          },
          {
           "about": {
            "dateTime": "2023-10-03T00:20:54Z",
            "eventId": 326,
            "eventIdx": 151,
            "goals": {
             "away": 1,
             "home": 2
            },
            "ordinalNum": "2nd",
            "period": 2,
            "periodTime": "11:27",
            "periodTimeRemaining": "08:33",
            "periodType": "REGULAR"
           },
           "coordinates": {
            "x": -69,
            "y": 22
           },
           "players": [
            {
             "player": {
              "fullName": "John Tavares",
              "id": 8475166,
              "link": "/api/v1/people/8475166"
             },
             "playerType": "Winner"
            },
            {
             "player": {
              "fullName": "Juraj Slafkovsky",
              "id": 8483515,
              "link": "/api/v1/people/8483515"
             },
             "playerType": "Loser"
            }
           ],
           "result": {
            "description": "John Tavares faceoff won against Juraj Slafkovsky",
            "event": "Faceoff",
            "eventCode": "TOR326",
            "eventTypeId": "FACEOFF"
           },
           "team": {
            "id": 10,
            "link": "/api/v1/teams/10",
            "name": "Toronto Maple Leafs",
            "triCode": "TOR"
           }
          },
          {
           "about": {
            "dateTime": "2023-10-03T00:21:36Z",
            "eventId": 620,
            "eventIdx": 152,
            "goals": {
             "away": 1,
             "home": 2
            },
            "ordinalNum": "2nd",
            "period": 2,
            "periodTime": "12:09",
            "periodTimeRemaining": "07:51",
            "periodType": "REGULAR"
           },
           "coordinates": {
            "x": -76,
            "y": -1
           },
           "players": [
            {
             "player": {
              "fullName": "Jake McCabe",
              "id": 8476931,
              "link": "/api/v1/people/8476931"
             },
             "playerType": "Blocker"
            },
            {
             "player": {
              "fullName": "David Savard",
              "id": 8475233,
              "link": "/api/v1/people/8475233"
             },
             "playerType": "Shooter"
            }
           ],
           "result": {
            "description": "David Savard shot blocked shot by Jake McCabe",
            "event": "Blocked Shot",
            "eventCode": "TOR620",
            "eventTypeId": "BLOCKED_SHOT"
           },
           "team": {
            "id": 10,
            "link": "/api/v1/teams/10",
            "name": "Toronto Maple Leafs",
            "triCode": "TOR"
           }
          },
          {
           "about": {
            "dateTime": "2023-10-03T00:21:48Z",
            "eventId": 327,
            "eventIdx": 153,
            "goals": {
             "away": 1,
             "home": 2
            },
            "ordinalNum": "2nd",
            "period": 2,
            "periodTime": "12:21",
            "periodTimeRemaining": "07:39",
            "periodType": "REGULAR"
           },
           "coordinates": {
            "x": -50,
            "y": 38
           },
           "players": [
            {
             "player": {
              "fullName": "John Tavares",
              "id": 8475166,
              "link": "/api/v1/people/8475166"
             },
             "playerType": "Hitter"
            },
            {
             "player": {
              "fullName": "Kirby Dach",
              "id": 8481523,
              "link": "/api/v1/people/8481523"
             },
             "playerType": "Hittee"
            }
           ],
           "result": {
            "description": "John Tavares hit Kirby Dach",
            "event": "Hit",
            "eventCode": "TOR327",
            "eventTypeId": "HIT"
           },
           "team": {
            "id": 10,
            "link": "/api/v1/teams/10",
            "name": "Toronto Maple Leafs",
            "triCode": "TOR"
           }
          },
          {
           "about": {
            "dateTime": "2023-10-03T00:21:50Z",
            "eventId": 623,
            "eventIdx": 154,
            "goals": {
             "away": 1,
             "home": 2
            },
            "ordinalNum": "2nd",
            "period": 2,
            "periodTime": "12:23",
            "periodTimeRemaining": "07:37",
            "periodType": "REGULAR"
           },
           "coordinates": {
            "x": -44,
            "y": 41
           },
           "players": [
            {
             "player": {
              "fullName": "John Tavares",
              "id": 8475166,
              "link": "/api/v1/people/8475166"
             },
             "playerType": "PenaltyOn"
            },
            {
             "player": {
              "fullName": "Kirby Dach",
              "id": 8481523,
              "link": "/api/v1/people/8481523"
             },
             "playerType": "DrewBy"
            }
           ],
           "result": {
            "description": "John Tavares Interference against Kirby Dach",
            "event": "Penalty",
            "eventCode": "TOR623",
            "eventTypeId": "PENALTY",
            "penaltyMinutes": 2,
            "penaltySeverity": "Minor",
            "secondaryType": "Interference"
           },
           "team": {
            "id": 10,
            "link": "/api/v1/teams/10",
            "name": "Toronto Maple Leafs",
            "triCode": "TOR"
           }
          },
          {
           "about": {
            "dateTime": "2023-10-03T00:22:42Z",
            "eventId": 148,
            "eventIdx": 155,
            "goals": {
             "away": 1,
             "home": 2
            },
            "ordinalNum": "2nd",
            "period": 2,
            "periodTime": "12:23",
            "periodTimeRemaining": "07:37",
            "periodType": "REGULAR"
           },
           "coordinates": {
            "x": -69,
            "y": -22
           },
           "players": [
            {
             "player": {
              "fullName": "Sean Monahan",
              "id": 8477497,
              "link": "/api/v1/people/8477497"
             },
             "playerType": "Winner"
            },
            {
             "player": {
              "fullName": "David Kampf",
              "id": 8480144,
              "link": "/api/v1/people/8480144"
             },
             "playerType": "Loser"
            }
           ],
           "result": {
            "description": "Sean Monahan faceoff won against David Kampf",
            "event": "Faceoff",
            "eventCode": "TOR148",
            "eventTypeId": "FACEOFF"
           },
           "team": {
            "id": 8,
            "link": "/api/v1/teams/8",
            "name": "Montréal Canadiens",
            "triCode": "MTL"
           }
          },
          {
           "about": {
            "dateTime": "2023-10-03T00:23:03Z",
            "eventId": 149,
            "eventIdx": 156,
            "goals": {
             "away": 1,
             "home": 2
            },
            "ordinalNum": "2nd",
            "period": 2,
            "periodTime": "12:44",
            "periodTimeRemaining": "07:16",
            "periodType": "REGULAR"
           },
           "coordinates": {
            "x": -40,
            "y": 38
           },
           "players": [
            {
             "player": {
              "fullName": "David Kampf",
              "id": 8480144,
              "link": "/api/v1/people/8480144"
             },
             "playerType": "PlayerID"
            }
           ],
           "result": {
            "description": "Takeaway by David Kampf",
            "event": "Takeaway",
            "eventCode": "TOR149",
            "eventTypeId": "TAKEAWAY"
           },
           "team": {
            "id": 10,
            "link": "/api/v1/teams/10",
            "name": "Toronto Maple Leafs",
            "triCode": "TOR"
           }
          },
          {
           "about": {
            "dateTime": "2023-10-03T00:23:27Z",
            "eventId": 629,
            "eventIdx": 157,
            "goals": {
             "away": 1,
             "home": 2
            },
            "ordinalNum": "2nd",
            "period": 2,
            "periodTime": "13:08",
            "periodTimeRemaining": "06:52",
            "periodType": "REGULAR"
           },
           "coordinates": {
            "x": -64,
            "y": -27
           },
           "players": [
            {
             "player": {
              "fullName": "Cole Caufield",
              "id": 8481540,
              "link": "/api/v1/people/8481540"
             },
             "playerType": "Shooter"
            },
            {
             "player": {
              "fullName": "Ilya Samsonov",
              "id": 8478492,
              "link": "/api/v1/people/8478492"
             },
             "playerType": "Goalie"
            }
           ],
           "result": {
            "description": "Cole Caufield Slap Shot saved by Ilya Samsonov",
            "event": "Shot",
            "eventCode": "TOR629",
            "eventTypeId": "SHOT",
            "secondaryType": "Slap Shot"
           },
           "team": {
            "id": 8,
            "link": "/api/v1/teams/8",
            "name": "Montréal Canadiens",
            "triCode": "MTL"
           }
          },
          {
           "about": {
            "dateTime": "2023-10-03T00:23:59Z",
            "eventId": 159,
            "eventIdx": 158,
            "goals": {
             "away": 1,
             "home": 2
            },
            "ordinalNum": "2nd",
            "period": 2,
            "periodTime": "13:40",
            "periodTimeRemaining": "06:20",
            "periodType": "REGULAR"
           },
           "coordinates": {
            "x": 79,
            "y": -3
           },
           "players": [
            {
             "player": {
              "fullName": "Auston Matthews",
              "id": 8479318,
              "link": "/api/v1/people/8479318"
             },
             "playerType": "Shooter"
            },
            {
             "player": {
              "fullName": "Jake Allen",
              "id": 8474596,
              "link": "/api/v1/people/8474596"
             },
             "playerType": "Goalie"
            }
           ],
           "result": {
            "description": "Auston Matthews Backhand saved by Jake Allen",
            "event": "Shot",
            "eventCode": "TOR159",
            "eventTypeId": "SHOT",
            "secondaryType": "Backhand"
           },
           "team": {
            "id": 10,
            "link": "/api/v1/teams/10",
            "name": "Toronto Maple Leafs",
            "triCode": "TOR"
           }
          },
          {
           "about": {
            "dateTime": "2023-10-03T00:24:29Z",
            "eventId": 150,
            "eventIdx": 159,
            "goals": {
             "away": 1,
             "home": 2
            },
            "ordinalNum": "2nd",
            "period": 2,
            "periodTime": "14:10",
            "periodTimeRemaining": "05:50",
            "periodType": "REGULAR"
           },
           "coordinates": {
            "x": -47,
            "y": -14
           },
           "players": [
            {
             "player": {
              "fullName": "Matthew Knies",
              "id": 8482720,
              "link": "/api/v1/people/8482720"
             },
             "playerType": "PlayerID"
            }
           ],
           "result": {
            "description": "Takeaway by Matthew Knies",
            "event": "Takeaway",
            "eventCode": "TOR150",
            "eventTypeId": "TAKEAWAY"
           },
           "team": {
            "id": 10,
            "link": "/api/v1/teams/10",
            "name": "Toronto Maple Leafs",
            "triCode": "TOR"
           }
          },
          {
           "about": {
            "dateTime": "2023-10-03T00:24:59Z",
            "eventId": 401,
            "eventIdx": 160,
            "goals": {
             "away": 1,
             "home": 2
            },
            "ordinalNum": "2nd",
            "period": 2,
            "periodTime": "14:40",
            "periodTimeRemaining": "05:20",
            "periodType": "REGULAR"
           },
           "coordinates": {
            "x": 19,
            "y": -38
           },
           "players": [
            {
             "player": {
              "fullName": "William Nylander",
              "id": 8477939,
              "link": "/api/v1/people/8477939"
             },
             "playerType": "PlayerID"
            }
           ],
           "result": {
            "description": "Takeaway by William Nylander",
            "event": "Takeaway",
            "eventCode": "TOR401",
            "eventTypeId": "TAKEAWAY"
           },
           "team": {
            "id": 10,
            "link": "/api/v1/teams/10",
            "name": "Toronto Maple Leafs",
            "triCode": "TOR"
           }
          },
          {
           "about": {
            "dateTime": "2023-10-03T00:25:04Z",
            "eventId": 158,
            "eventIdx": 161,
            "goals": {
             "away": 1,
             "home": 3
            },
            "ordinalNum": "2nd",
            "period": 2,
            "periodTime": "14:45",
            "periodTimeRemaining": "05:15",
            "periodType": "REGULAR"
           },
           "coordinates": {
            "x": 84,
            "y": -4
           },
           "players": [
            {
             "player": {
              "fullName": "Max Domi",
              "id": 8477503,
              "link": "/api/v1/people/8477503"
             },
             "playerType": "Scorer",
             "seasonTotal": 2
            },
            {
             "player": {
              "fullName": "William Nylander",
              "id": 8477939,
              "link": "/api/v1/people/8477939"
             },
             "playerType": "Assist",
             "seasonTotal": 1
            },
            {
             "player": {
              "fullName": "Jake Allen",
              "id": 8474596,
              "link": "/api/v1/people/8474596"
             },
             "playerType": "Goalie"
            }
           ],
           "result": {
            "description": "Max Domi (2) Wrist Shot, assists: William Nylander (1)",
            "emptyNet": false,
            "event": "Goal",
            "eventCode": "TOR158",
            "eventTypeId": "GOAL",
            "gameWinningGoal": false,
            "secondaryType": "Wrist Shot",
            "strength": {
             "code": "EVEN",
             "name": "Even"
            }
           },
           "team": {
            "id": 10,
            "link": "/api/v1/teams/10",
            "name": "Toronto Maple Leafs",
            "triCode": "TOR"
           }
          },
          {
           "about": {
            "dateTime": "2023-10-03T00:25:44Z",
            "eventId": 402,
            "eventIdx": 162,
            "goals": {
             "away": 1,
             "home": 3
            },
            "ordinalNum": "2nd",
            "period": 2,
            "periodTime": "14:45",
            "periodTimeRemaining": "05:15",
            "periodType": "REGULAR"
           },
           "coordinates": {
            "x": 0,
            "y": 0
           },
           "players": [
            {
             "player": {
              "fullName": "Jake Evans",
              "id": 8478133,
              "link": "/api/v1/people/8478133"
             },
             "playerType": "Winner"
            },
            {
             "player": {
              "fullName": "David Kampf",
              "id": 8480144,
              "link": "/api/v1/people/8480144"
             },
             "playerType": "Loser"
            }
           ],
           "result": {
            "description": "Jake Evans faceoff won against David Kampf",
            "event": "Faceoff",
            "eventCode": "TOR402",
            "eventTypeId": "FACEOFF"
           },
           "team": {
            "id": 8,
            "link": "/api/v1/teams/8",
            "name": "Montréal Canadiens",
            "triCode": "MTL"
           }
          },
          {
           "about": {
            "dateTime": "2023-10-03T00:26:12Z",
            "eventId": 330,
            "eventIdx": 163,
            "goals": {
             "away": 1,
             "home": 3
            },
            "ordinalNum": "2nd",
            "period": 2,
            "periodTime": "15:14",
            "periodTimeRemaining": "04:46",
            "periodType": "REGULAR"
           },
           "coordinates": {
            "x": -34,
            "y": 4
           },
           "result": {
            "description": "High Stick",
            "event": "Stoppage",
            "eventCode": "TOR330",
            "eventTypeId": "STOP"
           }
          },
          {
           "about": {
            "dateTime": "2023-10-03T00:28:37Z",
            "eventId": 404,
            "eventIdx": 164,
            "goals": {
             "away": 1,
             "home": 3
            },
            "ordinalNum": "2nd",
            "period": 2,
            "periodTime": "15:14",
            "periodTimeRemaining": "04:46",
            "periodType": "REGULAR"
           },
           "coordinates": {
            "x": -69,
            "y": -22
           },
           "players": [
            {
             "player": {
              "fullName": "David Kampf",
              "id": 8480144,
              "link": "/api/v1/people/8480144"
             },
             "playerType": "Winner"
            },
            {
             "player": {
              "fullName": "Sean Monahan",
              "id": 8477497,
              "link": "/api/v1/people/8477497"
             },
             "playerType": "Loser"
            }
           ],
           "result": {
            "description": "David Kampf faceoff won against Sean Monahan",
            "event": "Faceoff",
            "eventCode": "TOR404",
            "eventTypeId": "FACEOFF"
           },
           "team": {
            "id": 10,
            "link": "/api/v1/teams/10",
            "name": "Toronto Maple Leafs",
            "triCode": "TOR"
           }
          },
          {
           "about": {
            "dateTime": "2023-10-03T00:28:46Z",
            "eventId": 331,
            "eventIdx": 165,
            "goals": {
             "away": 1,
             "home": 3
            },
            "ordinalNum": "2nd",
            "period": 2,
            "periodTime": "15:22",
            "periodTimeRemaining": "04:38",
            "periodType": "REGULAR"
           },
           "coordinates": {
            "x": -71,
            "y": 9
           },
           "result": {
            "description": "Icing",
            "event": "Stoppage",
            "eventCode": "TOR331",
            "eventTypeId": "STOP"
           }
          },
          {
           "about": {
            "dateTime": "2023-10-03T00:29:16Z",
            "eventId": 405,
            "eventIdx": 166,
            "goals": {
             "away": 1,
             "home": 3
            },
            "ordinalNum": "2nd",
            "period": 2,
            "periodTime": "15:22",
            "periodTimeRemaining": "04:38",
            "periodType": "REGULAR"
           },
           "coordinates": {
            "x": -69,
            "y": 22
           },
           "players": [
            {
             "player": {
              "fullName": "Nick Suzuki",
              "id": 8480018,
              "link": "/api/v1/people/8480018"
             },
             "playerType": "Winner"
            },
            {
             "player": {
              "fullName": "David Kampf",
              "id": 8480144,
              "link": "/api/v1/people/8480144"
             },
             "playerType": "Loser"
            }
           ],
           "result": {
            "description": "Nick Suzuki faceoff won against David Kampf",
            "event": "Faceoff",
            "eventCode": "TOR405",
            "eventTypeId": "FACEOFF"
           },
           "team": {
            "id": 8,
            "link": "/api/v1/teams/8",
            "name": "Montréal Canadiens",
            "triCode": "MTL"
           }
          },
          {
           "about": {
            "dateTime": "2023-10-03T00:29:25Z",
            "eventId": 706,
            "eventIdx": 167,
            "goals": {
             "away": 1,
             "home": 3
            },
            "ordinalNum": "2nd",
            "period": 2,
            "periodTime": "15:31",
            "periodTimeRemaining": "04:29",
            "periodType": "REGULAR"
           },
           "coordinates": {
            "x": -1,
            "y": -40
           },
           "players": [
            {
             "player": {
              "fullName": "Arber Xhekaj",
              "id": 8482964,
              "link": "/api/v1/people/8482964"
             },
             "playerType": "Shooter"
            },
            {
             "player": {
              "fullName": "Ilya Samsonov",
              "id": 8478492,
              "link": "/api/v1/people/8478492"
             },
             "playerType": "Goalie"
            }
           ],
           "result": {
            "description": "Arber Xhekaj Wrist Shot saved by Ilya Samsonov",
            "event": "Shot",
            "eventCode": "TOR706",
            "eventTypeId": "SHOT",
            "secondaryType": "Wrist Shot"
           },
           "team": {
            "id": 8,
            "link": "/api/v1/teams/8",
            "name": "Montréal Canadiens",
            "triCode": "MTL"
           }
          },
          {
           "about": {
            "dateTime": "2023-10-03T00:29:30Z",
            "eventId": 332,
            "eventIdx": 168,
            "goals": {
             "away": 1,
             "home": 3
            },
            "ordinalNum": "2nd",
            "period": 2,
            "periodTime": "15:36",
            "periodTimeRemaining": "04:24",
            "periodType": "REGULAR"
           },
           "coordinates": {
            "x": -83,
            "y": 1
           },
           "result": {
            "description": "Goalie Stopped",
            "event": "Stoppage",
            "eventCode": "TOR332",
            "eventTypeId": "STOP"
           }
          },
          {
           "about": {
            "dateTime": "2023-10-03T00:30:01Z",
            "eventId": 406,
            "eventIdx": 169,
            "goals": {
             "away": 1,
             "home": 3
            },
            "ordinalNum": "2nd",
            "period": 2,
            "periodTime": "15:36",
            "periodTimeRemaining": "04:24",
            "periodType": "REGULAR"
           },
           "coordinates": {
            "x": -69,
            "y": -22
           },
           "players": [
            {
             "player": {
              "fullName": "Sean Monahan",
              "id": 8477497,
              "link": "/api/v1/people/8477497"
             },
             "playerType": "Winner"
            },
            {
             "player": {
              "fullName": "Auston Matthews",
              "id": 8479318,
              "link": "/api/v1/people/8479318"
             },
             "playerType": "Loser"
            }
           ],
           "result": {
            "description": "Sean Monahan faceoff won against Auston Matthews",
            "event": "Faceoff",
            "eventCode": "TOR406",
            "eventTypeId": "FACEOFF"
           },
           "team": {
            "id": 8,
            "link": "/api/v1/teams/8",
            "name": "Montréal Canadiens",
            "triCode": "MTL"
           }
          },
          {
           "about": {
            "dateTime": "2023-10-03T00:30:06Z",
            "eventId": 710,
            "eventIdx": 170,
            "goals": {
             "away": 1,
             "home": 3
            },
            "ordinalNum": "2nd",
            "period": 2,
            "periodTime": "15:41",
            "periodTimeRemaining": "04:19",
            "periodType": "REGULAR"
           },
           "coordinates": {
            "x": -80,
            "y": 4
           },
           "players": [
            {
             "player": {
              "fullName": "TJ Brodie",
              "id": 8474673,
              "link": "/api/v1/people/8474673"
             },
             "playerType": "Blocker"
            },
            {
             "player": {
              "fullName": "David Savard",
              "id": 8475233,
              "link": "/api/v1/people/8475233"
             },
             "playerType": "Shooter"
            }
           ],
           "result": {
            "description": "David Savard shot blocked shot by TJ Brodie",
            "event": "Blocked Shot",
            "eventCode": "TOR710",
            "eventTypeId": "BLOCKED_SHOT"
           },
           "team": {
            "id": 10,
            "link": "/api/v1/teams/10",
            "name": "Toronto Maple Leafs",
            "triCode": "TOR"
           }
          },
          {
           "about": {
            "dateTime": "2023-10-03T00:30:36Z",
            "eventId": 407,
            "eventIdx": 171,
            "goals": {
             "away": 1,
             "home": 3
            },
            "ordinalNum": "2nd",
            "period": 2,
            "periodTime": "16:11",
            "periodTimeRemaining": "03:49",
            "periodType": "REGULAR"
           },
           "coordinates": {
            "x": 32,
            "y": 15
           },
           "players": [
            {
             "player": {
              "fullName": "Mitchell Marner",
              "id": 8478483,
              "link": "/api/v1/people/8478483"
             },
             "playerType": "PlayerID"
            }
           ],
           "result": {
            "description": "Takeaway by Mitchell Marner",
            "event": "Takeaway",
            "eventCode": "TOR407",
            "eventTypeId": "TAKEAWAY"
           },
           "team": {
            "id": 10,
            "link": "/api/v1/teams/10",
            "name": "Toronto Maple Leafs",
            "triCode": "TOR"
           }
          },
          {
           "about": {
            "dateTime": "2023-10-03T00:31:08Z",
            "eventId": 408,
            "eventIdx": 172,
            "goals": {
             "away": 1,
             "home": 3
            },
            "ordinalNum": "2nd",
            "period": 2,
            "periodTime": "16:43",
            "periodTimeRemaining": "03:17",
            "periodType": "REGULAR"
           },
           "coordinates": {
            "x": -94,
            "y": -22
           },
           "players": [
            {
             "player": {
              "fullName": "Nick Suzuki",
              "id": 8480018,
              "link": "/api/v1/people/8480018"
             },
             "playerType": "PlayerID"
            }
           ],
           "result": {
            "description": "Takeaway by Nick Suzuki",
            "event": "Takeaway",
            "eventCode": "TOR408",
            "eventTypeId": "TAKEAWAY"
           },
           "team": {
            "id": 8,
            "link": "/api/v1/teams/8",
            "name": "Montréal Canadiens",
            "triCode": "MTL"
           }
          },
          {
           "about": {
            "dateTime": "2023-10-03T00:31:09Z",
            "eventId": 719,
            "eventIdx": 173,
            "goals": {
             "away": 1,
             "home": 3
            },
            "ordinalNum": "2nd",
            "period": 2,
            "periodTime": "16:44",
            "periodTimeRemaining": "03:16",
            "periodType": "REGULAR"
           },
           "coordinates": {
            "x": -43,
            "y": -29
           },
           "players": [
            {
             "player": {
              "fullName": "Sam Lafferty",
              "id": 8478043,
              "link": "/api/v1/people/8478043"
             },
             "playerType": "Blocker"
            },
            {
             "player": {
              "fullName": "Jordan Harris",
              "id": 8480887,
              "link": "/api/v1/people/8480887"
             },
             "playerType": "Shooter"
            }
           ],
           "result": {
            "description": "Jordan Harris shot blocked shot by Sam Lafferty",
            "event": "Blocked Shot",
            "eventCode": "TOR719",
            "eventTypeId": "BLOCKED_SHOT"
           },
           "team": {
            "id": 10,
            "link": "/api/v1/teams/10",
            "name": "Toronto Maple Leafs",
            "triCode": "TOR"
           }
          },
          {
           "about": {
            "dateTime": "2023-10-03T00:31:20Z",
            "eventId": 333,
            "eventIdx": 174,
            "goals": {
             "away": 1,
             "home": 3
            },
            "ordinalNum": "2nd",
            "period": 2,
            "periodTime": "16:55",
            "periodTimeRemaining": "03:05",
            "periodType": "REGULAR"
           },
           "coordinates": {
            "x": -41,
            "y": -39
           },
           "players": [
            {
             "player": {
              "fullName": "Timothy Liljegren",
              "id": 8480043,
              "link": "/api/v1/people/8480043"
             },
             "playerType": "Hitter"
            },
            {
             "player": {
              "fullName": "Logan Mailloux",
              "id": 8482733,
              "link": "/api/v1/people/8482733"
             },
             "playerType": "Hittee"
            }
           ],
           "result": {
            "description": "Timothy Liljegren hit Logan Mailloux",
            "event": "Hit",
            "eventCode": "TOR333",
            "eventTypeId": "HIT"
           },
           "team": {
            "id": 10,
            "link": "/api/v1/teams/10",
            "name": "Toronto Maple Leafs",
            "triCode": "TOR"
           }
          },
          {
           "about": {
            "dateTime": "2023-10-03T00:31:33Z",
            "eventId": 720,
            "eventIdx": 175,
            "goals": {
             "away": 1,
             "home": 3
            },
            "ordinalNum": "2nd",
            "period": 2,
            "periodTime": "17:08",
            "periodTimeRemaining": "02:52",
            "periodType": "REGULAR"
           },
           "coordinates": {
            "x": -57,
            "y": 15
           },
           "players": [
            {
             "player": {
              "fullName": "Josh Anderson",
              "id": 8476981,
              "link": "/api/v1/people/8476981"
             },
             "playerType": "Shooter"
            },
            {
             "player": {
              "fullName": "Ilya Samsonov",
              "id": 8478492,
              "link": "/api/v1/people/8478492"
             },
             "playerType": "Unknown"
            }
           ],
           "result": {
            "description": "Josh Anderson Wide Right Ilya Samsonov",
            "event": "Missed Shot",
            "eventCode": "TOR720",
            "eventTypeId": "MISSED_SHOT"
           },
           "team": {
            "id": 8,
            "link": "/api/v1/teams/8",
            "name": "Montréal Canadiens",
            "triCode": "MTL"
           }
          },
          {
           "about": {
            "dateTime": "2023-10-03T00:31:41Z",
            "eventId": 409,
            "eventIdx": 176,
            "goals": {
             "away": 1,
             "home": 3
            },
            "ordinalNum": "2nd",
            "period": 2,
            "periodTime": "17:16",
            "periodTimeRemaining": "02:44",
            "periodType": "REGULAR"
           },
           "coordinates": {
            "x": -51,
            "y": -35
           },
           "players": [
            {
             "player": {
              "fullName": "Cole Caufield",
              "id": 8481540,
              "link": "/api/v1/people/8481540"
             },
             "playerType": "PlayerID"
            }
           ],
           "result": {
            "description": "Giveaway by Cole Caufield",
            "event": "Giveaway",
            "eventCode": "TOR409",
            "eventTypeId": "GIVEAWAY"
           },
           "team": {
            "id": 8,
            "link": "/api/v1/teams/8",
            "name": "Montréal Canadiens",
            "triCode": "MTL"
           }
          },
          {
           "about": {
            "dateTime": "2023-10-03T00:31:52Z",
            "eventId": 334,
            "eventIdx": 177,
            "goals": {
             "away": 1,
             "home": 3
            },
            "ordinalNum": "2nd",
            "period": 2,
            "periodTime": "17:27",
            "periodTimeRemaining": "02:33",
            "periodType": "REGULAR"
           },
           "coordinates": {
            "x": 19,
            "y": -39
           },
           "players": [
            {
             "player": {
              "fullName": "Matthew Knies",
              "id": 8482720,
              "link": "/api/v1/people/8482720"
             },
             "playerType": "Hitter"
            },
            {
             "player": {
              "fullName": "Arber Xhekaj",
              "id": 8482964,
              "link": "/api/v1/people/8482964"
             },
             "playerType": "Hittee"
            }
           ],
           "result": {
            "description": "Matthew Knies hit Arber Xhekaj",
            "event": "Hit",
            "eventCode": "TOR334",
            "eventTypeId": "HIT"
           },
           "team": {
            "id": 10,
            "link": "/api/v1/teams/10",
            "name": "Toronto Maple Leafs",
            "triCode": "TOR"
           }
          },
          {
           "about": {
            "dateTime": "2023-10-03T00:31:59Z",
            "eventId": 727,
            "eventIdx": 178,
            "goals": {
             "away": 1,
             "home": 3
            },
            "ordinalNum": "2nd",
            "period": 2,
            "periodTime": "17:34",
            "periodTimeRemaining": "02:26",
            "periodType": "REGULAR"
           },
           "coordinates": {
            "x": 83,
            "y": 9
           },
           "players": [
            {
             "player": {
              "fullName": "Nicholas Robertson",
              "id": 8481582,
              "link": "/api/v1/people/8481582"
             },
             "playerType": "Shooter"
            },
            {
             "player": {
              "fullName": "Jake Allen",
              "id": 8474596,
              "link": "/api/v1/people/8474596"
             },
             "playerType": "Unknown"
            }
           ],
           "result": {
            "description": "Nicholas Robertson Wide Left Jake Allen",
            "event": "Missed Shot",
            "eventCode": "TOR727",
            "eventTypeId": "MISSED_SHOT"
           },
           "team": {
            "id": 10,
            "link": "/api/v1/teams/10",
            "name": "Toronto Maple Leafs",
            "triCode": "TOR"
           }
          },
          {
           "about": {
            "dateTime": "2023-10-03T00:32:10Z",
            "eventId": 335,
            "eventIdx": 179,
            "goals": {
             "away": 1,
             "home": 3
            },
            "ordinalNum": "2nd",
            "period": 2,
            "periodTime": "17:45",
            "periodTimeRemaining": "02:15",
            "periodType": "REGULAR"
           },
           "coordinates": {
            "x": 91,
            "y": 28
           },
           "players": [
            {
             "player": {
              "fullName": "Jordan Harris",
              "id": 8480887,
              "link": "/api/v1/people/8480887"
             },
             "playerType": "Hitter"
            },
            {
             "player": {
              "fullName": "Nicholas Robertson",
              "id": 8481582,
              "link": "/api/v1/people/8481582"
             },
             "playerType": "Hittee"
            }
           ],
           "result": {
            "description": "Jordan Harris hit Nicholas Robertson",
            "event": "Hit",
            "eventCode": "TOR335",
            "eventTypeId": "HIT"
           },
           "team": {
            "id": 8,
            "link": "/api/v1/teams/8",
            "name": "Montréal Canadiens",
            "triCode": "MTL"
           }
          },
          {
           "about": {
            "dateTime": "2023-10-03T00:32:28Z",
            "eventId": 732,
            "eventIdx": 180,
            "goals": {
             "away": 1,
             "home": 3
            },
            "ordinalNum": "2nd",
            "period": 2,
            "periodTime": "18:03",
            "periodTimeRemaining": "01:57",
            "periodType": "REGULAR"
           },
           "coordinates": {
            "x": 67,
            "y": 3
           },
           "players": [
            {
             "player": {
              "fullName": "Jordan Harris",
              "id": 8480887,
              "link": "/api/v1/people/8480887"
             },
             "playerType": "Blocker"
            },
            {
             "player": {
              "fullName": "TJ Brodie",
              "id": 8474673,
              "link": "/api/v1/people/8474673"
             },
             "playerType": "Shooter"
            }
           ],
           "result": {
            "description": "TJ Brodie shot blocked shot by Jordan Harris",
            "event": "Blocked Shot",
            "eventCode": "TOR732",
            "eventTypeId": "BLOCKED_SHOT"
           },
           "team": {
            "id": 8,
            "link": "/api/v1/teams/8",
            "name": "Montréal Canadiens",
            "triCode": "MTL"
           }
          },
          {
           "about": {
            "dateTime": "2023-10-03T00:32:38Z",
            "eventId": 736,
            "eventIdx": 181,
            "goals": {
             "away": 1,
             "home": 3
            },
            "ordinalNum": "2nd",
            "period": 2,
            "periodTime": "18:13",
            "periodTimeRemaining": "01:47",
            "periodType": "REGULAR"
           },
           "coordinates": {
            "x": 81,
            "y": -13
           },
           "players": [
            {
             "player": {
              "fullName": "Arber Xhekaj",
              "id": 8482964,
              "link": "/api/v1/people/8482964"
             },
             "playerType": "PenaltyOn"
            },
            {
             "player": {
              "fullName": "Nicholas Robertson",
              "id": 8481582,
              "link": "/api/v1/people/8481582"
             },
             "playerType": "DrewBy"
            },
            {
             "player": {
              "fullName": "Brendan Gallagher",
              "id": 8475848,
              "link": "/api/v1/people/8475848"
             },
             "playerType": "ServedBy"
            }
           ],
           "result": {
            "description": "Arber Xhekaj High-sticking - double minor against Nicholas Robertson served by Brendan Gallagher",
            "event": "Penalty",
            "eventCode": "TOR736",
            "eventTypeId": "PENALTY",
            "penaltyMinutes": 4,
            "penaltySeverity": "Minor",
            "secondaryType": "High-sticking - double minor"
           },
           "team": {
            "id": 8,
            "link": "/api/v1/teams/8",
            "name": "Montréal Canadiens",
            "triCode": "MTL"
           }
          },
          {
           "about": {
            "dateTime": "2023-10-03T00:32:38Z",
            "eventId": 740,
            "eventIdx": 182,
            "goals": {
             "away": 1,
             "home": 3
            },
            "ordinalNum": "2nd",
            "period": 2,
            "periodTime": "18:13",
            "periodTimeRemaining": "01:47",
            "periodType": "REGULAR"
           },
           "coordinates": {
            "x": 96,
            "y": -11
           },
           "players": [
            {
             "player": {
              "fullName": "Nicholas Robertson",
              "id": 8481582,
              "link": "/api/v1/people/8481582"
             },
             "playerType": "PenaltyOn"
            },
            {
             "player": {
              "fullName": "Arber Xhekaj",
              "id": 8482964,
              "link": "/api/v1/people/8482964"
             },
             "playerType": "DrewBy"
            }
           ],
           "result": {
            "description": "Nicholas Robertson Slashing against Arber Xhekaj",
            "event": "Penalty",
            "eventCode": "TOR740",
            "eventTypeId": "PENALTY",
            "penaltyMinutes": 2,
            "penaltySeverity": "Minor",
            "secondaryType": "Slashing"
           },
           "team": {
            "id": 10,
            "link": "/api/v1/teams/10",
            "name": "Toronto Maple Leafs",
            "triCode": "TOR"
           }
          },
          {
           "about": {
            "dateTime": "2023-10-03T00:35:26Z",
            "eventId": 410,
            "eventIdx": 183,
            "goals": {
             "away": 1,
             "home": 3
            },
            "ordinalNum": "2nd",
            "period": 2,
            "periodTime": "18:13",
            "periodTimeRemaining": "01:47",
            "periodType": "REGULAR"
           },
           "coordinates": {
            "x": 20,
            "y": -22
           },
           "players": [
            {
             "player": {
              "fullName": "John Tavares",
              "id": 8475166,
              "link": "/api/v1/people/8475166"
             },
             "playerType": "Winner"
            },
            {
             "player": {
              "fullName": "Jake Evans",
              "id": 8478133,
              "link": "/api/v1/people/8478133"
             },
             "playerType": "Loser"
            }
           ],
           "result": {
            "description": "John Tavares faceoff won against Jake Evans",
            "event": "Faceoff",
            "eventCode": "TOR410",
            "eventTypeId": "FACEOFF"
           },
           "team": {
            "id": 10,
            "link": "/api/v1/teams/10",
            "name": "Toronto Maple Leafs",
            "triCode": "TOR"
           }
          },
          {
           "about": {
            "dateTime": "2023-10-03T00:35:39Z",
            "eventId": 743,
            "eventIdx": 184,
            "goals": {
             "away": 1,
             "home": 3
            },
            "ordinalNum": "2nd",
            "period": 2,
            "periodTime": "18:26",
            "periodTimeRemaining": "01:34",
            "periodType": "REGULAR"
           },
           "coordinates": {
            "x": 85,
            "y": 8
           },
           "players": [
            {
             "player": {
              "fullName": "John Tavares",
              "id": 8475166,
              "link": "/api/v1/people/8475166"
             },
             "playerType": "Shooter"
            },
            {
             "player": {
              "fullName": "Jake Allen",
              "id": 8474596,
              "link": "/api/v1/people/8474596"
             },
             "playerType": "Unknown"
            }
           ],
           "result": {
            "description": "John Tavares Wide Left Jake Allen",
            "event": "Missed Shot",
            "eventCode": "TOR743",
            "eventTypeId": "MISSED_SHOT"
           },
           "team": {
            "id": 10,
            "link": "/api/v1/teams/10",
            "name": "Toronto Maple Leafs",
            "triCode": "TOR"
           }
          },
          {
           "about": {
            "dateTime": "2023-10-03T00:36:09Z",
            "eventId": 744,
            "eventIdx": 185,
            "goals": {
             "away": 1,
             "home": 3
            },
            "ordinalNum": "2nd",
            "period": 2,
            "periodTime": "18:56",
            "periodTimeRemaining": "01:04",
            "periodType": "REGULAR"
           },
           "coordinates": {
            "x": 35,
            "y": 1
           },
           "players": [
            {
             "player": {
              "fullName": "Morgan Rielly",
              "id": 8476853,
              "link": "/api/v1/people/8476853"
             },
             "playerType": "Shooter"
            },
            {
             "player": {
              "fullName": "Jake Allen",
              "id": 8474596,
              "link": "/api/v1/people/8474596"
             },
             "playerType": "Goalie"
            }
           ],
           "result": {
            "description": "Morgan Rielly Wrist Shot saved by Jake Allen",
            "event": "Shot",
            "eventCode": "TOR744",
            "eventTypeId": "SHOT",
            "secondaryType": "Wrist Shot"
           },
           "team": {
            "id": 10,
            "link": "/api/v1/teams/10",
            "name": "Toronto Maple Leafs",
            "triCode": "TOR"
           }
          },
          {
           "about": {
            "dateTime": "2023-10-03T00:36:11Z",
            "eventId": 160,
            "eventIdx": 186,
            "goals": {
             "away": 1,
             "home": 3
            },
            "ordinalNum": "2nd",
            "period": 2,
            "periodTime": "18:58",
            "periodTimeRemaining": "01:02",
            "periodType": "REGULAR"
           },
           "coordinates": {
            "x": 81,
            "y": 1
           },
           "players": [
            {
             "player": {
              "fullName": "John Tavares",
              "id": 8475166,
              "link": "/api/v1/people/8475166"
             },
             "playerType": "Shooter"
            },
            {
             "player": {
              "fullName": "Jake Allen",
              "id": 8474596,
              "link": "/api/v1/people/8474596"
             },
             "playerType": "Goalie"
            }
           ],
           "result": {
            "description": "John Tavares Tip-In saved by Jake Allen",
            "event": "Shot",
            "eventCode": "TOR160",
            "eventTypeId": "SHOT",
            "secondaryType": "Tip-In"
           },
           "team": {
            "id": 10,
            "link": "/api/v1/teams/10",
            "name": "Toronto Maple Leafs",
            "triCode": "TOR"
           }
          },
          {
           "about": {
            "dateTime": "2023-10-03T00:36:13Z",
            "eventId": 260,
            "eventIdx": 187,
            "goals": {
             "away": 1,
             "home": 3
            },
            "ordinalNum": "2nd",
            "period": 2,
            "periodTime": "19:00",
            "periodTimeRemaining": "01:00",
            "periodType": "REGULAR"
           },
           "coordinates": {
            "x": 84,
            "y": 2
           },
           "players": [
            {
             "player": {
              "fullName": "Auston Matthews",
              "id": 8479318,
              "link": "/api/v1/people/8479318"
             },
             "playerType": "Shooter"
            },
            {
             "player": {
              "fullName": "Jake Allen",
              "id": 8474596,
              "link": "/api/v1/people/8474596"
             },
             "playerType": "Goalie"
            }
           ],
           "result": {
            "description": "Auston Matthews Snap Shot saved by Jake Allen",
            "event": "Shot",
            "eventCode": "TOR260",
            "eventTypeId": "SHOT",
            "secondaryType": "Snap Shot"
           },
           "team": {
            "id": 10,
            "link": "/api/v1/teams/10",
            "name": "Toronto Maple Leafs",
            "triCode": "TOR"
           }
          },
          {
           "about": {
            "dateTime": "2023-10-03T00:36:15Z",
            "eventId": 337,
            "eventIdx": 188,
            "goals": {
             "away": 1,
             "home": 3
            },
            "ordinalNum": "2nd",
            "period": 2,
            "periodTime": "19:01",
            "periodTimeRemaining": "00:59",
            "periodType": "REGULAR"
           },
           "coordinates": {
            "x": 84,
            "y": 0
           },
           "result": {
            "description": "Goalie Stopped",
            "event": "Stoppage",
            "eventCode": "TOR337",
            "eventTypeId": "STOP"
           }
          },
          {
           "about": {
            "dateTime": "2023-10-03T00:36:52Z",
            "eventId": 411,
            "eventIdx": 189,
            "goals": {
             "away": 1,
             "home": 3
            },
            "ordinalNum": "2nd",
            "period": 2,
            "periodTime": "19:01",
            "periodTimeRemaining": "00:59",
            "periodType": "REGULAR"
           },
           "coordinates": {
            "x": 69,
            "y": 22
           },
           "players": [
            {
             "player": {
              "fullName": "John Tavares",
              "id": 8475166,
              "link": "/api/v1/people/8475166"
             },
             "playerType": "Winner"
            },
            {
             "player": {
              "fullName": "Kirby Dach",
              "id": 8481523,
              "link": "/api/v1/people/8481523"
             },
             "playerType": "Loser"
            }
           ],
           "result": {
            "description": "John Tavares faceoff won against Kirby Dach",
            "event": "Faceoff",
            "eventCode": "TOR411",
            "eventTypeId": "FACEOFF"
           },
           "team": {
            "id": 10,
            "link": "/api/v1/teams/10",
            "name": "Toronto Maple Leafs",
            "triCode": "TOR"
           }
          },
          {
           "about": {
            "dateTime": "2023-10-03T00:37:02Z",
            "eventId": 748,
            "eventIdx": 190,
            "goals": {
             "away": 1,
             "home": 3
            },
            "ordinalNum": "2nd",
            "period": 2,
            "periodTime": "19:12",
            "periodTimeRemaining": "00:48",
            "periodType": "REGULAR"
           },
           "coordinates": {
            "x": 60,
            "y": 24
           },
           "players": [
            {
             "player": {
              "fullName": "William Nylander",
              "id": 8477939,
              "link": "/api/v1/people/8477939"
             },
             "playerType": "Shooter"
            },
            {
             "player": {
              "fullName": "Jake Allen",
              "id": 8474596,
              "link": "/api/v1/people/8474596"
             },
             "playerType": "Unknown"
            }
           ],
           "result": {
            "description": "William Nylander Wide Left Jake Allen",
            "event": "Missed Shot",
            "eventCode": "TOR748",
            "eventTypeId": "MISSED_SHOT"
           },
           "team": {
            "id": 10,
            "link": "/api/v1/teams/10",
            "name": "Toronto Maple Leafs",
            "triCode": "TOR"
           }
          },
          {
           "about": {
            "dateTime": "2023-10-03T00:37:30Z",
            "eventId": 413,
            "eventIdx": 191,
            "goals": {
             "away": 1,
             "home": 3
            },
            "ordinalNum": "2nd",
            "period": 2,
            "periodTime": "19:40",
            "periodTimeRemaining": "00:20",
            "periodType": "REGULAR"
           },
           "coordinates": {
            "x": -50,
            "y": -40
           },
           "players": [
            {
             "player": {
              "fullName": "Auston Matthews",
              "id": 8479318,
              "link": "/api/v1/people/8479318"
             },
             "playerType": "PlayerID"
            }
           ],
           "result": {
            "description": "Giveaway by Auston Matthews",
            "event": "Giveaway",
            "eventCode": "TOR413",
            "eventTypeId": "GIVEAWAY"
           },
           "team": {
            "id": 10,
            "link": "/api/v1/teams/10",
            "name": "Toronto Maple Leafs",
            "triCode": "TOR"
           }
          },
          {
           "about": {
            "dateTime": "2023-10-03T00:37:39Z",
            "eventId": 753,
            "eventIdx": 192,
            "goals": {
             "away": 2,
             "home": 3
            },
            "ordinalNum": "2nd",
            "period": 2,
            "periodTime": "19:48",
            "periodTimeRemaining": "00:12",
            "periodType": "REGULAR"
           },
           "coordinates": {
            "x": -84,
            "y": 10
           },
           "players": [
            {
             "player": {
              "fullName": "Kirby Dach",
              "id": 8481523,
              "link": "/api/v1/people/8481523"
             },
             "playerType": "Scorer",
             "seasonTotal": 1
            },
            {
             "player": {
              "fullName": "Sean Monahan",
              "id": 8477497,
              "link": "/api/v1/people/8477497"
             },
             "playerType": "Assist",
             "seasonTotal": 3
            },
            {
             "player": {
              "fullName": "Johnathan Kovacevic",
              "id": 8480192,
              "link": "/api/v1/people/8480192"
             },
             "playerType": "Assist",
             "seasonTotal": 2
            },
            {
             "player": {
              "fullName": "Ilya Samsonov",
              "id": 8478492,
              "link": "/api/v1/people/8478492"
             },
             "playerType": "Goalie"
            }
           ],
           "result": {
            "description": "Kirby Dach (1) Wrist Shot, assists: Sean Monahan (3), Johnathan Kovacevic (2)",
            "emptyNet": false,
            "event": "Goal",
            "eventCode": "TOR753",
            "eventTypeId": "GOAL",
            "gameWinningGoal": false,
            "secondaryType": "Wrist Shot",
            "strength": {
             "code": "SHG",
             "name": "Short Handed"
            }
           },
           "team": {
            "id": 8,
            "link": "/api/v1/teams/8",
            "name": "Montréal Canadiens",
            "triCode": "MTL"
           }
          },
          {
           "about": {
            "dateTime": "2023-10-03T00:38:20Z",
            "eventId": 412,
            "eventIdx": 193,
            "goals": {
             "away": 2,
             "home": 3
            },
            "ordinalNum": "2nd",
            "period": 2,
            "periodTime": "19:48",
            "periodTimeRemaining": "00:12",
            "periodType": "REGULAR"
           },
           "coordinates": {
            "x": 0,
            "y": 0
           },
           "players": [
            {
             "player": {
              "fullName": "David Kampf",
              "id": 8480144,
              "link": "/api/v1/people/8480144"
             },
             "playerType": "Winner"
            },
            {
             "player": {
              "fullName": "Nick Suzuki",
              "id": 8480018,
              "link": "/api/v1/people/8480018"
             },
             "playerType": "Loser"
            }
           ],
           "result": {
            "description": "David Kampf faceoff won against Nick Suzuki",
            "event": "Faceoff",
            "eventCode": "TOR412",
            "eventTypeId": "FACEOFF"
           },
           "team": {
            "id": 10,
            "link": "/api/v1/teams/10",
            "name": "Toronto Maple Leafs",
            "triCode": "TOR"
           }
          },
          {
           "about": {
            "dateTime": "2023-10-03T00:38:29Z",
            "eventId": 338,
            "eventIdx": 194,
            "goals": {
             "away": 2,
             "home": 3
            },
            "ordinalNum": "2nd",
            "period": 2,
            "periodTime": "19:58",
            "periodTimeRemaining": "00:02",
            "periodType": "REGULAR"
           },
           "coordinates": {
            "x": 97,
            "y": 6
           },
           "players": [
            {
             "player": {
              "fullName": "Johnathan Kovacevic",
              "id": 8480192,
              "link": "/api/v1/people/8480192"
             },
             "playerType": "Hitter"
            },
            {
             "player": {
              "fullName": "Jake McCabe",
              "id": 8476931,
              "link": "/api/v1/people/8476931"
             },
             "playerType": "Hittee"
            }
           ],
           "result": {
            "description": "Johnathan Kovacevic hit Jake McCabe",
            "event": "Hit",
            "eventCode": "TOR338",
            "eventTypeId": "HIT"
           },
           "team": {
            "id": 8,
            "link": "/api/v1/teams/8",
            "name": "Montréal Canadiens",
            "triCode": "MTL"
           }
          },
          {
           "about": {
            "dateTime": "2023-10-03T00:38:31Z",
            "eventId": 339,
            "eventIdx": 195,
            "goals": {
             "away": 2,
             "home": 3
            },
            "ordinalNum": "2nd",
            "period": 2,
            "periodTime": "20:00",
            "periodTimeRemaining": "00:00",
            "periodType": "REGULAR"
           },
           "coordinates": {},
           "result": {
            "description": "End of 2nd Period",
            "event": "Period End",
            "eventCode": "TOR339",
            "eventTypeId": "PERIOD_END"
           }
          },
          {
           "about": {
            "dateTime": "2023-10-03T00:56:15Z",
            "eventId": 342,
            "eventIdx": 196,
            "goals": {
             "away": 2,
             "home": 3
            },
            "ordinalNum": "2nd",
            "period": 2,
            "periodTime": "20:00",
            "periodTimeRemaining": "00:00",
            "periodType": "REGULAR"
           },
           "coordinates": {},
           "result": {
            "description": "Period Official",
            "event": "Period Official",
            "eventCode": "TOR342",
            "eventTypeId": "PERIOD_OFFICIAL"
           }
          },
          {
           "about": {
            "dateTime": "2023-10-03T00:56:19Z",
            "eventId": 343,
            "eventIdx": 197,
            "goals": {
             "away": 2,
             "home": 3
            },
            "ordinalNum": "3rd",
            "period": 3,
            "periodTime": "00:00",
            "periodTimeRemaining": "20:00",
            "periodType": "REGULAR"
           },
           "coordinates": {},
           "result": {
            "description": "Period Ready",
            "event": "Period Ready",
            "eventCode": "TOR343",
            "eventTypeId": "PERIOD_READY"
           }
          },
          {
           "about": {
            "dateTime": "2023-10-03T00:57:52Z",
            "eventId": 414,
            "eventIdx": 199,
            "goals": {
             "away": 2,
             "home": 3
            },
            "ordinalNum": "3rd",
            "period": 3,
            "periodTime": "00:00",
            "periodTimeRemaining": "20:00",
            "periodType": "REGULAR"
           },
           "coordinates": {
            "x": 0,
            "y": 0
           },
           "players": [
            {
             "player": {
              "fullName": "Sean Monahan",
              "id": 8477497,
              "link": "/api/v1/people/8477497"
             },
             "playerType": "Winner"
            },
            {
             "player": {
              "fullName": "Auston Matthews",
              "id": 8479318,
              "link": "/api/v1/people/8479318"
             },
             "playerType": "Loser"
            }
           ],
           "result": {
            "description": "Sean Monahan faceoff won against Auston Matthews",
            "event": "Faceoff",
            "eventCode": "TOR414",
            "eventTypeId": "FACEOFF"
           },
           "team": {
            "id": 8,
            "link": "/api/v1/teams/8",
            "name": "Montréal Canadiens",
            "triCode": "MTL"
           }
          },
          {
           "about": {
            "dateTime": "2023-10-03T00:57:52Z",
            "eventId": 415,
            "eventIdx": 198,
            "goals": {
             "away": 2,
             "home": 3
            },
            "ordinalNum": "3rd",
            "period": 3,
            "periodTime": "00:00",
            "periodTimeRemaining": "20:00",
            "periodType": "REGULAR"
           },
           "coordinates": {},
           "result": {
            "description": "Period Start",
            "event": "Period Start",
            "eventCode": "TOR415",
            "eventTypeId": "PERIOD_START"
           }
          },
          {
           "about": {
            "dateTime": "2023-10-03T00:58:13Z",
            "eventId": 416,
            "eventIdx": 200,
            "goals": {
             "away": 2,
             "home": 3
            },
            "ordinalNum": "3rd",
            "period": 3,
            "periodTime": "00:21",
            "periodTimeRemaining": "19:39",
            "periodType": "REGULAR"
           },
           "coordinates": {
            "x": -70,
            "y": 21
           },
           "players": [
            {
             "player": {
              "fullName": "Jake Allen",
              "id": 8474596,
              "link": "/api/v1/people/8474596"
             },
             "playerType": "PlayerID"
            }
           ],
           "result": {
            "description": "Giveaway by Jake Allen",
            "event": "Giveaway",
            "eventCode": "TOR416",
            "eventTypeId": "GIVEAWAY"
           },
           "team": {
            "id": 8,
            "link": "/api/v1/teams/8",
            "name": "Montréal Canadiens",
            "triCode": "MTL"
           }
          },
          {
           "about": {
            "dateTime": "2023-10-03T00:58:22Z",
            "eventId": 344,
            "eventIdx": 201,
            "goals": {
             "away": 2,
             "home": 3
            },
            "ordinalNum": "3rd",
            "period": 3,
            "periodTime": "00:30",
            "periodTimeRemaining": "19:30",
            "periodType": "REGULAR"
           },
           "coordinates": {
            "x": 84,
            "y": 5
           },
           "result": {
            "description": "Puck Frozen",
            "event": "Stoppage",
            "eventCode": "TOR344",
            "eventTypeId": "STOP"
           }
          },
          {
           "about": {
            "dateTime": "2023-10-03T00:59:01Z",
            "eventId": 424,
            "eventIdx": 202,
            "goals": {
             "away": 2,
             "home": 3
            },
            "ordinalNum": "3rd",
            "period": 3,
            "periodTime": "00:30",
            "periodTimeRemaining": "19:30",
            "periodType": "REGULAR"
           },
           "coordinates": {
            "x": 69,
            "y": 22
           },
           "players": [
            {
             "player": {
              "fullName": "Nick Suzuki",
              "id": 8480018,
              "link": "/api/v1/people/8480018"
             },
             "playerType": "Winner"
            },
            {
             "player": {
              "fullName": "Max Domi",
              "id": 8477503,
              "link": "/api/v1/people/8477503"
             },
             "playerType": "Loser"
            }
           ],
           "result": {
            "description": "Nick Suzuki faceoff won against Max Domi",
            "event": "Faceoff",
            "eventCode": "TOR424",
            "eventTypeId": "FACEOFF"
           },
           "team": {
            "id": 8,
            "link": "/api/v1/teams/8",
            "name": "Montréal Canadiens",
            "triCode": "MTL"
           }
          },
          {
           "about": {
            "dateTime": "2023-10-03T00:59:26Z",
            "eventId": 345,
            "eventIdx": 203,
            "goals": {
             "away": 2,
             "home": 3
            },
            "ordinalNum": "3rd",
            "period": 3,
            "periodTime": "00:55",
            "periodTimeRemaining": "19:05",
            "periodType": "REGULAR"
           },
           "coordinates": {
            "x": 84,
            "y": -34
           },
           "players": [
            {
             "player": {
              "fullName": "Nick Suzuki",
              "id": 8480018,
              "link": "/api/v1/people/8480018"
             },
             "playerType": "Hitter"
            },
            {
             "player": {
              "fullName": "Timothy Liljegren",
              "id": 8480043,
              "link": "/api/v1/people/8480043"
             },
             "playerType": "Hittee"
            }
           ],
           "result": {
            "description": "Nick Suzuki hit Timothy Liljegren",
            "event": "Hit",
            "eventCode": "TOR345",
            "eventTypeId": "HIT"
           },
           "team": {
            "id": 8,
            "link": "/api/v1/teams/8",
            "name": "Montréal Canadiens",
            "triCode": "MTL"
           }
          },
          {
           "about": {
            "dateTime": "2023-10-03T00:59:59Z",
            "eventId": 346,
            "eventIdx": 204,
            "goals": {
             "away": 2,
             "home": 3
            },
            "ordinalNum": "3rd",
            "period": 3,
            "periodTime": "01:28",
            "periodTimeRemaining": "18:32",
            "periodType": "REGULAR"
           },
           "coordinates": {
            "x": 93,
            "y": -16
           },
           "players": [
            {
             "player": {
              "fullName": "Mikko Kokkonen",
              "id": 8481614,
              "link": "/api/v1/people/8481614"
             },
             "playerType": "Hitter"
            },
            {
             "player": {
              "fullName": "Juraj Slafkovsky",
              "id": 8483515,
              "link": "/api/v1/people/8483515"
             },
             "playerType": "Hittee"
            }
           ],
           "result": {
            "description": "Mikko Kokkonen hit Juraj Slafkovsky",
            "event": "Hit",
            "eventCode": "TOR346",
            "eventTypeId": "HIT"
           },
           "team": {
            "id": 10,
            "link": "/api/v1/teams/10",
            "name": "Toronto Maple Leafs",
            "triCode": "TOR"
           }
          },
          {
           "about": {
            "dateTime": "2023-10-03T01:00:14Z",
            "eventId": 348,
            "eventIdx": 205,
            "goals": {
             "away": 2,
             "home": 3
            },
            "ordinalNum": "3rd",
            "period": 3,
            "periodTime": "01:42",
            "periodTimeRemaining": "18:18",
            "periodType": "REGULAR"
           },
           "coordinates": {
            "x": 28,
            "y": 31
           },
           "result": {
            "description": "Offside",
            "event": "Stoppage",
            "eventCode": "TOR348",
            "eventTypeId": "STOP"
           }
          },
          {
           "about": {
            "dateTime": "2023-10-03T01:00:36Z",
            "eventId": 419,
            "eventIdx": 206,
            "goals": {
             "away": 2,
             "home": 3
            },
            "ordinalNum": "3rd",
            "period": 3,
            "periodTime": "01:42",
            "periodTimeRemaining": "18:18",
            "periodType": "REGULAR"
           },
           "coordinates": {
            "x": 20,
            "y": 22
           },
           "players": [
            {
             "player": {
              "fullName": "Jake Evans",
              "id": 8478133,
              "link": "/api/v1/people/8478133"
             },
             "playerType": "Winner"
            },
            {
             "player": {
              "fullName": "David Kampf",
              "id": 8480144,
              "link": "/api/v1/people/8480144"
             },
             "playerType": "Loser"
            }
           ],
           "result": {
            "description": "Jake Evans faceoff won against David Kampf",
            "event": "Faceoff",
            "eventCode": "TOR419",
            "eventTypeId": "FACEOFF"
           },
           "team": {
            "id": 8,
            "link": "/api/v1/teams/8",
            "name": "Montréal Canadiens",
            "triCode": "MTL"
           }
          },
          {
           "about": {
            "dateTime": "2023-10-03T01:00:43Z",
            "eventId": 777,
            "eventIdx": 207,
            "goals": {
             "away": 2,
             "home": 3
            },
            "ordinalNum": "3rd",
            "period": 3,
            "periodTime": "01:49",
            "periodTimeRemaining": "18:11",
            "periodType": "REGULAR"
           },
           "coordinates": {
            "x": 71,
            "y": -36
           },
           "players": [
            {
             "player": {
              "fullName": "Jesse Ylönen",
              "id": 8481058,
              "link": "/api/v1/people/8481058"
             },
             "playerType": "Shooter"
            },
            {
             "player": {
              "fullName": "Ilya Samsonov",
              "id": 8478492,
              "link": "/api/v1/people/8478492"
             },
             "playerType": "Goalie"
            }
           ],
           "result": {
            "description": "Jesse Ylönen Wrist Shot saved by Ilya Samsonov",
            "event": "Shot",
            "eventCode": "TOR777",
            "eventTypeId": "SHOT",
            "secondaryType": "Wrist Shot"
           },
           "team": {
            "id": 8,
            "link": "/api/v1/teams/8",
            "name": "Montréal Canadiens",
            "triCode": "MTL"
           }
          },
          {
           "about": {
            "dateTime": "2023-10-03T01:00:51Z",
            "eventId": 349,
            "eventIdx": 208,
            "goals": {
             "away": 2,
             "home": 3
            },
            "ordinalNum": "3rd",
            "period": 3,
            "periodTime": "01:57",
            "periodTimeRemaining": "18:03",
            "periodType": "REGULAR"
           },
           "coordinates": {
            "x": 43,
            "y": 40
           },
           "players": [
            {
             "player": {
              "fullName": "TJ Brodie",
              "id": 8474673,
              "link": "/api/v1/people/8474673"
             },
             "playerType": "Hitter"
            },
            {
             "player": {
              "fullName": "Jordan Harris",
              "id": 8480887,
              "link": "/api/v1/people/8480887"
             },
             "playerType": "Hittee"
            }
           ],
           "result": {
            "description": "TJ Brodie hit Jordan Harris",
            "event": "Hit",
            "eventCode": "TOR349",
            "eventTypeId": "HIT"
           },
           "team": {
            "id": 10,
            "link": "/api/v1/teams/10",
            "name": "Toronto Maple Leafs",
            "triCode": "TOR"
           }
          },
          {
           "about": {
            "dateTime": "2023-10-03T01:01:09Z",
            "eventId": 350,
            "eventIdx": 209,
            "goals": {
             "away": 2,
             "home": 3
            },
            "ordinalNum": "3rd",
            "period": 3,
            "periodTime": "02:15",
            "periodTimeRemaining": "17:45",
            "periodType": "REGULAR"
           },
           "coordinates": {
            "x": 99,
            "y": 16
           },
           "players": [
            {
             "player": {
              "fullName": "David Kampf",
              "id": 8480144,
              "link": "/api/v1/people/8480144"
             },
             "playerType": "Hitter"
            },
            {
             "player": {
              "fullName": "Jake Evans",
              "id": 8478133,
              "link": "/api/v1/people/8478133"
             },
             "playerType": "Hittee"
            }
           ],
           "result": {
            "description": "David Kampf hit Jake Evans",
            "event": "Hit",
            "eventCode": "TOR350",
            "eventTypeId": "HIT"
           },
           "team": {
            "id": 10,
            "link": "/api/v1/teams/10",
            "name": "Toronto Maple Leafs",
            "triCode": "TOR"
           }
          },
          {
           "about": {
            "dateTime": "2023-10-03T01:02:20Z",
            "eventId": 420,
            "eventIdx": 210,
            "goals": {
             "away": 2,
             "home": 3
            },
            "ordinalNum": "3rd",
            "period": 3,
            "periodTime": "03:26",
            "periodTimeRemaining": "16:34",
            "periodType": "REGULAR"
           },
           "coordinates": {
            "x": -50,
            "y": -37
           },
           "players": [
            {
             "player": {
              "fullName": "Mitchell Marner",
              "id": 8478483,
              "link": "/api/v1/people/8478483"
             },
             "playerType": "PlayerID"
            }
           ],
           "result": {
            "description": "Giveaway by Mitchell Marner",
            "event": "Giveaway",
            "eventCode": "TOR420",
            "eventTypeId": "GIVEAWAY"
           },
           "team": {
            "id": 10,
            "link": "/api/v1/teams/10",
            "name": "Toronto Maple Leafs",
            "triCode": "TOR"
           }
          },
          {
           "about": {
            "dateTime": "2023-10-03T01:02:26Z",
            "eventId": 651,
            "eventIdx": 211,
            "goals": {
             "away": 2,
             "home": 3
            },
            "ordinalNum": "3rd",
            "period": 3,
            "periodTime": "03:32",
            "periodTimeRemaining": "16:28",
            "periodType": "REGULAR"
           },
           "coordinates": {
            "x": -90,
            "y": -31
           },
           "players": [
            {
             "player": {
              "fullName": "Johnathan Kovacevic",
              "id": 8480192,
              "link": "/api/v1/people/8480192"
             },
             "playerType": "Hitter"
            },
            {
             "player": {
              "fullName": "Tyler Bertuzzi",
              "id": 8477479,
              "link": "/api/v1/people/8477479"
             },
             "playerType": "Hittee"
            }
           ],
           "result": {
            "description": "Johnathan Kovacevic hit Tyler Bertuzzi",
            "event": "Hit",
            "eventCode": "TOR651",
            "eventTypeId": "HIT"
           },
           "team": {
            "id": 8,
            "link": "/api/v1/teams/8",
            "name": "Montréal Canadiens",
            "triCode": "MTL"
           }
          },
          {
           "about": {
            "dateTime": "2023-10-03T01:02:29Z",
            "eventId": 794,
            "eventIdx": 212,
            "goals": {
             "away": 2,
             "home": 3
            },
            "ordinalNum": "3rd",
            "period": 3,
            "periodTime": "03:35",
            "periodTimeRemaining": "16:25",
            "periodType": "REGULAR"
           },
           "coordinates": {
            "x": -52,
            "y": 38
           },
           "players": [
            {
             "player": {
              "fullName": "Sean Monahan",
              "id": 8477497,
              "link": "/api/v1/people/8477497"
             },
             "playerType": "PenaltyOn"
            },
            {
             "player": {
              "fullName": "William Nylander",
              "id": 8477939,
              "link": "/api/v1/people/8477939"
             },
             "playerType": "DrewBy"
            }
           ],
           "result": {
            "description": "Sean Monahan Slashing against William Nylander",
            "event": "Penalty",
            "eventCode": "TOR794",
            "eventTypeId": "PENALTY",
            "penaltyMinutes": 2,
            "penaltySeverity": "Minor",
            "secondaryType": "Slashing"
           },
           "team": {
            "id": 8,
            "link": "/api/v1/teams/8",
            "name": "Montréal Canadiens",
            "triCode": "MTL"
           }
          },
          {
           "about": {
            "dateTime": "2023-10-03T01:03:09Z",
            "eventId": 421,
            "eventIdx": 213,
            "goals": {
             "away": 2,
             "home": 3
            },
            "ordinalNum": "3rd",
            "period": 3,
            "periodTime": "03:35",
            "periodTimeRemaining": "16:25",
            "periodType": "REGULAR"
           },
           "coordinates": {
            "x": -69,
            "y": -22
           },
           "players": [
            {
             "player": {
              "fullName": "Jake Evans",
              "id": 8478133,
              "link": "/api/v1/people/8478133"
             },
             "playerType": "Winner"
            },
            {
             "player": {
              "fullName": "Max Domi",
              "id": 8477503,
              "link": "/api/v1/people/8477503"
             },
             "playerType": "Loser"
            }
           ],
           "result": {
            "description": "Jake Evans faceoff won against Max Domi",
            "event": "Faceoff",
            "eventCode": "TOR421",
            "eventTypeId": "FACEOFF"
           },
           "team": {
            "id": 8,
            "link": "/api/v1/teams/8",
            "name": "Montréal Canadiens",
            "triCode": "MTL"
           }
          },
          {
           "about": {
            "dateTime": "2023-10-03T01:03:37Z",
            "eventId": 162,
            "eventIdx": 214,
            "goals": {
             "away": 2,
             "home": 3
            },
            "ordinalNum": "3rd",
            "period": 3,
            "periodTime": "04:03",
            "periodTimeRemaining": "15:57",
            "periodType": "REGULAR"
           },
           "coordinates": {
            "x": 64,
            "y": 3
           },
           "players": [
            {
             "player": {
              "fullName": "Nicholas Robertson",
              "id": 8481582,
              "link": "/api/v1/people/8481582"
             },
             "playerType": "Blocker"
            },
            {
             "player": {
              "fullName": "Jordan Harris",
              "id": 8480887,
              "link": "/api/v1/people/8480887"
             },
             "playerType": "Shooter"
            }
           ],
           "result": {
            "description": "Jordan Harris shot blocked shot by Nicholas Robertson",
            "event": "Blocked Shot",
            "eventCode": "TOR162",
            "eventTypeId": "BLOCKED_SHOT"
           },
           "team": {
            "id": 10,
            "link": "/api/v1/teams/10",
            "name": "Toronto Maple Leafs",
            "triCode": "TOR"
           }
          },
          {
           "about": {
            "dateTime": "2023-10-03T01:04:23Z",
            "eventId": 806,
            "eventIdx": 215,
            "goals": {
             "away": 2,
             "home": 3
            },
            "ordinalNum": "3rd",
            "period": 3,
            "periodTime": "04:49",
            "periodTimeRemaining": "15:11",
            "periodType": "REGULAR"
           },
           "coordinates": {
            "x": -29,
            "y": -6
           },
           "players": [
            {
             "player": {
              "fullName": "Auston Matthews",
              "id": 8479318,
              "link": "/api/v1/people/8479318"
             },
             "playerType": "Shooter"
            },
            {
             "player": {
              "fullName": "Jake Allen",
              "id": 8474596,
              "link": "/api/v1/people/8474596"
             },
             "playerType": "Goalie"
            }
           ],
           "result": {
            "description": "Auston Matthews Poke saved by Jake Allen",
            "event": "Shot",
            "eventCode": "TOR806",
            "eventTypeId": "SHOT",
            "secondaryType": "Poke"
           },
           "team": {
            "id": 10,
            "link": "/api/v1/teams/10",
            "name": "Toronto Maple Leafs",
            "triCode": "TOR"
           }
          },
          {
           "about": {
            "dateTime": "2023-10-03T01:05:22Z",
            "eventId": 653,
            "eventIdx": 216,
            "goals": {
             "away": 2,
             "home": 3
            },
            "ordinalNum": "3rd",
            "period": 3,
            "periodTime": "05:48",
            "periodTimeRemaining": "14:12",
            "periodType": "REGULAR"
           },
           "coordinates": {
            "x": -75,
            "y": -38
           },
           "players": [
            {
             "player": {
              "fullName": "Logan Mailloux",
              "id": 8482733,
              "link": "/api/v1/people/8482733"
             },
             "playerType": "Hitter"
            },
            {
             "player": {
              "fullName": "David Kampf",
              "id": 8480144,
              "link": "/api/v1/people/8480144"
             },
             "playerType": "Hittee"
            }
           ],
           "result": {
            "description": "Logan Mailloux hit David Kampf",
            "event": "Hit",
            "eventCode": "TOR653",
            "eventTypeId": "HIT"
           },
           "team": {
            "id": 8,
            "link": "/api/v1/teams/8",
            "name": "Montréal Canadiens",
            "triCode": "MTL"
           }
          },
          {
           "about": {
            "dateTime": "2023-10-03T01:05:29Z",
            "eventId": 654,
            "eventIdx": 217,
            "goals": {
             "away": 2,
             "home": 3
            },
            "ordinalNum": "3rd",
            "period": 3,
            "periodTime": "05:55",
            "periodTimeRemaining": "14:05",
            "periodType": "REGULAR"
           },
           "coordinates": {
            "x": 1,
            "y": 37
           },
           "players": [
            {
             "player": {
              "fullName": "TJ Brodie",
              "id": 8474673,
              "link": "/api/v1/people/8474673"
             },
             "playerType": "Hitter"
            },
            {
             "player": {
              "fullName": "Juraj Slafkovsky",
              "id": 8483515,
              "link": "/api/v1/people/8483515"
             },
             "playerType": "Hittee"
            }
           ],
           "result": {
            "description": "TJ Brodie hit Juraj Slafkovsky",
            "event": "Hit",
            "eventCode": "TOR654",
            "eventTypeId": "HIT"
           },
           "team": {
            "id": 10,
            "link": "/api/v1/teams/10",
            "name": "Toronto Maple Leafs",
            "triCode": "TOR"
           }
          },
          {
           "about": {
            "dateTime": "2023-10-03T01:06:05Z",
            "eventId": 656,
            "eventIdx": 218,
            "goals": {
             "away": 2,
             "home": 3
            },
            "ordinalNum": "3rd",
            "period": 3,
            "periodTime": "06:31",
            "periodTimeRemaining": "13:29",
            "periodType": "REGULAR"
           },
           "coordinates": {
            "x": -81,
            "y": -32
           },
           "players": [
            {
             "player": {
              "fullName": "David Kampf",
              "id": 8480144,
              "link": "/api/v1/people/8480144"
             },
             "playerType": "Hitter"
            },
            {
             "player": {
              "fullName": "Juraj Slafkovsky",
              "id": 8483515,
              "link": "/api/v1/people/8483515"
             },
             "playerType": "Hittee"
            }
           ],
           "result": {
            "description": "David Kampf hit Juraj Slafkovsky",
            "event": "Hit",
            "eventCode": "TOR656",
            "eventTypeId": "HIT"
           },
           "team": {
            "id": 10,
            "link": "/api/v1/teams/10",
            "name": "Toronto Maple Leafs",
            "triCode": "TOR"
           }
          },
          {
           "about": {
            "dateTime": "2023-10-03T01:06:20Z",
            "eventId": 659,
            "eventIdx": 220,
            "goals": {
             "away": 2,
             "home": 3
            },
            "ordinalNum": "3rd",
            "period": 3,
            "periodTime": "06:46",
            "periodTimeRemaining": "13:14",
            "periodType": "REGULAR"
           },
           "coordinates": {
            "x": 97,
            "y": -6
           },
           "result": {
            "description": "TV timeout",
            "event": "Stoppage",
            "eventCode": "TOR659",
            "eventTypeId": "STOP"
           }
          },
          {
           "about": {
            "dateTime": "2023-10-03T01:06:20Z",
            "eventId": 831,
            "eventIdx": 219,
            "goals": {
             "away": 2,
             "home": 3
            },
            "ordinalNum": "3rd",
            "period": 3,
            "periodTime": "06:46",
            "periodTimeRemaining": "13:14",
            "periodType": "REGULAR"
           },
           "coordinates": {
            "x": 87,
            "y": -6
           },
           "players": [
            {
             "player": {
              "fullName": "William Nylander",
              "id": 8477939,
              "link": "/api/v1/people/8477939"
             },
             "playerType": "PenaltyOn"
            }
           ],
           "result": {
            "description": "William Nylander Delaying Game - Puck over glass",
            "event": "Penalty",
            "eventCode": "TOR831",
            "eventTypeId": "PENALTY",
            "penaltyMinutes": 2,
            "penaltySeverity": "Minor",
            "secondaryType": "Delaying Game - Puck over glass"
           },
           "team": {
            "id": 10,
            "link": "/api/v1/teams/10",
            "name": "Toronto Maple Leafs",
            "triCode": "TOR"
           }
          },
          {
           "about": {
            "dateTime": "2023-10-03T01:08:44Z",
            "eventId": 435,
            "eventIdx": 221,
            "goals": {
             "away": 2,
             "home": 3
            },
            "ordinalNum": "3rd",
            "period": 3,
            "periodTime": "06:46",
            "periodTimeRemaining": "13:14",
            "periodType": "REGULAR"
           },
           "coordinates": {
            "x": 69,
            "y": 22
           },
           "players": [
            {
             "player": {
              "fullName": "Sean Monahan",
              "id": 8477497,
              "link": "/api/v1/people/8477497"
             },
             "playerType": "Winner"
            },
            {
             "player": {
              "fullName": "Sam Lafferty",
              "id": 8478043,
              "link": "/api/v1/people/8478043"
             },
             "playerType": "Loser"
            }
           ],
           "result": {
            "description": "Sean Monahan faceoff won against Sam Lafferty",
            "event": "Faceoff",
            "eventCode": "TOR435",
            "eventTypeId": "FACEOFF"
           },
           "team": {
            "id": 8,
            "link": "/api/v1/teams/8",
            "name": "Montréal Canadiens",
            "triCode": "MTL"
           }
          },
          {
           "about": {
            "dateTime": "2023-10-03T01:09:20Z",
            "eventId": 163,
            "eventIdx": 222,
            "goals": {
             "away": 2,
             "home": 3
            },
            "ordinalNum": "3rd",
            "period": 3,
            "periodTime": "07:22",
            "periodTimeRemaining": "12:38",
            "periodType": "REGULAR"
           },
           "coordinates": {
            "x": 95,
            "y": -22
           },
           "players": [
            {
             "player": {
              "fullName": "David Kampf",
              "id": 8480144,
              "link": "/api/v1/people/8480144"
             },
             "playerType": "PlayerID"
            }
           ],
           "result": {
            "description": "Takeaway by David Kampf",
            "event": "Takeaway",
            "eventCode": "TOR163",
            "eventTypeId": "TAKEAWAY"
           },
           "team": {
            "id": 10,
            "link": "/api/v1/teams/10",
            "name": "Toronto Maple Leafs",
            "triCode": "TOR"
           }
          },
          {
           "about": {
            "dateTime": "2023-10-03T01:09:42Z",
            "eventId": 164,
            "eventIdx": 223,
            "goals": {
             "away": 2,
             "home": 3
            },
            "ordinalNum": "3rd",
            "period": 3,
            "periodTime": "07:44",
            "periodTimeRemaining": "12:16",
            "periodType": "REGULAR"
           },
           "coordinates": {
            "x": -51,
            "y": -2
           },
           "players": [
            {
             "player": {
              "fullName": "Auston Matthews",
              "id": 8479318,
              "link": "/api/v1/people/8479318"
             },
             "playerType": "Shooter"
            },
            {
             "player": {
              "fullName": "Jake Allen",
              "id": 8474596,
              "link": "/api/v1/people/8474596"
             },
             "playerType": "Unknown"
            }
           ],
           "result": {
            "description": "Auston Matthews Hit Crossbar Jake Allen",
            "event": "Missed Shot",
            "eventCode": "TOR164",
            "eventTypeId": "MISSED_SHOT"
           },
           "team": {
            "id": 10,
            "link": "/api/v1/teams/10",
            "name": "Toronto Maple Leafs",
            "triCode": "TOR"
           }
          },
          {
           "about": {
            "dateTime": "2023-10-03T01:09:45Z",
            "eventId": 660,
            "eventIdx": 224,
            "goals": {
             "away": 2,
             "home": 3
            },
            "ordinalNum": "3rd",
            "period": 3,
            "periodTime": "07:46",
            "periodTimeRemaining": "12:14",
            "periodType": "REGULAR"
           },
           "coordinates": {
            "x": -98,
            "y": 7
           },
           "result": {
            "description": "Puck in Netting",
            "event": "Stoppage",
            "eventCode": "TOR660",
            "eventTypeId": "STOP"
           }
          },
          {
           "about": {
            "dateTime": "2023-10-03T01:10:09Z",
            "eventId": 445,
            "eventIdx": 225,
            "goals": {
             "away": 2,
             "home": 3
            },
            "ordinalNum": "3rd",
            "period": 3,
            "periodTime": "07:46",
            "periodTimeRemaining": "12:14",
            "periodType": "REGULAR"
           },
           "coordinates": {
            "x": -69,
            "y": 22
           },
           "players": [
            {
             "player": {
              "fullName": "Jake Evans",
              "id": 8478133,
              "link": "/api/v1/people/8478133"
             },
             "playerType": "Winner"
            },
            {
             "player": {
              "fullName": "Sam Lafferty",
              "id": 8478043,
              "link": "/api/v1/people/8478043"
             },
             "playerType": "Loser"
            }
           ],
           "result": {
            "description": "Jake Evans faceoff won against Sam Lafferty",
            "event": "Faceoff",
            "eventCode": "TOR445",
            "eventTypeId": "FACEOFF"
           },
           "team": {
            "id": 8,
            "link": "/api/v1/teams/8",
            "name": "Montréal Canadiens",
            "triCode": "MTL"
           }
          },
          {
           "about": {
            "dateTime": "2023-10-03T01:10:58Z",
            "eventId": 845,
            "eventIdx": 226,
            "goals": {
             "away": 2,
             "home": 3
            },
            "ordinalNum": "3rd",
            "period": 3,
            "periodTime": "08:35",
            "periodTimeRemaining": "11:25",
            "periodType": "REGULAR"
           },
           "coordinates": {
            "x": 37,
            "y": 9
           },
           "players": [
            {
             "player": {
              "fullName": "Logan Mailloux",
              "id": 8482733,
              "link": "/api/v1/people/8482733"
             },
             "playerType": "Shooter"
            },
            {
             "player": {
              "fullName": "Ilya Samsonov",
              "id": 8478492,
              "link": "/api/v1/people/8478492"
             },
             "playerType": "Goalie"
            }
           ],
           "result": {
            "description": "Logan Mailloux Wrist Shot saved by Ilya Samsonov",
            "event": "Shot",
            "eventCode": "TOR845",
            "eventTypeId": "SHOT",
            "secondaryType": "Wrist Shot"
           },
           "team": {
            "id": 8,
            "link": "/api/v1/teams/8",
            "name": "Montréal Canadiens",
            "triCode": "MTL"
           }
          },
          {
           "about": {
            "dateTime": "2023-10-03T01:11:01Z",
            "eventId": 661,
            "eventIdx": 227,
            "goals": {
             "away": 2,
             "home": 3
            },
            "ordinalNum": "3rd",
            "period": 3,
            "periodTime": "08:38",
            "periodTimeRemaining": "11:22",
            "periodType": "REGULAR"
           },
           "coordinates": {
            "x": 98,
            "y": 10
           },
           "result": {
            "description": "Puck in Netting",
            "event": "Stoppage",
            "eventCode": "TOR661",
            "eventTypeId": "STOP"
           }
          },
          {
           "about": {
            "dateTime": "2023-10-03T01:11:42Z",
            "eventId": 427,
            "eventIdx": 228,
            "goals": {
             "away": 2,
             "home": 3
            },
            "ordinalNum": "3rd",
            "period": 3,
            "periodTime": "08:38",
            "periodTimeRemaining": "11:22",
            "periodType": "REGULAR"
           },
           "coordinates": {
            "x": 69,
            "y": 22
           },
           "players": [
            {
             "player": {
              "fullName": "David Kampf",
              "id": 8480144,
              "link": "/api/v1/people/8480144"
             },
             "playerType": "Winner"
            },
            {
             "player": {
              "fullName": "Nick Suzuki",
              "id": 8480018,
              "link": "/api/v1/people/8480018"
             },
             "playerType": "Loser"
            }
           ],
           "result": {
            "description": "David Kampf faceoff won against Nick Suzuki",
            "event": "Faceoff",
            "eventCode": "TOR427",
            "eventTypeId": "FACEOFF"
           },
           "team": {
            "id": 10,
            "link": "/api/v1/teams/10",
            "name": "Toronto Maple Leafs",
            "triCode": "TOR"
           }
          },
          {
           "about": {
            "dateTime": "2023-10-03T01:11:48Z",
            "eventId": 850,
            "eventIdx": 229,
            "goals": {
             "away": 2,
             "home": 3
            },
            "ordinalNum": "3rd",
            "period": 3,
            "periodTime": "08:44",
            "periodTimeRemaining": "11:16",
            "periodType": "REGULAR"
           },
           "coordinates": {
            "x": 68,
            "y": 17
           },
           "players": [
            {
             "player": {
              "fullName": "Kirby Dach",
              "id": 8481523,
              "link": "/api/v1/people/8481523"
             },
             "playerType": "Shooter"
            },
            {
             "player": {
              "fullName": "Ilya Samsonov",
              "id": 8478492,
              "link": "/api/v1/people/8478492"
             },
             "playerType": "Goalie"
            }
           ],
           "result": {
            "description": "Kirby Dach Wrist Shot saved by Ilya Samsonov",
            "event": "Shot",
            "eventCode": "TOR850",
            "eventTypeId": "SHOT",
            "secondaryType": "Wrist Shot"
           },
           "team": {
            "id": 8,
            "link": "/api/v1/teams/8",
            "name": "Montréal Canadiens",
            "triCode": "MTL"
           }
          },
          {
           "about": {
            "dateTime": "2023-10-03T01:11:54Z",
            "eventId": 662,
            "eventIdx": 230,
            "goals": {
             "away": 2,
             "home": 3
            },
            "ordinalNum": "3rd",
            "period": 3,
            "periodTime": "08:50",
            "periodTimeRemaining": "11:10",
            "periodType": "REGULAR"
           },
           "coordinates": {
            "x": 95,
            "y": 15
           },
           "players": [
            {
             "player": {
              "fullName": "Cole Caufield",
              "id": 8481540,
              "link": "/api/v1/people/8481540"
             },
             "playerType": "Hitter"
            },
            {
             "player": {
              "fullName": "TJ Brodie",
              "id": 8474673,
              "link": "/api/v1/people/8474673"
             },
             "playerType": "Hittee"
            }
           ],
           "result": {
            "description": "Cole Caufield hit TJ Brodie",
            "event": "Hit",
            "eventCode": "TOR662",
            "eventTypeId": "HIT"
           },
           "team": {
            "id": 8,
            "link": "/api/v1/teams/8",
            "name": "Montréal Canadiens",
            "triCode": "MTL"
           }
          },
          {
           "about": {
            "dateTime": "2023-10-03T01:12:36Z",
            "eventId": 663,
            "eventIdx": 231,
            "goals": {
             "away": 2,
             "home": 3
            },
            "ordinalNum": "3rd",
            "period": 3,
            "periodTime": "09:32",
            "periodTimeRemaining": "10:28",
            "periodType": "REGULAR"
           },
           "coordinates": {
            "x": -80,
            "y": -37
           },
           "players": [
            {
             "player": {
              "fullName": "Kirby Dach",
              "id": 8481523,
              "link": "/api/v1/people/8481523"
             },
             "playerType": "Hitter"
            },
            {
             "player": {
              "fullName": "Nicholas Robertson",
              "id": 8481582,
              "link": "/api/v1/people/8481582"
             },
             "playerType": "Hittee"
            }
           ],
           "result": {
            "description": "Kirby Dach hit Nicholas Robertson",
            "event": "Hit",
            "eventCode": "TOR663",
            "eventTypeId": "HIT"
           },
           "team": {
            "id": 8,
            "link": "/api/v1/teams/8",
            "name": "Montréal Canadiens",
            "triCode": "MTL"
           }
          },
          {
           "about": {
            "dateTime": "2023-10-03T01:13:07Z",
            "eventId": 428,
            "eventIdx": 232,
            "goals": {
             "away": 2,
             "home": 3
            },
            "ordinalNum": "3rd",
            "period": 3,
            "periodTime": "10:03",
            "periodTimeRemaining": "09:57",
            "periodType": "REGULAR"
           },
           "coordinates": {
            "x": 93,
            "y": -19
           },
           "players": [
            {
             "player": {
              "fullName": "Simon Benoit",
              "id": 8481122,
              "link": "/api/v1/people/8481122"
             },
             "playerType": "PlayerID"
            }
           ],
           "result": {
            "description": "Giveaway by Simon Benoit",
            "event": "Giveaway",
            "eventCode": "TOR428",
            "eventTypeId": "GIVEAWAY"
           },
           "team": {
            "id": 10,
            "link": "/api/v1/teams/10",
            "name": "Toronto Maple Leafs",
            "triCode": "TOR"
           }
          },
          {
           "about": {
            "dateTime": "2023-10-03T01:13:08Z",
            "eventId": 910,
            "eventIdx": 233,
            "goals": {
             "away": 2,
             "home": 3
            },
            "ordinalNum": "3rd",
            "period": 3,
            "periodTime": "10:04",
            "periodTimeRemaining": "09:56",
            "periodType": "REGULAR"
           },
           "coordinates": {
            "x": 79,
            "y": 1
           },
           "players": [
            {
             "player": {
              "fullName": "Mikko Kokkonen",
              "id": 8481614,
              "link": "/api/v1/people/8481614"
             },
             "playerType": "Blocker"
            },
            {
             "player": {
              "fullName": "Jake Evans",
              "id": 8478133,
              "link": "/api/v1/people/8478133"
             },
             "playerType": "Shooter"
            }
           ],
           "result": {
            "description": "Jake Evans shot blocked shot by Mikko Kokkonen",
            "event": "Blocked Shot",
            "eventCode": "TOR910",
            "eventTypeId": "BLOCKED_SHOT"
           },
           "team": {
            "id": 10,
            "link": "/api/v1/teams/10",
            "name": "Toronto Maple Leafs",
            "triCode": "TOR"
           }
          },
          {
           "about": {
            "dateTime": "2023-10-03T01:13:13Z",
            "eventId": 911,
            "eventIdx": 234,
            "goals": {
             "away": 2,
             "home": 3
            },
            "ordinalNum": "3rd",
            "period": 3,
            "periodTime": "10:09",
            "periodTimeRemaining": "09:51",
            "periodType": "REGULAR"
           },
           "coordinates": {
            "x": 65,
            "y": -31
           },
           "players": [
            {
             "player": {
              "fullName": "Emil Heineman",
              "id": 8482476,
              "link": "/api/v1/people/8482476"
             },
             "playerType": "Shooter"
            },
            {
             "player": {
              "fullName": "Ilya Samsonov",
              "id": 8478492,
              "link": "/api/v1/people/8478492"
             },
             "playerType": "Unknown"
            }
           ],
           "result": {
            "description": "Emil Heineman Hit Right Post Ilya Samsonov",
            "event": "Missed Shot",
            "eventCode": "TOR911",
            "eventTypeId": "MISSED_SHOT"
           },
           "team": {
            "id": 8,
            "link": "/api/v1/teams/8",
            "name": "Montréal Canadiens",
            "triCode": "MTL"
           }
          },
          {
           "about": {
            "dateTime": "2023-10-03T01:13:25Z",
            "eventId": 664,
            "eventIdx": 235,
            "goals": {
             "away": 2,
             "home": 3
            },
            "ordinalNum": "3rd",
            "period": 3,
            "periodTime": "10:21",
            "periodTimeRemaining": "09:39",
            "periodType": "REGULAR"
           },
           "coordinates": {
            "x": 98,
            "y": 6
           },
           "players": [
            {
             "player": {
              "fullName": "Mitchell Marner",
              "id": 8478483,
              "link": "/api/v1/people/8478483"
             },
             "playerType": "Hitter"
            },
            {
             "player": {
              "fullName": "Emil Heineman",
              "id": 8482476,
              "link": "/api/v1/people/8482476"
             },
             "playerType": "Hittee"
            }
           ],
           "result": {
            "description": "Mitchell Marner hit Emil Heineman",
            "event": "Hit",
            "eventCode": "TOR664",
            "eventTypeId": "HIT"
           },
           "team": {
            "id": 10,
            "link": "/api/v1/teams/10",
            "name": "Toronto Maple Leafs",
            "triCode": "TOR"
           }
          },
          {
           "about": {
            "dateTime": "2023-10-03T01:13:29Z",
            "eventId": 912,
            "eventIdx": 236,
            "goals": {
             "away": 2,
             "home": 3
            },
            "ordinalNum": "3rd",
            "period": 3,
            "periodTime": "10:25",
            "periodTimeRemaining": "09:35",
            "periodType": "REGULAR"
           },
           "coordinates": {
            "x": 33,
            "y": 34
           },
           "players": [
            {
             "player": {
              "fullName": "Mattias Norlinder",
              "id": 8481555,
              "link": "/api/v1/people/8481555"
             },
             "playerType": "Shooter"
            },
            {
             "player": {
              "fullName": "Ilya Samsonov",
              "id": 8478492,
              "link": "/api/v1/people/8478492"
             },
             "playerType": "Unknown"
            }
           ],
           "result": {
            "description": "Mattias Norlinder Wide Left Ilya Samsonov",
            "event": "Missed Shot",
            "eventCode": "TOR912",
            "eventTypeId": "MISSED_SHOT"
           },
           "team": {
            "id": 8,
            "link": "/api/v1/teams/8",
            "name": "Montréal Canadiens",
            "triCode": "MTL"
           }
          },
          {
           "about": {
            "dateTime": "2023-10-03T01:13:50Z",
            "eventId": 915,
            "eventIdx": 237,
            "goals": {
             "away": 2,
             "home": 3
            },
            "ordinalNum": "3rd",
            "period": 3,
            "periodTime": "10:46",
            "periodTimeRemaining": "09:14",
            "periodType": "REGULAR"
           },
           "coordinates": {
            "x": -55,
            "y": 23
           },
           "players": [
            {
             "player": {
              "fullName": "Timothy Liljegren",
              "id": 8480043,
              "link": "/api/v1/people/8480043"
             },
             "playerType": "Shooter"
            },
            {
             "player": {
              "fullName": "Jake Allen",
              "id": 8474596,
              "link": "/api/v1/people/8474596"
             },
             "playerType": "Goalie"
            }
           ],
           "result": {
            "description": "Timothy Liljegren Wrist Shot saved by Jake Allen",
            "event": "Shot",
            "eventCode": "TOR915",
            "eventTypeId": "SHOT",
            "secondaryType": "Wrist Shot"
           },
           "team": {
            "id": 10,
            "link": "/api/v1/teams/10",
            "name": "Toronto Maple Leafs",
            "triCode": "TOR"
           }
          },
          {
           "about": {
            "dateTime": "2023-10-03T01:13:56Z",
            "eventId": 917,
            "eventIdx": 238,
            "goals": {
             "away": 2,
             "home": 3
            },
            "ordinalNum": "3rd",
            "period": 3,
            "periodTime": "10:52",
            "periodTimeRemaining": "09:08",
            "periodType": "REGULAR"
           },
           "coordinates": {
            "x": -80,
            "y": 0
           },
           "players": [
            {
             "player": {
              "fullName": "Tyler Bertuzzi",
              "id": 8477479,
              "link": "/api/v1/people/8477479"
             },
             "playerType": "Shooter"
            },
            {
             "player": {
              "fullName": "Jake Allen",
              "id": 8474596,
              "link": "/api/v1/people/8474596"
             },
             "playerType": "Goalie"
            }
           ],
           "result": {
            "description": "Tyler Bertuzzi Wrist Shot saved by Jake Allen",
            "event": "Shot",
            "eventCode": "TOR917",
            "eventTypeId": "SHOT",
            "secondaryType": "Wrist Shot"
           },
           "team": {
            "id": 10,
            "link": "/api/v1/teams/10",
            "name": "Toronto Maple Leafs",
            "triCode": "TOR"
           }
          },
          {
           "about": {
            "dateTime": "2023-10-03T01:14:03Z",
            "eventId": 665,
            "eventIdx": 239,
            "goals": {
             "away": 2,
             "home": 3
            },
            "ordinalNum": "3rd",
            "period": 3,
            "periodTime": "10:59",
            "periodTimeRemaining": "09:01",
            "periodType": "REGULAR"
           },
           "coordinates": {
            "x": -94,
            "y": -16
           },
           "players": [
            {
             "player": {
              "fullName": "Emil Heineman",
              "id": 8482476,
              "link": "/api/v1/people/8482476"
             },
             "playerType": "Hitter"
            },
            {
             "player": {
              "fullName": "Tyler Bertuzzi",
              "id": 8477479,
              "link": "/api/v1/people/8477479"
             },
             "playerType": "Hittee"
            }
           ],
           "result": {
            "description": "Emil Heineman hit Tyler Bertuzzi",
            "event": "Hit",
            "eventCode": "TOR665",
            "eventTypeId": "HIT"
           },
           "team": {
            "id": 8,
            "link": "/api/v1/teams/8",
            "name": "Montréal Canadiens",
            "triCode": "MTL"
           }
          },
          {
           "about": {
            "dateTime": "2023-10-03T01:14:04Z",
            "eventId": 918,
            "eventIdx": 240,
            "goals": {
             "away": 2,
             "home": 3
            },
            "ordinalNum": "3rd",
            "period": 3,
            "periodTime": "11:00",
            "periodTimeRemaining": "09:00",
            "periodType": "REGULAR"
           },
           "coordinates": {
            "x": -84,
            "y": 7
           },
           "players": [
            {
             "player": {
              "fullName": "Sam Lafferty",
              "id": 8478043,
              "link": "/api/v1/people/8478043"
             },
             "playerType": "Shooter"
            },
            {
             "player": {
              "fullName": "Jake Allen",
              "id": 8474596,
              "link": "/api/v1/people/8474596"
             },
             "playerType": "Goalie"
            }
           ],
           "result": {
            "description": "Sam Lafferty Snap Shot saved by Jake Allen",
            "event": "Shot",
            "eventCode": "TOR918",
            "eventTypeId": "SHOT",
            "secondaryType": "Snap Shot"
           },
           "team": {
            "id": 10,
            "link": "/api/v1/teams/10",
            "name": "Toronto Maple Leafs",
            "triCode": "TOR"
           }
          },
          {
           "about": {
            "dateTime": "2023-10-03T01:14:22Z",
            "eventId": 920,
            "eventIdx": 241,
            "goals": {
             "away": 2,
             "home": 3
            },
            "ordinalNum": "3rd",
            "period": 3,
            "periodTime": "11:18",
            "periodTimeRemaining": "08:42",
            "periodType": "REGULAR"
           },
           "coordinates": {
            "x": -51,
            "y": -14
           },
           "players": [
            {
             "player": {
              "fullName": "Sam Lafferty",
              "id": 8478043,
              "link": "/api/v1/people/8478043"
             },
             "playerType": "Shooter"
            },
            {
             "player": {
              "fullName": "Jake Allen",
              "id": 8474596,
              "link": "/api/v1/people/8474596"
             },
             "playerType": "Goalie"
            }
           ],
           "result": {
            "description": "Sam Lafferty Wrist Shot saved by Jake Allen",
            "event": "Shot",
            "eventCode": "TOR920",
            "eventTypeId": "SHOT",
            "secondaryType": "Wrist Shot"
           },
           "team": {
            "id": 10,
            "link": "/api/v1/teams/10",
            "name": "Toronto Maple Leafs",
            "triCode": "TOR"
           }
          },
          {
           "about": {
            "dateTime": "2023-10-03T01:14:33Z",
            "eventId": 261,
            "eventIdx": 242,
            "goals": {
             "away": 2,
             "home": 3
            },
            "ordinalNum": "3rd",
            "period": 3,
            "periodTime": "11:29",
            "periodTimeRemaining": "08:31",
            "periodType": "REGULAR"
           },
           "coordinates": {
            "x": -68,
            "y": -18
           },
           "players": [
            {
             "player": {
              "fullName": "John Tavares",
              "id": 8475166,
              "link": "/api/v1/people/8475166"
             },
             "playerType": "Blocker"
            },
            {
             "player": {
              "fullName": "Mattias Norlinder",
              "id": 8481555,
              "link": "/api/v1/people/8481555"
             },
             "playerType": "Shooter"
            }
           ],
           "result": {
            "description": "Mattias Norlinder shot blocked shot by John Tavares",
            "event": "Blocked Shot",
            "eventCode": "TOR261",
            "eventTypeId": "BLOCKED_SHOT"
           },
           "team": {
            "id": 10,
            "link": "/api/v1/teams/10",
            "name": "Toronto Maple Leafs",
            "triCode": "TOR"
           }
          },
          {
           "about": {
            "dateTime": "2023-10-03T01:14:44Z",
            "eventId": 921,
            "eventIdx": 243,
            "goals": {
             "away": 2,
             "home": 4
            },
            "ordinalNum": "3rd",
            "period": 3,
            "periodTime": "11:40",
            "periodTimeRemaining": "08:20",
            "periodType": "REGULAR"
           },
           "coordinates": {
            "x": -71,
            "y": 23
           },
           "players": [
            {
             "player": {
              "fullName": "John Tavares",
              "id": 8475166,
              "link": "/api/v1/people/8475166"
             },
             "playerType": "Scorer",
             "seasonTotal": 2
            },
            {
             "player": {
              "fullName": "Timothy Liljegren",
              "id": 8480043,
              "link": "/api/v1/people/8480043"
             },
             "playerType": "Assist",
             "seasonTotal": 2
            },
            {
             "player": {
              "fullName": "Sam Lafferty",
              "id": 8478043,
              "link": "/api/v1/people/8478043"
             },
             "playerType": "Assist",
             "seasonTotal": 2
            },
            {
             "player": {
              "fullName": "Jake Allen",
              "id": 8474596,
              "link": "/api/v1/people/8474596"
             },
             "playerType": "Goalie"
            }
           ],
           "result": {
            "description": "John Tavares (2) Slap Shot, assists: Timothy Liljegren (2), Sam Lafferty (2)",
            "emptyNet": false,
            "event": "Goal",
            "eventCode": "TOR921",
            "eventTypeId": "GOAL",
            "gameWinningGoal": false,
            "secondaryType": "Slap Shot",
            "strength": {
             "code": "EVEN",
             "name": "Even"
            }
           },
           "team": {
            "id": 10,
            "link": "/api/v1/teams/10",
            "name": "Toronto Maple Leafs",
            "triCode": "TOR"
           }
          },
          {
           "about": {
            "dateTime": "2023-10-03T01:15:26Z",
            "eventId": 430,
            "eventIdx": 244,
            "goals": {
             "away": 2,
             "home": 4
            },
            "ordinalNum": "3rd",
            "period": 3,
            "periodTime": "11:40",
            "periodTimeRemaining": "08:20",
            "periodType": "REGULAR"
           },
           "coordinates": {
            "x": 0,
            "y": 0
           },
           "players": [
            {
             "player": {
              "fullName": "Sean Monahan",
              "id": 8477497,
              "link": "/api/v1/people/8477497"
             },
             "playerType": "Winner"
            },
            {
             "player": {
              "fullName": "David Kampf",
              "id": 8480144,
              "link": "/api/v1/people/8480144"
             },
             "playerType": "Loser"
            }
           ],
           "result": {
            "description": "Sean Monahan faceoff won against David Kampf",
            "event": "Faceoff",
            "eventCode": "TOR430",
            "eventTypeId": "FACEOFF"
           },
           "team": {
            "id": 8,
            "link": "/api/v1/teams/8",
            "name": "Montréal Canadiens",
            "triCode": "MTL"
           }
          },
          {
           "about": {
            "dateTime": "2023-10-03T01:15:50Z",
            "eventId": 667,
            "eventIdx": 245,
            "goals": {
             "away": 2,
             "home": 4
            },
            "ordinalNum": "3rd",
            "period": 3,
            "periodTime": "12:04",
            "periodTimeRemaining": "07:56",
            "periodType": "REGULAR"
           },
           "coordinates": {
            "x": -90,
            "y": 30
           },
           "players": [
            {
             "player": {
              "fullName": "Noah Gregor",
              "id": 8479393,
              "link": "/api/v1/people/8479393"
             },
             "playerType": "Hitter"
            },
            {
             "player": {
              "fullName": "Jordan Harris",
              "id": 8480887,
              "link": "/api/v1/people/8480887"
             },
             "playerType": "Hittee"
            }
           ],
           "result": {
            "description": "Noah Gregor hit Jordan Harris",
            "event": "Hit",
            "eventCode": "TOR667",
            "eventTypeId": "HIT"
           },
           "team": {
            "id": 10,
            "link": "/api/v1/teams/10",
            "name": "Toronto Maple Leafs",
            "triCode": "TOR"
           }
          },
          {
           "about": {
            "dateTime": "2023-10-03T01:16:05Z",
            "eventId": 925,
            "eventIdx": 246,
            "goals": {
             "away": 2,
             "home": 4
            },
            "ordinalNum": "3rd",
            "period": 3,
            "periodTime": "12:19",
            "periodTimeRemaining": "07:41",
            "periodType": "REGULAR"
           },
           "coordinates": {
            "x": 79,
            "y": -6
           },
           "players": [
            {
             "player": {
              "fullName": "TJ Brodie",
              "id": 8474673,
              "link": "/api/v1/people/8474673"
             },
             "playerType": "Blocker"
            },
            {
             "player": {
              "fullName": "Sean Monahan",
              "id": 8477497,
              "link": "/api/v1/people/8477497"
             },
             "playerType": "Shooter"
            }
           ],
           "result": {
            "description": "Sean Monahan shot blocked shot by TJ Brodie",
            "event": "Blocked Shot",
            "eventCode": "TOR925",
            "eventTypeId": "BLOCKED_SHOT"
           },
           "team": {
            "id": 10,
            "link": "/api/v1/teams/10",
            "name": "Toronto Maple Leafs",
            "triCode": "TOR"
           }
          },
          {
           "about": {
            "dateTime": "2023-10-03T01:16:19Z",
            "eventId": 926,
            "eventIdx": 247,
            "goals": {
             "away": 2,
             "home": 4
            },
            "ordinalNum": "3rd",
            "period": 3,
            "periodTime": "12:33",
            "periodTimeRemaining": "07:27",
            "periodType": "REGULAR"
           },
           "coordinates": {
            "x": 38,
            "y": 6
           },
           "players": [
            {
             "player": {
              "fullName": "Logan Mailloux",
              "id": 8482733,
              "link": "/api/v1/people/8482733"
             },
             "playerType": "Shooter"
            },
            {
             "player": {
              "fullName": "Ilya Samsonov",
              "id": 8478492,
              "link": "/api/v1/people/8478492"
             },
             "playerType": "Unknown"
            }
           ],
           "result": {
            "description": "Logan Mailloux Wide Left Ilya Samsonov",
            "event": "Missed Shot",
            "eventCode": "TOR926",
            "eventTypeId": "MISSED_SHOT"
           },
           "team": {
            "id": 8,
            "link": "/api/v1/teams/8",
            "name": "Montréal Canadiens",
            "triCode": "MTL"
           }
          },
          {
           "about": {
            "dateTime": "2023-10-03T01:16:25Z",
            "eventId": 927,
            "eventIdx": 248,
            "goals": {
             "away": 2,
             "home": 4
            },
            "ordinalNum": "3rd",
            "period": 3,
            "periodTime": "12:39",
            "periodTimeRemaining": "07:21",
            "periodType": "REGULAR"
           },
           "coordinates": {
            "x": 38,
            "y": 11
           },
           "players": [
            {
             "player": {
              "fullName": "Jordan Harris",
              "id": 8480887,
              "link": "/api/v1/people/8480887"
             },
             "playerType": "Shooter"
            },
            {
             "player": {
              "fullName": "Ilya Samsonov",
              "id": 8478492,
              "link": "/api/v1/people/8478492"
             },
             "playerType": "Unknown"
            }
           ],
           "result": {
            "description": "Jordan Harris Wide Right Ilya Samsonov",
            "event": "Missed Shot",
            "eventCode": "TOR927",
            "eventTypeId": "MISSED_SHOT"
           },
           "team": {
            "id": 8,
            "link": "/api/v1/teams/8",
            "name": "Montréal Canadiens",
            "triCode": "MTL"
           }
          },
          {
           "about": {
            "dateTime": "2023-10-03T01:17:18Z",
            "eventId": 431,
            "eventIdx": 249,
            "goals": {
             "away": 2,
             "home": 4
            },
            "ordinalNum": "3rd",
            "period": 3,
            "periodTime": "13:32",
            "periodTimeRemaining": "06:28",
            "periodType": "REGULAR"
           },
           "coordinates": {
            "x": 40,
            "y": -40
           },
           "players": [
            {
             "player": {
              "fullName": "Juraj Slafkovsky",
              "id": 8483515,
              "link": "/api/v1/people/8483515"
             },
             "playerType": "PlayerID"
            }
           ],
           "result": {
            "description": "Giveaway by Juraj Slafkovsky",
            "event": "Giveaway",
            "eventCode": "TOR431",
            "eventTypeId": "GIVEAWAY"
           },
           "team": {
            "id": 8,
            "link": "/api/v1/teams/8",
            "name": "Montréal Canadiens",
            "triCode": "MTL"
           }
          },
          {
           "about": {
            "dateTime": "2023-10-03T01:17:18Z",
            "eventId": 668,
            "eventIdx": 250,
            "goals": {
             "away": 2,
             "home": 4
            },
            "ordinalNum": "3rd",
            "period": 3,
            "periodTime": "13:32",
            "periodTimeRemaining": "06:28",
            "periodType": "REGULAR"
           },
           "coordinates": {
            "x": 33,
            "y": -10
           },
           "players": [
            {
             "player": {
              "fullName": "Arber Xhekaj",
              "id": 8482964,
              "link": "/api/v1/people/8482964"
             },
             "playerType": "Hitter"
            },
            {
             "player": {
              "fullName": "Max Domi",
              "id": 8477503,
              "link": "/api/v1/people/8477503"
             },
             "playerType": "Hittee"
            }
           ],
           "result": {
            "description": "Arber Xhekaj hit Max Domi",
            "event": "Hit",
            "eventCode": "TOR668",
            "eventTypeId": "HIT"
           },
           "team": {
            "id": 8,
            "link": "/api/v1/teams/8",
            "name": "Montréal Canadiens",
            "triCode": "MTL"
           }
          },
          {
           "about": {
            "dateTime": "2023-10-03T01:17:29Z",
            "eventId": 165,
            "eventIdx": 251,
            "goals": {
             "away": 3,
             "home": 4
            },
            "ordinalNum": "3rd",
            "period": 3,
            "periodTime": "13:43",
            "periodTimeRemaining": "06:17",
            "periodType": "REGULAR"
           },
           "coordinates": {
            "x": 35,
            "y": 29
           },
           "players": [
            {
             "player": {
              "fullName": "Johnathan Kovacevic",
              "id": 8480192,
              "link": "/api/v1/people/8480192"
             },
             "playerType": "Scorer",
             "seasonTotal": 1
            },
            {
             "player": {
              "fullName": "Arber Xhekaj",
              "id": 8482964,
              "link": "/api/v1/people/8482964"
             },
             "playerType": "Assist",
             "seasonTotal": 1
            },
            {
             "player": {
              "fullName": "Juraj Slafkovsky",
              "id": 8483515,
              "link": "/api/v1/people/8483515"
             },
             "playerType": "Assist",
             "seasonTotal": 1
            },
            {
             "player": {
              "fullName": "Ilya Samsonov",
              "id": 8478492,
              "link": "/api/v1/people/8478492"
             },
             "playerType": "Goalie"
            }
           ],
           "result": {
            "description": "Johnathan Kovacevic (1) Slap Shot, assists: Arber Xhekaj (1), Juraj Slafkovsky (1)",
            "emptyNet": false,
            "event": "Goal",
            "eventCode": "TOR165",
            "eventTypeId": "GOAL",
            "gameWinningGoal": false,
            "secondaryType": "Slap Shot",
            "strength": {
             "code": "EVEN",
             "name": "Even"
            }
           },
           "team": {
            "id": 8,
            "link": "/api/v1/teams/8",
            "name": "Montréal Canadiens",
            "triCode": "MTL"
           }
          },
          {
           "about": {
            "dateTime": "2023-10-03T01:18:17Z",
            "eventId": 432,
            "eventIdx": 252,
            "goals": {
             "away": 3,
             "home": 4
            },
            "ordinalNum": "3rd",
            "period": 3,
            "periodTime": "13:43",
            "periodTimeRemaining": "06:17",
            "periodType": "REGULAR"
           },
           "coordinates": {
            "x": 0,
            "y": 0
           },
           "players": [
            {
             "player": {
              "fullName": "Nick Suzuki",
              "id": 8480018,
              "link": "/api/v1/people/8480018"
             },
             "playerType": "Winner"
            },
            {
             "player": {
              "fullName": "Auston Matthews",
              "id": 8479318,
              "link": "/api/v1/people/8479318"
             },
             "playerType": "Loser"
            }
           ],
           "result": {
            "description": "Nick Suzuki faceoff won against Auston Matthews",
            "event": "Faceoff",
            "eventCode": "TOR432",
            "eventTypeId": "FACEOFF"
           },
           "team": {
            "id": 8,
            "link": "/api/v1/teams/8",
            "name": "Montréal Canadiens",
            "triCode": "MTL"
           }
          },
          {
           "about": {
            "dateTime": "2023-10-03T01:18:55Z",
            "eventId": 940,
            "eventIdx": 253,
            "goals": {
             "away": 3,
             "home": 4
            },
            "ordinalNum": "3rd",
            "period": 3,
            "periodTime": "14:21",
            "periodTimeRemaining": "05:39",
            "periodType": "REGULAR"
           },
           "coordinates": {
            "x": 29,
            "y": 7
           },
           "players": [
            {
             "player": {
              "fullName": "Mattias Norlinder",
              "id": 8481555,
              "link": "/api/v1/people/8481555"
             },
             "playerType": "Shooter"
            },
            {
             "player": {
              "fullName": "Ilya Samsonov",
              "id": 8478492,
              "link": "/api/v1/people/8478492"
             },
             "playerType": "Goalie"
            }
           ],
           "result": {
            "description": "Mattias Norlinder Slap Shot saved by Ilya Samsonov",
            "event": "Shot",
            "eventCode": "TOR940",
            "eventTypeId": "SHOT",
            "secondaryType": "Slap Shot"
           },
           "team": {
            "id": 8,
            "link": "/api/v1/teams/8",
            "name": "Montréal Canadiens",
            "triCode": "MTL"
           }
          },
          {
           "about": {
            "dateTime": "2023-10-03T01:18:57Z",
            "eventId": 669,
            "eventIdx": 254,
            "goals": {
             "away": 3,
             "home": 4
            },
            "ordinalNum": "3rd",
            "period": 3,
            "periodTime": "14:23",
            "periodTimeRemaining": "05:37",
            "periodType": "REGULAR"
           },
           "coordinates": {
            "x": 82,
            "y": -1
           },
           "result": {
            "description": "Goalie Stopped",
            "event": "Stoppage",
            "eventCode": "TOR669",
            "eventTypeId": "STOP"
           }
          },
          {
           "about": {
            "dateTime": "2023-10-03T01:21:13Z",
            "eventId": 434,
            "eventIdx": 255,
            "goals": {
             "away": 3,
             "home": 4
            },
            "ordinalNum": "3rd",
            "period": 3,
            "periodTime": "14:23",
            "periodTimeRemaining": "05:37",
            "periodType": "REGULAR"
           },
           "coordinates": {
            "x": 69,
            "y": 22
           },
           "players": [
            {
             "player": {
              "fullName": "Sean Monahan",
              "id": 8477497,
              "link": "/api/v1/people/8477497"
             },
             "playerType": "Winner"
            },
            {
             "player": {
              "fullName": "John Tavares",
              "id": 8475166,
              "link": "/api/v1/people/8475166"
             },
             "playerType": "Loser"
            }
           ],
           "result": {
            "description": "Sean Monahan faceoff won against John Tavares",
            "event": "Faceoff",
            "eventCode": "TOR434",
            "eventTypeId": "FACEOFF"
           },
           "team": {
            "id": 8,
            "link": "/api/v1/teams/8",
            "name": "Montréal Canadiens",
            "triCode": "MTL"
           }
          },
          {
           "about": {
            "dateTime": "2023-10-03T01:21:24Z",
            "eventId": 670,
            "eventIdx": 256,
            "goals": {
             "away": 3,
             "home": 4
            },
            "ordinalNum": "3rd",
            "period": 3,
            "periodTime": "14:34",
            "periodTimeRemaining": "05:26",
            "periodType": "REGULAR"
           },
           "coordinates": {
            "x": 8,
            "y": 39
           },
           "players": [
            {
             "player": {
              "fullName": "Sam Lafferty",
              "id": 8478043,
              "link": "/api/v1/people/8478043"
             },
             "playerType": "Hitter"
            },
            {
             "player": {
              "fullName": "Tanner Pearson",
              "id": 8476871,
              "link": "/api/v1/people/8476871"
             },
             "playerType": "Hittee"
            }
           ],
           "result": {
            "description": "Sam Lafferty hit Tanner Pearson",
            "event": "Hit",
            "eventCode": "TOR670",
            "eventTypeId": "HIT"
           },
           "team": {
            "id": 10,
            "link": "/api/v1/teams/10",
            "name": "Toronto Maple Leafs",
            "triCode": "TOR"
           }
          },
          {
           "about": {
            "dateTime": "2023-10-03T01:21:30Z",
            "eventId": 945,
            "eventIdx": 257,
            "goals": {
             "away": 3,
             "home": 4
            },
            "ordinalNum": "3rd",
            "period": 3,
            "periodTime": "14:40",
            "periodTimeRemaining": "05:20",
            "periodType": "REGULAR"
           },
           "coordinates": {
            "x": 39,
            "y": -32
           },
           "players": [
            {
             "player": {
              "fullName": "David Savard",
              "id": 8475233,
              "link": "/api/v1/people/8475233"
             },
             "playerType": "Shooter"
            },
            {
             "player": {
              "fullName": "Ilya Samsonov",
              "id": 8478492,
              "link": "/api/v1/people/8478492"
             },
             "playerType": "Goalie"
            }
           ],
           "result": {
            "description": "David Savard Slap Shot saved by Ilya Samsonov",
            "event": "Shot",
            "eventCode": "TOR945",
            "eventTypeId": "SHOT",
            "secondaryType": "Slap Shot"
           },
           "team": {
            "id": 8,
            "link": "/api/v1/teams/8",
            "name": "Montréal Canadiens",
            "triCode": "MTL"
           }
          },
          {
           "about": {
            "dateTime": "2023-10-03T01:22:16Z",
            "eventId": 671,
            "eventIdx": 258,
            "goals": {
             "away": 3,
             "home": 4
            },
            "ordinalNum": "3rd",
            "period": 3,
            "periodTime": "15:26",
            "periodTimeRemaining": "04:34",
            "periodType": "REGULAR"
           },
           "coordinates": {
            "x": -80,
            "y": -37
           },
           "players": [
            {
             "player": {
              "fullName": "Ryan Reaves",
              "id": 8471817,
              "link": "/api/v1/people/8471817"
             },
             "playerType": "Hitter"
            },
            {
             "player": {
              "fullName": "Jordan Harris",
              "id": 8480887,
              "link": "/api/v1/people/8480887"
             },
             "playerType": "Hittee"
            }
           ],
           "result": {
            "description": "Ryan Reaves hit Jordan Harris",
            "event": "Hit",
            "eventCode": "TOR671",
            "eventTypeId": "HIT"
           },
           "team": {
            "id": 10,
            "link": "/api/v1/teams/10",
            "name": "Toronto Maple Leafs",
            "triCode": "TOR"
           }
          },
          {
           "about": {
            "dateTime": "2023-10-03T01:22:23Z",
            "eventId": 956,
            "eventIdx": 259,
            "goals": {
             "away": 3,
             "home": 4
            },
            "ordinalNum": "3rd",
            "period": 3,
            "periodTime": "15:33",
            "periodTimeRemaining": "04:27",
            "periodType": "REGULAR"
           },
           "coordinates": {
            "x": 47,
            "y": -24
           },
           "players": [
            {
             "player": {
              "fullName": "Emil Heineman",
              "id": 8482476,
              "link": "/api/v1/people/8482476"
             },
             "playerType": "Shooter"
            },
            {
             "player": {
              "fullName": "Ilya Samsonov",
              "id": 8478492,
              "link": "/api/v1/people/8478492"
             },
             "playerType": "Goalie"
            }
           ],
           "result": {
            "description": "Emil Heineman Wrist Shot saved by Ilya Samsonov",
            "event": "Shot",
            "eventCode": "TOR956",
            "eventTypeId": "SHOT",
            "secondaryType": "Wrist Shot"
           },
           "team": {
            "id": 8,
            "link": "/api/v1/teams/8",
            "name": "Montréal Canadiens",
            "triCode": "MTL"
           }
          },
          {
           "about": {
            "dateTime": "2023-10-03T01:22:49Z",
            "eventId": 964,
            "eventIdx": 260,
            "goals": {
             "away": 3,
             "home": 4
            },
            "ordinalNum": "3rd",
            "period": 3,
            "periodTime": "15:59",
            "periodTimeRemaining": "04:01",
            "periodType": "REGULAR"
           },
           "coordinates": {
            "x": 39,
            "y": -11
           },
           "players": [
            {
             "player": {
              "fullName": "Kirby Dach",
              "id": 8481523,
              "link": "/api/v1/people/8481523"
             },
             "playerType": "Shooter"
            },
            {
             "player": {
              "fullName": "Ilya Samsonov",
              "id": 8478492,
              "link": "/api/v1/people/8478492"
             },
             "playerType": "Goalie"
            }
           ],
           "result": {
            "description": "Kirby Dach Wrist Shot saved by Ilya Samsonov",
            "event": "Shot",
            "eventCode": "TOR964",
            "eventTypeId": "SHOT",
            "secondaryType": "Wrist Shot"
           },
           "team": {
            "id": 8,
            "link": "/api/v1/teams/8",
            "name": "Montréal Canadiens",
            "triCode": "MTL"
           }
          },
          {
           "about": {
            "dateTime": "2023-10-03T01:22:52Z",
            "eventId": 672,
            "eventIdx": 261,
            "goals": {
             "away": 3,
             "home": 4
            },
            "ordinalNum": "3rd",
            "period": 3,
            "periodTime": "16:02",
            "periodTimeRemaining": "03:58",
            "periodType": "REGULAR"
           },
           "coordinates": {
            "x": 83,
            "y": 1
           },
           "result": {
            "description": "Goalie Stopped",
            "event": "Stoppage",
            "eventCode": "TOR672",
            "eventTypeId": "STOP"
           }
          },
          {
           "about": {
            "dateTime": "2023-10-03T01:25:10Z",
            "eventId": 436,
            "eventIdx": 262,
            "goals": {
             "away": 3,
             "home": 4
            },
            "ordinalNum": "3rd",
            "period": 3,
            "periodTime": "16:02",
            "periodTimeRemaining": "03:58",
            "periodType": "REGULAR"
           },
           "coordinates": {
            "x": 69,
            "y": -22
           },
           "players": [
            {
             "player": {
              "fullName": "John Tavares",
              "id": 8475166,
              "link": "/api/v1/people/8475166"
             },
             "playerType": "Winner"
            },
            {
             "player": {
              "fullName": "Kirby Dach",
              "id": 8481523,
              "link": "/api/v1/people/8481523"
             },
             "playerType": "Loser"
            }
           ],
           "result": {
            "description": "John Tavares faceoff won against Kirby Dach",
            "event": "Faceoff",
            "eventCode": "TOR436",
            "eventTypeId": "FACEOFF"
           },
           "team": {
            "id": 10,
            "link": "/api/v1/teams/10",
            "name": "Toronto Maple Leafs",
            "triCode": "TOR"
           }
          },
          {
           "about": {
            "dateTime": "2023-10-03T01:25:57Z",
            "eventId": 673,
            "eventIdx": 263,
            "goals": {
             "away": 3,
             "home": 4
            },
            "ordinalNum": "3rd",
            "period": 3,
            "periodTime": "16:49",
            "periodTimeRemaining": "03:11",
            "periodType": "REGULAR"
           },
           "coordinates": {
            "x": 91,
            "y": 28
           },
           "players": [
            {
             "player": {
              "fullName": "Josh Anderson",
              "id": 8476981,
              "link": "/api/v1/people/8476981"
             },
             "playerType": "Hitter"
            },
            {
             "player": {
              "fullName": "Morgan Rielly",
              "id": 8476853,
              "link": "/api/v1/people/8476853"
             },
             "playerType": "Hittee"
            }
           ],
           "result": {
            "description": "Josh Anderson hit Morgan Rielly",
            "event": "Hit",
            "eventCode": "TOR673",
            "eventTypeId": "HIT"
           },
           "team": {
            "id": 8,
            "link": "/api/v1/teams/8",
            "name": "Montréal Canadiens",
            "triCode": "MTL"
           }
          },
          {
           "about": {
            "dateTime": "2023-10-03T01:26:21Z",
            "eventId": 437,
            "eventIdx": 264,
            "goals": {
             "away": 3,
             "home": 4
            },
            "ordinalNum": "3rd",
            "period": 3,
            "periodTime": "17:13",
            "periodTimeRemaining": "02:47",
            "periodType": "REGULAR"
           },
           "coordinates": {
            "x": -63,
            "y": 7
           },
           "players": [
            {
             "player": {
              "fullName": "Mitchell Marner",
              "id": 8478483,
              "link": "/api/v1/people/8478483"
             },
             "playerType": "PlayerID"
            }
           ],
           "result": {
            "description": "Takeaway by Mitchell Marner",
            "event": "Takeaway",
            "eventCode": "TOR437",
            "eventTypeId": "TAKEAWAY"
           },
           "team": {
            "id": 10,
            "link": "/api/v1/teams/10",
            "name": "Toronto Maple Leafs",
            "triCode": "TOR"
           }
          },
          {
           "about": {
            "dateTime": "2023-10-03T01:26:30Z",
            "eventId": 979,
            "eventIdx": 265,
            "goals": {
             "away": 3,
             "home": 4
            },
            "ordinalNum": "3rd",
            "period": 3,
            "periodTime": "17:22",
            "periodTimeRemaining": "02:38",
            "periodType": "REGULAR"
           },
           "coordinates": {
            "x": 61,
            "y": -20
           },
           "players": [
            {
             "player": {
              "fullName": "Cole Caufield",
              "id": 8481540,
              "link": "/api/v1/people/8481540"
             },
             "playerType": "Shooter"
            },
            {
             "player": {
              "fullName": "Ilya Samsonov",
              "id": 8478492,
              "link": "/api/v1/people/8478492"
             },
             "playerType": "Unknown"
            }
           ],
           "result": {
            "description": "Cole Caufield High and Wide Left Ilya Samsonov",
            "event": "Missed Shot",
            "eventCode": "TOR979",
            "eventTypeId": "MISSED_SHOT"
           },
           "team": {
            "id": 8,
            "link": "/api/v1/teams/8",
            "name": "Montréal Canadiens",
            "triCode": "MTL"
           }
          },
          {
           "about": {
            "dateTime": "2023-10-03T01:26:46Z",
            "eventId": 983,
            "eventIdx": 266,
            "goals": {
             "away": 3,
             "home": 4
            },
            "ordinalNum": "3rd",
            "period": 3,
            "periodTime": "17:38",
            "periodTimeRemaining": "02:22",
            "periodType": "REGULAR"
           },
           "coordinates": {
            "x": 38,
            "y": 11
           },
           "players": [
            {
             "player": {
              "fullName": "Jake McCabe",
              "id": 8476931,
              "link": "/api/v1/people/8476931"
             },
             "playerType": "Blocker"
            },
            {
             "player": {
              "fullName": "Brendan Gallagher",
              "id": 8475848,
              "link": "/api/v1/people/8475848"
             },
             "playerType": "Shooter"
            }
           ],
           "result": {
            "description": "Brendan Gallagher shot blocked shot by Jake McCabe",
            "event": "Blocked Shot",
            "eventCode": "TOR983",
            "eventTypeId": "BLOCKED_SHOT"
           },
           "team": {
            "id": 10,
            "link": "/api/v1/teams/10",
            "name": "Toronto Maple Leafs",
            "triCode": "TOR"
           }
          },
          {
           "about": {
            "dateTime": "2023-10-03T01:26:49Z",
            "eventId": 984,
            "eventIdx": 267,
            "goals": {
             "away": 3,
             "home": 4
            },
            "ordinalNum": "3rd",
            "period": 3,
            "periodTime": "17:41",
            "periodTimeRemaining": "02:19",
            "periodType": "REGULAR"
           },
           "coordinates": {
            "x": 70,
            "y": -5
           },
           "players": [
            {
             "player": {
              "fullName": "Sean Monahan",
              "id": 8477497,
              "link": "/api/v1/people/8477497"
             },
             "playerType": "Shooter"
            },
            {
             "player": {
              "fullName": "Ilya Samsonov",
              "id": 8478492,
              "link": "/api/v1/people/8478492"
             },
             "playerType": "Goalie"
            }
           ],
           "result": {
            "description": "Sean Monahan Wrist Shot saved by Ilya Samsonov",
            "event": "Shot",
            "eventCode": "TOR984",
            "eventTypeId": "SHOT",
            "secondaryType": "Wrist Shot"
           },
           "team": {
            "id": 8,
            "link": "/api/v1/teams/8",
            "name": "Montréal Canadiens",
            "triCode": "MTL"
           }
          },
          {
           "about": {
            "dateTime": "2023-10-03T01:26:50Z",
            "eventId": 988,
            "eventIdx": 268,
            "goals": {
             "away": 3,
             "home": 4
            },
            "ordinalNum": "3rd",
            "period": 3,
            "periodTime": "17:42",
            "periodTimeRemaining": "02:18",
            "periodType": "REGULAR"
           },
           "coordinates": {
            "x": 85,
            "y": 0
           },
           "players": [
            {
             "player": {
              "fullName": "Sean Monahan",
              "id": 8477497,
              "link": "/api/v1/people/8477497"
             },
             "playerType": "Shooter"
            },
            {
             "player": {
              "fullName": "Ilya Samsonov",
              "id": 8478492,
              "link": "/api/v1/people/8478492"
             },
             "playerType": "Goalie"
            }
           ],
           "result": {
            "description": "Sean Monahan Wrist Shot saved by Ilya Samsonov",
            "event": "Shot",
            "eventCode": "TOR988",
            "eventTypeId": "SHOT",
            "secondaryType": "Wrist Shot"
           },
           "team": {
            "id": 8,
            "link": "/api/v1/teams/8",
            "name": "Montréal Canadiens",
            "triCode": "MTL"
           }
          },
          {
           "about": {
            "dateTime": "2023-10-03T01:26:52Z",
            "eventId": 674,
            "eventIdx": 269,
            "goals": {
             "away": 3,
             "home": 4
            },
            "ordinalNum": "3rd",
            "period": 3,
            "periodTime": "17:44",
            "periodTimeRemaining": "02:16",
            "periodType": "REGULAR"
           },
           "coordinates": {
            "x": 83,
            "y": 0
           },
           "result": {
            "description": "Goalie Stopped",
            "event": "Stoppage",
            "eventCode": "TOR674",
            "eventTypeId": "STOP"
           }
          },
          {
           "about": {
            "dateTime": "2023-10-03T01:28:26Z",
            "eventId": 438,
            "eventIdx": 270,
            "goals": {
             "away": 3,
             "home": 4
            },
            "ordinalNum": "3rd",
            "period": 3,
            "periodTime": "17:44",
            "periodTimeRemaining": "02:16",
            "periodType": "REGULAR"
           },
           "coordinates": {
            "x": 69,
            "y": -22
           },
           "players": [
            {
             "player": {
              "fullName": "David Kampf",
              "id": 8480144,
              "link": "/api/v1/people/8480144"
             },
             "playerType": "Winner"
            },
            {
             "player": {
              "fullName": "Nick Suzuki",
              "id": 8480018,
              "link": "/api/v1/people/8480018"
             },
             "playerType": "Loser"
            }
           ],
           "result": {
            "description": "David Kampf faceoff won against Nick Suzuki",
            "event": "Faceoff",
            "eventCode": "TOR438",
            "eventTypeId": "FACEOFF"
           },
           "team": {
            "id": 10,
            "link": "/api/v1/teams/10",
            "name": "Toronto Maple Leafs",
            "triCode": "TOR"
           }
          },
          {
           "about": {
            "dateTime": "2023-10-03T01:28:32Z",
            "eventId": 166,
            "eventIdx": 271,
            "goals": {
             "away": 3,
             "home": 4
            },
            "ordinalNum": "3rd",
            "period": 3,
            "periodTime": "17:50",
            "periodTimeRemaining": "02:10",
            "periodType": "REGULAR"
           },
           "coordinates": {
            "x": 67,
            "y": 10
           },
           "players": [
            {
             "player": {
              "fullName": "Noah Gregor",
              "id": 8479393,
              "link": "/api/v1/people/8479393"
             },
             "playerType": "Blocker"
            },
            {
             "player": {
              "fullName": "Cole Caufield",
              "id": 8481540,
              "link": "/api/v1/people/8481540"
             },
             "playerType": "Shooter"
            }
           ],
           "result": {
            "description": "Cole Caufield shot blocked shot by Noah Gregor",
            "event": "Blocked Shot",
            "eventCode": "TOR166",
            "eventTypeId": "BLOCKED_SHOT"
           },
           "team": {
            "id": 10,
            "link": "/api/v1/teams/10",
            "name": "Toronto Maple Leafs",
            "triCode": "TOR"
           }
          },
          {
           "about": {
            "dateTime": "2023-10-03T01:28:35Z",
            "eventId": 675,
            "eventIdx": 272,
            "goals": {
             "away": 3,
             "home": 4
            },
            "ordinalNum": "3rd",
            "period": 3,
            "periodTime": "17:53",
            "periodTimeRemaining": "02:07",
            "periodType": "REGULAR"
           },
           "coordinates": {
            "x": 98,
            "y": 4
           },
           "result": {
            "description": "Puck in Netting",
            "event": "Stoppage",
            "eventCode": "TOR675",
            "eventTypeId": "STOP"
           }
          },
          {
           "about": {
            "dateTime": "2023-10-03T01:29:04Z",
            "eventId": 439,
            "eventIdx": 273,
            "goals": {
             "away": 3,
             "home": 4
            },
            "ordinalNum": "3rd",
            "period": 3,
            "periodTime": "17:53",
            "periodTimeRemaining": "02:07",
            "periodType": "REGULAR"
           },
           "coordinates": {
            "x": 69,
            "y": 22
           },
           "players": [
            {
             "player": {
              "fullName": "Sean Monahan",
              "id": 8477497,
              "link": "/api/v1/people/8477497"
             },
             "playerType": "Winner"
            },
            {
             "player": {
              "fullName": "John Tavares",
              "id": 8475166,
              "link": "/api/v1/people/8475166"
             },
             "playerType": "Loser"
            }
           ],
           "result": {
            "description": "Sean Monahan faceoff won against John Tavares",
            "event": "Faceoff",
            "eventCode": "TOR439",
            "eventTypeId": "FACEOFF"
           },
           "team": {
            "id": 8,
            "link": "/api/v1/teams/8",
            "name": "Montréal Canadiens",
            "triCode": "MTL"
           }
          },
          {
           "about": {
            "dateTime": "2023-10-03T01:29:09Z",
            "eventId": 992,
            "eventIdx": 274,
            "goals": {
             "away": 3,
             "home": 4
            },
            "ordinalNum": "3rd",
            "period": 3,
            "periodTime": "17:58",
            "periodTimeRemaining": "02:02",
            "periodType": "REGULAR"
           },
           "coordinates": {
            "x": 77,
            "y": -10
           },
           "players": [
            {
             "player": {
              "fullName": "Timothy Liljegren",
              "id": 8480043,
              "link": "/api/v1/people/8480043"
             },
             "playerType": "Blocker"
            },
            {
             "player": {
              "fullName": "Nick Suzuki",
              "id": 8480018,
              "link": "/api/v1/people/8480018"
             },
             "playerType": "Shooter"
            }
           ],
           "result": {
            "description": "Nick Suzuki shot blocked shot by Timothy Liljegren",
            "event": "Blocked Shot",
            "eventCode": "TOR992",
            "eventTypeId": "BLOCKED_SHOT"
           },
           "team": {
            "id": 10,
            "link": "/api/v1/teams/10",
            "name": "Toronto Maple Leafs",
            "triCode": "TOR"
           }
          },
          {
           "about": {
            "dateTime": "2023-10-03T01:29:17Z",
            "eventId": 676,
            "eventIdx": 275,
            "goals": {
             "away": 3,
             "home": 4
            },
            "ordinalNum": "3rd",
            "period": 3,
            "periodTime": "18:06",
            "periodTimeRemaining": "01:54",
            "periodType": "REGULAR"
           },
           "coordinates": {
            "x": 26,
            "y": -37
           },
           "result": {
            "description": "Offside",
            "event": "Stoppage",
            "eventCode": "TOR676",
            "eventTypeId": "STOP"
           }
          },
          {
           "about": {
            "dateTime": "2023-10-03T01:29:41Z",
            "eventId": 440,
            "eventIdx": 276,
            "goals": {
             "away": 3,
             "home": 4
            },
            "ordinalNum": "3rd",
            "period": 3,
            "periodTime": "18:06",
            "periodTimeRemaining": "01:54",
            "periodType": "REGULAR"
           },
           "coordinates": {
            "x": 20,
            "y": -22
           },
           "players": [
            {
             "player": {
              "fullName": "John Tavares",
              "id": 8475166,
              "link": "/api/v1/people/8475166"
             },
             "playerType": "Winner"
            },
            {
             "player": {
              "fullName": "Nick Suzuki",
              "id": 8480018,
              "link": "/api/v1/people/8480018"
             },
             "playerType": "Loser"
            }
           ],
           "result": {
            "description": "John Tavares faceoff won against Nick Suzuki",
            "event": "Faceoff",
            "eventCode": "TOR440",
            "eventTypeId": "FACEOFF"
           },
           "team": {
            "id": 10,
            "link": "/api/v1/teams/10",
            "name": "Toronto Maple Leafs",
            "triCode": "TOR"
           }
          },
          {
           "about": {
            "dateTime": "2023-10-03T01:29:54Z",
            "eventId": 677,
            "eventIdx": 277,
            "goals": {
             "away": 3,
             "home": 4
            },
            "ordinalNum": "3rd",
            "period": 3,
            "periodTime": "18:18",
            "periodTimeRemaining": "01:42",
            "periodType": "REGULAR"
           },
           "coordinates": {
            "x": 13,
            "y": 42
           },
           "result": {
            "description": "Puck in Benches",
            "event": "Stoppage",
            "eventCode": "TOR677",
            "eventTypeId": "STOP"
           }
          },
          {
           "about": {
            "dateTime": "2023-10-03T01:30:14Z",
            "eventId": 441,
            "eventIdx": 278,
            "goals": {
             "away": 3,
             "home": 4
            },
            "ordinalNum": "3rd",
            "period": 3,
            "periodTime": "18:18",
            "periodTimeRemaining": "01:42",
            "periodType": "REGULAR"
           },
           "coordinates": {
            "x": 20,
            "y": 22
           },
           "players": [
            {
             "player": {
              "fullName": "John Tavares",
              "id": 8475166,
              "link": "/api/v1/people/8475166"
             },
             "playerType": "Winner"
            },
            {
             "player": {
              "fullName": "Sean Monahan",
              "id": 8477497,
              "link": "/api/v1/people/8477497"
             },
             "playerType": "Loser"
            }
           ],
           "result": {
            "description": "John Tavares faceoff won against Sean Monahan",
            "event": "Faceoff",
            "eventCode": "TOR441",
            "eventTypeId": "FACEOFF"
           },
           "team": {
            "id": 10,
            "link": "/api/v1/teams/10",
            "name": "Toronto Maple Leafs",
            "triCode": "TOR"
           }
          },
          {
           "about": {
            "dateTime": "2023-10-03T01:30:21Z",
            "eventId": 997,
            "eventIdx": 279,
            "goals": {
             "away": 3,
             "home": 4
            },
            "ordinalNum": "3rd",
            "period": 3,
            "periodTime": "18:25",
            "periodTimeRemaining": "01:35",
            "periodType": "REGULAR"
           },
           "coordinates": {
            "x": -79,
            "y": -15
           },
           "players": [
            {
             "player": {
              "fullName": "Matthew Knies",
              "id": 8482720,
              "link": "/api/v1/people/8482720"
             },
             "playerType": "Shooter"
            },
            {
             "player": {
              "fullName": "Jake Allen",
              "id": 8474596,
              "link": "/api/v1/people/8474596"
             },
             "playerType": "Goalie"
            }
           ],
           "result": {
            "description": "Matthew Knies Wrist Shot saved by Jake Allen",
            "event": "Shot",
            "eventCode": "TOR997",
            "eventTypeId": "SHOT",
            "secondaryType": "Wrist Shot"
           },
           "team": {
            "id": 10,
            "link": "/api/v1/teams/10",
            "name": "Toronto Maple Leafs",
            "triCode": "TOR"
           }
          },
          {
           "about": {
            "dateTime": "2023-10-03T01:31:09Z",
            "eventId": 678,
            "eventIdx": 280,
            "goals": {
             "away": 3,
             "home": 4
            },
            "ordinalNum": "3rd",
            "period": 3,
            "periodTime": "19:13",
            "periodTimeRemaining": "00:47",
            "periodType": "REGULAR"
           },
           "coordinates": {
            "x": 64,
            "y": 40
           },
           "players": [
            {
             "player": {
              "fullName": "Sam Lafferty",
              "id": 8478043,
              "link": "/api/v1/people/8478043"
             },
             "playerType": "Hitter"
            },
            {
             "player": {
              "fullName": "Cole Caufield",
              "id": 8481540,
              "link": "/api/v1/people/8481540"
             },
             "playerType": "Hittee"
            }
           ],
           "result": {
            "description": "Sam Lafferty hit Cole Caufield",
            "event": "Hit",
            "eventCode": "TOR678",
            "eventTypeId": "HIT"
           },
           "team": {
            "id": 10,
            "link": "/api/v1/teams/10",
            "name": "Toronto Maple Leafs",
            "triCode": "TOR"
           }
          },
          {
           "about": {
            "dateTime": "2023-10-03T01:31:16Z",
            "eventId": 1000,
            "eventIdx": 281,
            "goals": {
             "away": 4,
             "home": 4
            },
            "ordinalNum": "3rd",
            "period": 3,
            "periodTime": "19:19",
            "periodTimeRemaining": "00:41",
            "periodType": "REGULAR"
           },
           "coordinates": {
            "x": 56,
            "y": -13
           },
           "players": [
            {
             "player": {
              "fullName": "Josh Anderson",
              "id": 8476981,
              "link": "/api/v1/people/8476981"
             },
             "playerType": "Scorer",
             "seasonTotal": 3
            },
            {
             "player": {
              "fullName": "Kirby Dach",
              "id": 8481523,
              "link": "/api/v1/people/8481523"
             },
             "playerType": "Assist",
             "seasonTotal": 2
            },
            {
             "player": {
              "fullName": "Nick Suzuki",
              "id": 8480018,
              "link": "/api/v1/people/8480018"
             },
             "playerType": "Assist",
             "seasonTotal": 4
            },
            {
             "player": {
              "fullName": "Ilya Samsonov",
              "id": 8478492,
              "link": "/api/v1/people/8478492"
             },
             "playerType": "Goalie"
            }
           ],
           "result": {
            "description": "Josh Anderson (3) Wrist Shot, assists: Kirby Dach (2), Nick Suzuki (4)",
            "emptyNet": false,
            "event": "Goal",
            "eventCode": "TOR1000",
            "eventTypeId": "GOAL",
            "gameWinningGoal": false,
            "secondaryType": "Wrist Shot",
            "strength": {
             "code": "EVEN",
             "name": "Even"
            }
           },
           "team": {
            "id": 8,
            "link": "/api/v1/teams/8",
            "name": "Montréal Canadiens",
            "triCode": "MTL"
           }
          },
          {
           "about": {
            "dateTime": "2023-10-03T01:31:59Z",
            "eventId": 442,
            "eventIdx": 282,
            "goals": {
             "away": 4,
             "home": 4
            },
            "ordinalNum": "3rd",
            "period": 3,
            "periodTime": "19:19",
            "periodTimeRemaining": "00:41",
            "periodType": "REGULAR"
           },
           "coordinates": {
            "x": 0,
            "y": 0
           },
           "players": [
            {
             "player": {
              "fullName": "Jake Evans",
              "id": 8478133,
              "link": "/api/v1/people/8478133"
             },
             "playerType": "Winner"
            },
            {
             "player": {
              "fullName": "Auston Matthews",
              "id": 8479318,
              "link": "/api/v1/people/8479318"
             },
             "playerType": "Loser"
            }
           ],
           "result": {
            "description": "Jake Evans faceoff won against Auston Matthews",
            "event": "Faceoff",
            "eventCode": "TOR442",
            "eventTypeId": "FACEOFF"
           },
           "team": {
            "id": 8,
            "link": "/api/v1/teams/8",
            "name": "Montréal Canadiens",
            "triCode": "MTL"
           }
          },
          {
           "about": {
            "dateTime": "2023-10-03T01:32:24Z",
            "eventId": 1054,
            "eventIdx": 283,
            "goals": {
             "away": 4,
             "home": 4
            },
            "ordinalNum": "3rd",
            "period": 3,
            "periodTime": "19:45",
            "periodTimeRemaining": "00:15",
            "periodType": "REGULAR"
           },
           "coordinates": {
            "x": -44,
            "y": -29
           },
           "players": [
            {
             "player": {
              "fullName": "Jake McCabe",
              "id": 8476931,
              "link": "/api/v1/people/8476931"
             },
             "playerType": "Shooter"
            },
            {
             "player": {
              "fullName": "Jake Allen",
              "id": 8474596,
              "link": "/api/v1/people/8474596"
             },
             "playerType": "Goalie"
            }
           ],
           "result": {
            "description": "Jake McCabe Wrist Shot saved by Jake Allen",
            "event": "Shot",
            "eventCode": "TOR1054",
            "eventTypeId": "SHOT",
            "secondaryType": "Wrist Shot"
           },
           "team": {
            "id": 10,
            "link": "/api/v1/teams/10",
            "name": "Toronto Maple Leafs",
            "triCode": "TOR"
           }
          },
          {
           "about": {
            "dateTime": "2023-10-03T01:32:33Z",
            "eventId": 167,
            "eventIdx": 284,
            "goals": {
             "away": 4,
             "home": 4
            },
            "ordinalNum": "3rd",
            "period": 3,
            "periodTime": "19:54",
            "periodTimeRemaining": "00:06",
            "periodType": "REGULAR"
           },
           "coordinates": {
            "x": -87,
            "y": 5
           },
           "players": [
            {
             "player": {
              "fullName": "Auston Matthews",
              "id": 8479318,
              "link": "/api/v1/people/8479318"
             },
             "playerType": "Shooter"
            },
            {
             "player": {
              "fullName": "Jake Allen",
              "id": 8474596,
              "link": "/api/v1/people/8474596"
             },
             "playerType": "Goalie"
            }
           ],
           "result": {
            "description": "Auston Matthews Wrap-around saved by Jake Allen",
            "event": "Shot",
            "eventCode": "TOR167",
            "eventTypeId": "SHOT",
            "secondaryType": "Wrap-around"
           },
           "team": {
            "id": 10,
            "link": "/api/v1/teams/10",
            "name": "Toronto Maple Leafs",
            "triCode": "TOR"
           }
          },
          {
           "about": {
            "dateTime": "2023-10-03T01:32:34Z",
            "eventId": 168,
            "eventIdx": 285,
            "goals": {
             "away": 4,
             "home": 4
            },
            "ordinalNum": "3rd",
            "period": 3,
            "periodTime": "19:55",
            "periodTimeRemaining": "00:05",
            "periodType": "REGULAR"
           },
           "coordinates": {
            "x": -85,
            "y": 7
           },
           "players": [
            {
             "player": {
              "fullName": "Auston Matthews",
              "id": 8479318,
              "link": "/api/v1/people/8479318"
             },
             "playerType": "Shooter"
            },
            {
             "player": {
              "fullName": "Jake Allen",
              "id": 8474596,
              "link": "/api/v1/people/8474596"
             },
             "playerType": "Goalie"
            }
           ],
           "result": {
            "description": "Auston Matthews Wrist Shot saved by Jake Allen",
            "event": "Shot",
            "eventCode": "TOR168",
            "eventTypeId": "SHOT",
            "secondaryType": "Wrist Shot"
           },
           "team": {
            "id": 10,
            "link": "/api/v1/teams/10",
            "name": "Toronto Maple Leafs",
            "triCode": "TOR"
           }
          },
          {
           "about": {
            "dateTime": "2023-10-03T01:32:35Z",
            "eventId": 1055,
            "eventIdx": 286,
            "goals": {
             "away": 4,
             "home": 4
            },
            "ordinalNum": "3rd",
            "period": 3,
            "periodTime": "19:56",
            "periodTimeRemaining": "00:04",
            "periodType": "REGULAR"
           },
           "coordinates": {
            "x": -88,
            "y": 4
           },
           "players": [
            {
             "player": {
              "fullName": "Auston Matthews",
              "id": 8479318,
              "link": "/api/v1/people/8479318"
             },
             "playerType": "Shooter"
            },
            {
             "player": {
              "fullName": "Jake Allen",
              "id": 8474596,
              "link": "/api/v1/people/8474596"
             },
             "playerType": "Goalie"
            }
           ],
           "result": {
            "description": "Auston Matthews Wrist Shot saved by Jake Allen",
            "event": "Shot",
            "eventCode": "TOR1055",
            "eventTypeId": "SHOT",
            "secondaryType": "Wrist Shot"
           },
           "team": {
            "id": 10,
            "link": "/api/v1/teams/10",
            "name": "Toronto Maple Leafs",
            "triCode": "TOR"
           }
          },
          {
           "about": {
            "dateTime": "2023-10-03T01:32:39Z",
            "eventId": 679,
            "eventIdx": 287,
            "goals": {
             "away": 4,
             "home": 4
            },
            "ordinalNum": "3rd",
            "period": 3,
            "periodTime": "20:00",
            "periodTimeRemaining": "00:00",
            "periodType": "REGULAR"
           },
           "coordinates": {},
           "result": {
            "description": "End of 3rd Period",
            "event": "Period End",
            "eventCode": "TOR679",
            "eventTypeId": "PERIOD_END"
           }
          },
          {
           "about": {
            "dateTime": "2023-10-03T01:34:37Z",
            "eventId": 682,
            "eventIdx": 288,
            "goals": {
             "away": 4,
             "home": 4
            },
            "ordinalNum": "3rd",
            "period": 3,
            "periodTime": "20:00",
            "periodTimeRemaining": "00:00",
            "periodType": "REGULAR"
           },
           "coordinates": {},
           "result": {
            "description": "Period Official",
            "event": "Period Official",
            "eventCode": "TOR682",
            "eventTypeId": "PERIOD_OFFICIAL"
           }
          },
          {
           "about": {
            "dateTime": "2023-10-03T01:34:46Z",
            "eventId": 683,
            "eventIdx": 289,
            "goals": {
             "away": 4,
             "home": 4
            },
            "ordinalNum": "OT",
            "period": 4,
            "periodTime": "00:00",
            "periodTimeRemaining": "05:00",
            "periodType": "OVERTIME"
           },
           "coordinates": {},
           "result": {
            "description": "Period Ready",
            "event": "Period Ready",
            "eventCode": "TOR683",
            "eventTypeId": "PERIOD_READY"
           }
          },
          {
           "about": {
            "dateTime": "2023-10-03T01:35:01Z",
            "eventId": 443,
            "eventIdx": 291,
            "goals": {
             "away": 4,
             "home": 4
            },
            "ordinalNum": "OT",
            "period": 4,
            "periodTime": "00:00",
            "periodTimeRemaining": "05:00",
            "periodType": "OVERTIME"
           },
           "coordinates": {
            "x": 0,
            "y": 0
           },
           "players": [
            {
             "player": {
              "fullName": "Nick Suzuki",
              "id": 8480018,
              "link": "/api/v1/people/8480018"
             },
             "playerType": "Winner"
            },
            {
             "player": {
              "fullName": "Auston Matthews",
              "id": 8479318,
              "link": "/api/v1/people/8479318"
             },
             "playerType": "Loser"
            }
           ],
           "result": {
            "description": "Nick Suzuki faceoff won against Auston Matthews",
            "event": "Faceoff",
            "eventCode": "TOR443",
            "eventTypeId": "FACEOFF"
           },
           "team": {
            "id": 8,
            "link": "/api/v1/teams/8",
            "name": "Montréal Canadiens",
            "triCode": "MTL"
           }
          },
          {
           "about": {
            "dateTime": "2023-10-03T01:35:01Z",
            "eventId": 444,
            "eventIdx": 290,
            "goals": {
             "away": 4,
             "home": 4
            },
            "ordinalNum": "OT",
            "period": 4,
            "periodTime": "00:00",
            "periodTimeRemaining": "05:00",
            "periodType": "OVERTIME"
           },
           "coordinates": {},
           "result": {
            "description": "Period Start",
            "event": "Period Start",
            "eventCode": "TOR444",
            "eventTypeId": "PERIOD_START"
           }
          },
          {
           "about": {
            "dateTime": "2023-10-03T01:35:29Z",
            "eventId": 1059,
            "eventIdx": 292,
            "goals": {
             "away": 4,
             "home": 4
            },
            "ordinalNum": "OT",
            "period": 4,
            "periodTime": "00:28",
            "periodTimeRemaining": "04:32",
            "periodType": "OVERTIME"
           },
           "coordinates": {
            "x": -61,
            "y": -1
           },
           "players": [
            {
             "player": {
              "fullName": "Cole Caufield",
              "id": 8481540,
              "link": "/api/v1/people/8481540"
             },
             "playerType": "Shooter"
            },
            {
             "player": {
              "fullName": "Ilya Samsonov",
              "id": 8478492,
              "link": "/api/v1/people/8478492"
             },
             "playerType": "Unknown"
            }
           ],
           "result": {
            "description": "Cole Caufield Hit Right Post Ilya Samsonov",
            "event": "Missed Shot",
            "eventCode": "TOR1059",
            "eventTypeId": "MISSED_SHOT"
           },
           "team": {
            "id": 8,
            "link": "/api/v1/teams/8",
            "name": "Montréal Canadiens",
            "triCode": "MTL"
           }
          },
          {
           "about": {
            "dateTime": "2023-10-03T01:35:32Z",
            "eventId": 169,
            "eventIdx": 293,
            "goals": {
             "away": 5,
             "home": 4
            },
            "ordinalNum": "OT",
            "period": 4,
            "periodTime": "00:31",
            "periodTimeRemaining": "04:29",
            "periodType": "OVERTIME"
           },
           "coordinates": {
            "x": -68,
            "y": 3
           },
           "players": [
            {
             "player": {
              "fullName": "Nick Suzuki",
              "id": 8480018,
              "link": "/api/v1/people/8480018"
             },
             "playerType": "Scorer",
             "seasonTotal": 1
            },
            {
             "player": {
              "fullName": "Cole Caufield",
              "id": 8481540,
              "link": "/api/v1/people/8481540"
             },
             "playerType": "Assist",
             "seasonTotal": 2
            },
            {
             "player": {
              "fullName": "Jordan Harris",
              "id": 8480887,
              "link": "/api/v1/people/8480887"
             },
             "playerType": "Assist",
             "seasonTotal": 1
            },
            {
             "player": {
              "fullName": "Ilya Samsonov",
              "id": 8478492,
              "link": "/api/v1/people/8478492"
             },
             "playerType": "Goalie"
            }
           ],
           "result": {
            "description": "Nick Suzuki (1) Wrist Shot, assists: Cole Caufield (2), Jordan Harris (1)",
            "emptyNet": false,
            "event": "Goal",
            "eventCode": "TOR169",
            "eventTypeId": "GOAL",
            "gameWinningGoal": true,
            "secondaryType": "Wrist Shot",
            "strength": {
             "code": "EVEN",
             "name": "Even"
            }
           },
           "team": {
            "id": 8,
            "link": "/api/v1/teams/8",
            "name": "Montréal Canadiens",
            "triCode": "MTL"
           }
          },
          {
           "about": {
            "dateTime": "2023-10-03T01:35:32Z",
            "eventId": 684,
            "eventIdx": 294,
            "goals": {
             "away": 5,
             "home": 4
            },
            "ordinalNum": "OT",
            "period": 4,
            "periodTime": "00:31",
            "periodTimeRemaining": "04:29",
            "periodType": "OVERTIME"
           },
           "coordinates": {},
           "result": {
            "description": "End of OT",
            "event": "Period End",
            "eventCode": "TOR684",
            "eventTypeId": "PERIOD_END"
           }
          },
          {
           "about": {
            "dateTime": "2023-10-03T01:35:32Z",
            "eventId": 687,
            "eventIdx": 295,
            "goals": {
             "away": 5,
             "home": 4
            },
            "ordinalNum": "OT",
            "period": 4,
            "periodTime": "00:31",
            "periodTimeRemaining": "04:29",
            "periodType": "OVERTIME"
           },
           "coordinates": {},
           "result": {
            "description": "Period Official",
            "event": "Period Official",
            "eventCode": "TOR687",
            "eventTypeId": "PERIOD_OFFICIAL"
           }
          },
          {
           "about": {
            "dateTime": "2023-10-03T01:35:32Z",
            "eventId": 688,
            "eventIdx": 296,
            "goals": {
             "away": 5,
             "home": 4
            },
            "ordinalNum": "OT",
            "period": 4,
            "periodTime": "00:31",
            "periodTimeRemaining": "04:29",
            "periodType": "OVERTIME"
           },
           "coordinates": {},
           "result": {
            "description": "Game End",
            "event": "Game End",
            "eventCode": "TOR688",
            "eventTypeId": "GAME_END"
           }
          },
          {
           "about": {
            "dateTime": "2023-10-04T03:39:26Z",
            "eventId": 1463,
            "eventIdx": 297,
            "goals": {
             "away": 5,
             "home": 4
            },
            "ordinalNum": "OT",
            "period": 4,
            "periodTime": "00:31",
            "periodTimeRemaining": "04:29",
            "periodType": "OVERTIME"
           },
           "coordinates": {},
           "result": {
            "description": "Game Official",
            "event": "Game Official",
            "eventCode": "TOR1463",
            "eventTypeId": "GAME_OFFICIAL"
           }
          }
         ],
         "currentPlay": {
          "about": {
           "dateTime": "2023-10-04T03:39:26Z",
           "eventId": 1463,
           "eventIdx": 297,
           "goals": {
            "away": 5,
            "home": 4
           },
           "ordinalNum": "OT",
           "period": 4,
           "periodTime": "00:31",
           "periodTimeRemaining": "04:29",
           "periodType": "OVERTIME"
          },
          "coordinates": {},
          "result": {
           "description": "Game Official",
           "event": "Game Official",
           "eventCode": "TOR1463",
           "eventTypeId": "GAME_OFFICIAL"
          }
         },
         "penaltyPlays": [
          17,
          60,
          75,
          139,
          154,
          181,
          182,
          212,
          220
         ],
         "playsByPeriod": [
          {
           "endIndex": 95,
           "plays": [
            0,
            1,
            2,
            3,
            4,
            5,
            6,
            7,
            8,
            9,
            10,
            11,
            12,
            13,
            14,
            15,
            16,
            17,
            18,
            19,
            20,
            21,
            22,
            23,
            24,
            25,
            26,
            27,
            28,
            29,
            30,
            31,
            32,
            33,
            34,
            35,
            36,
            37,
            38,
            39,
            40,
            41,
            42,
            43,
            44,
            45,
            46,
            47,
            48,
            49,
            50,
            51,
            52,
            53,
            54,
            55,
            56,
            57,
            58,
            59,
            60,
            61,
            62,
            63,
            64,
            65,
            66,
            67,
            68,
            69,
            70,
            71,
            72,
            73,
            74,
            75,
            76,
            77,
            78,
            79,
            80,
            81,
            82,
            83,
            84,
            85,
            86,
            87,
            88,
            89,
            90,
            91,
            92,
            93,
            94,
            95,
            96
           ],
           "startIndex": 0
          },
          {
           "endIndex": 195,
           "plays": [
            97,
            98,
            99,
            100,
            101,
            102,
            103,
            104,
            105,
            106,
            107,
            108,
            109,
            110,
            111,
            112,
            113,
            114,
            115,
            116,
            117,
            118,
            119,
            120,
            121,
            122,
            123,
            124,
            125,
            126,
            127,
            128,
            129,
            130,
            131,
            132,
            133,
            134,
            135,
            136,
            137,
            138,
            139,
            140,
            141,
            142,
            143,
            144,
            145,
            146,
            147,
            148,
            149,
            150,
            151,
            152,
            153,
            154,
            155,
            156,
            157,
            158,
            159,
            160,
            161,
            162,
            163,
            164,
            165,
            166,
            167,
            168,
            169,
            170,
            171,
            172,
            173,
            174,
            175,
            176,
            177,
            178,
            179,
            180,
            181,
            182,
            183,
            184,
            185,
            186,
            187,
            188,
            189,
            190,
            191,
            192,
            193,
            194,
            195,
            196
           ],
           "startIndex": 97
          },
          {
           "endIndex": 287,
           "plays": [
            197,
            198,
            199,
            200,
            201,
            202,
            203,
            204,
            205,
            206,
            207,
            208,
            209,
            210,
            211,
            212,
            213,
            214,
            215,
            216,
            217,
            218,
            219,
            220,
            221,
            222,
            223,
            224,
            225,
            226,
            227,
            228,
            229,
            230,
            231,
            232,
            233,
            234,
            235,
            236,
            237,
            238,
            239,
            240,
            241,
            242,
            243,
            244,
            245,
            246,
            247,
            248,
            249,
            250,
            251,
            252,
            253,
            254,
            255,
            256,
            257,
            258,
            259,
            260,
            261,
            262,
            263,
            264,
            265,
            266,
            267,
            268,
            269,
            270,
            271,
            272,
            273,
            274,
            275,
            276,
            277,
            278,
            279,
            280,
            281,
            282,
            283,
            284,
            285,
            286,
            287,
            288
           ],
           "startIndex": 197
          },
          {
           "endIndex": 297,
           "plays": [
            289,
            290,
            291,
            292,
            293,
            294,
            295,
            296,
            297
           ],
           "startIndex": 289
          }
         ],
         "scoringPlays": [
          19,
          37,
          67,
          161,
          192,
          243,
          251,
          281,
          293
         ]
        }
       },
       "metaData": {
        "timeStamp": "20231004_041900",
        "wait": 10
       }
      },
      "text/plain": [
       "<IPython.core.display.JSON object>"
      ]
     },
     "execution_count": 4,
     "metadata": {
      "application/json": {
       "expanded": false,
       "root": "root"
      }
     },
     "output_type": "execute_result"
    }
   ],
   "source": [
    "from IPython.display import JSON\n",
    "JSON(game_info)"
   ]
  },
  {
   "cell_type": "code",
   "execution_count": 5,
   "id": "2ab9e373-7bee-41f1-a668-8f390bb29fbe",
   "metadata": {},
   "outputs": [],
   "source": [
    "#create empty lists to pull from json and create dataframe \n",
    "team_id = []\n",
    "home_team = []\n",
    "period = []\n",
    "event_id = []\n",
    "event_index = []\n",
    "event_type = []\n",
    "x_coor = [] \n",
    "y_coor = []"
   ]
  },
  {
   "cell_type": "code",
   "execution_count": 6,
   "id": "11109d40-c0e9-447c-b749-c740d81fb4de",
   "metadata": {},
   "outputs": [],
   "source": [
    "#pull data from JSON into a list - for event type \n",
    "live_game_info = game_info['liveData']['plays']['allPlays']\n",
    "\n",
    "for i in range(len(live_game_info)):\n",
    "    #only want the data for shots (shot on goal, missed shots, blocked shots, goals)\n",
    "    if (live_game_info[i]['result']['eventTypeId']) in ['SHOT', 'MISSED_SHOT', 'BLOCKED_SHOT', 'GOAL']:\n",
    "        team_id.append(live_game_info[i]['team']['id'])\n",
    "        period.append(live_game_info[i]['about']['period'])\n",
    "        event_index.append(live_game_info[i]['about']['eventIdx'])\n",
    "        event_id.append(live_game_info[i]['about']['eventId'])\n",
    "        event_type.append(live_game_info[i]['result']['eventTypeId'])\n",
    "        x_coor.append(live_game_info[i]['coordinates']['x'])\n",
    "        y_coor.append(live_game_info[i]['coordinates']['y'])\n",
    "    else:\n",
    "        pass "
   ]
  },
  {
   "cell_type": "code",
   "execution_count": 7,
   "id": "fda83cfd-6cc3-4018-93da-dd26d5ebfaea",
   "metadata": {},
   "outputs": [],
   "source": [
    "#create dataframe\n",
    "game_data = pd.DataFrame(list(zip(team_id, period, event_index, event_id, event_type, x_coor, y_coor)),\n",
    "               columns =['team_id', 'period', 'event_index', 'event_id', 'event_type', 'x_coor', 'y_coor'])"
   ]
  },
  {
   "cell_type": "code",
   "execution_count": 8,
   "id": "0dfc8f0b-a4c3-4967-b430-fc80a3d78f73",
   "metadata": {},
   "outputs": [],
   "source": [
    "#change team for opponent-blocked shots as the team is recorded as the team that blocked the shot not the one who shot the puck \n",
    "#set columns as variables \n",
    "team  = game_data['team_id']\n",
    "event = game_data['event_type']\n",
    "    \n",
    "#list of conditions \n",
    "conditions = [\n",
    "    (team == 8) & (event == 'BLOCKED_SHOT')\n",
    "    ,(team == 10) & (event == 'BLOCKED_SHOT')\n",
    "    ]\n",
    "    \n",
    "#list of values to return \n",
    "value = [\n",
    "        10\n",
    "        ,8\n",
    "    ]  \n",
    "        \n",
    "#creates a new column in the dataframe based on the conditions \n",
    "game_data['team_id'] = np.select(conditions, value, game_data['team_id'])"
   ]
  },
  {
   "cell_type": "code",
   "execution_count": 10,
   "id": "8925b7ac-ee42-40e0-869c-dba8ed1ff155",
   "metadata": {},
   "outputs": [],
   "source": [
    "#alter the team for the 3 teammate blocks - as they now be the opposite team aas we just switched all blocks \n",
    "#teammate blocks were determined by usinh the NHL's play-by-play info\n",
    "game_data.at[26,'team_id'] = 8\n",
    "game_data.at[32,'team_id'] = 8\n",
    "game_data.at[39,'team_id'] = 10\n",
    "\n",
    "#play-by-play had this shot as MTL shooting blocked by TOR - it was actually TOR shooting blocked by MTL \n",
    "game_data.at[74,'team_id'] = 10"
   ]
  },
  {
   "cell_type": "code",
   "execution_count": 12,
   "id": "71e4bb9b-f5f9-4572-ba67-7e2deb5fa457",
   "metadata": {},
   "outputs": [],
   "source": [
    "#add home team info to dataframe \n",
    "#Toronto (10) is the home team, Montreal (8) is the away time\n",
    "game_data['home_team'] = np.where(game_data['team_id']== 10, 1, 0)"
   ]
  },
  {
   "cell_type": "code",
   "execution_count": 13,
   "id": "8e9d37bc-03d0-4d2b-8f55-2b45d20a1356",
   "metadata": {},
   "outputs": [
    {
     "data": {
      "text/html": [
       "<div>\n",
       "<style scoped>\n",
       "    .dataframe tbody tr th:only-of-type {\n",
       "        vertical-align: middle;\n",
       "    }\n",
       "\n",
       "    .dataframe tbody tr th {\n",
       "        vertical-align: top;\n",
       "    }\n",
       "\n",
       "    .dataframe thead th {\n",
       "        text-align: right;\n",
       "    }\n",
       "</style>\n",
       "<table border=\"1\" class=\"dataframe\">\n",
       "  <thead>\n",
       "    <tr style=\"text-align: right;\">\n",
       "      <th></th>\n",
       "      <th>team_id</th>\n",
       "      <th>period</th>\n",
       "      <th>event_index</th>\n",
       "      <th>event_id</th>\n",
       "      <th>event_type</th>\n",
       "      <th>x_coor</th>\n",
       "      <th>y_coor</th>\n",
       "      <th>home_team</th>\n",
       "    </tr>\n",
       "  </thead>\n",
       "  <tbody>\n",
       "    <tr>\n",
       "      <th>0</th>\n",
       "      <td>8</td>\n",
       "      <td>1</td>\n",
       "      <td>4</td>\n",
       "      <td>54</td>\n",
       "      <td>SHOT</td>\n",
       "      <td>56.0</td>\n",
       "      <td>9.0</td>\n",
       "      <td>0</td>\n",
       "    </tr>\n",
       "    <tr>\n",
       "      <th>1</th>\n",
       "      <td>8</td>\n",
       "      <td>1</td>\n",
       "      <td>6</td>\n",
       "      <td>55</td>\n",
       "      <td>SHOT</td>\n",
       "      <td>95.0</td>\n",
       "      <td>21.0</td>\n",
       "      <td>0</td>\n",
       "    </tr>\n",
       "  </tbody>\n",
       "</table>\n",
       "</div>"
      ],
      "text/plain": [
       "   team_id  period  event_index  event_id event_type  x_coor  y_coor  \\\n",
       "0        8       1            4        54       SHOT    56.0     9.0   \n",
       "1        8       1            6        55       SHOT    95.0    21.0   \n",
       "\n",
       "   home_team  \n",
       "0          0  \n",
       "1          0  "
      ]
     },
     "execution_count": 13,
     "metadata": {},
     "output_type": "execute_result"
    }
   ],
   "source": [
    "game_data.head(2)"
   ]
  },
  {
   "cell_type": "code",
   "execution_count": 14,
   "id": "be85df5d-3b86-4435-a3fa-4bad209a1711",
   "metadata": {},
   "outputs": [],
   "source": [
    "#create empty lists to pull from json and create dataframe \n",
    "period = []\n",
    "h_rinkside = []\n",
    "a_rinkside = []"
   ]
  },
  {
   "cell_type": "code",
   "execution_count": 15,
   "id": "d42ca009-05f4-4039-9f24-3549a7185cc5",
   "metadata": {},
   "outputs": [],
   "source": [
    "#pull data from JSON into a list - for rinksides \n",
    "periods = game_info['liveData']['linescore']['periods']\n",
    "\n",
    "for i in range(len(periods)):\n",
    "    period.append(periods[i]['num'])\n",
    "    h_rinkside.append(periods[i]['home']['rinkSide'])\n",
    "    a_rinkside.append(periods[i]['away']['rinkSide'])"
   ]
  },
  {
   "cell_type": "code",
   "execution_count": 16,
   "id": "81093918-9386-4a9e-9c19-0bacb88d7c57",
   "metadata": {},
   "outputs": [],
   "source": [
    "#create dataframe - period location information \n",
    "#create dataframe\n",
    "location_info = pd.DataFrame(list(zip(period, h_rinkside, a_rinkside)),\n",
    "               columns =['period', 'h_rinkside', 'a_rinkside'])"
   ]
  },
  {
   "cell_type": "code",
   "execution_count": 17,
   "id": "0ead6769-20f6-486a-b436-408c1cf4e7c9",
   "metadata": {},
   "outputs": [
    {
     "data": {
      "text/html": [
       "<div>\n",
       "<style scoped>\n",
       "    .dataframe tbody tr th:only-of-type {\n",
       "        vertical-align: middle;\n",
       "    }\n",
       "\n",
       "    .dataframe tbody tr th {\n",
       "        vertical-align: top;\n",
       "    }\n",
       "\n",
       "    .dataframe thead th {\n",
       "        text-align: right;\n",
       "    }\n",
       "</style>\n",
       "<table border=\"1\" class=\"dataframe\">\n",
       "  <thead>\n",
       "    <tr style=\"text-align: right;\">\n",
       "      <th></th>\n",
       "      <th>period</th>\n",
       "      <th>h_rinkside</th>\n",
       "      <th>a_rinkside</th>\n",
       "    </tr>\n",
       "  </thead>\n",
       "  <tbody>\n",
       "    <tr>\n",
       "      <th>0</th>\n",
       "      <td>1</td>\n",
       "      <td>right</td>\n",
       "      <td>left</td>\n",
       "    </tr>\n",
       "    <tr>\n",
       "      <th>1</th>\n",
       "      <td>2</td>\n",
       "      <td>left</td>\n",
       "      <td>right</td>\n",
       "    </tr>\n",
       "    <tr>\n",
       "      <th>2</th>\n",
       "      <td>3</td>\n",
       "      <td>right</td>\n",
       "      <td>left</td>\n",
       "    </tr>\n",
       "    <tr>\n",
       "      <th>3</th>\n",
       "      <td>4</td>\n",
       "      <td>left</td>\n",
       "      <td>right</td>\n",
       "    </tr>\n",
       "  </tbody>\n",
       "</table>\n",
       "</div>"
      ],
      "text/plain": [
       "   period h_rinkside a_rinkside\n",
       "0       1      right       left\n",
       "1       2       left      right\n",
       "2       3      right       left\n",
       "3       4       left      right"
      ]
     },
     "execution_count": 17,
     "metadata": {},
     "output_type": "execute_result"
    }
   ],
   "source": [
    "location_info.head()"
   ]
  },
  {
   "cell_type": "code",
   "execution_count": 18,
   "id": "77952383-dc90-4c6d-aa77-3243f51075c2",
   "metadata": {},
   "outputs": [],
   "source": [
    "def team_rinkside(df):\n",
    "    '''defines which side of the rink the home/away team is on each period'''\n",
    "    \n",
    "    #set columns as variables \n",
    "    home_team  = df['home_team']\n",
    "    period = df['period']\n",
    "    \n",
    "    #list of conditions \n",
    "    conditions = [\n",
    "         (home_team == 1) & (period == 1)\n",
    "        ,(home_team == 1) & (period == 2)\n",
    "        ,(home_team == 1) & (period == 3)\n",
    "        ,(home_team == 1) & (period == 4)\n",
    "        ,(home_team == 0) & (period == 1)\n",
    "        ,(home_team == 0) & (period == 2)\n",
    "        ,(home_team == 0) & (period == 3)\n",
    "        ,(home_team == 0) & (period == 4)\n",
    "    ]\n",
    "    \n",
    "     #list of values to return \n",
    "    rinkside = [\n",
    "         'right'\n",
    "        ,'left'\n",
    "        ,'right'\n",
    "        ,'left'\n",
    "        ,'left'\n",
    "        ,'right'\n",
    "        ,'left'\n",
    "        ,'right'\n",
    "    ]  \n",
    "        \n",
    "    #creates a new column in the dataframe based on the conditions \n",
    "    df['rinkside'] = np.select(conditions, rinkside, 'ERROR')"
   ]
  },
  {
   "cell_type": "code",
   "execution_count": 19,
   "id": "40ee9618-c81d-47c6-bc9d-4c90b996b7cb",
   "metadata": {},
   "outputs": [],
   "source": [
    "team_rinkside(game_data)"
   ]
  },
  {
   "cell_type": "code",
   "execution_count": 20,
   "id": "233e9ca2-0b25-40f9-bb55-06a993c231ec",
   "metadata": {},
   "outputs": [
    {
     "data": {
      "text/html": [
       "<div>\n",
       "<style scoped>\n",
       "    .dataframe tbody tr th:only-of-type {\n",
       "        vertical-align: middle;\n",
       "    }\n",
       "\n",
       "    .dataframe tbody tr th {\n",
       "        vertical-align: top;\n",
       "    }\n",
       "\n",
       "    .dataframe thead th {\n",
       "        text-align: right;\n",
       "    }\n",
       "</style>\n",
       "<table border=\"1\" class=\"dataframe\">\n",
       "  <thead>\n",
       "    <tr style=\"text-align: right;\">\n",
       "      <th></th>\n",
       "      <th>team_id</th>\n",
       "      <th>period</th>\n",
       "      <th>event_index</th>\n",
       "      <th>event_id</th>\n",
       "      <th>event_type</th>\n",
       "      <th>x_coor</th>\n",
       "      <th>y_coor</th>\n",
       "      <th>home_team</th>\n",
       "      <th>rinkside</th>\n",
       "    </tr>\n",
       "  </thead>\n",
       "  <tbody>\n",
       "    <tr>\n",
       "      <th>0</th>\n",
       "      <td>8</td>\n",
       "      <td>1</td>\n",
       "      <td>4</td>\n",
       "      <td>54</td>\n",
       "      <td>SHOT</td>\n",
       "      <td>56.0</td>\n",
       "      <td>9.0</td>\n",
       "      <td>0</td>\n",
       "      <td>left</td>\n",
       "    </tr>\n",
       "    <tr>\n",
       "      <th>1</th>\n",
       "      <td>8</td>\n",
       "      <td>1</td>\n",
       "      <td>6</td>\n",
       "      <td>55</td>\n",
       "      <td>SHOT</td>\n",
       "      <td>95.0</td>\n",
       "      <td>21.0</td>\n",
       "      <td>0</td>\n",
       "      <td>left</td>\n",
       "    </tr>\n",
       "  </tbody>\n",
       "</table>\n",
       "</div>"
      ],
      "text/plain": [
       "   team_id  period  event_index  event_id event_type  x_coor  y_coor  \\\n",
       "0        8       1            4        54       SHOT    56.0     9.0   \n",
       "1        8       1            6        55       SHOT    95.0    21.0   \n",
       "\n",
       "   home_team rinkside  \n",
       "0          0     left  \n",
       "1          0     left  "
      ]
     },
     "execution_count": 20,
     "metadata": {},
     "output_type": "execute_result"
    }
   ],
   "source": [
    "game_data.head(2)"
   ]
  },
  {
   "cell_type": "code",
   "execution_count": 22,
   "id": "61be84f5-850f-4b34-b090-32ec5a26fd59",
   "metadata": {},
   "outputs": [],
   "source": [
    "#save the dataframe to csv\n",
    "#game_data.to_csv('game_data.csv')"
   ]
  }
 ],
 "metadata": {
  "kernelspec": {
   "display_name": "lighthouse",
   "language": "python",
   "name": "lighthouse"
  },
  "language_info": {
   "codemirror_mode": {
    "name": "ipython",
    "version": 3
   },
   "file_extension": ".py",
   "mimetype": "text/x-python",
   "name": "python",
   "nbconvert_exporter": "python",
   "pygments_lexer": "ipython3",
   "version": "3.9.13"
  }
 },
 "nbformat": 4,
 "nbformat_minor": 5
}
