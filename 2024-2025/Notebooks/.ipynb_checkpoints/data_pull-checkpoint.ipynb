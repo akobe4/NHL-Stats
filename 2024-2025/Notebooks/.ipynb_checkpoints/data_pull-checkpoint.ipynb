{
 "cells": [
  {
   "cell_type": "code",
   "execution_count": 1,
   "id": "b992d7db-f056-4f05-a844-fbdd1384a4de",
   "metadata": {},
   "outputs": [],
   "source": [
    "import pandas as pd \n",
    "import requests\n",
    "import os\n",
    "import json\n",
    "import numpy as np"
   ]
  },
  {
   "cell_type": "code",
   "execution_count": 2,
   "id": "1f35e4b9-3903-4c69-937c-28d30c9939f7",
   "metadata": {},
   "outputs": [],
   "source": [
    "#create game number list\n",
    "#game numbers range from 0001-1312\n",
    "\n",
    "game_number_list = list(range(1,1313))"
   ]
  },
  {
   "cell_type": "code",
   "execution_count": 3,
   "id": "982854b1-4ed4-4d5c-834f-ae799f3920fa",
   "metadata": {},
   "outputs": [],
   "source": [
    "#pad the game number list with leading zeros to create a number that is 4-digits\n",
    "game_number_list_pad = [str(number).zfill(4) for number in game_number_list]"
   ]
  },
  {
   "cell_type": "code",
   "execution_count": 4,
   "id": "3ee61cb0-d703-47e5-b61b-9f32997034a2",
   "metadata": {},
   "outputs": [],
   "source": [
    "#create lists in smaller sections - for ease of pulling data\n",
    "game_number_list_1 = game_number_list_pad[:500]\n",
    "game_number_list_2 = game_number_list_pad[500:1000]\n",
    "game_number_list_3 = game_number_list_pad[1000:]"
   ]
  },
  {
   "cell_type": "markdown",
   "id": "d3ed67fa-fc0c-4bc0-b408-c2f00c2ee929",
   "metadata": {},
   "source": [
    "# Pull game data - game #'s 2024020001-2024020500"
   ]
  },
  {
   "cell_type": "code",
   "execution_count": 5,
   "id": "2930ec3a-8d9e-480a-9140-c9e4025d2c25",
   "metadata": {},
   "outputs": [],
   "source": [
    "#create the url's for each game number - 1 \n",
    "all_url_1 = []\n",
    "\n",
    "for i in range(len(game_number_list_1)):\n",
    "    game_number_1 = game_number_list_1[i]\n",
    "    game_number_url_1 = 'https://api-web.nhle.com/v1/gamecenter/202402'+str(game_number_1)+'/play-by-play'\n",
    "    all_url_1.append(game_number_url_1)"
   ]
  },
  {
   "cell_type": "code",
   "execution_count": 7,
   "id": "72e1218c-a381-46da-947b-66d620546579",
   "metadata": {},
   "outputs": [],
   "source": [
    "#pull the game data from NHL url 1 \n",
    "game_data_1 = []\n",
    "\n",
    "for i in range(len(all_url_1)):\n",
    "    response_1 = requests.get(all_url_1[i])\n",
    "    game_data_1.append(response_1.json())"
   ]
  },
  {
   "cell_type": "code",
   "execution_count": 11,
   "id": "5c505d22-626e-4111-81e1-cafdb20d7ad9",
   "metadata": {},
   "outputs": [],
   "source": [
    "#from IPython.display import JSON\n",
    "#JSON(game_data_1)"
   ]
  },
  {
   "cell_type": "code",
   "execution_count": 10,
   "id": "3db034d4-d831-4946-ae0a-45a113fb289f",
   "metadata": {},
   "outputs": [],
   "source": [
    "#Store the JSON data in a file\n",
    "#with open(\"game_data_1.json\", \"w\") as file:\n",
    "#    json.dump(game_data_1, file)"
   ]
  },
  {
   "cell_type": "markdown",
   "id": "fbe80ec5-1e19-4a35-a90d-81037473b889",
   "metadata": {},
   "source": [
    "# Pull game data - game #'s 2024020501-2024021000"
   ]
  },
  {
   "cell_type": "code",
   "execution_count": 12,
   "id": "231671ce-4e25-4ce6-b370-7fc8387c7b50",
   "metadata": {},
   "outputs": [],
   "source": [
    "#create the url's for each game number - 2 \n",
    "all_url_2 = []\n",
    "\n",
    "for i in range(len(game_number_list_2)):\n",
    "    game_number_2 = game_number_list_2[i]\n",
    "    game_number_url_2 = 'https://api-web.nhle.com/v1/gamecenter/202402'+str(game_number_2)+'/play-by-play'\n",
    "    all_url_2.append(game_number_url_2)"
   ]
  },
  {
   "cell_type": "code",
   "execution_count": 13,
   "id": "22b9633d-051e-40fd-bb6b-5286969ce4e6",
   "metadata": {},
   "outputs": [],
   "source": [
    "#pull the game data from NHL url 2\n",
    "game_data_2 = []\n",
    "\n",
    "for i in range(len(all_url_2)):\n",
    "    response_2 = requests.get(all_url_2[i])\n",
    "    game_data_2.append(response_2.json())"
   ]
  },
  {
   "cell_type": "code",
   "execution_count": 16,
   "id": "03f57faf-8bba-453c-8582-61ec8b38098a",
   "metadata": {},
   "outputs": [],
   "source": [
    "#from IPython.display import JSON\n",
    "#JSON(game_data_2)"
   ]
  },
  {
   "cell_type": "code",
   "execution_count": 17,
   "id": "26b81531-4340-48f7-ad6d-708ebf69e32e",
   "metadata": {},
   "outputs": [],
   "source": [
    "#Store the JSON data in a file\n",
    "#with open(\"game_data_2.json\", \"w\") as file:\n",
    "#    json.dump(game_data_2, file)"
   ]
  },
  {
   "cell_type": "markdown",
   "id": "bf1af566-4259-42c1-a7e0-d267376ba8d5",
   "metadata": {},
   "source": [
    "# Pull game data - game #'s 2024021001-2024021312"
   ]
  },
  {
   "cell_type": "code",
   "execution_count": 18,
   "id": "7a2ef8e4-746e-4c2b-996c-e974b050ac8b",
   "metadata": {},
   "outputs": [],
   "source": [
    "#create the url's for each game number - 3\n",
    "all_url_3 = []\n",
    "\n",
    "for i in range(len(game_number_list_3)):\n",
    "    game_number_3 = game_number_list_3[i]\n",
    "    game_number_url_3 = 'https://api-web.nhle.com/v1/gamecenter/202402'+str(game_number_3)+'/play-by-play'\n",
    "    all_url_3.append(game_number_url_3)"
   ]
  },
  {
   "cell_type": "code",
   "execution_count": 20,
   "id": "97802bb1-1844-4e54-81e7-7b5a17cad748",
   "metadata": {},
   "outputs": [],
   "source": [
    "#pull the game data from NHL url 3\n",
    "game_data_3 = []\n",
    "\n",
    "for i in range(len(all_url_3)):\n",
    "    response_3 = requests.get(all_url_3[i])\n",
    "    game_data_3.append(response_3.json())"
   ]
  },
  {
   "cell_type": "code",
   "execution_count": 24,
   "id": "0d36e8c8-5cc1-4852-842e-4227cedd37c6",
   "metadata": {},
   "outputs": [],
   "source": [
    "#from IPython.display import JSON\n",
    "#JSON(game_data_3)"
   ]
  },
  {
   "cell_type": "code",
   "execution_count": 23,
   "id": "dd763f0c-4f7c-4223-aef9-4c09bbe820db",
   "metadata": {},
   "outputs": [],
   "source": [
    "#Store the JSON data in a file\n",
    "#with open(\"game_data_3.json\", \"w\") as file:\n",
    "#    json.dump(game_data_3, file)"
   ]
  }
 ],
 "metadata": {
  "kernelspec": {
   "display_name": "Python 3 (ipykernel)",
   "language": "python",
   "name": "python3"
  },
  "language_info": {
   "codemirror_mode": {
    "name": "ipython",
    "version": 3
   },
   "file_extension": ".py",
   "mimetype": "text/x-python",
   "name": "python",
   "nbconvert_exporter": "python",
   "pygments_lexer": "ipython3",
   "version": "3.13.5"
  }
 },
 "nbformat": 4,
 "nbformat_minor": 5
}
