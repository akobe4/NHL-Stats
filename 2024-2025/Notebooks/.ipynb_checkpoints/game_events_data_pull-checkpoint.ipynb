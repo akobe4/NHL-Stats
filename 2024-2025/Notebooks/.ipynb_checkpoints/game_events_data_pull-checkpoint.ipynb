{
 "cells": [
  {
   "cell_type": "code",
   "execution_count": 1,
   "id": "48229b4c-9764-476b-a99b-7fb01052156b",
   "metadata": {},
   "outputs": [],
   "source": [
    "import pandas as pd \n",
    "import requests\n",
    "import os\n",
    "import json\n",
    "import numpy as np"
   ]
  },
  {
   "cell_type": "code",
   "execution_count": 2,
   "id": "dc643b12-5e84-40e9-b560-3c303411b8a0",
   "metadata": {},
   "outputs": [],
   "source": [
    "# Opening JSON file\n",
    "f = open(r'C:\\Users\\Alex\\Documents\\NHL-Stats\\2024-2025\\Data\\JSON_files\\game_data_all_play_by_play.json')\n",
    "game_data = json.load(f)"
   ]
  },
  {
   "cell_type": "code",
   "execution_count": 41,
   "id": "9d0786b1-f551-4ef4-a8fb-310abf07f172",
   "metadata": {},
   "outputs": [],
   "source": [
    "#from IPython.display import JSON\n",
    "#JSON(game_data)"
   ]
  },
  {
   "cell_type": "markdown",
   "id": "8f61e329-7764-46fe-97a9-97485088b033",
   "metadata": {},
   "source": [
    "## Faceoffs "
   ]
  },
  {
   "cell_type": "code",
   "execution_count": 11,
   "id": "5a50bcf5-db2b-46ee-8af5-eed85cbc7a3f",
   "metadata": {},
   "outputs": [],
   "source": [
    "#empty lists to create game events data frame: faceoff \n",
    "#all\n",
    "game_id = []\n",
    "period = []\n",
    "event_id = []\n",
    "time_in_period = []\n",
    "time_remaining = []\n",
    "situation_code = []\n",
    "home_def_code = []\n",
    "type_code = []\n",
    "event_name = []\n",
    "\n",
    "#details \n",
    "#all\n",
    "event_owner_team_id = []\n",
    "zone_code = []\n",
    "x_coord = []\n",
    "y_coord = []\n",
    "\n",
    "#faceoff specific \n",
    "l_player_id = []\n",
    "w_player_id = []"
   ]
  },
  {
   "cell_type": "code",
   "execution_count": 12,
   "id": "bf454485-1f2e-4102-949b-feb3f083e969",
   "metadata": {},
   "outputs": [],
   "source": [
    "#create lists from json - game events - faceoffs \n",
    "for i in range(len(game_data)):\n",
    "    for j in game_data[i]['plays']:\n",
    "        if j['typeDescKey'] == 'faceoff':\n",
    "            game_id.append(game_data[i]['id'])\n",
    "            period.append(j['periodDescriptor']['number'])\n",
    "            event_id.append(j['eventId'])\n",
    "            time_in_period.append(j['timeInPeriod'])\n",
    "            time_remaining.append(j['timeRemaining'])\n",
    "            situation_code.append(j['situationCode'])\n",
    "            home_def_code.append(j['homeTeamDefendingSide'])\n",
    "            type_code.append(j['typeCode'])\n",
    "            event_name.append(j['typeDescKey'])\n",
    "\n",
    "            event_owner_team_id.append(j['details']['eventOwnerTeamId'])\n",
    "            zone_code.append(j['details']['zoneCode'])\n",
    "            x_coord.append(j['details']['xCoord'])\n",
    "            y_coord.append(j['details']['yCoord'])\n",
    "\n",
    "            l_player_id.append(j['details']['losingPlayerId'])\n",
    "            w_player_id.append(j['details']['winningPlayerId'])\n",
    "        else:\n",
    "            pass"
   ]
  },
  {
   "cell_type": "code",
   "execution_count": 18,
   "id": "f382bfda-439e-4213-93bf-e3684d7b0769",
   "metadata": {},
   "outputs": [],
   "source": [
    "#create a data frame with faceoff information \n",
    "faceoffs = pd.DataFrame(list(zip(game_id, period, event_id, time_in_period, time_remaining, situation_code,\n",
    "                                        home_def_code, type_code, event_name, event_owner_team_id, zone_code,\n",
    "                                        x_coord, y_coord, l_player_id, w_player_id)),\n",
    "               columns =['game_id', 'period', 'event_id', 'time_in_period', 'time_remaining', 'situation_code',\n",
    "                                        'home_def_code', 'type_code', 'event_name', 'event_owner_team_id', 'zone_code',\n",
    "                                        'x_coord', 'y_coord', 'l_player_id', 'w_player_id'])"
   ]
  },
  {
   "cell_type": "code",
   "execution_count": 22,
   "id": "4d0a6d70-792f-4bff-a9d2-4408f214f82b",
   "metadata": {},
   "outputs": [],
   "source": [
    "#create a csv of the faceoff info\n",
    "#faceoffs.to_csv('faceoffs.csv', index=False)"
   ]
  },
  {
   "cell_type": "markdown",
   "id": "e24edf96-61c1-4858-ad5d-eccca473c9ec",
   "metadata": {},
   "source": [
    "## Penalties"
   ]
  },
  {
   "cell_type": "code",
   "execution_count": 24,
   "id": "9cffa939-50f1-42f0-af1a-d95d22cb1a16",
   "metadata": {},
   "outputs": [],
   "source": [
    "#empty lists to create game events data frame: penalties\n",
    "#all\n",
    "game_id = []\n",
    "period = []\n",
    "event_id = []\n",
    "time_in_period = []\n",
    "time_remaining = []\n",
    "situation_code = []\n",
    "home_def_code = []\n",
    "type_code = []\n",
    "event_name = []\n",
    "\n",
    "#details \n",
    "#all\n",
    "event_owner_team_id = []\n",
    "zone_code = []\n",
    "x_coord = []\n",
    "y_coord = []\n",
    "\n",
    "#penalty specific \n",
    "penl_code = []\n",
    "penl_type = []\n",
    "penl_len = []\n",
    "commit_player_id = []\n",
    "drawn_by_player_id = []"
   ]
  },
  {
   "cell_type": "code",
   "execution_count": 25,
   "id": "56786f3d-a0cf-492c-98cb-0929b0ed6377",
   "metadata": {},
   "outputs": [],
   "source": [
    "#create lists from json - game events - penalties\n",
    "for i in range(len(game_data)):\n",
    "    for j in game_data[i]['plays']:\n",
    "        if j['typeDescKey'] == 'penalty':\n",
    "            game_id.append(game_data[i]['id'])\n",
    "            period.append(j['periodDescriptor']['number'])\n",
    "            event_id.append(j['eventId'])\n",
    "            time_in_period.append(j['timeInPeriod'])\n",
    "            time_remaining.append(j['timeRemaining'])\n",
    "            situation_code.append(j['situationCode'])\n",
    "            home_def_code.append(j['homeTeamDefendingSide'])\n",
    "            type_code.append(j['typeCode'])\n",
    "            event_name.append(j['typeDescKey'])\n",
    "            event_owner_team_id.append(j['details']['eventOwnerTeamId'])\n",
    "            zone_code.append(j['details']['zoneCode'])\n",
    "            x_coord.append(j['details']['xCoord'])\n",
    "            y_coord.append(j['details']['yCoord'])\n",
    "\n",
    "            penl_code.append(j['details']['typeCode'])\n",
    "            penl_type.append(j['details']['descKey'])\n",
    "            penl_len.append(j['details']['duration'])\n",
    "            \n",
    "            try: \n",
    "                drawn_by_player_id.append(j['details']['drawnByPlayerId'])\n",
    "                commit_player_id.append(j['details']['committedByPlayerId'])\n",
    "            except KeyError: \n",
    "                drawn_by_player_id.append('NaN')\n",
    "                commit_player_id.append('NaN')\n",
    "                \n",
    "        else:\n",
    "            pass "
   ]
  },
  {
   "cell_type": "code",
   "execution_count": 26,
   "id": "e08f9a3e-25f9-415d-8e4b-d086ac6cf0cd",
   "metadata": {},
   "outputs": [],
   "source": [
    "#create a data frame with penaltyinformation \n",
    "penalties = pd.DataFrame(list(zip(game_id, period, event_id, time_in_period, time_remaining, situation_code,\n",
    "                                        home_def_code, type_code, event_name, event_owner_team_id, zone_code,\n",
    "                                        x_coord, y_coord, penl_code, penl_type, penl_len, drawn_by_player_id, commit_player_id)),\n",
    "               columns =['game_id', 'period', 'event_id', 'time_in_period', 'time_remaining', 'situation_code',\n",
    "                                        'home_def_code', 'type_code', 'event_name', 'event_owner_team_id', 'zone_code',\n",
    "                                        'x_coord', 'y_coord', 'penl_code', 'penl_type', 'penl_len', 'drawn_by_player_id', 'commit_player_id'])"
   ]
  },
  {
   "cell_type": "code",
   "execution_count": 27,
   "id": "f9457113-fd4e-448f-95da-0fd0206ef69a",
   "metadata": {},
   "outputs": [],
   "source": [
    "#create a csv of the penalty info\n",
    "#penalties.to_csv('penalties.csv', index = False)"
   ]
  },
  {
   "cell_type": "markdown",
   "id": "07a1a78e-efa9-4fb9-b1ec-71d27ff130ab",
   "metadata": {},
   "source": [
    "## Hits"
   ]
  },
  {
   "cell_type": "code",
   "execution_count": 5,
   "id": "dedd2e48-ade2-41f1-9311-ba45cbb928df",
   "metadata": {},
   "outputs": [],
   "source": [
    "#empty lists to create game events data frame: hits\n",
    "#all\n",
    "game_id = []\n",
    "period = []\n",
    "event_id = []\n",
    "time_in_period = []\n",
    "time_remaining = []\n",
    "situation_code = []\n",
    "home_def_code = []\n",
    "type_code = []\n",
    "event_name = []\n",
    "\n",
    "#details \n",
    "#all\n",
    "event_owner_team_id = []\n",
    "zone_code = []\n",
    "x_coord = []\n",
    "y_coord = []\n",
    "\n",
    "#hits specific \n",
    "hitter_id = []\n",
    "hittee_id = []"
   ]
  },
  {
   "cell_type": "code",
   "execution_count": 6,
   "id": "ec78f313-6720-423e-a2b2-3e79b5f9eaa8",
   "metadata": {},
   "outputs": [],
   "source": [
    "#create lists from json - game events - hits \n",
    "for i in range(len(game_data)):\n",
    "    for j in game_data[i]['plays']:\n",
    "        if j['typeDescKey'] == 'hit':\n",
    "            game_id.append(game_data[i]['id'])\n",
    "            period.append(j['periodDescriptor']['number'])\n",
    "            event_id.append(j['eventId'])\n",
    "            time_in_period.append(j['timeInPeriod'])\n",
    "            time_remaining.append(j['timeRemaining'])\n",
    "            situation_code.append(j['situationCode'])\n",
    "            home_def_code.append(j['homeTeamDefendingSide'])\n",
    "            type_code.append(j['typeCode'])\n",
    "            event_name.append(j['typeDescKey'])\n",
    "\n",
    "            event_owner_team_id.append(j['details']['eventOwnerTeamId'])\n",
    "            zone_code.append(j['details']['zoneCode'])\n",
    "            x_coord.append(j['details']['xCoord'])\n",
    "            y_coord.append(j['details']['yCoord'])\n",
    "\n",
    "            hitter_id.append(j['details']['hittingPlayerId'])\n",
    "            hittee_id.append(j['details']['hitteePlayerId'])\n",
    "        else:\n",
    "            pass"
   ]
  },
  {
   "cell_type": "code",
   "execution_count": 11,
   "id": "fffb1d76-53f6-43cc-aebc-daf80dcc2c2e",
   "metadata": {},
   "outputs": [],
   "source": [
    "#create a data frame with hit information \n",
    "hits = pd.DataFrame(list(zip(game_id, period, event_id, time_in_period, time_remaining, situation_code,\n",
    "                                        home_def_code, type_code, event_name, event_owner_team_id, zone_code,\n",
    "                                        x_coord, y_coord, hitter_id, hittee_id)),\n",
    "               columns =['game_id', 'period', 'event_id', 'time_in_period', 'time_remaining', 'situation_code',\n",
    "                                        'home_def_code', 'type_code', 'event_name', 'event_owner_team_id', 'zone_code',\n",
    "                                        'x_coord', 'y_coord', 'hitter_id', 'hittee_id'])"
   ]
  },
  {
   "cell_type": "code",
   "execution_count": 16,
   "id": "c2b6bbac-a32d-47d3-bf20-1f16380c292f",
   "metadata": {},
   "outputs": [],
   "source": [
    "#create a csv of the hits info\n",
    "#hits.to_csv('hits.csv', index = False)"
   ]
  },
  {
   "cell_type": "markdown",
   "id": "1636f7da-d2ef-42ef-ad20-2de47b5ebdfb",
   "metadata": {},
   "source": [
    "## Giveaways"
   ]
  },
  {
   "cell_type": "code",
   "execution_count": 5,
   "id": "71aee8e1-0fde-4bb2-a5ca-e5fd9e2a4e98",
   "metadata": {},
   "outputs": [],
   "source": [
    "#empty lists to create game events data frame: giveaways\n",
    "#all\n",
    "game_id = []\n",
    "period = []\n",
    "event_id = []\n",
    "time_in_period = []\n",
    "time_remaining = []\n",
    "situation_code = []\n",
    "home_def_code = []\n",
    "type_code = []\n",
    "event_name = []\n",
    "\n",
    "#details \n",
    "#all\n",
    "event_owner_team_id = []\n",
    "zone_code = []\n",
    "x_coord = []\n",
    "y_coord = []\n",
    "\n",
    "#giveaway specific \n",
    "give_player_id = []"
   ]
  },
  {
   "cell_type": "code",
   "execution_count": 6,
   "id": "84daa67f-59da-4bb3-95d7-3edee3c27f4a",
   "metadata": {},
   "outputs": [],
   "source": [
    "#create lists from json - game events - giveaway \n",
    "for i in range(len(game_data)):\n",
    "    for j in game_data[i]['plays']:\n",
    "        if j['typeDescKey'] == 'giveaway':\n",
    "            game_id.append(game_data[i]['id'])\n",
    "            period.append(j['periodDescriptor']['number'])\n",
    "            event_id.append(j['eventId'])\n",
    "            time_in_period.append(j['timeInPeriod'])\n",
    "            time_remaining.append(j['timeRemaining'])\n",
    "            situation_code.append(j['situationCode'])\n",
    "            home_def_code.append(j['homeTeamDefendingSide'])\n",
    "            type_code.append(j['typeCode'])\n",
    "            event_name.append(j['typeDescKey'])\n",
    "\n",
    "            event_owner_team_id.append(j['details']['eventOwnerTeamId'])\n",
    "            zone_code.append(j['details']['zoneCode'])\n",
    "            x_coord.append(j['details']['xCoord'])\n",
    "            y_coord.append(j['details']['yCoord'])\n",
    "\n",
    "            give_player_id.append(j['details']['playerId'])\n",
    "        else:\n",
    "            pass"
   ]
  },
  {
   "cell_type": "code",
   "execution_count": 7,
   "id": "d9e8f526-76a2-425f-b03b-83363d0a2875",
   "metadata": {},
   "outputs": [],
   "source": [
    "#create a data frame with giveaway information \n",
    "giveaways = pd.DataFrame(list(zip(game_id, period, event_id, time_in_period, time_remaining, situation_code,\n",
    "                                        home_def_code, type_code, event_name, event_owner_team_id, zone_code,\n",
    "                                        x_coord, y_coord, give_player_id)),\n",
    "               columns =['game_id', 'period', 'event_id', 'time_in_period', 'time_remaining', 'situation_code',\n",
    "                                        'home_def_code', 'type_code', 'event_name', 'event_owner_team_id', 'zone_code',\n",
    "                                        'x_coord', 'y_coord', 'give_player_id'])"
   ]
  },
  {
   "cell_type": "code",
   "execution_count": 9,
   "id": "3d426c0d-3f1e-4c0e-b05b-fd5f7c55e0ed",
   "metadata": {},
   "outputs": [],
   "source": [
    "#create a csv of the giveaway info\n",
    "#giveaways.to_csv('giveaways.csv', index = False)"
   ]
  },
  {
   "cell_type": "markdown",
   "id": "bd72b7fc-f174-4612-b454-f2a40cb2774d",
   "metadata": {},
   "source": [
    "## Takeaways"
   ]
  },
  {
   "cell_type": "code",
   "execution_count": 12,
   "id": "7e7ca0ea-b109-4790-8ad3-6d2640744cf6",
   "metadata": {},
   "outputs": [],
   "source": [
    "#empty lists to create game events data frame: takeaway\n",
    "#all\n",
    "game_id = []\n",
    "period = []\n",
    "event_id = []\n",
    "time_in_period = []\n",
    "time_remaining = []\n",
    "situation_code = []\n",
    "home_def_code = []\n",
    "type_code = []\n",
    "event_name = []\n",
    "\n",
    "#details \n",
    "#all\n",
    "event_owner_team_id = []\n",
    "zone_code = []\n",
    "x_coord = []\n",
    "y_coord = []\n",
    "\n",
    "#takeaway specific \n",
    "take_player_id = []"
   ]
  },
  {
   "cell_type": "code",
   "execution_count": 14,
   "id": "cee91f98-1cac-4da3-835f-b071a590e87b",
   "metadata": {},
   "outputs": [],
   "source": [
    "#create lists from json - game events - takeaway\n",
    "for i in range(len(game_data)):\n",
    "    for j in game_data[i]['plays']:\n",
    "        if j['typeDescKey'] == 'takeaway':\n",
    "            game_id.append(game_data[i]['id'])\n",
    "            period.append(j['periodDescriptor']['number'])\n",
    "            event_id.append(j['eventId'])\n",
    "            time_in_period.append(j['timeInPeriod'])\n",
    "            time_remaining.append(j['timeRemaining'])\n",
    "            situation_code.append(j['situationCode'])\n",
    "            home_def_code.append(j['homeTeamDefendingSide'])\n",
    "            type_code.append(j['typeCode'])\n",
    "            event_name.append(j['typeDescKey'])\n",
    "\n",
    "            event_owner_team_id.append(j['details']['eventOwnerTeamId'])\n",
    "            zone_code.append(j['details']['zoneCode'])\n",
    "            x_coord.append(j['details']['xCoord'])\n",
    "            y_coord.append(j['details']['yCoord'])\n",
    "\n",
    "            take_player_id.append(j['details']['playerId'])\n",
    "        else:\n",
    "            pass"
   ]
  },
  {
   "cell_type": "code",
   "execution_count": 15,
   "id": "c2e7d7b1-bd5c-4efc-89d5-863b0eff7b90",
   "metadata": {},
   "outputs": [],
   "source": [
    "#create a data frame with takeaway information \n",
    "takeaways = pd.DataFrame(list(zip(game_id, period, event_id, time_in_period, time_remaining, situation_code,\n",
    "                                        home_def_code, type_code, event_name, event_owner_team_id, zone_code,\n",
    "                                        x_coord, y_coord, take_player_id)),\n",
    "               columns =['game_id', 'period', 'event_id', 'time_in_period', 'time_remaining', 'situation_code',\n",
    "                                        'home_def_code', 'type_code', 'event_name', 'event_owner_team_id', 'zone_code',\n",
    "                                        'x_coord', 'y_coord', 'take_player_id'])"
   ]
  },
  {
   "cell_type": "code",
   "execution_count": 17,
   "id": "236a41c0-6cd6-4092-aa82-e3274fbd23ee",
   "metadata": {},
   "outputs": [],
   "source": [
    "#create a csv of the takeaway info\n",
    "#takeaways.to_csv('takeaways.csv', index = False)"
   ]
  },
  {
   "cell_type": "markdown",
   "id": "ea1828f2-dc4d-4350-9251-8bdaad691096",
   "metadata": {},
   "source": [
    "## Shots on Goal"
   ]
  },
  {
   "cell_type": "code",
   "execution_count": 3,
   "id": "7c67dd80-ecb2-451b-acdf-01e1446de452",
   "metadata": {},
   "outputs": [],
   "source": [
    "#empty lists to create game events data frame: shots\n",
    "#all\n",
    "game_id = []\n",
    "period = []\n",
    "event_id = []\n",
    "time_in_period = []\n",
    "time_remaining = []\n",
    "situation_code = []\n",
    "home_def_code = []\n",
    "type_code = []\n",
    "event_name = []\n",
    "\n",
    "#details \n",
    "#all\n",
    "event_owner_team_id = []\n",
    "zone_code = []\n",
    "x_coord = []\n",
    "y_coord = []\n",
    "\n",
    "#shot specific \n",
    "shot_type = []\n",
    "shoot_player_id = []\n",
    "goalie_in_id = []\n",
    "away_sog = []\n",
    "home_sog = []"
   ]
  },
  {
   "cell_type": "code",
   "execution_count": 4,
   "id": "3e7aa060-89a2-4bc6-a39d-9fceed836138",
   "metadata": {},
   "outputs": [],
   "source": [
    "#create lists from json - game events - shots\n",
    "for i in range(len(game_data)):\n",
    "    for j in game_data[i]['plays']:\n",
    "        if j['typeDescKey'] == 'shot-on-goal':\n",
    "            game_id.append(game_data[i]['id'])\n",
    "            period.append(j['periodDescriptor']['number'])\n",
    "            event_id.append(j['eventId'])\n",
    "            time_in_period.append(j['timeInPeriod'])\n",
    "            time_remaining.append(j['timeRemaining'])\n",
    "            situation_code.append(j['situationCode'])\n",
    "            home_def_code.append(j['homeTeamDefendingSide'])\n",
    "            type_code.append(j['typeCode'])\n",
    "            event_name.append(j['typeDescKey'])\n",
    "\n",
    "            event_owner_team_id.append(j['details']['eventOwnerTeamId'])\n",
    "            zone_code.append(j['details']['zoneCode'])\n",
    "            x_coord.append(j['details']['xCoord'])\n",
    "            y_coord.append(j['details']['yCoord'])\n",
    "\n",
    "            shot_type.append(j['details']['shotType'])\n",
    "            shoot_player_id.append(j['details']['shootingPlayerId'])\n",
    "            goalie_in_id.append(j['details']['goalieInNetId'])\n",
    "            away_sog.append(j['details']['awaySOG'])\n",
    "            home_sog.append(j['details']['homeSOG'])\n",
    "        else:\n",
    "            pass"
   ]
  },
  {
   "cell_type": "code",
   "execution_count": 5,
   "id": "eb913f4d-c6a6-4bae-bf3c-cb9e85960e1e",
   "metadata": {},
   "outputs": [],
   "source": [
    "#create a data frame with shots information \n",
    "shots_on_goal = pd.DataFrame(list(zip(game_id, period, event_id, time_in_period, time_remaining, situation_code,\n",
    "                                        home_def_code, type_code, event_name, event_owner_team_id, zone_code,\n",
    "                                        x_coord, y_coord, shot_type, shoot_player_id, goalie_in_id, away_sog, home_sog)),\n",
    "               columns =['game_id', 'period', 'event_id', 'time_in_period', 'time_remaining', 'situation_code',\n",
    "                                        'home_def_code', 'type_code', 'event_name', 'event_owner_team_id', 'zone_code',\n",
    "                                        'x_coord', 'y_coord', 'shot_type', 'shoot_player_id', 'goalie_in_id', 'away_sog', 'home_sog'])"
   ]
  },
  {
   "cell_type": "code",
   "execution_count": 27,
   "id": "9fa5ebc8-1925-4f75-b6e4-2ab175e4896d",
   "metadata": {},
   "outputs": [],
   "source": [
    "#create a csv of the shots info\n",
    "#shots_on_goal.to_csv('shots_on_goal.csv', index = False)"
   ]
  },
  {
   "cell_type": "markdown",
   "id": "24886c3b-136b-4aaa-9224-eb97db1adf8e",
   "metadata": {},
   "source": [
    "## Missed Shots"
   ]
  },
  {
   "cell_type": "code",
   "execution_count": 6,
   "id": "38ac2acd-5a0a-4803-8e4a-4319d28bd384",
   "metadata": {},
   "outputs": [],
   "source": [
    "#empty lists to create game events data frame: missed shots\n",
    "#all\n",
    "game_id = []\n",
    "period = []\n",
    "event_id = []\n",
    "time_in_period = []\n",
    "time_remaining = []\n",
    "situation_code = []\n",
    "home_def_code = []\n",
    "type_code = []\n",
    "event_name = []\n",
    "\n",
    "#details \n",
    "#all\n",
    "event_owner_team_id = []\n",
    "zone_code = []\n",
    "x_coord = []\n",
    "y_coord = []\n",
    "\n",
    "#missed shot specific \n",
    "shot_type = []\n",
    "shoot_player_id = []\n",
    "miss_reason = []\n",
    "goalie_in_id = []"
   ]
  },
  {
   "cell_type": "code",
   "execution_count": 7,
   "id": "ab2a5c47-b7bd-421b-ab49-842090da3427",
   "metadata": {},
   "outputs": [],
   "source": [
    "#create lists from json - game events - missed shots\n",
    "for i in range(len(game_data)):\n",
    "    for j in game_data[i]['plays']:\n",
    "        if j['typeDescKey'] == 'missed-shot':\n",
    "            game_id.append(game_data[i]['id'])\n",
    "            period.append(j['periodDescriptor']['number'])\n",
    "            event_id.append(j['eventId'])\n",
    "            time_in_period.append(j['timeInPeriod'])\n",
    "            time_remaining.append(j['timeRemaining'])\n",
    "            situation_code.append(j['situationCode'])\n",
    "            home_def_code.append(j['homeTeamDefendingSide'])\n",
    "            type_code.append(j['typeCode'])\n",
    "            event_name.append(j['typeDescKey'])\n",
    "\n",
    "            event_owner_team_id.append(j['details']['eventOwnerTeamId'])\n",
    "            zone_code.append(j['details']['zoneCode'])\n",
    "            x_coord.append(j['details']['xCoord'])\n",
    "            y_coord.append(j['details']['yCoord'])\n",
    "\n",
    "            shot_type.append(j['details']['shotType'])\n",
    "            shoot_player_id.append(j['details']['shootingPlayerId'])\n",
    "            miss_reason.append(j['details']['reason'])\n",
    "\n",
    "            try:\n",
    "                goalie_in_id.append(j['details']['goalieInNetId'])  \n",
    "            except KeyError:\n",
    "                goalie_in_id.append('NaN')\n",
    "        else:\n",
    "            pass"
   ]
  },
  {
   "cell_type": "code",
   "execution_count": 8,
   "id": "3154d355-1f88-4889-9b39-9b0913a7d4a6",
   "metadata": {},
   "outputs": [],
   "source": [
    "#create a data frame with missed shot information \n",
    "missed_shots = pd.DataFrame(list(zip(game_id, period, event_id, time_in_period, time_remaining, situation_code,\n",
    "                                        home_def_code, type_code, event_name, event_owner_team_id, zone_code,\n",
    "                                        x_coord, y_coord, shot_type, shoot_player_id, miss_reason)),\n",
    "               columns =['game_id', 'period', 'event_id', 'time_in_period', 'time_remaining', 'situation_code',\n",
    "                                        'home_def_code', 'type_code', 'event_name', 'event_owner_team_id', 'zone_code',\n",
    "                                        'x_coord', 'y_coord', 'shot_type', 'shoot_player_id', 'miss_reason'])"
   ]
  },
  {
   "cell_type": "code",
   "execution_count": 13,
   "id": "712cc584-8d79-43f0-bf8e-307475367b7f",
   "metadata": {},
   "outputs": [],
   "source": [
    "#create a csv of the missed shots info\n",
    "#missed_shots.to_csv('missed_shots.csv', index = False)"
   ]
  },
  {
   "cell_type": "markdown",
   "id": "f550ecc5-6fc9-4411-968b-ee72d0ede661",
   "metadata": {},
   "source": [
    "## Blocked Shots"
   ]
  },
  {
   "cell_type": "code",
   "execution_count": 12,
   "id": "47190daf-5403-4523-818a-4f4e635fffab",
   "metadata": {},
   "outputs": [],
   "source": [
    "#empty lists to create game events data frame: blocked shots\n",
    "#all\n",
    "game_id = []\n",
    "period = []\n",
    "event_id = []\n",
    "time_in_period = []\n",
    "time_remaining = []\n",
    "situation_code = []\n",
    "home_def_code = []\n",
    "type_code = []\n",
    "event_name = []\n",
    "\n",
    "#details \n",
    "#all\n",
    "event_owner_team_id = []\n",
    "zone_code = []\n",
    "x_coord = []\n",
    "y_coord = []\n",
    "\n",
    "#missed shot specific \n",
    "shoot_player_id = []\n",
    "block_player_id = []\n",
    "block_reason = []"
   ]
  },
  {
   "cell_type": "code",
   "execution_count": 13,
   "id": "352147e4-1dd8-4010-a39e-c51be269ab1e",
   "metadata": {},
   "outputs": [],
   "source": [
    "#create lists from json - game events - blocked shots\n",
    "for i in range(len(game_data)):\n",
    "    for j in game_data[i]['plays']:\n",
    "        if j['typeDescKey'] == 'blocked-shot':\n",
    "            game_id.append(game_data[i]['id'])\n",
    "            period.append(j['periodDescriptor']['number'])\n",
    "            event_id.append(j['eventId'])\n",
    "            time_in_period.append(j['timeInPeriod'])\n",
    "            time_remaining.append(j['timeRemaining'])\n",
    "            situation_code.append(j['situationCode'])\n",
    "            home_def_code.append(j['homeTeamDefendingSide'])\n",
    "            type_code.append(j['typeCode'])\n",
    "            event_name.append(j['typeDescKey'])\n",
    "            \n",
    "            event_owner_team_id.append(j['details']['eventOwnerTeamId'])\n",
    "            zone_code.append(j['details']['zoneCode'])\n",
    "            x_coord.append(j['details']['xCoord'])\n",
    "            y_coord.append(j['details']['yCoord'])\n",
    "\n",
    "            shoot_player_id.append(j['details']['shootingPlayerId'])\n",
    "            block_reason.append(j['details']['reason'])\n",
    "\n",
    "            try:\n",
    "                block_player_id.append(j['details']['blockingPlayerId'])\n",
    "            except KeyError: \n",
    "                block_player_id.append('NaN')\n",
    "        else:\n",
    "            pass"
   ]
  },
  {
   "cell_type": "code",
   "execution_count": 14,
   "id": "e74d05f6-ac00-4a99-94a7-dd908ba3f947",
   "metadata": {},
   "outputs": [],
   "source": [
    "#create a data frame with blocked shot information \n",
    "blocked_shots = pd.DataFrame(list(zip(game_id, period, event_id, time_in_period, time_remaining, situation_code,\n",
    "                                        home_def_code, type_code, event_name, event_owner_team_id, zone_code,\n",
    "                                        x_coord, y_coord, shoot_player_id, block_player_id, block_reason)),\n",
    "               columns =['game_id', 'period', 'event_id', 'time_in_period', 'time_remaining', 'situation_code',\n",
    "                                        'home_def_code', 'type_code', 'event_name', 'event_owner_team_id', 'zone_code',\n",
    "                                        'x_coord', 'y_coord', 'shoot_player_id', 'block_player_id', 'block_reason'])"
   ]
  },
  {
   "cell_type": "code",
   "execution_count": 23,
   "id": "e3c1f9c3-3c3f-4a85-bf60-beb3d1e38ac3",
   "metadata": {},
   "outputs": [],
   "source": [
    "#create a csv of the blocked shots info\n",
    "#blocked_shots.to_csv('blocked_shots.csv', index = False)"
   ]
  },
  {
   "cell_type": "markdown",
   "id": "46a31753-7921-4817-a220-b0c608e4ae10",
   "metadata": {},
   "source": [
    "## Combine - all shot price data frames"
   ]
  },
  {
   "cell_type": "code",
   "execution_count": 15,
   "id": "71db036f-1f3f-440d-a89a-93046ec4d91e",
   "metadata": {},
   "outputs": [],
   "source": [
    "#combine shots, missed shots, blocked shots\n",
    "all_shots = pd.concat([shots_on_goal, missed_shots, blocked_shots], ignore_index = True)"
   ]
  },
  {
   "cell_type": "code",
   "execution_count": 17,
   "id": "73f0d55c-1656-4440-8d89-3ddb2d3dc1f9",
   "metadata": {},
   "outputs": [],
   "source": [
    "#create a csv of the takeaway info\n",
    "all_shots.to_csv('all_shots.csv', index = False)"
   ]
  },
  {
   "cell_type": "markdown",
   "id": "d0d70d67-3cde-4005-9a11-4a6cd99661d8",
   "metadata": {},
   "source": [
    "## Goals"
   ]
  },
  {
   "cell_type": "code",
   "execution_count": 29,
   "id": "6bc3dea9-e585-41cd-98c6-d69b864e49a8",
   "metadata": {},
   "outputs": [],
   "source": [
    "#empty lists to create game events data frame: goals\n",
    "#all\n",
    "game_id = []\n",
    "period = []\n",
    "event_id = []\n",
    "time_in_period = []\n",
    "time_remaining = []\n",
    "situation_code = []\n",
    "home_def_code = []\n",
    "type_code = []\n",
    "event_name = []\n",
    "\n",
    "#details \n",
    "#all\n",
    "event_owner_team_id = []\n",
    "zone_code = []\n",
    "x_coord = []\n",
    "y_coord = []\n",
    "\n",
    "#missed shot specific \n",
    "shot_type = []\n",
    "goalie_in_id = []\n",
    "score_player_id = []\n",
    "score_player_total = []\n",
    "assist_1_player_id = []\n",
    "assist_1_player_total = []\n",
    "assist_2_player_id = []\n",
    "assist_2_player_total = []\n",
    "away_score = []\n",
    "home_score = []\n",
    "video_link = []"
   ]
  },
  {
   "cell_type": "code",
   "execution_count": 30,
   "id": "4d387c01-e8a5-4166-b66e-6ba9bc331da7",
   "metadata": {},
   "outputs": [],
   "source": [
    "#create lists from json - game events - blocked shots\n",
    "for i in range(len(game_data)):\n",
    "    for j in game_data[i]['plays']:\n",
    "        if j['typeDescKey'] == 'goal': \n",
    "            game_id.append(game_data[i]['id'])\n",
    "            period.append(j['periodDescriptor']['number'])\n",
    "            event_id.append(j['eventId'])\n",
    "            time_in_period.append(j['timeInPeriod'])\n",
    "            time_remaining.append(j['timeRemaining'])\n",
    "            situation_code.append(j['situationCode'])\n",
    "            home_def_code.append(j['homeTeamDefendingSide'])\n",
    "            type_code.append(j['typeCode'])\n",
    "            event_name.append(j['typeDescKey'])\n",
    "            event_owner_team_id.append(j['details']['eventOwnerTeamId'])\n",
    "            zone_code.append(j['details']['zoneCode'])\n",
    "            x_coord.append(j['details']['xCoord'])\n",
    "            y_coord.append(j['details']['yCoord'])\n",
    "\n",
    "            score_player_id.append(j['details']['scoringPlayerId'])\n",
    "            away_score.append(j['details']['awayScore'])\n",
    "            home_score.append(j['details']['homeScore'])\n",
    "            \n",
    "            try:\n",
    "                goalie_in_id.append(j['details']['goalieInNetId'])\n",
    "                video_link.append(j['details']['highlightClipSharingUrl'])\n",
    "                score_player_total.append(j['details']['scoringPlayerTotal'])\n",
    "            except KeyError:     \n",
    "                goalie_in_id.append('NaN')\n",
    "                video_link.append('NaN')\n",
    "                score_player_total.append('NaN')\n",
    "                \n",
    "            try:     \n",
    "                shot_type.append(j['details']['shotType'])\n",
    "            except KeyError:\n",
    "                shot_type.append('NaN')\n",
    "                \n",
    "            try:   \n",
    "                assist_1_player_id.append(j['details']['assist1PlayerId'])\n",
    "                assist_1_player_total.append(j['details']['assist1PlayerTotal'])\n",
    "            except KeyError: \n",
    "                assist_1_player_id.append('NaN')\n",
    "                assist_1_player_total.append('NaN')\n",
    "                \n",
    "            try: \n",
    "                assist_2_player_id.append(j['details']['assist2PlayerId'])\n",
    "                assist_2_player_total.append(j['details']['assist2PlayerTotal'])\n",
    "            except KeyError:     \n",
    "                assist_2_player_id.append('NaN')\n",
    "                assist_2_player_total.append('NaN')\n",
    "                \n",
    "\n",
    "        else:\n",
    "            pass"
   ]
  },
  {
   "cell_type": "code",
   "execution_count": 31,
   "id": "c5a51a25-7a36-4ab1-9dfb-072f3e954311",
   "metadata": {},
   "outputs": [],
   "source": [
    "#create a data frame with blocked goal information \n",
    "goals = pd.DataFrame(list(zip(game_id, period, event_id, time_in_period, time_remaining, situation_code,\n",
    "                                        home_def_code, type_code, event_name, event_owner_team_id, zone_code,\n",
    "                                        x_coord, y_coord, shot_type, goalie_in_id, score_player_id, score_player_total, assist_1_player_id,\n",
    "                                        assist_1_player_total, assist_2_player_id, assist_2_player_total, away_score, home_score, video_link)),\n",
    "               columns =['game_id', 'period', 'event_id', 'time_in_period', 'time_remaining', 'situation_code',\n",
    "                                        'home_def_code', 'type_code', 'event_name', 'event_owner_team_id', 'zone_code',\n",
    "                                        'x_coord', 'y_coord', 'shot_type', 'goalie_in_id', 'score_player_id', 'score_player_total', 'assist_1_player_id',\n",
    "                                        'assist_1_player_total', 'assist_2_player_id', 'assist_2_player_total', 'away_score', 'home_score', 'video_link'])"
   ]
  },
  {
   "cell_type": "code",
   "execution_count": 33,
   "id": "ee664d0f-7670-43c0-a426-6acd3525dac6",
   "metadata": {},
   "outputs": [],
   "source": [
    "#create a csv of the takeaway info\n",
    "goals.to_csv('goals.csv', index = False)"
   ]
  },
  {
   "cell_type": "markdown",
   "id": "165c9041-4e2b-45d2-bef2-986a7a4621df",
   "metadata": {},
   "source": [
    "## Team Codes and Names"
   ]
  },
  {
   "cell_type": "code",
   "execution_count": 34,
   "id": "757b2c69-8ca7-4f12-b093-57a27127544d",
   "metadata": {},
   "outputs": [],
   "source": [
    "#create empty lists \n",
    "team_id = []\n",
    "team = []"
   ]
  },
  {
   "cell_type": "code",
   "execution_count": 35,
   "id": "a2c58cfd-12b9-472f-99d6-5650c2504752",
   "metadata": {},
   "outputs": [],
   "source": [
    "for i in game_data:\n",
    "    team_id.append(i['awayTeam']['id'])\n",
    "    team.append(i['awayTeam']['abbrev'])"
   ]
  },
  {
   "cell_type": "code",
   "execution_count": 36,
   "id": "d80c976f-1351-4a78-b73a-e74e76ca9a42",
   "metadata": {},
   "outputs": [],
   "source": [
    "#create a dataframe with team code and name info\n",
    "teams = pd.DataFrame(list(zip(team_id, team)),\n",
    "               columns =['team_id', 'team'])"
   ]
  },
  {
   "cell_type": "code",
   "execution_count": 37,
   "id": "9efca0cd-1a95-4e15-bd47-c3d061264b20",
   "metadata": {},
   "outputs": [],
   "source": [
    "teams['team_id'] = teams['team_id'].drop_duplicates()\n",
    "teams = teams.dropna()\n",
    "teams['team_id'] = teams['team_id'].astype(int)"
   ]
  },
  {
   "cell_type": "code",
   "execution_count": 40,
   "id": "10ae6753-3553-47c6-8427-71ec85e33a16",
   "metadata": {},
   "outputs": [],
   "source": [
    "#save the teams df in a csv\n",
    "#teams.to_csv('teams.csv', index = False)"
   ]
  }
 ],
 "metadata": {
  "kernelspec": {
   "display_name": "Python 3 (ipykernel)",
   "language": "python",
   "name": "python3"
  },
  "language_info": {
   "codemirror_mode": {
    "name": "ipython",
    "version": 3
   },
   "file_extension": ".py",
   "mimetype": "text/x-python",
   "name": "python",
   "nbconvert_exporter": "python",
   "pygments_lexer": "ipython3",
   "version": "3.13.5"
  }
 },
 "nbformat": 4,
 "nbformat_minor": 5
}
