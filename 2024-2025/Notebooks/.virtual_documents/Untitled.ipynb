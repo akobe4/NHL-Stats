import pandas as pd 
import requests
import os
import json
import numpy as np


#create game number list
#game numbers range from 0001-1312

game_number_list = list(range(1,1313))


#pad the game number list with leading zeros to create a number that is 4-digits
game_number_list_pad = [str(number).zfill(4) for number in game_number_list]


#create lists in smaller sections - for ease of pulling data
game_number_list_1 = game_number_list_pad[:500]
game_number_list_2 = game_number_list_pad[500:1000]
game_number_list_3 = game_number_list_pad[1000:]





#create the url's for each game number - 1 
all_url_1 = []

for i in range(len(game_number_list_1)):
    game_number_1 = game_number_list_1[i]
    game_number_url_1 = 'https://api-web.nhle.com/v1/gamecenter/202402'+str(game_number_1)+'/play-by-play'
    all_url_1.append(game_number_url_1)


#pull the game data from NHL url 1 
game_data_1 = []

for i in range(len(all_url_1)):
    response_1 = requests.get(all_url_1[1])
    game_data_1.append(response_1.json())


#from IPython.display import JSON
#JSON(game_data_1)


#Store the JSON data in a file
#with open("game_data_1.json", "w") as file:
#    json.dump(game_data_1, file)





#create the url's for each game number - 1 
all_url_2 = []

for i in range(len(game_number_list_2)):
    game_number_2 = game_number_list_2[i]
    game_number_url_2 = 'https://api-web.nhle.com/v1/gamecenter/202402'+str(game_number_2)+'/play-by-play'
    all_url_2.append(game_number_url_2)



