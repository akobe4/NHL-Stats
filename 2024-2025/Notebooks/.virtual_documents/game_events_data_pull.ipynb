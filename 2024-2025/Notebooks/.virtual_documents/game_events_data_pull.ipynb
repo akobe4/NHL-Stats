import pandas as pd 
import requests
import os
import json
import numpy as np


# Opening JSON file
f = open(r'C:\Users\Alex\Documents\NHL-Stats\2024-2025\Data\JSON_files\game_data_all_play_by_play.json')
game_data = json.load(f)


#from IPython.display import JSON
#JSON(game_data)





#empty lists to create game events data frame: faceoff 
#all
game_id = []
period = []
event_id = []
time_in_period = []
time_remaining = []
situation_code = []
home_def_code = []
type_code = []
event_name = []

#details 
#all
event_owner_team_id = []
zone_code = []
x_coord = []
y_coord = []

#faceoff specific 
l_player_id = []
w_player_id = []


#create lists from json - game events - faceoffs 
for i in range(len(game_data)):
    for j in game_data[i]['plays']:
        if j['typeDescKey'] == 'faceoff':
            game_id.append(game_data[i]['id'])
            period.append(j['periodDescriptor']['number'])
            event_id.append(j['eventId'])
            time_in_period.append(j['timeInPeriod'])
            time_remaining.append(j['timeRemaining'])
            situation_code.append(j['situationCode'])
            home_def_code.append(j['homeTeamDefendingSide'])
            type_code.append(j['typeCode'])
            event_name.append(j['typeDescKey'])

            event_owner_team_id.append(j['details']['eventOwnerTeamId'])
            zone_code.append(j['details']['zoneCode'])
            x_coord.append(j['details']['xCoord'])
            y_coord.append(j['details']['yCoord'])

            l_player_id.append(j['details']['losingPlayerId'])
            w_player_id.append(j['details']['winningPlayerId'])
        else:
            pass


#create a data frame with faceoff information 
faceoffs = pd.DataFrame(list(zip(game_id, period, event_id, time_in_period, time_remaining, situation_code,
                                        home_def_code, type_code, event_name, event_owner_team_id, zone_code,
                                        x_coord, y_coord, l_player_id, w_player_id)),
               columns =['game_id', 'period', 'event_id', 'time_in_period', 'time_remaining', 'situation_code',
                                        'home_def_code', 'type_code', 'event_name', 'event_owner_team_id', 'zone_code',
                                        'x_coord', 'y_coord', 'l_player_id', 'w_player_id'])


#create a csv of the faceoff info
#faceoffs.to_csv('faceoffs.csv', index=False)





#empty lists to create game events data frame: penalties
#all
game_id = []
period = []
event_id = []
time_in_period = []
time_remaining = []
situation_code = []
home_def_code = []
type_code = []
event_name = []

#details 
#all
event_owner_team_id = []
zone_code = []
x_coord = []
y_coord = []

#penalty specific 
penl_code = []
penl_type = []
penl_len = []
commit_player_id = []
drawn_by_player_id = []


#create lists from json - game events - penalties
for i in range(len(game_data)):
    for j in game_data[i]['plays']:
        if j['typeDescKey'] == 'penalty':
            game_id.append(game_data[i]['id'])
            period.append(j['periodDescriptor']['number'])
            event_id.append(j['eventId'])
            time_in_period.append(j['timeInPeriod'])
            time_remaining.append(j['timeRemaining'])
            situation_code.append(j['situationCode'])
            home_def_code.append(j['homeTeamDefendingSide'])
            type_code.append(j['typeCode'])
            event_name.append(j['typeDescKey'])
            event_owner_team_id.append(j['details']['eventOwnerTeamId'])
            zone_code.append(j['details']['zoneCode'])
            x_coord.append(j['details']['xCoord'])
            y_coord.append(j['details']['yCoord'])

            penl_code.append(j['details']['typeCode'])
            penl_type.append(j['details']['descKey'])
            penl_len.append(j['details']['duration'])
            
            try: 
                drawn_by_player_id.append(j['details']['drawnByPlayerId'])
                commit_player_id.append(j['details']['committedByPlayerId'])
            except KeyError: 
                drawn_by_player_id.append('NaN')
                commit_player_id.append('NaN')
                
        else:
            pass 


#create a data frame with penaltyinformation 
penalties = pd.DataFrame(list(zip(game_id, period, event_id, time_in_period, time_remaining, situation_code,
                                        home_def_code, type_code, event_name, event_owner_team_id, zone_code,
                                        x_coord, y_coord, penl_code, penl_type, penl_len, drawn_by_player_id, commit_player_id)),
               columns =['game_id', 'period', 'event_id', 'time_in_period', 'time_remaining', 'situation_code',
                                        'home_def_code', 'type_code', 'event_name', 'event_owner_team_id', 'zone_code',
                                        'x_coord', 'y_coord', 'penl_code', 'penl_type', 'penl_len', 'drawn_by_player_id', 'commit_player_id'])


#create a csv of the penalty info
#penalties.to_csv('penalties.csv', index = False)





#empty lists to create game events data frame: hits
#all
game_id = []
period = []
event_id = []
time_in_period = []
time_remaining = []
situation_code = []
home_def_code = []
type_code = []
event_name = []

#details 
#all
event_owner_team_id = []
zone_code = []
x_coord = []
y_coord = []

#hits specific 
hitter_id = []
hittee_id = []


#create lists from json - game events - hits 
for i in range(len(game_data)):
    for j in game_data[i]['plays']:
        if j['typeDescKey'] == 'hit':
            game_id.append(game_data[i]['id'])
            period.append(j['periodDescriptor']['number'])
            event_id.append(j['eventId'])
            time_in_period.append(j['timeInPeriod'])
            time_remaining.append(j['timeRemaining'])
            situation_code.append(j['situationCode'])
            home_def_code.append(j['homeTeamDefendingSide'])
            type_code.append(j['typeCode'])
            event_name.append(j['typeDescKey'])

            event_owner_team_id.append(j['details']['eventOwnerTeamId'])
            zone_code.append(j['details']['zoneCode'])
            x_coord.append(j['details']['xCoord'])
            y_coord.append(j['details']['yCoord'])

            hitter_id.append(j['details']['hittingPlayerId'])
            hittee_id.append(j['details']['hitteePlayerId'])
        else:
            pass


#create a data frame with hit information 
hits = pd.DataFrame(list(zip(game_id, period, event_id, time_in_period, time_remaining, situation_code,
                                        home_def_code, type_code, event_name, event_owner_team_id, zone_code,
                                        x_coord, y_coord, hitter_id, hittee_id)),
               columns =['game_id', 'period', 'event_id', 'time_in_period', 'time_remaining', 'situation_code',
                                        'home_def_code', 'type_code', 'event_name', 'event_owner_team_id', 'zone_code',
                                        'x_coord', 'y_coord', 'hitter_id', 'hittee_id'])


#create a csv of the hits info
#hits.to_csv('hits.csv', index = False)





#empty lists to create game events data frame: giveaways
#all
game_id = []
period = []
event_id = []
time_in_period = []
time_remaining = []
situation_code = []
home_def_code = []
type_code = []
event_name = []

#details 
#all
event_owner_team_id = []
zone_code = []
x_coord = []
y_coord = []

#giveaway specific 
give_player_id = []


#create lists from json - game events - giveaway 
for i in range(len(game_data)):
    for j in game_data[i]['plays']:
        if j['typeDescKey'] == 'giveaway':
            game_id.append(game_data[i]['id'])
            period.append(j['periodDescriptor']['number'])
            event_id.append(j['eventId'])
            time_in_period.append(j['timeInPeriod'])
            time_remaining.append(j['timeRemaining'])
            situation_code.append(j['situationCode'])
            home_def_code.append(j['homeTeamDefendingSide'])
            type_code.append(j['typeCode'])
            event_name.append(j['typeDescKey'])

            event_owner_team_id.append(j['details']['eventOwnerTeamId'])
            zone_code.append(j['details']['zoneCode'])
            x_coord.append(j['details']['xCoord'])
            y_coord.append(j['details']['yCoord'])

            give_player_id.append(j['details']['playerId'])
        else:
            pass


#create a data frame with giveaway information 
giveaways = pd.DataFrame(list(zip(game_id, period, event_id, time_in_period, time_remaining, situation_code,
                                        home_def_code, type_code, event_name, event_owner_team_id, zone_code,
                                        x_coord, y_coord, give_player_id)),
               columns =['game_id', 'period', 'event_id', 'time_in_period', 'time_remaining', 'situation_code',
                                        'home_def_code', 'type_code', 'event_name', 'event_owner_team_id', 'zone_code',
                                        'x_coord', 'y_coord', 'give_player_id'])


#create a csv of the giveaway info
#giveaways.to_csv('giveaways.csv', index = False)





#empty lists to create game events data frame: takeaway
#all
game_id = []
period = []
event_id = []
time_in_period = []
time_remaining = []
situation_code = []
home_def_code = []
type_code = []
event_name = []

#details 
#all
event_owner_team_id = []
zone_code = []
x_coord = []
y_coord = []

#takeaway specific 
take_player_id = []


#create lists from json - game events - takeaway
for i in range(len(game_data)):
    for j in game_data[i]['plays']:
        if j['typeDescKey'] == 'takeaway':
            game_id.append(game_data[i]['id'])
            period.append(j['periodDescriptor']['number'])
            event_id.append(j['eventId'])
            time_in_period.append(j['timeInPeriod'])
            time_remaining.append(j['timeRemaining'])
            situation_code.append(j['situationCode'])
            home_def_code.append(j['homeTeamDefendingSide'])
            type_code.append(j['typeCode'])
            event_name.append(j['typeDescKey'])

            event_owner_team_id.append(j['details']['eventOwnerTeamId'])
            zone_code.append(j['details']['zoneCode'])
            x_coord.append(j['details']['xCoord'])
            y_coord.append(j['details']['yCoord'])

            take_player_id.append(j['details']['playerId'])
        else:
            pass


#create a data frame with takeaway information 
takeaways = pd.DataFrame(list(zip(game_id, period, event_id, time_in_period, time_remaining, situation_code,
                                        home_def_code, type_code, event_name, event_owner_team_id, zone_code,
                                        x_coord, y_coord, take_player_id)),
               columns =['game_id', 'period', 'event_id', 'time_in_period', 'time_remaining', 'situation_code',
                                        'home_def_code', 'type_code', 'event_name', 'event_owner_team_id', 'zone_code',
                                        'x_coord', 'y_coord', 'take_player_id'])


#create a csv of the takeaway info
#takeaways.to_csv('takeaways.csv', index = False)





#empty lists to create game events data frame: shots
#all
game_id = []
period = []
event_id = []
time_in_period = []
time_remaining = []
situation_code = []
home_def_code = []
type_code = []
event_name = []

#details 
#all
event_owner_team_id = []
zone_code = []
x_coord = []
y_coord = []

#shot specific 
shot_type = []
shoot_player_id = []
goalie_in_id = []
away_sog = []
home_sog = []


#create lists from json - game events - shots
for i in range(len(game_data)):
    for j in game_data[i]['plays']:
        if j['typeDescKey'] == 'shot-on-goal':
            game_id.append(game_data[i]['id'])
            period.append(j['periodDescriptor']['number'])
            event_id.append(j['eventId'])
            time_in_period.append(j['timeInPeriod'])
            time_remaining.append(j['timeRemaining'])
            situation_code.append(j['situationCode'])
            home_def_code.append(j['homeTeamDefendingSide'])
            type_code.append(j['typeCode'])
            event_name.append(j['typeDescKey'])

            event_owner_team_id.append(j['details']['eventOwnerTeamId'])
            zone_code.append(j['details']['zoneCode'])
            x_coord.append(j['details']['xCoord'])
            y_coord.append(j['details']['yCoord'])

            shot_type.append(j['details']['shotType'])
            shoot_player_id.append(j['details']['shootingPlayerId'])
            goalie_in_id.append(j['details']['goalieInNetId'])
            away_sog.append(j['details']['awaySOG'])
            home_sog.append(j['details']['homeSOG'])
        else:
            pass


#create a data frame with shots information 
shots_on_goal = pd.DataFrame(list(zip(game_id, period, event_id, time_in_period, time_remaining, situation_code,
                                        home_def_code, type_code, event_name, event_owner_team_id, zone_code,
                                        x_coord, y_coord, shot_type, shoot_player_id, goalie_in_id, away_sog, home_sog)),
               columns =['game_id', 'period', 'event_id', 'time_in_period', 'time_remaining', 'situation_code',
                                        'home_def_code', 'type_code', 'event_name', 'event_owner_team_id', 'zone_code',
                                        'x_coord', 'y_coord', 'shot_type', 'shoot_player_id', 'goalie_in_id', 'away_sog', 'home_sog'])


#create a csv of the shots info
#shots_on_goal.to_csv('shots_on_goal.csv', index = False)





#empty lists to create game events data frame: missed shots
#all
game_id = []
period = []
event_id = []
time_in_period = []
time_remaining = []
situation_code = []
home_def_code = []
type_code = []
event_name = []

#details 
#all
event_owner_team_id = []
zone_code = []
x_coord = []
y_coord = []

#missed shot specific 
shot_type = []
shoot_player_id = []
miss_reason = []
goalie_in_id = []


#create lists from json - game events - missed shots
for i in range(len(game_data)):
    for j in game_data[i]['plays']:
        if j['typeDescKey'] == 'missed-shot':
            game_id.append(game_data[i]['id'])
            period.append(j['periodDescriptor']['number'])
            event_id.append(j['eventId'])
            time_in_period.append(j['timeInPeriod'])
            time_remaining.append(j['timeRemaining'])
            situation_code.append(j['situationCode'])
            home_def_code.append(j['homeTeamDefendingSide'])
            type_code.append(j['typeCode'])
            event_name.append(j['typeDescKey'])

            event_owner_team_id.append(j['details']['eventOwnerTeamId'])
            zone_code.append(j['details']['zoneCode'])
            x_coord.append(j['details']['xCoord'])
            y_coord.append(j['details']['yCoord'])

            shot_type.append(j['details']['shotType'])
            shoot_player_id.append(j['details']['shootingPlayerId'])
            miss_reason.append(j['details']['reason'])

            try:
                goalie_in_id.append(j['details']['goalieInNetId'])  
            except KeyError:
                goalie_in_id.append('NaN')
        else:
            pass


#create a data frame with missed shot information 
missed_shots = pd.DataFrame(list(zip(game_id, period, event_id, time_in_period, time_remaining, situation_code,
                                        home_def_code, type_code, event_name, event_owner_team_id, zone_code,
                                        x_coord, y_coord, shot_type, shoot_player_id, miss_reason)),
               columns =['game_id', 'period', 'event_id', 'time_in_period', 'time_remaining', 'situation_code',
                                        'home_def_code', 'type_code', 'event_name', 'event_owner_team_id', 'zone_code',
                                        'x_coord', 'y_coord', 'shot_type', 'shoot_player_id', 'miss_reason'])


#create a csv of the missed shots info
#missed_shots.to_csv('missed_shots.csv', index = False)





#empty lists to create game events data frame: blocked shots
#all
game_id = []
period = []
event_id = []
time_in_period = []
time_remaining = []
situation_code = []
home_def_code = []
type_code = []
event_name = []

#details 
#all
event_owner_team_id = []
zone_code = []
x_coord = []
y_coord = []

#missed shot specific 
shoot_player_id = []
block_player_id = []
block_reason = []


#create lists from json - game events - blocked shots
for i in range(len(game_data)):
    for j in game_data[i]['plays']:
        if j['typeDescKey'] == 'blocked-shot':
            game_id.append(game_data[i]['id'])
            period.append(j['periodDescriptor']['number'])
            event_id.append(j['eventId'])
            time_in_period.append(j['timeInPeriod'])
            time_remaining.append(j['timeRemaining'])
            situation_code.append(j['situationCode'])
            home_def_code.append(j['homeTeamDefendingSide'])
            type_code.append(j['typeCode'])
            event_name.append(j['typeDescKey'])
            
            event_owner_team_id.append(j['details']['eventOwnerTeamId'])
            zone_code.append(j['details']['zoneCode'])
            x_coord.append(j['details']['xCoord'])
            y_coord.append(j['details']['yCoord'])

            shoot_player_id.append(j['details']['shootingPlayerId'])
            block_reason.append(j['details']['reason'])

            try:
                block_player_id.append(j['details']['blockingPlayerId'])
            except KeyError: 
                block_player_id.append('NaN')
        else:
            pass


#create a data frame with blocked shot information 
blocked_shots = pd.DataFrame(list(zip(game_id, period, event_id, time_in_period, time_remaining, situation_code,
                                        home_def_code, type_code, event_name, event_owner_team_id, zone_code,
                                        x_coord, y_coord, shoot_player_id, block_player_id, block_reason)),
               columns =['game_id', 'period', 'event_id', 'time_in_period', 'time_remaining', 'situation_code',
                                        'home_def_code', 'type_code', 'event_name', 'event_owner_team_id', 'zone_code',
                                        'x_coord', 'y_coord', 'shoot_player_id', 'block_player_id', 'block_reason'])


#create a csv of the blocked shots info
#blocked_shots.to_csv('blocked_shots.csv', index = False)





#combine shots, missed shots, blocked shots
all_shots = pd.concat([shots_on_goal, missed_shots, blocked_shots], ignore_index = True)



