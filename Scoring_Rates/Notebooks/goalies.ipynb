{
 "cells": [
  {
   "cell_type": "code",
   "execution_count": 1,
   "id": "3d5f7318-3959-41e7-a4ac-a32bdb5e08d1",
   "metadata": {},
   "outputs": [],
   "source": [
    "import pandas as pd \n",
    "import requests\n",
    "import os\n",
    "import json\n",
    "import numpy as np"
   ]
  },
  {
   "cell_type": "code",
   "execution_count": 92,
   "id": "34d15097-2233-42fc-94ba-a474138f7ad8",
   "metadata": {},
   "outputs": [],
   "source": [
    "#Load JSON files \n",
    "#f = open(r'C:\\Users\\akobe\\OneDrive\\Desktop\\Lighthouse\\After\\NHL-Stats\\Scoring_Rates\\Data\\game_data\\game_data_1.json')\n",
    "#game_data_1 = json.load(f)"
   ]
  },
  {
   "cell_type": "code",
   "execution_count": 21,
   "id": "a103930e-f3b8-499b-b6f8-caf706c85637",
   "metadata": {},
   "outputs": [],
   "source": [
    "#from IPython.display import JSON\n",
    "#JSON(game_data_1)"
   ]
  },
  {
   "cell_type": "markdown",
   "id": "09d83f17-6e4b-41cb-bf10-90e5818bfca3",
   "metadata": {},
   "source": [
    "## pull game data game #'s 2022020001 - 2022020500"
   ]
  },
  {
   "cell_type": "code",
   "execution_count": 81,
   "id": "0a159eed-6521-4e1f-a8ce-099c8dfd4819",
   "metadata": {},
   "outputs": [],
   "source": [
    "#empty lists for creating the player dataframe - away team\n",
    "game_num = []\n",
    "date = []\n",
    "team_id = []\n",
    "team_code = []\n",
    "player_id = []\n",
    "name = []\n",
    "catches = []\n",
    "toi = []\n",
    "assists = []\n",
    "goals = []\n",
    "pim = []\n",
    "shots = []\n",
    "saves = []\n",
    "pp_saves = []\n",
    "sh_saves = []\n",
    "ev_saves = []\n",
    "sh_shots = []\n",
    "ev_shots = []\n",
    "pp_shots = []\n",
    "decision = []\n",
    "sv_perc = []\n",
    "pp_sv_perc = []\n",
    "sh_sv_perc = []\n",
    "ev_sv_perc = []"
   ]
  },
  {
   "cell_type": "code",
   "execution_count": 82,
   "id": "f2c7bc83-09f6-4c0d-b5b6-82bb7d489390",
   "metadata": {},
   "outputs": [],
   "source": [
    "#pull data fror the goalies - away team \n",
    "for i in range(len(game_data_1)):\n",
    "    goalies = game_data_1[i]['liveData']['boxscore']['teams']['away']['players']\n",
    "    for j in goalies:\n",
    "        if len(goalies[j]['stats']) > 0:\n",
    "            if 'goalieStats' in goalies[j]['stats']:\n",
    "                toi.append(goalies[j]['stats']['goalieStats']['timeOnIce'])\n",
    "                assists.append(goalies[j]['stats']['goalieStats']['assists'])\n",
    "                goals.append(goalies[j]['stats']['goalieStats']['goals'])\n",
    "                pim.append(goalies[j]['stats']['goalieStats']['pim'])\n",
    "                shots.append(goalies[j]['stats']['goalieStats']['shots'])\n",
    "                saves.append(goalies[j]['stats']['goalieStats']['saves'])\n",
    "                pp_saves.append(goalies[j]['stats']['goalieStats']['powerPlaySaves'])\n",
    "                sh_saves.append(goalies[j]['stats']['goalieStats']['shortHandedSaves'])\n",
    "                ev_saves.append(goalies[j]['stats']['goalieStats']['evenSaves'])\n",
    "                sh_shots.append(goalies[j]['stats']['goalieStats']['shortHandedShotsAgainst'])\n",
    "                ev_shots.append(goalies[j]['stats']['goalieStats']['evenShotsAgainst'])\n",
    "                pp_shots.append(goalies[j]['stats']['goalieStats']['powerPlayShotsAgainst'])\n",
    "                decision.append(goalies[j]['stats']['goalieStats']['decision'])\n",
    "                sv_perc.append(goalies[j]['stats']['goalieStats']['savePercentage'])\n",
    "                ev_sv_perc.append(goalies[j]['stats']['goalieStats']['evenStrengthSavePercentage'])  \n",
    "                player_id.append(goalies[j]['person']['id'])\n",
    "                name.append(goalies[j]['person']['fullName'])\n",
    "                catches.append(goalies[j]['person']['shootsCatches'])\n",
    "                game_num.append(game_data_1[i]['gameData']['game']['pk'])\n",
    "                date.append(game_data_1[i]['gameData']['datetime']['dateTime'])\n",
    "                team_id.append(game_data_1[i]['gameData']['teams']['away']['id'])\n",
    "                team_code.append(game_data_1[i]['gameData']['teams']['away']['triCode'])\n",
    "                \n",
    "                try:\n",
    "                    pp_sv_perc.append(goalies[j]['stats']['goalieStats']['powerPlaySavePercentage'])\n",
    "                except KeyError: \n",
    "                    pp_sv_perc.append('NaN')\n",
    "                \n",
    "                try: \n",
    "                    sh_sv_perc.append(goalies[j]['stats']['goalieStats']['shortHandedSavePercentage'])\n",
    "                except KeyError:\n",
    "                    sh_sv_perc.append('NaN')"
   ]
  },
  {
   "cell_type": "code",
   "execution_count": 66,
   "id": "8ea829b5-95b9-484d-b942-f4641b66df62",
   "metadata": {},
   "outputs": [
    {
     "data": {
      "text/plain": [
       "524"
      ]
     },
     "execution_count": 66,
     "metadata": {},
     "output_type": "execute_result"
    }
   ],
   "source": [
    "len(pp_sv_perc)"
   ]
  },
  {
   "cell_type": "code",
   "execution_count": 83,
   "id": "7882624f-be39-4656-ad55-87073a57d609",
   "metadata": {},
   "outputs": [],
   "source": [
    "#create dataframe- away data \n",
    "goalie_data_a = pd.DataFrame(list(zip(game_num, date, team_id, team_code, player_id, name, catches, toi, assists, goals, pim, shots, \n",
    "                                      saves, pp_saves, sh_saves, ev_saves, sh_shots, ev_shots, pp_shots, decision, sv_perc, pp_sv_perc,\n",
    "                                      sh_sv_perc, ev_sv_perc)),\n",
    "               columns =['game_num', 'date', 'team_id', 'team_code', 'player_id', 'name', 'catches', 'toi', 'assists', 'goals', 'pim', 'shots', \n",
    "                         'saves', 'pp_saves', 'sh_saves', 'ev_saves', 'sh_shots', 'ev_shots', 'pp_shots', 'decision', 'sv_perc', 'pp_sv_perc',\n",
    "                         'sh_sv_perc', 'ev_sv_perc'])"
   ]
  },
  {
   "cell_type": "code",
   "execution_count": 84,
   "id": "54cf60f6-0409-449d-bda5-5854611051ff",
   "metadata": {},
   "outputs": [],
   "source": [
    "goalie_data_a['home_away'] = 'away'"
   ]
  },
  {
   "cell_type": "code",
   "execution_count": 85,
   "id": "1ffe5954-3230-4853-a549-f33b9125dbb1",
   "metadata": {},
   "outputs": [],
   "source": [
    "#empty lists for creating the player dataframe - home team\n",
    "game_num = []\n",
    "date = []\n",
    "team_id = []\n",
    "team_code = []\n",
    "player_id = []\n",
    "name = []\n",
    "catches = []\n",
    "toi = []\n",
    "assists = []\n",
    "goals = []\n",
    "pim = []\n",
    "shots = []\n",
    "saves = []\n",
    "pp_saves = []\n",
    "sh_saves = []\n",
    "ev_saves = []\n",
    "sh_shots = []\n",
    "ev_shots = []\n",
    "pp_shots = []\n",
    "decision = []\n",
    "sv_perc = []\n",
    "pp_sv_perc = []\n",
    "sh_sv_perc = []\n",
    "ev_sv_perc = []"
   ]
  },
  {
   "cell_type": "code",
   "execution_count": 86,
   "id": "f0611871-5bd8-4b38-8647-ccb15d035584",
   "metadata": {},
   "outputs": [],
   "source": [
    "#pull data fror the goalies - home team \n",
    "for i in range(len(game_data_1)):\n",
    "    goalies = game_data_1[i]['liveData']['boxscore']['teams']['home']['players']\n",
    "    for j in goalies:\n",
    "        if len(goalies[j]['stats']) > 0:\n",
    "            if 'goalieStats' in goalies[j]['stats']:\n",
    "                toi.append(goalies[j]['stats']['goalieStats']['timeOnIce'])\n",
    "                assists.append(goalies[j]['stats']['goalieStats']['assists'])\n",
    "                goals.append(goalies[j]['stats']['goalieStats']['goals'])\n",
    "                pim.append(goalies[j]['stats']['goalieStats']['pim'])\n",
    "                shots.append(goalies[j]['stats']['goalieStats']['shots'])\n",
    "                saves.append(goalies[j]['stats']['goalieStats']['saves'])\n",
    "                pp_saves.append(goalies[j]['stats']['goalieStats']['powerPlaySaves'])\n",
    "                sh_saves.append(goalies[j]['stats']['goalieStats']['shortHandedSaves'])\n",
    "                ev_saves.append(goalies[j]['stats']['goalieStats']['evenSaves'])\n",
    "                sh_shots.append(goalies[j]['stats']['goalieStats']['shortHandedShotsAgainst'])\n",
    "                ev_shots.append(goalies[j]['stats']['goalieStats']['evenShotsAgainst'])\n",
    "                pp_shots.append(goalies[j]['stats']['goalieStats']['powerPlayShotsAgainst'])\n",
    "                decision.append(goalies[j]['stats']['goalieStats']['decision'])\n",
    "                sv_perc.append(goalies[j]['stats']['goalieStats']['savePercentage'])\n",
    "                ev_sv_perc.append(goalies[j]['stats']['goalieStats']['evenStrengthSavePercentage'])  \n",
    "                player_id.append(goalies[j]['person']['id'])\n",
    "                name.append(goalies[j]['person']['fullName'])\n",
    "                catches.append(goalies[j]['person']['shootsCatches'])\n",
    "                game_num.append(game_data_1[i]['gameData']['game']['pk'])\n",
    "                date.append(game_data_1[i]['gameData']['datetime']['dateTime'])\n",
    "                team_id.append(game_data_1[i]['gameData']['teams']['home']['id'])\n",
    "                team_code.append(game_data_1[i]['gameData']['teams']['home']['triCode'])\n",
    "                \n",
    "                try:\n",
    "                    pp_sv_perc.append(goalies[j]['stats']['goalieStats']['powerPlaySavePercentage'])\n",
    "                except KeyError: \n",
    "                    pp_sv_perc.append('NaN')\n",
    "                \n",
    "                try: \n",
    "                    sh_sv_perc.append(goalies[j]['stats']['goalieStats']['shortHandedSavePercentage'])\n",
    "                except KeyError:\n",
    "                    sh_sv_perc.append('NaN')"
   ]
  },
  {
   "cell_type": "code",
   "execution_count": 75,
   "id": "5d5bcd2d-9dab-4c0f-a3f9-ff9df8c25055",
   "metadata": {},
   "outputs": [
    {
     "data": {
      "text/plain": [
       "532"
      ]
     },
     "execution_count": 75,
     "metadata": {},
     "output_type": "execute_result"
    }
   ],
   "source": [
    "len(team_id)"
   ]
  },
  {
   "cell_type": "code",
   "execution_count": 87,
   "id": "c75874c0-f95d-47c8-880d-64a7d32edcc1",
   "metadata": {},
   "outputs": [],
   "source": [
    "#create dataframe- home data \n",
    "goalie_data_h = pd.DataFrame(list(zip(game_num, date, team_id, team_code, player_id, name, catches, toi, assists, goals, pim, shots, \n",
    "                                      saves, pp_saves, sh_saves, ev_saves, sh_shots, ev_shots, pp_shots, decision, sv_perc, pp_sv_perc,\n",
    "                                      sh_sv_perc, ev_sv_perc)),\n",
    "               columns =['game_num', 'date', 'team_id', 'team_code', 'player_id', 'name', 'catches', 'toi', 'assists', 'goals', 'pim', 'shots', \n",
    "                         'saves', 'pp_saves', 'sh_saves', 'ev_saves', 'sh_shots', 'ev_shots', 'pp_shots', 'decision', 'sv_perc', 'pp_sv_perc',\n",
    "                         'sh_sv_perc', 'ev_sv_perc'])"
   ]
  },
  {
   "cell_type": "code",
   "execution_count": 88,
   "id": "4e44c568-e24d-4215-a6ec-1125376ffb6f",
   "metadata": {},
   "outputs": [],
   "source": [
    "goalie_data_h['home_away'] = 'home'"
   ]
  },
  {
   "cell_type": "code",
   "execution_count": 89,
   "id": "54cbd5da-6117-4521-8c18-32f9da366ce6",
   "metadata": {},
   "outputs": [],
   "source": [
    "#combine home and away dataframes \n",
    "frames = [goalie_data_h, goalie_data_a]\n",
    "\n",
    "goalie_data_1 = pd.concat(frames)"
   ]
  },
  {
   "cell_type": "code",
   "execution_count": 90,
   "id": "b2b99650-f414-468e-b3df-52f732dccee9",
   "metadata": {},
   "outputs": [],
   "source": [
    "#create a csv of the game info 0001-0500\n",
    "#goalie_data_1.to_csv('goalie_data_500.csv')"
   ]
  },
  {
   "cell_type": "markdown",
   "id": "126d5bba-ad1c-4272-8f59-e02d5c6f49e1",
   "metadata": {},
   "source": [
    "## pull game data game #'s 2022020501 - 2022021000"
   ]
  },
  {
   "cell_type": "code",
   "execution_count": 132,
   "id": "df438b99-40d1-40aa-b2b2-9fa0d88cac93",
   "metadata": {},
   "outputs": [],
   "source": [
    "#Load JSON files \n",
    "#f = open(r'C:\\Users\\akobe\\OneDrive\\Desktop\\Lighthouse\\After\\NHL-Stats\\Scoring_Rates\\Data\\game_data\\game_data_2.json')\n",
    "#game_data_2 = json.load(f)"
   ]
  },
  {
   "cell_type": "code",
   "execution_count": 110,
   "id": "dc7bd621-5fb1-4e46-b3fb-c5735fc485dc",
   "metadata": {},
   "outputs": [],
   "source": [
    "#empty lists for creating the player dataframe - away team\n",
    "game_num = []\n",
    "date = []\n",
    "team_id = []\n",
    "team_code = []\n",
    "player_id = []\n",
    "name = []\n",
    "catches = []\n",
    "toi = []\n",
    "assists = []\n",
    "goals = []\n",
    "pim = []\n",
    "shots = []\n",
    "saves = []\n",
    "pp_saves = []\n",
    "sh_saves = []\n",
    "ev_saves = []\n",
    "sh_shots = []\n",
    "ev_shots = []\n",
    "pp_shots = []\n",
    "decision = []\n",
    "sv_perc = []\n",
    "pp_sv_perc = []\n",
    "sh_sv_perc = []\n",
    "ev_sv_perc = []"
   ]
  },
  {
   "cell_type": "code",
   "execution_count": 111,
   "id": "f0fa3cd8-3333-441d-834d-6dec4f1c69bc",
   "metadata": {},
   "outputs": [],
   "source": [
    "#pull data fror the goalies - away team \n",
    "for i in range(len(game_data_2)):\n",
    "    goalies = game_data_2[i]['liveData']['boxscore']['teams']['away']['players']\n",
    "    for j in goalies:\n",
    "        if len(goalies[j]['stats']) > 0:\n",
    "            if 'goalieStats' in goalies[j]['stats']:\n",
    "                toi.append(goalies[j]['stats']['goalieStats']['timeOnIce'])\n",
    "                assists.append(goalies[j]['stats']['goalieStats']['assists'])\n",
    "                goals.append(goalies[j]['stats']['goalieStats']['goals'])\n",
    "                pim.append(goalies[j]['stats']['goalieStats']['pim'])\n",
    "                shots.append(goalies[j]['stats']['goalieStats']['shots'])\n",
    "                saves.append(goalies[j]['stats']['goalieStats']['saves'])\n",
    "                pp_saves.append(goalies[j]['stats']['goalieStats']['powerPlaySaves'])\n",
    "                sh_saves.append(goalies[j]['stats']['goalieStats']['shortHandedSaves'])\n",
    "                ev_saves.append(goalies[j]['stats']['goalieStats']['evenSaves'])\n",
    "                sh_shots.append(goalies[j]['stats']['goalieStats']['shortHandedShotsAgainst'])\n",
    "                ev_shots.append(goalies[j]['stats']['goalieStats']['evenShotsAgainst'])\n",
    "                pp_shots.append(goalies[j]['stats']['goalieStats']['powerPlayShotsAgainst'])\n",
    "                decision.append(goalies[j]['stats']['goalieStats']['decision'])\n",
    "                player_id.append(goalies[j]['person']['id'])\n",
    "                name.append(goalies[j]['person']['fullName'])\n",
    "                catches.append(goalies[j]['person']['shootsCatches'])\n",
    "                game_num.append(game_data_2[i]['gameData']['game']['pk'])\n",
    "                date.append(game_data_2[i]['gameData']['datetime']['dateTime'])\n",
    "                team_id.append(game_data_2[i]['gameData']['teams']['away']['id'])\n",
    "                team_code.append(game_data_2[i]['gameData']['teams']['away']['triCode'])\n",
    "                \n",
    "                try:\n",
    "                    pp_sv_perc.append(goalies[j]['stats']['goalieStats']['powerPlaySavePercentage'])\n",
    "                except KeyError: \n",
    "                    pp_sv_perc.append('NaN')\n",
    "                \n",
    "                try: \n",
    "                    sh_sv_perc.append(goalies[j]['stats']['goalieStats']['shortHandedSavePercentage'])\n",
    "                except KeyError:\n",
    "                    sh_sv_perc.append('NaN')\n",
    "                    \n",
    "                try:\n",
    "                    sv_perc.append(goalies[j]['stats']['goalieStats']['savePercentage'])\n",
    "                except KeyError: \n",
    "                    sv_perc.append('NaN')\n",
    "                    \n",
    "                try: \n",
    "                    ev_sv_perc.append(goalies[j]['stats']['goalieStats']['evenStrengthSavePercentage'])  \n",
    "                except KeyError:\n",
    "                    ev_sv_perc.append('NaN')"
   ]
  },
  {
   "cell_type": "code",
   "execution_count": 106,
   "id": "b050a671-3aef-47ce-992e-e04cd22b6f48",
   "metadata": {},
   "outputs": [
    {
     "data": {
      "text/plain": [
       "533"
      ]
     },
     "execution_count": 106,
     "metadata": {},
     "output_type": "execute_result"
    }
   ],
   "source": [
    "len(saves)"
   ]
  },
  {
   "cell_type": "code",
   "execution_count": 112,
   "id": "9d35c8da-07bb-4437-8bf6-6032f0c32b57",
   "metadata": {},
   "outputs": [],
   "source": [
    "#create dataframe- away data \n",
    "goalie_data_a = pd.DataFrame(list(zip(game_num, date, team_id, team_code, player_id, name, catches, toi, assists, goals, pim, shots, \n",
    "                                      saves, pp_saves, sh_saves, ev_saves, sh_shots, ev_shots, pp_shots, decision, sv_perc, pp_sv_perc,\n",
    "                                      sh_sv_perc, ev_sv_perc)),\n",
    "               columns =['game_num', 'date', 'team_id', 'team_code', 'player_id', 'name', 'catches', 'toi', 'assists', 'goals', 'pim', 'shots', \n",
    "                         'saves', 'pp_saves', 'sh_saves', 'ev_saves', 'sh_shots', 'ev_shots', 'pp_shots', 'decision', 'sv_perc', 'pp_sv_perc',\n",
    "                         'sh_sv_perc', 'ev_sv_perc'])"
   ]
  },
  {
   "cell_type": "code",
   "execution_count": 113,
   "id": "5537dcd0-9b84-46fb-954b-d12e30ed3a35",
   "metadata": {},
   "outputs": [],
   "source": [
    "goalie_data_a['home_away'] = 'away'"
   ]
  },
  {
   "cell_type": "code",
   "execution_count": 119,
   "id": "fbd1a045-2556-41aa-b62f-e701ac79cbec",
   "metadata": {},
   "outputs": [],
   "source": [
    "#empty lists for creating the player dataframe - home team\n",
    "game_num = []\n",
    "date = []\n",
    "team_id = []\n",
    "team_code = []\n",
    "player_id = []\n",
    "name = []\n",
    "catches = []\n",
    "toi = []\n",
    "assists = []\n",
    "goals = []\n",
    "pim = []\n",
    "shots = []\n",
    "saves = []\n",
    "pp_saves = []\n",
    "sh_saves = []\n",
    "ev_saves = []\n",
    "sh_shots = []\n",
    "ev_shots = []\n",
    "pp_shots = []\n",
    "decision = []\n",
    "sv_perc = []\n",
    "pp_sv_perc = []\n",
    "sh_sv_perc = []\n",
    "ev_sv_perc = []"
   ]
  },
  {
   "cell_type": "code",
   "execution_count": 120,
   "id": "ab6055f2-c8a2-4eda-b2f2-c5ae3de241ee",
   "metadata": {},
   "outputs": [],
   "source": [
    "#pull data fror the goalies - home team \n",
    "for i in range(len(game_data_2)):\n",
    "    goalies = game_data_2[i]['liveData']['boxscore']['teams']['home']['players']\n",
    "    for j in goalies:\n",
    "        if len(goalies[j]['stats']) > 0:\n",
    "            if 'goalieStats' in goalies[j]['stats']:\n",
    "                toi.append(goalies[j]['stats']['goalieStats']['timeOnIce'])\n",
    "                assists.append(goalies[j]['stats']['goalieStats']['assists'])\n",
    "                goals.append(goalies[j]['stats']['goalieStats']['goals'])\n",
    "                pim.append(goalies[j]['stats']['goalieStats']['pim'])\n",
    "                shots.append(goalies[j]['stats']['goalieStats']['shots'])\n",
    "                saves.append(goalies[j]['stats']['goalieStats']['saves'])\n",
    "                pp_saves.append(goalies[j]['stats']['goalieStats']['powerPlaySaves'])\n",
    "                sh_saves.append(goalies[j]['stats']['goalieStats']['shortHandedSaves'])\n",
    "                ev_saves.append(goalies[j]['stats']['goalieStats']['evenSaves'])\n",
    "                sh_shots.append(goalies[j]['stats']['goalieStats']['shortHandedShotsAgainst'])\n",
    "                ev_shots.append(goalies[j]['stats']['goalieStats']['evenShotsAgainst'])\n",
    "                pp_shots.append(goalies[j]['stats']['goalieStats']['powerPlayShotsAgainst'])\n",
    "                decision.append(goalies[j]['stats']['goalieStats']['decision'])\n",
    "                player_id.append(goalies[j]['person']['id'])\n",
    "                name.append(goalies[j]['person']['fullName'])\n",
    "                catches.append(goalies[j]['person']['shootsCatches'])\n",
    "                game_num.append(game_data_2[i]['gameData']['game']['pk'])\n",
    "                date.append(game_data_2[i]['gameData']['datetime']['dateTime'])\n",
    "                team_id.append(game_data_2[i]['gameData']['teams']['home']['id'])\n",
    "                team_code.append(game_data_2[i]['gameData']['teams']['home']['triCode'])\n",
    "                \n",
    "                try:\n",
    "                    pp_sv_perc.append(goalies[j]['stats']['goalieStats']['powerPlaySavePercentage'])\n",
    "                except KeyError: \n",
    "                    pp_sv_perc.append('NaN')\n",
    "                \n",
    "                try: \n",
    "                    sh_sv_perc.append(goalies[j]['stats']['goalieStats']['shortHandedSavePercentage'])\n",
    "                except KeyError:\n",
    "                    sh_sv_perc.append('NaN')\n",
    "                    \n",
    "                try:\n",
    "                    sv_perc.append(goalies[j]['stats']['goalieStats']['savePercentage'])\n",
    "                except KeyError: \n",
    "                    sv_perc.append('NaN')\n",
    "                    \n",
    "                try: \n",
    "                    ev_sv_perc.append(goalies[j]['stats']['goalieStats']['evenStrengthSavePercentage'])  \n",
    "                except KeyError:\n",
    "                    ev_sv_perc.append('NaN')"
   ]
  },
  {
   "cell_type": "code",
   "execution_count": 125,
   "id": "12bcee55-957e-44e5-967e-d41855a2fac4",
   "metadata": {},
   "outputs": [
    {
     "data": {
      "text/plain": [
       "527"
      ]
     },
     "execution_count": 125,
     "metadata": {},
     "output_type": "execute_result"
    }
   ],
   "source": [
    "len(date)"
   ]
  },
  {
   "cell_type": "code",
   "execution_count": 126,
   "id": "baff5dc1-1cf3-44cb-a301-10f46f380814",
   "metadata": {},
   "outputs": [],
   "source": [
    "#create dataframe- home data \n",
    "goalie_data_h = pd.DataFrame(list(zip(game_num, date, team_id, team_code, player_id, name, catches, toi, assists, goals, pim, shots, \n",
    "                                      saves, pp_saves, sh_saves, ev_saves, sh_shots, ev_shots, pp_shots, decision, sv_perc, pp_sv_perc,\n",
    "                                      sh_sv_perc, ev_sv_perc)),\n",
    "               columns =['game_num', 'date', 'team_id', 'team_code', 'player_id', 'name', 'catches', 'toi', 'assists', 'goals', 'pim', 'shots', \n",
    "                         'saves', 'pp_saves', 'sh_saves', 'ev_saves', 'sh_shots', 'ev_shots', 'pp_shots', 'decision', 'sv_perc', 'pp_sv_perc',\n",
    "                         'sh_sv_perc', 'ev_sv_perc'])"
   ]
  },
  {
   "cell_type": "code",
   "execution_count": 127,
   "id": "a31dab35-1370-4907-a772-d2605a79211b",
   "metadata": {},
   "outputs": [],
   "source": [
    "goalie_data_h['home_away'] = 'home'"
   ]
  },
  {
   "cell_type": "code",
   "execution_count": 128,
   "id": "3c424d97-1351-46d2-8138-b29c1af4974a",
   "metadata": {},
   "outputs": [],
   "source": [
    "#combine home and away dataframes \n",
    "frames = [goalie_data_h, goalie_data_a]\n",
    "\n",
    "goalie_data_2 = pd.concat(frames)"
   ]
  },
  {
   "cell_type": "code",
   "execution_count": 131,
   "id": "2e406011-055a-4f17-9120-b2843500d846",
   "metadata": {},
   "outputs": [],
   "source": [
    "#create a csv of the game info 0500 - 1000\n",
    "#goalie_data_2.to_csv('goalie_data_1000.csv')"
   ]
  },
  {
   "cell_type": "markdown",
   "id": "2fcea61e-501a-481c-92a0-6c0548e53f9d",
   "metadata": {
    "tags": []
   },
   "source": [
    "## pull game data game #'s 2022021001 - 2022021312"
   ]
  },
  {
   "cell_type": "code",
   "execution_count": 31,
   "id": "8e54dbdf-90b5-4322-a233-230cec0dccde",
   "metadata": {},
   "outputs": [],
   "source": [
    "#Load JSON files \n",
    "#f = open(r'C:\\Users\\akobe\\OneDrive\\Desktop\\Lighthouse\\After\\NHL-Stats\\Scoring_Rates\\Data\\game_data\\game_data_3.json')\n",
    "#game_data_3 = json.load(f)"
   ]
  },
  {
   "cell_type": "code",
   "execution_count": 32,
   "id": "32ff6693-cf5d-4e84-b388-b64016332f7f",
   "metadata": {},
   "outputs": [],
   "source": [
    "#from IPython.display import JSON\n",
    "#JSON(game_data_3)"
   ]
  },
  {
   "cell_type": "code",
   "execution_count": 7,
   "id": "fc9124d4-bc5f-4301-8597-feb0bb6522db",
   "metadata": {},
   "outputs": [],
   "source": [
    "#empty lists for creating the player dataframe - away team\n",
    "game_num = []\n",
    "date = []\n",
    "team_id = []\n",
    "team_code = []\n",
    "player_id = []\n",
    "name = []\n",
    "catches = []\n",
    "toi = []\n",
    "assists = []\n",
    "goals = []\n",
    "pim = []\n",
    "shots = []\n",
    "saves = []\n",
    "pp_saves = []\n",
    "sh_saves = []\n",
    "ev_saves = []\n",
    "sh_shots = []\n",
    "ev_shots = []\n",
    "pp_shots = []\n",
    "decision = []\n",
    "sv_perc = []\n",
    "pp_sv_perc = []\n",
    "sh_sv_perc = []\n",
    "ev_sv_perc = []"
   ]
  },
  {
   "cell_type": "code",
   "execution_count": 8,
   "id": "c847a3a1-8f3a-4228-8075-6ceb3ecfc311",
   "metadata": {},
   "outputs": [],
   "source": [
    "#pull data fror the goalies - away team \n",
    "for i in range(312):\n",
    "    goalies = game_data_3[i]['liveData']['boxscore']['teams']['away']['players']\n",
    "    for j in goalies:\n",
    "        if len(goalies[j]['stats']) > 0:\n",
    "            if 'goalieStats' in goalies[j]['stats']:\n",
    "                toi.append(goalies[j]['stats']['goalieStats']['timeOnIce'])\n",
    "                assists.append(goalies[j]['stats']['goalieStats']['assists'])\n",
    "                goals.append(goalies[j]['stats']['goalieStats']['goals'])\n",
    "                pim.append(goalies[j]['stats']['goalieStats']['pim'])\n",
    "                shots.append(goalies[j]['stats']['goalieStats']['shots'])\n",
    "                saves.append(goalies[j]['stats']['goalieStats']['saves'])\n",
    "                pp_saves.append(goalies[j]['stats']['goalieStats']['powerPlaySaves'])\n",
    "                sh_saves.append(goalies[j]['stats']['goalieStats']['shortHandedSaves'])\n",
    "                ev_saves.append(goalies[j]['stats']['goalieStats']['evenSaves'])\n",
    "                sh_shots.append(goalies[j]['stats']['goalieStats']['shortHandedShotsAgainst'])\n",
    "                ev_shots.append(goalies[j]['stats']['goalieStats']['evenShotsAgainst'])\n",
    "                pp_shots.append(goalies[j]['stats']['goalieStats']['powerPlayShotsAgainst'])\n",
    "                decision.append(goalies[j]['stats']['goalieStats']['decision'])\n",
    "                player_id.append(goalies[j]['person']['id'])\n",
    "                name.append(goalies[j]['person']['fullName'])\n",
    "                catches.append(goalies[j]['person']['shootsCatches'])\n",
    "                game_num.append(game_data_3[i]['gameData']['game']['pk'])\n",
    "                date.append(game_data_3[i]['gameData']['datetime']['dateTime'])\n",
    "                team_id.append(game_data_3[i]['gameData']['teams']['away']['id'])\n",
    "                team_code.append(game_data_3[i]['gameData']['teams']['away']['triCode'])\n",
    "                \n",
    "                try:\n",
    "                    pp_sv_perc.append(goalies[j]['stats']['goalieStats']['powerPlaySavePercentage'])\n",
    "                except KeyError: \n",
    "                    pp_sv_perc.append('NaN')\n",
    "                \n",
    "                try: \n",
    "                    sh_sv_perc.append(goalies[j]['stats']['goalieStats']['shortHandedSavePercentage'])\n",
    "                except KeyError:\n",
    "                    sh_sv_perc.append('NaN')\n",
    "                    \n",
    "                try:\n",
    "                    sv_perc.append(goalies[j]['stats']['goalieStats']['savePercentage'])\n",
    "                except KeyError: \n",
    "                    sv_perc.append('NaN')\n",
    "                    \n",
    "                try: \n",
    "                    ev_sv_perc.append(goalies[j]['stats']['goalieStats']['evenStrengthSavePercentage'])  \n",
    "                except KeyError:\n",
    "                    ev_sv_perc.append('NaN')"
   ]
  },
  {
   "cell_type": "code",
   "execution_count": 12,
   "id": "c1a7ea1c-b697-45ca-b23f-f372eb38665a",
   "metadata": {},
   "outputs": [
    {
     "data": {
      "text/plain": [
       "337"
      ]
     },
     "execution_count": 12,
     "metadata": {},
     "output_type": "execute_result"
    }
   ],
   "source": [
    "len(name)"
   ]
  },
  {
   "cell_type": "code",
   "execution_count": 13,
   "id": "f5f7ea28-d18c-4c43-b161-cd5df160c1d9",
   "metadata": {},
   "outputs": [],
   "source": [
    "#create dataframe- away data \n",
    "goalie_data_a = pd.DataFrame(list(zip(game_num, date, team_id, team_code, player_id, name, catches, toi, assists, goals, pim, shots, \n",
    "                                      saves, pp_saves, sh_saves, ev_saves, sh_shots, ev_shots, pp_shots, decision, sv_perc, pp_sv_perc,\n",
    "                                      sh_sv_perc, ev_sv_perc)),\n",
    "               columns =['game_num', 'date', 'team_id', 'team_code', 'player_id', 'name', 'catches', 'toi', 'assists', 'goals', 'pim', 'shots', \n",
    "                         'saves', 'pp_saves', 'sh_saves', 'ev_saves', 'sh_shots', 'ev_shots', 'pp_shots', 'decision', 'sv_perc', 'pp_sv_perc',\n",
    "                         'sh_sv_perc', 'ev_sv_perc'])"
   ]
  },
  {
   "cell_type": "code",
   "execution_count": 14,
   "id": "eeb1449a-4269-4d14-b832-3347827644a7",
   "metadata": {},
   "outputs": [],
   "source": [
    "goalie_data_a['home_away'] = 'away'"
   ]
  },
  {
   "cell_type": "code",
   "execution_count": 19,
   "id": "2dd31f5e-6a84-4171-a263-02c9648b79f3",
   "metadata": {},
   "outputs": [],
   "source": [
    "#empty lists for creating the player dataframe - home team\n",
    "game_num = []\n",
    "date = []\n",
    "team_id = []\n",
    "team_code = []\n",
    "player_id = []\n",
    "name = []\n",
    "catches = []\n",
    "toi = []\n",
    "assists = []\n",
    "goals = []\n",
    "pim = []\n",
    "shots = []\n",
    "saves = []\n",
    "pp_saves = []\n",
    "sh_saves = []\n",
    "ev_saves = []\n",
    "sh_shots = []\n",
    "ev_shots = []\n",
    "pp_shots = []\n",
    "decision = []\n",
    "sv_perc = []\n",
    "pp_sv_perc = []\n",
    "sh_sv_perc = []\n",
    "ev_sv_perc = []"
   ]
  },
  {
   "cell_type": "code",
   "execution_count": 20,
   "id": "327827b5-0ad0-41f5-b7c2-71a9808ee810",
   "metadata": {},
   "outputs": [],
   "source": [
    "#pull data fror the goalies - home team \n",
    "for i in range(312):\n",
    "    goalies = game_data_3[i]['liveData']['boxscore']['teams']['home']['players']\n",
    "    for j in goalies:\n",
    "        if len(goalies[j]['stats']) > 0:\n",
    "            if 'goalieStats' in goalies[j]['stats']:\n",
    "                toi.append(goalies[j]['stats']['goalieStats']['timeOnIce'])\n",
    "                assists.append(goalies[j]['stats']['goalieStats']['assists'])\n",
    "                goals.append(goalies[j]['stats']['goalieStats']['goals'])\n",
    "                pim.append(goalies[j]['stats']['goalieStats']['pim'])\n",
    "                shots.append(goalies[j]['stats']['goalieStats']['shots'])\n",
    "                saves.append(goalies[j]['stats']['goalieStats']['saves'])\n",
    "                pp_saves.append(goalies[j]['stats']['goalieStats']['powerPlaySaves'])\n",
    "                sh_saves.append(goalies[j]['stats']['goalieStats']['shortHandedSaves'])\n",
    "                ev_saves.append(goalies[j]['stats']['goalieStats']['evenSaves'])\n",
    "                sh_shots.append(goalies[j]['stats']['goalieStats']['shortHandedShotsAgainst'])\n",
    "                ev_shots.append(goalies[j]['stats']['goalieStats']['evenShotsAgainst'])\n",
    "                pp_shots.append(goalies[j]['stats']['goalieStats']['powerPlayShotsAgainst'])\n",
    "                decision.append(goalies[j]['stats']['goalieStats']['decision'])\n",
    "                player_id.append(goalies[j]['person']['id'])\n",
    "                name.append(goalies[j]['person']['fullName'])\n",
    "                catches.append(goalies[j]['person']['shootsCatches'])\n",
    "                game_num.append(game_data_3[i]['gameData']['game']['pk'])\n",
    "                date.append(game_data_3[i]['gameData']['datetime']['dateTime'])\n",
    "                team_id.append(game_data_3[i]['gameData']['teams']['home']['id'])\n",
    "                team_code.append(game_data_3[i]['gameData']['teams']['home']['triCode'])\n",
    "                \n",
    "                try:\n",
    "                    pp_sv_perc.append(goalies[j]['stats']['goalieStats']['powerPlaySavePercentage'])\n",
    "                except KeyError: \n",
    "                    pp_sv_perc.append('NaN')\n",
    "                \n",
    "                try: \n",
    "                    sh_sv_perc.append(goalies[j]['stats']['goalieStats']['shortHandedSavePercentage'])\n",
    "                except KeyError:\n",
    "                    sh_sv_perc.append('NaN')\n",
    "                    \n",
    "                try:\n",
    "                    sv_perc.append(goalies[j]['stats']['goalieStats']['savePercentage'])\n",
    "                except KeyError: \n",
    "                    sv_perc.append('NaN')\n",
    "                    \n",
    "                try: \n",
    "                    ev_sv_perc.append(goalies[j]['stats']['goalieStats']['evenStrengthSavePercentage'])  \n",
    "                except KeyError:\n",
    "                    ev_sv_perc.append('NaN')"
   ]
  },
  {
   "cell_type": "code",
   "execution_count": 24,
   "id": "66ba512b-6ba7-488d-8f33-0d612b1ee2c7",
   "metadata": {},
   "outputs": [
    {
     "data": {
      "text/plain": [
       "332"
      ]
     },
     "execution_count": 24,
     "metadata": {},
     "output_type": "execute_result"
    }
   ],
   "source": [
    "len(name)"
   ]
  },
  {
   "cell_type": "code",
   "execution_count": 25,
   "id": "e1123be6-9b89-49cf-93b2-953be76629be",
   "metadata": {},
   "outputs": [],
   "source": [
    "#create dataframe- home data \n",
    "goalie_data_h = pd.DataFrame(list(zip(game_num, date, team_id, team_code, player_id, name, catches, toi, assists, goals, pim, shots, \n",
    "                                      saves, pp_saves, sh_saves, ev_saves, sh_shots, ev_shots, pp_shots, decision, sv_perc, pp_sv_perc,\n",
    "                                      sh_sv_perc, ev_sv_perc)),\n",
    "               columns =['game_num', 'date', 'team_id', 'team_code', 'player_id', 'name', 'catches', 'toi', 'assists', 'goals', 'pim', 'shots', \n",
    "                         'saves', 'pp_saves', 'sh_saves', 'ev_saves', 'sh_shots', 'ev_shots', 'pp_shots', 'decision', 'sv_perc', 'pp_sv_perc',\n",
    "                         'sh_sv_perc', 'ev_sv_perc'])"
   ]
  },
  {
   "cell_type": "code",
   "execution_count": 26,
   "id": "d5bcc6b0-308b-491b-825d-e91d5eed0758",
   "metadata": {},
   "outputs": [],
   "source": [
    "goalie_data_h['home_away'] = 'home'"
   ]
  },
  {
   "cell_type": "code",
   "execution_count": 27,
   "id": "4e051050-6645-4a13-b993-9e98a6e06505",
   "metadata": {},
   "outputs": [],
   "source": [
    "#combine home and away dataframes \n",
    "frames = [goalie_data_h, goalie_data_a]\n",
    "\n",
    "goalie_data_3 = pd.concat(frames)"
   ]
  },
  {
   "cell_type": "code",
   "execution_count": 30,
   "id": "eac06916-67f6-4dc9-b3bd-de841dfb1428",
   "metadata": {},
   "outputs": [],
   "source": [
    "#create a csv of the game info 1001 - 1312\n",
    "#goalie_data_3.to_csv('goalie_data_1312.csv')"
   ]
  },
  {
   "cell_type": "markdown",
   "id": "6236836f-c0c6-43b6-92e7-5ad1fa6572e4",
   "metadata": {},
   "source": [
    "## Combine all the data"
   ]
  },
  {
   "cell_type": "code",
   "execution_count": 37,
   "id": "97938013-5f2d-4367-ac67-b722ee7ec584",
   "metadata": {},
   "outputs": [],
   "source": [
    "#import all data\n",
    "goalie_data_1 = pd.read_csv(r'C:\\Users\\akobe\\OneDrive\\Desktop\\Lighthouse\\After\\NHL-Stats\\Scoring_Rates\\Data\\player_data\\goalie_data_500.csv', index_col = [0]) #index col makes sures another index column is not needed\n",
    "goalie_data_2 = pd.read_csv(r'C:\\Users\\akobe\\OneDrive\\Desktop\\Lighthouse\\After\\NHL-Stats\\Scoring_Rates\\Data\\player_data\\goalie_data_1000.csv', index_col = [0])\n",
    "goalie_data_3 = pd.read_csv(r'C:\\Users\\akobe\\OneDrive\\Desktop\\Lighthouse\\After\\NHL-Stats\\Scoring_Rates\\Data\\player_data\\goalie_data_1312.csv', index_col = [0])"
   ]
  },
  {
   "cell_type": "code",
   "execution_count": 38,
   "id": "19aa1f1f-308a-43e9-b4bd-2cf63bcba0b7",
   "metadata": {},
   "outputs": [
    {
     "data": {
      "text/html": [
       "<div>\n",
       "<style scoped>\n",
       "    .dataframe tbody tr th:only-of-type {\n",
       "        vertical-align: middle;\n",
       "    }\n",
       "\n",
       "    .dataframe tbody tr th {\n",
       "        vertical-align: top;\n",
       "    }\n",
       "\n",
       "    .dataframe thead th {\n",
       "        text-align: right;\n",
       "    }\n",
       "</style>\n",
       "<table border=\"1\" class=\"dataframe\">\n",
       "  <thead>\n",
       "    <tr style=\"text-align: right;\">\n",
       "      <th></th>\n",
       "      <th>game_num</th>\n",
       "      <th>date</th>\n",
       "      <th>team_id</th>\n",
       "      <th>team_code</th>\n",
       "      <th>player_id</th>\n",
       "      <th>name</th>\n",
       "      <th>catches</th>\n",
       "      <th>toi</th>\n",
       "      <th>assists</th>\n",
       "      <th>goals</th>\n",
       "      <th>...</th>\n",
       "      <th>ev_saves</th>\n",
       "      <th>sh_shots</th>\n",
       "      <th>ev_shots</th>\n",
       "      <th>pp_shots</th>\n",
       "      <th>decision</th>\n",
       "      <th>sv_perc</th>\n",
       "      <th>pp_sv_perc</th>\n",
       "      <th>sh_sv_perc</th>\n",
       "      <th>ev_sv_perc</th>\n",
       "      <th>home_away</th>\n",
       "    </tr>\n",
       "  </thead>\n",
       "  <tbody>\n",
       "    <tr>\n",
       "      <th>0</th>\n",
       "      <td>2022021001</td>\n",
       "      <td>2023-03-05T20:00:00Z</td>\n",
       "      <td>12</td>\n",
       "      <td>CAR</td>\n",
       "      <td>8475883</td>\n",
       "      <td>Frederik Andersen</td>\n",
       "      <td>L</td>\n",
       "      <td>60:00</td>\n",
       "      <td>0</td>\n",
       "      <td>0</td>\n",
       "      <td>...</td>\n",
       "      <td>11</td>\n",
       "      <td>0</td>\n",
       "      <td>11</td>\n",
       "      <td>3</td>\n",
       "      <td>W</td>\n",
       "      <td>100.000000</td>\n",
       "      <td>100.0</td>\n",
       "      <td>NaN</td>\n",
       "      <td>100.000000</td>\n",
       "      <td>home</td>\n",
       "    </tr>\n",
       "    <tr>\n",
       "      <th>1</th>\n",
       "      <td>2022021002</td>\n",
       "      <td>2023-03-05T23:00:00Z</td>\n",
       "      <td>4</td>\n",
       "      <td>PHI</td>\n",
       "      <td>8479394</td>\n",
       "      <td>Carter Hart</td>\n",
       "      <td>L</td>\n",
       "      <td>60:00</td>\n",
       "      <td>0</td>\n",
       "      <td>0</td>\n",
       "      <td>...</td>\n",
       "      <td>21</td>\n",
       "      <td>1</td>\n",
       "      <td>22</td>\n",
       "      <td>3</td>\n",
       "      <td>W</td>\n",
       "      <td>96.153846</td>\n",
       "      <td>100.0</td>\n",
       "      <td>100.0</td>\n",
       "      <td>95.454545</td>\n",
       "      <td>home</td>\n",
       "    </tr>\n",
       "  </tbody>\n",
       "</table>\n",
       "<p>2 rows × 25 columns</p>\n",
       "</div>"
      ],
      "text/plain": [
       "     game_num                  date  team_id team_code  player_id  \\\n",
       "0  2022021001  2023-03-05T20:00:00Z       12       CAR    8475883   \n",
       "1  2022021002  2023-03-05T23:00:00Z        4       PHI    8479394   \n",
       "\n",
       "                name catches    toi  assists  goals  ...  ev_saves  sh_shots  \\\n",
       "0  Frederik Andersen       L  60:00        0      0  ...        11         0   \n",
       "1        Carter Hart       L  60:00        0      0  ...        21         1   \n",
       "\n",
       "   ev_shots  pp_shots  decision     sv_perc  pp_sv_perc  sh_sv_perc  \\\n",
       "0        11         3         W  100.000000       100.0         NaN   \n",
       "1        22         3         W   96.153846       100.0       100.0   \n",
       "\n",
       "   ev_sv_perc home_away  \n",
       "0  100.000000      home  \n",
       "1   95.454545      home  \n",
       "\n",
       "[2 rows x 25 columns]"
      ]
     },
     "execution_count": 38,
     "metadata": {},
     "output_type": "execute_result"
    }
   ],
   "source": [
    "goalie_data_3.head(2)"
   ]
  },
  {
   "cell_type": "code",
   "execution_count": 39,
   "id": "0e8285c7-1ae1-4d37-89f6-72e76d098363",
   "metadata": {},
   "outputs": [],
   "source": [
    "#combine all the data into one file \n",
    "frames = [goalie_data_1, goalie_data_2, goalie_data_3]\n",
    "\n",
    "goalie_data = pd.concat(frames)"
   ]
  },
  {
   "cell_type": "code",
   "execution_count": 40,
   "id": "b7bb1645-65c2-404e-8f3a-635ba772484b",
   "metadata": {},
   "outputs": [],
   "source": [
    "#create a csv of all game info\n",
    "goalie_data.to_csv('goalie_data.csv')"
   ]
  }
 ],
 "metadata": {
  "kernelspec": {
   "display_name": "lighthouse",
   "language": "python",
   "name": "lighthouse"
  },
  "language_info": {
   "codemirror_mode": {
    "name": "ipython",
    "version": 3
   },
   "file_extension": ".py",
   "mimetype": "text/x-python",
   "name": "python",
   "nbconvert_exporter": "python",
   "pygments_lexer": "ipython3",
   "version": "3.9.13"
  }
 },
 "nbformat": 4,
 "nbformat_minor": 5
}
