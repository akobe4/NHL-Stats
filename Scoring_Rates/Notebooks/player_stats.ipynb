{
 "cells": [
  {
   "cell_type": "code",
   "execution_count": 42,
   "id": "81d79df8-291f-49df-9097-b38683f0532e",
   "metadata": {},
   "outputs": [],
   "source": [
    "import pandas as pd \n",
    "import numpy as np\n",
    "import seaborn as sns\n",
    "from datetime import datetime, timedelta\n",
    "import matplotlib.pyplot as plt"
   ]
  },
  {
   "cell_type": "code",
   "execution_count": 2,
   "id": "eab3358a-4bf7-4069-bfd6-7adcbc83b6b7",
   "metadata": {},
   "outputs": [],
   "source": [
    "#upload player data \n",
    "player_data = pd.read_csv(r'C:\\Users\\akobe\\OneDrive\\Desktop\\Lighthouse\\After\\NHL-Stats\\Scoring_Rates\\Data\\player_data\\player_data.csv', index_col = [0]) #index col makes sures another index column is not needed"
   ]
  },
  {
   "cell_type": "code",
   "execution_count": 3,
   "id": "ba754197-9c01-458b-b3c9-609aa3203725",
   "metadata": {},
   "outputs": [
    {
     "data": {
      "text/html": [
       "<div>\n",
       "<style scoped>\n",
       "    .dataframe tbody tr th:only-of-type {\n",
       "        vertical-align: middle;\n",
       "    }\n",
       "\n",
       "    .dataframe tbody tr th {\n",
       "        vertical-align: top;\n",
       "    }\n",
       "\n",
       "    .dataframe thead th {\n",
       "        text-align: right;\n",
       "    }\n",
       "</style>\n",
       "<table border=\"1\" class=\"dataframe\">\n",
       "  <thead>\n",
       "    <tr style=\"text-align: right;\">\n",
       "      <th></th>\n",
       "      <th>game_num</th>\n",
       "      <th>date</th>\n",
       "      <th>team_id</th>\n",
       "      <th>team_code</th>\n",
       "      <th>player_id</th>\n",
       "      <th>name</th>\n",
       "      <th>shoots</th>\n",
       "      <th>position</th>\n",
       "      <th>toi</th>\n",
       "      <th>assists</th>\n",
       "      <th>...</th>\n",
       "      <th>takeaways</th>\n",
       "      <th>giveaways</th>\n",
       "      <th>sh_goals</th>\n",
       "      <th>sh_assists</th>\n",
       "      <th>blocked</th>\n",
       "      <th>plus_minus</th>\n",
       "      <th>even_toi</th>\n",
       "      <th>pp_toi</th>\n",
       "      <th>sh_toi</th>\n",
       "      <th>home_away</th>\n",
       "    </tr>\n",
       "  </thead>\n",
       "  <tbody>\n",
       "    <tr>\n",
       "      <th>0</th>\n",
       "      <td>2022020001</td>\n",
       "      <td>2022-10-07T18:00:00Z</td>\n",
       "      <td>18</td>\n",
       "      <td>NSH</td>\n",
       "      <td>8478508</td>\n",
       "      <td>Yakov Trenin</td>\n",
       "      <td>L</td>\n",
       "      <td>C</td>\n",
       "      <td>17:03</td>\n",
       "      <td>0</td>\n",
       "      <td>...</td>\n",
       "      <td>0</td>\n",
       "      <td>0</td>\n",
       "      <td>0</td>\n",
       "      <td>0</td>\n",
       "      <td>0</td>\n",
       "      <td>0</td>\n",
       "      <td>13:55</td>\n",
       "      <td>0:00</td>\n",
       "      <td>3:08</td>\n",
       "      <td>home</td>\n",
       "    </tr>\n",
       "    <tr>\n",
       "      <th>1</th>\n",
       "      <td>2022020001</td>\n",
       "      <td>2022-10-07T18:00:00Z</td>\n",
       "      <td>18</td>\n",
       "      <td>NSH</td>\n",
       "      <td>8475218</td>\n",
       "      <td>Mattias Ekholm</td>\n",
       "      <td>L</td>\n",
       "      <td>D</td>\n",
       "      <td>21:02</td>\n",
       "      <td>1</td>\n",
       "      <td>...</td>\n",
       "      <td>0</td>\n",
       "      <td>1</td>\n",
       "      <td>0</td>\n",
       "      <td>0</td>\n",
       "      <td>0</td>\n",
       "      <td>2</td>\n",
       "      <td>18:38</td>\n",
       "      <td>0:00</td>\n",
       "      <td>2:24</td>\n",
       "      <td>home</td>\n",
       "    </tr>\n",
       "    <tr>\n",
       "      <th>2</th>\n",
       "      <td>2022020001</td>\n",
       "      <td>2022-10-07T18:00:00Z</td>\n",
       "      <td>18</td>\n",
       "      <td>NSH</td>\n",
       "      <td>8476925</td>\n",
       "      <td>Colton Sissons</td>\n",
       "      <td>R</td>\n",
       "      <td>C</td>\n",
       "      <td>14:08</td>\n",
       "      <td>0</td>\n",
       "      <td>...</td>\n",
       "      <td>0</td>\n",
       "      <td>1</td>\n",
       "      <td>0</td>\n",
       "      <td>0</td>\n",
       "      <td>1</td>\n",
       "      <td>-1</td>\n",
       "      <td>12:07</td>\n",
       "      <td>0:00</td>\n",
       "      <td>2:01</td>\n",
       "      <td>home</td>\n",
       "    </tr>\n",
       "    <tr>\n",
       "      <th>3</th>\n",
       "      <td>2022020001</td>\n",
       "      <td>2022-10-07T18:00:00Z</td>\n",
       "      <td>18</td>\n",
       "      <td>NSH</td>\n",
       "      <td>8476887</td>\n",
       "      <td>Filip Forsberg</td>\n",
       "      <td>R</td>\n",
       "      <td>LW</td>\n",
       "      <td>16:44</td>\n",
       "      <td>1</td>\n",
       "      <td>...</td>\n",
       "      <td>0</td>\n",
       "      <td>1</td>\n",
       "      <td>0</td>\n",
       "      <td>0</td>\n",
       "      <td>0</td>\n",
       "      <td>1</td>\n",
       "      <td>12:37</td>\n",
       "      <td>4:03</td>\n",
       "      <td>0:04</td>\n",
       "      <td>home</td>\n",
       "    </tr>\n",
       "    <tr>\n",
       "      <th>4</th>\n",
       "      <td>2022020001</td>\n",
       "      <td>2022-10-07T18:00:00Z</td>\n",
       "      <td>18</td>\n",
       "      <td>NSH</td>\n",
       "      <td>8475798</td>\n",
       "      <td>Mikael Granlund</td>\n",
       "      <td>L</td>\n",
       "      <td>C</td>\n",
       "      <td>17:52</td>\n",
       "      <td>1</td>\n",
       "      <td>...</td>\n",
       "      <td>0</td>\n",
       "      <td>0</td>\n",
       "      <td>0</td>\n",
       "      <td>0</td>\n",
       "      <td>0</td>\n",
       "      <td>1</td>\n",
       "      <td>13:28</td>\n",
       "      <td>4:03</td>\n",
       "      <td>0:21</td>\n",
       "      <td>home</td>\n",
       "    </tr>\n",
       "  </tbody>\n",
       "</table>\n",
       "<p>5 rows × 29 columns</p>\n",
       "</div>"
      ],
      "text/plain": [
       "     game_num                  date  team_id team_code  player_id  \\\n",
       "0  2022020001  2022-10-07T18:00:00Z       18       NSH    8478508   \n",
       "1  2022020001  2022-10-07T18:00:00Z       18       NSH    8475218   \n",
       "2  2022020001  2022-10-07T18:00:00Z       18       NSH    8476925   \n",
       "3  2022020001  2022-10-07T18:00:00Z       18       NSH    8476887   \n",
       "4  2022020001  2022-10-07T18:00:00Z       18       NSH    8475798   \n",
       "\n",
       "              name shoots position    toi  assists  ...  takeaways  giveaways  \\\n",
       "0     Yakov Trenin      L        C  17:03        0  ...          0          0   \n",
       "1   Mattias Ekholm      L        D  21:02        1  ...          0          1   \n",
       "2   Colton Sissons      R        C  14:08        0  ...          0          1   \n",
       "3   Filip Forsberg      R       LW  16:44        1  ...          0          1   \n",
       "4  Mikael Granlund      L        C  17:52        1  ...          0          0   \n",
       "\n",
       "   sh_goals  sh_assists  blocked  plus_minus  even_toi  pp_toi  sh_toi  \\\n",
       "0         0           0        0           0     13:55    0:00    3:08   \n",
       "1         0           0        0           2     18:38    0:00    2:24   \n",
       "2         0           0        1          -1     12:07    0:00    2:01   \n",
       "3         0           0        0           1     12:37    4:03    0:04   \n",
       "4         0           0        0           1     13:28    4:03    0:21   \n",
       "\n",
       "   home_away  \n",
       "0       home  \n",
       "1       home  \n",
       "2       home  \n",
       "3       home  \n",
       "4       home  \n",
       "\n",
       "[5 rows x 29 columns]"
      ]
     },
     "execution_count": 3,
     "metadata": {},
     "output_type": "execute_result"
    }
   ],
   "source": [
    "player_data.head()"
   ]
  },
  {
   "cell_type": "code",
   "execution_count": 4,
   "id": "205aa9dd-5114-40c3-93d9-2d9ee72a9003",
   "metadata": {},
   "outputs": [
    {
     "name": "stdout",
     "output_type": "stream",
     "text": [
      "<class 'pandas.core.frame.DataFrame'>\n",
      "Int64Index: 47208 entries, 0 to 5610\n",
      "Data columns (total 29 columns):\n",
      " #   Column      Non-Null Count  Dtype  \n",
      "---  ------      --------------  -----  \n",
      " 0   game_num    47208 non-null  int64  \n",
      " 1   date        47208 non-null  object \n",
      " 2   team_id     47208 non-null  int64  \n",
      " 3   team_code   47208 non-null  object \n",
      " 4   player_id   47208 non-null  int64  \n",
      " 5   name        47208 non-null  object \n",
      " 6   shoots      47208 non-null  object \n",
      " 7   position    47208 non-null  object \n",
      " 8   toi         47208 non-null  object \n",
      " 9   assists     47208 non-null  int64  \n",
      " 10  goals       47208 non-null  int64  \n",
      " 11  shots       47208 non-null  int64  \n",
      " 12  hits        47208 non-null  int64  \n",
      " 13  pp_goals    47208 non-null  int64  \n",
      " 14  pp_assists  47208 non-null  int64  \n",
      " 15  pim         47208 non-null  int64  \n",
      " 16  fo_perc     17747 non-null  float64\n",
      " 17  fo_wins     47208 non-null  int64  \n",
      " 18  fo_taken    47208 non-null  int64  \n",
      " 19  takeaways   47208 non-null  int64  \n",
      " 20  giveaways   47208 non-null  int64  \n",
      " 21  sh_goals    47208 non-null  int64  \n",
      " 22  sh_assists  47208 non-null  int64  \n",
      " 23  blocked     47208 non-null  int64  \n",
      " 24  plus_minus  47208 non-null  int64  \n",
      " 25  even_toi    47208 non-null  object \n",
      " 26  pp_toi      47208 non-null  object \n",
      " 27  sh_toi      47208 non-null  object \n",
      " 28  home_away   47208 non-null  object \n",
      "dtypes: float64(1), int64(18), object(10)\n",
      "memory usage: 10.8+ MB\n"
     ]
    }
   ],
   "source": [
    "player_data.info()"
   ]
  },
  {
   "cell_type": "markdown",
   "id": "878cab19-1910-467e-a420-d1ac31fccbdf",
   "metadata": {},
   "source": [
    "## Cleaning"
   ]
  },
  {
   "cell_type": "code",
   "execution_count": 5,
   "id": "a4e2f205-1937-462f-acd7-c0ed741ccb2b",
   "metadata": {},
   "outputs": [],
   "source": [
    "#change date to datetime data type \n",
    "player_data['date'] = pd.to_datetime(player_data['date'])"
   ]
  },
  {
   "cell_type": "code",
   "execution_count": 6,
   "id": "f79a7912-6d40-4f72-9adf-c5cbf4b2bd39",
   "metadata": {},
   "outputs": [],
   "source": [
    "#remove timestamp from date column \n",
    "player_data['date'] = player_data['date'].dt.strftime('%Y-%m-%d')"
   ]
  },
  {
   "cell_type": "code",
   "execution_count": 7,
   "id": "70eee59e-e26a-4fcb-8903-f1a857b1abc2",
   "metadata": {},
   "outputs": [],
   "source": [
    "#change time on ice variables to time data type \n",
    "player_data['toi'] = pd.to_datetime(player_data['toi'], format='%M:%S').dt.time\n",
    "player_data['even_toi'] = pd.to_datetime(player_data['even_toi'], format='%M:%S').dt.time\n",
    "player_data['pp_toi'] = pd.to_datetime(player_data['pp_toi'], format='%M:%S').dt.time\n",
    "player_data['sh_toi'] = pd.to_datetime(player_data['sh_toi'], format='%M:%S').dt.time"
   ]
  },
  {
   "cell_type": "code",
   "execution_count": 8,
   "id": "a58900e0-8a80-4078-8dd2-aa6138cf8615",
   "metadata": {},
   "outputs": [],
   "source": [
    "#change time on ice variables to timedelta for addition and convert to minutes\n",
    "player_data['toi'] = pd.to_timedelta(player_data['toi'].astype(str))/pd.Timedelta('60s')\n",
    "player_data['even_toi'] = pd.to_timedelta(player_data['even_toi'].astype(str))/pd.Timedelta('60s')\n",
    "player_data['pp_toi'] = pd.to_timedelta(player_data['pp_toi'].astype(str))/pd.Timedelta('60s')\n",
    "player_data['sh_toi'] = pd.to_timedelta(player_data['sh_toi'].astype(str))/pd.Timedelta('60s')"
   ]
  },
  {
   "cell_type": "markdown",
   "id": "6558ceca-b1de-48ab-9ad6-a42047c3bf9e",
   "metadata": {},
   "source": [
    "## Different Player Statistics "
   ]
  },
  {
   "cell_type": "markdown",
   "id": "53c11545-500c-4035-b6f3-939154b5262a",
   "metadata": {},
   "source": [
    "## Leaf's players min played vs. goals scored "
   ]
  },
  {
   "cell_type": "code",
   "execution_count": 20,
   "id": "0cbb130f-668f-4a58-bd36-fdf384dfe001",
   "metadata": {},
   "outputs": [],
   "source": [
    "#create a dataframe of just Toronto \n",
    "leaf_data = player_data.loc[player_data['team_code'] == 'TOR']"
   ]
  },
  {
   "cell_type": "code",
   "execution_count": 21,
   "id": "35c68de5-ea62-42c1-8643-dd6e874ecad6",
   "metadata": {},
   "outputs": [
    {
     "data": {
      "text/html": [
       "<div>\n",
       "<style scoped>\n",
       "    .dataframe tbody tr th:only-of-type {\n",
       "        vertical-align: middle;\n",
       "    }\n",
       "\n",
       "    .dataframe tbody tr th {\n",
       "        vertical-align: top;\n",
       "    }\n",
       "\n",
       "    .dataframe thead th {\n",
       "        text-align: right;\n",
       "    }\n",
       "</style>\n",
       "<table border=\"1\" class=\"dataframe\">\n",
       "  <thead>\n",
       "    <tr style=\"text-align: right;\">\n",
       "      <th></th>\n",
       "      <th>game_num</th>\n",
       "      <th>date</th>\n",
       "      <th>team_id</th>\n",
       "      <th>team_code</th>\n",
       "      <th>player_id</th>\n",
       "      <th>name</th>\n",
       "      <th>shoots</th>\n",
       "      <th>position</th>\n",
       "      <th>toi</th>\n",
       "      <th>assists</th>\n",
       "      <th>...</th>\n",
       "      <th>takeaways</th>\n",
       "      <th>giveaways</th>\n",
       "      <th>sh_goals</th>\n",
       "      <th>sh_assists</th>\n",
       "      <th>blocked</th>\n",
       "      <th>plus_minus</th>\n",
       "      <th>even_toi</th>\n",
       "      <th>pp_toi</th>\n",
       "      <th>sh_toi</th>\n",
       "      <th>home_away</th>\n",
       "    </tr>\n",
       "  </thead>\n",
       "  <tbody>\n",
       "    <tr>\n",
       "      <th>251</th>\n",
       "      <td>2022020015</td>\n",
       "      <td>2022-10-13</td>\n",
       "      <td>10</td>\n",
       "      <td>TOR</td>\n",
       "      <td>8470966</td>\n",
       "      <td>Mark Giordano</td>\n",
       "      <td>L</td>\n",
       "      <td>D</td>\n",
       "      <td>19.716667</td>\n",
       "      <td>1</td>\n",
       "      <td>...</td>\n",
       "      <td>1</td>\n",
       "      <td>1</td>\n",
       "      <td>0</td>\n",
       "      <td>0</td>\n",
       "      <td>2</td>\n",
       "      <td>1</td>\n",
       "      <td>15.30</td>\n",
       "      <td>2.15</td>\n",
       "      <td>2.266667</td>\n",
       "      <td>home</td>\n",
       "    </tr>\n",
       "    <tr>\n",
       "      <th>252</th>\n",
       "      <td>2022020015</td>\n",
       "      <td>2022-10-13</td>\n",
       "      <td>10</td>\n",
       "      <td>TOR</td>\n",
       "      <td>8475718</td>\n",
       "      <td>Justin Holl</td>\n",
       "      <td>R</td>\n",
       "      <td>D</td>\n",
       "      <td>20.466667</td>\n",
       "      <td>0</td>\n",
       "      <td>...</td>\n",
       "      <td>2</td>\n",
       "      <td>1</td>\n",
       "      <td>0</td>\n",
       "      <td>0</td>\n",
       "      <td>4</td>\n",
       "      <td>0</td>\n",
       "      <td>16.05</td>\n",
       "      <td>0.00</td>\n",
       "      <td>4.416667</td>\n",
       "      <td>home</td>\n",
       "    </tr>\n",
       "  </tbody>\n",
       "</table>\n",
       "<p>2 rows × 29 columns</p>\n",
       "</div>"
      ],
      "text/plain": [
       "       game_num        date  team_id team_code  player_id           name  \\\n",
       "251  2022020015  2022-10-13       10       TOR    8470966  Mark Giordano   \n",
       "252  2022020015  2022-10-13       10       TOR    8475718    Justin Holl   \n",
       "\n",
       "    shoots position        toi  assists  ...  takeaways  giveaways  sh_goals  \\\n",
       "251      L        D  19.716667        1  ...          1          1         0   \n",
       "252      R        D  20.466667        0  ...          2          1         0   \n",
       "\n",
       "     sh_assists  blocked  plus_minus  even_toi  pp_toi    sh_toi  home_away  \n",
       "251           0        2           1     15.30    2.15  2.266667       home  \n",
       "252           0        4           0     16.05    0.00  4.416667       home  \n",
       "\n",
       "[2 rows x 29 columns]"
      ]
     },
     "execution_count": 21,
     "metadata": {},
     "output_type": "execute_result"
    }
   ],
   "source": [
    "leaf_data.head(2)"
   ]
  },
  {
   "cell_type": "code",
   "execution_count": 22,
   "id": "acdb5d5d-cd4b-49b2-ad1b-0c26a85b6cb6",
   "metadata": {},
   "outputs": [],
   "source": [
    "#get the total number of goals for each player (season totals)\n",
    "#Note that the name argument within reset_index() specifies the name for the new column produced by GroupBy.\n",
    "num_goals_season = leaf_data.groupby('name')['goals'].sum().reset_index(name='total_goals')  "
   ]
  },
  {
   "cell_type": "code",
   "execution_count": 23,
   "id": "5ed1dd71-8710-4bd0-9e52-f3c7c8093ae7",
   "metadata": {},
   "outputs": [],
   "source": [
    "#get total toi for the season for each leaf's player\n",
    "season_toi = leaf_data.groupby('name')['toi'].sum().reset_index(name='total_toi')  "
   ]
  },
  {
   "cell_type": "code",
   "execution_count": 24,
   "id": "fb54ee71-a2f7-4314-88bb-d0822d063d7e",
   "metadata": {},
   "outputs": [],
   "source": [
    "#combine totals dataframes into a single dataframe \n",
    "goals_toi_total = pd.merge(num_goals_season, season_toi, on='name', how='outer')"
   ]
  },
  {
   "cell_type": "code",
   "execution_count": 25,
   "id": "f51ff667-14fe-4311-abcc-4b69a65b7c25",
   "metadata": {},
   "outputs": [],
   "source": [
    "#calculate # of goals scored per minutes played \n",
    "goals_toi_total['goals_time'] = goals_toi_total['total_goals']/goals_toi_total['total_toi']"
   ]
  },
  {
   "cell_type": "code",
   "execution_count": 26,
   "id": "2ec23faa-be97-423d-ab76-640864f9702d",
   "metadata": {},
   "outputs": [],
   "source": [
    "#show only players with goals \n",
    "goals_toi_total = goals_toi_total[goals_toi_total['total_goals'] != 0]"
   ]
  },
  {
   "cell_type": "code",
   "execution_count": 28,
   "id": "b574c726-7e94-46a3-bab2-6b10707ea9e3",
   "metadata": {},
   "outputs": [],
   "source": [
    "#get total # of short-handed goals per season\n",
    "season_sh_goals = leaf_data.groupby('name')['sh_goals'].sum().reset_index(name='total_sh_goals')  "
   ]
  },
  {
   "cell_type": "code",
   "execution_count": 30,
   "id": "a77eb2b2-b6c3-4f6b-8cfe-fd9b977957a9",
   "metadata": {},
   "outputs": [],
   "source": [
    "#get total # of power play goals per season\n",
    "season_pp_goals = leaf_data.groupby('name')['pp_goals'].sum().reset_index(name='total_pp_goals')  "
   ]
  },
  {
   "cell_type": "code",
   "execution_count": 32,
   "id": "2b86a1b8-9675-44c5-9e9c-8a3a8195155c",
   "metadata": {},
   "outputs": [],
   "source": [
    "#merge sh and pp goals to df\n",
    "goals_toi_total = pd.merge(goals_toi_total, season_sh_goals, on='name', how='left')\n",
    "goals_toi_total = pd.merge(goals_toi_total, season_pp_goals, on='name', how='left')"
   ]
  },
  {
   "cell_type": "code",
   "execution_count": 37,
   "id": "90816a61-9171-43cc-92a3-5f68944eb01e",
   "metadata": {},
   "outputs": [],
   "source": [
    "#calculate total even strength goals for the season \n",
    "goals_toi_total['total_even_goals'] = goals_toi_total['total_goals'] - (goals_toi_total['total_sh_goals']+goals_toi_total['total_pp_goals'])"
   ]
  },
  {
   "cell_type": "code",
   "execution_count": 38,
   "id": "50cf66d3-7223-49b7-9c58-e69ee67dc13f",
   "metadata": {},
   "outputs": [
    {
     "data": {
      "text/html": [
       "<div>\n",
       "<style scoped>\n",
       "    .dataframe tbody tr th:only-of-type {\n",
       "        vertical-align: middle;\n",
       "    }\n",
       "\n",
       "    .dataframe tbody tr th {\n",
       "        vertical-align: top;\n",
       "    }\n",
       "\n",
       "    .dataframe thead th {\n",
       "        text-align: right;\n",
       "    }\n",
       "</style>\n",
       "<table border=\"1\" class=\"dataframe\">\n",
       "  <thead>\n",
       "    <tr style=\"text-align: right;\">\n",
       "      <th></th>\n",
       "      <th>name</th>\n",
       "      <th>total_goals</th>\n",
       "      <th>total_toi</th>\n",
       "      <th>goals_time</th>\n",
       "      <th>total_sh_goals</th>\n",
       "      <th>total_pp_goals</th>\n",
       "      <th>total_even_goals</th>\n",
       "    </tr>\n",
       "  </thead>\n",
       "  <tbody>\n",
       "    <tr>\n",
       "      <th>0</th>\n",
       "      <td>Alex Kerfoot</td>\n",
       "      <td>10</td>\n",
       "      <td>1198.75</td>\n",
       "      <td>0.008342</td>\n",
       "      <td>1</td>\n",
       "      <td>2</td>\n",
       "      <td>7</td>\n",
       "    </tr>\n",
       "    <tr>\n",
       "      <th>1</th>\n",
       "      <td>Auston Matthews</td>\n",
       "      <td>40</td>\n",
       "      <td>1500.60</td>\n",
       "      <td>0.026656</td>\n",
       "      <td>0</td>\n",
       "      <td>13</td>\n",
       "      <td>27</td>\n",
       "    </tr>\n",
       "  </tbody>\n",
       "</table>\n",
       "</div>"
      ],
      "text/plain": [
       "              name  total_goals  total_toi  goals_time  total_sh_goals  \\\n",
       "0     Alex Kerfoot           10    1198.75    0.008342               1   \n",
       "1  Auston Matthews           40    1500.60    0.026656               0   \n",
       "\n",
       "   total_pp_goals  total_even_goals  \n",
       "0               2                 7  \n",
       "1              13                27  "
      ]
     },
     "execution_count": 38,
     "metadata": {},
     "output_type": "execute_result"
    }
   ],
   "source": [
    "goals_toi_total.head(2)"
   ]
  },
  {
   "cell_type": "code",
   "execution_count": 57,
   "id": "7626b592-a3cb-433b-acd3-73621f9b2fd3",
   "metadata": {},
   "outputs": [],
   "source": [
    "#top 10 season goal scorers \n",
    "top_10_scorers = goals_toi_total.nlargest(10, 'total_goals')\n",
    "top_10_scorers = top_10_scorers.drop(['total_goals', 'total_toi', 'goals_time'], axis=1)\n",
    "top_10_scorers = top_10_scorers.reset_index(drop=True)"
   ]
  },
  {
   "cell_type": "code",
   "execution_count": 58,
   "id": "32f7f953-4310-4a92-8288-f6234d86a386",
   "metadata": {},
   "outputs": [
    {
     "data": {
      "text/html": [
       "<div>\n",
       "<style scoped>\n",
       "    .dataframe tbody tr th:only-of-type {\n",
       "        vertical-align: middle;\n",
       "    }\n",
       "\n",
       "    .dataframe tbody tr th {\n",
       "        vertical-align: top;\n",
       "    }\n",
       "\n",
       "    .dataframe thead th {\n",
       "        text-align: right;\n",
       "    }\n",
       "</style>\n",
       "<table border=\"1\" class=\"dataframe\">\n",
       "  <thead>\n",
       "    <tr style=\"text-align: right;\">\n",
       "      <th></th>\n",
       "      <th>name</th>\n",
       "      <th>total_sh_goals</th>\n",
       "      <th>total_pp_goals</th>\n",
       "      <th>total_even_goals</th>\n",
       "    </tr>\n",
       "  </thead>\n",
       "  <tbody>\n",
       "    <tr>\n",
       "      <th>0</th>\n",
       "      <td>Auston Matthews</td>\n",
       "      <td>0</td>\n",
       "      <td>13</td>\n",
       "      <td>27</td>\n",
       "    </tr>\n",
       "    <tr>\n",
       "      <th>1</th>\n",
       "      <td>William Nylander</td>\n",
       "      <td>0</td>\n",
       "      <td>9</td>\n",
       "      <td>31</td>\n",
       "    </tr>\n",
       "  </tbody>\n",
       "</table>\n",
       "</div>"
      ],
      "text/plain": [
       "               name  total_sh_goals  total_pp_goals  total_even_goals\n",
       "0   Auston Matthews               0              13                27\n",
       "1  William Nylander               0               9                31"
      ]
     },
     "execution_count": 58,
     "metadata": {},
     "output_type": "execute_result"
    }
   ],
   "source": [
    "top_10_scorers.head(2)"
   ]
  },
  {
   "cell_type": "code",
   "execution_count": 53,
   "id": "ea54b125-8011-4a39-b305-ddf1608a264f",
   "metadata": {},
   "outputs": [
    {
     "data": {
      "text/plain": [
       "Text(0.5, 1.0, 'Goals scored by type')"
      ]
     },
     "execution_count": 53,
     "metadata": {},
     "output_type": "execute_result"
    },
    {
     "data": {
      "image/png": "[encoded data removed]",
      "text/plain": [
       "<Figure size 640x480 with 1 Axes>"
      ]
     },
     "metadata": {},
     "output_type": "display_data"
    }
   ],
   "source": [
    "#stacked bar chart - top 10 goal scorers \n",
    "top_10_scorers.plot(kind='bar', stacked=True, color=['red', 'skyblue', 'green'])\n",
    "\n",
    "# labels for x & y axis\n",
    "plt.xlabel('Name')\n",
    "plt.ylabel('Goals Scored')\n",
    " \n",
    "# title of plot\n",
    "plt.title('Goals scored by type')"
   ]
  },
  {
   "cell_type": "code",
   "execution_count": null,
   "id": "fb66a069-1d7e-4b13-baf5-a2efbc0364ac",
   "metadata": {},
   "outputs": [],
   "source": [
    "ax = sns.histplot(\n",
    "    tips,\n",
    "    x='day',\n",
    "    # Use the value variable here to turn histogram counts into weighted\n",
    "    # values.\n",
    "    weights='tip',\n",
    "    hue='sex',\n",
    "    multiple='stack',\n",
    "    palette=['#24b1d1', '#ae24d1'],\n",
    "    # Add white borders to the bars.\n",
    "    edgecolor='white',\n",
    "    # Shrink the bars a bit so they don't touch.\n",
    "    shrink=0.8\n",
    ")\n",
    "\n",
    "ax.set_title('Tips by Day and Gender')\n",
    "# Remove 'Count' ylabel.\n",
    "ax.set_ylabel(None)"
   ]
  }
 ],
 "metadata": {
  "kernelspec": {
   "display_name": "lighthouse",
   "language": "python",
   "name": "lighthouse"
  },
  "language_info": {
   "codemirror_mode": {
    "name": "ipython",
    "version": 3
   },
   "file_extension": ".py",
   "mimetype": "text/x-python",
   "name": "python",
   "nbconvert_exporter": "python",
   "pygments_lexer": "ipython3",
   "version": "3.9.13"
  }
 },
 "nbformat": 4,
 "nbformat_minor": 5
}
