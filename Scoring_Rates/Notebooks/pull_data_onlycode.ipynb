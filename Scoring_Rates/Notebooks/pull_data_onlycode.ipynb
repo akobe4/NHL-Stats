{
 "cells": [
  {
   "cell_type": "code",
   "execution_count": null,
   "metadata": {},
   "outputs": [],
   "source": [
    "import pandas as pd \n",
    "import requests\n",
    "import os\n",
    "import json\n",
    "import numpy as np"
   ]
  },
  {
   "cell_type": "code",
   "execution_count": null,
   "metadata": {},
   "outputs": [],
   "source": [
    "#create game number list \n",
    "#game numbers range from 0001-1353\n",
    "\n",
    "game_number_list = list(range(1,1354))"
   ]
  },
  {
   "cell_type": "code",
   "execution_count": null,
   "metadata": {},
   "outputs": [],
   "source": [
    "#pad the game number list with leading zeros to create a number that's 4 digits \n",
    "game_number_list_pad = [str(number).zfill(4) for number in game_number_list]"
   ]
  },
  {
   "cell_type": "code",
   "execution_count": null,
   "metadata": {},
   "outputs": [],
   "source": [
    "#create lists in smaller sections \n",
    "game_number_list_pad_1 = game_number_list_pad[:500]\n",
    "game_number_list_pad_2 = game_number_list_pad[500:1000]\n",
    "game_number_list_pad_3 = game_number_list_pad[1000:]"
   ]
  },
  {
   "cell_type": "markdown",
   "metadata": {},
   "source": [
    "## pull game data game #'s 2022020001 - 2022020500"
   ]
  },
  {
   "cell_type": "code",
   "execution_count": null,
   "metadata": {},
   "outputs": [],
   "source": [
    "#create the url's for each game number 1 \n",
    "all_url_1 = []\n",
    "\n",
    "for i in range(len(game_number_list_pad_1)):\n",
    "    game_number_1 = game_number_list_pad_1[i]\n",
    "    game_number_url_1 = 'https://statsapi.web.nhl.com/api/v1/game/202202'+str(game_number_1)+'/feed/live'\n",
    "    all_url_1.append(game_number_url_1)"
   ]
  },
  {
   "cell_type": "code",
   "execution_count": null,
   "metadata": {},
   "outputs": [],
   "source": [
    "#pull the game data from NHL url 1 \n",
    "game_data_1 = []\n",
    "\n",
    "for i in range(len(all_url_1)):\n",
    "    response_1 = requests.get(all_url_1[i])\n",
    "    game_data_1.append(response_1.json())"
   ]
  },
  {
   "cell_type": "code",
   "execution_count": null,
   "metadata": {},
   "outputs": [],
   "source": [
    "#empty lists to create a home team info dataframe \n",
    "team_id = []\n",
    "team_code = []\n",
    "game_num = []\n",
    "date = []\n",
    "goals = []\n",
    "pim = []\n",
    "shots = []\n",
    "pp_perc = []\n",
    "ppg = []\n",
    "pp_opp = []\n",
    "fo_win = []\n",
    "blocked = []\n",
    "takeaways = []\n",
    "giveaways = []\n",
    "hits = []"
   ]
  },
  {
   "cell_type": "code",
   "execution_count": null,
   "metadata": {},
   "outputs": [],
   "source": [
    "#pull data from JSON into a list - for home team info \n",
    "for i in range(len(game_data_1)):\n",
    "    team_id.append(game_data_1[i]['gameData']['teams']['home']['id'])\n",
    "    team_code.append(game_data_1[i]['gameData']['teams']['home']['triCode'])\n",
    "    game_num.append(game_data_1[i]['gameData']['game']['pk'])\n",
    "    date.append(game_data_1[i]['gameData']['datetime']['dateTime'])\n",
    "    goals.append(game_data_1[i]['liveData']['boxscore']['teams']['home']['teamStats']['teamSkaterStats']['goals'])\n",
    "    pim.append(game_data_1[i]['liveData']['boxscore']['teams']['home']['teamStats']['teamSkaterStats']['pim'])\n",
    "    shots.append(game_data_1[i]['liveData']['boxscore']['teams']['home']['teamStats']['teamSkaterStats']['shots'])\n",
    "    pp_perc.append(game_data_1[i]['liveData']['boxscore']['teams']['home']['teamStats']['teamSkaterStats']['powerPlayPercentage'])\n",
    "    ppg.append(game_data_1[i]['liveData']['boxscore']['teams']['home']['teamStats']['teamSkaterStats']['powerPlayGoals'])\n",
    "    pp_opp.append(game_data_1[i]['liveData']['boxscore']['teams']['home']['teamStats']['teamSkaterStats']['powerPlayOpportunities'])\n",
    "    fo_win.append(game_data_1[i]['liveData']['boxscore']['teams']['home']['teamStats']['teamSkaterStats']['faceOffWinPercentage'])\n",
    "    blocked.append(game_data_1[i]['liveData']['boxscore']['teams']['home']['teamStats']['teamSkaterStats']['blocked'])\n",
    "    takeaways.append(game_data_1[i]['liveData']['boxscore']['teams']['home']['teamStats']['teamSkaterStats']['takeaways'])\n",
    "    giveaways.append(game_data_1[i]['liveData']['boxscore']['teams']['home']['teamStats']['teamSkaterStats']['giveaways'])\n",
    "    hits.append(game_data_1[i]['liveData']['boxscore']['teams']['home']['teamStats']['teamSkaterStats']['hits'])"
   ]
  },
  {
   "cell_type": "code",
   "execution_count": null,
   "metadata": {},
   "outputs": [],
   "source": [
    "#create a data frame with the prospect information \n",
    "game_data_h = pd.DataFrame(list(zip(team_id, team_code, game_num, date, goals, pim, shots, pp_perc, ppg, pp_opp, fo_win,\n",
    "                                   blocked, takeaways, giveaways, hits)),\n",
    "               columns =['team_id', 'team_code', 'game_num', 'date', 'goals', 'pim', 'shots', 'pp_perc', 'ppg', 'pp_opp', 'fo_win',\n",
    "                                   'blocked', 'takeaways', 'giveaways', 'hits'])"
   ]
  },
  {
   "cell_type": "code",
   "execution_count": null,
   "metadata": {},
   "outputs": [],
   "source": [
    "game_data_h['home_away'] = 'home'"
   ]
  },
  {
   "cell_type": "code",
   "execution_count": null,
   "metadata": {},
   "outputs": [],
   "source": [
    "#empty lists to create a home team info dataframe \n",
    "team_id = []\n",
    "team_code = []\n",
    "game_num = []\n",
    "date = []\n",
    "goals = []\n",
    "pim = []\n",
    "shots = []\n",
    "pp_perc = []\n",
    "ppg = []\n",
    "pp_opp = []\n",
    "fo_win = []\n",
    "blocked = []\n",
    "takeaways = []\n",
    "giveaways = []\n",
    "hits = []"
   ]
  },
  {
   "cell_type": "code",
   "execution_count": null,
   "metadata": {},
   "outputs": [],
   "source": [
    "#pull data from JSON into a list - for away team info \n",
    "for i in range(len(game_data_1)):\n",
    "    team_id.append(game_data_1[i]['gameData']['teams']['away']['id'])\n",
    "    team_code.append(game_data_1[i]['gameData']['teams']['away']['triCode'])\n",
    "    game_num.append(game_data_1[i]['gameData']['game']['pk'])\n",
    "    date.append(game_data_1[i]['gameData']['datetime']['dateTime'])\n",
    "    goals.append(game_data_1[i]['liveData']['boxscore']['teams']['away']['teamStats']['teamSkaterStats']['goals'])\n",
    "    pim.append(game_data_1[i]['liveData']['boxscore']['teams']['away']['teamStats']['teamSkaterStats']['pim'])\n",
    "    shots.append(game_data_1[i]['liveData']['boxscore']['teams']['away']['teamStats']['teamSkaterStats']['shots'])\n",
    "    pp_perc.append(game_data_1[i]['liveData']['boxscore']['teams']['away']['teamStats']['teamSkaterStats']['powerPlayPercentage'])\n",
    "    ppg.append(game_data_1[i]['liveData']['boxscore']['teams']['away']['teamStats']['teamSkaterStats']['powerPlayGoals'])\n",
    "    pp_opp.append(game_data_1[i]['liveData']['boxscore']['teams']['away']['teamStats']['teamSkaterStats']['powerPlayOpportunities'])\n",
    "    fo_win.append(game_data_1[i]['liveData']['boxscore']['teams']['away']['teamStats']['teamSkaterStats']['faceOffWinPercentage'])\n",
    "    blocked.append(game_data_1[i]['liveData']['boxscore']['teams']['away']['teamStats']['teamSkaterStats']['blocked'])\n",
    "    takeaways.append(game_data_1[i]['liveData']['boxscore']['teams']['away']['teamStats']['teamSkaterStats']['takeaways'])\n",
    "    giveaways.append(game_data_1[i]['liveData']['boxscore']['teams']['away']['teamStats']['teamSkaterStats']['giveaways'])\n",
    "    hits.append(game_data_1[i]['liveData']['boxscore']['teams']['away']['teamStats']['teamSkaterStats']['hits'])"
   ]
  },
  {
   "cell_type": "code",
   "execution_count": null,
   "metadata": {},
   "outputs": [],
   "source": [
    "game_data_a = pd.DataFrame(list(zip(team_id, team_code, game_num, date, goals, pim, shots, pp_perc, ppg, pp_opp, fo_win,\n",
    "                                   blocked, takeaways, giveaways, hits)),\n",
    "               columns =['team_id', 'team_code', 'game_num', 'date', 'goals', 'pim', 'shots', 'pp_perc', 'ppg', 'pp_opp', 'fo_win',\n",
    "                                   'blocked', 'takeaways', 'giveaways', 'hits'])"
   ]
  },
  {
   "cell_type": "code",
   "execution_count": null,
   "metadata": {},
   "outputs": [],
   "source": [
    "game_data_a['home_away'] = 'away'"
   ]
  },
  {
   "cell_type": "code",
   "execution_count": null,
   "metadata": {},
   "outputs": [],
   "source": [
    "#combine home and away dataframes \n",
    "frames = [game_data_h, game_data_a]\n",
    "\n",
    "game_data = pd.concat(frames)"
   ]
  },
  {
   "cell_type": "code",
   "execution_count": null,
   "metadata": {},
   "outputs": [],
   "source": [
    "#create a csv of the game info 0001-0500\n",
    "#game_data.to_csv('game_data_500.csv')"
   ]
  }
 ],
 "metadata": {
  "language_info": {
   "name": "python"
  }
 },
 "nbformat": 4,
 "nbformat_minor": 2
}
