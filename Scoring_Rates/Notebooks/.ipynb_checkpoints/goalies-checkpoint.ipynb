{
 "cells": [
  {
   "cell_type": "code",
   "execution_count": 4,
   "id": "3d5f7318-3959-41e7-a4ac-a32bdb5e08d1",
   "metadata": {},
   "outputs": [],
   "source": [
    "import pandas as pd \n",
    "import requests\n",
    "import os\n",
    "import json\n",
    "import numpy as np"
   ]
  },
  {
   "cell_type": "code",
   "execution_count": 54,
   "id": "34d15097-2233-42fc-94ba-a474138f7ad8",
   "metadata": {},
   "outputs": [],
   "source": [
    "#Load JSON files \n",
    "#f = open(r'C:\\Users\\akobe\\OneDrive\\Desktop\\Lighthouse\\After\\NHL-Stats\\Scoring_Rates\\Data\\game_data\\game_data_1.json')\n",
    "#game_data_1 = json.load(f)"
   ]
  },
  {
   "cell_type": "code",
   "execution_count": 55,
   "id": "a103930e-f3b8-499b-b6f8-caf706c85637",
   "metadata": {},
   "outputs": [],
   "source": [
    "#from IPython.display import JSON\n",
    "#JSON(game_data_1)"
   ]
  },
  {
   "cell_type": "code",
   "execution_count": 20,
   "id": "0a159eed-6521-4e1f-a8ce-099c8dfd4819",
   "metadata": {},
   "outputs": [],
   "source": [
    "#empty lists for creating the player dataframe - away team\n",
    "game_num = []\n",
    "date = []\n",
    "team_id = []\n",
    "team_code = []\n",
    "player_id = []\n",
    "name = []\n",
    "catches = []\n",
    "toi = []\n",
    "assists = []\n",
    "goals = []\n",
    "pim = []\n",
    "shots = []\n",
    "saves = []\n",
    "pp_saves = []\n",
    "sh_saves = []\n",
    "ev_saves = []\n",
    "sh_shots = []\n",
    "ev_shots = []\n",
    "pp_shots = []\n",
    "decision = []\n",
    "sv_perc = []\n",
    "pp_sv_perc = []\n",
    "sh_sv_perc = []\n",
    "ev_sv_perc = []"
   ]
  },
  {
   "cell_type": "code",
   "execution_count": 21,
   "id": "f2c7bc83-09f6-4c0d-b5b6-82bb7d489390",
   "metadata": {},
   "outputs": [],
   "source": [
    "#pull data fror the goalies - away team \n",
    "for i in range(len(game_data_1)):\n",
    "    goalies = game_data_1[i]['liveData']['boxscore']['teams']['away']['players']\n",
    "    for j in goalies:\n",
    "        if len(goalies[j]['stats']) > 0:\n",
    "            if 'goalieStats' in goalies[j]['stats']:\n",
    "                try:\n",
    "                    toi.append(goalies[j]['stats']['goalieStats']['timeOnIce'])\n",
    "                    assists.append(goalies[j]['stats']['goalieStats']['assists'])\n",
    "                    goals.append(goalies[j]['stats']['goalieStats']['goals'])\n",
    "                    pim.append(goalies[j]['stats']['goalieStats']['pim'])\n",
    "                    shots.append(goalies[j]['stats']['goalieStats']['shots'])\n",
    "                    saves.append(goalies[j]['stats']['goalieStats']['saves'])\n",
    "                    pp_saves.append(goalies[j]['stats']['goalieStats']['powerPlaySaves'])\n",
    "                    sh_saves.append(goalies[j]['stats']['goalieStats']['shortHandedSaves'])\n",
    "                    ev_saves.append(goalies[j]['stats']['goalieStats']['evenSaves'])\n",
    "                    sh_shots.append(goalies[j]['stats']['goalieStats']['shortHandedShotsAgainst'])\n",
    "                    ev_shots.append(goalies[j]['stats']['goalieStats']['evenShotsAgainst'])\n",
    "                    pp_shots.append(goalies[j]['stats']['goalieStats']['powerPlayShotsAgainst'])\n",
    "                    decision.append(goalies[j]['stats']['goalieStats']['decision'])\n",
    "                    sv_perc.append(goalies[j]['stats']['goalieStats']['savePercentage'])\n",
    "                    sh_sv_perc.append(goalies[j]['stats']['goalieStats']['shortHandedSavePercentage'])\n",
    "                    ev_sv_perc.append(goalies[j]['stats']['goalieStats']['evenStrengthSavePercentage'])  \n",
    "                    player_id.append(goalies[j]['person']['id'])\n",
    "                    name.append(goalies[j]['person']['fullName'])\n",
    "                    catches.append(goalies[j]['person']['shootsCatches'])\n",
    "                    game_num.append(game_data_1[i]['gameData']['game']['pk'])\n",
    "                    date.append(game_data_1[i]['gameData']['datetime']['dateTime'])\n",
    "                    team_id.append(game_data_1[i]['gameData']['teams']['home']['id'])\n",
    "                    team_code.append(game_data_1[i]['gameData']['teams']['home']['triCode'])\n",
    "                    pp_sv_perc.append(goalies[j]['stats']['goalieStats']['powerPlaySavePercentage'])\n",
    "                except KeyError: \n",
    "                    pp_sv_perc.append('NaN')"
   ]
  },
  {
   "cell_type": "code",
   "execution_count": 53,
   "id": "8ea829b5-95b9-484d-b942-f4641b66df62",
   "metadata": {},
   "outputs": [
    {
     "data": {
      "text/plain": [
       "524"
      ]
     },
     "execution_count": 53,
     "metadata": {},
     "output_type": "execute_result"
    }
   ],
   "source": [
    "len(pp_sv_perc)"
   ]
  }
 ],
 "metadata": {
  "kernelspec": {
   "display_name": "lighthouse",
   "language": "python",
   "name": "lighthouse"
  },
  "language_info": {
   "codemirror_mode": {
    "name": "ipython",
    "version": 3
   },
   "file_extension": ".py",
   "mimetype": "text/x-python",
   "name": "python",
   "nbconvert_exporter": "python",
   "pygments_lexer": "ipython3",
   "version": "3.9.13"
  }
 },
 "nbformat": 4,
 "nbformat_minor": 5
}
