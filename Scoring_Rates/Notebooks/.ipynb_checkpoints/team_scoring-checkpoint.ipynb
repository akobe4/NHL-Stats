{
 "cells": [
  {
   "cell_type": "code",
   "execution_count": 1,
   "id": "847e49ba-6da4-4073-944f-c967cccd11ab",
   "metadata": {},
   "outputs": [],
   "source": [
    "import pandas as pd \n",
    "import requests\n",
    "import os\n",
    "import json\n",
    "import numpy as np"
   ]
  },
  {
   "cell_type": "markdown",
   "id": "153a7f19-92c6-435e-8151-a793331f2b67",
   "metadata": {},
   "source": [
    "## Pull Standings Information - 2022/2023 Season"
   ]
  },
  {
   "cell_type": "code",
   "execution_count": 2,
   "id": "3c67f2bd-1592-4490-9c07-a6545181c2c5",
   "metadata": {},
   "outputs": [],
   "source": [
    "#pull data from NHL API\n",
    "standings_url = 'https://statsapi.web.nhl.com/api/v1/standings?season=20222023'\n",
    "response = requests.get(standings_url)\n",
    "standings = response.json()"
   ]
  },
  {
   "cell_type": "code",
   "execution_count": 3,
   "id": "68a1c9e6-91a6-4c75-9e4c-e646ea198199",
   "metadata": {},
   "outputs": [
    {
     "data": {
      "application/json": {
       "copyright": "NHL and the NHL Shield are registered trademarks of the National Hockey League. NHL and NHL team marks are the property of the NHL and its teams. © NHL 2023. All Rights Reserved.",
       "records": [
        {
         "conference": {
          "id": 6,
          "link": "/api/v1/conferences/6",
          "name": "Eastern"
         },
         "division": {
          "abbreviation": "M",
          "id": 18,
          "link": "/api/v1/divisions/18",
          "name": "Metropolitan",
          "nameShort": "Metro"
         },
         "league": {
          "id": 133,
          "link": "/api/v1/league/133",
          "name": "National Hockey League"
         },
         "season": "20222023",
         "standingsType": "regularSeason",
         "teamRecords": [
          {
           "clinchIndicator": "y",
           "conferenceHomeRank": "4",
           "conferenceL10Rank": "10",
           "conferenceRank": "2",
           "conferenceRoadRank": "4",
           "divisionHomeRank": "1",
           "divisionL10Rank": "5",
           "divisionRank": "1",
           "divisionRoadRank": "3",
           "gamesPlayed": 82,
           "goalsAgainst": 213,
           "goalsScored": 266,
           "lastUpdated": "2023-10-25T05:47:07Z",
           "leagueHomeRank": "4",
           "leagueL10Rank": "21",
           "leagueRank": "2",
           "leagueRecord": {
            "losses": 21,
            "ot": 9,
            "type": "league",
            "wins": 52
           },
           "leagueRoadRank": "9",
           "points": 113,
           "pointsPercentage": 0.6890243902439024,
           "ppConferenceRank": "2",
           "ppDivisionRank": "1",
           "ppLeagueRank": "2",
           "regulationWins": 39,
           "row": 48,
           "streak": {
            "streakCode": "W2",
            "streakNumber": 2,
            "streakType": "wins"
           },
           "team": {
            "id": 12,
            "link": "/api/v1/teams/12",
            "name": "Carolina Hurricanes"
           },
           "wildCardRank": "0"
          },
          {
           "clinchIndicator": "x",
           "conferenceHomeRank": "6",
           "conferenceL10Rank": "4",
           "conferenceRank": "3",
           "conferenceRoadRank": "2",
           "divisionHomeRank": "3",
           "divisionL10Rank": "1",
           "divisionRank": "2",
           "divisionRoadRank": "1",
           "gamesPlayed": 82,
           "goalsAgainst": 226,
           "goalsScored": 291,
           "lastUpdated": "2023-10-25T05:47:07Z",
           "leagueHomeRank": "11",
           "leagueL10Rank": "8",
           "leagueRank": "3",
           "leagueRecord": {
            "losses": 22,
            "ot": 8,
            "type": "league",
            "wins": 52
           },
           "leagueRoadRank": "2",
           "points": 112,
           "pointsPercentage": 0.6829268292682927,
           "ppConferenceRank": "3",
           "ppDivisionRank": "2",
           "ppLeagueRank": "3",
           "regulationWins": 39,
           "row": 50,
           "streak": {
            "streakCode": "W2",
            "streakNumber": 2,
            "streakType": "wins"
           },
           "team": {
            "id": 1,
            "link": "/api/v1/teams/1",
            "name": "New Jersey Devils"
           },
           "wildCardRank": "0"
          },
          {
           "clinchIndicator": "x",
           "conferenceHomeRank": "9",
           "conferenceL10Rank": "6",
           "conferenceRank": "5",
           "conferenceRoadRank": "3",
           "divisionHomeRank": "4",
           "divisionL10Rank": "2",
           "divisionRank": "3",
           "divisionRoadRank": "2",
           "gamesPlayed": 82,
           "goalsAgainst": 219,
           "goalsScored": 277,
           "lastUpdated": "2023-10-25T05:47:07Z",
           "leagueHomeRank": "15",
           "leagueL10Rank": "11",
           "leagueRank": "9",
           "leagueRecord": {
            "losses": 22,
            "ot": 13,
            "type": "league",
            "wins": 47
           },
           "leagueRoadRank": "7",
           "points": 107,
           "pointsPercentage": 0.6524390243902439,
           "ppConferenceRank": "5",
           "ppDivisionRank": "3",
           "ppLeagueRank": "9",
           "regulationWins": 37,
           "row": 43,
           "streak": {
            "streakCode": "L1",
            "streakNumber": 1,
            "streakType": "losses"
           },
           "team": {
            "id": 3,
            "link": "/api/v1/teams/3",
            "name": "New York Rangers"
           },
           "wildCardRank": "0"
          },
          {
           "clinchIndicator": "x",
           "conferenceHomeRank": "5",
           "conferenceL10Rank": "8",
           "conferenceRank": "7",
           "conferenceRoadRank": "9",
           "divisionHomeRank": "2",
           "divisionL10Rank": "4",
           "divisionRank": "4",
           "divisionRoadRank": "5",
           "gamesPlayed": 82,
           "goalsAgainst": 222,
           "goalsScored": 243,
           "lastUpdated": "2023-10-25T05:47:07Z",
           "leagueHomeRank": "8",
           "leagueL10Rank": "18",
           "leagueRank": "15",
           "leagueRecord": {
            "losses": 31,
            "ot": 9,
            "type": "league",
            "wins": 42
           },
           "leagueRoadRank": "20",
           "points": 93,
           "pointsPercentage": 0.5670731707317073,
           "ppConferenceRank": "7",
           "ppDivisionRank": "4",
           "ppLeagueRank": "15",
           "regulationWins": 36,
           "row": 41,
           "streak": {
            "streakCode": "W1",
            "streakNumber": 1,
            "streakType": "wins"
           },
           "team": {
            "id": 2,
            "link": "/api/v1/teams/2",
            "name": "New York Islanders"
           },
           "wildCardRank": "1"
          },
          {
           "conferenceHomeRank": "10",
           "conferenceL10Rank": "7",
           "conferenceRank": "9",
           "conferenceRoadRank": "8",
           "divisionHomeRank": "5",
           "divisionL10Rank": "3",
           "divisionRank": "5",
           "divisionRoadRank": "4",
           "gamesPlayed": 82,
           "goalsAgainst": 264,
           "goalsScored": 262,
           "lastUpdated": "2023-10-25T05:47:07Z",
           "leagueHomeRank": "16",
           "leagueL10Rank": "17",
           "leagueRank": "19",
           "leagueRecord": {
            "losses": 31,
            "ot": 11,
            "type": "league",
            "wins": 40
           },
           "leagueRoadRank": "19",
           "points": 91,
           "pointsPercentage": 0.5548780487804879,
           "ppConferenceRank": "9",
           "ppDivisionRank": "5",
           "ppLeagueRank": "19",
           "regulationWins": 31,
           "row": 39,
           "streak": {
            "streakCode": "OT1",
            "streakNumber": 1,
            "streakType": "ot"
           },
           "team": {
            "id": 5,
            "link": "/api/v1/teams/5",
            "name": "Pittsburgh Penguins"
           },
           "wildCardRank": "3"
          },
          {
           "conferenceHomeRank": "12",
           "conferenceL10Rank": "15",
           "conferenceRank": "13",
           "conferenceRoadRank": "10",
           "divisionHomeRank": "6",
           "divisionL10Rank": "7",
           "divisionRank": "6",
           "divisionRoadRank": "6",
           "gamesPlayed": 82,
           "goalsAgainst": 265,
           "goalsScored": 255,
           "lastUpdated": "2023-10-25T05:47:07Z",
           "leagueHomeRank": "23",
           "leagueL10Rank": "28",
           "leagueRank": "25",
           "leagueRecord": {
            "losses": 37,
            "ot": 10,
            "type": "league",
            "wins": 35
           },
           "leagueRoadRank": "22",
           "points": 80,
           "pointsPercentage": 0.4878048780487805,
           "ppConferenceRank": "13",
           "ppDivisionRank": "6",
           "ppLeagueRank": "25",
           "regulationWins": 27,
           "row": 33,
           "streak": {
            "streakCode": "OT1",
            "streakNumber": 1,
            "streakType": "ot"
           },
           "team": {
            "id": 15,
            "link": "/api/v1/teams/15",
            "name": "Washington Capitals"
           },
           "wildCardRank": "7"
          },
          {
           "conferenceHomeRank": "13",
           "conferenceL10Rank": "13",
           "conferenceRank": "14",
           "conferenceRoadRank": "14",
           "divisionHomeRank": "7",
           "divisionL10Rank": "6",
           "divisionRank": "7",
           "divisionRoadRank": "7",
           "gamesPlayed": 82,
           "goalsAgainst": 277,
           "goalsScored": 222,
           "lastUpdated": "2023-10-25T05:47:07Z",
           "leagueHomeRank": "25",
           "leagueL10Rank": "26",
           "leagueRank": "26",
           "leagueRecord": {
            "losses": 38,
            "ot": 13,
            "type": "league",
            "wins": 31
           },
           "leagueRoadRank": "26",
           "points": 75,
           "pointsPercentage": 0.4573170731707317,
           "ppConferenceRank": "14",
           "ppDivisionRank": "7",
           "ppLeagueRank": "26",
           "regulationWins": 26,
           "row": 29,
           "streak": {
            "streakCode": "W2",
            "streakNumber": 2,
            "streakType": "wins"
           },
           "team": {
            "id": 4,
            "link": "/api/v1/teams/4",
            "name": "Philadelphia Flyers"
           },
           "wildCardRank": "8"
          },
          {
           "conferenceHomeRank": "16",
           "conferenceL10Rank": "16",
           "conferenceRank": "16",
           "conferenceRoadRank": "16",
           "divisionHomeRank": "8",
           "divisionL10Rank": "8",
           "divisionRank": "8",
           "divisionRoadRank": "8",
           "gamesPlayed": 82,
           "goalsAgainst": 330,
           "goalsScored": 214,
           "lastUpdated": "2023-10-25T05:47:07Z",
           "leagueHomeRank": "29",
           "leagueL10Rank": "29",
           "leagueRank": "31",
           "leagueRecord": {
            "losses": 48,
            "ot": 9,
            "type": "league",
            "wins": 25
           },
           "leagueRoadRank": "31",
           "points": 59,
           "pointsPercentage": 0.3597560975609756,
           "ppConferenceRank": "16",
           "ppDivisionRank": "8",
           "ppLeagueRank": "31",
           "regulationWins": 15,
           "row": 24,
           "streak": {
            "streakCode": "L1",
            "streakNumber": 1,
            "streakType": "losses"
           },
           "team": {
            "id": 29,
            "link": "/api/v1/teams/29",
            "name": "Columbus Blue Jackets"
           },
           "wildCardRank": "10"
          }
         ]
        },
        {
         "conference": {
          "id": 6,
          "link": "/api/v1/conferences/6",
          "name": "Eastern"
         },
         "division": {
          "abbreviation": "A",
          "id": 17,
          "link": "/api/v1/divisions/17",
          "name": "Atlantic",
          "nameShort": "ATL"
         },
         "league": {
          "id": 133,
          "link": "/api/v1/league/133",
          "name": "National Hockey League"
         },
         "season": "20222023",
         "standingsType": "regularSeason",
         "teamRecords": [
          {
           "clinchIndicator": "p",
           "conferenceHomeRank": "1",
           "conferenceL10Rank": "1",
           "conferenceRank": "1",
           "conferenceRoadRank": "1",
           "divisionHomeRank": "1",
           "divisionL10Rank": "1",
           "divisionRank": "1",
           "divisionRoadRank": "1",
           "gamesPlayed": 82,
           "goalsAgainst": 177,
           "goalsScored": 305,
           "lastUpdated": "2023-10-25T05:47:07Z",
           "leagueHomeRank": "1",
           "leagueL10Rank": "2",
           "leagueRank": "1",
           "leagueRecord": {
            "losses": 12,
            "ot": 5,
            "type": "league",
            "wins": 65
           },
           "leagueRoadRank": "1",
           "points": 135,
           "pointsPercentage": 0.823170731707317,
           "ppConferenceRank": "1",
           "ppDivisionRank": "1",
           "ppLeagueRank": "1",
           "regulationWins": 54,
           "row": 61,
           "streak": {
            "streakCode": "W8",
            "streakNumber": 8,
            "streakType": "wins"
           },
           "team": {
            "id": 6,
            "link": "/api/v1/teams/6",
            "name": "Boston Bruins"
           },
           "wildCardRank": "0"
          },
          {
           "clinchIndicator": "x",
           "conferenceHomeRank": "3",
           "conferenceL10Rank": "2",
           "conferenceRank": "4",
           "conferenceRoadRank": "6",
           "divisionHomeRank": "3",
           "divisionL10Rank": "2",
           "divisionRank": "2",
           "divisionRoadRank": "3",
           "gamesPlayed": 82,
           "goalsAgainst": 222,
           "goalsScored": 279,
           "lastUpdated": "2023-10-25T05:47:07Z",
           "leagueHomeRank": "3",
           "leagueL10Rank": "5",
           "leagueRank": "4",
           "leagueRecord": {
            "losses": 21,
            "ot": 11,
            "type": "league",
            "wins": 50
           },
           "leagueRoadRank": "11",
           "points": 111,
           "pointsPercentage": 0.676829268292683,
           "ppConferenceRank": "4",
           "ppDivisionRank": "2",
           "ppLeagueRank": "4",
           "regulationWins": 42,
           "row": 49,
           "streak": {
            "streakCode": "W4",
            "streakNumber": 4,
            "streakType": "wins"
           },
           "team": {
            "id": 10,
            "link": "/api/v1/teams/10",
            "name": "Toronto Maple Leafs"
           },
           "wildCardRank": "0"
          },
          {
           "clinchIndicator": "x",
           "conferenceHomeRank": "2",
           "conferenceL10Rank": "12",
           "conferenceRank": "6",
           "conferenceRoadRank": "11",
           "divisionHomeRank": "2",
           "divisionL10Rank": "7",
           "divisionRank": "3",
           "divisionRoadRank": "5",
           "gamesPlayed": 82,
           "goalsAgainst": 254,
           "goalsScored": 283,
           "lastUpdated": "2023-10-25T05:47:07Z",
           "leagueHomeRank": "2",
           "leagueL10Rank": "24",
           "leagueRank": "13",
           "leagueRecord": {
            "losses": 30,
            "ot": 6,
            "type": "league",
            "wins": 46
           },
           "leagueRoadRank": "23",
           "points": 98,
           "pointsPercentage": 0.5975609756097561,
           "ppConferenceRank": "6",
           "ppDivisionRank": "3",
           "ppLeagueRank": "13",
           "regulationWins": 38,
           "row": 43,
           "streak": {
            "streakCode": "W1",
            "streakNumber": 1,
            "streakType": "wins"
           },
           "team": {
            "id": 14,
            "link": "/api/v1/teams/14",
            "name": "Tampa Bay Lightning"
           },
           "wildCardRank": "0"
          },
          {
           "clinchIndicator": "x",
           "conferenceHomeRank": "8",
           "conferenceL10Rank": "5",
           "conferenceRank": "8",
           "conferenceRoadRank": "7",
           "divisionHomeRank": "5",
           "divisionL10Rank": "4",
           "divisionRank": "4",
           "divisionRoadRank": "4",
           "gamesPlayed": 82,
           "goalsAgainst": 273,
           "goalsScored": 290,
           "lastUpdated": "2023-10-25T05:47:07Z",
           "leagueHomeRank": "13",
           "leagueL10Rank": "10",
           "leagueRank": "17",
           "leagueRecord": {
            "losses": 32,
            "ot": 8,
            "type": "league",
            "wins": 42
           },
           "leagueRoadRank": "17",
           "points": 92,
           "pointsPercentage": 0.5609756097560976,
           "ppConferenceRank": "8",
           "ppDivisionRank": "4",
           "ppLeagueRank": "17",
           "regulationWins": 36,
           "row": 40,
           "streak": {
            "streakCode": "L1",
            "streakNumber": 1,
            "streakType": "losses"
           },
           "team": {
            "id": 13,
            "link": "/api/v1/teams/13",
            "name": "Florida Panthers"
           },
           "wildCardRank": "2"
          },
          {
           "conferenceHomeRank": "14",
           "conferenceL10Rank": "3",
           "conferenceRank": "10",
           "conferenceRoadRank": "5",
           "divisionHomeRank": "7",
           "divisionL10Rank": "3",
           "divisionRank": "5",
           "divisionRoadRank": "2",
           "gamesPlayed": 82,
           "goalsAgainst": 300,
           "goalsScored": 296,
           "lastUpdated": "2023-10-25T05:47:07Z",
           "leagueHomeRank": "27",
           "leagueL10Rank": "7",
           "leagueRank": "20",
           "leagueRecord": {
            "losses": 33,
            "ot": 7,
            "type": "league",
            "wins": 42
           },
           "leagueRoadRank": "10",
           "points": 91,
           "pointsPercentage": 0.5548780487804879,
           "ppConferenceRank": "10",
           "ppDivisionRank": "5",
           "ppLeagueRank": "20",
           "regulationWins": 30,
           "row": 39,
           "streak": {
            "streakCode": "W2",
            "streakNumber": 2,
            "streakType": "wins"
           },
           "team": {
            "id": 7,
            "link": "/api/v1/teams/7",
            "name": "Buffalo Sabres"
           },
           "wildCardRank": "4"
          },
          {
           "conferenceHomeRank": "7",
           "conferenceL10Rank": "9",
           "conferenceRank": "11",
           "conferenceRoadRank": "13",
           "divisionHomeRank": "4",
           "divisionL10Rank": "5",
           "divisionRank": "6",
           "divisionRoadRank": "7",
           "gamesPlayed": 82,
           "goalsAgainst": 271,
           "goalsScored": 261,
           "lastUpdated": "2023-10-25T05:47:07Z",
           "leagueHomeRank": "12",
           "leagueL10Rank": "19",
           "leagueRank": "21",
           "leagueRecord": {
            "losses": 35,
            "ot": 8,
            "type": "league",
            "wins": 39
           },
           "leagueRoadRank": "25",
           "points": 86,
           "pointsPercentage": 0.524390243902439,
           "ppConferenceRank": "11",
           "ppDivisionRank": "6",
           "ppLeagueRank": "21",
           "regulationWins": 31,
           "row": 37,
           "streak": {
            "streakCode": "OT1",
            "streakNumber": 1,
            "streakType": "ot"
           },
           "team": {
            "id": 9,
            "link": "/api/v1/teams/9",
            "name": "Ottawa Senators"
           },
           "wildCardRank": "5"
          },
          {
           "conferenceHomeRank": "11",
           "conferenceL10Rank": "11",
           "conferenceRank": "12",
           "conferenceRoadRank": "12",
           "divisionHomeRank": "6",
           "divisionL10Rank": "6",
           "divisionRank": "7",
           "divisionRoadRank": "6",
           "gamesPlayed": 82,
           "goalsAgainst": 279,
           "goalsScored": 240,
           "lastUpdated": "2023-10-25T05:47:07Z",
           "leagueHomeRank": "22",
           "leagueL10Rank": "22",
           "leagueRank": "24",
           "leagueRecord": {
            "losses": 37,
            "ot": 10,
            "type": "league",
            "wins": 35
           },
           "leagueRoadRank": "24",
           "points": 80,
           "pointsPercentage": 0.4878048780487805,
           "ppConferenceRank": "12",
           "ppDivisionRank": "7",
           "ppLeagueRank": "24",
           "regulationWins": 28,
           "row": 32,
           "streak": {
            "streakCode": "L4",
            "streakNumber": 4,
            "streakType": "losses"
           },
           "team": {
            "id": 17,
            "link": "/api/v1/teams/17",
            "name": "Detroit Red Wings"
           },
           "wildCardRank": "6"
          },
          {
           "conferenceHomeRank": "15",
           "conferenceL10Rank": "14",
           "conferenceRank": "15",
           "conferenceRoadRank": "15",
           "divisionHomeRank": "8",
           "divisionL10Rank": "8",
           "divisionRank": "8",
           "divisionRoadRank": "8",
           "gamesPlayed": 82,
           "goalsAgainst": 307,
           "goalsScored": 232,
           "lastUpdated": "2023-10-25T05:47:07Z",
           "leagueHomeRank": "28",
           "leagueL10Rank": "27",
           "leagueRank": "28",
           "leagueRecord": {
            "losses": 45,
            "ot": 6,
            "type": "league",
            "wins": 31
           },
           "leagueRoadRank": "28",
           "points": 68,
           "pointsPercentage": 0.4146341463414634,
           "ppConferenceRank": "15",
           "ppDivisionRank": "8",
           "ppLeagueRank": "28",
           "regulationWins": 21,
           "row": 26,
           "streak": {
            "streakCode": "L3",
            "streakNumber": 3,
            "streakType": "losses"
           },
           "team": {
            "id": 8,
            "link": "/api/v1/teams/8",
            "name": "Montréal Canadiens"
           },
           "wildCardRank": "9"
          }
         ]
        },
        {
         "conference": {
          "id": 5,
          "link": "/api/v1/conferences/5",
          "name": "Western"
         },
         "division": {
          "abbreviation": "C",
          "id": 16,
          "link": "/api/v1/divisions/16",
          "name": "Central",
          "nameShort": "CEN"
         },
         "league": {
          "id": 133,
          "link": "/api/v1/league/133",
          "name": "National Hockey League"
         },
         "season": "20222023",
         "standingsType": "regularSeason",
         "teamRecords": [
          {
           "clinchIndicator": "y",
           "conferenceHomeRank": "7",
           "conferenceL10Rank": "2",
           "conferenceRank": "3",
           "conferenceRoadRank": "2",
           "divisionHomeRank": "4",
           "divisionL10Rank": "1",
           "divisionRank": "1",
           "divisionRoadRank": "1",
           "gamesPlayed": 82,
           "goalsAgainst": 226,
           "goalsScored": 280,
           "lastUpdated": "2023-10-25T05:47:07Z",
           "leagueHomeRank": "17",
           "leagueL10Rank": "3",
           "leagueRank": "7",
           "leagueRecord": {
            "losses": 24,
            "ot": 7,
            "type": "league",
            "wins": 51
           },
           "leagueRoadRank": "4",
           "points": 109,
           "pointsPercentage": 0.6646341463414634,
           "ppConferenceRank": "3",
           "ppDivisionRank": "1",
           "ppLeagueRank": "7",
           "regulationWins": 36,
           "row": 45,
           "streak": {
            "streakCode": "W2",
            "streakNumber": 2,
            "streakType": "wins"
           },
           "team": {
            "id": 21,
            "link": "/api/v1/teams/21",
            "name": "Colorado Avalanche"
           },
           "wildCardRank": "0"
          },
          {
           "clinchIndicator": "x",
           "conferenceHomeRank": "4",
           "conferenceL10Rank": "3",
           "conferenceRank": "4",
           "conferenceRoadRank": "5",
           "divisionHomeRank": "3",
           "divisionL10Rank": "2",
           "divisionRank": "2",
           "divisionRoadRank": "2",
           "gamesPlayed": 82,
           "goalsAgainst": 218,
           "goalsScored": 285,
           "lastUpdated": "2023-10-25T05:47:07Z",
           "leagueHomeRank": "9",
           "leagueL10Rank": "4",
           "leagueRank": "8",
           "leagueRecord": {
            "losses": 21,
            "ot": 14,
            "type": "league",
            "wins": 47
           },
           "leagueRoadRank": "8",
           "points": 108,
           "pointsPercentage": 0.6585365853658537,
           "ppConferenceRank": "4",
           "ppDivisionRank": "2",
           "ppLeagueRank": "8",
           "regulationWins": 39,
           "row": 43,
           "streak": {
            "streakCode": "W6",
            "streakNumber": 6,
            "streakType": "wins"
           },
           "team": {
            "id": 25,
            "link": "/api/v1/teams/25",
            "name": "Dallas Stars"
           },
           "wildCardRank": "0"
          },
          {
           "clinchIndicator": "x",
           "conferenceHomeRank": "3",
           "conferenceL10Rank": "8",
           "conferenceRank": "6",
           "conferenceRoadRank": "6",
           "divisionHomeRank": "2",
           "divisionL10Rank": "4",
           "divisionRank": "3",
           "divisionRoadRank": "3",
           "gamesPlayed": 82,
           "goalsAgainst": 225,
           "goalsScored": 246,
           "lastUpdated": "2023-10-25T05:47:07Z",
           "leagueHomeRank": "7",
           "leagueL10Rank": "14",
           "leagueRank": "11",
           "leagueRecord": {
            "losses": 25,
            "ot": 11,
            "type": "league",
            "wins": 46
           },
           "leagueRoadRank": "12",
           "points": 103,
           "pointsPercentage": 0.6280487804878049,
           "ppConferenceRank": "6",
           "ppDivisionRank": "3",
           "ppLeagueRank": "11",
           "regulationWins": 34,
           "row": 39,
           "streak": {
            "streakCode": "OT1",
            "streakNumber": 1,
            "streakType": "ot"
           },
           "team": {
            "id": 30,
            "link": "/api/v1/teams/30",
            "name": "Minnesota Wild"
           },
           "wildCardRank": "0"
          },
          {
           "clinchIndicator": "x",
           "conferenceHomeRank": "2",
           "conferenceL10Rank": "7",
           "conferenceRank": "8",
           "conferenceRoadRank": "11",
           "divisionHomeRank": "1",
           "divisionL10Rank": "3",
           "divisionRank": "4",
           "divisionRoadRank": "5",
           "gamesPlayed": 82,
           "goalsAgainst": 225,
           "goalsScored": 247,
           "lastUpdated": "2023-10-25T05:47:07Z",
           "leagueHomeRank": "6",
           "leagueL10Rank": "13",
           "leagueRank": "14",
           "leagueRecord": {
            "losses": 33,
            "ot": 3,
            "type": "league",
            "wins": 46
           },
           "leagueRoadRank": "18",
           "points": 95,
           "pointsPercentage": 0.5792682926829268,
           "ppConferenceRank": "8",
           "ppDivisionRank": "4",
           "ppLeagueRank": "14",
           "regulationWins": 36,
           "row": 45,
           "streak": {
            "streakCode": "L1",
            "streakNumber": 1,
            "streakType": "losses"
           },
           "team": {
            "id": 52,
            "link": "/api/v1/teams/52",
            "name": "Winnipeg Jets"
           },
           "wildCardRank": "2"
          },
          {
           "conferenceHomeRank": "8",
           "conferenceL10Rank": "9",
           "conferenceRank": "10",
           "conferenceRoadRank": "9",
           "divisionHomeRank": "5",
           "divisionL10Rank": "5",
           "divisionRank": "5",
           "divisionRoadRank": "4",
           "gamesPlayed": 82,
           "goalsAgainst": 238,
           "goalsScored": 229,
           "lastUpdated": "2023-10-25T05:47:07Z",
           "leagueHomeRank": "18",
           "leagueL10Rank": "15",
           "leagueRank": "18",
           "leagueRecord": {
            "losses": 32,
            "ot": 8,
            "type": "league",
            "wins": 42
           },
           "leagueRoadRank": "15",
           "points": 92,
           "pointsPercentage": 0.5609756097560976,
           "ppConferenceRank": "10",
           "ppDivisionRank": "5",
           "ppLeagueRank": "18",
           "regulationWins": 29,
           "row": 36,
           "streak": {
            "streakCode": "L1",
            "streakNumber": 1,
            "streakType": "losses"
           },
           "team": {
            "id": 18,
            "link": "/api/v1/teams/18",
            "name": "Nashville Predators"
           },
           "wildCardRank": "4"
          },
          {
           "conferenceHomeRank": "12",
           "conferenceL10Rank": "12",
           "conferenceRank": "12",
           "conferenceRoadRank": "12",
           "divisionHomeRank": "7",
           "divisionL10Rank": "6",
           "divisionRank": "6",
           "divisionRoadRank": "6",
           "gamesPlayed": 82,
           "goalsAgainst": 301,
           "goalsScored": 263,
           "lastUpdated": "2023-10-25T05:47:07Z",
           "leagueHomeRank": "24",
           "leagueL10Rank": "23",
           "leagueRank": "23",
           "leagueRecord": {
            "losses": 38,
            "ot": 7,
            "type": "league",
            "wins": 37
           },
           "leagueRoadRank": "21",
           "points": 81,
           "pointsPercentage": 0.49390243902439024,
           "ppConferenceRank": "12",
           "ppDivisionRank": "6",
           "ppLeagueRank": "23",
           "regulationWins": 27,
           "row": 34,
           "streak": {
            "streakCode": "L3",
            "streakNumber": 3,
            "streakType": "losses"
           },
           "team": {
            "id": 19,
            "link": "/api/v1/teams/19",
            "name": "St. Louis Blues"
           },
           "wildCardRank": "6"
          },
          {
           "conferenceHomeRank": "9",
           "conferenceL10Rank": "15",
           "conferenceRank": "13",
           "conferenceRoadRank": "16",
           "divisionHomeRank": "6",
           "divisionL10Rank": "8",
           "divisionRank": "7",
           "divisionRoadRank": "8",
           "gamesPlayed": 82,
           "goalsAgainst": 299,
           "goalsScored": 228,
           "lastUpdated": "2023-10-25T05:47:07Z",
           "leagueHomeRank": "19",
           "leagueL10Rank": "31",
           "leagueRank": "27",
           "leagueRecord": {
            "losses": 40,
            "ot": 14,
            "type": "league",
            "wins": 28
           },
           "leagueRoadRank": "32",
           "points": 70,
           "pointsPercentage": 0.4268292682926829,
           "ppConferenceRank": "13",
           "ppDivisionRank": "7",
           "ppLeagueRank": "27",
           "regulationWins": 20,
           "row": 25,
           "streak": {
            "streakCode": "OT1",
            "streakNumber": 1,
            "streakType": "ot"
           },
           "team": {
            "id": 53,
            "link": "/api/v1/teams/53",
            "name": "Arizona Coyotes"
           },
           "wildCardRank": "7"
          },
          {
           "conferenceHomeRank": "14",
           "conferenceL10Rank": "14",
           "conferenceRank": "15",
           "conferenceRoadRank": "15",
           "divisionHomeRank": "8",
           "divisionL10Rank": "7",
           "divisionRank": "8",
           "divisionRoadRank": "7",
           "gamesPlayed": 82,
           "goalsAgainst": 301,
           "goalsScored": 204,
           "lastUpdated": "2023-10-25T05:47:07Z",
           "leagueHomeRank": "30",
           "leagueL10Rank": "30",
           "leagueRank": "30",
           "leagueRecord": {
            "losses": 49,
            "ot": 7,
            "type": "league",
            "wins": 26
           },
           "leagueRoadRank": "30",
           "points": 59,
           "pointsPercentage": 0.3597560975609756,
           "ppConferenceRank": "15",
           "ppDivisionRank": "8",
           "ppLeagueRank": "30",
           "regulationWins": 18,
           "row": 24,
           "streak": {
            "streakCode": "OT1",
            "streakNumber": 1,
            "streakType": "ot"
           },
           "team": {
            "id": 16,
            "link": "/api/v1/teams/16",
            "name": "Chicago Blackhawks"
           },
           "wildCardRank": "9"
          }
         ]
        },
        {
         "conference": {
          "id": 5,
          "link": "/api/v1/conferences/5",
          "name": "Western"
         },
         "division": {
          "abbreviation": "P",
          "id": 15,
          "link": "/api/v1/divisions/15",
          "name": "Pacific",
          "nameShort": "PAC"
         },
         "league": {
          "id": 133,
          "link": "/api/v1/league/133",
          "name": "National Hockey League"
         },
         "season": "20222023",
         "standingsType": "regularSeason",
         "teamRecords": [
          {
           "clinchIndicator": "z",
           "conferenceHomeRank": "6",
           "conferenceL10Rank": "4",
           "conferenceRank": "1",
           "conferenceRoadRank": "1",
           "divisionHomeRank": "3",
           "divisionL10Rank": "2",
           "divisionRank": "1",
           "divisionRoadRank": "1",
           "gamesPlayed": 82,
           "goalsAgainst": 229,
           "goalsScored": 272,
           "lastUpdated": "2023-10-25T05:47:07Z",
           "leagueHomeRank": "14",
           "leagueL10Rank": "6",
           "leagueRank": "5",
           "leagueRecord": {
            "losses": 22,
            "ot": 9,
            "type": "league",
            "wins": 51
           },
           "leagueRoadRank": "3",
           "points": 111,
           "pointsPercentage": 0.676829268292683,
           "ppConferenceRank": "1",
           "ppDivisionRank": "1",
           "ppLeagueRank": "5",
           "regulationWins": 38,
           "row": 46,
           "streak": {
            "streakCode": "W2",
            "streakNumber": 2,
            "streakType": "wins"
           },
           "team": {
            "id": 54,
            "link": "/api/v1/teams/54",
            "name": "Vegas Golden Knights"
           },
           "wildCardRank": "0"
          },
          {
           "clinchIndicator": "x",
           "conferenceHomeRank": "5",
           "conferenceL10Rank": "1",
           "conferenceRank": "2",
           "conferenceRoadRank": "3",
           "divisionHomeRank": "2",
           "divisionL10Rank": "1",
           "divisionRank": "2",
           "divisionRoadRank": "2",
           "gamesPlayed": 82,
           "goalsAgainst": 260,
           "goalsScored": 325,
           "lastUpdated": "2023-10-25T05:47:07Z",
           "leagueHomeRank": "10",
           "leagueL10Rank": "1",
           "leagueRank": "6",
           "leagueRecord": {
            "losses": 23,
            "ot": 9,
            "type": "league",
            "wins": 50
           },
           "leagueRoadRank": "5",
           "points": 109,
           "pointsPercentage": 0.6646341463414634,
           "ppConferenceRank": "2",
           "ppDivisionRank": "2",
           "ppLeagueRank": "6",
           "regulationWins": 45,
           "row": 50,
           "streak": {
            "streakCode": "W9",
            "streakNumber": 9,
            "streakType": "wins"
           },
           "team": {
            "id": 22,
            "link": "/api/v1/teams/22",
            "name": "Edmonton Oilers"
           },
           "wildCardRank": "0"
          },
          {
           "clinchIndicator": "x",
           "conferenceHomeRank": "1",
           "conferenceL10Rank": "11",
           "conferenceRank": "5",
           "conferenceRoadRank": "7",
           "divisionHomeRank": "1",
           "divisionL10Rank": "6",
           "divisionRank": "3",
           "divisionRoadRank": "4",
           "gamesPlayed": 82,
           "goalsAgainst": 257,
           "goalsScored": 280,
           "lastUpdated": "2023-10-25T05:47:07Z",
           "leagueHomeRank": "5",
           "leagueL10Rank": "20",
           "leagueRank": "10",
           "leagueRecord": {
            "losses": 25,
            "ot": 10,
            "type": "league",
            "wins": 47
           },
           "leagueRoadRank": "13",
           "points": 104,
           "pointsPercentage": 0.6341463414634146,
           "ppConferenceRank": "5",
           "ppDivisionRank": "3",
           "ppLeagueRank": "10",
           "regulationWins": 37,
           "row": 41,
           "streak": {
            "streakCode": "W2",
            "streakNumber": 2,
            "streakType": "wins"
           },
           "team": {
            "id": 26,
            "link": "/api/v1/teams/26",
            "name": "Los Angeles Kings"
           },
           "wildCardRank": "0"
          },
          {
           "clinchIndicator": "x",
           "conferenceHomeRank": "11",
           "conferenceL10Rank": "6",
           "conferenceRank": "7",
           "conferenceRoadRank": "4",
           "divisionHomeRank": "5",
           "divisionL10Rank": "4",
           "divisionRank": "4",
           "divisionRoadRank": "3",
           "gamesPlayed": 82,
           "goalsAgainst": 256,
           "goalsScored": 289,
           "lastUpdated": "2023-10-25T05:47:07Z",
           "leagueHomeRank": "21",
           "leagueL10Rank": "12",
           "leagueRank": "12",
           "leagueRecord": {
            "losses": 28,
            "ot": 8,
            "type": "league",
            "wins": 46
           },
           "leagueRoadRank": "6",
           "points": 100,
           "pointsPercentage": 0.6097560975609756,
           "ppConferenceRank": "7",
           "ppDivisionRank": "4",
           "ppLeagueRank": "12",
           "regulationWins": 37,
           "row": 46,
           "streak": {
            "streakCode": "L2",
            "streakNumber": 2,
            "streakType": "losses"
           },
           "team": {
            "id": 55,
            "link": "/api/v1/teams/55",
            "name": "Seattle Kraken"
           },
           "wildCardRank": "1"
          },
          {
           "conferenceHomeRank": "10",
           "conferenceL10Rank": "5",
           "conferenceRank": "9",
           "conferenceRoadRank": "8",
           "divisionHomeRank": "4",
           "divisionL10Rank": "3",
           "divisionRank": "5",
           "divisionRoadRank": "5",
           "gamesPlayed": 82,
           "goalsAgainst": 252,
           "goalsScored": 260,
           "lastUpdated": "2023-10-25T05:47:07Z",
           "leagueHomeRank": "20",
           "leagueL10Rank": "9",
           "leagueRank": "16",
           "leagueRecord": {
            "losses": 27,
            "ot": 17,
            "type": "league",
            "wins": 38
           },
           "leagueRoadRank": "14",
           "points": 93,
           "pointsPercentage": 0.5670731707317073,
           "ppConferenceRank": "9",
           "ppDivisionRank": "5",
           "ppLeagueRank": "16",
           "regulationWins": 31,
           "row": 36,
           "streak": {
            "streakCode": "W1",
            "streakNumber": 1,
            "streakType": "wins"
           },
           "team": {
            "id": 20,
            "link": "/api/v1/teams/20",
            "name": "Calgary Flames"
           },
           "wildCardRank": "3"
          },
          {
           "conferenceHomeRank": "13",
           "conferenceL10Rank": "10",
           "conferenceRank": "11",
           "conferenceRoadRank": "10",
           "divisionHomeRank": "6",
           "divisionL10Rank": "5",
           "divisionRank": "6",
           "divisionRoadRank": "6",
           "gamesPlayed": 82,
           "goalsAgainst": 298,
           "goalsScored": 276,
           "lastUpdated": "2023-10-25T05:47:07Z",
           "leagueHomeRank": "26",
           "leagueL10Rank": "16",
           "leagueRank": "22",
           "leagueRecord": {
            "losses": 37,
            "ot": 7,
            "type": "league",
            "wins": 38
           },
           "leagueRoadRank": "16",
           "points": 83,
           "pointsPercentage": 0.5060975609756098,
           "ppConferenceRank": "11",
           "ppDivisionRank": "6",
           "ppLeagueRank": "22",
           "regulationWins": 24,
           "row": 32,
           "streak": {
            "streakCode": "W2",
            "streakNumber": 2,
            "streakType": "wins"
           },
           "team": {
            "id": 23,
            "link": "/api/v1/teams/23",
            "name": "Vancouver Canucks"
           },
           "wildCardRank": "5"
          },
          {
           "conferenceHomeRank": "16",
           "conferenceL10Rank": "13",
           "conferenceRank": "14",
           "conferenceRoadRank": "13",
           "divisionHomeRank": "8",
           "divisionL10Rank": "7",
           "divisionRank": "7",
           "divisionRoadRank": "7",
           "gamesPlayed": 82,
           "goalsAgainst": 321,
           "goalsScored": 234,
           "lastUpdated": "2023-10-25T05:47:07Z",
           "leagueHomeRank": "32",
           "leagueL10Rank": "25",
           "leagueRank": "29",
           "leagueRecord": {
            "losses": 44,
            "ot": 16,
            "type": "league",
            "wins": 22
           },
           "leagueRoadRank": "27",
           "points": 60,
           "pointsPercentage": 0.36585365853658536,
           "ppConferenceRank": "14",
           "ppDivisionRank": "7",
           "ppLeagueRank": "29",
           "regulationWins": 16,
           "row": 21,
           "streak": {
            "streakCode": "L5",
            "streakNumber": 5,
            "streakType": "losses"
           },
           "team": {
            "id": 28,
            "link": "/api/v1/teams/28",
            "name": "San Jose Sharks"
           },
           "wildCardRank": "8"
          },
          {
           "conferenceHomeRank": "15",
           "conferenceL10Rank": "16",
           "conferenceRank": "16",
           "conferenceRoadRank": "14",
           "divisionHomeRank": "7",
           "divisionL10Rank": "8",
           "divisionRank": "8",
           "divisionRoadRank": "8",
           "gamesPlayed": 82,
           "goalsAgainst": 338,
           "goalsScored": 209,
           "lastUpdated": "2023-10-25T05:47:07Z",
           "leagueHomeRank": "31",
           "leagueL10Rank": "32",
           "leagueRank": "32",
           "leagueRecord": {
            "losses": 47,
            "ot": 12,
            "type": "league",
            "wins": 23
           },
           "leagueRoadRank": "29",
           "points": 58,
           "pointsPercentage": 0.35365853658536583,
           "ppConferenceRank": "16",
           "ppDivisionRank": "8",
           "ppLeagueRank": "32",
           "regulationWins": 13,
           "row": 20,
           "streak": {
            "streakCode": "L2",
            "streakNumber": 2,
            "streakType": "losses"
           },
           "team": {
            "id": 24,
            "link": "/api/v1/teams/24",
            "name": "Anaheim Ducks"
           },
           "wildCardRank": "10"
          }
         ]
        }
       ]
      },
      "text/plain": [
       "<IPython.core.display.JSON object>"
      ]
     },
     "execution_count": 3,
     "metadata": {
      "application/json": {
       "expanded": false,
       "root": "root"
      }
     },
     "output_type": "execute_result"
    }
   ],
   "source": [
    "from IPython.display import JSON\n",
    "JSON(standings)"
   ]
  },
  {
   "cell_type": "code",
   "execution_count": 42,
   "id": "d0987b35-22f7-413a-a9f4-e6672fc31dac",
   "metadata": {},
   "outputs": [],
   "source": [
    "#create empty lists for dataframe creation \n",
    "division = []\n",
    "conference = []\n",
    "team_id = []\n",
    "team_name = []\n",
    "wins = []\n",
    "losses = []\n",
    "otl = []\n",
    "reg_wins = []\n",
    "goals_against = []\n",
    "goals_scored = []\n",
    "points = []\n",
    "div_rank = []\n",
    "div_home_rank = []\n",
    "div_road_rank = []\n",
    "conf_rank = []\n",
    "conf_home_rank = []\n",
    "conf_road_rank = []\n",
    "league_rank = []\n",
    "league_home_rank = []\n",
    "league_road_rank = []\n",
    "points_perc = []\n",
    "pp_div_rank = []\n",
    "pp_conf_rank = []\n",
    "pp_league_rank = []"
   ]
  },
  {
   "cell_type": "code",
   "execution_count": 43,
   "id": "af15dc21-054f-43bc-b02a-bdd5db2711b3",
   "metadata": {},
   "outputs": [],
   "source": [
    "for i in range(len(standings['records'])):\n",
    "    for j in standings['records'][i]['teamRecords']:\n",
    "        team_id.append(j['team']['id'])\n",
    "        team_name.append(j['team']['name'])\n",
    "        wins.append(j['leagueRecord']['wins'])\n",
    "        losses.append(j['leagueRecord']['losses'])\n",
    "        otl.append(j['leagueRecord']['ot'])\n",
    "        reg_wins.append(j['regulationWins'])\n",
    "        goals_against.append(j['goalsAgainst'])\n",
    "        goals_scored.append(j['goalsScored'])\n",
    "        points.append(j['points'])\n",
    "        div_rank.append(j['divisionRank'])\n",
    "        div_home_rank.append(j['divisionHomeRank'])\n",
    "        div_road_rank.append(j['divisionRoadRank'])\n",
    "        conf_rank.append(j['conferenceRank'])\n",
    "        conf_home_rank.append(j['conferenceHomeRank'])\n",
    "        conf_road_rank.append(j['conferenceRoadRank'])\n",
    "        league_rank.append(j['leagueRank'])\n",
    "        league_home_rank.append(j['leagueHomeRank'])\n",
    "        league_road_rank.append(j['leagueRoadRank'])\n",
    "        goals_against.append(j['goalsAgainst'])\n",
    "        points_perc.append(j['pointsPercentage'])\n",
    "        pp_div_rank.append(j['ppDivisionRank'])\n",
    "        pp_conf_rank.append(j['ppConferenceRank'])\n",
    "        pp_league_rank.append(j['ppLeagueRank'])   \n",
    "        division.append(standings['records'][i]['division']['nameShort'])\n",
    "        conference.append(standings['records'][i]['conference']['name'])"
   ]
  },
  {
   "cell_type": "code",
   "execution_count": 48,
   "id": "94c7ce61-9e92-4211-8ad5-f82afac7a1c0",
   "metadata": {},
   "outputs": [],
   "source": [
    "#create dataframe\n",
    "standings_data = pd.DataFrame(list(zip(division, conference, team_id, team_name, wins, losses, otl, reg_wins, goals_against,\n",
    "                                        goals_scored, points, div_rank, div_home_rank, div_road_rank, conf_rank, conf_home_rank, \n",
    "                                        conf_road_rank, league_rank, league_home_rank, league_road_rank, points_perc, pp_div_rank, \n",
    "                                        pp_conf_rank, pp_league_rank)),\n",
    "               columns =['division', 'conference', 'team_id', 'team_name', 'wins', 'losses', 'otl', 'reg_wins', 'goals_against',\n",
    "                                        'goals_scored', 'points', 'div_rank', 'div_home_rank', 'div_road_rank', 'conf_rank', 'conf_home_rank', \n",
    "                                        'conf_road_rank', 'league_rank', 'league_home_rank', 'league_road_rank', 'points_perc', 'pp_div_rank', \n",
    "                                        'pp_conf_rank', 'pp_league_rank'])"
   ]
  },
  {
   "cell_type": "code",
   "execution_count": 50,
   "id": "db9660ea-87e4-4e20-8b15-849fed862419",
   "metadata": {},
   "outputs": [
    {
     "data": {
      "text/html": [
       "<div>\n",
       "<style scoped>\n",
       "    .dataframe tbody tr th:only-of-type {\n",
       "        vertical-align: middle;\n",
       "    }\n",
       "\n",
       "    .dataframe tbody tr th {\n",
       "        vertical-align: top;\n",
       "    }\n",
       "\n",
       "    .dataframe thead th {\n",
       "        text-align: right;\n",
       "    }\n",
       "</style>\n",
       "<table border=\"1\" class=\"dataframe\">\n",
       "  <thead>\n",
       "    <tr style=\"text-align: right;\">\n",
       "      <th></th>\n",
       "      <th>division</th>\n",
       "      <th>conference</th>\n",
       "      <th>team_id</th>\n",
       "      <th>team_name</th>\n",
       "      <th>wins</th>\n",
       "      <th>losses</th>\n",
       "      <th>otl</th>\n",
       "      <th>reg_wins</th>\n",
       "      <th>goals_against</th>\n",
       "      <th>goals_scored</th>\n",
       "      <th>...</th>\n",
       "      <th>conf_rank</th>\n",
       "      <th>conf_home_rank</th>\n",
       "      <th>conf_road_rank</th>\n",
       "      <th>league_rank</th>\n",
       "      <th>league_home_rank</th>\n",
       "      <th>league_road_rank</th>\n",
       "      <th>points_perc</th>\n",
       "      <th>pp_div_rank</th>\n",
       "      <th>pp_conf_rank</th>\n",
       "      <th>pp_league_rank</th>\n",
       "    </tr>\n",
       "  </thead>\n",
       "  <tbody>\n",
       "    <tr>\n",
       "      <th>0</th>\n",
       "      <td>Metro</td>\n",
       "      <td>Eastern</td>\n",
       "      <td>12</td>\n",
       "      <td>Carolina Hurricanes</td>\n",
       "      <td>52</td>\n",
       "      <td>21</td>\n",
       "      <td>9</td>\n",
       "      <td>39</td>\n",
       "      <td>213</td>\n",
       "      <td>266</td>\n",
       "      <td>...</td>\n",
       "      <td>2</td>\n",
       "      <td>4</td>\n",
       "      <td>4</td>\n",
       "      <td>2</td>\n",
       "      <td>4</td>\n",
       "      <td>9</td>\n",
       "      <td>0.689024</td>\n",
       "      <td>1</td>\n",
       "      <td>2</td>\n",
       "      <td>2</td>\n",
       "    </tr>\n",
       "    <tr>\n",
       "      <th>1</th>\n",
       "      <td>Metro</td>\n",
       "      <td>Eastern</td>\n",
       "      <td>1</td>\n",
       "      <td>New Jersey Devils</td>\n",
       "      <td>52</td>\n",
       "      <td>22</td>\n",
       "      <td>8</td>\n",
       "      <td>39</td>\n",
       "      <td>213</td>\n",
       "      <td>291</td>\n",
       "      <td>...</td>\n",
       "      <td>3</td>\n",
       "      <td>6</td>\n",
       "      <td>2</td>\n",
       "      <td>3</td>\n",
       "      <td>11</td>\n",
       "      <td>2</td>\n",
       "      <td>0.682927</td>\n",
       "      <td>2</td>\n",
       "      <td>3</td>\n",
       "      <td>3</td>\n",
       "    </tr>\n",
       "  </tbody>\n",
       "</table>\n",
       "<p>2 rows × 24 columns</p>\n",
       "</div>"
      ],
      "text/plain": [
       "  division conference  team_id            team_name  wins  losses  otl  \\\n",
       "0    Metro    Eastern       12  Carolina Hurricanes    52      21    9   \n",
       "1    Metro    Eastern        1    New Jersey Devils    52      22    8   \n",
       "\n",
       "   reg_wins  goals_against  goals_scored  ...  conf_rank conf_home_rank  \\\n",
       "0        39            213           266  ...          2              4   \n",
       "1        39            213           291  ...          3              6   \n",
       "\n",
       "  conf_road_rank league_rank league_home_rank league_road_rank points_perc  \\\n",
       "0              4           2                4                9    0.689024   \n",
       "1              2           3               11                2    0.682927   \n",
       "\n",
       "  pp_div_rank pp_conf_rank pp_league_rank  \n",
       "0           1            2              2  \n",
       "1           2            3              3  \n",
       "\n",
       "[2 rows x 24 columns]"
      ]
     },
     "execution_count": 50,
     "metadata": {},
     "output_type": "execute_result"
    }
   ],
   "source": [
    "standings_data.head(2)"
   ]
  },
  {
   "cell_type": "code",
   "execution_count": 52,
   "id": "0721832a-762a-45ed-bc80-ed76147e1d39",
   "metadata": {},
   "outputs": [],
   "source": [
    "#create a csv of the dataframe\n",
    "#standings_data.to_csv('standings.csv')"
   ]
  }
 ],
 "metadata": {
  "kernelspec": {
   "display_name": "lighthouse",
   "language": "python",
   "name": "lighthouse"
  },
  "language_info": {
   "codemirror_mode": {
    "name": "ipython",
    "version": 3
   },
   "file_extension": ".py",
   "mimetype": "text/x-python",
   "name": "python",
   "nbconvert_exporter": "python",
   "pygments_lexer": "ipython3",
   "version": "3.9.13"
  }
 },
 "nbformat": 4,
 "nbformat_minor": 5
}
