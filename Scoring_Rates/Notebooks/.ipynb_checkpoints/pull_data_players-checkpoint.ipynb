{
 "cells": [
  {
   "cell_type": "code",
   "execution_count": 1,
   "id": "ed86a552-0e92-4ad0-8be5-5302a54e49f8",
   "metadata": {
    "tags": []
   },
   "outputs": [],
   "source": [
    "import pandas as pd \n",
    "import requests\n",
    "import os\n",
    "import json\n",
    "import numpy as np"
   ]
  },
  {
   "cell_type": "code",
   "execution_count": 2,
   "id": "ddd69c23-007c-4cbe-942f-b7e62a757d34",
   "metadata": {},
   "outputs": [],
   "source": [
    "#Load JSON files \n",
    "f = open(r'C:\\Users\\akobe\\OneDrive\\Desktop\\Lighthouse\\After\\NHL-Stats\\Scoring_Rates\\Data\\game_data\\game_data_1.json')\n",
    "game_data_1 = json.load(f)"
   ]
  },
  {
   "cell_type": "markdown",
   "id": "233334b8-eb02-4c9c-bbb2-c4e82cab3080",
   "metadata": {},
   "source": [
    "## pull game data game #'s 2022020001 - 2022020500"
   ]
  },
  {
   "cell_type": "code",
   "execution_count": 23,
   "id": "8e712339-eea6-423e-8b59-7f42bbd1073b",
   "metadata": {},
   "outputs": [],
   "source": [
    "#from IPython.display import JSON\n",
    "#JSON(game_data_1)"
   ]
  },
  {
   "cell_type": "code",
   "execution_count": 47,
   "id": "45849a4a-8bd7-4831-8c3c-596ae08c80c1",
   "metadata": {
    "tags": []
   },
   "outputs": [],
   "source": [
    "#empty lists for creating the player dataframe - home team \n",
    "game_num = []\n",
    "date = []\n",
    "team_id = []\n",
    "team_code = []\n",
    "player_id = []\n",
    "name = []\n",
    "shoots = []\n",
    "position = []\n",
    "toi = []\n",
    "assists = []\n",
    "goals = []\n",
    "shots = []\n",
    "hits = []\n",
    "pp_goals = []\n",
    "pp_assists = []\n",
    "pim = []\n",
    "fo_perc = []\n",
    "fo_wins = []\n",
    "fo_taken = []\n",
    "takeaways = []\n",
    "giveaways = []\n",
    "sh_goals = []\n",
    "sh_assists = []\n",
    "blocked = []\n",
    "plus_minus = []\n",
    "even_toi = []\n",
    "pp_toi = []\n",
    "sh_toi = []"
   ]
  },
  {
   "cell_type": "code",
   "execution_count": 48,
   "id": "8aadf52b-896c-4f02-bc75-e1322704bd44",
   "metadata": {},
   "outputs": [],
   "source": [
    "for i in range(len(game_data_1)):\n",
    "    players = game_data_1[i]['liveData']['boxscore']['teams']['home']['players']\n",
    "    for j in players:\n",
    "        if len(players[j]['stats']) > 0:\n",
    "            if 'skaterStats' in players[j]['stats']:\n",
    "                try:\n",
    "                    toi.append(players[j]['stats']['skaterStats']['timeOnIce'])\n",
    "                    assists.append(players[j]['stats']['skaterStats']['assists'])\n",
    "                    goals.append(players[j]['stats']['skaterStats']['goals'])\n",
    "                    shots.append(players[j]['stats']['skaterStats']['shots'])\n",
    "                    hits.append(players[j]['stats']['skaterStats']['hits'])\n",
    "                    pp_goals.append(players[j]['stats']['skaterStats']['powerPlayGoals'])\n",
    "                    pp_assists.append(players[j]['stats']['skaterStats']['powerPlayAssists'])\n",
    "                    pim.append(players[j]['stats']['skaterStats']['penaltyMinutes'])\n",
    "                    fo_wins.append(players[j]['stats']['skaterStats']['faceOffWins'])\n",
    "                    fo_taken.append(players[j]['stats']['skaterStats']['faceoffTaken'])\n",
    "                    takeaways.append(players[j]['stats']['skaterStats']['takeaways'])\n",
    "                    giveaways.append(players[j]['stats']['skaterStats']['giveaways'])\n",
    "                    sh_goals.append(players[j]['stats']['skaterStats']['shortHandedGoals'])\n",
    "                    sh_assists.append(players[j]['stats']['skaterStats']['shortHandedAssists'])\n",
    "                    blocked.append(players[j]['stats']['skaterStats']['blocked'])\n",
    "                    plus_minus.append(players[j]['stats']['skaterStats']['plusMinus'])\n",
    "                    even_toi.append(players[j]['stats']['skaterStats']['evenTimeOnIce'])\n",
    "                    pp_toi.append(players[j]['stats']['skaterStats']['powerPlayTimeOnIce'])\n",
    "                    sh_toi.append(players[j]['stats']['skaterStats']['shortHandedTimeOnIce'])\n",
    "                    player_id.append(players[j]['person']['id'])\n",
    "                    name.append(players[j]['person']['fullName'])\n",
    "                    shoots.append(players[j]['person']['shootsCatches'])\n",
    "                    position.append(players[j]['position']['abbreviation'])\n",
    "                    game_num.append(game_data_1[i]['gameData']['game']['pk'])\n",
    "                    date.append(game_data_1[i]['gameData']['datetime']['dateTime'])\n",
    "                    team_id.append(game_data_1[i]['gameData']['teams']['home']['id'])\n",
    "                    team_code.append(game_data_1[i]['gameData']['teams']['home']['triCode'])\n",
    "                    fo_perc.append(players[j]['stats']['skaterStats']['faceOffPct'])\n",
    "                except KeyError:\n",
    "                    fo_perc.append('NaN')\n",
    "        else: \n",
    "            pass"
   ]
  },
  {
   "cell_type": "code",
   "execution_count": 49,
   "id": "af4a3bbf-561c-4e39-81f6-46fb96886bcc",
   "metadata": {},
   "outputs": [],
   "source": [
    "#create dataframe- home data \n",
    "player_data_h = pd.DataFrame(list(zip(game_num, date, team_id, team_code, player_id, name, shoots, position, toi, assists, \n",
    "                                     goals, shots, hits, pp_goals, pp_assists, pim, fo_perc, fo_wins, fo_taken, takeaways, \n",
    "                                     giveaways, sh_goals, sh_assists, blocked, plus_minus, even_toi, pp_toi, sh_toi)),\n",
    "               columns =['game_num', 'date', 'team_id', 'team_code', 'player_id', 'name', 'shoots', 'position', 'toi', 'assists', \n",
    "                                     'goals', 'shots', 'hits', 'pp_goals', 'pp_assists', 'pim', 'fo_perc', 'fo_wins', 'fo_taken', 'takeaways', \n",
    "                                     'giveaways', 'sh_goals', 'sh_assists', 'blocked', 'plus_minus', 'even_toi', 'pp_toi', 'sh_toi'])\n"
   ]
  },
  {
   "cell_type": "code",
   "execution_count": 51,
   "id": "a3a0a777-7784-448c-863e-20d585fbf885",
   "metadata": {},
   "outputs": [],
   "source": [
    "player_data_h['home_away'] = 'home'"
   ]
  },
  {
   "cell_type": "code",
   "execution_count": 53,
   "id": "3c45fbb5-35db-4eb1-8ebd-529352bc3713",
   "metadata": {},
   "outputs": [
    {
     "data": {
      "text/html": [
       "<div>\n",
       "<style scoped>\n",
       "    .dataframe tbody tr th:only-of-type {\n",
       "        vertical-align: middle;\n",
       "    }\n",
       "\n",
       "    .dataframe tbody tr th {\n",
       "        vertical-align: top;\n",
       "    }\n",
       "\n",
       "    .dataframe thead th {\n",
       "        text-align: right;\n",
       "    }\n",
       "</style>\n",
       "<table border=\"1\" class=\"dataframe\">\n",
       "  <thead>\n",
       "    <tr style=\"text-align: right;\">\n",
       "      <th></th>\n",
       "      <th>game_num</th>\n",
       "      <th>date</th>\n",
       "      <th>team_id</th>\n",
       "      <th>team_code</th>\n",
       "      <th>player_id</th>\n",
       "      <th>name</th>\n",
       "      <th>shoots</th>\n",
       "      <th>position</th>\n",
       "      <th>toi</th>\n",
       "      <th>assists</th>\n",
       "      <th>...</th>\n",
       "      <th>takeaways</th>\n",
       "      <th>giveaways</th>\n",
       "      <th>sh_goals</th>\n",
       "      <th>sh_assists</th>\n",
       "      <th>blocked</th>\n",
       "      <th>plus_minus</th>\n",
       "      <th>even_toi</th>\n",
       "      <th>pp_toi</th>\n",
       "      <th>sh_toi</th>\n",
       "      <th>home_away</th>\n",
       "    </tr>\n",
       "  </thead>\n",
       "  <tbody>\n",
       "    <tr>\n",
       "      <th>0</th>\n",
       "      <td>2022020001</td>\n",
       "      <td>2022-10-07T18:00:00Z</td>\n",
       "      <td>18</td>\n",
       "      <td>NSH</td>\n",
       "      <td>8478508</td>\n",
       "      <td>Yakov Trenin</td>\n",
       "      <td>L</td>\n",
       "      <td>C</td>\n",
       "      <td>17:03</td>\n",
       "      <td>0</td>\n",
       "      <td>...</td>\n",
       "      <td>0</td>\n",
       "      <td>0</td>\n",
       "      <td>0</td>\n",
       "      <td>0</td>\n",
       "      <td>0</td>\n",
       "      <td>0</td>\n",
       "      <td>13:55</td>\n",
       "      <td>0:00</td>\n",
       "      <td>3:08</td>\n",
       "      <td>home</td>\n",
       "    </tr>\n",
       "  </tbody>\n",
       "</table>\n",
       "<p>1 rows × 29 columns</p>\n",
       "</div>"
      ],
      "text/plain": [
       "     game_num                  date  team_id team_code  player_id  \\\n",
       "0  2022020001  2022-10-07T18:00:00Z       18       NSH    8478508   \n",
       "\n",
       "           name shoots position    toi  assists  ...  takeaways  giveaways  \\\n",
       "0  Yakov Trenin      L        C  17:03        0  ...          0          0   \n",
       "\n",
       "   sh_goals  sh_assists  blocked  plus_minus even_toi  pp_toi  sh_toi  \\\n",
       "0         0           0        0           0    13:55    0:00    3:08   \n",
       "\n",
       "   home_away  \n",
       "0       home  \n",
       "\n",
       "[1 rows x 29 columns]"
      ]
     },
     "execution_count": 53,
     "metadata": {},
     "output_type": "execute_result"
    }
   ],
   "source": [
    "player_data_h.head(1)"
   ]
  },
  {
   "cell_type": "code",
   "execution_count": 54,
   "id": "fb0d1cc8-8202-42a9-808b-a8b57f7de94f",
   "metadata": {
    "tags": []
   },
   "outputs": [],
   "source": [
    "#empty lists for creating the player dataframe - away team \n",
    "game_num = []\n",
    "date = []\n",
    "team_id = []\n",
    "team_code = []\n",
    "player_id = []\n",
    "name = []\n",
    "shoots = []\n",
    "position = []\n",
    "toi = []\n",
    "assists = []\n",
    "goals = []\n",
    "shots = []\n",
    "hits = []\n",
    "pp_goals = []\n",
    "pp_assists = []\n",
    "pim = []\n",
    "fo_perc = []\n",
    "fo_wins = []\n",
    "fo_taken = []\n",
    "takeaways = []\n",
    "giveaways = []\n",
    "sh_goals = []\n",
    "sh_assists = []\n",
    "blocked = []\n",
    "plus_minus = []\n",
    "even_toi = []\n",
    "pp_toi = []\n",
    "sh_toi = []"
   ]
  },
  {
   "cell_type": "code",
   "execution_count": 55,
   "id": "ca836069-fd2d-4910-a220-db3d7de3c282",
   "metadata": {},
   "outputs": [],
   "source": [
    "#away teams\n",
    "for i in range(len(game_data_1)):\n",
    "    players = game_data_1[i]['liveData']['boxscore']['teams']['away']['players']\n",
    "    for j in players:\n",
    "        if len(players[j]['stats']) > 0:\n",
    "            if 'skaterStats' in players[j]['stats']:\n",
    "                try:\n",
    "                    toi.append(players[j]['stats']['skaterStats']['timeOnIce'])\n",
    "                    assists.append(players[j]['stats']['skaterStats']['assists'])\n",
    "                    goals.append(players[j]['stats']['skaterStats']['goals'])\n",
    "                    shots.append(players[j]['stats']['skaterStats']['shots'])\n",
    "                    hits.append(players[j]['stats']['skaterStats']['hits'])\n",
    "                    pp_goals.append(players[j]['stats']['skaterStats']['powerPlayGoals'])\n",
    "                    pp_assists.append(players[j]['stats']['skaterStats']['powerPlayAssists'])\n",
    "                    pim.append(players[j]['stats']['skaterStats']['penaltyMinutes'])\n",
    "                    fo_wins.append(players[j]['stats']['skaterStats']['faceOffWins'])\n",
    "                    fo_taken.append(players[j]['stats']['skaterStats']['faceoffTaken'])\n",
    "                    takeaways.append(players[j]['stats']['skaterStats']['takeaways'])\n",
    "                    giveaways.append(players[j]['stats']['skaterStats']['giveaways'])\n",
    "                    sh_goals.append(players[j]['stats']['skaterStats']['shortHandedGoals'])\n",
    "                    sh_assists.append(players[j]['stats']['skaterStats']['shortHandedAssists'])\n",
    "                    blocked.append(players[j]['stats']['skaterStats']['blocked'])\n",
    "                    plus_minus.append(players[j]['stats']['skaterStats']['plusMinus'])\n",
    "                    even_toi.append(players[j]['stats']['skaterStats']['evenTimeOnIce'])\n",
    "                    pp_toi.append(players[j]['stats']['skaterStats']['powerPlayTimeOnIce'])\n",
    "                    sh_toi.append(players[j]['stats']['skaterStats']['shortHandedTimeOnIce'])\n",
    "                    player_id.append(players[j]['person']['id'])\n",
    "                    name.append(players[j]['person']['fullName'])\n",
    "                    shoots.append(players[j]['person']['shootsCatches'])\n",
    "                    position.append(players[j]['position']['abbreviation'])\n",
    "                    game_num.append(game_data_1[i]['gameData']['game']['pk'])\n",
    "                    date.append(game_data_1[i]['gameData']['datetime']['dateTime'])\n",
    "                    team_id.append(game_data_1[i]['gameData']['teams']['away']['id'])\n",
    "                    team_code.append(game_data_1[i]['gameData']['teams']['away']['triCode'])\n",
    "                    fo_perc.append(players[j]['stats']['skaterStats']['faceOffPct'])\n",
    "                except KeyError:\n",
    "                    fo_perc.append('NaN')\n",
    "        else: \n",
    "            pass"
   ]
  },
  {
   "cell_type": "code",
   "execution_count": 59,
   "id": "c7bea8fb-39ad-44b8-a3da-28de8653378b",
   "metadata": {},
   "outputs": [
    {
     "data": {
      "text/plain": [
       "8997"
      ]
     },
     "execution_count": 59,
     "metadata": {},
     "output_type": "execute_result"
    }
   ],
   "source": [
    "len(team_code)"
   ]
  },
  {
   "cell_type": "code",
   "execution_count": 60,
   "id": "33076102-520f-4165-9c81-b2b014346cca",
   "metadata": {},
   "outputs": [],
   "source": [
    "#create dataframe- away data \n",
    "player_data_a = pd.DataFrame(list(zip(game_num, date, team_id, team_code, player_id, name, shoots, position, toi, assists, \n",
    "                                     goals, shots, hits, pp_goals, pp_assists, pim, fo_perc, fo_wins, fo_taken, takeaways, \n",
    "                                     giveaways, sh_goals, sh_assists, blocked, plus_minus, even_toi, pp_toi, sh_toi)),\n",
    "               columns =['game_num', 'date', 'team_id', 'team_code', 'player_id', 'name', 'shoots', 'position', 'toi', 'assists', \n",
    "                                     'goals', 'shots', 'hits', 'pp_goals', 'pp_assists', 'pim', 'fo_perc', 'fo_wins', 'fo_taken', 'takeaways', \n",
    "                                     'giveaways', 'sh_goals', 'sh_assists', 'blocked', 'plus_minus', 'even_toi', 'pp_toi', 'sh_toi'])\n"
   ]
  },
  {
   "cell_type": "code",
   "execution_count": 62,
   "id": "781f4623-4a3e-40dd-b397-713852edb5e3",
   "metadata": {},
   "outputs": [],
   "source": [
    "player_data_a['home_away'] = 'away'"
   ]
  },
  {
   "cell_type": "code",
   "execution_count": 63,
   "id": "2189b558-aa2c-4ec8-ab94-da57721371b6",
   "metadata": {},
   "outputs": [
    {
     "data": {
      "text/html": [
       "<div>\n",
       "<style scoped>\n",
       "    .dataframe tbody tr th:only-of-type {\n",
       "        vertical-align: middle;\n",
       "    }\n",
       "\n",
       "    .dataframe tbody tr th {\n",
       "        vertical-align: top;\n",
       "    }\n",
       "\n",
       "    .dataframe thead th {\n",
       "        text-align: right;\n",
       "    }\n",
       "</style>\n",
       "<table border=\"1\" class=\"dataframe\">\n",
       "  <thead>\n",
       "    <tr style=\"text-align: right;\">\n",
       "      <th></th>\n",
       "      <th>game_num</th>\n",
       "      <th>date</th>\n",
       "      <th>team_id</th>\n",
       "      <th>team_code</th>\n",
       "      <th>player_id</th>\n",
       "      <th>name</th>\n",
       "      <th>shoots</th>\n",
       "      <th>position</th>\n",
       "      <th>toi</th>\n",
       "      <th>assists</th>\n",
       "      <th>...</th>\n",
       "      <th>takeaways</th>\n",
       "      <th>giveaways</th>\n",
       "      <th>sh_goals</th>\n",
       "      <th>sh_assists</th>\n",
       "      <th>blocked</th>\n",
       "      <th>plus_minus</th>\n",
       "      <th>even_toi</th>\n",
       "      <th>pp_toi</th>\n",
       "      <th>sh_toi</th>\n",
       "      <th>home_away</th>\n",
       "    </tr>\n",
       "  </thead>\n",
       "  <tbody>\n",
       "    <tr>\n",
       "      <th>0</th>\n",
       "      <td>2022020001</td>\n",
       "      <td>2022-10-07T18:00:00Z</td>\n",
       "      <td>28</td>\n",
       "      <td>SJS</td>\n",
       "      <td>8478904</td>\n",
       "      <td>Steven Lorentz</td>\n",
       "      <td>L</td>\n",
       "      <td>C</td>\n",
       "      <td>11:00</td>\n",
       "      <td>0</td>\n",
       "      <td>...</td>\n",
       "      <td>0</td>\n",
       "      <td>0</td>\n",
       "      <td>0</td>\n",
       "      <td>0</td>\n",
       "      <td>1</td>\n",
       "      <td>0</td>\n",
       "      <td>11:00</td>\n",
       "      <td>0:00</td>\n",
       "      <td>0:00</td>\n",
       "      <td>away</td>\n",
       "    </tr>\n",
       "  </tbody>\n",
       "</table>\n",
       "<p>1 rows × 29 columns</p>\n",
       "</div>"
      ],
      "text/plain": [
       "     game_num                  date  team_id team_code  player_id  \\\n",
       "0  2022020001  2022-10-07T18:00:00Z       28       SJS    8478904   \n",
       "\n",
       "             name shoots position    toi  assists  ...  takeaways  giveaways  \\\n",
       "0  Steven Lorentz      L        C  11:00        0  ...          0          0   \n",
       "\n",
       "   sh_goals  sh_assists  blocked  plus_minus even_toi  pp_toi  sh_toi  \\\n",
       "0         0           0        1           0    11:00    0:00    0:00   \n",
       "\n",
       "   home_away  \n",
       "0       away  \n",
       "\n",
       "[1 rows x 29 columns]"
      ]
     },
     "execution_count": 63,
     "metadata": {},
     "output_type": "execute_result"
    }
   ],
   "source": [
    "player_data_a.head(1)"
   ]
  },
  {
   "cell_type": "code",
   "execution_count": 64,
   "id": "489d82dd-52f9-4602-9199-f787eae85ef2",
   "metadata": {},
   "outputs": [],
   "source": [
    "#combine home and away dataframes \n",
    "frames = [player_data_h, player_data_a]\n",
    "\n",
    "player_data_1 = pd.concat(frames)"
   ]
  },
  {
   "cell_type": "code",
   "execution_count": 68,
   "id": "5ccf2c01-69e4-4bbe-9f25-222208638b95",
   "metadata": {},
   "outputs": [],
   "source": [
    "#create a csv of the game info 0001-0500\n",
    "#player_data_1.to_csv('player_data_500.csv')"
   ]
  },
  {
   "cell_type": "markdown",
   "id": "37281b8b-67f6-445c-976c-91def3c4377b",
   "metadata": {},
   "source": [
    "## pull game data game #'s 2022020501 - 2022021000"
   ]
  },
  {
   "cell_type": "code",
   "execution_count": 2,
   "id": "fe9207ca-f014-4659-a00c-9bb3edb71254",
   "metadata": {},
   "outputs": [],
   "source": [
    "#Load JSON files \n",
    "f = open(r'C:\\Users\\akobe\\OneDrive\\Desktop\\Lighthouse\\After\\NHL-Stats\\Scoring_Rates\\Data\\game_data\\game_data_2.json')\n",
    "game_data_2 = json.load(f)"
   ]
  },
  {
   "cell_type": "code",
   "execution_count": 23,
   "id": "2a26e808-0101-4ae9-bfc8-95153dc1c97b",
   "metadata": {},
   "outputs": [],
   "source": [
    "#from IPython.display import JSON\n",
    "#JSON(game_data_1)"
   ]
  },
  {
   "cell_type": "code",
   "execution_count": 3,
   "id": "b62d7d8b-3746-4748-924c-ff21ae51dcfa",
   "metadata": {
    "tags": []
   },
   "outputs": [],
   "source": [
    "#empty lists for creating the player dataframe - home team \n",
    "game_num = []\n",
    "date = []\n",
    "team_id = []\n",
    "team_code = []\n",
    "player_id = []\n",
    "name = []\n",
    "shoots = []\n",
    "position = []\n",
    "toi = []\n",
    "assists = []\n",
    "goals = []\n",
    "shots = []\n",
    "hits = []\n",
    "pp_goals = []\n",
    "pp_assists = []\n",
    "pim = []\n",
    "fo_perc = []\n",
    "fo_wins = []\n",
    "fo_taken = []\n",
    "takeaways = []\n",
    "giveaways = []\n",
    "sh_goals = []\n",
    "sh_assists = []\n",
    "blocked = []\n",
    "plus_minus = []\n",
    "even_toi = []\n",
    "pp_toi = []\n",
    "sh_toi = []"
   ]
  },
  {
   "cell_type": "code",
   "execution_count": 5,
   "id": "71e7c2db-edeb-4d0f-9d73-eaab8b0a4a23",
   "metadata": {},
   "outputs": [],
   "source": [
    "for i in range(len(game_data_2)):\n",
    "    players = game_data_2[i]['liveData']['boxscore']['teams']['home']['players']\n",
    "    for j in players:\n",
    "        if len(players[j]['stats']) > 0:\n",
    "            if 'skaterStats' in players[j]['stats']:\n",
    "                try:\n",
    "                    toi.append(players[j]['stats']['skaterStats']['timeOnIce'])\n",
    "                    assists.append(players[j]['stats']['skaterStats']['assists'])\n",
    "                    goals.append(players[j]['stats']['skaterStats']['goals'])\n",
    "                    shots.append(players[j]['stats']['skaterStats']['shots'])\n",
    "                    hits.append(players[j]['stats']['skaterStats']['hits'])\n",
    "                    pp_goals.append(players[j]['stats']['skaterStats']['powerPlayGoals'])\n",
    "                    pp_assists.append(players[j]['stats']['skaterStats']['powerPlayAssists'])\n",
    "                    pim.append(players[j]['stats']['skaterStats']['penaltyMinutes'])\n",
    "                    fo_wins.append(players[j]['stats']['skaterStats']['faceOffWins'])\n",
    "                    fo_taken.append(players[j]['stats']['skaterStats']['faceoffTaken'])\n",
    "                    takeaways.append(players[j]['stats']['skaterStats']['takeaways'])\n",
    "                    giveaways.append(players[j]['stats']['skaterStats']['giveaways'])\n",
    "                    sh_goals.append(players[j]['stats']['skaterStats']['shortHandedGoals'])\n",
    "                    sh_assists.append(players[j]['stats']['skaterStats']['shortHandedAssists'])\n",
    "                    blocked.append(players[j]['stats']['skaterStats']['blocked'])\n",
    "                    plus_minus.append(players[j]['stats']['skaterStats']['plusMinus'])\n",
    "                    even_toi.append(players[j]['stats']['skaterStats']['evenTimeOnIce'])\n",
    "                    pp_toi.append(players[j]['stats']['skaterStats']['powerPlayTimeOnIce'])\n",
    "                    sh_toi.append(players[j]['stats']['skaterStats']['shortHandedTimeOnIce'])\n",
    "                    player_id.append(players[j]['person']['id'])\n",
    "                    name.append(players[j]['person']['fullName'])\n",
    "                    shoots.append(players[j]['person']['shootsCatches'])\n",
    "                    position.append(players[j]['position']['abbreviation'])\n",
    "                    game_num.append(game_data_2[i]['gameData']['game']['pk'])\n",
    "                    date.append(game_data_2[i]['gameData']['datetime']['dateTime'])\n",
    "                    team_id.append(game_data_2[i]['gameData']['teams']['home']['id'])\n",
    "                    team_code.append(game_data_2[i]['gameData']['teams']['home']['triCode'])\n",
    "                    fo_perc.append(players[j]['stats']['skaterStats']['faceOffPct'])\n",
    "                except KeyError:\n",
    "                    fo_perc.append('NaN')\n",
    "        else: \n",
    "            pass"
   ]
  },
  {
   "cell_type": "code",
   "execution_count": 10,
   "id": "7a8dc8f0-d823-4b17-b02b-6b291f2e08c2",
   "metadata": {},
   "outputs": [],
   "source": [
    "#create dataframe- home data \n",
    "player_data_h = pd.DataFrame(list(zip(game_num, date, team_id, team_code, player_id, name, shoots, position, toi, assists, \n",
    "                                     goals, shots, hits, pp_goals, pp_assists, pim, fo_perc, fo_wins, fo_taken, takeaways, \n",
    "                                     giveaways, sh_goals, sh_assists, blocked, plus_minus, even_toi, pp_toi, sh_toi)),\n",
    "               columns =['game_num', 'date', 'team_id', 'team_code', 'player_id', 'name', 'shoots', 'position', 'toi', 'assists', \n",
    "                                     'goals', 'shots', 'hits', 'pp_goals', 'pp_assists', 'pim', 'fo_perc', 'fo_wins', 'fo_taken', 'takeaways', \n",
    "                                     'giveaways', 'sh_goals', 'sh_assists', 'blocked', 'plus_minus', 'even_toi', 'pp_toi', 'sh_toi'])\n"
   ]
  },
  {
   "cell_type": "code",
   "execution_count": 12,
   "id": "431306c0-a79c-407f-8ca6-d68534ce8b1d",
   "metadata": {},
   "outputs": [],
   "source": [
    "player_data_h['home_away'] = 'home'"
   ]
  },
  {
   "cell_type": "code",
   "execution_count": 13,
   "id": "3efa40c1-7486-424c-9372-c026d889de4e",
   "metadata": {},
   "outputs": [
    {
     "data": {
      "text/html": [
       "<div>\n",
       "<style scoped>\n",
       "    .dataframe tbody tr th:only-of-type {\n",
       "        vertical-align: middle;\n",
       "    }\n",
       "\n",
       "    .dataframe tbody tr th {\n",
       "        vertical-align: top;\n",
       "    }\n",
       "\n",
       "    .dataframe thead th {\n",
       "        text-align: right;\n",
       "    }\n",
       "</style>\n",
       "<table border=\"1\" class=\"dataframe\">\n",
       "  <thead>\n",
       "    <tr style=\"text-align: right;\">\n",
       "      <th></th>\n",
       "      <th>game_num</th>\n",
       "      <th>date</th>\n",
       "      <th>team_id</th>\n",
       "      <th>team_code</th>\n",
       "      <th>player_id</th>\n",
       "      <th>name</th>\n",
       "      <th>shoots</th>\n",
       "      <th>position</th>\n",
       "      <th>toi</th>\n",
       "      <th>assists</th>\n",
       "      <th>...</th>\n",
       "      <th>takeaways</th>\n",
       "      <th>giveaways</th>\n",
       "      <th>sh_goals</th>\n",
       "      <th>sh_assists</th>\n",
       "      <th>blocked</th>\n",
       "      <th>plus_minus</th>\n",
       "      <th>even_toi</th>\n",
       "      <th>pp_toi</th>\n",
       "      <th>sh_toi</th>\n",
       "      <th>home_away</th>\n",
       "    </tr>\n",
       "  </thead>\n",
       "  <tbody>\n",
       "    <tr>\n",
       "      <th>0</th>\n",
       "      <td>2022020501</td>\n",
       "      <td>2022-12-19T03:00:00Z</td>\n",
       "      <td>28</td>\n",
       "      <td>SJS</td>\n",
       "      <td>8480160</td>\n",
       "      <td>Radim Simek</td>\n",
       "      <td>L</td>\n",
       "      <td>D</td>\n",
       "      <td>15:36</td>\n",
       "      <td>0</td>\n",
       "      <td>...</td>\n",
       "      <td>0</td>\n",
       "      <td>1</td>\n",
       "      <td>0</td>\n",
       "      <td>0</td>\n",
       "      <td>2</td>\n",
       "      <td>-1</td>\n",
       "      <td>13:17</td>\n",
       "      <td>0:03</td>\n",
       "      <td>2:16</td>\n",
       "      <td>home</td>\n",
       "    </tr>\n",
       "  </tbody>\n",
       "</table>\n",
       "<p>1 rows × 29 columns</p>\n",
       "</div>"
      ],
      "text/plain": [
       "     game_num                  date  team_id team_code  player_id  \\\n",
       "0  2022020501  2022-12-19T03:00:00Z       28       SJS    8480160   \n",
       "\n",
       "          name shoots position    toi  assists  ...  takeaways  giveaways  \\\n",
       "0  Radim Simek      L        D  15:36        0  ...          0          1   \n",
       "\n",
       "   sh_goals  sh_assists  blocked  plus_minus even_toi  pp_toi  sh_toi  \\\n",
       "0         0           0        2          -1    13:17    0:03    2:16   \n",
       "\n",
       "   home_away  \n",
       "0       home  \n",
       "\n",
       "[1 rows x 29 columns]"
      ]
     },
     "execution_count": 13,
     "metadata": {},
     "output_type": "execute_result"
    }
   ],
   "source": [
    "player_data_h.head(1)"
   ]
  },
  {
   "cell_type": "code",
   "execution_count": 14,
   "id": "f6d63f60-5e78-49c3-9ebd-5662197e5a23",
   "metadata": {
    "tags": []
   },
   "outputs": [],
   "source": [
    "#empty lists for creating the player dataframe - away team \n",
    "game_num = []\n",
    "date = []\n",
    "team_id = []\n",
    "team_code = []\n",
    "player_id = []\n",
    "name = []\n",
    "shoots = []\n",
    "position = []\n",
    "toi = []\n",
    "assists = []\n",
    "goals = []\n",
    "shots = []\n",
    "hits = []\n",
    "pp_goals = []\n",
    "pp_assists = []\n",
    "pim = []\n",
    "fo_perc = []\n",
    "fo_wins = []\n",
    "fo_taken = []\n",
    "takeaways = []\n",
    "giveaways = []\n",
    "sh_goals = []\n",
    "sh_assists = []\n",
    "blocked = []\n",
    "plus_minus = []\n",
    "even_toi = []\n",
    "pp_toi = []\n",
    "sh_toi = []"
   ]
  },
  {
   "cell_type": "code",
   "execution_count": 15,
   "id": "cd3a22de-0134-447c-8627-fd390e2e115f",
   "metadata": {},
   "outputs": [],
   "source": [
    "#away teams\n",
    "for i in range(len(game_data_2)):\n",
    "    players = game_data_2[i]['liveData']['boxscore']['teams']['away']['players']\n",
    "    for j in players:\n",
    "        if len(players[j]['stats']) > 0:\n",
    "            if 'skaterStats' in players[j]['stats']:\n",
    "                try:\n",
    "                    toi.append(players[j]['stats']['skaterStats']['timeOnIce'])\n",
    "                    assists.append(players[j]['stats']['skaterStats']['assists'])\n",
    "                    goals.append(players[j]['stats']['skaterStats']['goals'])\n",
    "                    shots.append(players[j]['stats']['skaterStats']['shots'])\n",
    "                    hits.append(players[j]['stats']['skaterStats']['hits'])\n",
    "                    pp_goals.append(players[j]['stats']['skaterStats']['powerPlayGoals'])\n",
    "                    pp_assists.append(players[j]['stats']['skaterStats']['powerPlayAssists'])\n",
    "                    pim.append(players[j]['stats']['skaterStats']['penaltyMinutes'])\n",
    "                    fo_wins.append(players[j]['stats']['skaterStats']['faceOffWins'])\n",
    "                    fo_taken.append(players[j]['stats']['skaterStats']['faceoffTaken'])\n",
    "                    takeaways.append(players[j]['stats']['skaterStats']['takeaways'])\n",
    "                    giveaways.append(players[j]['stats']['skaterStats']['giveaways'])\n",
    "                    sh_goals.append(players[j]['stats']['skaterStats']['shortHandedGoals'])\n",
    "                    sh_assists.append(players[j]['stats']['skaterStats']['shortHandedAssists'])\n",
    "                    blocked.append(players[j]['stats']['skaterStats']['blocked'])\n",
    "                    plus_minus.append(players[j]['stats']['skaterStats']['plusMinus'])\n",
    "                    even_toi.append(players[j]['stats']['skaterStats']['evenTimeOnIce'])\n",
    "                    pp_toi.append(players[j]['stats']['skaterStats']['powerPlayTimeOnIce'])\n",
    "                    sh_toi.append(players[j]['stats']['skaterStats']['shortHandedTimeOnIce'])\n",
    "                    player_id.append(players[j]['person']['id'])\n",
    "                    name.append(players[j]['person']['fullName'])\n",
    "                    shoots.append(players[j]['person']['shootsCatches'])\n",
    "                    position.append(players[j]['position']['abbreviation'])\n",
    "                    game_num.append(game_data_2[i]['gameData']['game']['pk'])\n",
    "                    date.append(game_data_2[i]['gameData']['datetime']['dateTime'])\n",
    "                    team_id.append(game_data_2[i]['gameData']['teams']['away']['id'])\n",
    "                    team_code.append(game_data_2[i]['gameData']['teams']['away']['triCode'])\n",
    "                    fo_perc.append(players[j]['stats']['skaterStats']['faceOffPct'])\n",
    "                except KeyError:\n",
    "                    fo_perc.append('NaN')\n",
    "        else: \n",
    "            pass"
   ]
  },
  {
   "cell_type": "code",
   "execution_count": 20,
   "id": "d301292e-b3c8-4f0c-a210-db2fabf840cb",
   "metadata": {},
   "outputs": [
    {
     "data": {
      "text/plain": [
       "8994"
      ]
     },
     "execution_count": 20,
     "metadata": {},
     "output_type": "execute_result"
    }
   ],
   "source": [
    "len(fo_perc)"
   ]
  },
  {
   "cell_type": "code",
   "execution_count": 21,
   "id": "1bd0fa23-920f-46a3-97b2-9d4e7a3e443c",
   "metadata": {},
   "outputs": [],
   "source": [
    "#create dataframe- away data \n",
    "player_data_a = pd.DataFrame(list(zip(game_num, date, team_id, team_code, player_id, name, shoots, position, toi, assists, \n",
    "                                     goals, shots, hits, pp_goals, pp_assists, pim, fo_perc, fo_wins, fo_taken, takeaways, \n",
    "                                     giveaways, sh_goals, sh_assists, blocked, plus_minus, even_toi, pp_toi, sh_toi)),\n",
    "               columns =['game_num', 'date', 'team_id', 'team_code', 'player_id', 'name', 'shoots', 'position', 'toi', 'assists', \n",
    "                                     'goals', 'shots', 'hits', 'pp_goals', 'pp_assists', 'pim', 'fo_perc', 'fo_wins', 'fo_taken', 'takeaways', \n",
    "                                     'giveaways', 'sh_goals', 'sh_assists', 'blocked', 'plus_minus', 'even_toi', 'pp_toi', 'sh_toi'])\n"
   ]
  },
  {
   "cell_type": "code",
   "execution_count": 22,
   "id": "1f141ec5-1f99-4968-a9de-abef08f5853d",
   "metadata": {},
   "outputs": [],
   "source": [
    "player_data_a['home_away'] = 'away'"
   ]
  },
  {
   "cell_type": "code",
   "execution_count": 23,
   "id": "2d9a88a9-282d-4248-b39e-60b2e9452fb5",
   "metadata": {},
   "outputs": [
    {
     "data": {
      "text/html": [
       "<div>\n",
       "<style scoped>\n",
       "    .dataframe tbody tr th:only-of-type {\n",
       "        vertical-align: middle;\n",
       "    }\n",
       "\n",
       "    .dataframe tbody tr th {\n",
       "        vertical-align: top;\n",
       "    }\n",
       "\n",
       "    .dataframe thead th {\n",
       "        text-align: right;\n",
       "    }\n",
       "</style>\n",
       "<table border=\"1\" class=\"dataframe\">\n",
       "  <thead>\n",
       "    <tr style=\"text-align: right;\">\n",
       "      <th></th>\n",
       "      <th>game_num</th>\n",
       "      <th>date</th>\n",
       "      <th>team_id</th>\n",
       "      <th>team_code</th>\n",
       "      <th>player_id</th>\n",
       "      <th>name</th>\n",
       "      <th>shoots</th>\n",
       "      <th>position</th>\n",
       "      <th>toi</th>\n",
       "      <th>assists</th>\n",
       "      <th>...</th>\n",
       "      <th>takeaways</th>\n",
       "      <th>giveaways</th>\n",
       "      <th>sh_goals</th>\n",
       "      <th>sh_assists</th>\n",
       "      <th>blocked</th>\n",
       "      <th>plus_minus</th>\n",
       "      <th>even_toi</th>\n",
       "      <th>pp_toi</th>\n",
       "      <th>sh_toi</th>\n",
       "      <th>home_away</th>\n",
       "    </tr>\n",
       "  </thead>\n",
       "  <tbody>\n",
       "    <tr>\n",
       "      <th>0</th>\n",
       "      <td>2022020501</td>\n",
       "      <td>2022-12-19T03:00:00Z</td>\n",
       "      <td>20</td>\n",
       "      <td>CGY</td>\n",
       "      <td>8474628</td>\n",
       "      <td>Michael Stone</td>\n",
       "      <td>R</td>\n",
       "      <td>D</td>\n",
       "      <td>15:14</td>\n",
       "      <td>0</td>\n",
       "      <td>...</td>\n",
       "      <td>0</td>\n",
       "      <td>1</td>\n",
       "      <td>0</td>\n",
       "      <td>0</td>\n",
       "      <td>1</td>\n",
       "      <td>0</td>\n",
       "      <td>13:34</td>\n",
       "      <td>0:17</td>\n",
       "      <td>1:23</td>\n",
       "      <td>away</td>\n",
       "    </tr>\n",
       "  </tbody>\n",
       "</table>\n",
       "<p>1 rows × 29 columns</p>\n",
       "</div>"
      ],
      "text/plain": [
       "     game_num                  date  team_id team_code  player_id  \\\n",
       "0  2022020501  2022-12-19T03:00:00Z       20       CGY    8474628   \n",
       "\n",
       "            name shoots position    toi  assists  ...  takeaways  giveaways  \\\n",
       "0  Michael Stone      R        D  15:14        0  ...          0          1   \n",
       "\n",
       "   sh_goals  sh_assists  blocked  plus_minus even_toi  pp_toi  sh_toi  \\\n",
       "0         0           0        1           0    13:34    0:17    1:23   \n",
       "\n",
       "   home_away  \n",
       "0       away  \n",
       "\n",
       "[1 rows x 29 columns]"
      ]
     },
     "execution_count": 23,
     "metadata": {},
     "output_type": "execute_result"
    }
   ],
   "source": [
    "player_data_a.head(1)"
   ]
  },
  {
   "cell_type": "code",
   "execution_count": 24,
   "id": "89fc141f-0031-4001-ac8e-56e9940480d4",
   "metadata": {},
   "outputs": [],
   "source": [
    "#combine home and away dataframes \n",
    "frames = [player_data_h, player_data_a]\n",
    "\n",
    "player_data_2 = pd.concat(frames)"
   ]
  },
  {
   "cell_type": "code",
   "execution_count": 26,
   "id": "1edcd8c9-2b7c-4262-a3f9-f1df9c1d084e",
   "metadata": {
    "tags": []
   },
   "outputs": [],
   "source": [
    "#create a csv of the game info 0500 - 1000\n",
    "#player_data_2.to_csv('player_data_1000.csv')"
   ]
  },
  {
   "cell_type": "markdown",
   "id": "81382e86-9fd5-40fd-855b-8299c510d960",
   "metadata": {},
   "source": [
    "## pull game data game #'s 2022021001 - 2022021312"
   ]
  },
  {
   "cell_type": "code",
   "execution_count": 2,
   "id": "26311457-37f7-473b-85df-4ca4feef3dfd",
   "metadata": {},
   "outputs": [],
   "source": [
    "#create game number list \n",
    "#game numbers range from 0001-1353\n",
    "\n",
    "game_number_list = list(range(1,1313))"
   ]
  },
  {
   "cell_type": "code",
   "execution_count": 3,
   "id": "ce52d7cd-fc88-42b5-8ede-9eff7b9a2125",
   "metadata": {},
   "outputs": [],
   "source": [
    "#pad the game number list with leading zeros to create a number that's 4 digits \n",
    "game_number_list_pad = [str(number).zfill(4) for number in game_number_list]"
   ]
  },
  {
   "cell_type": "code",
   "execution_count": 4,
   "id": "c93c8db1-402f-4240-ac7c-b506114630b4",
   "metadata": {},
   "outputs": [],
   "source": [
    "#create lists in smaller sections \n",
    "game_number_list_pad_3 = game_number_list_pad[1000:]"
   ]
  },
  {
   "cell_type": "code",
   "execution_count": 5,
   "id": "d7267886-65eb-439d-bb39-57eefa8cd7a6",
   "metadata": {},
   "outputs": [],
   "source": [
    "#create the url's for each game number - 3 \n",
    "all_url_3 = []\n",
    "\n",
    "for i in range(len(game_number_list_pad_3)):\n",
    "    game_number_3 = game_number_list_pad_3[i]\n",
    "    game_number_url_3 = 'https://statsapi.web.nhl.com/api/v1/game/202202'+str(game_number_3)+'/feed/live'\n",
    "    all_url_3.append(game_number_url_3)"
   ]
  },
  {
   "cell_type": "code",
   "execution_count": 6,
   "id": "e7a84745-6d18-40b5-aad8-8466b37758ad",
   "metadata": {},
   "outputs": [],
   "source": [
    "#pull the game data from NHL url 3\n",
    "game_data_3 = []\n",
    "\n",
    "for i in range(len(all_url_3)):\n",
    "    response_3 = requests.get(all_url_3[i])\n",
    "    game_data_3.append(response_3.json())"
   ]
  },
  {
   "cell_type": "code",
   "execution_count": 46,
   "id": "fcdb8f4d-e708-4fd7-89f4-4ddc42eccdeb",
   "metadata": {},
   "outputs": [],
   "source": [
    "#from IPython.display import JSON\n",
    "#JSON(game_data_3)"
   ]
  },
  {
   "cell_type": "code",
   "execution_count": 7,
   "id": "ab9a976b-dce7-4d44-a401-01f06a2e2f0e",
   "metadata": {
    "tags": []
   },
   "outputs": [],
   "source": [
    "#empty lists for creating the player dataframe - home team \n",
    "game_num = []\n",
    "date = []\n",
    "team_id = []\n",
    "team_code = []\n",
    "player_id = []\n",
    "name = []\n",
    "shoots = []\n",
    "position = []\n",
    "toi = []\n",
    "assists = []\n",
    "goals = []\n",
    "shots = []\n",
    "hits = []\n",
    "pp_goals = []\n",
    "pp_assists = []\n",
    "pim = []\n",
    "fo_perc = []\n",
    "fo_wins = []\n",
    "fo_taken = []\n",
    "takeaways = []\n",
    "giveaways = []\n",
    "sh_goals = []\n",
    "sh_assists = []\n",
    "blocked = []\n",
    "plus_minus = []\n",
    "even_toi = []\n",
    "pp_toi = []\n",
    "sh_toi = []"
   ]
  },
  {
   "cell_type": "code",
   "execution_count": 8,
   "id": "859a908e-f179-4562-b533-91f2b410521a",
   "metadata": {},
   "outputs": [],
   "source": [
    "for i in range(len(game_data_3)):\n",
    "    players = game_data_3[i]['liveData']['boxscore']['teams']['home']['players']\n",
    "    for j in players:\n",
    "        if len(players[j]['stats']) > 0:\n",
    "            if 'skaterStats' in players[j]['stats']:\n",
    "                try:\n",
    "                    toi.append(players[j]['stats']['skaterStats']['timeOnIce'])\n",
    "                    assists.append(players[j]['stats']['skaterStats']['assists'])\n",
    "                    goals.append(players[j]['stats']['skaterStats']['goals'])\n",
    "                    shots.append(players[j]['stats']['skaterStats']['shots'])\n",
    "                    hits.append(players[j]['stats']['skaterStats']['hits'])\n",
    "                    pp_goals.append(players[j]['stats']['skaterStats']['powerPlayGoals'])\n",
    "                    pp_assists.append(players[j]['stats']['skaterStats']['powerPlayAssists'])\n",
    "                    pim.append(players[j]['stats']['skaterStats']['penaltyMinutes'])\n",
    "                    fo_wins.append(players[j]['stats']['skaterStats']['faceOffWins'])\n",
    "                    fo_taken.append(players[j]['stats']['skaterStats']['faceoffTaken'])\n",
    "                    takeaways.append(players[j]['stats']['skaterStats']['takeaways'])\n",
    "                    giveaways.append(players[j]['stats']['skaterStats']['giveaways'])\n",
    "                    sh_goals.append(players[j]['stats']['skaterStats']['shortHandedGoals'])\n",
    "                    sh_assists.append(players[j]['stats']['skaterStats']['shortHandedAssists'])\n",
    "                    blocked.append(players[j]['stats']['skaterStats']['blocked'])\n",
    "                    plus_minus.append(players[j]['stats']['skaterStats']['plusMinus'])\n",
    "                    even_toi.append(players[j]['stats']['skaterStats']['evenTimeOnIce'])\n",
    "                    pp_toi.append(players[j]['stats']['skaterStats']['powerPlayTimeOnIce'])\n",
    "                    sh_toi.append(players[j]['stats']['skaterStats']['shortHandedTimeOnIce'])\n",
    "                    player_id.append(players[j]['person']['id'])\n",
    "                    name.append(players[j]['person']['fullName'])\n",
    "                    shoots.append(players[j]['person']['shootsCatches'])\n",
    "                    position.append(players[j]['position']['abbreviation'])\n",
    "                    game_num.append(game_data_3[i]['gameData']['game']['pk'])\n",
    "                    date.append(game_data_3[i]['gameData']['datetime']['dateTime'])\n",
    "                    team_id.append(game_data_3[i]['gameData']['teams']['home']['id'])\n",
    "                    team_code.append(game_data_3[i]['gameData']['teams']['home']['triCode'])\n",
    "                    fo_perc.append(players[j]['stats']['skaterStats']['faceOffPct'])\n",
    "                except KeyError:\n",
    "                    fo_perc.append('NaN')\n",
    "        else: \n",
    "            pass"
   ]
  },
  {
   "cell_type": "code",
   "execution_count": 9,
   "id": "f529ae4b-9804-4aff-a3c3-0a1b66f0d3f1",
   "metadata": {},
   "outputs": [],
   "source": [
    "#create dataframe- home data \n",
    "player_data_h = pd.DataFrame(list(zip(game_num, date, team_id, team_code, player_id, name, shoots, position, toi, assists, \n",
    "                                     goals, shots, hits, pp_goals, pp_assists, pim, fo_perc, fo_wins, fo_taken, takeaways, \n",
    "                                     giveaways, sh_goals, sh_assists, blocked, plus_minus, even_toi, pp_toi, sh_toi)),\n",
    "               columns =['game_num', 'date', 'team_id', 'team_code', 'player_id', 'name', 'shoots', 'position', 'toi', 'assists', \n",
    "                                     'goals', 'shots', 'hits', 'pp_goals', 'pp_assists', 'pim', 'fo_perc', 'fo_wins', 'fo_taken', 'takeaways', \n",
    "                                     'giveaways', 'sh_goals', 'sh_assists', 'blocked', 'plus_minus', 'even_toi', 'pp_toi', 'sh_toi'])\n"
   ]
  },
  {
   "cell_type": "code",
   "execution_count": 10,
   "id": "53e266be-aa5d-4c89-8e08-fd954570a467",
   "metadata": {},
   "outputs": [],
   "source": [
    "player_data_h['home_away'] = 'home'"
   ]
  },
  {
   "cell_type": "code",
   "execution_count": 11,
   "id": "409fcbc0-4331-4154-a1ce-0d59979bca34",
   "metadata": {},
   "outputs": [
    {
     "data": {
      "text/html": [
       "<div>\n",
       "<style scoped>\n",
       "    .dataframe tbody tr th:only-of-type {\n",
       "        vertical-align: middle;\n",
       "    }\n",
       "\n",
       "    .dataframe tbody tr th {\n",
       "        vertical-align: top;\n",
       "    }\n",
       "\n",
       "    .dataframe thead th {\n",
       "        text-align: right;\n",
       "    }\n",
       "</style>\n",
       "<table border=\"1\" class=\"dataframe\">\n",
       "  <thead>\n",
       "    <tr style=\"text-align: right;\">\n",
       "      <th></th>\n",
       "      <th>game_num</th>\n",
       "      <th>date</th>\n",
       "      <th>team_id</th>\n",
       "      <th>team_code</th>\n",
       "      <th>player_id</th>\n",
       "      <th>name</th>\n",
       "      <th>shoots</th>\n",
       "      <th>position</th>\n",
       "      <th>toi</th>\n",
       "      <th>assists</th>\n",
       "      <th>...</th>\n",
       "      <th>takeaways</th>\n",
       "      <th>giveaways</th>\n",
       "      <th>sh_goals</th>\n",
       "      <th>sh_assists</th>\n",
       "      <th>blocked</th>\n",
       "      <th>plus_minus</th>\n",
       "      <th>even_toi</th>\n",
       "      <th>pp_toi</th>\n",
       "      <th>sh_toi</th>\n",
       "      <th>home_away</th>\n",
       "    </tr>\n",
       "  </thead>\n",
       "  <tbody>\n",
       "    <tr>\n",
       "      <th>0</th>\n",
       "      <td>2022021001</td>\n",
       "      <td>2023-03-05T20:00:00Z</td>\n",
       "      <td>12</td>\n",
       "      <td>CAR</td>\n",
       "      <td>8482093</td>\n",
       "      <td>Seth Jarvis</td>\n",
       "      <td>R</td>\n",
       "      <td>C</td>\n",
       "      <td>17:08</td>\n",
       "      <td>0</td>\n",
       "      <td>...</td>\n",
       "      <td>2</td>\n",
       "      <td>2</td>\n",
       "      <td>0</td>\n",
       "      <td>0</td>\n",
       "      <td>1</td>\n",
       "      <td>1</td>\n",
       "      <td>14:25</td>\n",
       "      <td>2:43</td>\n",
       "      <td>0:00</td>\n",
       "      <td>home</td>\n",
       "    </tr>\n",
       "  </tbody>\n",
       "</table>\n",
       "<p>1 rows × 29 columns</p>\n",
       "</div>"
      ],
      "text/plain": [
       "     game_num                  date  team_id team_code  player_id  \\\n",
       "0  2022021001  2023-03-05T20:00:00Z       12       CAR    8482093   \n",
       "\n",
       "          name shoots position    toi  assists  ...  takeaways  giveaways  \\\n",
       "0  Seth Jarvis      R        C  17:08        0  ...          2          2   \n",
       "\n",
       "   sh_goals  sh_assists  blocked  plus_minus even_toi  pp_toi  sh_toi  \\\n",
       "0         0           0        1           1    14:25    2:43    0:00   \n",
       "\n",
       "   home_away  \n",
       "0       home  \n",
       "\n",
       "[1 rows x 29 columns]"
      ]
     },
     "execution_count": 11,
     "metadata": {},
     "output_type": "execute_result"
    }
   ],
   "source": [
    "player_data_h.head(1)"
   ]
  },
  {
   "cell_type": "code",
   "execution_count": 12,
   "id": "d7b51215-1046-42b6-bd35-a3b2f870c432",
   "metadata": {
    "tags": []
   },
   "outputs": [],
   "source": [
    "#empty lists for creating the player dataframe - away team \n",
    "game_num = []\n",
    "date = []\n",
    "team_id = []\n",
    "team_code = []\n",
    "player_id = []\n",
    "name = []\n",
    "shoots = []\n",
    "position = []\n",
    "toi = []\n",
    "assists = []\n",
    "goals = []\n",
    "shots = []\n",
    "hits = []\n",
    "pp_goals = []\n",
    "pp_assists = []\n",
    "pim = []\n",
    "fo_perc = []\n",
    "fo_wins = []\n",
    "fo_taken = []\n",
    "takeaways = []\n",
    "giveaways = []\n",
    "sh_goals = []\n",
    "sh_assists = []\n",
    "blocked = []\n",
    "plus_minus = []\n",
    "even_toi = []\n",
    "pp_toi = []\n",
    "sh_toi = []"
   ]
  },
  {
   "cell_type": "code",
   "execution_count": 13,
   "id": "336b8979-7c3d-4594-8afb-154d9b14322a",
   "metadata": {},
   "outputs": [],
   "source": [
    "#away teams\n",
    "for i in range(len(game_data_3)):\n",
    "    players = game_data_3[i]['liveData']['boxscore']['teams']['away']['players']\n",
    "    for j in players:\n",
    "        if len(players[j]['stats']) > 0:\n",
    "            if 'skaterStats' in players[j]['stats']:\n",
    "                try:\n",
    "                    toi.append(players[j]['stats']['skaterStats']['timeOnIce'])\n",
    "                    assists.append(players[j]['stats']['skaterStats']['assists'])\n",
    "                    goals.append(players[j]['stats']['skaterStats']['goals'])\n",
    "                    shots.append(players[j]['stats']['skaterStats']['shots'])\n",
    "                    hits.append(players[j]['stats']['skaterStats']['hits'])\n",
    "                    pp_goals.append(players[j]['stats']['skaterStats']['powerPlayGoals'])\n",
    "                    pp_assists.append(players[j]['stats']['skaterStats']['powerPlayAssists'])\n",
    "                    pim.append(players[j]['stats']['skaterStats']['penaltyMinutes'])\n",
    "                    fo_wins.append(players[j]['stats']['skaterStats']['faceOffWins'])\n",
    "                    fo_taken.append(players[j]['stats']['skaterStats']['faceoffTaken'])\n",
    "                    takeaways.append(players[j]['stats']['skaterStats']['takeaways'])\n",
    "                    giveaways.append(players[j]['stats']['skaterStats']['giveaways'])\n",
    "                    sh_goals.append(players[j]['stats']['skaterStats']['shortHandedGoals'])\n",
    "                    sh_assists.append(players[j]['stats']['skaterStats']['shortHandedAssists'])\n",
    "                    blocked.append(players[j]['stats']['skaterStats']['blocked'])\n",
    "                    plus_minus.append(players[j]['stats']['skaterStats']['plusMinus'])\n",
    "                    even_toi.append(players[j]['stats']['skaterStats']['evenTimeOnIce'])\n",
    "                    pp_toi.append(players[j]['stats']['skaterStats']['powerPlayTimeOnIce'])\n",
    "                    sh_toi.append(players[j]['stats']['skaterStats']['shortHandedTimeOnIce'])\n",
    "                    player_id.append(players[j]['person']['id'])\n",
    "                    name.append(players[j]['person']['fullName'])\n",
    "                    shoots.append(players[j]['person']['shootsCatches'])\n",
    "                    position.append(players[j]['position']['abbreviation'])\n",
    "                    game_num.append(game_data_3[i]['gameData']['game']['pk'])\n",
    "                    date.append(game_data_3[i]['gameData']['datetime']['dateTime'])\n",
    "                    team_id.append(game_data_3[i]['gameData']['teams']['away']['id'])\n",
    "                    team_code.append(game_data_3[i]['gameData']['teams']['away']['triCode'])\n",
    "                    fo_perc.append(players[j]['stats']['skaterStats']['faceOffPct'])\n",
    "                except KeyError:\n",
    "                    fo_perc.append('NaN')\n",
    "        else: \n",
    "            pass"
   ]
  },
  {
   "cell_type": "code",
   "execution_count": 14,
   "id": "cb211420-e8f0-4403-949f-5e0ee366c151",
   "metadata": {},
   "outputs": [
    {
     "data": {
      "text/plain": [
       "5611"
      ]
     },
     "execution_count": 14,
     "metadata": {},
     "output_type": "execute_result"
    }
   ],
   "source": [
    "len(takeaways)"
   ]
  },
  {
   "cell_type": "code",
   "execution_count": 15,
   "id": "3e31cdbb-6db3-4bb0-8f8c-05c2412c8b7c",
   "metadata": {},
   "outputs": [],
   "source": [
    "#create dataframe- away data \n",
    "player_data_a = pd.DataFrame(list(zip(game_num, date, team_id, team_code, player_id, name, shoots, position, toi, assists, \n",
    "                                     goals, shots, hits, pp_goals, pp_assists, pim, fo_perc, fo_wins, fo_taken, takeaways, \n",
    "                                     giveaways, sh_goals, sh_assists, blocked, plus_minus, even_toi, pp_toi, sh_toi)),\n",
    "               columns =['game_num', 'date', 'team_id', 'team_code', 'player_id', 'name', 'shoots', 'position', 'toi', 'assists', \n",
    "                                     'goals', 'shots', 'hits', 'pp_goals', 'pp_assists', 'pim', 'fo_perc', 'fo_wins', 'fo_taken', 'takeaways', \n",
    "                                     'giveaways', 'sh_goals', 'sh_assists', 'blocked', 'plus_minus', 'even_toi', 'pp_toi', 'sh_toi'])\n"
   ]
  },
  {
   "cell_type": "code",
   "execution_count": 16,
   "id": "b0e55a08-cc3b-47e7-a050-f3a9630f3cb7",
   "metadata": {},
   "outputs": [],
   "source": [
    "player_data_a['home_away'] = 'away'"
   ]
  },
  {
   "cell_type": "code",
   "execution_count": 17,
   "id": "2ea40c8d-3970-4903-8301-852ca40b95ee",
   "metadata": {},
   "outputs": [
    {
     "data": {
      "text/html": [
       "<div>\n",
       "<style scoped>\n",
       "    .dataframe tbody tr th:only-of-type {\n",
       "        vertical-align: middle;\n",
       "    }\n",
       "\n",
       "    .dataframe tbody tr th {\n",
       "        vertical-align: top;\n",
       "    }\n",
       "\n",
       "    .dataframe thead th {\n",
       "        text-align: right;\n",
       "    }\n",
       "</style>\n",
       "<table border=\"1\" class=\"dataframe\">\n",
       "  <thead>\n",
       "    <tr style=\"text-align: right;\">\n",
       "      <th></th>\n",
       "      <th>game_num</th>\n",
       "      <th>date</th>\n",
       "      <th>team_id</th>\n",
       "      <th>team_code</th>\n",
       "      <th>player_id</th>\n",
       "      <th>name</th>\n",
       "      <th>shoots</th>\n",
       "      <th>position</th>\n",
       "      <th>toi</th>\n",
       "      <th>assists</th>\n",
       "      <th>...</th>\n",
       "      <th>takeaways</th>\n",
       "      <th>giveaways</th>\n",
       "      <th>sh_goals</th>\n",
       "      <th>sh_assists</th>\n",
       "      <th>blocked</th>\n",
       "      <th>plus_minus</th>\n",
       "      <th>even_toi</th>\n",
       "      <th>pp_toi</th>\n",
       "      <th>sh_toi</th>\n",
       "      <th>home_away</th>\n",
       "    </tr>\n",
       "  </thead>\n",
       "  <tbody>\n",
       "    <tr>\n",
       "      <th>0</th>\n",
       "      <td>2022021001</td>\n",
       "      <td>2023-03-05T20:00:00Z</td>\n",
       "      <td>14</td>\n",
       "      <td>TBL</td>\n",
       "      <td>8478519</td>\n",
       "      <td>Anthony Cirelli</td>\n",
       "      <td>L</td>\n",
       "      <td>C</td>\n",
       "      <td>15:14</td>\n",
       "      <td>0</td>\n",
       "      <td>...</td>\n",
       "      <td>0</td>\n",
       "      <td>2</td>\n",
       "      <td>0</td>\n",
       "      <td>0</td>\n",
       "      <td>0</td>\n",
       "      <td>-2</td>\n",
       "      <td>11:48</td>\n",
       "      <td>0:23</td>\n",
       "      <td>3:03</td>\n",
       "      <td>away</td>\n",
       "    </tr>\n",
       "  </tbody>\n",
       "</table>\n",
       "<p>1 rows × 29 columns</p>\n",
       "</div>"
      ],
      "text/plain": [
       "     game_num                  date  team_id team_code  player_id  \\\n",
       "0  2022021001  2023-03-05T20:00:00Z       14       TBL    8478519   \n",
       "\n",
       "              name shoots position    toi  assists  ...  takeaways  giveaways  \\\n",
       "0  Anthony Cirelli      L        C  15:14        0  ...          0          2   \n",
       "\n",
       "   sh_goals  sh_assists  blocked  plus_minus even_toi  pp_toi  sh_toi  \\\n",
       "0         0           0        0          -2    11:48    0:23    3:03   \n",
       "\n",
       "   home_away  \n",
       "0       away  \n",
       "\n",
       "[1 rows x 29 columns]"
      ]
     },
     "execution_count": 17,
     "metadata": {},
     "output_type": "execute_result"
    }
   ],
   "source": [
    "player_data_a.head(1)"
   ]
  },
  {
   "cell_type": "code",
   "execution_count": 19,
   "id": "59a42c00-476a-490c-9638-452809f7a9ee",
   "metadata": {},
   "outputs": [],
   "source": [
    "#combine home and away dataframes \n",
    "frames = [player_data_h, player_data_a]\n",
    "\n",
    "player_data_3 = pd.concat(frames)"
   ]
  },
  {
   "cell_type": "code",
   "execution_count": 21,
   "id": "575aaaa7-14c1-4b94-afa5-c312f8bd3f35",
   "metadata": {
    "tags": []
   },
   "outputs": [],
   "source": [
    "#create a csv of the game info 1001-1312\n",
    "#player_data_3.to_csv('player_data_1312.csv')"
   ]
  },
  {
   "cell_type": "markdown",
   "id": "5b1e8e20-b5b1-4682-b162-5f64011081d6",
   "metadata": {
    "tags": []
   },
   "source": [
    "## combine all the data "
   ]
  },
  {
   "cell_type": "code",
   "execution_count": 2,
   "id": "a3247108-9dfe-47f6-b016-5ece864c4675",
   "metadata": {},
   "outputs": [],
   "source": [
    "#import all data\n",
    "player_data_1 = pd.read_csv(r'C:\\Users\\akobe\\OneDrive\\Desktop\\Lighthouse\\After\\NHL-Stats\\Scoring_Rates\\Data\\player_data\\player_data_500.csv', index_col = [0]) #index col makes sures another index column is not needed\n",
    "player_data_2 = pd.read_csv(r'C:\\Users\\akobe\\OneDrive\\Desktop\\Lighthouse\\After\\NHL-Stats\\Scoring_Rates\\Data\\player_data\\player_data_1000.csv', index_col = [0])\n",
    "player_data_3 = pd.read_csv(r'C:\\Users\\akobe\\OneDrive\\Desktop\\Lighthouse\\After\\NHL-Stats\\Scoring_Rates\\Data\\player_data\\player_data_1312.csv', index_col = [0])"
   ]
  },
  {
   "cell_type": "code",
   "execution_count": 8,
   "id": "05ab7262-f9ac-4717-9d92-ffe6e987bed0",
   "metadata": {},
   "outputs": [
    {
     "data": {
      "text/html": [
       "<div>\n",
       "<style scoped>\n",
       "    .dataframe tbody tr th:only-of-type {\n",
       "        vertical-align: middle;\n",
       "    }\n",
       "\n",
       "    .dataframe tbody tr th {\n",
       "        vertical-align: top;\n",
       "    }\n",
       "\n",
       "    .dataframe thead th {\n",
       "        text-align: right;\n",
       "    }\n",
       "</style>\n",
       "<table border=\"1\" class=\"dataframe\">\n",
       "  <thead>\n",
       "    <tr style=\"text-align: right;\">\n",
       "      <th></th>\n",
       "      <th>game_num</th>\n",
       "      <th>date</th>\n",
       "      <th>team_id</th>\n",
       "      <th>team_code</th>\n",
       "      <th>player_id</th>\n",
       "      <th>name</th>\n",
       "      <th>shoots</th>\n",
       "      <th>position</th>\n",
       "      <th>toi</th>\n",
       "      <th>assists</th>\n",
       "      <th>...</th>\n",
       "      <th>takeaways</th>\n",
       "      <th>giveaways</th>\n",
       "      <th>sh_goals</th>\n",
       "      <th>sh_assists</th>\n",
       "      <th>blocked</th>\n",
       "      <th>plus_minus</th>\n",
       "      <th>even_toi</th>\n",
       "      <th>pp_toi</th>\n",
       "      <th>sh_toi</th>\n",
       "      <th>home_away</th>\n",
       "    </tr>\n",
       "  </thead>\n",
       "  <tbody>\n",
       "    <tr>\n",
       "      <th>0</th>\n",
       "      <td>2022021001</td>\n",
       "      <td>2023-03-05T20:00:00Z</td>\n",
       "      <td>12</td>\n",
       "      <td>CAR</td>\n",
       "      <td>8482093</td>\n",
       "      <td>Seth Jarvis</td>\n",
       "      <td>R</td>\n",
       "      <td>C</td>\n",
       "      <td>17:08</td>\n",
       "      <td>0</td>\n",
       "      <td>...</td>\n",
       "      <td>2</td>\n",
       "      <td>2</td>\n",
       "      <td>0</td>\n",
       "      <td>0</td>\n",
       "      <td>1</td>\n",
       "      <td>1</td>\n",
       "      <td>14:25</td>\n",
       "      <td>2:43</td>\n",
       "      <td>0:00</td>\n",
       "      <td>home</td>\n",
       "    </tr>\n",
       "    <tr>\n",
       "      <th>1</th>\n",
       "      <td>2022021001</td>\n",
       "      <td>2023-03-05T20:00:00Z</td>\n",
       "      <td>12</td>\n",
       "      <td>CAR</td>\n",
       "      <td>8470613</td>\n",
       "      <td>Brent Burns</td>\n",
       "      <td>R</td>\n",
       "      <td>D</td>\n",
       "      <td>20:35</td>\n",
       "      <td>1</td>\n",
       "      <td>...</td>\n",
       "      <td>0</td>\n",
       "      <td>2</td>\n",
       "      <td>0</td>\n",
       "      <td>0</td>\n",
       "      <td>0</td>\n",
       "      <td>0</td>\n",
       "      <td>14:56</td>\n",
       "      <td>3:43</td>\n",
       "      <td>1:56</td>\n",
       "      <td>home</td>\n",
       "    </tr>\n",
       "  </tbody>\n",
       "</table>\n",
       "<p>2 rows × 29 columns</p>\n",
       "</div>"
      ],
      "text/plain": [
       "     game_num                  date  team_id team_code  player_id  \\\n",
       "0  2022021001  2023-03-05T20:00:00Z       12       CAR    8482093   \n",
       "1  2022021001  2023-03-05T20:00:00Z       12       CAR    8470613   \n",
       "\n",
       "          name shoots position    toi  assists  ...  takeaways  giveaways  \\\n",
       "0  Seth Jarvis      R        C  17:08        0  ...          2          2   \n",
       "1  Brent Burns      R        D  20:35        1  ...          0          2   \n",
       "\n",
       "   sh_goals  sh_assists  blocked  plus_minus  even_toi  pp_toi  sh_toi  \\\n",
       "0         0           0        1           1     14:25    2:43    0:00   \n",
       "1         0           0        0           0     14:56    3:43    1:56   \n",
       "\n",
       "   home_away  \n",
       "0       home  \n",
       "1       home  \n",
       "\n",
       "[2 rows x 29 columns]"
      ]
     },
     "execution_count": 8,
     "metadata": {},
     "output_type": "execute_result"
    }
   ],
   "source": [
    "player_data_3.head(2)"
   ]
  },
  {
   "cell_type": "code",
   "execution_count": 9,
   "id": "e3529059-af0c-492e-9504-42759c03ee1f",
   "metadata": {},
   "outputs": [],
   "source": [
    "#combine all the data into one file \n",
    "frames = [player_data_1, player_data_2, player_data_3]\n",
    "\n",
    "player_data = pd.concat(frames)"
   ]
  },
  {
   "cell_type": "code",
   "execution_count": 11,
   "id": "d4aa0e8f-0245-4593-beb5-8bdca91e6d19",
   "metadata": {},
   "outputs": [],
   "source": [
    "#create a csv of all game info\n",
    "#player_data.to_csv('player_data.csv')"
   ]
  },
  {
   "cell_type": "markdown",
   "id": "e5d7f3bf-b56a-4f52-92d1-2f29be05cfe0",
   "metadata": {},
   "source": [
    "## extra code"
   ]
  },
  {
   "cell_type": "code",
   "execution_count": 21,
   "id": "b01c2fe6-da96-4b99-ace2-dfebacde3bd9",
   "metadata": {},
   "outputs": [
    {
     "ename": "TypeError",
     "evalue": "list indices must be integers or slices, not dict",
     "output_type": "error",
     "traceback": [
      "\u001b[1;31m---------------------------------------------------------------------------\u001b[0m",
      "\u001b[1;31mTypeError\u001b[0m                                 Traceback (most recent call last)",
      "\u001b[1;32m~\\AppData\\Local\\Temp\\ipykernel_21268\\1514774804.py\u001b[0m in \u001b[0;36m<module>\u001b[1;34m\u001b[0m\n\u001b[1;32m----> 1\u001b[1;33m \u001b[0mlen\u001b[0m\u001b[1;33m(\u001b[0m\u001b[0mgame_data_1\u001b[0m\u001b[1;33m[\u001b[0m\u001b[0mi\u001b[0m\u001b[1;33m]\u001b[0m\u001b[1;33m[\u001b[0m\u001b[1;34m'liveData'\u001b[0m\u001b[1;33m]\u001b[0m\u001b[1;33m[\u001b[0m\u001b[1;34m'boxscore'\u001b[0m\u001b[1;33m]\u001b[0m\u001b[1;33m[\u001b[0m\u001b[1;34m'teams'\u001b[0m\u001b[1;33m]\u001b[0m\u001b[1;33m[\u001b[0m\u001b[1;34m'home'\u001b[0m\u001b[1;33m]\u001b[0m\u001b[1;33m[\u001b[0m\u001b[1;34m'players'\u001b[0m\u001b[1;33m]\u001b[0m\u001b[1;33m)\u001b[0m\u001b[1;33m\u001b[0m\u001b[1;33m\u001b[0m\u001b[0m\n\u001b[0m",
      "\u001b[1;31mTypeError\u001b[0m: list indices must be integers or slices, not dict"
     ]
    }
   ],
   "source": [
    "## THIS WORKS \n",
    "\n",
    "for i in range(len(game_data_1)):\n",
    "    players = game_data_1[i]['liveData']['boxscore']['teams']['home']['players']\n",
    "    for j in players:\n",
    "        try:\n",
    "            toi.append(players[j]['stats']['skaterStats']['timeOnIce'])\n",
    "        except KeyError:\n",
    "            toi.append('NaN')"
   ]
  },
  {
   "cell_type": "code",
   "execution_count": null,
   "id": "3881ead3-a5d7-49c4-bcea-a595bb8d6fec",
   "metadata": {},
   "outputs": [],
   "source": [
    "for i in range(len(game_data_1)):\n",
    "    players = game_data_1[i]['liveData']['boxscore']['teams']['home']['players']\n",
    "    for j in players:\n",
    "        if len(players[j]['stats']) > 0:\n",
    "            try:\n",
    "                toi.append(players[j]['stats']['skaterStats']['timeOnIce'])\n",
    "                assists.append(players[j]['stats']['skaterStats']['assists'])\n",
    "                goals.append(players[j]['stats']['skaterStats']['goals'])\n",
    "                shots.append(players[j]['stats']['skaterStats']['shots'])\n",
    "                hits.append(players[j]['stats']['skaterStats']['hits'])\n",
    "                pp_goals.append(players[j]['stats']['skaterStats']['powerPlayGoals'])\n",
    "                pp_assists.append(players[j]['stats']['skaterStats']['powerPlayAssists'])\n",
    "                pim.append(players[j]['stats']['skaterStats']['penaltyMinutes'])\n",
    "                fo_perc.append(players[j]['stats']['skaterStats']['faceOffPct'])\n",
    "                fo_wins.append(players[j]['stats']['skaterStats']['faceOffWins'])\n",
    "                fo_taken.append(players[j]['stats']['skaterStats']['faceoffTaken'])\n",
    "                takeaways.append(players[j]['stats']['skaterStats']['takeaways'])\n",
    "                giveaways.append(players[j]['stats']['skaterStats']['giveaways'])\n",
    "                sh_goals.append(players[j]['stats']['skaterStats']['shortHandedGoals'])\n",
    "                #sh_assists.append(players[j]['stats']['skaterStats']['shortHandedAssits'])\n",
    "                #blocked.append(players[j]['stats']['skaterStats']['blocked'])\n",
    "                #plus_minus.append(players[j]['stats']['skaterStats']['plusMinus'])\n",
    "                #even_toi.append(players[j]['stats']['skaterStats']['evenTimeOnIce'])\n",
    "                #pp_toi.append(players[j]['stats']['skaterStats']['powerPlayTimeOnIce'])\n",
    "                #sh_toi.append(players[j]['stats']['skaterStats']['shortHandedTimeOnIce'])\n",
    "                #player_id.append(players[j]['person']['id'])\n",
    "                #name.append(players[j]['person']['fullName'])\n",
    "                #shoots.append(players[j]['person']['shootsCatches'])\n",
    "                #position.append(players[j]['position']['abbreviation'])\n",
    "                #game_num.append(game_data_1[i]['gameData']['game']['pk'])\n",
    "                #date.append(game_data_1[i]['gameData']['datetime']['dateTime'])\n",
    "                #team_id.append(game_data_1[i]['gameData']['teams']['home']['id'])\n",
    "                #game_num.append(game_data_1[i]['gameData']['teams']['home']['triCode'])\n",
    "            except KeyError: #pass over the goalies who have different stats\n",
    "                continue\n",
    "        else: \n",
    "            pass"
   ]
  },
  {
   "cell_type": "code",
   "execution_count": 2,
   "id": "f924aa4f-635e-4371-9856-a42e14f25b76",
   "metadata": {},
   "outputs": [],
   "source": [
    "#create game number list \n",
    "#game numbers range from 0001-1353\n",
    "\n",
    "game_number_list = list(range(1,1312))"
   ]
  },
  {
   "cell_type": "code",
   "execution_count": 3,
   "id": "bfa7fd41-d7e3-4c0a-b41b-8f3bbb205a8e",
   "metadata": {},
   "outputs": [],
   "source": [
    "#pad the game number list with leading zeros to create a number that's 4 digits \n",
    "game_number_list_pad = [str(number).zfill(4) for number in game_number_list]"
   ]
  },
  {
   "cell_type": "code",
   "execution_count": 4,
   "id": "6e73347a-fb9e-448d-8a18-cefe1021689d",
   "metadata": {},
   "outputs": [],
   "source": [
    "#create lists in smaller sections \n",
    "game_number_list_pad_1 = game_number_list_pad[:500]\n",
    "game_number_list_pad_2 = game_number_list_pad[500:1000]\n",
    "game_number_list_pad_3 = game_number_list_pad[1000:]"
   ]
  },
  {
   "cell_type": "code",
   "execution_count": 33,
   "id": "a8419900-795d-40c1-90af-6c5ea1e0b247",
   "metadata": {},
   "outputs": [
    {
     "ename": "NameError",
     "evalue": "name 'game_number_list_pad_1' is not defined",
     "output_type": "error",
     "traceback": [
      "\u001b[1;31m---------------------------------------------------------------------------\u001b[0m",
      "\u001b[1;31mNameError\u001b[0m                                 Traceback (most recent call last)",
      "\u001b[1;32m~\\AppData\\Local\\Temp\\ipykernel_15440\\2428598054.py\u001b[0m in \u001b[0;36m<module>\u001b[1;34m\u001b[0m\n\u001b[0;32m      2\u001b[0m \u001b[0mall_url_1\u001b[0m \u001b[1;33m=\u001b[0m \u001b[1;33m[\u001b[0m\u001b[1;33m]\u001b[0m\u001b[1;33m\u001b[0m\u001b[1;33m\u001b[0m\u001b[0m\n\u001b[0;32m      3\u001b[0m \u001b[1;33m\u001b[0m\u001b[0m\n\u001b[1;32m----> 4\u001b[1;33m \u001b[1;32mfor\u001b[0m \u001b[0mi\u001b[0m \u001b[1;32min\u001b[0m \u001b[0mrange\u001b[0m\u001b[1;33m(\u001b[0m\u001b[0mlen\u001b[0m\u001b[1;33m(\u001b[0m\u001b[0mgame_number_list_pad_1\u001b[0m\u001b[1;33m)\u001b[0m\u001b[1;33m)\u001b[0m\u001b[1;33m:\u001b[0m\u001b[1;33m\u001b[0m\u001b[1;33m\u001b[0m\u001b[0m\n\u001b[0m\u001b[0;32m      5\u001b[0m     \u001b[0mgame_number_1\u001b[0m \u001b[1;33m=\u001b[0m \u001b[0mgame_number_list_pad_1\u001b[0m\u001b[1;33m[\u001b[0m\u001b[0mi\u001b[0m\u001b[1;33m]\u001b[0m\u001b[1;33m\u001b[0m\u001b[1;33m\u001b[0m\u001b[0m\n\u001b[0;32m      6\u001b[0m     \u001b[0mgame_number_url_1\u001b[0m \u001b[1;33m=\u001b[0m \u001b[1;34m'https://statsapi.web.nhl.com/api/v1/game/202202'\u001b[0m\u001b[1;33m+\u001b[0m\u001b[0mstr\u001b[0m\u001b[1;33m(\u001b[0m\u001b[0mgame_number_1\u001b[0m\u001b[1;33m)\u001b[0m\u001b[1;33m+\u001b[0m\u001b[1;34m'/feed/live'\u001b[0m\u001b[1;33m\u001b[0m\u001b[1;33m\u001b[0m\u001b[0m\n",
      "\u001b[1;31mNameError\u001b[0m: name 'game_number_list_pad_1' is not defined"
     ]
    }
   ],
   "source": [
    "#create the url's for each game number - 1 \n",
    "all_url_1 = []\n",
    "\n",
    "for i in range(len(game_number_list_pad_1)):\n",
    "    game_number_1 = game_number_list_pad_1[i]\n",
    "    game_number_url_1 = 'https://statsapi.web.nhl.com/api/v1/game/202202'+str(game_number_1)+'/feed/live'\n",
    "    all_url_1.append(game_number_url_1)"
   ]
  },
  {
   "cell_type": "code",
   "execution_count": 6,
   "id": "5ec9c442-ca8c-4b5d-8064-14b24d4203d7",
   "metadata": {},
   "outputs": [],
   "source": [
    "#pull the game data from NHL url 1 \n",
    "game_data_1 = []\n",
    "\n",
    "for i in range(len(all_url_1)):\n",
    "    response_1 = requests.get(all_url_1[i])\n",
    "    game_data_1.append(response_1.json())"
   ]
  }
 ],
 "metadata": {
  "kernelspec": {
   "display_name": "lighthouse",
   "language": "python",
   "name": "lighthouse"
  },
  "language_info": {
   "codemirror_mode": {
    "name": "ipython",
    "version": 3
   },
   "file_extension": ".py",
   "mimetype": "text/x-python",
   "name": "python",
   "nbconvert_exporter": "python",
   "pygments_lexer": "ipython3",
   "version": "3.9.13"
  }
 },
 "nbformat": 4,
 "nbformat_minor": 5
}
