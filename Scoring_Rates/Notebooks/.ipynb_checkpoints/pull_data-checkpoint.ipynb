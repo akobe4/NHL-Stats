{
 "cells": [
  {
   "cell_type": "code",
   "execution_count": 1,
   "id": "cacf1222-9056-483f-aaea-41ad0271e234",
   "metadata": {},
   "outputs": [],
   "source": [
    "import pandas as pd \n",
    "import requests\n",
    "import os\n",
    "import json\n",
    "import numpy as np"
   ]
  },
  {
   "cell_type": "code",
   "execution_count": 2,
   "id": "d31d79b9-e609-477b-b9eb-01a4a04bad22",
   "metadata": {},
   "outputs": [],
   "source": [
    "#create game number list \n",
    "#game numbers range from 0001-1353\n",
    "\n",
    "game_number_list = list(range(1,1354))"
   ]
  },
  {
   "cell_type": "code",
   "execution_count": 3,
   "id": "39ff9766-c6f3-44e9-accd-62919372144c",
   "metadata": {},
   "outputs": [],
   "source": [
    "#pad the game number list with leading zeros to create a number that's 4 digits \n",
    "game_number_list_pad = [str(number).zfill(4) for number in game_number_list]"
   ]
  },
  {
   "cell_type": "code",
   "execution_count": 4,
   "id": "4b9e4671-f486-4390-93d2-2fc07607b6df",
   "metadata": {},
   "outputs": [],
   "source": [
    "#create lists in smaller sections \n",
    "game_number_list_pad_1 = game_number_list_pad[:500]\n",
    "game_number_list_pad_2 = game_number_list_pad[500:1000]\n",
    "game_number_list_pad_3 = game_number_list_pad[1000:]"
   ]
  },
  {
   "cell_type": "markdown",
   "id": "1872db10-4640-4d3f-ae58-11493626ba28",
   "metadata": {},
   "source": [
    "## pull game data game #'s 2022020001 - 2022020500"
   ]
  },
  {
   "cell_type": "code",
   "execution_count": 5,
   "id": "9da07cfb-6a73-4b46-a52c-bca95a17cbd7",
   "metadata": {},
   "outputs": [],
   "source": [
    "#create the url's for each game number - 1 \n",
    "all_url_1 = []\n",
    "\n",
    "for i in range(len(game_number_list_pad_1)):\n",
    "    game_number_1 = game_number_list_pad_1[i]\n",
    "    game_number_url_1 = 'https://statsapi.web.nhl.com/api/v1/game/202202'+str(game_number_1)+'/feed/live'\n",
    "    all_url_1.append(game_number_url_1)"
   ]
  },
  {
   "cell_type": "code",
   "execution_count": 6,
   "id": "3ca6ea62-2f30-4cfb-978f-3ad8dd3bcb76",
   "metadata": {},
   "outputs": [],
   "source": [
    "#pull the game data from NHL url 1 \n",
    "game_data_1 = []\n",
    "\n",
    "for i in range(len(all_url_1)):\n",
    "    response_1 = requests.get(all_url_1[i])\n",
    "    game_data_1.append(response_1.json())"
   ]
  },
  {
   "cell_type": "code",
   "execution_count": null,
   "id": "a0810ef3-292c-4fb7-ae13-061cc54d9ddd",
   "metadata": {},
   "outputs": [],
   "source": [
    "from IPython.display import JSON\n",
    "JSON(game_data_1)"
   ]
  },
  {
   "cell_type": "code",
   "execution_count": null,
   "id": "75e6fea8-5e3a-44b5-93f5-3941d23b09b4",
   "metadata": {},
   "outputs": [],
   "source": [
    "# Store the JSON data in a file\n",
    "#with open(\"game_data.json\", \"w\") as file:\n",
    "#    json.dump(game_data, file)"
   ]
  },
  {
   "cell_type": "code",
   "execution_count": 7,
   "id": "9a216fd3-40da-4f04-8325-bf8ae156baf9",
   "metadata": {},
   "outputs": [],
   "source": [
    "#empty lists to create a home team info dataframe \n",
    "team_id = []\n",
    "team_code = []\n",
    "game_num = []\n",
    "date = []\n",
    "goals = []\n",
    "pim = []\n",
    "shots = []\n",
    "pp_perc = []\n",
    "ppg = []\n",
    "pp_opp = []\n",
    "fo_win = []\n",
    "blocked = []\n",
    "takeaways = []\n",
    "giveaways = []\n",
    "hits = []"
   ]
  },
  {
   "cell_type": "code",
   "execution_count": 8,
   "id": "df19bf70-2089-499f-93d8-b1f234173c92",
   "metadata": {},
   "outputs": [],
   "source": [
    "#pull data from JSON into a list - for home team info \n",
    "for i in range(len(game_data_1)):\n",
    "    team_id.append(game_data_1[i]['gameData']['teams']['home']['id'])\n",
    "    team_code.append(game_data_1[i]['gameData']['teams']['home']['triCode'])\n",
    "    game_num.append(game_data_1[i]['gameData']['game']['pk'])\n",
    "    date.append(game_data_1[i]['gameData']['datetime']['dateTime'])\n",
    "    goals.append(game_data_1[i]['liveData']['boxscore']['teams']['home']['teamStats']['teamSkaterStats']['goals'])\n",
    "    pim.append(game_data_1[i]['liveData']['boxscore']['teams']['home']['teamStats']['teamSkaterStats']['pim'])\n",
    "    shots.append(game_data_1[i]['liveData']['boxscore']['teams']['home']['teamStats']['teamSkaterStats']['shots'])\n",
    "    pp_perc.append(game_data_1[i]['liveData']['boxscore']['teams']['home']['teamStats']['teamSkaterStats']['powerPlayPercentage'])\n",
    "    ppg.append(game_data_1[i]['liveData']['boxscore']['teams']['home']['teamStats']['teamSkaterStats']['powerPlayGoals'])\n",
    "    pp_opp.append(game_data_1[i]['liveData']['boxscore']['teams']['home']['teamStats']['teamSkaterStats']['powerPlayOpportunities'])\n",
    "    fo_win.append(game_data_1[i]['liveData']['boxscore']['teams']['home']['teamStats']['teamSkaterStats']['faceOffWinPercentage'])\n",
    "    blocked.append(game_data_1[i]['liveData']['boxscore']['teams']['home']['teamStats']['teamSkaterStats']['blocked'])\n",
    "    takeaways.append(game_data_1[i]['liveData']['boxscore']['teams']['home']['teamStats']['teamSkaterStats']['takeaways'])\n",
    "    giveaways.append(game_data_1[i]['liveData']['boxscore']['teams']['home']['teamStats']['teamSkaterStats']['giveaways'])\n",
    "    hits.append(game_data_1[i]['liveData']['boxscore']['teams']['home']['teamStats']['teamSkaterStats']['hits'])"
   ]
  },
  {
   "cell_type": "code",
   "execution_count": 9,
   "id": "9b880943-ebef-431b-a73c-712a8d7ccc1d",
   "metadata": {},
   "outputs": [],
   "source": [
    "#create a data frame with the prospect information \n",
    "game_data_h = pd.DataFrame(list(zip(team_id, team_code, game_num, date, goals, pim, shots, pp_perc, ppg, pp_opp, fo_win,\n",
    "                                   blocked, takeaways, giveaways, hits)),\n",
    "               columns =['team_id', 'team_code', 'game_num', 'date', 'goals', 'pim', 'shots', 'pp_perc', 'ppg', 'pp_opp', 'fo_win',\n",
    "                                   'blocked', 'takeaways', 'giveaways', 'hits'])"
   ]
  },
  {
   "cell_type": "code",
   "execution_count": 10,
   "id": "35673705-ebf8-4963-81af-efe68745bd2c",
   "metadata": {},
   "outputs": [],
   "source": [
    "game_data_h['home_away'] = 'home'"
   ]
  },
  {
   "cell_type": "code",
   "execution_count": 11,
   "id": "78d98aba-c21a-4683-924d-09e81076f201",
   "metadata": {},
   "outputs": [],
   "source": [
    "#empty lists to create a home team info dataframe \n",
    "team_id = []\n",
    "team_code = []\n",
    "game_num = []\n",
    "date = []\n",
    "goals = []\n",
    "pim = []\n",
    "shots = []\n",
    "pp_perc = []\n",
    "ppg = []\n",
    "pp_opp = []\n",
    "fo_win = []\n",
    "blocked = []\n",
    "takeaways = []\n",
    "giveaways = []\n",
    "hits = []"
   ]
  },
  {
   "cell_type": "code",
   "execution_count": 12,
   "id": "6c494788-06d6-4a58-b595-c1e405613c8b",
   "metadata": {},
   "outputs": [],
   "source": [
    "#pull data from JSON into a list - for away team info \n",
    "for i in range(len(game_data_1)):\n",
    "    team_id.append(game_data_1[i]['gameData']['teams']['away']['id'])\n",
    "    team_code.append(game_data_1[i]['gameData']['teams']['away']['triCode'])\n",
    "    game_num.append(game_data_1[i]['gameData']['game']['pk'])\n",
    "    date.append(game_data_1[i]['gameData']['datetime']['dateTime'])\n",
    "    goals.append(game_data_1[i]['liveData']['boxscore']['teams']['away']['teamStats']['teamSkaterStats']['goals'])\n",
    "    pim.append(game_data_1[i]['liveData']['boxscore']['teams']['away']['teamStats']['teamSkaterStats']['pim'])\n",
    "    shots.append(game_data_1[i]['liveData']['boxscore']['teams']['away']['teamStats']['teamSkaterStats']['shots'])\n",
    "    pp_perc.append(game_data_1[i]['liveData']['boxscore']['teams']['away']['teamStats']['teamSkaterStats']['powerPlayPercentage'])\n",
    "    ppg.append(game_data_1[i]['liveData']['boxscore']['teams']['away']['teamStats']['teamSkaterStats']['powerPlayGoals'])\n",
    "    pp_opp.append(game_data_1[i]['liveData']['boxscore']['teams']['away']['teamStats']['teamSkaterStats']['powerPlayOpportunities'])\n",
    "    fo_win.append(game_data_1[i]['liveData']['boxscore']['teams']['away']['teamStats']['teamSkaterStats']['faceOffWinPercentage'])\n",
    "    blocked.append(game_data_1[i]['liveData']['boxscore']['teams']['away']['teamStats']['teamSkaterStats']['blocked'])\n",
    "    takeaways.append(game_data_1[i]['liveData']['boxscore']['teams']['away']['teamStats']['teamSkaterStats']['takeaways'])\n",
    "    giveaways.append(game_data_1[i]['liveData']['boxscore']['teams']['away']['teamStats']['teamSkaterStats']['giveaways'])\n",
    "    hits.append(game_data_1[i]['liveData']['boxscore']['teams']['away']['teamStats']['teamSkaterStats']['hits'])"
   ]
  },
  {
   "cell_type": "code",
   "execution_count": 13,
   "id": "c83bdaab-b447-4822-8cf8-fbd864ec5db3",
   "metadata": {},
   "outputs": [],
   "source": [
    "game_data_a = pd.DataFrame(list(zip(team_id, team_code, game_num, date, goals, pim, shots, pp_perc, ppg, pp_opp, fo_win,\n",
    "                                   blocked, takeaways, giveaways, hits)),\n",
    "               columns =['team_id', 'team_code', 'game_num', 'date', 'goals', 'pim', 'shots', 'pp_perc', 'ppg', 'pp_opp', 'fo_win',\n",
    "                                   'blocked', 'takeaways', 'giveaways', 'hits'])"
   ]
  },
  {
   "cell_type": "code",
   "execution_count": 14,
   "id": "1c37d306-4ec2-4439-b90f-359992fa7151",
   "metadata": {},
   "outputs": [],
   "source": [
    "game_data_a['home_away'] = 'away'"
   ]
  },
  {
   "cell_type": "code",
   "execution_count": 15,
   "id": "38beb7b5-64b3-4055-82f0-f06f0f96eb96",
   "metadata": {},
   "outputs": [],
   "source": [
    "#combine home and away dataframes \n",
    "frames = [game_data_h, game_data_a]\n",
    "\n",
    "game_data = pd.concat(frames)"
   ]
  },
  {
   "cell_type": "code",
   "execution_count": 16,
   "id": "c5ce7a4e-1f1d-41d1-83b5-86d5e2f32386",
   "metadata": {},
   "outputs": [],
   "source": [
    "#create a csv of the game info 0001-0500\n",
    "game_data.to_csv('game_data_500.csv')"
   ]
  }
 ],
 "metadata": {
  "kernelspec": {
   "display_name": "lighthouse",
   "language": "python",
   "name": "lighthouse"
  },
  "language_info": {
   "codemirror_mode": {
    "name": "ipython",
    "version": 3
   },
   "file_extension": ".py",
   "mimetype": "text/x-python",
   "name": "python",
   "nbconvert_exporter": "python",
   "pygments_lexer": "ipython3",
   "version": "3.9.13"
  }
 },
 "nbformat": 4,
 "nbformat_minor": 5
}
