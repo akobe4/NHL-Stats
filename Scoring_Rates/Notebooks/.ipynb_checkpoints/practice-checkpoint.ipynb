{
 "cells": [
  {
   "cell_type": "code",
   "execution_count": 10,
   "id": "1214f2e0-0c19-4153-b85f-0ad9d0c40480",
   "metadata": {},
   "outputs": [],
   "source": [
    "import pandas as pd \n",
    "import requests\n",
    "import os\n",
    "import json\n",
    "import numpy as np"
   ]
  },
  {
   "cell_type": "code",
   "execution_count": 11,
   "id": "08fc9b56-4624-4bc7-a20d-5d29c9da4751",
   "metadata": {},
   "outputs": [],
   "source": [
    "#create game number list \n",
    "#game numbers range from 0001-1353\n",
    "\n",
    "game_number_list = list(range(1,1354))"
   ]
  },
  {
   "cell_type": "code",
   "execution_count": 12,
   "id": "65bbba6d-156b-49d3-b525-a14e51a44ba5",
   "metadata": {},
   "outputs": [],
   "source": [
    "#pad the game number list with leading zeros to create a number that's 4 digits \n",
    "game_number_list_pad = [str(number).zfill(4) for number in game_number_list]"
   ]
  },
  {
   "cell_type": "code",
   "execution_count": 13,
   "id": "07316dcb-6e38-4b2b-acf5-f6755100143d",
   "metadata": {},
   "outputs": [],
   "source": [
    "#create lists in smaller sections \n",
    "game_number_list_pad_1 = game_number_list_pad[:5]"
   ]
  },
  {
   "cell_type": "code",
   "execution_count": 14,
   "id": "6dd38e16-4177-425a-8aca-2f83cfdff93f",
   "metadata": {},
   "outputs": [],
   "source": [
    "#create the url's for each game number - 1 \n",
    "all_url_1 = []\n",
    "\n",
    "for i in range(len(game_number_list_pad_1)):\n",
    "    game_number_1 = game_number_list_pad_1[i]\n",
    "    game_number_url_1 = 'https://statsapi.web.nhl.com/api/v1/game/202202'+str(game_number_1)+'/feed/live'\n",
    "    all_url_1.append(game_number_url_1)"
   ]
  },
  {
   "cell_type": "code",
   "execution_count": 15,
   "id": "3810b213-dd48-4e63-9a10-eb7c361ec054",
   "metadata": {},
   "outputs": [],
   "source": [
    "#pull the game data from NHL url 1 \n",
    "game_data_1 = []\n",
    "\n",
    "for i in range(len(all_url_1)):\n",
    "    response_1 = requests.get(all_url_1[i])\n",
    "    game_data_1.append(response_1.json())"
   ]
  },
  {
   "cell_type": "code",
   "execution_count": 102,
   "id": "41e9a4b8-a9f8-4256-984d-839dd5627ed8",
   "metadata": {},
   "outputs": [],
   "source": [
    "# Store the JSON data in a file\n",
    "#with open(\"game_data_5_games.json\", \"w\") as file:\n",
    "#    json.dump(game_data_1, file)"
   ]
  },
  {
   "cell_type": "code",
   "execution_count": 103,
   "id": "9b7a8869-9f2a-47c4-9d36-b4280b8383bc",
   "metadata": {},
   "outputs": [],
   "source": [
    "#Load JSON files \n",
    "#f = open(r'C:\\Users\\akobe\\OneDrive\\Desktop\\Lighthouse\\After\\NHL-Stats\\Scoring_Rates\\Data\\player_data\\game_data_5_games.json')\n",
    "#game_data_1 = json.load(f)"
   ]
  },
  {
   "cell_type": "code",
   "execution_count": 104,
   "id": "c2fb2d40-27a3-47c7-896d-3859ecbdc048",
   "metadata": {},
   "outputs": [],
   "source": [
    "#from IPython.display import JSON\n",
    "#JSON(game_data_1)"
   ]
  },
  {
   "cell_type": "code",
   "execution_count": 30,
   "id": "2fa64181-9212-4432-bd73-763612d47481",
   "metadata": {},
   "outputs": [],
   "source": [
    "#empty lists for creating the player dataframe - home team \n",
    "game_num = []\n",
    "date = []\n",
    "team_id = []\n",
    "team_code = []\n",
    "player_id = []\n",
    "name = []\n",
    "shoots = []\n",
    "position = []\n",
    "toi = []\n",
    "assists = []\n",
    "goals = []\n",
    "shots = []\n",
    "hits = []\n",
    "pp_goals = []\n",
    "pp_assists = []\n",
    "pim = []\n",
    "fo_perc = []\n",
    "fo_wins = []\n",
    "fo_taken = []\n",
    "takeaways = []\n",
    "giveaways = []\n",
    "sh_goals = []\n",
    "sh_assists = []\n",
    "blocked = []\n",
    "plus_minus = []\n",
    "even_toi = []\n",
    "pp_toi = []\n",
    "sh_toi = []"
   ]
  },
  {
   "cell_type": "code",
   "execution_count": 31,
   "id": "c32338b0-d7b8-4815-aee6-edaf372d90f7",
   "metadata": {},
   "outputs": [],
   "source": [
    "for i in range(len(game_data_1)):\n",
    "    players = game_data_1[i]['liveData']['boxscore']['teams']['home']['players']\n",
    "    for j in players:\n",
    "        if len(players[j]['stats']) > 0:\n",
    "            if 'skaterStats' in players[j]['stats']:\n",
    "                try:\n",
    "                    toi.append(players[j]['stats']['skaterStats']['timeOnIce'])\n",
    "                    assists.append(players[j]['stats']['skaterStats']['assists'])\n",
    "                    goals.append(players[j]['stats']['skaterStats']['goals'])\n",
    "                    shots.append(players[j]['stats']['skaterStats']['shots'])\n",
    "                    hits.append(players[j]['stats']['skaterStats']['hits'])\n",
    "                    pp_goals.append(players[j]['stats']['skaterStats']['powerPlayGoals'])\n",
    "                    pp_assists.append(players[j]['stats']['skaterStats']['powerPlayAssists'])\n",
    "                    pim.append(players[j]['stats']['skaterStats']['penaltyMinutes'])\n",
    "                    fo_wins.append(players[j]['stats']['skaterStats']['faceOffWins'])\n",
    "                    fo_taken.append(players[j]['stats']['skaterStats']['faceoffTaken'])\n",
    "                    takeaways.append(players[j]['stats']['skaterStats']['takeaways'])\n",
    "                    giveaways.append(players[j]['stats']['skaterStats']['giveaways'])\n",
    "                    sh_goals.append(players[j]['stats']['skaterStats']['shortHandedGoals'])\n",
    "                    sh_assists.append(players[j]['stats']['skaterStats']['shortHandedAssists'])\n",
    "                    blocked.append(players[j]['stats']['skaterStats']['blocked'])\n",
    "                    plus_minus.append(players[j]['stats']['skaterStats']['plusMinus'])\n",
    "                    even_toi.append(players[j]['stats']['skaterStats']['evenTimeOnIce'])\n",
    "                    pp_toi.append(players[j]['stats']['skaterStats']['powerPlayTimeOnIce'])\n",
    "                    sh_toi.append(players[j]['stats']['skaterStats']['shortHandedTimeOnIce'])\n",
    "                    player_id.append(players[j]['person']['id'])\n",
    "                    name.append(players[j]['person']['fullName'])\n",
    "                    shoots.append(players[j]['person']['shootsCatches'])\n",
    "                    position.append(players[j]['position']['abbreviation'])\n",
    "                    game_num.append(game_data_1[i]['gameData']['game']['pk'])\n",
    "                    date.append(game_data_1[i]['gameData']['datetime']['dateTime'])\n",
    "                    team_id.append(game_data_1[i]['gameData']['teams']['home']['id'])\n",
    "                    team_code.append(game_data_1[i]['gameData']['teams']['home']['triCode'])\n",
    "                    fo_perc.append(players[j]['stats']['skaterStats']['faceOffPct'])\n",
    "                except KeyError:\n",
    "                    fo_perc.append('NaN')\n",
    "        else: \n",
    "            pass"
   ]
  },
  {
   "cell_type": "code",
   "execution_count": 35,
   "id": "d3522545-038b-40dd-aa7e-c1c778fc9aeb",
   "metadata": {},
   "outputs": [
    {
     "data": {
      "text/plain": [
       "90"
      ]
     },
     "execution_count": 35,
     "metadata": {},
     "output_type": "execute_result"
    }
   ],
   "source": [
    "len(team_code)"
   ]
  },
  {
   "cell_type": "code",
   "execution_count": null,
   "id": "606d51e4-3f2a-49ed-b0be-7fec77b48921",
   "metadata": {},
   "outputs": [],
   "source": [
    "player_data_h = pd.DataFrame(list(zip(game_num, date, team_id, team_code, player_id, name, shoots, position, toi, assists, \n",
    "                                     goals, shots, hits, pp_goals, pp_assists, pim, fo_perc, fo_wins, fo_taken, takeaways, \n",
    "                                     giveaways, sh_goals, sh_assists, blocked, plus_minus, even_toi, pp_toi, sh_toi)),\n",
    "               columns =['game_num', 'date', 'team_id', 'team_code', 'player_id', 'name', 'shoots', 'position', 'toi', 'assists', \n",
    "                                     'goals', 'shots', 'hits', 'pp_goals', 'pp_assists', 'pim', 'fo_perc', 'fo_wins', 'fo_taken', 'takeaways', \n",
    "                                     'giveaways', 'sh_goals', 'sh_assists', 'blocked', 'plus_minus', 'even_toi', 'pp_toi', 'sh_toi'])"
   ]
  },
  {
   "cell_type": "code",
   "execution_count": 34,
   "id": "62d6c3c7-42f5-49c7-a9cd-59b73d020794",
   "metadata": {},
   "outputs": [
    {
     "data": {
      "text/html": [
       "<div>\n",
       "<style scoped>\n",
       "    .dataframe tbody tr th:only-of-type {\n",
       "        vertical-align: middle;\n",
       "    }\n",
       "\n",
       "    .dataframe tbody tr th {\n",
       "        vertical-align: top;\n",
       "    }\n",
       "\n",
       "    .dataframe thead th {\n",
       "        text-align: right;\n",
       "    }\n",
       "</style>\n",
       "<table border=\"1\" class=\"dataframe\">\n",
       "  <thead>\n",
       "    <tr style=\"text-align: right;\">\n",
       "      <th></th>\n",
       "      <th>game_num</th>\n",
       "      <th>date</th>\n",
       "      <th>team_id</th>\n",
       "      <th>team_code</th>\n",
       "      <th>player_id</th>\n",
       "      <th>name</th>\n",
       "      <th>shoots</th>\n",
       "      <th>position</th>\n",
       "      <th>toi</th>\n",
       "      <th>assists</th>\n",
       "      <th>...</th>\n",
       "      <th>fo_taken</th>\n",
       "      <th>takeaways</th>\n",
       "      <th>giveaways</th>\n",
       "      <th>sh_goals</th>\n",
       "      <th>sh_assists</th>\n",
       "      <th>blocked</th>\n",
       "      <th>plus_minus</th>\n",
       "      <th>even_toi</th>\n",
       "      <th>pp_toi</th>\n",
       "      <th>sh_toi</th>\n",
       "    </tr>\n",
       "  </thead>\n",
       "  <tbody>\n",
       "    <tr>\n",
       "      <th>0</th>\n",
       "      <td>2022020001</td>\n",
       "      <td>2022-10-07T18:00:00Z</td>\n",
       "      <td>18</td>\n",
       "      <td>NSH</td>\n",
       "      <td>8478508</td>\n",
       "      <td>Yakov Trenin</td>\n",
       "      <td>L</td>\n",
       "      <td>C</td>\n",
       "      <td>17:03</td>\n",
       "      <td>0</td>\n",
       "      <td>...</td>\n",
       "      <td>0</td>\n",
       "      <td>0</td>\n",
       "      <td>0</td>\n",
       "      <td>0</td>\n",
       "      <td>0</td>\n",
       "      <td>0</td>\n",
       "      <td>0</td>\n",
       "      <td>13:55</td>\n",
       "      <td>0:00</td>\n",
       "      <td>3:08</td>\n",
       "    </tr>\n",
       "    <tr>\n",
       "      <th>1</th>\n",
       "      <td>2022020001</td>\n",
       "      <td>2022-10-07T18:00:00Z</td>\n",
       "      <td>18</td>\n",
       "      <td>NSH</td>\n",
       "      <td>8475218</td>\n",
       "      <td>Mattias Ekholm</td>\n",
       "      <td>L</td>\n",
       "      <td>D</td>\n",
       "      <td>21:02</td>\n",
       "      <td>1</td>\n",
       "      <td>...</td>\n",
       "      <td>0</td>\n",
       "      <td>0</td>\n",
       "      <td>1</td>\n",
       "      <td>0</td>\n",
       "      <td>0</td>\n",
       "      <td>0</td>\n",
       "      <td>2</td>\n",
       "      <td>18:38</td>\n",
       "      <td>0:00</td>\n",
       "      <td>2:24</td>\n",
       "    </tr>\n",
       "  </tbody>\n",
       "</table>\n",
       "<p>2 rows × 28 columns</p>\n",
       "</div>"
      ],
      "text/plain": [
       "     game_num                  date  team_id team_code  player_id  \\\n",
       "0  2022020001  2022-10-07T18:00:00Z       18       NSH    8478508   \n",
       "1  2022020001  2022-10-07T18:00:00Z       18       NSH    8475218   \n",
       "\n",
       "             name shoots position    toi  assists  ...  fo_taken  takeaways  \\\n",
       "0    Yakov Trenin      L        C  17:03        0  ...         0          0   \n",
       "1  Mattias Ekholm      L        D  21:02        1  ...         0          0   \n",
       "\n",
       "   giveaways  sh_goals  sh_assists  blocked plus_minus  even_toi  pp_toi  \\\n",
       "0          0         0           0        0          0     13:55    0:00   \n",
       "1          1         0           0        0          2     18:38    0:00   \n",
       "\n",
       "   sh_toi  \n",
       "0    3:08  \n",
       "1    2:24  \n",
       "\n",
       "[2 rows x 28 columns]"
      ]
     },
     "execution_count": 34,
     "metadata": {},
     "output_type": "execute_result"
    }
   ],
   "source": [
    "player_data_h.head(2)"
   ]
  }
 ],
 "metadata": {
  "kernelspec": {
   "display_name": "lighthouse",
   "language": "python",
   "name": "lighthouse"
  },
  "language_info": {
   "codemirror_mode": {
    "name": "ipython",
    "version": 3
   },
   "file_extension": ".py",
   "mimetype": "text/x-python",
   "name": "python",
   "nbconvert_exporter": "python",
   "pygments_lexer": "ipython3",
   "version": "3.9.13"
  }
 },
 "nbformat": 4,
 "nbformat_minor": 5
}
