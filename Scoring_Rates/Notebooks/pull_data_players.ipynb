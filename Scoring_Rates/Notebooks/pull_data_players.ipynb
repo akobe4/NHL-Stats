{
 "cells": [
  {
   "cell_type": "code",
   "execution_count": 1,
   "id": "ed86a552-0e92-4ad0-8be5-5302a54e49f8",
   "metadata": {
    "tags": []
   },
   "outputs": [],
   "source": [
    "import pandas as pd \n",
    "import requests\n",
    "import os\n",
    "import json\n",
    "import numpy as np"
   ]
  },
  {
   "cell_type": "code",
   "execution_count": 2,
   "id": "ddd69c23-007c-4cbe-942f-b7e62a757d34",
   "metadata": {},
   "outputs": [],
   "source": [
    "#Load JSON files \n",
    "f = open(r'C:\\Users\\akobe\\OneDrive\\Desktop\\Lighthouse\\After\\NHL-Stats\\Scoring_Rates\\Data\\game_data\\game_data_1.json')\n",
    "game_data_1 = json.load(f)"
   ]
  },
  {
   "cell_type": "markdown",
   "id": "233334b8-eb02-4c9c-bbb2-c4e82cab3080",
   "metadata": {},
   "source": [
    "## pull game data game #'s 2022020001 - 2022020500"
   ]
  },
  {
   "cell_type": "code",
   "execution_count": 23,
   "id": "8e712339-eea6-423e-8b59-7f42bbd1073b",
   "metadata": {},
   "outputs": [],
   "source": [
    "#from IPython.display import JSON\n",
    "#JSON(game_data_1)"
   ]
  },
  {
   "cell_type": "code",
   "execution_count": 47,
   "id": "45849a4a-8bd7-4831-8c3c-596ae08c80c1",
   "metadata": {
    "tags": []
   },
   "outputs": [],
   "source": [
    "#empty lists for creating the player dataframe - home team \n",
    "game_num = []\n",
    "date = []\n",
    "team_id = []\n",
    "team_code = []\n",
    "player_id = []\n",
    "name = []\n",
    "shoots = []\n",
    "position = []\n",
    "toi = []\n",
    "assists = []\n",
    "goals = []\n",
    "shots = []\n",
    "hits = []\n",
    "pp_goals = []\n",
    "pp_assists = []\n",
    "pim = []\n",
    "fo_perc = []\n",
    "fo_wins = []\n",
    "fo_taken = []\n",
    "takeaways = []\n",
    "giveaways = []\n",
    "sh_goals = []\n",
    "sh_assists = []\n",
    "blocked = []\n",
    "plus_minus = []\n",
    "even_toi = []\n",
    "pp_toi = []\n",
    "sh_toi = []"
   ]
  },
  {
   "cell_type": "code",
   "execution_count": 48,
   "id": "8aadf52b-896c-4f02-bc75-e1322704bd44",
   "metadata": {},
   "outputs": [],
   "source": [
    "for i in range(len(game_data_1)):\n",
    "    players = game_data_1[i]['liveData']['boxscore']['teams']['home']['players']\n",
    "    for j in players:\n",
    "        if len(players[j]['stats']) > 0:\n",
    "            if 'skaterStats' in players[j]['stats']:\n",
    "                try:\n",
    "                    toi.append(players[j]['stats']['skaterStats']['timeOnIce'])\n",
    "                    assists.append(players[j]['stats']['skaterStats']['assists'])\n",
    "                    goals.append(players[j]['stats']['skaterStats']['goals'])\n",
    "                    shots.append(players[j]['stats']['skaterStats']['shots'])\n",
    "                    hits.append(players[j]['stats']['skaterStats']['hits'])\n",
    "                    pp_goals.append(players[j]['stats']['skaterStats']['powerPlayGoals'])\n",
    "                    pp_assists.append(players[j]['stats']['skaterStats']['powerPlayAssists'])\n",
    "                    pim.append(players[j]['stats']['skaterStats']['penaltyMinutes'])\n",
    "                    fo_wins.append(players[j]['stats']['skaterStats']['faceOffWins'])\n",
    "                    fo_taken.append(players[j]['stats']['skaterStats']['faceoffTaken'])\n",
    "                    takeaways.append(players[j]['stats']['skaterStats']['takeaways'])\n",
    "                    giveaways.append(players[j]['stats']['skaterStats']['giveaways'])\n",
    "                    sh_goals.append(players[j]['stats']['skaterStats']['shortHandedGoals'])\n",
    "                    sh_assists.append(players[j]['stats']['skaterStats']['shortHandedAssists'])\n",
    "                    blocked.append(players[j]['stats']['skaterStats']['blocked'])\n",
    "                    plus_minus.append(players[j]['stats']['skaterStats']['plusMinus'])\n",
    "                    even_toi.append(players[j]['stats']['skaterStats']['evenTimeOnIce'])\n",
    "                    pp_toi.append(players[j]['stats']['skaterStats']['powerPlayTimeOnIce'])\n",
    "                    sh_toi.append(players[j]['stats']['skaterStats']['shortHandedTimeOnIce'])\n",
    "                    player_id.append(players[j]['person']['id'])\n",
    "                    name.append(players[j]['person']['fullName'])\n",
    "                    shoots.append(players[j]['person']['shootsCatches'])\n",
    "                    position.append(players[j]['position']['abbreviation'])\n",
    "                    game_num.append(game_data_1[i]['gameData']['game']['pk'])\n",
    "                    date.append(game_data_1[i]['gameData']['datetime']['dateTime'])\n",
    "                    team_id.append(game_data_1[i]['gameData']['teams']['home']['id'])\n",
    "                    team_code.append(game_data_1[i]['gameData']['teams']['home']['triCode'])\n",
    "                    fo_perc.append(players[j]['stats']['skaterStats']['faceOffPct'])\n",
    "                except KeyError:\n",
    "                    fo_perc.append('NaN')\n",
    "        else: \n",
    "            pass"
   ]
  },
  {
   "cell_type": "code",
   "execution_count": 49,
   "id": "af4a3bbf-561c-4e39-81f6-46fb96886bcc",
   "metadata": {},
   "outputs": [],
   "source": [
    "#create dataframe- home data \n",
    "player_data_h = pd.DataFrame(list(zip(game_num, date, team_id, team_code, player_id, name, shoots, position, toi, assists, \n",
    "                                     goals, shots, hits, pp_goals, pp_assists, pim, fo_perc, fo_wins, fo_taken, takeaways, \n",
    "                                     giveaways, sh_goals, sh_assists, blocked, plus_minus, even_toi, pp_toi, sh_toi)),\n",
    "               columns =['game_num', 'date', 'team_id', 'team_code', 'player_id', 'name', 'shoots', 'position', 'toi', 'assists', \n",
    "                                     'goals', 'shots', 'hits', 'pp_goals', 'pp_assists', 'pim', 'fo_perc', 'fo_wins', 'fo_taken', 'takeaways', \n",
    "                                     'giveaways', 'sh_goals', 'sh_assists', 'blocked', 'plus_minus', 'even_toi', 'pp_toi', 'sh_toi'])\n"
   ]
  },
  {
   "cell_type": "code",
   "execution_count": 51,
   "id": "a3a0a777-7784-448c-863e-20d585fbf885",
   "metadata": {},
   "outputs": [],
   "source": [
    "player_data_h['home_away'] = 'home'"
   ]
  },
  {
   "cell_type": "code",
   "execution_count": 53,
   "id": "3c45fbb5-35db-4eb1-8ebd-529352bc3713",
   "metadata": {},
   "outputs": [
    {
     "data": {
      "text/html": [
       "<div>\n",
       "<style scoped>\n",
       "    .dataframe tbody tr th:only-of-type {\n",
       "        vertical-align: middle;\n",
       "    }\n",
       "\n",
       "    .dataframe tbody tr th {\n",
       "        vertical-align: top;\n",
       "    }\n",
       "\n",
       "    .dataframe thead th {\n",
       "        text-align: right;\n",
       "    }\n",
       "</style>\n",
       "<table border=\"1\" class=\"dataframe\">\n",
       "  <thead>\n",
       "    <tr style=\"text-align: right;\">\n",
       "      <th></th>\n",
       "      <th>game_num</th>\n",
       "      <th>date</th>\n",
       "      <th>team_id</th>\n",
       "      <th>team_code</th>\n",
       "      <th>player_id</th>\n",
       "      <th>name</th>\n",
       "      <th>shoots</th>\n",
       "      <th>position</th>\n",
       "      <th>toi</th>\n",
       "      <th>assists</th>\n",
       "      <th>...</th>\n",
       "      <th>takeaways</th>\n",
       "      <th>giveaways</th>\n",
       "      <th>sh_goals</th>\n",
       "      <th>sh_assists</th>\n",
       "      <th>blocked</th>\n",
       "      <th>plus_minus</th>\n",
       "      <th>even_toi</th>\n",
       "      <th>pp_toi</th>\n",
       "      <th>sh_toi</th>\n",
       "      <th>home_away</th>\n",
       "    </tr>\n",
       "  </thead>\n",
       "  <tbody>\n",
       "    <tr>\n",
       "      <th>0</th>\n",
       "      <td>2022020001</td>\n",
       "      <td>2022-10-07T18:00:00Z</td>\n",
       "      <td>18</td>\n",
       "      <td>NSH</td>\n",
       "      <td>8478508</td>\n",
       "      <td>Yakov Trenin</td>\n",
       "      <td>L</td>\n",
       "      <td>C</td>\n",
       "      <td>17:03</td>\n",
       "      <td>0</td>\n",
       "      <td>...</td>\n",
       "      <td>0</td>\n",
       "      <td>0</td>\n",
       "      <td>0</td>\n",
       "      <td>0</td>\n",
       "      <td>0</td>\n",
       "      <td>0</td>\n",
       "      <td>13:55</td>\n",
       "      <td>0:00</td>\n",
       "      <td>3:08</td>\n",
       "      <td>home</td>\n",
       "    </tr>\n",
       "  </tbody>\n",
       "</table>\n",
       "<p>1 rows × 29 columns</p>\n",
       "</div>"
      ],
      "text/plain": [
       "     game_num                  date  team_id team_code  player_id  \\\n",
       "0  2022020001  2022-10-07T18:00:00Z       18       NSH    8478508   \n",
       "\n",
       "           name shoots position    toi  assists  ...  takeaways  giveaways  \\\n",
       "0  Yakov Trenin      L        C  17:03        0  ...          0          0   \n",
       "\n",
       "   sh_goals  sh_assists  blocked  plus_minus even_toi  pp_toi  sh_toi  \\\n",
       "0         0           0        0           0    13:55    0:00    3:08   \n",
       "\n",
       "   home_away  \n",
       "0       home  \n",
       "\n",
       "[1 rows x 29 columns]"
      ]
     },
     "execution_count": 53,
     "metadata": {},
     "output_type": "execute_result"
    }
   ],
   "source": [
    "player_data_h.head(1)"
   ]
  },
  {
   "cell_type": "code",
   "execution_count": 54,
   "id": "fb0d1cc8-8202-42a9-808b-a8b57f7de94f",
   "metadata": {
    "tags": []
   },
   "outputs": [],
   "source": [
    "#empty lists for creating the player dataframe - away team \n",
    "game_num = []\n",
    "date = []\n",
    "team_id = []\n",
    "team_code = []\n",
    "player_id = []\n",
    "name = []\n",
    "shoots = []\n",
    "position = []\n",
    "toi = []\n",
    "assists = []\n",
    "goals = []\n",
    "shots = []\n",
    "hits = []\n",
    "pp_goals = []\n",
    "pp_assists = []\n",
    "pim = []\n",
    "fo_perc = []\n",
    "fo_wins = []\n",
    "fo_taken = []\n",
    "takeaways = []\n",
    "giveaways = []\n",
    "sh_goals = []\n",
    "sh_assists = []\n",
    "blocked = []\n",
    "plus_minus = []\n",
    "even_toi = []\n",
    "pp_toi = []\n",
    "sh_toi = []"
   ]
  },
  {
   "cell_type": "code",
   "execution_count": 55,
   "id": "ca836069-fd2d-4910-a220-db3d7de3c282",
   "metadata": {},
   "outputs": [],
   "source": [
    "#away teams\n",
    "for i in range(len(game_data_1)):\n",
    "    players = game_data_1[i]['liveData']['boxscore']['teams']['away']['players']\n",
    "    for j in players:\n",
    "        if len(players[j]['stats']) > 0:\n",
    "            if 'skaterStats' in players[j]['stats']:\n",
    "                try:\n",
    "                    toi.append(players[j]['stats']['skaterStats']['timeOnIce'])\n",
    "                    assists.append(players[j]['stats']['skaterStats']['assists'])\n",
    "                    goals.append(players[j]['stats']['skaterStats']['goals'])\n",
    "                    shots.append(players[j]['stats']['skaterStats']['shots'])\n",
    "                    hits.append(players[j]['stats']['skaterStats']['hits'])\n",
    "                    pp_goals.append(players[j]['stats']['skaterStats']['powerPlayGoals'])\n",
    "                    pp_assists.append(players[j]['stats']['skaterStats']['powerPlayAssists'])\n",
    "                    pim.append(players[j]['stats']['skaterStats']['penaltyMinutes'])\n",
    "                    fo_wins.append(players[j]['stats']['skaterStats']['faceOffWins'])\n",
    "                    fo_taken.append(players[j]['stats']['skaterStats']['faceoffTaken'])\n",
    "                    takeaways.append(players[j]['stats']['skaterStats']['takeaways'])\n",
    "                    giveaways.append(players[j]['stats']['skaterStats']['giveaways'])\n",
    "                    sh_goals.append(players[j]['stats']['skaterStats']['shortHandedGoals'])\n",
    "                    sh_assists.append(players[j]['stats']['skaterStats']['shortHandedAssists'])\n",
    "                    blocked.append(players[j]['stats']['skaterStats']['blocked'])\n",
    "                    plus_minus.append(players[j]['stats']['skaterStats']['plusMinus'])\n",
    "                    even_toi.append(players[j]['stats']['skaterStats']['evenTimeOnIce'])\n",
    "                    pp_toi.append(players[j]['stats']['skaterStats']['powerPlayTimeOnIce'])\n",
    "                    sh_toi.append(players[j]['stats']['skaterStats']['shortHandedTimeOnIce'])\n",
    "                    player_id.append(players[j]['person']['id'])\n",
    "                    name.append(players[j]['person']['fullName'])\n",
    "                    shoots.append(players[j]['person']['shootsCatches'])\n",
    "                    position.append(players[j]['position']['abbreviation'])\n",
    "                    game_num.append(game_data_1[i]['gameData']['game']['pk'])\n",
    "                    date.append(game_data_1[i]['gameData']['datetime']['dateTime'])\n",
    "                    team_id.append(game_data_1[i]['gameData']['teams']['away']['id'])\n",
    "                    team_code.append(game_data_1[i]['gameData']['teams']['away']['triCode'])\n",
    "                    fo_perc.append(players[j]['stats']['skaterStats']['faceOffPct'])\n",
    "                except KeyError:\n",
    "                    fo_perc.append('NaN')\n",
    "        else: \n",
    "            pass"
   ]
  },
  {
   "cell_type": "code",
   "execution_count": 59,
   "id": "c7bea8fb-39ad-44b8-a3da-28de8653378b",
   "metadata": {},
   "outputs": [
    {
     "data": {
      "text/plain": [
       "8997"
      ]
     },
     "execution_count": 59,
     "metadata": {},
     "output_type": "execute_result"
    }
   ],
   "source": [
    "len(team_code)"
   ]
  },
  {
   "cell_type": "code",
   "execution_count": 60,
   "id": "33076102-520f-4165-9c81-b2b014346cca",
   "metadata": {},
   "outputs": [],
   "source": [
    "#create dataframe- away data \n",
    "player_data_a = pd.DataFrame(list(zip(game_num, date, team_id, team_code, player_id, name, shoots, position, toi, assists, \n",
    "                                     goals, shots, hits, pp_goals, pp_assists, pim, fo_perc, fo_wins, fo_taken, takeaways, \n",
    "                                     giveaways, sh_goals, sh_assists, blocked, plus_minus, even_toi, pp_toi, sh_toi)),\n",
    "               columns =['game_num', 'date', 'team_id', 'team_code', 'player_id', 'name', 'shoots', 'position', 'toi', 'assists', \n",
    "                                     'goals', 'shots', 'hits', 'pp_goals', 'pp_assists', 'pim', 'fo_perc', 'fo_wins', 'fo_taken', 'takeaways', \n",
    "                                     'giveaways', 'sh_goals', 'sh_assists', 'blocked', 'plus_minus', 'even_toi', 'pp_toi', 'sh_toi'])\n"
   ]
  },
  {
   "cell_type": "code",
   "execution_count": 62,
   "id": "781f4623-4a3e-40dd-b397-713852edb5e3",
   "metadata": {},
   "outputs": [],
   "source": [
    "player_data_a['home_away'] = 'away'"
   ]
  },
  {
   "cell_type": "code",
   "execution_count": 63,
   "id": "2189b558-aa2c-4ec8-ab94-da57721371b6",
   "metadata": {},
   "outputs": [
    {
     "data": {
      "text/html": [
       "<div>\n",
       "<style scoped>\n",
       "    .dataframe tbody tr th:only-of-type {\n",
       "        vertical-align: middle;\n",
       "    }\n",
       "\n",
       "    .dataframe tbody tr th {\n",
       "        vertical-align: top;\n",
       "    }\n",
       "\n",
       "    .dataframe thead th {\n",
       "        text-align: right;\n",
       "    }\n",
       "</style>\n",
       "<table border=\"1\" class=\"dataframe\">\n",
       "  <thead>\n",
       "    <tr style=\"text-align: right;\">\n",
       "      <th></th>\n",
       "      <th>game_num</th>\n",
       "      <th>date</th>\n",
       "      <th>team_id</th>\n",
       "      <th>team_code</th>\n",
       "      <th>player_id</th>\n",
       "      <th>name</th>\n",
       "      <th>shoots</th>\n",
       "      <th>position</th>\n",
       "      <th>toi</th>\n",
       "      <th>assists</th>\n",
       "      <th>...</th>\n",
       "      <th>takeaways</th>\n",
       "      <th>giveaways</th>\n",
       "      <th>sh_goals</th>\n",
       "      <th>sh_assists</th>\n",
       "      <th>blocked</th>\n",
       "      <th>plus_minus</th>\n",
       "      <th>even_toi</th>\n",
       "      <th>pp_toi</th>\n",
       "      <th>sh_toi</th>\n",
       "      <th>home_away</th>\n",
       "    </tr>\n",
       "  </thead>\n",
       "  <tbody>\n",
       "    <tr>\n",
       "      <th>0</th>\n",
       "      <td>2022020001</td>\n",
       "      <td>2022-10-07T18:00:00Z</td>\n",
       "      <td>28</td>\n",
       "      <td>SJS</td>\n",
       "      <td>8478904</td>\n",
       "      <td>Steven Lorentz</td>\n",
       "      <td>L</td>\n",
       "      <td>C</td>\n",
       "      <td>11:00</td>\n",
       "      <td>0</td>\n",
       "      <td>...</td>\n",
       "      <td>0</td>\n",
       "      <td>0</td>\n",
       "      <td>0</td>\n",
       "      <td>0</td>\n",
       "      <td>1</td>\n",
       "      <td>0</td>\n",
       "      <td>11:00</td>\n",
       "      <td>0:00</td>\n",
       "      <td>0:00</td>\n",
       "      <td>away</td>\n",
       "    </tr>\n",
       "  </tbody>\n",
       "</table>\n",
       "<p>1 rows × 29 columns</p>\n",
       "</div>"
      ],
      "text/plain": [
       "     game_num                  date  team_id team_code  player_id  \\\n",
       "0  2022020001  2022-10-07T18:00:00Z       28       SJS    8478904   \n",
       "\n",
       "             name shoots position    toi  assists  ...  takeaways  giveaways  \\\n",
       "0  Steven Lorentz      L        C  11:00        0  ...          0          0   \n",
       "\n",
       "   sh_goals  sh_assists  blocked  plus_minus even_toi  pp_toi  sh_toi  \\\n",
       "0         0           0        1           0    11:00    0:00    0:00   \n",
       "\n",
       "   home_away  \n",
       "0       away  \n",
       "\n",
       "[1 rows x 29 columns]"
      ]
     },
     "execution_count": 63,
     "metadata": {},
     "output_type": "execute_result"
    }
   ],
   "source": [
    "player_data_a.head(1)"
   ]
  },
  {
   "cell_type": "code",
   "execution_count": 64,
   "id": "489d82dd-52f9-4602-9199-f787eae85ef2",
   "metadata": {},
   "outputs": [],
   "source": [
    "#combine home and away dataframes \n",
    "frames = [player_data_h, player_data_a]\n",
    "\n",
    "player_data_1 = pd.concat(frames)"
   ]
  },
  {
   "cell_type": "code",
   "execution_count": null,
   "id": "681f0a29-1fb4-41e8-a3f2-a3da16c74170",
   "metadata": {},
   "outputs": [],
   "source": []
  },
  {
   "cell_type": "code",
   "execution_count": 68,
   "id": "5ccf2c01-69e4-4bbe-9f25-222208638b95",
   "metadata": {},
   "outputs": [],
   "source": [
    "#create a csv of the game info 0001-0500\n",
    "player_data_1.to_csv('player_data_500.csv')"
   ]
  },
  {
   "cell_type": "markdown",
   "id": "00671b29-2d87-42c3-8aaf-0f8bfb7ce157",
   "metadata": {},
   "source": [
    "## extra code"
   ]
  },
  {
   "cell_type": "code",
   "execution_count": 21,
   "id": "b01c2fe6-da96-4b99-ace2-dfebacde3bd9",
   "metadata": {},
   "outputs": [
    {
     "ename": "TypeError",
     "evalue": "list indices must be integers or slices, not dict",
     "output_type": "error",
     "traceback": [
      "\u001b[1;31m---------------------------------------------------------------------------\u001b[0m",
      "\u001b[1;31mTypeError\u001b[0m                                 Traceback (most recent call last)",
      "\u001b[1;32m~\\AppData\\Local\\Temp\\ipykernel_21268\\1514774804.py\u001b[0m in \u001b[0;36m<module>\u001b[1;34m\u001b[0m\n\u001b[1;32m----> 1\u001b[1;33m \u001b[0mlen\u001b[0m\u001b[1;33m(\u001b[0m\u001b[0mgame_data_1\u001b[0m\u001b[1;33m[\u001b[0m\u001b[0mi\u001b[0m\u001b[1;33m]\u001b[0m\u001b[1;33m[\u001b[0m\u001b[1;34m'liveData'\u001b[0m\u001b[1;33m]\u001b[0m\u001b[1;33m[\u001b[0m\u001b[1;34m'boxscore'\u001b[0m\u001b[1;33m]\u001b[0m\u001b[1;33m[\u001b[0m\u001b[1;34m'teams'\u001b[0m\u001b[1;33m]\u001b[0m\u001b[1;33m[\u001b[0m\u001b[1;34m'home'\u001b[0m\u001b[1;33m]\u001b[0m\u001b[1;33m[\u001b[0m\u001b[1;34m'players'\u001b[0m\u001b[1;33m]\u001b[0m\u001b[1;33m)\u001b[0m\u001b[1;33m\u001b[0m\u001b[1;33m\u001b[0m\u001b[0m\n\u001b[0m",
      "\u001b[1;31mTypeError\u001b[0m: list indices must be integers or slices, not dict"
     ]
    }
   ],
   "source": [
    "## THIS WORKS \n",
    "\n",
    "for i in range(len(game_data_1)):\n",
    "    players = game_data_1[i]['liveData']['boxscore']['teams']['home']['players']\n",
    "    for j in players:\n",
    "        try:\n",
    "            toi.append(players[j]['stats']['skaterStats']['timeOnIce'])\n",
    "        except KeyError:\n",
    "            toi.append('NaN')"
   ]
  },
  {
   "cell_type": "code",
   "execution_count": null,
   "id": "3881ead3-a5d7-49c4-bcea-a595bb8d6fec",
   "metadata": {},
   "outputs": [],
   "source": [
    "for i in range(len(game_data_1)):\n",
    "    players = game_data_1[i]['liveData']['boxscore']['teams']['home']['players']\n",
    "    for j in players:\n",
    "        if len(players[j]['stats']) > 0:\n",
    "            try:\n",
    "                toi.append(players[j]['stats']['skaterStats']['timeOnIce'])\n",
    "                assists.append(players[j]['stats']['skaterStats']['assists'])\n",
    "                goals.append(players[j]['stats']['skaterStats']['goals'])\n",
    "                shots.append(players[j]['stats']['skaterStats']['shots'])\n",
    "                hits.append(players[j]['stats']['skaterStats']['hits'])\n",
    "                pp_goals.append(players[j]['stats']['skaterStats']['powerPlayGoals'])\n",
    "                pp_assists.append(players[j]['stats']['skaterStats']['powerPlayAssists'])\n",
    "                pim.append(players[j]['stats']['skaterStats']['penaltyMinutes'])\n",
    "                fo_perc.append(players[j]['stats']['skaterStats']['faceOffPct'])\n",
    "                fo_wins.append(players[j]['stats']['skaterStats']['faceOffWins'])\n",
    "                fo_taken.append(players[j]['stats']['skaterStats']['faceoffTaken'])\n",
    "                takeaways.append(players[j]['stats']['skaterStats']['takeaways'])\n",
    "                giveaways.append(players[j]['stats']['skaterStats']['giveaways'])\n",
    "                sh_goals.append(players[j]['stats']['skaterStats']['shortHandedGoals'])\n",
    "                #sh_assists.append(players[j]['stats']['skaterStats']['shortHandedAssits'])\n",
    "                #blocked.append(players[j]['stats']['skaterStats']['blocked'])\n",
    "                #plus_minus.append(players[j]['stats']['skaterStats']['plusMinus'])\n",
    "                #even_toi.append(players[j]['stats']['skaterStats']['evenTimeOnIce'])\n",
    "                #pp_toi.append(players[j]['stats']['skaterStats']['powerPlayTimeOnIce'])\n",
    "                #sh_toi.append(players[j]['stats']['skaterStats']['shortHandedTimeOnIce'])\n",
    "                #player_id.append(players[j]['person']['id'])\n",
    "                #name.append(players[j]['person']['fullName'])\n",
    "                #shoots.append(players[j]['person']['shootsCatches'])\n",
    "                #position.append(players[j]['position']['abbreviation'])\n",
    "                #game_num.append(game_data_1[i]['gameData']['game']['pk'])\n",
    "                #date.append(game_data_1[i]['gameData']['datetime']['dateTime'])\n",
    "                #team_id.append(game_data_1[i]['gameData']['teams']['home']['id'])\n",
    "                #game_num.append(game_data_1[i]['gameData']['teams']['home']['triCode'])\n",
    "            except KeyError: #pass over the goalies who have different stats\n",
    "                continue\n",
    "        else: \n",
    "            pass"
   ]
  },
  {
   "cell_type": "code",
   "execution_count": 5,
   "id": "a8419900-795d-40c1-90af-6c5ea1e0b247",
   "metadata": {},
   "outputs": [],
   "source": [
    "#create the url's for each game number - 1 \n",
    "all_url_1 = []\n",
    "\n",
    "for i in range(len(game_number_list_pad_1)):\n",
    "    game_number_1 = game_number_list_pad_1[i]\n",
    "    game_number_url_1 = 'https://statsapi.web.nhl.com/api/v1/game/202202'+str(game_number_1)+'/feed/live'\n",
    "    all_url_1.append(game_number_url_1)"
   ]
  },
  {
   "cell_type": "code",
   "execution_count": 2,
   "id": "f924aa4f-635e-4371-9856-a42e14f25b76",
   "metadata": {},
   "outputs": [],
   "source": [
    "#create game number list \n",
    "#game numbers range from 0001-1353\n",
    "\n",
    "game_number_list = list(range(1,1354))"
   ]
  },
  {
   "cell_type": "code",
   "execution_count": 3,
   "id": "bfa7fd41-d7e3-4c0a-b41b-8f3bbb205a8e",
   "metadata": {},
   "outputs": [],
   "source": [
    "#pad the game number list with leading zeros to create a number that's 4 digits \n",
    "game_number_list_pad = [str(number).zfill(4) for number in game_number_list]"
   ]
  },
  {
   "cell_type": "code",
   "execution_count": 4,
   "id": "6e73347a-fb9e-448d-8a18-cefe1021689d",
   "metadata": {},
   "outputs": [],
   "source": [
    "#create lists in smaller sections \n",
    "game_number_list_pad_1 = game_number_list_pad[:500]\n",
    "game_number_list_pad_2 = game_number_list_pad[500:1000]\n",
    "game_number_list_pad_3 = game_number_list_pad[1000:]"
   ]
  },
  {
   "cell_type": "code",
   "execution_count": 6,
   "id": "5ec9c442-ca8c-4b5d-8064-14b24d4203d7",
   "metadata": {},
   "outputs": [],
   "source": [
    "#pull the game data from NHL url 1 \n",
    "game_data_1 = []\n",
    "\n",
    "for i in range(len(all_url_1)):\n",
    "    response_1 = requests.get(all_url_1[i])\n",
    "    game_data_1.append(response_1.json())"
   ]
  }
 ],
 "metadata": {
  "kernelspec": {
   "display_name": "lighthouse",
   "language": "python",
   "name": "lighthouse"
  },
  "language_info": {
   "codemirror_mode": {
    "name": "ipython",
    "version": 3
   },
   "file_extension": ".py",
   "mimetype": "text/x-python",
   "name": "python",
   "nbconvert_exporter": "python",
   "pygments_lexer": "ipython3",
   "version": "3.9.13"
  }
 },
 "nbformat": 4,
 "nbformat_minor": 5
}
