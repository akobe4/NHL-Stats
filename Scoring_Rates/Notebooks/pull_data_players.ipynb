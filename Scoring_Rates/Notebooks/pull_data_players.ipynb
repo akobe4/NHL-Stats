{
 "cells": [
  {
   "cell_type": "code",
   "execution_count": 1,
   "id": "ed86a552-0e92-4ad0-8be5-5302a54e49f8",
   "metadata": {},
   "outputs": [],
   "source": [
    "import pandas as pd \n",
    "import requests\n",
    "import os\n",
    "import json\n",
    "import numpy as np"
   ]
  },
  {
   "cell_type": "code",
   "execution_count": 2,
   "id": "f924aa4f-635e-4371-9856-a42e14f25b76",
   "metadata": {},
   "outputs": [],
   "source": [
    "#create game number list \n",
    "#game numbers range from 0001-1353\n",
    "\n",
    "game_number_list = list(range(1,1354))"
   ]
  },
  {
   "cell_type": "code",
   "execution_count": 3,
   "id": "bfa7fd41-d7e3-4c0a-b41b-8f3bbb205a8e",
   "metadata": {},
   "outputs": [],
   "source": [
    "#pad the game number list with leading zeros to create a number that's 4 digits \n",
    "game_number_list_pad = [str(number).zfill(4) for number in game_number_list]"
   ]
  },
  {
   "cell_type": "code",
   "execution_count": 4,
   "id": "6e73347a-fb9e-448d-8a18-cefe1021689d",
   "metadata": {},
   "outputs": [],
   "source": [
    "#create lists in smaller sections \n",
    "game_number_list_pad_1 = game_number_list_pad[:500]\n",
    "game_number_list_pad_2 = game_number_list_pad[500:1000]\n",
    "game_number_list_pad_3 = game_number_list_pad[1000:]"
   ]
  },
  {
   "cell_type": "markdown",
   "id": "233334b8-eb02-4c9c-bbb2-c4e82cab3080",
   "metadata": {},
   "source": [
    "## pull game data game #'s 2022020001 - 2022020500"
   ]
  },
  {
   "cell_type": "code",
   "execution_count": 5,
   "id": "a8419900-795d-40c1-90af-6c5ea1e0b247",
   "metadata": {},
   "outputs": [],
   "source": [
    "#create the url's for each game number - 1 \n",
    "all_url_1 = []\n",
    "\n",
    "for i in range(len(game_number_list_pad_1)):\n",
    "    game_number_1 = game_number_list_pad_1[i]\n",
    "    game_number_url_1 = 'https://statsapi.web.nhl.com/api/v1/game/202202'+str(game_number_1)+'/feed/live'\n",
    "    all_url_1.append(game_number_url_1)"
   ]
  },
  {
   "cell_type": "code",
   "execution_count": 7,
   "id": "5ec9c442-ca8c-4b5d-8064-14b24d4203d7",
   "metadata": {},
   "outputs": [],
   "source": [
    "#pull the game data from NHL url 1 \n",
    "#game_data_1 = []\n",
    "\n",
    "#for i in range(len(all_url_1)):\n",
    "#    response_1 = requests.get(all_url_1[i])\n",
    "#    game_data_1.append(response_1.json())"
   ]
  },
  {
   "cell_type": "code",
   "execution_count": 8,
   "id": "8e712339-eea6-423e-8b59-7f42bbd1073b",
   "metadata": {},
   "outputs": [],
   "source": [
    "#from IPython.display import JSON\n",
    "#JSON(game_data_1)"
   ]
  },
  {
   "cell_type": "code",
   "execution_count": 48,
   "id": "45849a4a-8bd7-4831-8c3c-596ae08c80c1",
   "metadata": {},
   "outputs": [],
   "source": [
    "#empty lists for creating the player dataframe - home team \n",
    "game_num = []\n",
    "date = []\n",
    "team_id = []\n",
    "team_code = []\n",
    "player_id = []\n",
    "name = []\n",
    "shoots_catches = []\n",
    "position = []\n",
    "toi = []\n",
    "assists = []\n",
    "goals = []\n",
    "shots = []\n",
    "hits = []\n",
    "pp_goals = []\n",
    "pp_assists = []\n",
    "pim = []\n",
    "fo_perc = []\n",
    "fo_wins = []\n",
    "fo_taken = []\n",
    "takeaways = []\n",
    "giveaways = []\n",
    "sh_goals = []\n",
    "sh_assists = []\n",
    "blocked = []\n",
    "plus_minnus = []\n",
    "even_toi = []\n",
    "pp_toi = []\n",
    "sh_toi = []"
   ]
  },
  {
   "cell_type": "code",
   "execution_count": 49,
   "id": "5cca6b5b-7c08-46c6-b545-1eee7a46c887",
   "metadata": {},
   "outputs": [
    {
     "ename": "TypeError",
     "evalue": "'int' object is not iterable",
     "output_type": "error",
     "traceback": [
      "\u001b[1;31m---------------------------------------------------------------------------\u001b[0m",
      "\u001b[1;31mTypeError\u001b[0m                                 Traceback (most recent call last)",
      "\u001b[1;32m~\\AppData\\Local\\Temp\\ipykernel_10732\\3231415716.py\u001b[0m in \u001b[0;36m<module>\u001b[1;34m\u001b[0m\n\u001b[0;32m      1\u001b[0m \u001b[1;32mfor\u001b[0m \u001b[0mi\u001b[0m \u001b[1;32min\u001b[0m \u001b[0mrange\u001b[0m\u001b[1;33m(\u001b[0m\u001b[0mlen\u001b[0m\u001b[1;33m(\u001b[0m\u001b[0mgame_data_1\u001b[0m\u001b[1;33m)\u001b[0m\u001b[1;33m)\u001b[0m\u001b[1;33m:\u001b[0m\u001b[1;33m\u001b[0m\u001b[1;33m\u001b[0m\u001b[0m\n\u001b[0;32m      2\u001b[0m     \u001b[0mskaters\u001b[0m \u001b[1;33m=\u001b[0m \u001b[0mgame_data_1\u001b[0m\u001b[1;33m[\u001b[0m\u001b[0mi\u001b[0m\u001b[1;33m]\u001b[0m\u001b[1;33m[\u001b[0m\u001b[1;34m'liveData'\u001b[0m\u001b[1;33m]\u001b[0m\u001b[1;33m[\u001b[0m\u001b[1;34m'boxscore'\u001b[0m\u001b[1;33m]\u001b[0m\u001b[1;33m[\u001b[0m\u001b[1;34m'teams'\u001b[0m\u001b[1;33m]\u001b[0m\u001b[1;33m[\u001b[0m\u001b[1;34m'home'\u001b[0m\u001b[1;33m]\u001b[0m\u001b[1;33m[\u001b[0m\u001b[1;34m'players'\u001b[0m\u001b[1;33m]\u001b[0m\u001b[1;33m\u001b[0m\u001b[1;33m\u001b[0m\u001b[0m\n\u001b[1;32m----> 3\u001b[1;33m     \u001b[1;32mfor\u001b[0m \u001b[0mj\u001b[0m \u001b[1;32min\u001b[0m \u001b[0mlen\u001b[0m\u001b[1;33m(\u001b[0m\u001b[0mskaters\u001b[0m\u001b[1;33m)\u001b[0m\u001b[1;33m:\u001b[0m\u001b[1;33m\u001b[0m\u001b[1;33m\u001b[0m\u001b[0m\n\u001b[0m\u001b[0;32m      4\u001b[0m         \u001b[1;32mif\u001b[0m \u001b[0mskaters\u001b[0m\u001b[1;33m[\u001b[0m\u001b[1;34m'stats'\u001b[0m\u001b[1;33m]\u001b[0m\u001b[1;33m[\u001b[0m\u001b[1;34m'skaterStats'\u001b[0m\u001b[1;33m]\u001b[0m \u001b[1;33m>\u001b[0m \u001b[1;36m0\u001b[0m\u001b[1;33m:\u001b[0m\u001b[1;33m\u001b[0m\u001b[1;33m\u001b[0m\u001b[0m\n\u001b[0;32m      5\u001b[0m             \u001b[0mtoi\u001b[0m\u001b[1;33m.\u001b[0m\u001b[0mappend\u001b[0m\u001b[1;33m(\u001b[0m\u001b[0mskaters\u001b[0m\u001b[1;33m[\u001b[0m\u001b[1;34m'stats'\u001b[0m\u001b[1;33m]\u001b[0m\u001b[1;33m[\u001b[0m\u001b[1;34m'skaterStats'\u001b[0m\u001b[1;33m]\u001b[0m\u001b[1;33m[\u001b[0m\u001b[0mj\u001b[0m\u001b[1;33m]\u001b[0m\u001b[1;33m[\u001b[0m\u001b[1;34m'timeOnIce'\u001b[0m\u001b[1;33m]\u001b[0m\u001b[1;33m)\u001b[0m\u001b[1;33m\u001b[0m\u001b[1;33m\u001b[0m\u001b[0m\n",
      "\u001b[1;31mTypeError\u001b[0m: 'int' object is not iterable"
     ]
    }
   ],
   "source": [
    "for i in range(len(game_data_1)):\n",
    "    skaters = game_data_1[i]['liveData']['boxscore']['teams']['home']['players']\n",
    "    for j in len(skaters):\n",
    "        if skaters['stats']['skaterStats'] > 0:\n",
    "            toi.append(skaters['stats']['skaterStats'][j]['timeOnIce'])\n",
    "        else:\n",
    "            pass"
   ]
  },
  {
   "cell_type": "code",
   "execution_count": 50,
   "id": "edd6f1f6-6d6d-4fdb-b68f-f0a9074243d0",
   "metadata": {},
   "outputs": [
    {
     "data": {
      "text/plain": [
       "29"
      ]
     },
     "execution_count": 50,
     "metadata": {},
     "output_type": "execute_result"
    }
   ],
   "source": [
    "len(skaters)"
   ]
  },
  {
   "cell_type": "code",
   "execution_count": null,
   "id": "d1f6bcd1-a9e0-4478-99d5-b48b917b1aaa",
   "metadata": {},
   "outputs": [],
   "source": [
    "        if game_data_1[i]['liveData']['boxscore']['teams']['home']['players'][j]['stats'] == 0: #if there are no stats for the game \n",
    "            pass\n",
    "        else: "
   ]
  },
  {
   "cell_type": "code",
   "execution_count": 27,
   "id": "b01c2fe6-da96-4b99-ace2-dfebacde3bd9",
   "metadata": {},
   "outputs": [
    {
     "data": {
      "text/plain": [
       "29"
      ]
     },
     "execution_count": 27,
     "metadata": {},
     "output_type": "execute_result"
    }
   ],
   "source": [
    "len(game_data_1[i]['liveData']['boxscore']['teams']['home']['players'])"
   ]
  }
 ],
 "metadata": {
  "kernelspec": {
   "display_name": "lighthouse",
   "language": "python",
   "name": "lighthouse"
  },
  "language_info": {
   "codemirror_mode": {
    "name": "ipython",
    "version": 3
   },
   "file_extension": ".py",
   "mimetype": "text/x-python",
   "name": "python",
   "nbconvert_exporter": "python",
   "pygments_lexer": "ipython3",
   "version": "3.9.13"
  }
 },
 "nbformat": 4,
 "nbformat_minor": 5
}
