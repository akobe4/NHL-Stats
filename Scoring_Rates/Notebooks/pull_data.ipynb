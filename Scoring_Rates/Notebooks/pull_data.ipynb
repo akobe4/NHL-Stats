{
 "cells": [
  {
   "cell_type": "code",
   "execution_count": 1,
   "id": "cacf1222-9056-483f-aaea-41ad0271e234",
   "metadata": {},
   "outputs": [],
   "source": [
    "import pandas as pd \n",
    "import requests\n",
    "import os\n",
    "import json\n",
    "import numpy as np"
   ]
  },
  {
   "cell_type": "code",
   "execution_count": 2,
   "id": "d31d79b9-e609-477b-b9eb-01a4a04bad22",
   "metadata": {},
   "outputs": [],
   "source": [
    "#create game number list \n",
    "#game numbers range from 0001-1353\n",
    "\n",
    "game_number_list = list(range(1,1354))"
   ]
  },
  {
   "cell_type": "code",
   "execution_count": 3,
   "id": "39ff9766-c6f3-44e9-accd-62919372144c",
   "metadata": {},
   "outputs": [],
   "source": [
    "#pad the game number list with leading zeros to create a number that's 4 digits \n",
    "game_number_list_pad = [str(number).zfill(4) for number in game_number_list]"
   ]
  },
  {
   "cell_type": "code",
   "execution_count": 4,
   "id": "9da07cfb-6a73-4b46-a52c-bca95a17cbd7",
   "metadata": {},
   "outputs": [],
   "source": [
    "#create the url's for each game number\n",
    "all_url = []\n",
    "\n",
    "for i in range(len(game_number_list_pad)):\n",
    "    game_number = game_number_list_pad[i]\n",
    "    game_number_url = 'https://statsapi.web.nhl.com/api/v1/game/202202'+str(game_number)+'/feed/live'\n",
    "    all_url.append(game_number_url)"
   ]
  },
  {
   "cell_type": "code",
   "execution_count": null,
   "id": "3ca6ea62-2f30-4cfb-978f-3ad8dd3bcb76",
   "metadata": {},
   "outputs": [],
   "source": [
    "#pull the game data from NHL url\n",
    "game_data = []\n",
    "\n",
    "for i in range(len(all_url)):\n",
    "    response = requests.get(all_url[i])\n",
    "    game_data.append(response.json())"
   ]
  },
  {
   "cell_type": "code",
   "execution_count": null,
   "id": "a0810ef3-292c-4fb7-ae13-061cc54d9ddd",
   "metadata": {},
   "outputs": [],
   "source": [
    "from IPython.display import JSON\n",
    "JSON(game_data)"
   ]
  },
  {
   "cell_type": "code",
   "execution_count": null,
   "id": "75e6fea8-5e3a-44b5-93f5-3941d23b09b4",
   "metadata": {},
   "outputs": [],
   "source": [
    "# Store the JSON data in a file\n",
    "#with open(\"game_data.json\", \"w\") as file:\n",
    "#    json.dump(game_data, file)"
   ]
  },
  {
   "cell_type": "code",
   "execution_count": 5,
   "id": "9a216fd3-40da-4f04-8325-bf8ae156baf9",
   "metadata": {},
   "outputs": [],
   "source": [
    "#empty lists to create a home team info dataframe \n",
    "team_id = []\n",
    "team_code = []\n",
    "game_num = []\n",
    "date = []\n",
    "goals = []\n",
    "pim = []\n",
    "shots = []\n",
    "pp_perc = []\n",
    "ppg = []\n",
    "pp_opp = []\n",
    "fo_win = []\n",
    "blocked = []\n",
    "takeaways = []\n",
    "giveaways = []\n",
    "hits = []"
   ]
  },
  {
   "cell_type": "code",
   "execution_count": null,
   "id": "df19bf70-2089-499f-93d8-b1f234173c92",
   "metadata": {},
   "outputs": [],
   "source": [
    "#pull data from JSON into a list - for home team info \n",
    "for i in range(len(game_data)):\n",
    "    goals.append(i['liveData']['boxscore']['teams']['home']['teamStats']['teamSkaterStats']['goals'])\n",
    "    pim.append(i['liveData']['boxscore']['teams']['home']['teamStats']['teamSkaterStats']['pim'])\n",
    "    shots.append(i['liveData']['boxscore']['teams']['home']['teamStats']['teamSkaterStats']['shots'])\n",
    "    pp_perc.append(i['liveData']['boxscore']['teams']['home']['teamStats']['teamSkaterStats']['powerPlayPercentage'])\n",
    "    ppg.append(i['liveData']['boxscore']['teams']['home']['teamStats']['teamSkaterStats']['powerPlayGoals'])\n",
    "    pp_opp.append(i['liveData']['boxscore']['teams']['home']['teamStats']['teamSkaterStats']['powerPlayOpportunities'])\n",
    "    fo_win.append(i['liveData']['boxscore']['teams']['home']['teamStats']['teamSkaterStats']['faceOffWinPercentage'])\n",
    "    blocked.append(i['liveData']['boxscore']['teams']['home']['teamStats']['teamSkaterStats']['blocked'])\n",
    "    takeaways.append(i['liveData']['boxscore']['teams']['home']['teamStats']['teamSkaterStats']['takeaways'])\n",
    "    giveaways.append(i['liveData']['boxscore']['teams']['home']['teamStats']['teamSkaterStats']['giveaways'])\n",
    "    hits.append(i['liveData']['boxscore']['teams']['home']['teamStats']['teamSkaterStats']['hits'])"
   ]
  }
 ],
 "metadata": {
  "kernelspec": {
   "display_name": "lighthouse",
   "language": "python",
   "name": "lighthouse"
  },
  "language_info": {
   "codemirror_mode": {
    "name": "ipython",
    "version": 3
   },
   "file_extension": ".py",
   "mimetype": "text/x-python",
   "name": "python",
   "nbconvert_exporter": "python",
   "pygments_lexer": "ipython3",
   "version": "3.9.13"
  }
 },
 "nbformat": 4,
 "nbformat_minor": 5
}
