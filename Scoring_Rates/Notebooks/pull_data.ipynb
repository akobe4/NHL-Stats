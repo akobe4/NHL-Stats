{
 "cells": [
  {
   "cell_type": "code",
   "execution_count": 1,
   "id": "cacf1222-9056-483f-aaea-41ad0271e234",
   "metadata": {},
   "outputs": [],
   "source": [
    "import pandas as pd \n",
    "import requests\n",
    "import os\n",
    "import json\n",
    "import numpy as np"
   ]
  },
  {
   "cell_type": "code",
   "execution_count": 2,
   "id": "d31d79b9-e609-477b-b9eb-01a4a04bad22",
   "metadata": {},
   "outputs": [],
   "source": [
    "#create game number list \n",
    "#game numbers range from 0001-1353\n",
    "\n",
    "game_number_list = list(range(1,1354))"
   ]
  },
  {
   "cell_type": "code",
   "execution_count": 3,
   "id": "39ff9766-c6f3-44e9-accd-62919372144c",
   "metadata": {},
   "outputs": [],
   "source": [
    "#pad the game number list with leading zeros to create a number that's 4 digits \n",
    "game_number_list_pad = [str(number).zfill(4) for number in game_number_list]"
   ]
  },
  {
   "cell_type": "code",
   "execution_count": 4,
   "id": "4b9e4671-f486-4390-93d2-2fc07607b6df",
   "metadata": {},
   "outputs": [],
   "source": [
    "#create lists in smaller sections \n",
    "game_number_list_pad_1 = game_number_list_pad[:500]\n",
    "game_number_list_pad_2 = game_number_list_pad[500:1000]\n",
    "game_number_list_pad_3 = game_number_list_pad[1000:]"
   ]
  },
  {
   "cell_type": "markdown",
   "id": "1872db10-4640-4d3f-ae58-11493626ba28",
   "metadata": {},
   "source": [
    "## pull game data game #'s 2022020001 - 2022020500"
   ]
  },
  {
   "cell_type": "code",
   "execution_count": 5,
   "id": "9da07cfb-6a73-4b46-a52c-bca95a17cbd7",
   "metadata": {},
   "outputs": [],
   "source": [
    "#create the url's for each game number - 1 \n",
    "all_url_1 = []\n",
    "\n",
    "for i in range(len(game_number_list_pad_1)):\n",
    "    game_number_1 = game_number_list_pad_1[i]\n",
    "    game_number_url_1 = 'https://statsapi.web.nhl.com/api/v1/game/202202'+str(game_number_1)+'/feed/live'\n",
    "    all_url_1.append(game_number_url_1)"
   ]
  },
  {
   "cell_type": "code",
   "execution_count": 6,
   "id": "3ca6ea62-2f30-4cfb-978f-3ad8dd3bcb76",
   "metadata": {},
   "outputs": [],
   "source": [
    "#pull the game data from NHL url 1 \n",
    "game_data_1 = []\n",
    "\n",
    "for i in range(len(all_url_1)):\n",
    "    response_1 = requests.get(all_url_1[i])\n",
    "    game_data_1.append(response_1.json())"
   ]
  },
  {
   "cell_type": "code",
   "execution_count": null,
   "id": "a0810ef3-292c-4fb7-ae13-061cc54d9ddd",
   "metadata": {},
   "outputs": [],
   "source": [
    "from IPython.display import JSON\n",
    "JSON(game_data_1)"
   ]
  },
  {
   "cell_type": "code",
   "execution_count": null,
   "id": "75e6fea8-5e3a-44b5-93f5-3941d23b09b4",
   "metadata": {},
   "outputs": [],
   "source": [
    "# Store the JSON data in a file\n",
    "#with open(\"game_data.json\", \"w\") as file:\n",
    "#    json.dump(game_data, file)"
   ]
  },
  {
   "cell_type": "code",
   "execution_count": 7,
   "id": "9a216fd3-40da-4f04-8325-bf8ae156baf9",
   "metadata": {},
   "outputs": [],
   "source": [
    "#empty lists to create a home team info dataframe \n",
    "team_id = []\n",
    "team_code = []\n",
    "game_num = []\n",
    "date = []\n",
    "goals = []\n",
    "pim = []\n",
    "shots = []\n",
    "pp_perc = []\n",
    "ppg = []\n",
    "pp_opp = []\n",
    "fo_win = []\n",
    "blocked = []\n",
    "takeaways = []\n",
    "giveaways = []\n",
    "hits = []"
   ]
  },
  {
   "cell_type": "code",
   "execution_count": 8,
   "id": "df19bf70-2089-499f-93d8-b1f234173c92",
   "metadata": {},
   "outputs": [],
   "source": [
    "#pull data from JSON into a list - for home team info \n",
    "for i in range(len(game_data_1)):\n",
    "    team_id.append(game_data_1[i]['gameData']['teams']['home']['id'])\n",
    "    team_code.append(game_data_1[i]['gameData']['teams']['home']['triCode'])\n",
    "    game_num.append(game_data_1[i]['gameData']['game']['pk'])\n",
    "    date.append(game_data_1[i]['gameData']['datetime']['dateTime'])\n",
    "    goals.append(game_data_1[i]['liveData']['boxscore']['teams']['home']['teamStats']['teamSkaterStats']['goals'])\n",
    "    pim.append(game_data_1[i]['liveData']['boxscore']['teams']['home']['teamStats']['teamSkaterStats']['pim'])\n",
    "    shots.append(game_data_1[i]['liveData']['boxscore']['teams']['home']['teamStats']['teamSkaterStats']['shots'])\n",
    "    pp_perc.append(game_data_1[i]['liveData']['boxscore']['teams']['home']['teamStats']['teamSkaterStats']['powerPlayPercentage'])\n",
    "    ppg.append(game_data_1[i]['liveData']['boxscore']['teams']['home']['teamStats']['teamSkaterStats']['powerPlayGoals'])\n",
    "    pp_opp.append(game_data_1[i]['liveData']['boxscore']['teams']['home']['teamStats']['teamSkaterStats']['powerPlayOpportunities'])\n",
    "    fo_win.append(game_data_1[i]['liveData']['boxscore']['teams']['home']['teamStats']['teamSkaterStats']['faceOffWinPercentage'])\n",
    "    blocked.append(game_data_1[i]['liveData']['boxscore']['teams']['home']['teamStats']['teamSkaterStats']['blocked'])\n",
    "    takeaways.append(game_data_1[i]['liveData']['boxscore']['teams']['home']['teamStats']['teamSkaterStats']['takeaways'])\n",
    "    giveaways.append(game_data_1[i]['liveData']['boxscore']['teams']['home']['teamStats']['teamSkaterStats']['giveaways'])\n",
    "    hits.append(game_data_1[i]['liveData']['boxscore']['teams']['home']['teamStats']['teamSkaterStats']['hits'])"
   ]
  },
  {
   "cell_type": "code",
   "execution_count": 9,
   "id": "9b880943-ebef-431b-a73c-712a8d7ccc1d",
   "metadata": {},
   "outputs": [],
   "source": [
    "#create a data frame with the prospect information \n",
    "game_data_h = pd.DataFrame(list(zip(team_id, team_code, game_num, date, goals, pim, shots, pp_perc, ppg, pp_opp, fo_win,\n",
    "                                   blocked, takeaways, giveaways, hits)),\n",
    "               columns =['team_id', 'team_code', 'game_num', 'date', 'goals', 'pim', 'shots', 'pp_perc', 'ppg', 'pp_opp', 'fo_win',\n",
    "                                   'blocked', 'takeaways', 'giveaways', 'hits'])"
   ]
  },
  {
   "cell_type": "code",
   "execution_count": 10,
   "id": "35673705-ebf8-4963-81af-efe68745bd2c",
   "metadata": {},
   "outputs": [],
   "source": [
    "game_data_h['home_away'] = 'home'"
   ]
  },
  {
   "cell_type": "code",
   "execution_count": 11,
   "id": "78d98aba-c21a-4683-924d-09e81076f201",
   "metadata": {},
   "outputs": [],
   "source": [
    "#empty lists to create a home team info dataframe \n",
    "team_id = []\n",
    "team_code = []\n",
    "game_num = []\n",
    "date = []\n",
    "goals = []\n",
    "pim = []\n",
    "shots = []\n",
    "pp_perc = []\n",
    "ppg = []\n",
    "pp_opp = []\n",
    "fo_win = []\n",
    "blocked = []\n",
    "takeaways = []\n",
    "giveaways = []\n",
    "hits = []"
   ]
  },
  {
   "cell_type": "code",
   "execution_count": 12,
   "id": "6c494788-06d6-4a58-b595-c1e405613c8b",
   "metadata": {},
   "outputs": [],
   "source": [
    "#pull data from JSON into a list - for away team info \n",
    "for i in range(len(game_data_1)):\n",
    "    team_id.append(game_data_1[i]['gameData']['teams']['away']['id'])\n",
    "    team_code.append(game_data_1[i]['gameData']['teams']['away']['triCode'])\n",
    "    game_num.append(game_data_1[i]['gameData']['game']['pk'])\n",
    "    date.append(game_data_1[i]['gameData']['datetime']['dateTime'])\n",
    "    goals.append(game_data_1[i]['liveData']['boxscore']['teams']['away']['teamStats']['teamSkaterStats']['goals'])\n",
    "    pim.append(game_data_1[i]['liveData']['boxscore']['teams']['away']['teamStats']['teamSkaterStats']['pim'])\n",
    "    shots.append(game_data_1[i]['liveData']['boxscore']['teams']['away']['teamStats']['teamSkaterStats']['shots'])\n",
    "    pp_perc.append(game_data_1[i]['liveData']['boxscore']['teams']['away']['teamStats']['teamSkaterStats']['powerPlayPercentage'])\n",
    "    ppg.append(game_data_1[i]['liveData']['boxscore']['teams']['away']['teamStats']['teamSkaterStats']['powerPlayGoals'])\n",
    "    pp_opp.append(game_data_1[i]['liveData']['boxscore']['teams']['away']['teamStats']['teamSkaterStats']['powerPlayOpportunities'])\n",
    "    fo_win.append(game_data_1[i]['liveData']['boxscore']['teams']['away']['teamStats']['teamSkaterStats']['faceOffWinPercentage'])\n",
    "    blocked.append(game_data_1[i]['liveData']['boxscore']['teams']['away']['teamStats']['teamSkaterStats']['blocked'])\n",
    "    takeaways.append(game_data_1[i]['liveData']['boxscore']['teams']['away']['teamStats']['teamSkaterStats']['takeaways'])\n",
    "    giveaways.append(game_data_1[i]['liveData']['boxscore']['teams']['away']['teamStats']['teamSkaterStats']['giveaways'])\n",
    "    hits.append(game_data_1[i]['liveData']['boxscore']['teams']['away']['teamStats']['teamSkaterStats']['hits'])"
   ]
  },
  {
   "cell_type": "code",
   "execution_count": 13,
   "id": "c83bdaab-b447-4822-8cf8-fbd864ec5db3",
   "metadata": {},
   "outputs": [],
   "source": [
    "game_data_a = pd.DataFrame(list(zip(team_id, team_code, game_num, date, goals, pim, shots, pp_perc, ppg, pp_opp, fo_win,\n",
    "                                   blocked, takeaways, giveaways, hits)),\n",
    "               columns =['team_id', 'team_code', 'game_num', 'date', 'goals', 'pim', 'shots', 'pp_perc', 'ppg', 'pp_opp', 'fo_win',\n",
    "                                   'blocked', 'takeaways', 'giveaways', 'hits'])"
   ]
  },
  {
   "cell_type": "code",
   "execution_count": 14,
   "id": "1c37d306-4ec2-4439-b90f-359992fa7151",
   "metadata": {},
   "outputs": [],
   "source": [
    "game_data_a['home_away'] = 'away'"
   ]
  },
  {
   "cell_type": "code",
   "execution_count": 15,
   "id": "38beb7b5-64b3-4055-82f0-f06f0f96eb96",
   "metadata": {},
   "outputs": [],
   "source": [
    "#combine home and away dataframes \n",
    "frames = [game_data_h, game_data_a]\n",
    "\n",
    "game_data = pd.concat(frames)"
   ]
  },
  {
   "cell_type": "code",
   "execution_count": 1,
   "id": "c5ce7a4e-1f1d-41d1-83b5-86d5e2f32386",
   "metadata": {},
   "outputs": [],
   "source": [
    "#create a csv of the game info 0001-0500\n",
    "#game_data.to_csv('game_data_500.csv')"
   ]
  },
  {
   "cell_type": "markdown",
   "id": "f17600c8-90ca-4732-a3f7-65199c6f34ee",
   "metadata": {},
   "source": [
    "## pull game data game #'s 2022020501 - 2022021000"
   ]
  },
  {
   "cell_type": "code",
   "execution_count": 5,
   "id": "842332c1-97b6-4bb6-831a-ed8c3d489973",
   "metadata": {},
   "outputs": [],
   "source": [
    "#create the url's for each game number - 2\n",
    "all_url_2 = []\n",
    "\n",
    "for i in range(len(game_number_list_pad_2)):\n",
    "    game_number_2 = game_number_list_pad_2[i]\n",
    "    game_number_url_2 = 'https://statsapi.web.nhl.com/api/v1/game/202202'+str(game_number_2)+'/feed/live'\n",
    "    all_url_2.append(game_number_url_2)"
   ]
  },
  {
   "cell_type": "code",
   "execution_count": 6,
   "id": "8444250e-0988-4cb7-af54-1bb68b8cb56a",
   "metadata": {},
   "outputs": [],
   "source": [
    "#pull the game data from NHL url 2\n",
    "game_data_2 = []\n",
    "\n",
    "for i in range(len(all_url_2)):\n",
    "    response_2 = requests.get(all_url_2[i])\n",
    "    game_data_2.append(response_2.json())"
   ]
  },
  {
   "cell_type": "code",
   "execution_count": 8,
   "id": "dcd9c6e3-8a8b-4ac2-b885-b499fe376929",
   "metadata": {},
   "outputs": [],
   "source": [
    "# Store the JSON data in a file\n",
    "#with open(\"game_data_2.json\", \"w\") as file:\n",
    "#    json.dump(game_data_2, file)"
   ]
  },
  {
   "cell_type": "code",
   "execution_count": 11,
   "id": "352d15c9-0469-46c9-bf45-28e8cd050476",
   "metadata": {},
   "outputs": [],
   "source": [
    "#empty lists to create a home team info dataframe \n",
    "team_id = []\n",
    "team_code = []\n",
    "game_num = []\n",
    "date = []\n",
    "goals = []\n",
    "pim = []\n",
    "shots = []\n",
    "pp_perc = []\n",
    "ppg = []\n",
    "pp_opp = []\n",
    "fo_win = []\n",
    "blocked = []\n",
    "takeaways = []\n",
    "giveaways = []\n",
    "hits = []"
   ]
  },
  {
   "cell_type": "code",
   "execution_count": 12,
   "id": "30a7f959-87b8-49b6-a6ca-6d4880f75f28",
   "metadata": {},
   "outputs": [],
   "source": [
    "#pull data from JSON into a list - for home team info \n",
    "for i in range(len(game_data_2)):\n",
    "    team_id.append(game_data_2[i]['gameData']['teams']['home']['id'])\n",
    "    team_code.append(game_data_2[i]['gameData']['teams']['home']['triCode'])\n",
    "    game_num.append(game_data_2[i]['gameData']['game']['pk'])\n",
    "    date.append(game_data_2[i]['gameData']['datetime']['dateTime'])\n",
    "    goals.append(game_data_2[i]['liveData']['boxscore']['teams']['home']['teamStats']['teamSkaterStats']['goals'])\n",
    "    pim.append(game_data_2[i]['liveData']['boxscore']['teams']['home']['teamStats']['teamSkaterStats']['pim'])\n",
    "    shots.append(game_data_2[i]['liveData']['boxscore']['teams']['home']['teamStats']['teamSkaterStats']['shots'])\n",
    "    pp_perc.append(game_data_2[i]['liveData']['boxscore']['teams']['home']['teamStats']['teamSkaterStats']['powerPlayPercentage'])\n",
    "    ppg.append(game_data_2[i]['liveData']['boxscore']['teams']['home']['teamStats']['teamSkaterStats']['powerPlayGoals'])\n",
    "    pp_opp.append(game_data_2[i]['liveData']['boxscore']['teams']['home']['teamStats']['teamSkaterStats']['powerPlayOpportunities'])\n",
    "    fo_win.append(game_data_2[i]['liveData']['boxscore']['teams']['home']['teamStats']['teamSkaterStats']['faceOffWinPercentage'])\n",
    "    blocked.append(game_data_2[i]['liveData']['boxscore']['teams']['home']['teamStats']['teamSkaterStats']['blocked'])\n",
    "    takeaways.append(game_data_2[i]['liveData']['boxscore']['teams']['home']['teamStats']['teamSkaterStats']['takeaways'])\n",
    "    giveaways.append(game_data_2[i]['liveData']['boxscore']['teams']['home']['teamStats']['teamSkaterStats']['giveaways'])\n",
    "    hits.append(game_data_2[i]['liveData']['boxscore']['teams']['home']['teamStats']['teamSkaterStats']['hits'])"
   ]
  },
  {
   "cell_type": "code",
   "execution_count": 13,
   "id": "65b1bd6c-4f61-4df6-8de9-ba2e11ce81a1",
   "metadata": {},
   "outputs": [],
   "source": [
    "#create a data frame with the prospect information \n",
    "game_data_h = pd.DataFrame(list(zip(team_id, team_code, game_num, date, goals, pim, shots, pp_perc, ppg, pp_opp, fo_win,\n",
    "                                   blocked, takeaways, giveaways, hits)),\n",
    "               columns =['team_id', 'team_code', 'game_num', 'date', 'goals', 'pim', 'shots', 'pp_perc', 'ppg', 'pp_opp', 'fo_win',\n",
    "                                   'blocked', 'takeaways', 'giveaways', 'hits'])"
   ]
  },
  {
   "cell_type": "code",
   "execution_count": 14,
   "id": "10ec6e58-255a-49d5-ad19-ab362facb56a",
   "metadata": {},
   "outputs": [],
   "source": [
    "game_data_h['home_away'] = 'home'"
   ]
  },
  {
   "cell_type": "code",
   "execution_count": 15,
   "id": "7fdc228e-fec1-478d-b6c6-c17a5e9245d2",
   "metadata": {},
   "outputs": [],
   "source": [
    "#empty lists to create a away team info dataframe \n",
    "team_id = []\n",
    "team_code = []\n",
    "game_num = []\n",
    "date = []\n",
    "goals = []\n",
    "pim = []\n",
    "shots = []\n",
    "pp_perc = []\n",
    "ppg = []\n",
    "pp_opp = []\n",
    "fo_win = []\n",
    "blocked = []\n",
    "takeaways = []\n",
    "giveaways = []\n",
    "hits = []\n"
   ]
  },
  {
   "cell_type": "code",
   "execution_count": 16,
   "id": "2b105e6d-c1f6-4330-946d-a2c940d45018",
   "metadata": {},
   "outputs": [],
   "source": [
    "#pull data from JSON into a list - for away team info \n",
    "for i in range(len(game_data_2)):\n",
    "    team_id.append(game_data_2[i]['gameData']['teams']['away']['id'])\n",
    "    team_code.append(game_data_2[i]['gameData']['teams']['away']['triCode'])\n",
    "    game_num.append(game_data_2[i]['gameData']['game']['pk'])\n",
    "    date.append(game_data_2[i]['gameData']['datetime']['dateTime'])\n",
    "    goals.append(game_data_2[i]['liveData']['boxscore']['teams']['away']['teamStats']['teamSkaterStats']['goals'])\n",
    "    pim.append(game_data_2[i]['liveData']['boxscore']['teams']['away']['teamStats']['teamSkaterStats']['pim'])\n",
    "    shots.append(game_data_2[i]['liveData']['boxscore']['teams']['away']['teamStats']['teamSkaterStats']['shots'])\n",
    "    pp_perc.append(game_data_2[i]['liveData']['boxscore']['teams']['away']['teamStats']['teamSkaterStats']['powerPlayPercentage'])\n",
    "    ppg.append(game_data_2[i]['liveData']['boxscore']['teams']['away']['teamStats']['teamSkaterStats']['powerPlayGoals'])\n",
    "    pp_opp.append(game_data_2[i]['liveData']['boxscore']['teams']['away']['teamStats']['teamSkaterStats']['powerPlayOpportunities'])\n",
    "    fo_win.append(game_data_2[i]['liveData']['boxscore']['teams']['away']['teamStats']['teamSkaterStats']['faceOffWinPercentage'])\n",
    "    blocked.append(game_data_2[i]['liveData']['boxscore']['teams']['away']['teamStats']['teamSkaterStats']['blocked'])\n",
    "    takeaways.append(game_data_2[i]['liveData']['boxscore']['teams']['away']['teamStats']['teamSkaterStats']['takeaways'])\n",
    "    giveaways.append(game_data_2[i]['liveData']['boxscore']['teams']['away']['teamStats']['teamSkaterStats']['giveaways'])\n",
    "    hits.append(game_data_2[i]['liveData']['boxscore']['teams']['away']['teamStats']['teamSkaterStats']['hits'])"
   ]
  },
  {
   "cell_type": "code",
   "execution_count": 17,
   "id": "966c9b53-092d-4b56-bee7-25f99ed314da",
   "metadata": {},
   "outputs": [],
   "source": [
    "game_data_a = pd.DataFrame(list(zip(team_id, team_code, game_num, date, goals, pim, shots, pp_perc, ppg, pp_opp, fo_win,\n",
    "                                   blocked, takeaways, giveaways, hits)),\n",
    "               columns =['team_id', 'team_code', 'game_num', 'date', 'goals', 'pim', 'shots', 'pp_perc', 'ppg', 'pp_opp', 'fo_win',\n",
    "                                   'blocked', 'takeaways', 'giveaways', 'hits'])"
   ]
  },
  {
   "cell_type": "code",
   "execution_count": 18,
   "id": "7ad0578c-0f88-4530-8ede-61ddd33c9086",
   "metadata": {},
   "outputs": [],
   "source": [
    "game_data_a['home_away'] = 'away'"
   ]
  },
  {
   "cell_type": "code",
   "execution_count": 19,
   "id": "bbdd19ed-efd6-48e1-822a-349cccc40879",
   "metadata": {},
   "outputs": [],
   "source": [
    "#combine home and away dataframes \n",
    "frames = [game_data_h, game_data_a]\n",
    "\n",
    "game_data = pd.concat(frames)"
   ]
  },
  {
   "cell_type": "code",
   "execution_count": 23,
   "id": "9863e665-e5f0-4f1d-9d74-5909a5682c9f",
   "metadata": {},
   "outputs": [],
   "source": [
    "#create a csv of the game info 0501-1000\n",
    "#game_data.to_csv('game_data_1000.csv')"
   ]
  },
  {
   "cell_type": "markdown",
   "id": "791f7096-6874-4b8a-b7e2-6f1206577b40",
   "metadata": {},
   "source": [
    "## pull game data game #'s 2022021001 - 2022021354"
   ]
  },
  {
   "cell_type": "code",
   "execution_count": 5,
   "id": "1e2b127e-b666-41e0-a0a9-30848c121d1a",
   "metadata": {},
   "outputs": [],
   "source": [
    "#create the url's for each game number - 1 \n",
    "all_url_3 = []\n",
    "\n",
    "for i in range(len(game_number_list_pad_3)):\n",
    "    game_number_3 = game_number_list_pad_3[i]\n",
    "    game_number_url_3 = 'https://statsapi.web.nhl.com/api/v1/game/202202'+str(game_number_3)+'/feed/live'\n",
    "    all_url_3.append(game_number_url_3)"
   ]
  },
  {
   "cell_type": "code",
   "execution_count": 6,
   "id": "fb303a82-9309-4f8d-8854-3bd45f645b10",
   "metadata": {},
   "outputs": [],
   "source": [
    "#pull the game data from NHL url 1 \n",
    "game_data_3 = []\n",
    "\n",
    "for i in range(len(all_url_3)):\n",
    "    response_3 = requests.get(all_url_3[i])\n",
    "    game_data_3.append(response_3.json())"
   ]
  },
  {
   "cell_type": "code",
   "execution_count": 7,
   "id": "a31f7433-1999-44ba-b379-aca4f98d5ac5",
   "metadata": {},
   "outputs": [],
   "source": [
    "# Store the JSON data in a file\n",
    "with open(\"game_data_3.json\", \"w\") as file:\n",
    "    json.dump(game_data_3, file)"
   ]
  },
  {
   "cell_type": "code",
   "execution_count": 12,
   "id": "4c98e8b8-6539-4bce-b6d9-f8fc081e920c",
   "metadata": {},
   "outputs": [],
   "source": [
    "#empty lists to create a home team info dataframe \n",
    "team_id = []\n",
    "team_code = []\n",
    "game_num = []\n",
    "date = []\n",
    "goals = []\n",
    "pim = []\n",
    "shots = []\n",
    "pp_perc = []\n",
    "ppg = []\n",
    "pp_opp = []\n",
    "fo_win = []\n",
    "blocked = []\n",
    "takeaways = []\n",
    "giveaways = []\n",
    "hits = []"
   ]
  },
  {
   "cell_type": "code",
   "execution_count": 13,
   "id": "84f41c86-b2a3-4800-b9f3-6f48fffd669b",
   "metadata": {},
   "outputs": [],
   "source": [
    "#pull data from JSON into a list - for home team info \n",
    "for i in range(len(game_data_3)):\n",
    "    try:\n",
    "        team_id.append(game_data_3[i]['gameData']['teams']['home']['id'])\n",
    "        team_code.append(game_data_3[i]['gameData']['teams']['home']['triCode'])\n",
    "        game_num.append(game_data_3[i]['gameData']['game']['pk'])\n",
    "        date.append(game_data_3[i]['gameData']['datetime']['dateTime'])\n",
    "        goals.append(game_data_3[i]['liveData']['boxscore']['teams']['home']['teamStats']['teamSkaterStats']['goals'])\n",
    "        pim.append(game_data_3[i]['liveData']['boxscore']['teams']['home']['teamStats']['teamSkaterStats']['pim'])\n",
    "        shots.append(game_data_3[i]['liveData']['boxscore']['teams']['home']['teamStats']['teamSkaterStats']['shots'])\n",
    "        pp_perc.append(game_data_3[i]['liveData']['boxscore']['teams']['home']['teamStats']['teamSkaterStats']['powerPlayPercentage'])\n",
    "        ppg.append(game_data_3[i]['liveData']['boxscore']['teams']['home']['teamStats']['teamSkaterStats']['powerPlayGoals'])\n",
    "        pp_opp.append(game_data_3[i]['liveData']['boxscore']['teams']['home']['teamStats']['teamSkaterStats']['powerPlayOpportunities'])\n",
    "        fo_win.append(game_data_3[i]['liveData']['boxscore']['teams']['home']['teamStats']['teamSkaterStats']['faceOffWinPercentage'])\n",
    "        blocked.append(game_data_3[i]['liveData']['boxscore']['teams']['home']['teamStats']['teamSkaterStats']['blocked'])\n",
    "        takeaways.append(game_data_3[i]['liveData']['boxscore']['teams']['home']['teamStats']['teamSkaterStats']['takeaways'])\n",
    "        giveaways.append(game_data_3[i]['liveData']['boxscore']['teams']['home']['teamStats']['teamSkaterStats']['giveaways'])\n",
    "        hits.append(game_data_3[i]['liveData']['boxscore']['teams']['home']['teamStats']['teamSkaterStats']['hits'])\n",
    "    except KeyError:\n",
    "        team_id.append('NaN')"
   ]
  },
  {
   "cell_type": "code",
   "execution_count": 14,
   "id": "c5af61a3-d95c-41a3-bf92-79d6eb1fd3a0",
   "metadata": {},
   "outputs": [],
   "source": [
    "#create a data frame with the prospect information \n",
    "game_data_h = pd.DataFrame(list(zip(team_id, team_code, game_num, date, goals, pim, shots, pp_perc, ppg, pp_opp, fo_win,\n",
    "                                   blocked, takeaways, giveaways, hits)),\n",
    "               columns =['team_id', 'team_code', 'game_num', 'date', 'goals', 'pim', 'shots', 'pp_perc', 'ppg', 'pp_opp', 'fo_win',\n",
    "                                   'blocked', 'takeaways', 'giveaways', 'hits'])"
   ]
  },
  {
   "cell_type": "code",
   "execution_count": 15,
   "id": "96fd1b40-4bd1-4ee1-bc83-a90fcd6fe43b",
   "metadata": {},
   "outputs": [],
   "source": [
    "game_data_h['home_away'] = 'home'"
   ]
  },
  {
   "cell_type": "code",
   "execution_count": 19,
   "id": "38a0ba35-c1fc-4155-b78e-bf5672a28aa9",
   "metadata": {},
   "outputs": [],
   "source": [
    "#empty lists to create a home team info dataframe \n",
    "team_id = []\n",
    "team_code = []\n",
    "game_num = []\n",
    "date = []\n",
    "goals = []\n",
    "pim = []\n",
    "shots = []\n",
    "pp_perc = []\n",
    "ppg = []\n",
    "pp_opp = []\n",
    "fo_win = []\n",
    "blocked = []\n",
    "takeaways = []\n",
    "giveaways = []\n",
    "hits = []"
   ]
  },
  {
   "cell_type": "code",
   "execution_count": 20,
   "id": "b9da0908-2e63-4ed1-8fa7-f52bee45c1f9",
   "metadata": {},
   "outputs": [],
   "source": [
    "#pull data from JSON into a list - for away team info \n",
    "for i in range(len(game_data_3)):\n",
    "    try:\n",
    "        team_id.append(game_data_3[i]['gameData']['teams']['away']['id'])\n",
    "        team_code.append(game_data_3[i]['gameData']['teams']['away']['triCode'])\n",
    "        game_num.append(game_data_3[i]['gameData']['game']['pk'])\n",
    "        date.append(game_data_3[i]['gameData']['datetime']['dateTime'])\n",
    "        goals.append(game_data_3[i]['liveData']['boxscore']['teams']['away']['teamStats']['teamSkaterStats']['goals'])\n",
    "        pim.append(game_data_3[i]['liveData']['boxscore']['teams']['away']['teamStats']['teamSkaterStats']['pim'])\n",
    "        shots.append(game_data_3[i]['liveData']['boxscore']['teams']['away']['teamStats']['teamSkaterStats']['shots'])\n",
    "        pp_perc.append(game_data_3[i]['liveData']['boxscore']['teams']['away']['teamStats']['teamSkaterStats']['powerPlayPercentage'])\n",
    "        ppg.append(game_data_3[i]['liveData']['boxscore']['teams']['away']['teamStats']['teamSkaterStats']['powerPlayGoals'])\n",
    "        pp_opp.append(game_data_3[i]['liveData']['boxscore']['teams']['away']['teamStats']['teamSkaterStats']['powerPlayOpportunities'])\n",
    "        fo_win.append(game_data_3[i]['liveData']['boxscore']['teams']['away']['teamStats']['teamSkaterStats']['faceOffWinPercentage'])\n",
    "        blocked.append(game_data_3[i]['liveData']['boxscore']['teams']['away']['teamStats']['teamSkaterStats']['blocked'])\n",
    "        takeaways.append(game_data_3[i]['liveData']['boxscore']['teams']['away']['teamStats']['teamSkaterStats']['takeaways'])\n",
    "        giveaways.append(game_data_3[i]['liveData']['boxscore']['teams']['away']['teamStats']['teamSkaterStats']['giveaways'])\n",
    "        hits.append(game_data_3[i]['liveData']['boxscore']['teams']['away']['teamStats']['teamSkaterStats']['hits'])\n",
    "    except KeyError:\n",
    "        team_id.append('NaN')"
   ]
  },
  {
   "cell_type": "code",
   "execution_count": 21,
   "id": "ffae97d1-ce68-4627-838e-73ec979f54d2",
   "metadata": {},
   "outputs": [],
   "source": [
    "game_data_a = pd.DataFrame(list(zip(team_id, team_code, game_num, date, goals, pim, shots, pp_perc, ppg, pp_opp, fo_win,\n",
    "                                   blocked, takeaways, giveaways, hits)),\n",
    "               columns =['team_id', 'team_code', 'game_num', 'date', 'goals', 'pim', 'shots', 'pp_perc', 'ppg', 'pp_opp', 'fo_win',\n",
    "                                   'blocked', 'takeaways', 'giveaways', 'hits'])"
   ]
  },
  {
   "cell_type": "code",
   "execution_count": 22,
   "id": "7d4d0f21-8488-4f1f-ac72-0edaaad3f51d",
   "metadata": {},
   "outputs": [],
   "source": [
    "game_data_a['home_away'] = 'away'"
   ]
  },
  {
   "cell_type": "code",
   "execution_count": 25,
   "id": "0dc9ec08-be84-4649-9962-545c1ab48027",
   "metadata": {},
   "outputs": [],
   "source": [
    "#combine home and away dataframes \n",
    "frames = [game_data_h, game_data_a]\n",
    "\n",
    "game_data = pd.concat(frames)"
   ]
  },
  {
   "cell_type": "code",
   "execution_count": 27,
   "id": "71e6244a-0623-4819-962b-efda5de5335c",
   "metadata": {},
   "outputs": [],
   "source": [
    "#create a csv of the game info 1001-1354\n",
    "#game_data.to_csv('game_data_1354.csv')"
   ]
  },
  {
   "cell_type": "markdown",
   "id": "f27bd072-ccfa-476a-9da1-327b2efdaa9b",
   "metadata": {
    "tags": []
   },
   "source": [
    "## combine all the data "
   ]
  },
  {
   "cell_type": "code",
   "execution_count": 2,
   "id": "8f6a5f42-75c9-442d-8759-c948b5cf3b23",
   "metadata": {},
   "outputs": [],
   "source": [
    "#import all data\n",
    "game_data_1 = pd.read_csv(r'C:\\Users\\akobe\\OneDrive\\Desktop\\Lighthouse\\After\\NHL-Stats\\Scoring_Rates\\Data\\game_data_500.csv', index_col = [0]) #index col makes sures another index column is not needed\n",
    "game_data_2 = pd.read_csv(r'C:\\Users\\akobe\\OneDrive\\Desktop\\Lighthouse\\After\\NHL-Stats\\Scoring_Rates\\Data\\game_data_1000.csv', index_col = [0])\n",
    "game_data_3 = pd.read_csv(r'C:\\Users\\akobe\\OneDrive\\Desktop\\Lighthouse\\After\\NHL-Stats\\Scoring_Rates\\Data\\game_data_1354.csv', index_col = [0])"
   ]
  },
  {
   "cell_type": "code",
   "execution_count": 5,
   "id": "f7faff60-1064-49ee-b8f6-2e3957bc7654",
   "metadata": {},
   "outputs": [
    {
     "data": {
      "text/html": [
       "<div>\n",
       "<style scoped>\n",
       "    .dataframe tbody tr th:only-of-type {\n",
       "        vertical-align: middle;\n",
       "    }\n",
       "\n",
       "    .dataframe tbody tr th {\n",
       "        vertical-align: top;\n",
       "    }\n",
       "\n",
       "    .dataframe thead th {\n",
       "        text-align: right;\n",
       "    }\n",
       "</style>\n",
       "<table border=\"1\" class=\"dataframe\">\n",
       "  <thead>\n",
       "    <tr style=\"text-align: right;\">\n",
       "      <th></th>\n",
       "      <th>team_id</th>\n",
       "      <th>team_code</th>\n",
       "      <th>game_num</th>\n",
       "      <th>date</th>\n",
       "      <th>goals</th>\n",
       "      <th>pim</th>\n",
       "      <th>shots</th>\n",
       "      <th>pp_perc</th>\n",
       "      <th>ppg</th>\n",
       "      <th>pp_opp</th>\n",
       "      <th>fo_win</th>\n",
       "      <th>blocked</th>\n",
       "      <th>takeaways</th>\n",
       "      <th>giveaways</th>\n",
       "      <th>hits</th>\n",
       "      <th>home_away</th>\n",
       "    </tr>\n",
       "  </thead>\n",
       "  <tbody>\n",
       "    <tr>\n",
       "      <th>0</th>\n",
       "      <td>12</td>\n",
       "      <td>CAR</td>\n",
       "      <td>2022021001</td>\n",
       "      <td>2023-03-05T20:00:00Z</td>\n",
       "      <td>6</td>\n",
       "      <td>16</td>\n",
       "      <td>38</td>\n",
       "      <td>80.0</td>\n",
       "      <td>4.0</td>\n",
       "      <td>5.0</td>\n",
       "      <td>54.1</td>\n",
       "      <td>10</td>\n",
       "      <td>13</td>\n",
       "      <td>15</td>\n",
       "      <td>12</td>\n",
       "      <td>home</td>\n",
       "    </tr>\n",
       "    <tr>\n",
       "      <th>1</th>\n",
       "      <td>4</td>\n",
       "      <td>PHI</td>\n",
       "      <td>2022021002</td>\n",
       "      <td>2023-03-05T23:00:00Z</td>\n",
       "      <td>3</td>\n",
       "      <td>6</td>\n",
       "      <td>37</td>\n",
       "      <td>0.0</td>\n",
       "      <td>0.0</td>\n",
       "      <td>3.0</td>\n",
       "      <td>38.9</td>\n",
       "      <td>16</td>\n",
       "      <td>9</td>\n",
       "      <td>5</td>\n",
       "      <td>26</td>\n",
       "      <td>home</td>\n",
       "    </tr>\n",
       "    <tr>\n",
       "      <th>2</th>\n",
       "      <td>54</td>\n",
       "      <td>VGK</td>\n",
       "      <td>2022021003</td>\n",
       "      <td>2023-03-05T23:00:00Z</td>\n",
       "      <td>4</td>\n",
       "      <td>9</td>\n",
       "      <td>28</td>\n",
       "      <td>0.0</td>\n",
       "      <td>0.0</td>\n",
       "      <td>1.0</td>\n",
       "      <td>50.0</td>\n",
       "      <td>18</td>\n",
       "      <td>13</td>\n",
       "      <td>13</td>\n",
       "      <td>31</td>\n",
       "      <td>home</td>\n",
       "    </tr>\n",
       "    <tr>\n",
       "      <th>3</th>\n",
       "      <td>53</td>\n",
       "      <td>ARI</td>\n",
       "      <td>2022021004</td>\n",
       "      <td>2023-03-06T00:00:00Z</td>\n",
       "      <td>4</td>\n",
       "      <td>2</td>\n",
       "      <td>29</td>\n",
       "      <td>0.0</td>\n",
       "      <td>0.0</td>\n",
       "      <td>2.0</td>\n",
       "      <td>52.9</td>\n",
       "      <td>20</td>\n",
       "      <td>6</td>\n",
       "      <td>6</td>\n",
       "      <td>33</td>\n",
       "      <td>home</td>\n",
       "    </tr>\n",
       "    <tr>\n",
       "      <th>4</th>\n",
       "      <td>21</td>\n",
       "      <td>COL</td>\n",
       "      <td>2022021005</td>\n",
       "      <td>2023-03-06T02:00:00Z</td>\n",
       "      <td>2</td>\n",
       "      <td>10</td>\n",
       "      <td>23</td>\n",
       "      <td>0.0</td>\n",
       "      <td>0.0</td>\n",
       "      <td>2.0</td>\n",
       "      <td>57.9</td>\n",
       "      <td>17</td>\n",
       "      <td>12</td>\n",
       "      <td>8</td>\n",
       "      <td>17</td>\n",
       "      <td>home</td>\n",
       "    </tr>\n",
       "  </tbody>\n",
       "</table>\n",
       "</div>"
      ],
      "text/plain": [
       "   team_id team_code    game_num                  date  goals  pim  shots  \\\n",
       "0       12       CAR  2022021001  2023-03-05T20:00:00Z      6   16     38   \n",
       "1        4       PHI  2022021002  2023-03-05T23:00:00Z      3    6     37   \n",
       "2       54       VGK  2022021003  2023-03-05T23:00:00Z      4    9     28   \n",
       "3       53       ARI  2022021004  2023-03-06T00:00:00Z      4    2     29   \n",
       "4       21       COL  2022021005  2023-03-06T02:00:00Z      2   10     23   \n",
       "\n",
       "   pp_perc  ppg  pp_opp  fo_win  blocked  takeaways  giveaways  hits home_away  \n",
       "0     80.0  4.0     5.0    54.1       10         13         15    12      home  \n",
       "1      0.0  0.0     3.0    38.9       16          9          5    26      home  \n",
       "2      0.0  0.0     1.0    50.0       18         13         13    31      home  \n",
       "3      0.0  0.0     2.0    52.9       20          6          6    33      home  \n",
       "4      0.0  0.0     2.0    57.9       17         12          8    17      home  "
      ]
     },
     "execution_count": 5,
     "metadata": {},
     "output_type": "execute_result"
    }
   ],
   "source": [
    "game_data_3.head()"
   ]
  },
  {
   "cell_type": "code",
   "execution_count": 6,
   "id": "4f1103c6-4fc1-423b-bd88-bc9f28a53bd3",
   "metadata": {},
   "outputs": [],
   "source": [
    "#combine all the data into one file \n",
    "#combine home and away dataframes \n",
    "frames = [game_data_1, game_data_2, game_data_3]\n",
    "\n",
    "game_data = pd.concat(frames)"
   ]
  },
  {
   "cell_type": "code",
   "execution_count": 12,
   "id": "bb0498b7-c48e-4d9b-a4a7-ce00695ca74f",
   "metadata": {},
   "outputs": [],
   "source": [
    "#create a csv of all game info\n",
    "game_data.to_csv('game_data.csv')"
   ]
  }
 ],
 "metadata": {
  "kernelspec": {
   "display_name": "lighthouse",
   "language": "python",
   "name": "lighthouse"
  },
  "language_info": {
   "codemirror_mode": {
    "name": "ipython",
    "version": 3
   },
   "file_extension": ".py",
   "mimetype": "text/x-python",
   "name": "python",
   "nbconvert_exporter": "python",
   "pygments_lexer": "ipython3",
   "version": "3.9.13"
  }
 },
 "nbformat": 4,
 "nbformat_minor": 5
}
