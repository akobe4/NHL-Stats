{
 "cells": [
  {
   "cell_type": "code",
   "execution_count": 1,
   "id": "36a4c42a-8cce-4091-ae88-72ebab0df552",
   "metadata": {},
   "outputs": [],
   "source": [
    "import pandas as pd \n",
    "import requests\n",
    "import os\n",
    "import json\n",
    "import numpy as np"
   ]
  },
  {
   "cell_type": "code",
   "execution_count": 2,
   "id": "031693d8-940b-4da7-bd6b-8545fbd217e6",
   "metadata": {},
   "outputs": [],
   "source": [
    "#import data\n",
    "data = pd.read_csv(r'C:\\Users\\akobe\\OneDrive\\Desktop\\Lighthouse\\After\\NHL-Stats\\Salary\\Data\\roster_data.csv', index_col = [0]) #index col makes sures another index column is not needed"
   ]
  },
  {
   "cell_type": "code",
   "execution_count": 5,
   "id": "bd526f71-1357-4dff-ae5f-f74c48dae737",
   "metadata": {},
   "outputs": [],
   "source": [
    "# column to list using Series.tolist()\n",
    "player_code_list = data['player_id'].tolist()"
   ]
  },
  {
   "cell_type": "code",
   "execution_count": 8,
   "id": "c8c5cb5e-6da1-4153-8dee-bbaa0428d65c",
   "metadata": {},
   "outputs": [],
   "source": [
    "#getting url's for player info\n",
    "all_url = []\n",
    "for i in range(len(player_code_list)):\n",
    "    player_code = player_code_list[i]\n",
    "    player_url = 'https://api-web.nhle.com/v1/player/'+str(player_code)+'/landing'\n",
    "    all_url.append(player_url)"
   ]
  },
  {
   "cell_type": "code",
   "execution_count": 10,
   "id": "4fdaf26b-0dca-4b56-8c68-691efc42da4c",
   "metadata": {},
   "outputs": [],
   "source": [
    "player_data = []\n",
    "\n",
    "for i in range(len(all_url)):\n",
    "    response = requests.get(all_url[i])\n",
    "    player_data.append(response.json())"
   ]
  },
  {
   "cell_type": "code",
   "execution_count": 14,
   "id": "2b06bce0-4034-4846-944e-7db8b315e460",
   "metadata": {},
   "outputs": [],
   "source": [
    "#from IPython.display import JSON\n",
    "#JSON(player_data)"
   ]
  },
  {
   "cell_type": "code",
   "execution_count": 13,
   "id": "be0ba3ab-24c5-410d-8a8e-f3bb6b3e7ca4",
   "metadata": {},
   "outputs": [],
   "source": [
    "#save a JSON file\n",
    "#with open(\"player_data.json\", \"w\") as file:\n",
    "#    json.dump(player_data, file)"
   ]
  }
 ],
 "metadata": {
  "kernelspec": {
   "display_name": "lighthouse",
   "language": "python",
   "name": "lighthouse"
  },
  "language_info": {
   "codemirror_mode": {
    "name": "ipython",
    "version": 3
   },
   "file_extension": ".py",
   "mimetype": "text/x-python",
   "name": "python",
   "nbconvert_exporter": "python",
   "pygments_lexer": "ipython3",
   "version": "3.9.13"
  }
 },
 "nbformat": 4,
 "nbformat_minor": 5
}
