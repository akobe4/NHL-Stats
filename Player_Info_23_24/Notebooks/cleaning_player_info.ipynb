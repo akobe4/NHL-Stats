{
 "cells": [
  {
   "cell_type": "code",
   "execution_count": 1,
   "id": "892340b0-c615-4444-b478-3025b598cfe8",
   "metadata": {},
   "outputs": [],
   "source": [
    "import pandas as pd\n",
    "import numpy as np"
   ]
  },
  {
   "cell_type": "code",
   "execution_count": 2,
   "id": "e06a0e03-d775-4c7f-8bc4-ae8e7f404020",
   "metadata": {},
   "outputs": [],
   "source": [
    "#import data files\n",
    "draft_info = pd.read_csv(r'C:\\Users\\akobe\\OneDrive\\Desktop\\Lighthouse\\After\\NHL-Stats\\Player_Info_23_24\\Data\\draft_data.csv', index_col = [0])\n",
    "goalie_game_data = pd.read_csv(r'C:\\Users\\akobe\\OneDrive\\Desktop\\Lighthouse\\After\\NHL-Stats\\Player_Info_23_24\\Data\\player_game_data_goalies.csv', index_col = [0])\n",
    "skater_game_data = pd.read_csv(r'C:\\Users\\akobe\\OneDrive\\Desktop\\Lighthouse\\After\\NHL-Stats\\Player_Info_23_24\\Data\\player_game_data_skaters.csv', index_col = [0])\n",
    "roster = pd.read_csv(r'C:\\Users\\akobe\\OneDrive\\Desktop\\Lighthouse\\After\\NHL-Stats\\Player_Info_23_24\\Data\\roster_data.csv', index_col = [0])"
   ]
  },
  {
   "cell_type": "markdown",
   "id": "4b1a03dc-705c-40c4-bfce-b8e5b2667fdc",
   "metadata": {},
   "source": [
    "#### Remove NaN's for SQL import"
   ]
  },
  {
   "cell_type": "code",
   "execution_count": 4,
   "id": "09b343fe-879a-48ef-ada6-ec605099c22e",
   "metadata": {},
   "outputs": [],
   "source": [
    "# replace NaN's with a blank space \n",
    "\n",
    "draft_info = draft_info.replace(np.nan, '')\n",
    "goalie_game_data = goalie_game_data.replace(np.nan, '')\n",
    "skater_game_data = skater_game_data.replace(np.nan, '')\n",
    "roster = roster.replace(np.nan, '')"
   ]
  },
  {
   "cell_type": "code",
   "execution_count": 11,
   "id": "ae148dfd-adfd-4d72-a87b-32c7576e9e02",
   "metadata": {},
   "outputs": [],
   "source": [
    "#save df with the NaN's removed \n",
    "draft_info.to_csv('draft_info_clean_sql.csv', index=False)\n",
    "goalie_game_data.to_csv('goalie_game_data_clean_sql.csv', index=False)\n",
    "skater_game_data.to_csv('skater_game_data_clean_sql.csv', index=False)\n",
    "roster.to_csv('roster_clean_sql.csv', index=False)"
   ]
  }
 ],
 "metadata": {
  "kernelspec": {
   "display_name": "Python 3 (ipykernel)",
   "language": "python",
   "name": "python3"
  },
  "language_info": {
   "codemirror_mode": {
    "name": "ipython",
    "version": 3
   },
   "file_extension": ".py",
   "mimetype": "text/x-python",
   "name": "python",
   "nbconvert_exporter": "python",
   "pygments_lexer": "ipython3",
   "version": "3.9.13"
  }
 },
 "nbformat": 4,
 "nbformat_minor": 5
}
