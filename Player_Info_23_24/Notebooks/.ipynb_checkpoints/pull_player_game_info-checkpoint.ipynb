{
 "cells": [
  {
   "cell_type": "code",
   "execution_count": 1,
   "id": "3787d852-a9a9-4192-b051-81c4c00289c1",
   "metadata": {},
   "outputs": [],
   "source": [
    "import pandas as pd \n",
    "import requests\n",
    "import os\n",
    "import json\n",
    "import numpy as np"
   ]
  },
  {
   "cell_type": "code",
   "execution_count": 3,
   "id": "52044daa-0d00-4cc9-a7fa-ce34c025c8c8",
   "metadata": {},
   "outputs": [],
   "source": [
    "#import data for player id list\n",
    "data = pd.read_csv(r'C:\\Users\\akobe\\OneDrive\\Desktop\\Lighthouse\\After\\NHL-Stats\\Player_Info_23_24\\Data\\roster_data.csv', index_col = [0]) #index col makes sures another index column is not needed"
   ]
  },
  {
   "cell_type": "code",
   "execution_count": 4,
   "id": "b590d478-9b69-465c-a4a7-28e33269c9a2",
   "metadata": {},
   "outputs": [],
   "source": [
    "# column to list using Series.tolist()\n",
    "player_code_list = data['player_id'].tolist()"
   ]
  },
  {
   "cell_type": "code",
   "execution_count": 6,
   "id": "23b31384-7680-406e-8d0b-0e5fa91941bb",
   "metadata": {},
   "outputs": [],
   "source": [
    "#getting url's for player game info\n",
    "all_url = []\n",
    "for i in range(len(player_code_list)):\n",
    "    player_code = player_code_list[i]\n",
    "    player_url = 'https://api-web.nhle.com/v1/player/'+str(player_code)+'/game-log/20232024/2'\n",
    "    all_url.append(player_url)"
   ]
  },
  {
   "cell_type": "code",
   "execution_count": 8,
   "id": "d5f285a7-702d-46fc-835e-a7881bb9ebec",
   "metadata": {},
   "outputs": [],
   "source": [
    "player_game_data = []\n",
    "\n",
    "for i in range(len(all_url)):\n",
    "    response = requests.get(all_url[i])\n",
    "    player_game_data.append(response.json())"
   ]
  },
  {
   "cell_type": "code",
   "execution_count": 11,
   "id": "36c7878f-1926-4ad3-9fe0-7ff4bcffd6b2",
   "metadata": {},
   "outputs": [],
   "source": [
    "#save a JSON file\n",
    "#with open('player_game_data.json', 'w') as file:\n",
    "#    json.dump(player_game_data, file)"
   ]
  },
  {
   "cell_type": "code",
   "execution_count": 90,
   "id": "7ea33623-98ce-45c8-aeba-de13a9d88547",
   "metadata": {},
   "outputs": [],
   "source": [
    "#from IPython.display import JSON\n",
    "#JSON(player_game_data)"
   ]
  },
  {
   "cell_type": "code",
   "execution_count": 88,
   "id": "9cba2490-7d49-418c-8082-f8c356498ff7",
   "metadata": {},
   "outputs": [],
   "source": [
    "# create empty lists for df creation\n",
    "season_id = []\n",
    "game_type_id = []\n",
    "game_id = []\n",
    "player_team = []\n",
    "opponent_team = []\n",
    "home_road = []\n",
    "game_date = []\n",
    "goals = []\n",
    "assists  = []\n",
    "points = []\n",
    "plus_minus = []\n",
    "pp_goals = []\n",
    "pp_points = []\n",
    "game_winning_goals = []\n",
    "ot_goals = []\n",
    "shots = []\n",
    "shifts = []\n",
    "sh_goals = []\n",
    "sh_points = []\n",
    "pim = []\n",
    "toi = []"
   ]
  },
  {
   "cell_type": "code",
   "execution_count": 89,
   "id": "9342774a-4600-4daf-a6f9-5b1d5e120a78",
   "metadata": {},
   "outputs": [
    {
     "ename": "TypeError",
     "evalue": "list indices must be integers or slices, not dict",
     "output_type": "error",
     "traceback": [
      "\u001b[1;31m---------------------------------------------------------------------------\u001b[0m",
      "\u001b[1;31mTypeError\u001b[0m                                 Traceback (most recent call last)",
      "\u001b[1;32m~\\AppData\\Local\\Temp\\ipykernel_18508\\1386836990.py\u001b[0m in \u001b[0;36m<module>\u001b[1;34m\u001b[0m\n\u001b[0;32m      3\u001b[0m     \u001b[0mgames\u001b[0m \u001b[1;33m=\u001b[0m \u001b[0mplayer_game_data\u001b[0m\u001b[1;33m[\u001b[0m\u001b[0mi\u001b[0m\u001b[1;33m]\u001b[0m\u001b[1;33m[\u001b[0m\u001b[1;34m'gameLog'\u001b[0m\u001b[1;33m]\u001b[0m\u001b[1;33m\u001b[0m\u001b[1;33m\u001b[0m\u001b[0m\n\u001b[0;32m      4\u001b[0m     \u001b[1;32mfor\u001b[0m \u001b[0mj\u001b[0m \u001b[1;32min\u001b[0m \u001b[0mgames\u001b[0m\u001b[1;33m:\u001b[0m\u001b[1;33m\u001b[0m\u001b[1;33m\u001b[0m\u001b[0m\n\u001b[1;32m----> 5\u001b[1;33m         \u001b[1;32mif\u001b[0m \u001b[1;34m'shifts'\u001b[0m \u001b[1;32min\u001b[0m \u001b[0mgames\u001b[0m\u001b[1;33m[\u001b[0m\u001b[0mj\u001b[0m\u001b[1;33m]\u001b[0m\u001b[1;33m:\u001b[0m\u001b[1;33m\u001b[0m\u001b[1;33m\u001b[0m\u001b[0m\n\u001b[0m\u001b[0;32m      6\u001b[0m             \u001b[0mseason_id\u001b[0m\u001b[1;33m.\u001b[0m\u001b[0mappend\u001b[0m\u001b[1;33m(\u001b[0m\u001b[0mplayer_game_data\u001b[0m\u001b[1;33m[\u001b[0m\u001b[0mi\u001b[0m\u001b[1;33m]\u001b[0m\u001b[1;33m[\u001b[0m\u001b[1;34m'seasonId'\u001b[0m\u001b[1;33m]\u001b[0m\u001b[1;33m)\u001b[0m\u001b[1;33m\u001b[0m\u001b[1;33m\u001b[0m\u001b[0m\n\u001b[0;32m      7\u001b[0m             \u001b[0mgame_type_id\u001b[0m\u001b[1;33m.\u001b[0m\u001b[0mappend\u001b[0m\u001b[1;33m(\u001b[0m\u001b[0mplayer_game_data\u001b[0m\u001b[1;33m[\u001b[0m\u001b[0mi\u001b[0m\u001b[1;33m]\u001b[0m\u001b[1;33m[\u001b[0m\u001b[1;34m'gameTypeId'\u001b[0m\u001b[1;33m]\u001b[0m\u001b[1;33m)\u001b[0m\u001b[1;33m\u001b[0m\u001b[1;33m\u001b[0m\u001b[0m\n",
      "\u001b[1;31mTypeError\u001b[0m: list indices must be integers or slices, not dict"
     ]
    }
   ],
   "source": [
    "#create lists from json - player game stats (skaters)\n",
    "for i in range(len(player_game_data)):\n",
    "    games = player_game_data[i]['gameLog']\n",
    "    for j in games:\n",
    "        if 'shifts' in games[j]:\n",
    "            season_id.append(player_game_data[i]['seasonId'])\n",
    "            game_type_id.append(player_game_data[i]['gameTypeId'])\n",
    "            game_id.append(j['gameId'])\n",
    "            player_team.append(j['teamAbbrev'])\n",
    "            opponent_team.append(j['opponentAbbrev'])\n",
    "            home_road.append(j['homeRoadFlag'])\n",
    "            game_date.append(j['gameDate'])\n",
    "            goals.append(j['goals'])\n",
    "            assists.append(j['assists'])\n",
    "            points.append(j['points'])\n",
    "            plus_minus.append(j['plusMinus'])\n",
    "            pp_goals.append(j['powerPlayGoals'])\n",
    "            pp_points.append(j['powerPlayPoints'])\n",
    "            game_winning_goals.append(j['gameWinningGoals'])\n",
    "            ot_goals.append(j['otGoals'])\n",
    "            shots.append(j['shots'])\n",
    "            shifts.append(j['shifts'])\n",
    "            sh_goals.append(j['shorthandedGoals'])\n",
    "            sh_points.append(j['shorthandedPoints'])\n",
    "            pim.append(j['pim'])\n",
    "            toi.append(j['toi'])\n",
    "        else:\n",
    "            pass            "
   ]
  },
  {
   "cell_type": "code",
   "execution_count": 80,
   "id": "dafc9984-e817-4bef-83c5-96f0aabb8700",
   "metadata": {},
   "outputs": [
    {
     "data": {
      "text/plain": [
       "58"
      ]
     },
     "execution_count": 80,
     "metadata": {},
     "output_type": "execute_result"
    }
   ],
   "source": [
    "for i in range(len(game_data_2)):\n",
    "    players = game_data_2[i]['liveData']['boxscore']['teams']['away']['players']\n",
    "    for j in players:\n",
    "        if len(players[j]['stats']) > 0:\n",
    "            if 'skaterStats' in players[j]['stats']:"
   ]
  },
  {
   "cell_type": "code",
   "execution_count": null,
   "id": "8b3a76cf-69bc-4e85-a9be-92f49a262fb6",
   "metadata": {},
   "outputs": [],
   "source": [
    "#works \n",
    "\n",
    "for i in range(2):\n",
    "    for j in player_game_data[i]['gameLog']:\n",
    "\n",
    "            season_id.append(player_game_data[i]['seasonId'])\n",
    "            game_type_id.append(player_game_data[i]['gameTypeId'])\n",
    "            game_id.append(j['gameId'])\n",
    "            player_team.append(j['teamAbbrev'])\n",
    "            opponent_team.append(j['opponentAbbrev'])\n",
    "            home_road.append(j['homeRoadFlag'])\n",
    "            game_date.append(j['gameDate'])\n",
    "            goals.append(j['goals'])\n",
    "            assists.append(j['assists'])\n",
    "            points.append(j['points'])\n",
    "            plus_minus.append(j['plusMinus'])\n",
    "            pp_goals.append(j['powerPlayGoals'])\n",
    "            pp_points.append(j['powerPlayPoints'])\n",
    "            game_winning_goals.append(j['gameWinningGoals'])\n",
    "            ot_goals.append(j['otGoals'])\n",
    "            shots.append(j['shots'])\n",
    "            shifts.append(j['shifts'])\n",
    "            sh_goals.append(j['shorthandedGoals'])\n",
    "            sh_points.append(j['shorthandedPoints'])\n",
    "            pim.append(j['pim'])\n",
    "            toi.append(j['toi'])   "
   ]
  }
 ],
 "metadata": {
  "kernelspec": {
   "display_name": "lighthouse",
   "language": "python",
   "name": "lighthouse"
  },
  "language_info": {
   "codemirror_mode": {
    "name": "ipython",
    "version": 3
   },
   "file_extension": ".py",
   "mimetype": "text/x-python",
   "name": "python",
   "nbconvert_exporter": "python",
   "pygments_lexer": "ipython3",
   "version": "3.9.13"
  }
 },
 "nbformat": 4,
 "nbformat_minor": 5
}
