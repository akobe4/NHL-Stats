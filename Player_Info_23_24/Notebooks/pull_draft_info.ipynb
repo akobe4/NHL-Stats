{
 "cells": [
  {
   "cell_type": "code",
   "execution_count": 1,
   "id": "36a4c42a-8cce-4091-ae88-72ebab0df552",
   "metadata": {},
   "outputs": [],
   "source": [
    "import pandas as pd \n",
    "import requests\n",
    "import os\n",
    "import json\n",
    "import numpy as np"
   ]
  },
  {
   "cell_type": "code",
   "execution_count": 2,
   "id": "031693d8-940b-4da7-bd6b-8545fbd217e6",
   "metadata": {},
   "outputs": [],
   "source": [
    "#import data\n",
    "data = pd.read_csv(r'C:\\Users\\akobe\\OneDrive\\Desktop\\Lighthouse\\After\\NHL-Stats\\Player_Info_23_24\\Data\\roster_data.csv', index_col = [0]) #index col makes sures another index column is not needed"
   ]
  },
  {
   "cell_type": "code",
   "execution_count": 5,
   "id": "bd526f71-1357-4dff-ae5f-f74c48dae737",
   "metadata": {},
   "outputs": [],
   "source": [
    "# column to list using Series.tolist()\n",
    "player_code_list = data['player_id'].tolist()"
   ]
  },
  {
   "cell_type": "code",
   "execution_count": 8,
   "id": "c8c5cb5e-6da1-4153-8dee-bbaa0428d65c",
   "metadata": {},
   "outputs": [],
   "source": [
    "#getting url's for player info\n",
    "all_url = []\n",
    "for i in range(len(player_code_list)):\n",
    "    player_code = player_code_list[i]\n",
    "    player_url = 'https://api-web.nhle.com/v1/player/'+str(player_code)+'/landing'\n",
    "    all_url.append(player_url)"
   ]
  },
  {
   "cell_type": "code",
   "execution_count": 10,
   "id": "4fdaf26b-0dca-4b56-8c68-691efc42da4c",
   "metadata": {},
   "outputs": [],
   "source": [
    "player_data = []\n",
    "\n",
    "for i in range(len(all_url)):\n",
    "    response = requests.get(all_url[i])\n",
    "    player_data.append(response.json())"
   ]
  },
  {
   "cell_type": "code",
   "execution_count": 13,
   "id": "be0ba3ab-24c5-410d-8a8e-f3bb6b3e7ca4",
   "metadata": {},
   "outputs": [],
   "source": [
    "#save a JSON file\n",
    "#with open(\"player_data.json\", \"w\") as file:\n",
    "#    json.dump(player_data, file)"
   ]
  },
  {
   "cell_type": "markdown",
   "id": "6c6aaf3f-702b-47d6-aa1d-5bde81c544a6",
   "metadata": {},
   "source": [
    "## Creating draft data dataframe "
   ]
  },
  {
   "cell_type": "code",
   "execution_count": 2,
   "id": "7bb6c0f6-3628-4c2d-9cd5-fdfcf11a9447",
   "metadata": {},
   "outputs": [],
   "source": [
    "#import the json file \n",
    "f = open(r'C:\\Users\\akobe\\OneDrive\\Desktop\\Lighthouse\\After\\NHL-Stats\\Player_Info_23_24\\Data\\player_data.json')\n",
    "player_data = json.load(f)"
   ]
  },
  {
   "cell_type": "code",
   "execution_count": 11,
   "id": "2b06bce0-4034-4846-944e-7db8b315e460",
   "metadata": {},
   "outputs": [],
   "source": [
    "#from IPython.display import JSON\n",
    "#JSON(player_data)"
   ]
  },
  {
   "cell_type": "code",
   "execution_count": 18,
   "id": "fccfd0cc-570f-42cd-8ddd-d50ac9a74b7c",
   "metadata": {},
   "outputs": [],
   "source": [
    "#empty lists to create the draft data frame \n",
    "player_id = []\n",
    "current_team = []\n",
    "first_name = []\n",
    "last_name = []\n",
    "draft_year = []\n",
    "draft_team = []\n",
    "draft_round = []\n",
    "pick_in_round = []\n",
    "pick_overall = []"
   ]
  },
  {
   "cell_type": "code",
   "execution_count": 19,
   "id": "e40b68a9-f245-4a89-adca-dd9385b9fab7",
   "metadata": {},
   "outputs": [],
   "source": [
    "#pull data from JSON into a list - for draft dataframe \n",
    "for i in range(len(player_data)):\n",
    "    player_id.append(player_data[i]['playerId'])\n",
    "    current_team.append(player_data[i]['currentTeamAbbrev'])\n",
    "    first_name.append(player_data[i]['firstName']['default'])\n",
    "    last_name.append(player_data[i]['lastName']['default'])\n",
    "    try:\n",
    "        draft_year.append(player_data[i]['draftDetails']['year'])\n",
    "        draft_team.append(player_data[i]['draftDetails']['teamAbbrev'])\n",
    "        draft_round.append(player_data[i]['draftDetails']['round'])\n",
    "        pick_in_round.append(player_data[i]['draftDetails']['pickInRound'])   \n",
    "        pick_overall.append(player_data[i]['draftDetails']['overallPick'])\n",
    "    except KeyError: \n",
    "        draft_year.append('NaN')\n",
    "        draft_team.append('NaN')\n",
    "        draft_round.append('NaN')\n",
    "        pick_in_round.append('NaN')   \n",
    "        pick_overall.append('NaN')"
   ]
  },
  {
   "cell_type": "code",
   "execution_count": 20,
   "id": "8d3400dc-10ff-43d8-8f2c-51e5a5aee2a4",
   "metadata": {},
   "outputs": [],
   "source": [
    "#create a data frame with the draft info\n",
    "draft_data = pd.DataFrame(list(zip(player_id, current_team, first_name, last_name, draft_year, draft_team, \n",
    "                                   draft_round, pick_in_round, pick_overall)),\n",
    "               columns =['player_id', 'current_team', 'first_name', 'last_name', 'draft_year', 'draft_team', \n",
    "                                   'draft_round', 'pick_in_round', 'pick_overall'])"
   ]
  },
  {
   "cell_type": "code",
   "execution_count": 24,
   "id": "85b3a1c6-86e9-4b3d-a8a0-d198764985fb",
   "metadata": {},
   "outputs": [
    {
     "data": {
      "text/html": [
       "<div>\n",
       "<style scoped>\n",
       "    .dataframe tbody tr th:only-of-type {\n",
       "        vertical-align: middle;\n",
       "    }\n",
       "\n",
       "    .dataframe tbody tr th {\n",
       "        vertical-align: top;\n",
       "    }\n",
       "\n",
       "    .dataframe thead th {\n",
       "        text-align: right;\n",
       "    }\n",
       "</style>\n",
       "<table border=\"1\" class=\"dataframe\">\n",
       "  <thead>\n",
       "    <tr style=\"text-align: right;\">\n",
       "      <th></th>\n",
       "      <th>player_id</th>\n",
       "      <th>current_team</th>\n",
       "      <th>first_name</th>\n",
       "      <th>last_name</th>\n",
       "      <th>draft_year</th>\n",
       "      <th>draft_team</th>\n",
       "      <th>draft_round</th>\n",
       "      <th>pick_in_round</th>\n",
       "      <th>pick_overall</th>\n",
       "    </tr>\n",
       "  </thead>\n",
       "  <tbody>\n",
       "    <tr>\n",
       "      <th>0</th>\n",
       "      <td>8484153</td>\n",
       "      <td>ANA</td>\n",
       "      <td>Leo</td>\n",
       "      <td>Carlsson</td>\n",
       "      <td>2023</td>\n",
       "      <td>ANA</td>\n",
       "      <td>1</td>\n",
       "      <td>2</td>\n",
       "      <td>2</td>\n",
       "    </tr>\n",
       "    <tr>\n",
       "      <th>1</th>\n",
       "      <td>8482118</td>\n",
       "      <td>ANA</td>\n",
       "      <td>Sam</td>\n",
       "      <td>Colangelo</td>\n",
       "      <td>2020</td>\n",
       "      <td>ANA</td>\n",
       "      <td>2</td>\n",
       "      <td>5</td>\n",
       "      <td>36</td>\n",
       "    </tr>\n",
       "    <tr>\n",
       "      <th>2</th>\n",
       "      <td>8483445</td>\n",
       "      <td>ANA</td>\n",
       "      <td>Cutter</td>\n",
       "      <td>Gauthier</td>\n",
       "      <td>2022</td>\n",
       "      <td>PHI</td>\n",
       "      <td>1</td>\n",
       "      <td>5</td>\n",
       "      <td>5</td>\n",
       "    </tr>\n",
       "    <tr>\n",
       "      <th>3</th>\n",
       "      <td>8480870</td>\n",
       "      <td>ANA</td>\n",
       "      <td>Bo</td>\n",
       "      <td>Groulx</td>\n",
       "      <td>2018</td>\n",
       "      <td>ANA</td>\n",
       "      <td>2</td>\n",
       "      <td>23</td>\n",
       "      <td>54</td>\n",
       "    </tr>\n",
       "    <tr>\n",
       "      <th>4</th>\n",
       "      <td>8477527</td>\n",
       "      <td>ANA</td>\n",
       "      <td>Ross</td>\n",
       "      <td>Johnston</td>\n",
       "      <td>NaN</td>\n",
       "      <td>NaN</td>\n",
       "      <td>NaN</td>\n",
       "      <td>NaN</td>\n",
       "      <td>NaN</td>\n",
       "    </tr>\n",
       "  </tbody>\n",
       "</table>\n",
       "</div>"
      ],
      "text/plain": [
       "   player_id current_team first_name  last_name draft_year draft_team  \\\n",
       "0    8484153          ANA        Leo   Carlsson       2023        ANA   \n",
       "1    8482118          ANA        Sam  Colangelo       2020        ANA   \n",
       "2    8483445          ANA     Cutter   Gauthier       2022        PHI   \n",
       "3    8480870          ANA         Bo     Groulx       2018        ANA   \n",
       "4    8477527          ANA       Ross   Johnston        NaN        NaN   \n",
       "\n",
       "  draft_round pick_in_round pick_overall  \n",
       "0           1             2            2  \n",
       "1           2             5           36  \n",
       "2           1             5            5  \n",
       "3           2            23           54  \n",
       "4         NaN           NaN          NaN  "
      ]
     },
     "execution_count": 24,
     "metadata": {},
     "output_type": "execute_result"
    }
   ],
   "source": [
    "draft_data.head()"
   ]
  },
  {
   "cell_type": "code",
   "execution_count": 22,
   "id": "9b48bd2e-a733-428b-932d-529598507f68",
   "metadata": {},
   "outputs": [],
   "source": [
    "#create a csv of the draft info\n",
    "draft_data.to_csv('draft_data.csv')"
   ]
  }
 ],
 "metadata": {
  "kernelspec": {
   "display_name": "lighthouse",
   "language": "python",
   "name": "lighthouse"
  },
  "language_info": {
   "codemirror_mode": {
    "name": "ipython",
    "version": 3
   },
   "file_extension": ".py",
   "mimetype": "text/x-python",
   "name": "python",
   "nbconvert_exporter": "python",
   "pygments_lexer": "ipython3",
   "version": "3.9.13"
  }
 },
 "nbformat": 4,
 "nbformat_minor": 5
}
