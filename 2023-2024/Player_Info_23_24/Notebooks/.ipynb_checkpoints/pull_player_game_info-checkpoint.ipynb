{
 "cells": [
  {
   "cell_type": "code",
   "execution_count": 1,
   "id": "3787d852-a9a9-4192-b051-81c4c00289c1",
   "metadata": {},
   "outputs": [],
   "source": [
    "import pandas as pd \n",
    "import requests\n",
    "import os\n",
    "import json\n",
    "import numpy as np"
   ]
  },
  {
   "cell_type": "code",
   "execution_count": 2,
   "id": "52044daa-0d00-4cc9-a7fa-ce34c025c8c8",
   "metadata": {},
   "outputs": [],
   "source": [
    "#import data for player id list\n",
    "data = pd.read_csv(r'C:\\Users\\akobe\\OneDrive\\Desktop\\Lighthouse\\After\\NHL-Stats\\Player_Info_23_24\\Data\\roster_data.csv', index_col = [0]) #index col makes sures another index column is not needed"
   ]
  },
  {
   "cell_type": "code",
   "execution_count": 3,
   "id": "073d54a1-af35-4c4d-8191-8d2ed3070c1b",
   "metadata": {},
   "outputs": [],
   "source": [
    "#remove goalies from dataframe\n",
    "data = data[data['position'] != 'G']"
   ]
  },
  {
   "cell_type": "code",
   "execution_count": 4,
   "id": "b590d478-9b69-465c-a4a7-28e33269c9a2",
   "metadata": {},
   "outputs": [],
   "source": [
    "# column to list using Series.tolist()\n",
    "player_code_list = data['player_id'].tolist()"
   ]
  },
  {
   "cell_type": "code",
   "execution_count": 5,
   "id": "23b31384-7680-406e-8d0b-0e5fa91941bb",
   "metadata": {},
   "outputs": [],
   "source": [
    "#getting url's for player game info\n",
    "all_url = []\n",
    "for i in range(len(player_code_list)):\n",
    "    player_code = player_code_list[i]\n",
    "    player_url = 'https://api-web.nhle.com/v1/player/'+str(player_code)+'/game-log/20232024/2'\n",
    "    all_url.append(player_url)"
   ]
  },
  {
   "cell_type": "code",
   "execution_count": 6,
   "id": "d5f285a7-702d-46fc-835e-a7881bb9ebec",
   "metadata": {},
   "outputs": [],
   "source": [
    "player_game_data = []\n",
    "\n",
    "for i in range(len(all_url)):\n",
    "    response = requests.get(all_url[i])\n",
    "    player_game_data.append(response.json())"
   ]
  },
  {
   "cell_type": "code",
   "execution_count": 14,
   "id": "36c7878f-1926-4ad3-9fe0-7ff4bcffd6b2",
   "metadata": {},
   "outputs": [],
   "source": [
    "#save a JSON file\n",
    "#with open('player_game_data.json', 'w') as file:\n",
    "#    json.dump(player_game_data, file)"
   ]
  },
  {
   "cell_type": "code",
   "execution_count": 6,
   "id": "715a1f45-05d6-4d71-907a-dfd77d44b42b",
   "metadata": {},
   "outputs": [],
   "source": [
    "#import the json file \n",
    "f = open(r'C:\\Users\\akobe\\OneDrive\\Desktop\\Lighthouse\\After\\NHL-Stats\\Player_Info_23_24\\Data\\player_game_data.json')\n",
    "player_game_data = json.load(f)"
   ]
  },
  {
   "cell_type": "code",
   "execution_count": 15,
   "id": "7ea33623-98ce-45c8-aeba-de13a9d88547",
   "metadata": {},
   "outputs": [],
   "source": [
    "#from IPython.display import JSON\n",
    "#JSON(player_game_data)"
   ]
  },
  {
   "cell_type": "code",
   "execution_count": 18,
   "id": "9cba2490-7d49-418c-8082-f8c356498ff7",
   "metadata": {},
   "outputs": [],
   "source": [
    "# create empty lists for df creation\n",
    "season_id = []\n",
    "game_type_id = []\n",
    "game_id = []\n",
    "player_team = []\n",
    "opponent_team = []\n",
    "home_road = []\n",
    "game_date = []\n",
    "goals = []\n",
    "assists  = []\n",
    "points = []\n",
    "plus_minus = []\n",
    "pp_goals = []\n",
    "pp_points = []\n",
    "game_winning_goals = []\n",
    "ot_goals = []\n",
    "shots = []\n",
    "shifts = []\n",
    "sh_goals = []\n",
    "sh_points = []\n",
    "pim = []\n",
    "toi = []\n",
    "player_id = []"
   ]
  },
  {
   "cell_type": "code",
   "execution_count": 19,
   "id": "9342774a-4600-4daf-a6f9-5b1d5e120a78",
   "metadata": {},
   "outputs": [],
   "source": [
    "#create lists from json - player game stats (skaters)\n",
    "for i in range(len(player_game_data)):\n",
    "    for j in player_game_data[i]['gameLog']:\n",
    "            season_id.append(player_game_data[i]['seasonId'])\n",
    "            game_type_id.append(player_game_data[i]['gameTypeId'])\n",
    "            game_id.append(j['gameId'])\n",
    "            player_team.append(j['teamAbbrev'])\n",
    "            opponent_team.append(j['opponentAbbrev'])\n",
    "            home_road.append(j['homeRoadFlag'])\n",
    "            game_date.append(j['gameDate'])\n",
    "            player_id.append(player_code_list[i])\n",
    "            goals.append(j['goals'])\n",
    "            assists.append(j['assists'])\n",
    "            shifts.append(j['shifts'])\n",
    "            points.append(j['points'])\n",
    "            plus_minus.append(j['plusMinus'])\n",
    "            pp_goals.append(j['powerPlayGoals'])\n",
    "            pp_points.append(j['powerPlayPoints'])\n",
    "            game_winning_goals.append(j['gameWinningGoals'])\n",
    "            ot_goals.append(j['otGoals'])\n",
    "            shots.append(j['shots'])\n",
    "            sh_goals.append(j['shorthandedGoals'])\n",
    "            sh_points.append(j['shorthandedPoints'])\n",
    "            pim.append(j['pim'])\n",
    "            toi.append(j['toi'])"
   ]
  },
  {
   "cell_type": "code",
   "execution_count": 20,
   "id": "f3c7db1f-24bc-4b3e-bcb6-a54317312882",
   "metadata": {},
   "outputs": [],
   "source": [
    "#create a data frame with skaters info\n",
    "player_game_data_skaters = pd.DataFrame(list(zip(season_id, game_type_id, game_id, player_team, opponent_team, home_road, game_date, player_id,\n",
    "                                                 goals, assists, points, plus_minus, pp_goals, pp_points, game_winning_goals, ot_goals,\n",
    "                                                 shots, shifts, sh_goals, sh_points, pim, toi)),\n",
    "               columns =['season_id', 'game_type_id', 'game_id', 'player_team', 'opponent_team', 'home_road', 'game_date', 'player_id',\n",
    "                                'goals', 'assists', 'points', 'plus_minus', 'pp_goals', 'pp_points', 'game_winning_goals', \n",
    "                                'ot_goals', 'shots', 'shifts', 'sh_goals', 'sh_points', 'pim', 'toi'])"
   ]
  },
  {
   "cell_type": "code",
   "execution_count": 24,
   "id": "8c9d7829-446a-44e0-8359-42658f8ac4bb",
   "metadata": {},
   "outputs": [],
   "source": [
    "#create a csv of player info\n",
    "#player_game_data_skaters.to_csv('player_game_data_skaters.csv')"
   ]
  },
  {
   "cell_type": "markdown",
   "id": "9d343019-3903-4ee1-b7f6-722ca8f90832",
   "metadata": {},
   "source": [
    "## Pull goalie game data "
   ]
  },
  {
   "cell_type": "code",
   "execution_count": 2,
   "id": "0fbaf54b-97c6-466a-8e78-dd431ca980c5",
   "metadata": {},
   "outputs": [],
   "source": [
    "#import data for player id list\n",
    "data = pd.read_csv(r'C:\\Users\\akobe\\OneDrive\\Desktop\\Lighthouse\\After\\NHL-Stats\\Player_Info_23_24\\Data\\roster_data.csv', index_col = [0]) #index col makes sures another index column is not needed"
   ]
  },
  {
   "cell_type": "code",
   "execution_count": 3,
   "id": "c0d9a992-851a-430a-bf72-3795f34ed4d9",
   "metadata": {},
   "outputs": [],
   "source": [
    "#remove skaters from dataframe\n",
    "data = data[data['position'] == 'G']"
   ]
  },
  {
   "cell_type": "code",
   "execution_count": 4,
   "id": "b13e008c-0e4e-49f5-b533-321ff904d9ef",
   "metadata": {},
   "outputs": [],
   "source": [
    "# column to list using Series.tolist()\n",
    "player_code_list = data['player_id'].tolist()"
   ]
  },
  {
   "cell_type": "code",
   "execution_count": 7,
   "id": "c354d149-5034-40ca-9d15-815fd5547ece",
   "metadata": {},
   "outputs": [],
   "source": [
    "#getting url's for player game info\n",
    "all_url = []\n",
    "for i in range(len(player_code_list)):\n",
    "    player_code = player_code_list[i]\n",
    "    player_url = 'https://api-web.nhle.com/v1/player/'+str(player_code)+'/game-log/20232024/2'\n",
    "    all_url.append(player_url)"
   ]
  },
  {
   "cell_type": "code",
   "execution_count": 9,
   "id": "29e273e6-013f-4d3c-b4c5-3c698ff43b29",
   "metadata": {},
   "outputs": [],
   "source": [
    "player_game_data = []\n",
    "\n",
    "for i in range(len(all_url)):\n",
    "    response = requests.get(all_url[i])\n",
    "    player_game_data.append(response.json())"
   ]
  },
  {
   "cell_type": "code",
   "execution_count": 11,
   "id": "ae43d152-0034-4f96-86f0-c2a3985d2533",
   "metadata": {},
   "outputs": [],
   "source": [
    "#save a JSON file\n",
    "with open('player_game_data_goalies.json', 'w') as file:\n",
    "    json.dump(player_game_data, file)"
   ]
  },
  {
   "cell_type": "code",
   "execution_count": 13,
   "id": "dba8ac4b-29f3-4d9e-bd28-8e6cc35669c7",
   "metadata": {},
   "outputs": [],
   "source": [
    "#from IPython.display import JSON\n",
    "#JSON(player_game_data)"
   ]
  },
  {
   "cell_type": "code",
   "execution_count": 22,
   "id": "7d4602b0-fe8a-4339-8a23-c06d2805c01f",
   "metadata": {},
   "outputs": [],
   "source": [
    "# create empty lists for df creation\n",
    "season_id = []\n",
    "game_type_id = []\n",
    "game_id = []\n",
    "player_team = []\n",
    "opponent_team = []\n",
    "home_road = []\n",
    "game_date = []\n",
    "player_id = []\n",
    "goals = []\n",
    "assists  = []\n",
    "games_started = []\n",
    "decision = []\n",
    "shots_against = []\n",
    "goals_against = []\n",
    "save_perc = []\n",
    "so = []\n",
    "pim = []\n",
    "toi = []"
   ]
  },
  {
   "cell_type": "code",
   "execution_count": 23,
   "id": "7f48f47e-a2ac-413b-9780-0dc49264134a",
   "metadata": {},
   "outputs": [],
   "source": [
    "#create lists from json - player game stats (goalies)\n",
    "for i in range(len(player_game_data)):\n",
    "    for j in player_game_data[i]['gameLog']:\n",
    "            try:\n",
    "                season_id.append(player_game_data[i]['seasonId'])\n",
    "                game_type_id.append(player_game_data[i]['gameTypeId'])\n",
    "                game_id.append(j['gameId'])\n",
    "                player_team.append(j['teamAbbrev'])\n",
    "                opponent_team.append(j['opponentAbbrev'])\n",
    "                home_road.append(j['homeRoadFlag'])\n",
    "                game_date.append(j['gameDate'])\n",
    "                player_id.append(player_code_list[i])\n",
    "                goals.append(j['goals'])\n",
    "                assists.append(j['assists'])\n",
    "                games_started.append(j['gamesStarted'])\n",
    "                decision.append(j['decision'])\n",
    "                shots_against.append(j['shotsAgainst'])\n",
    "                goals_against.append(j['goalsAgainst'])\n",
    "                save_perc.append(j['savePctg'])\n",
    "                so.append(j['shutouts'])\n",
    "                pim.append(j['pim'])\n",
    "                toi.append(j['toi'])\n",
    "            except KeyError:\n",
    "                decision.append('NaN')"
   ]
  },
  {
   "cell_type": "code",
   "execution_count": 28,
   "id": "ce738d8f-dde1-4995-a2e5-39ce1c7f8218",
   "metadata": {},
   "outputs": [],
   "source": [
    "#create a data frame with goalies info\n",
    "player_game_data_goalies = pd.DataFrame(list(zip(season_id, game_type_id, game_id, player_team, opponent_team, home_road,\n",
    "                                                    game_date, player_id, goals, assists, games_started, decision, shots_against,\n",
    "                                                    goals_against, save_perc, so, pim, toi)),\n",
    "               columns =['season_id', 'game_type_id', 'game_id', 'player_team', 'opponent_team', 'home_road',\n",
    "                            'game_date', 'player_id', 'goals', 'assists', 'games_started', 'decision', 'shots_against',\n",
    "                            'goals_against', 'save_perc', 'so', 'pim', 'toi'])"
   ]
  },
  {
   "cell_type": "code",
   "execution_count": 31,
   "id": "d8e4e70f-1242-48df-9cd6-b4131583c27f",
   "metadata": {},
   "outputs": [],
   "source": [
    "#create a csv of player info\n",
    "#player_game_data_goalies.to_csv('player_game_data_goalies.csv')"
   ]
  }
 ],
 "metadata": {
  "kernelspec": {
   "display_name": "lighthouse",
   "language": "python",
   "name": "lighthouse"
  },
  "language_info": {
   "codemirror_mode": {
    "name": "ipython",
    "version": 3
   },
   "file_extension": ".py",
   "mimetype": "text/x-python",
   "name": "python",
   "nbconvert_exporter": "python",
   "pygments_lexer": "ipython3",
   "version": "3.9.13"
  }
 },
 "nbformat": 4,
 "nbformat_minor": 5
}
